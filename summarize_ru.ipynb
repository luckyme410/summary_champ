{
  "nbformat": 4,
  "nbformat_minor": 0,
  "metadata": {
    "colab": {
      "provenance": [],
      "gpuType": "T4",
      "authorship_tag": "ABX9TyOspVztAcGMOOOdBcplLUoI",
      "include_colab_link": true
    },
    "kernelspec": {
      "name": "python3",
      "display_name": "Python 3"
    },
    "language_info": {
      "name": "python"
    },
    "widgets": {
      "application/vnd.jupyter.widget-state+json": {
        "5ba7dd820b704b4d9e7eb1f32a080279": {
          "model_module": "@jupyter-widgets/controls",
          "model_name": "HBoxModel",
          "model_module_version": "1.5.0",
          "state": {
            "_dom_classes": [],
            "_model_module": "@jupyter-widgets/controls",
            "_model_module_version": "1.5.0",
            "_model_name": "HBoxModel",
            "_view_count": null,
            "_view_module": "@jupyter-widgets/controls",
            "_view_module_version": "1.5.0",
            "_view_name": "HBoxView",
            "box_style": "",
            "children": [
              "IPY_MODEL_e22672495aed4f3eaf38d7777c366507",
              "IPY_MODEL_0f4dd53cfdd24801a8570eab864e2922",
              "IPY_MODEL_8d41a486c55a482e9baeb9f14f8bacb8"
            ],
            "layout": "IPY_MODEL_885ad9d06b9546a9a4e6b025f2ccd944"
          }
        },
        "e22672495aed4f3eaf38d7777c366507": {
          "model_module": "@jupyter-widgets/controls",
          "model_name": "HTMLModel",
          "model_module_version": "1.5.0",
          "state": {
            "_dom_classes": [],
            "_model_module": "@jupyter-widgets/controls",
            "_model_module_version": "1.5.0",
            "_model_name": "HTMLModel",
            "_view_count": null,
            "_view_module": "@jupyter-widgets/controls",
            "_view_module_version": "1.5.0",
            "_view_name": "HTMLView",
            "description": "",
            "description_tooltip": null,
            "layout": "IPY_MODEL_4b21160bfac44d77833819c7ffdf0444",
            "placeholder": "​",
            "style": "IPY_MODEL_8e6389eefdec4c198e8c401e3f4e3609",
            "value": "Downloading builder script: 100%"
          }
        },
        "0f4dd53cfdd24801a8570eab864e2922": {
          "model_module": "@jupyter-widgets/controls",
          "model_name": "FloatProgressModel",
          "model_module_version": "1.5.0",
          "state": {
            "_dom_classes": [],
            "_model_module": "@jupyter-widgets/controls",
            "_model_module_version": "1.5.0",
            "_model_name": "FloatProgressModel",
            "_view_count": null,
            "_view_module": "@jupyter-widgets/controls",
            "_view_module_version": "1.5.0",
            "_view_name": "ProgressView",
            "bar_style": "success",
            "description": "",
            "description_tooltip": null,
            "layout": "IPY_MODEL_431007c7988d4ae5af66c4571215ed8d",
            "max": 6270,
            "min": 0,
            "orientation": "horizontal",
            "style": "IPY_MODEL_fec776d7ce6c4e3fb4a0572065492063",
            "value": 6270
          }
        },
        "8d41a486c55a482e9baeb9f14f8bacb8": {
          "model_module": "@jupyter-widgets/controls",
          "model_name": "HTMLModel",
          "model_module_version": "1.5.0",
          "state": {
            "_dom_classes": [],
            "_model_module": "@jupyter-widgets/controls",
            "_model_module_version": "1.5.0",
            "_model_name": "HTMLModel",
            "_view_count": null,
            "_view_module": "@jupyter-widgets/controls",
            "_view_module_version": "1.5.0",
            "_view_name": "HTMLView",
            "description": "",
            "description_tooltip": null,
            "layout": "IPY_MODEL_d36d4d260a904ea78291d32a61702f4f",
            "placeholder": "​",
            "style": "IPY_MODEL_c3a4567ce5054f7a872101425598bcb6",
            "value": " 6.27k/6.27k [00:00&lt;00:00, 301kB/s]"
          }
        },
        "885ad9d06b9546a9a4e6b025f2ccd944": {
          "model_module": "@jupyter-widgets/base",
          "model_name": "LayoutModel",
          "model_module_version": "1.2.0",
          "state": {
            "_model_module": "@jupyter-widgets/base",
            "_model_module_version": "1.2.0",
            "_model_name": "LayoutModel",
            "_view_count": null,
            "_view_module": "@jupyter-widgets/base",
            "_view_module_version": "1.2.0",
            "_view_name": "LayoutView",
            "align_content": null,
            "align_items": null,
            "align_self": null,
            "border": null,
            "bottom": null,
            "display": null,
            "flex": null,
            "flex_flow": null,
            "grid_area": null,
            "grid_auto_columns": null,
            "grid_auto_flow": null,
            "grid_auto_rows": null,
            "grid_column": null,
            "grid_gap": null,
            "grid_row": null,
            "grid_template_areas": null,
            "grid_template_columns": null,
            "grid_template_rows": null,
            "height": null,
            "justify_content": null,
            "justify_items": null,
            "left": null,
            "margin": null,
            "max_height": null,
            "max_width": null,
            "min_height": null,
            "min_width": null,
            "object_fit": null,
            "object_position": null,
            "order": null,
            "overflow": null,
            "overflow_x": null,
            "overflow_y": null,
            "padding": null,
            "right": null,
            "top": null,
            "visibility": null,
            "width": null
          }
        },
        "4b21160bfac44d77833819c7ffdf0444": {
          "model_module": "@jupyter-widgets/base",
          "model_name": "LayoutModel",
          "model_module_version": "1.2.0",
          "state": {
            "_model_module": "@jupyter-widgets/base",
            "_model_module_version": "1.2.0",
            "_model_name": "LayoutModel",
            "_view_count": null,
            "_view_module": "@jupyter-widgets/base",
            "_view_module_version": "1.2.0",
            "_view_name": "LayoutView",
            "align_content": null,
            "align_items": null,
            "align_self": null,
            "border": null,
            "bottom": null,
            "display": null,
            "flex": null,
            "flex_flow": null,
            "grid_area": null,
            "grid_auto_columns": null,
            "grid_auto_flow": null,
            "grid_auto_rows": null,
            "grid_column": null,
            "grid_gap": null,
            "grid_row": null,
            "grid_template_areas": null,
            "grid_template_columns": null,
            "grid_template_rows": null,
            "height": null,
            "justify_content": null,
            "justify_items": null,
            "left": null,
            "margin": null,
            "max_height": null,
            "max_width": null,
            "min_height": null,
            "min_width": null,
            "object_fit": null,
            "object_position": null,
            "order": null,
            "overflow": null,
            "overflow_x": null,
            "overflow_y": null,
            "padding": null,
            "right": null,
            "top": null,
            "visibility": null,
            "width": null
          }
        },
        "8e6389eefdec4c198e8c401e3f4e3609": {
          "model_module": "@jupyter-widgets/controls",
          "model_name": "DescriptionStyleModel",
          "model_module_version": "1.5.0",
          "state": {
            "_model_module": "@jupyter-widgets/controls",
            "_model_module_version": "1.5.0",
            "_model_name": "DescriptionStyleModel",
            "_view_count": null,
            "_view_module": "@jupyter-widgets/base",
            "_view_module_version": "1.2.0",
            "_view_name": "StyleView",
            "description_width": ""
          }
        },
        "431007c7988d4ae5af66c4571215ed8d": {
          "model_module": "@jupyter-widgets/base",
          "model_name": "LayoutModel",
          "model_module_version": "1.2.0",
          "state": {
            "_model_module": "@jupyter-widgets/base",
            "_model_module_version": "1.2.0",
            "_model_name": "LayoutModel",
            "_view_count": null,
            "_view_module": "@jupyter-widgets/base",
            "_view_module_version": "1.2.0",
            "_view_name": "LayoutView",
            "align_content": null,
            "align_items": null,
            "align_self": null,
            "border": null,
            "bottom": null,
            "display": null,
            "flex": null,
            "flex_flow": null,
            "grid_area": null,
            "grid_auto_columns": null,
            "grid_auto_flow": null,
            "grid_auto_rows": null,
            "grid_column": null,
            "grid_gap": null,
            "grid_row": null,
            "grid_template_areas": null,
            "grid_template_columns": null,
            "grid_template_rows": null,
            "height": null,
            "justify_content": null,
            "justify_items": null,
            "left": null,
            "margin": null,
            "max_height": null,
            "max_width": null,
            "min_height": null,
            "min_width": null,
            "object_fit": null,
            "object_position": null,
            "order": null,
            "overflow": null,
            "overflow_x": null,
            "overflow_y": null,
            "padding": null,
            "right": null,
            "top": null,
            "visibility": null,
            "width": null
          }
        },
        "fec776d7ce6c4e3fb4a0572065492063": {
          "model_module": "@jupyter-widgets/controls",
          "model_name": "ProgressStyleModel",
          "model_module_version": "1.5.0",
          "state": {
            "_model_module": "@jupyter-widgets/controls",
            "_model_module_version": "1.5.0",
            "_model_name": "ProgressStyleModel",
            "_view_count": null,
            "_view_module": "@jupyter-widgets/base",
            "_view_module_version": "1.2.0",
            "_view_name": "StyleView",
            "bar_color": null,
            "description_width": ""
          }
        },
        "d36d4d260a904ea78291d32a61702f4f": {
          "model_module": "@jupyter-widgets/base",
          "model_name": "LayoutModel",
          "model_module_version": "1.2.0",
          "state": {
            "_model_module": "@jupyter-widgets/base",
            "_model_module_version": "1.2.0",
            "_model_name": "LayoutModel",
            "_view_count": null,
            "_view_module": "@jupyter-widgets/base",
            "_view_module_version": "1.2.0",
            "_view_name": "LayoutView",
            "align_content": null,
            "align_items": null,
            "align_self": null,
            "border": null,
            "bottom": null,
            "display": null,
            "flex": null,
            "flex_flow": null,
            "grid_area": null,
            "grid_auto_columns": null,
            "grid_auto_flow": null,
            "grid_auto_rows": null,
            "grid_column": null,
            "grid_gap": null,
            "grid_row": null,
            "grid_template_areas": null,
            "grid_template_columns": null,
            "grid_template_rows": null,
            "height": null,
            "justify_content": null,
            "justify_items": null,
            "left": null,
            "margin": null,
            "max_height": null,
            "max_width": null,
            "min_height": null,
            "min_width": null,
            "object_fit": null,
            "object_position": null,
            "order": null,
            "overflow": null,
            "overflow_x": null,
            "overflow_y": null,
            "padding": null,
            "right": null,
            "top": null,
            "visibility": null,
            "width": null
          }
        },
        "c3a4567ce5054f7a872101425598bcb6": {
          "model_module": "@jupyter-widgets/controls",
          "model_name": "DescriptionStyleModel",
          "model_module_version": "1.5.0",
          "state": {
            "_model_module": "@jupyter-widgets/controls",
            "_model_module_version": "1.5.0",
            "_model_name": "DescriptionStyleModel",
            "_view_count": null,
            "_view_module": "@jupyter-widgets/base",
            "_view_module_version": "1.2.0",
            "_view_name": "StyleView",
            "description_width": ""
          }
        },
        "97700a133a694d96b8ead98758fdd62d": {
          "model_module": "@jupyter-widgets/controls",
          "model_name": "HBoxModel",
          "model_module_version": "1.5.0",
          "state": {
            "_dom_classes": [],
            "_model_module": "@jupyter-widgets/controls",
            "_model_module_version": "1.5.0",
            "_model_name": "HBoxModel",
            "_view_count": null,
            "_view_module": "@jupyter-widgets/controls",
            "_view_module_version": "1.5.0",
            "_view_name": "HBoxView",
            "box_style": "",
            "children": [
              "IPY_MODEL_f92355c9954c49959aede7daf2c1f68d",
              "IPY_MODEL_07653e57158843e09f38d548e47319b7",
              "IPY_MODEL_490e2c5eea374d4994c9c4855db1aa30"
            ],
            "layout": "IPY_MODEL_4c4d8d3a759341e7bec41964e334676f"
          }
        },
        "f92355c9954c49959aede7daf2c1f68d": {
          "model_module": "@jupyter-widgets/controls",
          "model_name": "HTMLModel",
          "model_module_version": "1.5.0",
          "state": {
            "_dom_classes": [],
            "_model_module": "@jupyter-widgets/controls",
            "_model_module_version": "1.5.0",
            "_model_name": "HTMLModel",
            "_view_count": null,
            "_view_module": "@jupyter-widgets/controls",
            "_view_module_version": "1.5.0",
            "_view_name": "HTMLView",
            "description": "",
            "description_tooltip": null,
            "layout": "IPY_MODEL_2993b8a3ff03451894b6eb93ecda90ed",
            "placeholder": "​",
            "style": "IPY_MODEL_bbf365a9261a435aaecc96b790a57c61",
            "value": "Downloading builder script: 100%"
          }
        },
        "07653e57158843e09f38d548e47319b7": {
          "model_module": "@jupyter-widgets/controls",
          "model_name": "FloatProgressModel",
          "model_module_version": "1.5.0",
          "state": {
            "_dom_classes": [],
            "_model_module": "@jupyter-widgets/controls",
            "_model_module_version": "1.5.0",
            "_model_name": "FloatProgressModel",
            "_view_count": null,
            "_view_module": "@jupyter-widgets/controls",
            "_view_module_version": "1.5.0",
            "_view_name": "ProgressView",
            "bar_style": "success",
            "description": "",
            "description_tooltip": null,
            "layout": "IPY_MODEL_1f4b32390c24436c92d61f53e5bd4d83",
            "max": 7021,
            "min": 0,
            "orientation": "horizontal",
            "style": "IPY_MODEL_41ad94bebfbd421cbe042ac6ac0493f4",
            "value": 7021
          }
        },
        "490e2c5eea374d4994c9c4855db1aa30": {
          "model_module": "@jupyter-widgets/controls",
          "model_name": "HTMLModel",
          "model_module_version": "1.5.0",
          "state": {
            "_dom_classes": [],
            "_model_module": "@jupyter-widgets/controls",
            "_model_module_version": "1.5.0",
            "_model_name": "HTMLModel",
            "_view_count": null,
            "_view_module": "@jupyter-widgets/controls",
            "_view_module_version": "1.5.0",
            "_view_name": "HTMLView",
            "description": "",
            "description_tooltip": null,
            "layout": "IPY_MODEL_f8ce19c5a0cd4af8a0c310fa9ffb250f",
            "placeholder": "​",
            "style": "IPY_MODEL_67fa8a3eaad448b4a289c035cd4ad1b9",
            "value": " 7.02k/7.02k [00:00&lt;00:00, 322kB/s]"
          }
        },
        "4c4d8d3a759341e7bec41964e334676f": {
          "model_module": "@jupyter-widgets/base",
          "model_name": "LayoutModel",
          "model_module_version": "1.2.0",
          "state": {
            "_model_module": "@jupyter-widgets/base",
            "_model_module_version": "1.2.0",
            "_model_name": "LayoutModel",
            "_view_count": null,
            "_view_module": "@jupyter-widgets/base",
            "_view_module_version": "1.2.0",
            "_view_name": "LayoutView",
            "align_content": null,
            "align_items": null,
            "align_self": null,
            "border": null,
            "bottom": null,
            "display": null,
            "flex": null,
            "flex_flow": null,
            "grid_area": null,
            "grid_auto_columns": null,
            "grid_auto_flow": null,
            "grid_auto_rows": null,
            "grid_column": null,
            "grid_gap": null,
            "grid_row": null,
            "grid_template_areas": null,
            "grid_template_columns": null,
            "grid_template_rows": null,
            "height": null,
            "justify_content": null,
            "justify_items": null,
            "left": null,
            "margin": null,
            "max_height": null,
            "max_width": null,
            "min_height": null,
            "min_width": null,
            "object_fit": null,
            "object_position": null,
            "order": null,
            "overflow": null,
            "overflow_x": null,
            "overflow_y": null,
            "padding": null,
            "right": null,
            "top": null,
            "visibility": null,
            "width": null
          }
        },
        "2993b8a3ff03451894b6eb93ecda90ed": {
          "model_module": "@jupyter-widgets/base",
          "model_name": "LayoutModel",
          "model_module_version": "1.2.0",
          "state": {
            "_model_module": "@jupyter-widgets/base",
            "_model_module_version": "1.2.0",
            "_model_name": "LayoutModel",
            "_view_count": null,
            "_view_module": "@jupyter-widgets/base",
            "_view_module_version": "1.2.0",
            "_view_name": "LayoutView",
            "align_content": null,
            "align_items": null,
            "align_self": null,
            "border": null,
            "bottom": null,
            "display": null,
            "flex": null,
            "flex_flow": null,
            "grid_area": null,
            "grid_auto_columns": null,
            "grid_auto_flow": null,
            "grid_auto_rows": null,
            "grid_column": null,
            "grid_gap": null,
            "grid_row": null,
            "grid_template_areas": null,
            "grid_template_columns": null,
            "grid_template_rows": null,
            "height": null,
            "justify_content": null,
            "justify_items": null,
            "left": null,
            "margin": null,
            "max_height": null,
            "max_width": null,
            "min_height": null,
            "min_width": null,
            "object_fit": null,
            "object_position": null,
            "order": null,
            "overflow": null,
            "overflow_x": null,
            "overflow_y": null,
            "padding": null,
            "right": null,
            "top": null,
            "visibility": null,
            "width": null
          }
        },
        "bbf365a9261a435aaecc96b790a57c61": {
          "model_module": "@jupyter-widgets/controls",
          "model_name": "DescriptionStyleModel",
          "model_module_version": "1.5.0",
          "state": {
            "_model_module": "@jupyter-widgets/controls",
            "_model_module_version": "1.5.0",
            "_model_name": "DescriptionStyleModel",
            "_view_count": null,
            "_view_module": "@jupyter-widgets/base",
            "_view_module_version": "1.2.0",
            "_view_name": "StyleView",
            "description_width": ""
          }
        },
        "1f4b32390c24436c92d61f53e5bd4d83": {
          "model_module": "@jupyter-widgets/base",
          "model_name": "LayoutModel",
          "model_module_version": "1.2.0",
          "state": {
            "_model_module": "@jupyter-widgets/base",
            "_model_module_version": "1.2.0",
            "_model_name": "LayoutModel",
            "_view_count": null,
            "_view_module": "@jupyter-widgets/base",
            "_view_module_version": "1.2.0",
            "_view_name": "LayoutView",
            "align_content": null,
            "align_items": null,
            "align_self": null,
            "border": null,
            "bottom": null,
            "display": null,
            "flex": null,
            "flex_flow": null,
            "grid_area": null,
            "grid_auto_columns": null,
            "grid_auto_flow": null,
            "grid_auto_rows": null,
            "grid_column": null,
            "grid_gap": null,
            "grid_row": null,
            "grid_template_areas": null,
            "grid_template_columns": null,
            "grid_template_rows": null,
            "height": null,
            "justify_content": null,
            "justify_items": null,
            "left": null,
            "margin": null,
            "max_height": null,
            "max_width": null,
            "min_height": null,
            "min_width": null,
            "object_fit": null,
            "object_position": null,
            "order": null,
            "overflow": null,
            "overflow_x": null,
            "overflow_y": null,
            "padding": null,
            "right": null,
            "top": null,
            "visibility": null,
            "width": null
          }
        },
        "41ad94bebfbd421cbe042ac6ac0493f4": {
          "model_module": "@jupyter-widgets/controls",
          "model_name": "ProgressStyleModel",
          "model_module_version": "1.5.0",
          "state": {
            "_model_module": "@jupyter-widgets/controls",
            "_model_module_version": "1.5.0",
            "_model_name": "ProgressStyleModel",
            "_view_count": null,
            "_view_module": "@jupyter-widgets/base",
            "_view_module_version": "1.2.0",
            "_view_name": "StyleView",
            "bar_color": null,
            "description_width": ""
          }
        },
        "f8ce19c5a0cd4af8a0c310fa9ffb250f": {
          "model_module": "@jupyter-widgets/base",
          "model_name": "LayoutModel",
          "model_module_version": "1.2.0",
          "state": {
            "_model_module": "@jupyter-widgets/base",
            "_model_module_version": "1.2.0",
            "_model_name": "LayoutModel",
            "_view_count": null,
            "_view_module": "@jupyter-widgets/base",
            "_view_module_version": "1.2.0",
            "_view_name": "LayoutView",
            "align_content": null,
            "align_items": null,
            "align_self": null,
            "border": null,
            "bottom": null,
            "display": null,
            "flex": null,
            "flex_flow": null,
            "grid_area": null,
            "grid_auto_columns": null,
            "grid_auto_flow": null,
            "grid_auto_rows": null,
            "grid_column": null,
            "grid_gap": null,
            "grid_row": null,
            "grid_template_areas": null,
            "grid_template_columns": null,
            "grid_template_rows": null,
            "height": null,
            "justify_content": null,
            "justify_items": null,
            "left": null,
            "margin": null,
            "max_height": null,
            "max_width": null,
            "min_height": null,
            "min_width": null,
            "object_fit": null,
            "object_position": null,
            "order": null,
            "overflow": null,
            "overflow_x": null,
            "overflow_y": null,
            "padding": null,
            "right": null,
            "top": null,
            "visibility": null,
            "width": null
          }
        },
        "67fa8a3eaad448b4a289c035cd4ad1b9": {
          "model_module": "@jupyter-widgets/controls",
          "model_name": "DescriptionStyleModel",
          "model_module_version": "1.5.0",
          "state": {
            "_model_module": "@jupyter-widgets/controls",
            "_model_module_version": "1.5.0",
            "_model_name": "DescriptionStyleModel",
            "_view_count": null,
            "_view_module": "@jupyter-widgets/base",
            "_view_module_version": "1.2.0",
            "_view_name": "StyleView",
            "description_width": ""
          }
        },
        "0eaeef619d384e57887a80426904305b": {
          "model_module": "@jupyter-widgets/controls",
          "model_name": "HBoxModel",
          "model_module_version": "1.5.0",
          "state": {
            "_dom_classes": [],
            "_model_module": "@jupyter-widgets/controls",
            "_model_module_version": "1.5.0",
            "_model_name": "HBoxModel",
            "_view_count": null,
            "_view_module": "@jupyter-widgets/controls",
            "_view_module_version": "1.5.0",
            "_view_name": "HBoxView",
            "box_style": "",
            "children": [
              "IPY_MODEL_9faa6995bfc84c73ae88e7f783d090a5",
              "IPY_MODEL_cc7a0950232d4920b23d9037aed8482c",
              "IPY_MODEL_3e612ade6c8f4d1f9bfa57b6ac97409c"
            ],
            "layout": "IPY_MODEL_66aec5bab9194ed2b7b614555819f598"
          }
        },
        "9faa6995bfc84c73ae88e7f783d090a5": {
          "model_module": "@jupyter-widgets/controls",
          "model_name": "HTMLModel",
          "model_module_version": "1.5.0",
          "state": {
            "_dom_classes": [],
            "_model_module": "@jupyter-widgets/controls",
            "_model_module_version": "1.5.0",
            "_model_name": "HTMLModel",
            "_view_count": null,
            "_view_module": "@jupyter-widgets/controls",
            "_view_module_version": "1.5.0",
            "_view_name": "HTMLView",
            "description": "",
            "description_tooltip": null,
            "layout": "IPY_MODEL_cab5eddfe6aa420a9a285c2945e1c9bb",
            "placeholder": "​",
            "style": "IPY_MODEL_cf05ca79f0214a5f9d92aca5635fa56f",
            "value": "Map: 100%"
          }
        },
        "cc7a0950232d4920b23d9037aed8482c": {
          "model_module": "@jupyter-widgets/controls",
          "model_name": "FloatProgressModel",
          "model_module_version": "1.5.0",
          "state": {
            "_dom_classes": [],
            "_model_module": "@jupyter-widgets/controls",
            "_model_module_version": "1.5.0",
            "_model_name": "FloatProgressModel",
            "_view_count": null,
            "_view_module": "@jupyter-widgets/controls",
            "_view_module_version": "1.5.0",
            "_view_name": "ProgressView",
            "bar_style": "success",
            "description": "",
            "description_tooltip": null,
            "layout": "IPY_MODEL_a1b3650b2a26428c9a279e84f1a33c43",
            "max": 2408,
            "min": 0,
            "orientation": "horizontal",
            "style": "IPY_MODEL_58fa256eae1c467db6af458189fff0bf",
            "value": 2408
          }
        },
        "3e612ade6c8f4d1f9bfa57b6ac97409c": {
          "model_module": "@jupyter-widgets/controls",
          "model_name": "HTMLModel",
          "model_module_version": "1.5.0",
          "state": {
            "_dom_classes": [],
            "_model_module": "@jupyter-widgets/controls",
            "_model_module_version": "1.5.0",
            "_model_name": "HTMLModel",
            "_view_count": null,
            "_view_module": "@jupyter-widgets/controls",
            "_view_module_version": "1.5.0",
            "_view_name": "HTMLView",
            "description": "",
            "description_tooltip": null,
            "layout": "IPY_MODEL_495b7d2de9fe4d729c5744d9337c1d1b",
            "placeholder": "​",
            "style": "IPY_MODEL_aacb3614526a445698f51090a8d0c75f",
            "value": " 2408/2408 [00:05&lt;00:00, 431.46 examples/s]"
          }
        },
        "66aec5bab9194ed2b7b614555819f598": {
          "model_module": "@jupyter-widgets/base",
          "model_name": "LayoutModel",
          "model_module_version": "1.2.0",
          "state": {
            "_model_module": "@jupyter-widgets/base",
            "_model_module_version": "1.2.0",
            "_model_name": "LayoutModel",
            "_view_count": null,
            "_view_module": "@jupyter-widgets/base",
            "_view_module_version": "1.2.0",
            "_view_name": "LayoutView",
            "align_content": null,
            "align_items": null,
            "align_self": null,
            "border": null,
            "bottom": null,
            "display": null,
            "flex": null,
            "flex_flow": null,
            "grid_area": null,
            "grid_auto_columns": null,
            "grid_auto_flow": null,
            "grid_auto_rows": null,
            "grid_column": null,
            "grid_gap": null,
            "grid_row": null,
            "grid_template_areas": null,
            "grid_template_columns": null,
            "grid_template_rows": null,
            "height": null,
            "justify_content": null,
            "justify_items": null,
            "left": null,
            "margin": null,
            "max_height": null,
            "max_width": null,
            "min_height": null,
            "min_width": null,
            "object_fit": null,
            "object_position": null,
            "order": null,
            "overflow": null,
            "overflow_x": null,
            "overflow_y": null,
            "padding": null,
            "right": null,
            "top": null,
            "visibility": null,
            "width": null
          }
        },
        "cab5eddfe6aa420a9a285c2945e1c9bb": {
          "model_module": "@jupyter-widgets/base",
          "model_name": "LayoutModel",
          "model_module_version": "1.2.0",
          "state": {
            "_model_module": "@jupyter-widgets/base",
            "_model_module_version": "1.2.0",
            "_model_name": "LayoutModel",
            "_view_count": null,
            "_view_module": "@jupyter-widgets/base",
            "_view_module_version": "1.2.0",
            "_view_name": "LayoutView",
            "align_content": null,
            "align_items": null,
            "align_self": null,
            "border": null,
            "bottom": null,
            "display": null,
            "flex": null,
            "flex_flow": null,
            "grid_area": null,
            "grid_auto_columns": null,
            "grid_auto_flow": null,
            "grid_auto_rows": null,
            "grid_column": null,
            "grid_gap": null,
            "grid_row": null,
            "grid_template_areas": null,
            "grid_template_columns": null,
            "grid_template_rows": null,
            "height": null,
            "justify_content": null,
            "justify_items": null,
            "left": null,
            "margin": null,
            "max_height": null,
            "max_width": null,
            "min_height": null,
            "min_width": null,
            "object_fit": null,
            "object_position": null,
            "order": null,
            "overflow": null,
            "overflow_x": null,
            "overflow_y": null,
            "padding": null,
            "right": null,
            "top": null,
            "visibility": null,
            "width": null
          }
        },
        "cf05ca79f0214a5f9d92aca5635fa56f": {
          "model_module": "@jupyter-widgets/controls",
          "model_name": "DescriptionStyleModel",
          "model_module_version": "1.5.0",
          "state": {
            "_model_module": "@jupyter-widgets/controls",
            "_model_module_version": "1.5.0",
            "_model_name": "DescriptionStyleModel",
            "_view_count": null,
            "_view_module": "@jupyter-widgets/base",
            "_view_module_version": "1.2.0",
            "_view_name": "StyleView",
            "description_width": ""
          }
        },
        "a1b3650b2a26428c9a279e84f1a33c43": {
          "model_module": "@jupyter-widgets/base",
          "model_name": "LayoutModel",
          "model_module_version": "1.2.0",
          "state": {
            "_model_module": "@jupyter-widgets/base",
            "_model_module_version": "1.2.0",
            "_model_name": "LayoutModel",
            "_view_count": null,
            "_view_module": "@jupyter-widgets/base",
            "_view_module_version": "1.2.0",
            "_view_name": "LayoutView",
            "align_content": null,
            "align_items": null,
            "align_self": null,
            "border": null,
            "bottom": null,
            "display": null,
            "flex": null,
            "flex_flow": null,
            "grid_area": null,
            "grid_auto_columns": null,
            "grid_auto_flow": null,
            "grid_auto_rows": null,
            "grid_column": null,
            "grid_gap": null,
            "grid_row": null,
            "grid_template_areas": null,
            "grid_template_columns": null,
            "grid_template_rows": null,
            "height": null,
            "justify_content": null,
            "justify_items": null,
            "left": null,
            "margin": null,
            "max_height": null,
            "max_width": null,
            "min_height": null,
            "min_width": null,
            "object_fit": null,
            "object_position": null,
            "order": null,
            "overflow": null,
            "overflow_x": null,
            "overflow_y": null,
            "padding": null,
            "right": null,
            "top": null,
            "visibility": null,
            "width": null
          }
        },
        "58fa256eae1c467db6af458189fff0bf": {
          "model_module": "@jupyter-widgets/controls",
          "model_name": "ProgressStyleModel",
          "model_module_version": "1.5.0",
          "state": {
            "_model_module": "@jupyter-widgets/controls",
            "_model_module_version": "1.5.0",
            "_model_name": "ProgressStyleModel",
            "_view_count": null,
            "_view_module": "@jupyter-widgets/base",
            "_view_module_version": "1.2.0",
            "_view_name": "StyleView",
            "bar_color": null,
            "description_width": ""
          }
        },
        "495b7d2de9fe4d729c5744d9337c1d1b": {
          "model_module": "@jupyter-widgets/base",
          "model_name": "LayoutModel",
          "model_module_version": "1.2.0",
          "state": {
            "_model_module": "@jupyter-widgets/base",
            "_model_module_version": "1.2.0",
            "_model_name": "LayoutModel",
            "_view_count": null,
            "_view_module": "@jupyter-widgets/base",
            "_view_module_version": "1.2.0",
            "_view_name": "LayoutView",
            "align_content": null,
            "align_items": null,
            "align_self": null,
            "border": null,
            "bottom": null,
            "display": null,
            "flex": null,
            "flex_flow": null,
            "grid_area": null,
            "grid_auto_columns": null,
            "grid_auto_flow": null,
            "grid_auto_rows": null,
            "grid_column": null,
            "grid_gap": null,
            "grid_row": null,
            "grid_template_areas": null,
            "grid_template_columns": null,
            "grid_template_rows": null,
            "height": null,
            "justify_content": null,
            "justify_items": null,
            "left": null,
            "margin": null,
            "max_height": null,
            "max_width": null,
            "min_height": null,
            "min_width": null,
            "object_fit": null,
            "object_position": null,
            "order": null,
            "overflow": null,
            "overflow_x": null,
            "overflow_y": null,
            "padding": null,
            "right": null,
            "top": null,
            "visibility": null,
            "width": null
          }
        },
        "aacb3614526a445698f51090a8d0c75f": {
          "model_module": "@jupyter-widgets/controls",
          "model_name": "DescriptionStyleModel",
          "model_module_version": "1.5.0",
          "state": {
            "_model_module": "@jupyter-widgets/controls",
            "_model_module_version": "1.5.0",
            "_model_name": "DescriptionStyleModel",
            "_view_count": null,
            "_view_module": "@jupyter-widgets/base",
            "_view_module_version": "1.2.0",
            "_view_name": "StyleView",
            "description_width": ""
          }
        },
        "335b7f7ca40a4f8f85d41f9244a9d772": {
          "model_module": "@jupyter-widgets/controls",
          "model_name": "HBoxModel",
          "model_module_version": "1.5.0",
          "state": {
            "_dom_classes": [],
            "_model_module": "@jupyter-widgets/controls",
            "_model_module_version": "1.5.0",
            "_model_name": "HBoxModel",
            "_view_count": null,
            "_view_module": "@jupyter-widgets/controls",
            "_view_module_version": "1.5.0",
            "_view_name": "HBoxView",
            "box_style": "",
            "children": [
              "IPY_MODEL_dfad6d4a7a69400a8c6c25e2c55fb784",
              "IPY_MODEL_16d0806f616743cb8785d182e1296ef0",
              "IPY_MODEL_b44f71e63ac14217ac18048677de8d6d"
            ],
            "layout": "IPY_MODEL_8b5027c166ae4b93b932204773380455"
          }
        },
        "dfad6d4a7a69400a8c6c25e2c55fb784": {
          "model_module": "@jupyter-widgets/controls",
          "model_name": "HTMLModel",
          "model_module_version": "1.5.0",
          "state": {
            "_dom_classes": [],
            "_model_module": "@jupyter-widgets/controls",
            "_model_module_version": "1.5.0",
            "_model_name": "HTMLModel",
            "_view_count": null,
            "_view_module": "@jupyter-widgets/controls",
            "_view_module_version": "1.5.0",
            "_view_name": "HTMLView",
            "description": "",
            "description_tooltip": null,
            "layout": "IPY_MODEL_7c8379bc5fa44e9081d08cdb548c1a5e",
            "placeholder": "​",
            "style": "IPY_MODEL_ac4ef552ea604553b9c9299d66e5092e",
            "value": "tokenizer_config.json: 100%"
          }
        },
        "16d0806f616743cb8785d182e1296ef0": {
          "model_module": "@jupyter-widgets/controls",
          "model_name": "FloatProgressModel",
          "model_module_version": "1.5.0",
          "state": {
            "_dom_classes": [],
            "_model_module": "@jupyter-widgets/controls",
            "_model_module_version": "1.5.0",
            "_model_name": "FloatProgressModel",
            "_view_count": null,
            "_view_module": "@jupyter-widgets/controls",
            "_view_module_version": "1.5.0",
            "_view_name": "ProgressView",
            "bar_style": "success",
            "description": "",
            "description_tooltip": null,
            "layout": "IPY_MODEL_66124aa3b76a47f1b8578f62ea2e84d2",
            "max": 82,
            "min": 0,
            "orientation": "horizontal",
            "style": "IPY_MODEL_063104019327480b9e20e0e8a7adc1a0",
            "value": 82
          }
        },
        "b44f71e63ac14217ac18048677de8d6d": {
          "model_module": "@jupyter-widgets/controls",
          "model_name": "HTMLModel",
          "model_module_version": "1.5.0",
          "state": {
            "_dom_classes": [],
            "_model_module": "@jupyter-widgets/controls",
            "_model_module_version": "1.5.0",
            "_model_name": "HTMLModel",
            "_view_count": null,
            "_view_module": "@jupyter-widgets/controls",
            "_view_module_version": "1.5.0",
            "_view_name": "HTMLView",
            "description": "",
            "description_tooltip": null,
            "layout": "IPY_MODEL_677e63363d9843ebb451498fa51122f1",
            "placeholder": "​",
            "style": "IPY_MODEL_a9afd8bc4be1452fb2cef6e41ccd269a",
            "value": " 82.0/82.0 [00:00&lt;00:00, 4.97kB/s]"
          }
        },
        "8b5027c166ae4b93b932204773380455": {
          "model_module": "@jupyter-widgets/base",
          "model_name": "LayoutModel",
          "model_module_version": "1.2.0",
          "state": {
            "_model_module": "@jupyter-widgets/base",
            "_model_module_version": "1.2.0",
            "_model_name": "LayoutModel",
            "_view_count": null,
            "_view_module": "@jupyter-widgets/base",
            "_view_module_version": "1.2.0",
            "_view_name": "LayoutView",
            "align_content": null,
            "align_items": null,
            "align_self": null,
            "border": null,
            "bottom": null,
            "display": null,
            "flex": null,
            "flex_flow": null,
            "grid_area": null,
            "grid_auto_columns": null,
            "grid_auto_flow": null,
            "grid_auto_rows": null,
            "grid_column": null,
            "grid_gap": null,
            "grid_row": null,
            "grid_template_areas": null,
            "grid_template_columns": null,
            "grid_template_rows": null,
            "height": null,
            "justify_content": null,
            "justify_items": null,
            "left": null,
            "margin": null,
            "max_height": null,
            "max_width": null,
            "min_height": null,
            "min_width": null,
            "object_fit": null,
            "object_position": null,
            "order": null,
            "overflow": null,
            "overflow_x": null,
            "overflow_y": null,
            "padding": null,
            "right": null,
            "top": null,
            "visibility": null,
            "width": null
          }
        },
        "7c8379bc5fa44e9081d08cdb548c1a5e": {
          "model_module": "@jupyter-widgets/base",
          "model_name": "LayoutModel",
          "model_module_version": "1.2.0",
          "state": {
            "_model_module": "@jupyter-widgets/base",
            "_model_module_version": "1.2.0",
            "_model_name": "LayoutModel",
            "_view_count": null,
            "_view_module": "@jupyter-widgets/base",
            "_view_module_version": "1.2.0",
            "_view_name": "LayoutView",
            "align_content": null,
            "align_items": null,
            "align_self": null,
            "border": null,
            "bottom": null,
            "display": null,
            "flex": null,
            "flex_flow": null,
            "grid_area": null,
            "grid_auto_columns": null,
            "grid_auto_flow": null,
            "grid_auto_rows": null,
            "grid_column": null,
            "grid_gap": null,
            "grid_row": null,
            "grid_template_areas": null,
            "grid_template_columns": null,
            "grid_template_rows": null,
            "height": null,
            "justify_content": null,
            "justify_items": null,
            "left": null,
            "margin": null,
            "max_height": null,
            "max_width": null,
            "min_height": null,
            "min_width": null,
            "object_fit": null,
            "object_position": null,
            "order": null,
            "overflow": null,
            "overflow_x": null,
            "overflow_y": null,
            "padding": null,
            "right": null,
            "top": null,
            "visibility": null,
            "width": null
          }
        },
        "ac4ef552ea604553b9c9299d66e5092e": {
          "model_module": "@jupyter-widgets/controls",
          "model_name": "DescriptionStyleModel",
          "model_module_version": "1.5.0",
          "state": {
            "_model_module": "@jupyter-widgets/controls",
            "_model_module_version": "1.5.0",
            "_model_name": "DescriptionStyleModel",
            "_view_count": null,
            "_view_module": "@jupyter-widgets/base",
            "_view_module_version": "1.2.0",
            "_view_name": "StyleView",
            "description_width": ""
          }
        },
        "66124aa3b76a47f1b8578f62ea2e84d2": {
          "model_module": "@jupyter-widgets/base",
          "model_name": "LayoutModel",
          "model_module_version": "1.2.0",
          "state": {
            "_model_module": "@jupyter-widgets/base",
            "_model_module_version": "1.2.0",
            "_model_name": "LayoutModel",
            "_view_count": null,
            "_view_module": "@jupyter-widgets/base",
            "_view_module_version": "1.2.0",
            "_view_name": "LayoutView",
            "align_content": null,
            "align_items": null,
            "align_self": null,
            "border": null,
            "bottom": null,
            "display": null,
            "flex": null,
            "flex_flow": null,
            "grid_area": null,
            "grid_auto_columns": null,
            "grid_auto_flow": null,
            "grid_auto_rows": null,
            "grid_column": null,
            "grid_gap": null,
            "grid_row": null,
            "grid_template_areas": null,
            "grid_template_columns": null,
            "grid_template_rows": null,
            "height": null,
            "justify_content": null,
            "justify_items": null,
            "left": null,
            "margin": null,
            "max_height": null,
            "max_width": null,
            "min_height": null,
            "min_width": null,
            "object_fit": null,
            "object_position": null,
            "order": null,
            "overflow": null,
            "overflow_x": null,
            "overflow_y": null,
            "padding": null,
            "right": null,
            "top": null,
            "visibility": null,
            "width": null
          }
        },
        "063104019327480b9e20e0e8a7adc1a0": {
          "model_module": "@jupyter-widgets/controls",
          "model_name": "ProgressStyleModel",
          "model_module_version": "1.5.0",
          "state": {
            "_model_module": "@jupyter-widgets/controls",
            "_model_module_version": "1.5.0",
            "_model_name": "ProgressStyleModel",
            "_view_count": null,
            "_view_module": "@jupyter-widgets/base",
            "_view_module_version": "1.2.0",
            "_view_name": "StyleView",
            "bar_color": null,
            "description_width": ""
          }
        },
        "677e63363d9843ebb451498fa51122f1": {
          "model_module": "@jupyter-widgets/base",
          "model_name": "LayoutModel",
          "model_module_version": "1.2.0",
          "state": {
            "_model_module": "@jupyter-widgets/base",
            "_model_module_version": "1.2.0",
            "_model_name": "LayoutModel",
            "_view_count": null,
            "_view_module": "@jupyter-widgets/base",
            "_view_module_version": "1.2.0",
            "_view_name": "LayoutView",
            "align_content": null,
            "align_items": null,
            "align_self": null,
            "border": null,
            "bottom": null,
            "display": null,
            "flex": null,
            "flex_flow": null,
            "grid_area": null,
            "grid_auto_columns": null,
            "grid_auto_flow": null,
            "grid_auto_rows": null,
            "grid_column": null,
            "grid_gap": null,
            "grid_row": null,
            "grid_template_areas": null,
            "grid_template_columns": null,
            "grid_template_rows": null,
            "height": null,
            "justify_content": null,
            "justify_items": null,
            "left": null,
            "margin": null,
            "max_height": null,
            "max_width": null,
            "min_height": null,
            "min_width": null,
            "object_fit": null,
            "object_position": null,
            "order": null,
            "overflow": null,
            "overflow_x": null,
            "overflow_y": null,
            "padding": null,
            "right": null,
            "top": null,
            "visibility": null,
            "width": null
          }
        },
        "a9afd8bc4be1452fb2cef6e41ccd269a": {
          "model_module": "@jupyter-widgets/controls",
          "model_name": "DescriptionStyleModel",
          "model_module_version": "1.5.0",
          "state": {
            "_model_module": "@jupyter-widgets/controls",
            "_model_module_version": "1.5.0",
            "_model_name": "DescriptionStyleModel",
            "_view_count": null,
            "_view_module": "@jupyter-widgets/base",
            "_view_module_version": "1.2.0",
            "_view_name": "StyleView",
            "description_width": ""
          }
        },
        "eed3b40102524728aed930fd63e1555f": {
          "model_module": "@jupyter-widgets/controls",
          "model_name": "HBoxModel",
          "model_module_version": "1.5.0",
          "state": {
            "_dom_classes": [],
            "_model_module": "@jupyter-widgets/controls",
            "_model_module_version": "1.5.0",
            "_model_name": "HBoxModel",
            "_view_count": null,
            "_view_module": "@jupyter-widgets/controls",
            "_view_module_version": "1.5.0",
            "_view_name": "HBoxView",
            "box_style": "",
            "children": [
              "IPY_MODEL_be835bbd75c4480b8f20e48010bf4689",
              "IPY_MODEL_794b5bf4a470494399ddf9b35db473c4",
              "IPY_MODEL_8e36a2959ce447b6837320d8e30b920d"
            ],
            "layout": "IPY_MODEL_bc709f61834546b39c5e28c5221210ff"
          }
        },
        "be835bbd75c4480b8f20e48010bf4689": {
          "model_module": "@jupyter-widgets/controls",
          "model_name": "HTMLModel",
          "model_module_version": "1.5.0",
          "state": {
            "_dom_classes": [],
            "_model_module": "@jupyter-widgets/controls",
            "_model_module_version": "1.5.0",
            "_model_name": "HTMLModel",
            "_view_count": null,
            "_view_module": "@jupyter-widgets/controls",
            "_view_module_version": "1.5.0",
            "_view_name": "HTMLView",
            "description": "",
            "description_tooltip": null,
            "layout": "IPY_MODEL_e3947d407eee459c8417dbe5fe8fcca3",
            "placeholder": "​",
            "style": "IPY_MODEL_c977390af8ee410db674d437611bff74",
            "value": "config.json: 100%"
          }
        },
        "794b5bf4a470494399ddf9b35db473c4": {
          "model_module": "@jupyter-widgets/controls",
          "model_name": "FloatProgressModel",
          "model_module_version": "1.5.0",
          "state": {
            "_dom_classes": [],
            "_model_module": "@jupyter-widgets/controls",
            "_model_module_version": "1.5.0",
            "_model_name": "FloatProgressModel",
            "_view_count": null,
            "_view_module": "@jupyter-widgets/controls",
            "_view_module_version": "1.5.0",
            "_view_name": "ProgressView",
            "bar_style": "success",
            "description": "",
            "description_tooltip": null,
            "layout": "IPY_MODEL_6cf3c8fac3f04c85ab652c4d1aae76f5",
            "max": 553,
            "min": 0,
            "orientation": "horizontal",
            "style": "IPY_MODEL_57c019b6b3894cde8fc63927e851d83b",
            "value": 553
          }
        },
        "8e36a2959ce447b6837320d8e30b920d": {
          "model_module": "@jupyter-widgets/controls",
          "model_name": "HTMLModel",
          "model_module_version": "1.5.0",
          "state": {
            "_dom_classes": [],
            "_model_module": "@jupyter-widgets/controls",
            "_model_module_version": "1.5.0",
            "_model_name": "HTMLModel",
            "_view_count": null,
            "_view_module": "@jupyter-widgets/controls",
            "_view_module_version": "1.5.0",
            "_view_name": "HTMLView",
            "description": "",
            "description_tooltip": null,
            "layout": "IPY_MODEL_482b9769209840b2bca3ad48575e4ee8",
            "placeholder": "​",
            "style": "IPY_MODEL_179b82ce191f4ee6bd66c93a04ce3d58",
            "value": " 553/553 [00:00&lt;00:00, 23.7kB/s]"
          }
        },
        "bc709f61834546b39c5e28c5221210ff": {
          "model_module": "@jupyter-widgets/base",
          "model_name": "LayoutModel",
          "model_module_version": "1.2.0",
          "state": {
            "_model_module": "@jupyter-widgets/base",
            "_model_module_version": "1.2.0",
            "_model_name": "LayoutModel",
            "_view_count": null,
            "_view_module": "@jupyter-widgets/base",
            "_view_module_version": "1.2.0",
            "_view_name": "LayoutView",
            "align_content": null,
            "align_items": null,
            "align_self": null,
            "border": null,
            "bottom": null,
            "display": null,
            "flex": null,
            "flex_flow": null,
            "grid_area": null,
            "grid_auto_columns": null,
            "grid_auto_flow": null,
            "grid_auto_rows": null,
            "grid_column": null,
            "grid_gap": null,
            "grid_row": null,
            "grid_template_areas": null,
            "grid_template_columns": null,
            "grid_template_rows": null,
            "height": null,
            "justify_content": null,
            "justify_items": null,
            "left": null,
            "margin": null,
            "max_height": null,
            "max_width": null,
            "min_height": null,
            "min_width": null,
            "object_fit": null,
            "object_position": null,
            "order": null,
            "overflow": null,
            "overflow_x": null,
            "overflow_y": null,
            "padding": null,
            "right": null,
            "top": null,
            "visibility": null,
            "width": null
          }
        },
        "e3947d407eee459c8417dbe5fe8fcca3": {
          "model_module": "@jupyter-widgets/base",
          "model_name": "LayoutModel",
          "model_module_version": "1.2.0",
          "state": {
            "_model_module": "@jupyter-widgets/base",
            "_model_module_version": "1.2.0",
            "_model_name": "LayoutModel",
            "_view_count": null,
            "_view_module": "@jupyter-widgets/base",
            "_view_module_version": "1.2.0",
            "_view_name": "LayoutView",
            "align_content": null,
            "align_items": null,
            "align_self": null,
            "border": null,
            "bottom": null,
            "display": null,
            "flex": null,
            "flex_flow": null,
            "grid_area": null,
            "grid_auto_columns": null,
            "grid_auto_flow": null,
            "grid_auto_rows": null,
            "grid_column": null,
            "grid_gap": null,
            "grid_row": null,
            "grid_template_areas": null,
            "grid_template_columns": null,
            "grid_template_rows": null,
            "height": null,
            "justify_content": null,
            "justify_items": null,
            "left": null,
            "margin": null,
            "max_height": null,
            "max_width": null,
            "min_height": null,
            "min_width": null,
            "object_fit": null,
            "object_position": null,
            "order": null,
            "overflow": null,
            "overflow_x": null,
            "overflow_y": null,
            "padding": null,
            "right": null,
            "top": null,
            "visibility": null,
            "width": null
          }
        },
        "c977390af8ee410db674d437611bff74": {
          "model_module": "@jupyter-widgets/controls",
          "model_name": "DescriptionStyleModel",
          "model_module_version": "1.5.0",
          "state": {
            "_model_module": "@jupyter-widgets/controls",
            "_model_module_version": "1.5.0",
            "_model_name": "DescriptionStyleModel",
            "_view_count": null,
            "_view_module": "@jupyter-widgets/base",
            "_view_module_version": "1.2.0",
            "_view_name": "StyleView",
            "description_width": ""
          }
        },
        "6cf3c8fac3f04c85ab652c4d1aae76f5": {
          "model_module": "@jupyter-widgets/base",
          "model_name": "LayoutModel",
          "model_module_version": "1.2.0",
          "state": {
            "_model_module": "@jupyter-widgets/base",
            "_model_module_version": "1.2.0",
            "_model_name": "LayoutModel",
            "_view_count": null,
            "_view_module": "@jupyter-widgets/base",
            "_view_module_version": "1.2.0",
            "_view_name": "LayoutView",
            "align_content": null,
            "align_items": null,
            "align_self": null,
            "border": null,
            "bottom": null,
            "display": null,
            "flex": null,
            "flex_flow": null,
            "grid_area": null,
            "grid_auto_columns": null,
            "grid_auto_flow": null,
            "grid_auto_rows": null,
            "grid_column": null,
            "grid_gap": null,
            "grid_row": null,
            "grid_template_areas": null,
            "grid_template_columns": null,
            "grid_template_rows": null,
            "height": null,
            "justify_content": null,
            "justify_items": null,
            "left": null,
            "margin": null,
            "max_height": null,
            "max_width": null,
            "min_height": null,
            "min_width": null,
            "object_fit": null,
            "object_position": null,
            "order": null,
            "overflow": null,
            "overflow_x": null,
            "overflow_y": null,
            "padding": null,
            "right": null,
            "top": null,
            "visibility": null,
            "width": null
          }
        },
        "57c019b6b3894cde8fc63927e851d83b": {
          "model_module": "@jupyter-widgets/controls",
          "model_name": "ProgressStyleModel",
          "model_module_version": "1.5.0",
          "state": {
            "_model_module": "@jupyter-widgets/controls",
            "_model_module_version": "1.5.0",
            "_model_name": "ProgressStyleModel",
            "_view_count": null,
            "_view_module": "@jupyter-widgets/base",
            "_view_module_version": "1.2.0",
            "_view_name": "StyleView",
            "bar_color": null,
            "description_width": ""
          }
        },
        "482b9769209840b2bca3ad48575e4ee8": {
          "model_module": "@jupyter-widgets/base",
          "model_name": "LayoutModel",
          "model_module_version": "1.2.0",
          "state": {
            "_model_module": "@jupyter-widgets/base",
            "_model_module_version": "1.2.0",
            "_model_name": "LayoutModel",
            "_view_count": null,
            "_view_module": "@jupyter-widgets/base",
            "_view_module_version": "1.2.0",
            "_view_name": "LayoutView",
            "align_content": null,
            "align_items": null,
            "align_self": null,
            "border": null,
            "bottom": null,
            "display": null,
            "flex": null,
            "flex_flow": null,
            "grid_area": null,
            "grid_auto_columns": null,
            "grid_auto_flow": null,
            "grid_auto_rows": null,
            "grid_column": null,
            "grid_gap": null,
            "grid_row": null,
            "grid_template_areas": null,
            "grid_template_columns": null,
            "grid_template_rows": null,
            "height": null,
            "justify_content": null,
            "justify_items": null,
            "left": null,
            "margin": null,
            "max_height": null,
            "max_width": null,
            "min_height": null,
            "min_width": null,
            "object_fit": null,
            "object_position": null,
            "order": null,
            "overflow": null,
            "overflow_x": null,
            "overflow_y": null,
            "padding": null,
            "right": null,
            "top": null,
            "visibility": null,
            "width": null
          }
        },
        "179b82ce191f4ee6bd66c93a04ce3d58": {
          "model_module": "@jupyter-widgets/controls",
          "model_name": "DescriptionStyleModel",
          "model_module_version": "1.5.0",
          "state": {
            "_model_module": "@jupyter-widgets/controls",
            "_model_module_version": "1.5.0",
            "_model_name": "DescriptionStyleModel",
            "_view_count": null,
            "_view_module": "@jupyter-widgets/base",
            "_view_module_version": "1.2.0",
            "_view_name": "StyleView",
            "description_width": ""
          }
        },
        "f397181396414d5187a18862e0b18bc1": {
          "model_module": "@jupyter-widgets/controls",
          "model_name": "HBoxModel",
          "model_module_version": "1.5.0",
          "state": {
            "_dom_classes": [],
            "_model_module": "@jupyter-widgets/controls",
            "_model_module_version": "1.5.0",
            "_model_name": "HBoxModel",
            "_view_count": null,
            "_view_module": "@jupyter-widgets/controls",
            "_view_module_version": "1.5.0",
            "_view_name": "HBoxView",
            "box_style": "",
            "children": [
              "IPY_MODEL_c3b23930ef7b4c1d816dc3d102e25792",
              "IPY_MODEL_135b04b78c8848d492e02a965cbe6ecd",
              "IPY_MODEL_272cb13a62b044f2a88569fca8cd2cca"
            ],
            "layout": "IPY_MODEL_1b5213d3b9294cc3945fb20a3e0c9fd3"
          }
        },
        "c3b23930ef7b4c1d816dc3d102e25792": {
          "model_module": "@jupyter-widgets/controls",
          "model_name": "HTMLModel",
          "model_module_version": "1.5.0",
          "state": {
            "_dom_classes": [],
            "_model_module": "@jupyter-widgets/controls",
            "_model_module_version": "1.5.0",
            "_model_name": "HTMLModel",
            "_view_count": null,
            "_view_module": "@jupyter-widgets/controls",
            "_view_module_version": "1.5.0",
            "_view_name": "HTMLView",
            "description": "",
            "description_tooltip": null,
            "layout": "IPY_MODEL_1068931d187a42c48f485602c498d4f4",
            "placeholder": "​",
            "style": "IPY_MODEL_038e181573ff4502b15321685df9b26b",
            "value": "spiece.model: 100%"
          }
        },
        "135b04b78c8848d492e02a965cbe6ecd": {
          "model_module": "@jupyter-widgets/controls",
          "model_name": "FloatProgressModel",
          "model_module_version": "1.5.0",
          "state": {
            "_dom_classes": [],
            "_model_module": "@jupyter-widgets/controls",
            "_model_module_version": "1.5.0",
            "_model_name": "FloatProgressModel",
            "_view_count": null,
            "_view_module": "@jupyter-widgets/controls",
            "_view_module_version": "1.5.0",
            "_view_name": "ProgressView",
            "bar_style": "success",
            "description": "",
            "description_tooltip": null,
            "layout": "IPY_MODEL_29848a7475a44874aaa52fd0efcdf1b1",
            "max": 4309802,
            "min": 0,
            "orientation": "horizontal",
            "style": "IPY_MODEL_9cd016669a0947e49fc411b14f5fa2a3",
            "value": 4309802
          }
        },
        "272cb13a62b044f2a88569fca8cd2cca": {
          "model_module": "@jupyter-widgets/controls",
          "model_name": "HTMLModel",
          "model_module_version": "1.5.0",
          "state": {
            "_dom_classes": [],
            "_model_module": "@jupyter-widgets/controls",
            "_model_module_version": "1.5.0",
            "_model_name": "HTMLModel",
            "_view_count": null,
            "_view_module": "@jupyter-widgets/controls",
            "_view_module_version": "1.5.0",
            "_view_name": "HTMLView",
            "description": "",
            "description_tooltip": null,
            "layout": "IPY_MODEL_0903dfa377e84a84af1bc4d9cdcaa485",
            "placeholder": "​",
            "style": "IPY_MODEL_a43695849ff649a18293c3b6e532b34d",
            "value": " 4.31M/4.31M [00:00&lt;00:00, 14.6MB/s]"
          }
        },
        "1b5213d3b9294cc3945fb20a3e0c9fd3": {
          "model_module": "@jupyter-widgets/base",
          "model_name": "LayoutModel",
          "model_module_version": "1.2.0",
          "state": {
            "_model_module": "@jupyter-widgets/base",
            "_model_module_version": "1.2.0",
            "_model_name": "LayoutModel",
            "_view_count": null,
            "_view_module": "@jupyter-widgets/base",
            "_view_module_version": "1.2.0",
            "_view_name": "LayoutView",
            "align_content": null,
            "align_items": null,
            "align_self": null,
            "border": null,
            "bottom": null,
            "display": null,
            "flex": null,
            "flex_flow": null,
            "grid_area": null,
            "grid_auto_columns": null,
            "grid_auto_flow": null,
            "grid_auto_rows": null,
            "grid_column": null,
            "grid_gap": null,
            "grid_row": null,
            "grid_template_areas": null,
            "grid_template_columns": null,
            "grid_template_rows": null,
            "height": null,
            "justify_content": null,
            "justify_items": null,
            "left": null,
            "margin": null,
            "max_height": null,
            "max_width": null,
            "min_height": null,
            "min_width": null,
            "object_fit": null,
            "object_position": null,
            "order": null,
            "overflow": null,
            "overflow_x": null,
            "overflow_y": null,
            "padding": null,
            "right": null,
            "top": null,
            "visibility": null,
            "width": null
          }
        },
        "1068931d187a42c48f485602c498d4f4": {
          "model_module": "@jupyter-widgets/base",
          "model_name": "LayoutModel",
          "model_module_version": "1.2.0",
          "state": {
            "_model_module": "@jupyter-widgets/base",
            "_model_module_version": "1.2.0",
            "_model_name": "LayoutModel",
            "_view_count": null,
            "_view_module": "@jupyter-widgets/base",
            "_view_module_version": "1.2.0",
            "_view_name": "LayoutView",
            "align_content": null,
            "align_items": null,
            "align_self": null,
            "border": null,
            "bottom": null,
            "display": null,
            "flex": null,
            "flex_flow": null,
            "grid_area": null,
            "grid_auto_columns": null,
            "grid_auto_flow": null,
            "grid_auto_rows": null,
            "grid_column": null,
            "grid_gap": null,
            "grid_row": null,
            "grid_template_areas": null,
            "grid_template_columns": null,
            "grid_template_rows": null,
            "height": null,
            "justify_content": null,
            "justify_items": null,
            "left": null,
            "margin": null,
            "max_height": null,
            "max_width": null,
            "min_height": null,
            "min_width": null,
            "object_fit": null,
            "object_position": null,
            "order": null,
            "overflow": null,
            "overflow_x": null,
            "overflow_y": null,
            "padding": null,
            "right": null,
            "top": null,
            "visibility": null,
            "width": null
          }
        },
        "038e181573ff4502b15321685df9b26b": {
          "model_module": "@jupyter-widgets/controls",
          "model_name": "DescriptionStyleModel",
          "model_module_version": "1.5.0",
          "state": {
            "_model_module": "@jupyter-widgets/controls",
            "_model_module_version": "1.5.0",
            "_model_name": "DescriptionStyleModel",
            "_view_count": null,
            "_view_module": "@jupyter-widgets/base",
            "_view_module_version": "1.2.0",
            "_view_name": "StyleView",
            "description_width": ""
          }
        },
        "29848a7475a44874aaa52fd0efcdf1b1": {
          "model_module": "@jupyter-widgets/base",
          "model_name": "LayoutModel",
          "model_module_version": "1.2.0",
          "state": {
            "_model_module": "@jupyter-widgets/base",
            "_model_module_version": "1.2.0",
            "_model_name": "LayoutModel",
            "_view_count": null,
            "_view_module": "@jupyter-widgets/base",
            "_view_module_version": "1.2.0",
            "_view_name": "LayoutView",
            "align_content": null,
            "align_items": null,
            "align_self": null,
            "border": null,
            "bottom": null,
            "display": null,
            "flex": null,
            "flex_flow": null,
            "grid_area": null,
            "grid_auto_columns": null,
            "grid_auto_flow": null,
            "grid_auto_rows": null,
            "grid_column": null,
            "grid_gap": null,
            "grid_row": null,
            "grid_template_areas": null,
            "grid_template_columns": null,
            "grid_template_rows": null,
            "height": null,
            "justify_content": null,
            "justify_items": null,
            "left": null,
            "margin": null,
            "max_height": null,
            "max_width": null,
            "min_height": null,
            "min_width": null,
            "object_fit": null,
            "object_position": null,
            "order": null,
            "overflow": null,
            "overflow_x": null,
            "overflow_y": null,
            "padding": null,
            "right": null,
            "top": null,
            "visibility": null,
            "width": null
          }
        },
        "9cd016669a0947e49fc411b14f5fa2a3": {
          "model_module": "@jupyter-widgets/controls",
          "model_name": "ProgressStyleModel",
          "model_module_version": "1.5.0",
          "state": {
            "_model_module": "@jupyter-widgets/controls",
            "_model_module_version": "1.5.0",
            "_model_name": "ProgressStyleModel",
            "_view_count": null,
            "_view_module": "@jupyter-widgets/base",
            "_view_module_version": "1.2.0",
            "_view_name": "StyleView",
            "bar_color": null,
            "description_width": ""
          }
        },
        "0903dfa377e84a84af1bc4d9cdcaa485": {
          "model_module": "@jupyter-widgets/base",
          "model_name": "LayoutModel",
          "model_module_version": "1.2.0",
          "state": {
            "_model_module": "@jupyter-widgets/base",
            "_model_module_version": "1.2.0",
            "_model_name": "LayoutModel",
            "_view_count": null,
            "_view_module": "@jupyter-widgets/base",
            "_view_module_version": "1.2.0",
            "_view_name": "LayoutView",
            "align_content": null,
            "align_items": null,
            "align_self": null,
            "border": null,
            "bottom": null,
            "display": null,
            "flex": null,
            "flex_flow": null,
            "grid_area": null,
            "grid_auto_columns": null,
            "grid_auto_flow": null,
            "grid_auto_rows": null,
            "grid_column": null,
            "grid_gap": null,
            "grid_row": null,
            "grid_template_areas": null,
            "grid_template_columns": null,
            "grid_template_rows": null,
            "height": null,
            "justify_content": null,
            "justify_items": null,
            "left": null,
            "margin": null,
            "max_height": null,
            "max_width": null,
            "min_height": null,
            "min_width": null,
            "object_fit": null,
            "object_position": null,
            "order": null,
            "overflow": null,
            "overflow_x": null,
            "overflow_y": null,
            "padding": null,
            "right": null,
            "top": null,
            "visibility": null,
            "width": null
          }
        },
        "a43695849ff649a18293c3b6e532b34d": {
          "model_module": "@jupyter-widgets/controls",
          "model_name": "DescriptionStyleModel",
          "model_module_version": "1.5.0",
          "state": {
            "_model_module": "@jupyter-widgets/controls",
            "_model_module_version": "1.5.0",
            "_model_name": "DescriptionStyleModel",
            "_view_count": null,
            "_view_module": "@jupyter-widgets/base",
            "_view_module_version": "1.2.0",
            "_view_name": "StyleView",
            "description_width": ""
          }
        },
        "69045259079b494db5091568ee091f42": {
          "model_module": "@jupyter-widgets/controls",
          "model_name": "HBoxModel",
          "model_module_version": "1.5.0",
          "state": {
            "_dom_classes": [],
            "_model_module": "@jupyter-widgets/controls",
            "_model_module_version": "1.5.0",
            "_model_name": "HBoxModel",
            "_view_count": null,
            "_view_module": "@jupyter-widgets/controls",
            "_view_module_version": "1.5.0",
            "_view_name": "HBoxView",
            "box_style": "",
            "children": [
              "IPY_MODEL_0d83bcefdc8b4f66b863d59b332e6974",
              "IPY_MODEL_0feeaf582053411ca20809e1bd87f46a",
              "IPY_MODEL_9114695df46e495c9164979f2325ab37"
            ],
            "layout": "IPY_MODEL_e4513d52084c4c378b9a0a21af59c677"
          }
        },
        "0d83bcefdc8b4f66b863d59b332e6974": {
          "model_module": "@jupyter-widgets/controls",
          "model_name": "HTMLModel",
          "model_module_version": "1.5.0",
          "state": {
            "_dom_classes": [],
            "_model_module": "@jupyter-widgets/controls",
            "_model_module_version": "1.5.0",
            "_model_name": "HTMLModel",
            "_view_count": null,
            "_view_module": "@jupyter-widgets/controls",
            "_view_module_version": "1.5.0",
            "_view_name": "HTMLView",
            "description": "",
            "description_tooltip": null,
            "layout": "IPY_MODEL_e087d6746502480da10ca4a73185cbb0",
            "placeholder": "​",
            "style": "IPY_MODEL_800ded4e82dc45a584e5dc92d5483f3d",
            "value": "special_tokens_map.json: 100%"
          }
        },
        "0feeaf582053411ca20809e1bd87f46a": {
          "model_module": "@jupyter-widgets/controls",
          "model_name": "FloatProgressModel",
          "model_module_version": "1.5.0",
          "state": {
            "_dom_classes": [],
            "_model_module": "@jupyter-widgets/controls",
            "_model_module_version": "1.5.0",
            "_model_name": "FloatProgressModel",
            "_view_count": null,
            "_view_module": "@jupyter-widgets/controls",
            "_view_module_version": "1.5.0",
            "_view_name": "ProgressView",
            "bar_style": "success",
            "description": "",
            "description_tooltip": null,
            "layout": "IPY_MODEL_df5f1b3cce5f4516b438df055816164a",
            "max": 99,
            "min": 0,
            "orientation": "horizontal",
            "style": "IPY_MODEL_c76c3034c4e34612bf6c1bc43148826e",
            "value": 99
          }
        },
        "9114695df46e495c9164979f2325ab37": {
          "model_module": "@jupyter-widgets/controls",
          "model_name": "HTMLModel",
          "model_module_version": "1.5.0",
          "state": {
            "_dom_classes": [],
            "_model_module": "@jupyter-widgets/controls",
            "_model_module_version": "1.5.0",
            "_model_name": "HTMLModel",
            "_view_count": null,
            "_view_module": "@jupyter-widgets/controls",
            "_view_module_version": "1.5.0",
            "_view_name": "HTMLView",
            "description": "",
            "description_tooltip": null,
            "layout": "IPY_MODEL_8877f6c050554834a62b5c984a1006b1",
            "placeholder": "​",
            "style": "IPY_MODEL_73abdc55f6444b68ab389ffef1d04cf0",
            "value": " 99.0/99.0 [00:00&lt;00:00, 7.33kB/s]"
          }
        },
        "e4513d52084c4c378b9a0a21af59c677": {
          "model_module": "@jupyter-widgets/base",
          "model_name": "LayoutModel",
          "model_module_version": "1.2.0",
          "state": {
            "_model_module": "@jupyter-widgets/base",
            "_model_module_version": "1.2.0",
            "_model_name": "LayoutModel",
            "_view_count": null,
            "_view_module": "@jupyter-widgets/base",
            "_view_module_version": "1.2.0",
            "_view_name": "LayoutView",
            "align_content": null,
            "align_items": null,
            "align_self": null,
            "border": null,
            "bottom": null,
            "display": null,
            "flex": null,
            "flex_flow": null,
            "grid_area": null,
            "grid_auto_columns": null,
            "grid_auto_flow": null,
            "grid_auto_rows": null,
            "grid_column": null,
            "grid_gap": null,
            "grid_row": null,
            "grid_template_areas": null,
            "grid_template_columns": null,
            "grid_template_rows": null,
            "height": null,
            "justify_content": null,
            "justify_items": null,
            "left": null,
            "margin": null,
            "max_height": null,
            "max_width": null,
            "min_height": null,
            "min_width": null,
            "object_fit": null,
            "object_position": null,
            "order": null,
            "overflow": null,
            "overflow_x": null,
            "overflow_y": null,
            "padding": null,
            "right": null,
            "top": null,
            "visibility": null,
            "width": null
          }
        },
        "e087d6746502480da10ca4a73185cbb0": {
          "model_module": "@jupyter-widgets/base",
          "model_name": "LayoutModel",
          "model_module_version": "1.2.0",
          "state": {
            "_model_module": "@jupyter-widgets/base",
            "_model_module_version": "1.2.0",
            "_model_name": "LayoutModel",
            "_view_count": null,
            "_view_module": "@jupyter-widgets/base",
            "_view_module_version": "1.2.0",
            "_view_name": "LayoutView",
            "align_content": null,
            "align_items": null,
            "align_self": null,
            "border": null,
            "bottom": null,
            "display": null,
            "flex": null,
            "flex_flow": null,
            "grid_area": null,
            "grid_auto_columns": null,
            "grid_auto_flow": null,
            "grid_auto_rows": null,
            "grid_column": null,
            "grid_gap": null,
            "grid_row": null,
            "grid_template_areas": null,
            "grid_template_columns": null,
            "grid_template_rows": null,
            "height": null,
            "justify_content": null,
            "justify_items": null,
            "left": null,
            "margin": null,
            "max_height": null,
            "max_width": null,
            "min_height": null,
            "min_width": null,
            "object_fit": null,
            "object_position": null,
            "order": null,
            "overflow": null,
            "overflow_x": null,
            "overflow_y": null,
            "padding": null,
            "right": null,
            "top": null,
            "visibility": null,
            "width": null
          }
        },
        "800ded4e82dc45a584e5dc92d5483f3d": {
          "model_module": "@jupyter-widgets/controls",
          "model_name": "DescriptionStyleModel",
          "model_module_version": "1.5.0",
          "state": {
            "_model_module": "@jupyter-widgets/controls",
            "_model_module_version": "1.5.0",
            "_model_name": "DescriptionStyleModel",
            "_view_count": null,
            "_view_module": "@jupyter-widgets/base",
            "_view_module_version": "1.2.0",
            "_view_name": "StyleView",
            "description_width": ""
          }
        },
        "df5f1b3cce5f4516b438df055816164a": {
          "model_module": "@jupyter-widgets/base",
          "model_name": "LayoutModel",
          "model_module_version": "1.2.0",
          "state": {
            "_model_module": "@jupyter-widgets/base",
            "_model_module_version": "1.2.0",
            "_model_name": "LayoutModel",
            "_view_count": null,
            "_view_module": "@jupyter-widgets/base",
            "_view_module_version": "1.2.0",
            "_view_name": "LayoutView",
            "align_content": null,
            "align_items": null,
            "align_self": null,
            "border": null,
            "bottom": null,
            "display": null,
            "flex": null,
            "flex_flow": null,
            "grid_area": null,
            "grid_auto_columns": null,
            "grid_auto_flow": null,
            "grid_auto_rows": null,
            "grid_column": null,
            "grid_gap": null,
            "grid_row": null,
            "grid_template_areas": null,
            "grid_template_columns": null,
            "grid_template_rows": null,
            "height": null,
            "justify_content": null,
            "justify_items": null,
            "left": null,
            "margin": null,
            "max_height": null,
            "max_width": null,
            "min_height": null,
            "min_width": null,
            "object_fit": null,
            "object_position": null,
            "order": null,
            "overflow": null,
            "overflow_x": null,
            "overflow_y": null,
            "padding": null,
            "right": null,
            "top": null,
            "visibility": null,
            "width": null
          }
        },
        "c76c3034c4e34612bf6c1bc43148826e": {
          "model_module": "@jupyter-widgets/controls",
          "model_name": "ProgressStyleModel",
          "model_module_version": "1.5.0",
          "state": {
            "_model_module": "@jupyter-widgets/controls",
            "_model_module_version": "1.5.0",
            "_model_name": "ProgressStyleModel",
            "_view_count": null,
            "_view_module": "@jupyter-widgets/base",
            "_view_module_version": "1.2.0",
            "_view_name": "StyleView",
            "bar_color": null,
            "description_width": ""
          }
        },
        "8877f6c050554834a62b5c984a1006b1": {
          "model_module": "@jupyter-widgets/base",
          "model_name": "LayoutModel",
          "model_module_version": "1.2.0",
          "state": {
            "_model_module": "@jupyter-widgets/base",
            "_model_module_version": "1.2.0",
            "_model_name": "LayoutModel",
            "_view_count": null,
            "_view_module": "@jupyter-widgets/base",
            "_view_module_version": "1.2.0",
            "_view_name": "LayoutView",
            "align_content": null,
            "align_items": null,
            "align_self": null,
            "border": null,
            "bottom": null,
            "display": null,
            "flex": null,
            "flex_flow": null,
            "grid_area": null,
            "grid_auto_columns": null,
            "grid_auto_flow": null,
            "grid_auto_rows": null,
            "grid_column": null,
            "grid_gap": null,
            "grid_row": null,
            "grid_template_areas": null,
            "grid_template_columns": null,
            "grid_template_rows": null,
            "height": null,
            "justify_content": null,
            "justify_items": null,
            "left": null,
            "margin": null,
            "max_height": null,
            "max_width": null,
            "min_height": null,
            "min_width": null,
            "object_fit": null,
            "object_position": null,
            "order": null,
            "overflow": null,
            "overflow_x": null,
            "overflow_y": null,
            "padding": null,
            "right": null,
            "top": null,
            "visibility": null,
            "width": null
          }
        },
        "73abdc55f6444b68ab389ffef1d04cf0": {
          "model_module": "@jupyter-widgets/controls",
          "model_name": "DescriptionStyleModel",
          "model_module_version": "1.5.0",
          "state": {
            "_model_module": "@jupyter-widgets/controls",
            "_model_module_version": "1.5.0",
            "_model_name": "DescriptionStyleModel",
            "_view_count": null,
            "_view_module": "@jupyter-widgets/base",
            "_view_module_version": "1.2.0",
            "_view_name": "StyleView",
            "description_width": ""
          }
        },
        "0b476ae28eab484fa21abaa453419d53": {
          "model_module": "@jupyter-widgets/controls",
          "model_name": "HBoxModel",
          "model_module_version": "1.5.0",
          "state": {
            "_dom_classes": [],
            "_model_module": "@jupyter-widgets/controls",
            "_model_module_version": "1.5.0",
            "_model_name": "HBoxModel",
            "_view_count": null,
            "_view_module": "@jupyter-widgets/controls",
            "_view_module_version": "1.5.0",
            "_view_name": "HBoxView",
            "box_style": "",
            "children": [
              "IPY_MODEL_67f547f4854944ef9031f9ed41adf498",
              "IPY_MODEL_8e9ce41339c7430fa549a830e2baf77a",
              "IPY_MODEL_ec240959bc424b5f8d8b90740fad54ac"
            ],
            "layout": "IPY_MODEL_d8fad78491b040f38964cf4837f7d843"
          }
        },
        "67f547f4854944ef9031f9ed41adf498": {
          "model_module": "@jupyter-widgets/controls",
          "model_name": "HTMLModel",
          "model_module_version": "1.5.0",
          "state": {
            "_dom_classes": [],
            "_model_module": "@jupyter-widgets/controls",
            "_model_module_version": "1.5.0",
            "_model_name": "HTMLModel",
            "_view_count": null,
            "_view_module": "@jupyter-widgets/controls",
            "_view_module_version": "1.5.0",
            "_view_name": "HTMLView",
            "description": "",
            "description_tooltip": null,
            "layout": "IPY_MODEL_100178387b9a4f0c8f3b6025ff91a70f",
            "placeholder": "​",
            "style": "IPY_MODEL_3c932b1f205d40c4b3ff1de4b7f28f7c",
            "value": "Map: 100%"
          }
        },
        "8e9ce41339c7430fa549a830e2baf77a": {
          "model_module": "@jupyter-widgets/controls",
          "model_name": "FloatProgressModel",
          "model_module_version": "1.5.0",
          "state": {
            "_dom_classes": [],
            "_model_module": "@jupyter-widgets/controls",
            "_model_module_version": "1.5.0",
            "_model_name": "FloatProgressModel",
            "_view_count": null,
            "_view_module": "@jupyter-widgets/controls",
            "_view_module_version": "1.5.0",
            "_view_name": "ProgressView",
            "bar_style": "success",
            "description": "",
            "description_tooltip": null,
            "layout": "IPY_MODEL_074e578b79164aceaad5dc77dece3808",
            "max": 13639,
            "min": 0,
            "orientation": "horizontal",
            "style": "IPY_MODEL_a316e784420f4703ba9feec91b3abbf9",
            "value": 13639
          }
        },
        "ec240959bc424b5f8d8b90740fad54ac": {
          "model_module": "@jupyter-widgets/controls",
          "model_name": "HTMLModel",
          "model_module_version": "1.5.0",
          "state": {
            "_dom_classes": [],
            "_model_module": "@jupyter-widgets/controls",
            "_model_module_version": "1.5.0",
            "_model_name": "HTMLModel",
            "_view_count": null,
            "_view_module": "@jupyter-widgets/controls",
            "_view_module_version": "1.5.0",
            "_view_name": "HTMLView",
            "description": "",
            "description_tooltip": null,
            "layout": "IPY_MODEL_b4b05780a50b46f9a822fa078aad3272",
            "placeholder": "​",
            "style": "IPY_MODEL_d992f29a18ae4048a6c7c764bf1ddca3",
            "value": " 13639/13639 [01:29&lt;00:00, 141.82 examples/s]"
          }
        },
        "d8fad78491b040f38964cf4837f7d843": {
          "model_module": "@jupyter-widgets/base",
          "model_name": "LayoutModel",
          "model_module_version": "1.2.0",
          "state": {
            "_model_module": "@jupyter-widgets/base",
            "_model_module_version": "1.2.0",
            "_model_name": "LayoutModel",
            "_view_count": null,
            "_view_module": "@jupyter-widgets/base",
            "_view_module_version": "1.2.0",
            "_view_name": "LayoutView",
            "align_content": null,
            "align_items": null,
            "align_self": null,
            "border": null,
            "bottom": null,
            "display": null,
            "flex": null,
            "flex_flow": null,
            "grid_area": null,
            "grid_auto_columns": null,
            "grid_auto_flow": null,
            "grid_auto_rows": null,
            "grid_column": null,
            "grid_gap": null,
            "grid_row": null,
            "grid_template_areas": null,
            "grid_template_columns": null,
            "grid_template_rows": null,
            "height": null,
            "justify_content": null,
            "justify_items": null,
            "left": null,
            "margin": null,
            "max_height": null,
            "max_width": null,
            "min_height": null,
            "min_width": null,
            "object_fit": null,
            "object_position": null,
            "order": null,
            "overflow": null,
            "overflow_x": null,
            "overflow_y": null,
            "padding": null,
            "right": null,
            "top": null,
            "visibility": null,
            "width": null
          }
        },
        "100178387b9a4f0c8f3b6025ff91a70f": {
          "model_module": "@jupyter-widgets/base",
          "model_name": "LayoutModel",
          "model_module_version": "1.2.0",
          "state": {
            "_model_module": "@jupyter-widgets/base",
            "_model_module_version": "1.2.0",
            "_model_name": "LayoutModel",
            "_view_count": null,
            "_view_module": "@jupyter-widgets/base",
            "_view_module_version": "1.2.0",
            "_view_name": "LayoutView",
            "align_content": null,
            "align_items": null,
            "align_self": null,
            "border": null,
            "bottom": null,
            "display": null,
            "flex": null,
            "flex_flow": null,
            "grid_area": null,
            "grid_auto_columns": null,
            "grid_auto_flow": null,
            "grid_auto_rows": null,
            "grid_column": null,
            "grid_gap": null,
            "grid_row": null,
            "grid_template_areas": null,
            "grid_template_columns": null,
            "grid_template_rows": null,
            "height": null,
            "justify_content": null,
            "justify_items": null,
            "left": null,
            "margin": null,
            "max_height": null,
            "max_width": null,
            "min_height": null,
            "min_width": null,
            "object_fit": null,
            "object_position": null,
            "order": null,
            "overflow": null,
            "overflow_x": null,
            "overflow_y": null,
            "padding": null,
            "right": null,
            "top": null,
            "visibility": null,
            "width": null
          }
        },
        "3c932b1f205d40c4b3ff1de4b7f28f7c": {
          "model_module": "@jupyter-widgets/controls",
          "model_name": "DescriptionStyleModel",
          "model_module_version": "1.5.0",
          "state": {
            "_model_module": "@jupyter-widgets/controls",
            "_model_module_version": "1.5.0",
            "_model_name": "DescriptionStyleModel",
            "_view_count": null,
            "_view_module": "@jupyter-widgets/base",
            "_view_module_version": "1.2.0",
            "_view_name": "StyleView",
            "description_width": ""
          }
        },
        "074e578b79164aceaad5dc77dece3808": {
          "model_module": "@jupyter-widgets/base",
          "model_name": "LayoutModel",
          "model_module_version": "1.2.0",
          "state": {
            "_model_module": "@jupyter-widgets/base",
            "_model_module_version": "1.2.0",
            "_model_name": "LayoutModel",
            "_view_count": null,
            "_view_module": "@jupyter-widgets/base",
            "_view_module_version": "1.2.0",
            "_view_name": "LayoutView",
            "align_content": null,
            "align_items": null,
            "align_self": null,
            "border": null,
            "bottom": null,
            "display": null,
            "flex": null,
            "flex_flow": null,
            "grid_area": null,
            "grid_auto_columns": null,
            "grid_auto_flow": null,
            "grid_auto_rows": null,
            "grid_column": null,
            "grid_gap": null,
            "grid_row": null,
            "grid_template_areas": null,
            "grid_template_columns": null,
            "grid_template_rows": null,
            "height": null,
            "justify_content": null,
            "justify_items": null,
            "left": null,
            "margin": null,
            "max_height": null,
            "max_width": null,
            "min_height": null,
            "min_width": null,
            "object_fit": null,
            "object_position": null,
            "order": null,
            "overflow": null,
            "overflow_x": null,
            "overflow_y": null,
            "padding": null,
            "right": null,
            "top": null,
            "visibility": null,
            "width": null
          }
        },
        "a316e784420f4703ba9feec91b3abbf9": {
          "model_module": "@jupyter-widgets/controls",
          "model_name": "ProgressStyleModel",
          "model_module_version": "1.5.0",
          "state": {
            "_model_module": "@jupyter-widgets/controls",
            "_model_module_version": "1.5.0",
            "_model_name": "ProgressStyleModel",
            "_view_count": null,
            "_view_module": "@jupyter-widgets/base",
            "_view_module_version": "1.2.0",
            "_view_name": "StyleView",
            "bar_color": null,
            "description_width": ""
          }
        },
        "b4b05780a50b46f9a822fa078aad3272": {
          "model_module": "@jupyter-widgets/base",
          "model_name": "LayoutModel",
          "model_module_version": "1.2.0",
          "state": {
            "_model_module": "@jupyter-widgets/base",
            "_model_module_version": "1.2.0",
            "_model_name": "LayoutModel",
            "_view_count": null,
            "_view_module": "@jupyter-widgets/base",
            "_view_module_version": "1.2.0",
            "_view_name": "LayoutView",
            "align_content": null,
            "align_items": null,
            "align_self": null,
            "border": null,
            "bottom": null,
            "display": null,
            "flex": null,
            "flex_flow": null,
            "grid_area": null,
            "grid_auto_columns": null,
            "grid_auto_flow": null,
            "grid_auto_rows": null,
            "grid_column": null,
            "grid_gap": null,
            "grid_row": null,
            "grid_template_areas": null,
            "grid_template_columns": null,
            "grid_template_rows": null,
            "height": null,
            "justify_content": null,
            "justify_items": null,
            "left": null,
            "margin": null,
            "max_height": null,
            "max_width": null,
            "min_height": null,
            "min_width": null,
            "object_fit": null,
            "object_position": null,
            "order": null,
            "overflow": null,
            "overflow_x": null,
            "overflow_y": null,
            "padding": null,
            "right": null,
            "top": null,
            "visibility": null,
            "width": null
          }
        },
        "d992f29a18ae4048a6c7c764bf1ddca3": {
          "model_module": "@jupyter-widgets/controls",
          "model_name": "DescriptionStyleModel",
          "model_module_version": "1.5.0",
          "state": {
            "_model_module": "@jupyter-widgets/controls",
            "_model_module_version": "1.5.0",
            "_model_name": "DescriptionStyleModel",
            "_view_count": null,
            "_view_module": "@jupyter-widgets/base",
            "_view_module_version": "1.2.0",
            "_view_name": "StyleView",
            "description_width": ""
          }
        },
        "afe3637a99a8448d8518f36aea0a8c91": {
          "model_module": "@jupyter-widgets/controls",
          "model_name": "HBoxModel",
          "model_module_version": "1.5.0",
          "state": {
            "_dom_classes": [],
            "_model_module": "@jupyter-widgets/controls",
            "_model_module_version": "1.5.0",
            "_model_name": "HBoxModel",
            "_view_count": null,
            "_view_module": "@jupyter-widgets/controls",
            "_view_module_version": "1.5.0",
            "_view_name": "HBoxView",
            "box_style": "",
            "children": [
              "IPY_MODEL_7fb334046d9c494ebbc2b669ad862206",
              "IPY_MODEL_556d597feeb646db9f7866866d743aa4",
              "IPY_MODEL_c124c444b6d54e1293d96eed438ebd98"
            ],
            "layout": "IPY_MODEL_e7a3e16ab90c43eca621e2caf7118f93"
          }
        },
        "7fb334046d9c494ebbc2b669ad862206": {
          "model_module": "@jupyter-widgets/controls",
          "model_name": "HTMLModel",
          "model_module_version": "1.5.0",
          "state": {
            "_dom_classes": [],
            "_model_module": "@jupyter-widgets/controls",
            "_model_module_version": "1.5.0",
            "_model_name": "HTMLModel",
            "_view_count": null,
            "_view_module": "@jupyter-widgets/controls",
            "_view_module_version": "1.5.0",
            "_view_name": "HTMLView",
            "description": "",
            "description_tooltip": null,
            "layout": "IPY_MODEL_300320ffbf504f6b8a47bdcf94e61fa7",
            "placeholder": "​",
            "style": "IPY_MODEL_ce10ce1d27bf4cb48bb5a88ac0aa5890",
            "value": "Map: 100%"
          }
        },
        "556d597feeb646db9f7866866d743aa4": {
          "model_module": "@jupyter-widgets/controls",
          "model_name": "FloatProgressModel",
          "model_module_version": "1.5.0",
          "state": {
            "_dom_classes": [],
            "_model_module": "@jupyter-widgets/controls",
            "_model_module_version": "1.5.0",
            "_model_name": "FloatProgressModel",
            "_view_count": null,
            "_view_module": "@jupyter-widgets/controls",
            "_view_module_version": "1.5.0",
            "_view_name": "ProgressView",
            "bar_style": "success",
            "description": "",
            "description_tooltip": null,
            "layout": "IPY_MODEL_97fbbd5bdf764188bd365616a8da14c5",
            "max": 2408,
            "min": 0,
            "orientation": "horizontal",
            "style": "IPY_MODEL_b14a358f40be4cc5bb62dd26115024af",
            "value": 2408
          }
        },
        "c124c444b6d54e1293d96eed438ebd98": {
          "model_module": "@jupyter-widgets/controls",
          "model_name": "HTMLModel",
          "model_module_version": "1.5.0",
          "state": {
            "_dom_classes": [],
            "_model_module": "@jupyter-widgets/controls",
            "_model_module_version": "1.5.0",
            "_model_name": "HTMLModel",
            "_view_count": null,
            "_view_module": "@jupyter-widgets/controls",
            "_view_module_version": "1.5.0",
            "_view_name": "HTMLView",
            "description": "",
            "description_tooltip": null,
            "layout": "IPY_MODEL_a8d0f4cf107a4c5f8f71434ba796b70b",
            "placeholder": "​",
            "style": "IPY_MODEL_b6a46852f49d4556a12304b1bda97573",
            "value": " 2408/2408 [00:13&lt;00:00, 192.92 examples/s]"
          }
        },
        "e7a3e16ab90c43eca621e2caf7118f93": {
          "model_module": "@jupyter-widgets/base",
          "model_name": "LayoutModel",
          "model_module_version": "1.2.0",
          "state": {
            "_model_module": "@jupyter-widgets/base",
            "_model_module_version": "1.2.0",
            "_model_name": "LayoutModel",
            "_view_count": null,
            "_view_module": "@jupyter-widgets/base",
            "_view_module_version": "1.2.0",
            "_view_name": "LayoutView",
            "align_content": null,
            "align_items": null,
            "align_self": null,
            "border": null,
            "bottom": null,
            "display": null,
            "flex": null,
            "flex_flow": null,
            "grid_area": null,
            "grid_auto_columns": null,
            "grid_auto_flow": null,
            "grid_auto_rows": null,
            "grid_column": null,
            "grid_gap": null,
            "grid_row": null,
            "grid_template_areas": null,
            "grid_template_columns": null,
            "grid_template_rows": null,
            "height": null,
            "justify_content": null,
            "justify_items": null,
            "left": null,
            "margin": null,
            "max_height": null,
            "max_width": null,
            "min_height": null,
            "min_width": null,
            "object_fit": null,
            "object_position": null,
            "order": null,
            "overflow": null,
            "overflow_x": null,
            "overflow_y": null,
            "padding": null,
            "right": null,
            "top": null,
            "visibility": null,
            "width": null
          }
        },
        "300320ffbf504f6b8a47bdcf94e61fa7": {
          "model_module": "@jupyter-widgets/base",
          "model_name": "LayoutModel",
          "model_module_version": "1.2.0",
          "state": {
            "_model_module": "@jupyter-widgets/base",
            "_model_module_version": "1.2.0",
            "_model_name": "LayoutModel",
            "_view_count": null,
            "_view_module": "@jupyter-widgets/base",
            "_view_module_version": "1.2.0",
            "_view_name": "LayoutView",
            "align_content": null,
            "align_items": null,
            "align_self": null,
            "border": null,
            "bottom": null,
            "display": null,
            "flex": null,
            "flex_flow": null,
            "grid_area": null,
            "grid_auto_columns": null,
            "grid_auto_flow": null,
            "grid_auto_rows": null,
            "grid_column": null,
            "grid_gap": null,
            "grid_row": null,
            "grid_template_areas": null,
            "grid_template_columns": null,
            "grid_template_rows": null,
            "height": null,
            "justify_content": null,
            "justify_items": null,
            "left": null,
            "margin": null,
            "max_height": null,
            "max_width": null,
            "min_height": null,
            "min_width": null,
            "object_fit": null,
            "object_position": null,
            "order": null,
            "overflow": null,
            "overflow_x": null,
            "overflow_y": null,
            "padding": null,
            "right": null,
            "top": null,
            "visibility": null,
            "width": null
          }
        },
        "ce10ce1d27bf4cb48bb5a88ac0aa5890": {
          "model_module": "@jupyter-widgets/controls",
          "model_name": "DescriptionStyleModel",
          "model_module_version": "1.5.0",
          "state": {
            "_model_module": "@jupyter-widgets/controls",
            "_model_module_version": "1.5.0",
            "_model_name": "DescriptionStyleModel",
            "_view_count": null,
            "_view_module": "@jupyter-widgets/base",
            "_view_module_version": "1.2.0",
            "_view_name": "StyleView",
            "description_width": ""
          }
        },
        "97fbbd5bdf764188bd365616a8da14c5": {
          "model_module": "@jupyter-widgets/base",
          "model_name": "LayoutModel",
          "model_module_version": "1.2.0",
          "state": {
            "_model_module": "@jupyter-widgets/base",
            "_model_module_version": "1.2.0",
            "_model_name": "LayoutModel",
            "_view_count": null,
            "_view_module": "@jupyter-widgets/base",
            "_view_module_version": "1.2.0",
            "_view_name": "LayoutView",
            "align_content": null,
            "align_items": null,
            "align_self": null,
            "border": null,
            "bottom": null,
            "display": null,
            "flex": null,
            "flex_flow": null,
            "grid_area": null,
            "grid_auto_columns": null,
            "grid_auto_flow": null,
            "grid_auto_rows": null,
            "grid_column": null,
            "grid_gap": null,
            "grid_row": null,
            "grid_template_areas": null,
            "grid_template_columns": null,
            "grid_template_rows": null,
            "height": null,
            "justify_content": null,
            "justify_items": null,
            "left": null,
            "margin": null,
            "max_height": null,
            "max_width": null,
            "min_height": null,
            "min_width": null,
            "object_fit": null,
            "object_position": null,
            "order": null,
            "overflow": null,
            "overflow_x": null,
            "overflow_y": null,
            "padding": null,
            "right": null,
            "top": null,
            "visibility": null,
            "width": null
          }
        },
        "b14a358f40be4cc5bb62dd26115024af": {
          "model_module": "@jupyter-widgets/controls",
          "model_name": "ProgressStyleModel",
          "model_module_version": "1.5.0",
          "state": {
            "_model_module": "@jupyter-widgets/controls",
            "_model_module_version": "1.5.0",
            "_model_name": "ProgressStyleModel",
            "_view_count": null,
            "_view_module": "@jupyter-widgets/base",
            "_view_module_version": "1.2.0",
            "_view_name": "StyleView",
            "bar_color": null,
            "description_width": ""
          }
        },
        "a8d0f4cf107a4c5f8f71434ba796b70b": {
          "model_module": "@jupyter-widgets/base",
          "model_name": "LayoutModel",
          "model_module_version": "1.2.0",
          "state": {
            "_model_module": "@jupyter-widgets/base",
            "_model_module_version": "1.2.0",
            "_model_name": "LayoutModel",
            "_view_count": null,
            "_view_module": "@jupyter-widgets/base",
            "_view_module_version": "1.2.0",
            "_view_name": "LayoutView",
            "align_content": null,
            "align_items": null,
            "align_self": null,
            "border": null,
            "bottom": null,
            "display": null,
            "flex": null,
            "flex_flow": null,
            "grid_area": null,
            "grid_auto_columns": null,
            "grid_auto_flow": null,
            "grid_auto_rows": null,
            "grid_column": null,
            "grid_gap": null,
            "grid_row": null,
            "grid_template_areas": null,
            "grid_template_columns": null,
            "grid_template_rows": null,
            "height": null,
            "justify_content": null,
            "justify_items": null,
            "left": null,
            "margin": null,
            "max_height": null,
            "max_width": null,
            "min_height": null,
            "min_width": null,
            "object_fit": null,
            "object_position": null,
            "order": null,
            "overflow": null,
            "overflow_x": null,
            "overflow_y": null,
            "padding": null,
            "right": null,
            "top": null,
            "visibility": null,
            "width": null
          }
        },
        "b6a46852f49d4556a12304b1bda97573": {
          "model_module": "@jupyter-widgets/controls",
          "model_name": "DescriptionStyleModel",
          "model_module_version": "1.5.0",
          "state": {
            "_model_module": "@jupyter-widgets/controls",
            "_model_module_version": "1.5.0",
            "_model_name": "DescriptionStyleModel",
            "_view_count": null,
            "_view_module": "@jupyter-widgets/base",
            "_view_module_version": "1.2.0",
            "_view_name": "StyleView",
            "description_width": ""
          }
        },
        "bbb9fdd055d64c73b33e342bac0e7355": {
          "model_module": "@jupyter-widgets/controls",
          "model_name": "HBoxModel",
          "model_module_version": "1.5.0",
          "state": {
            "_dom_classes": [],
            "_model_module": "@jupyter-widgets/controls",
            "_model_module_version": "1.5.0",
            "_model_name": "HBoxModel",
            "_view_count": null,
            "_view_module": "@jupyter-widgets/controls",
            "_view_module_version": "1.5.0",
            "_view_name": "HBoxView",
            "box_style": "",
            "children": [
              "IPY_MODEL_d7be66fdab4949be899821002178f040",
              "IPY_MODEL_c92f2dbca0984aca9c77f47276430529",
              "IPY_MODEL_7e1ee96a31b744fca71af6824ead0b0f"
            ],
            "layout": "IPY_MODEL_2b68cacf38f749438a4cc322fa4ddaef"
          }
        },
        "d7be66fdab4949be899821002178f040": {
          "model_module": "@jupyter-widgets/controls",
          "model_name": "HTMLModel",
          "model_module_version": "1.5.0",
          "state": {
            "_dom_classes": [],
            "_model_module": "@jupyter-widgets/controls",
            "_model_module_version": "1.5.0",
            "_model_name": "HTMLModel",
            "_view_count": null,
            "_view_module": "@jupyter-widgets/controls",
            "_view_module_version": "1.5.0",
            "_view_name": "HTMLView",
            "description": "",
            "description_tooltip": null,
            "layout": "IPY_MODEL_8fa88d78c61447cd9ffcb7cefafb9ed4",
            "placeholder": "​",
            "style": "IPY_MODEL_67e0f82be3864f5ebc57bcb2cd8db472",
            "value": "pytorch_model.bin: 100%"
          }
        },
        "c92f2dbca0984aca9c77f47276430529": {
          "model_module": "@jupyter-widgets/controls",
          "model_name": "FloatProgressModel",
          "model_module_version": "1.5.0",
          "state": {
            "_dom_classes": [],
            "_model_module": "@jupyter-widgets/controls",
            "_model_module_version": "1.5.0",
            "_model_name": "FloatProgressModel",
            "_view_count": null,
            "_view_module": "@jupyter-widgets/controls",
            "_view_module_version": "1.5.0",
            "_view_name": "ProgressView",
            "bar_style": "success",
            "description": "",
            "description_tooltip": null,
            "layout": "IPY_MODEL_9c1c9ea84b6c4d37bf18d04c68a6ea82",
            "max": 1200794589,
            "min": 0,
            "orientation": "horizontal",
            "style": "IPY_MODEL_da87ded5750f41cd8efdb07321dd2930",
            "value": 1200794589
          }
        },
        "7e1ee96a31b744fca71af6824ead0b0f": {
          "model_module": "@jupyter-widgets/controls",
          "model_name": "HTMLModel",
          "model_module_version": "1.5.0",
          "state": {
            "_dom_classes": [],
            "_model_module": "@jupyter-widgets/controls",
            "_model_module_version": "1.5.0",
            "_model_name": "HTMLModel",
            "_view_count": null,
            "_view_module": "@jupyter-widgets/controls",
            "_view_module_version": "1.5.0",
            "_view_name": "HTMLView",
            "description": "",
            "description_tooltip": null,
            "layout": "IPY_MODEL_9a4a527a2f244ad4833e52c3439a3196",
            "placeholder": "​",
            "style": "IPY_MODEL_4d986e0178c54f69957763c7bc6cfc98",
            "value": " 1.20G/1.20G [00:08&lt;00:00, 246MB/s]"
          }
        },
        "2b68cacf38f749438a4cc322fa4ddaef": {
          "model_module": "@jupyter-widgets/base",
          "model_name": "LayoutModel",
          "model_module_version": "1.2.0",
          "state": {
            "_model_module": "@jupyter-widgets/base",
            "_model_module_version": "1.2.0",
            "_model_name": "LayoutModel",
            "_view_count": null,
            "_view_module": "@jupyter-widgets/base",
            "_view_module_version": "1.2.0",
            "_view_name": "LayoutView",
            "align_content": null,
            "align_items": null,
            "align_self": null,
            "border": null,
            "bottom": null,
            "display": null,
            "flex": null,
            "flex_flow": null,
            "grid_area": null,
            "grid_auto_columns": null,
            "grid_auto_flow": null,
            "grid_auto_rows": null,
            "grid_column": null,
            "grid_gap": null,
            "grid_row": null,
            "grid_template_areas": null,
            "grid_template_columns": null,
            "grid_template_rows": null,
            "height": null,
            "justify_content": null,
            "justify_items": null,
            "left": null,
            "margin": null,
            "max_height": null,
            "max_width": null,
            "min_height": null,
            "min_width": null,
            "object_fit": null,
            "object_position": null,
            "order": null,
            "overflow": null,
            "overflow_x": null,
            "overflow_y": null,
            "padding": null,
            "right": null,
            "top": null,
            "visibility": null,
            "width": null
          }
        },
        "8fa88d78c61447cd9ffcb7cefafb9ed4": {
          "model_module": "@jupyter-widgets/base",
          "model_name": "LayoutModel",
          "model_module_version": "1.2.0",
          "state": {
            "_model_module": "@jupyter-widgets/base",
            "_model_module_version": "1.2.0",
            "_model_name": "LayoutModel",
            "_view_count": null,
            "_view_module": "@jupyter-widgets/base",
            "_view_module_version": "1.2.0",
            "_view_name": "LayoutView",
            "align_content": null,
            "align_items": null,
            "align_self": null,
            "border": null,
            "bottom": null,
            "display": null,
            "flex": null,
            "flex_flow": null,
            "grid_area": null,
            "grid_auto_columns": null,
            "grid_auto_flow": null,
            "grid_auto_rows": null,
            "grid_column": null,
            "grid_gap": null,
            "grid_row": null,
            "grid_template_areas": null,
            "grid_template_columns": null,
            "grid_template_rows": null,
            "height": null,
            "justify_content": null,
            "justify_items": null,
            "left": null,
            "margin": null,
            "max_height": null,
            "max_width": null,
            "min_height": null,
            "min_width": null,
            "object_fit": null,
            "object_position": null,
            "order": null,
            "overflow": null,
            "overflow_x": null,
            "overflow_y": null,
            "padding": null,
            "right": null,
            "top": null,
            "visibility": null,
            "width": null
          }
        },
        "67e0f82be3864f5ebc57bcb2cd8db472": {
          "model_module": "@jupyter-widgets/controls",
          "model_name": "DescriptionStyleModel",
          "model_module_version": "1.5.0",
          "state": {
            "_model_module": "@jupyter-widgets/controls",
            "_model_module_version": "1.5.0",
            "_model_name": "DescriptionStyleModel",
            "_view_count": null,
            "_view_module": "@jupyter-widgets/base",
            "_view_module_version": "1.2.0",
            "_view_name": "StyleView",
            "description_width": ""
          }
        },
        "9c1c9ea84b6c4d37bf18d04c68a6ea82": {
          "model_module": "@jupyter-widgets/base",
          "model_name": "LayoutModel",
          "model_module_version": "1.2.0",
          "state": {
            "_model_module": "@jupyter-widgets/base",
            "_model_module_version": "1.2.0",
            "_model_name": "LayoutModel",
            "_view_count": null,
            "_view_module": "@jupyter-widgets/base",
            "_view_module_version": "1.2.0",
            "_view_name": "LayoutView",
            "align_content": null,
            "align_items": null,
            "align_self": null,
            "border": null,
            "bottom": null,
            "display": null,
            "flex": null,
            "flex_flow": null,
            "grid_area": null,
            "grid_auto_columns": null,
            "grid_auto_flow": null,
            "grid_auto_rows": null,
            "grid_column": null,
            "grid_gap": null,
            "grid_row": null,
            "grid_template_areas": null,
            "grid_template_columns": null,
            "grid_template_rows": null,
            "height": null,
            "justify_content": null,
            "justify_items": null,
            "left": null,
            "margin": null,
            "max_height": null,
            "max_width": null,
            "min_height": null,
            "min_width": null,
            "object_fit": null,
            "object_position": null,
            "order": null,
            "overflow": null,
            "overflow_x": null,
            "overflow_y": null,
            "padding": null,
            "right": null,
            "top": null,
            "visibility": null,
            "width": null
          }
        },
        "da87ded5750f41cd8efdb07321dd2930": {
          "model_module": "@jupyter-widgets/controls",
          "model_name": "ProgressStyleModel",
          "model_module_version": "1.5.0",
          "state": {
            "_model_module": "@jupyter-widgets/controls",
            "_model_module_version": "1.5.0",
            "_model_name": "ProgressStyleModel",
            "_view_count": null,
            "_view_module": "@jupyter-widgets/base",
            "_view_module_version": "1.2.0",
            "_view_name": "StyleView",
            "bar_color": null,
            "description_width": ""
          }
        },
        "9a4a527a2f244ad4833e52c3439a3196": {
          "model_module": "@jupyter-widgets/base",
          "model_name": "LayoutModel",
          "model_module_version": "1.2.0",
          "state": {
            "_model_module": "@jupyter-widgets/base",
            "_model_module_version": "1.2.0",
            "_model_name": "LayoutModel",
            "_view_count": null,
            "_view_module": "@jupyter-widgets/base",
            "_view_module_version": "1.2.0",
            "_view_name": "LayoutView",
            "align_content": null,
            "align_items": null,
            "align_self": null,
            "border": null,
            "bottom": null,
            "display": null,
            "flex": null,
            "flex_flow": null,
            "grid_area": null,
            "grid_auto_columns": null,
            "grid_auto_flow": null,
            "grid_auto_rows": null,
            "grid_column": null,
            "grid_gap": null,
            "grid_row": null,
            "grid_template_areas": null,
            "grid_template_columns": null,
            "grid_template_rows": null,
            "height": null,
            "justify_content": null,
            "justify_items": null,
            "left": null,
            "margin": null,
            "max_height": null,
            "max_width": null,
            "min_height": null,
            "min_width": null,
            "object_fit": null,
            "object_position": null,
            "order": null,
            "overflow": null,
            "overflow_x": null,
            "overflow_y": null,
            "padding": null,
            "right": null,
            "top": null,
            "visibility": null,
            "width": null
          }
        },
        "4d986e0178c54f69957763c7bc6cfc98": {
          "model_module": "@jupyter-widgets/controls",
          "model_name": "DescriptionStyleModel",
          "model_module_version": "1.5.0",
          "state": {
            "_model_module": "@jupyter-widgets/controls",
            "_model_module_version": "1.5.0",
            "_model_name": "DescriptionStyleModel",
            "_view_count": null,
            "_view_module": "@jupyter-widgets/base",
            "_view_module_version": "1.2.0",
            "_view_name": "StyleView",
            "description_width": ""
          }
        },
        "834d142feb7f4340b4fa5d77e429ebe3": {
          "model_module": "@jupyter-widgets/controls",
          "model_name": "HBoxModel",
          "model_module_version": "1.5.0",
          "state": {
            "_dom_classes": [],
            "_model_module": "@jupyter-widgets/controls",
            "_model_module_version": "1.5.0",
            "_model_name": "HBoxModel",
            "_view_count": null,
            "_view_module": "@jupyter-widgets/controls",
            "_view_module_version": "1.5.0",
            "_view_name": "HBoxView",
            "box_style": "",
            "children": [
              "IPY_MODEL_8094a71cb4f14a5dbbba48c272e109af",
              "IPY_MODEL_fdaad1f7ecd146c6a2e1237bdf64dae3",
              "IPY_MODEL_fa14fb76cf214c778fb13b4745eb53e2"
            ],
            "layout": "IPY_MODEL_28712dea013b4beaa0e5cd62e21c6f42"
          }
        },
        "8094a71cb4f14a5dbbba48c272e109af": {
          "model_module": "@jupyter-widgets/controls",
          "model_name": "HTMLModel",
          "model_module_version": "1.5.0",
          "state": {
            "_dom_classes": [],
            "_model_module": "@jupyter-widgets/controls",
            "_model_module_version": "1.5.0",
            "_model_name": "HTMLModel",
            "_view_count": null,
            "_view_module": "@jupyter-widgets/controls",
            "_view_module_version": "1.5.0",
            "_view_name": "HTMLView",
            "description": "",
            "description_tooltip": null,
            "layout": "IPY_MODEL_da48e36f08634be297b5ab0303addbb8",
            "placeholder": "​",
            "style": "IPY_MODEL_aca3c8a5d0c04a3aa6a911deb3c2a2ef",
            "value": "generation_config.json: 100%"
          }
        },
        "fdaad1f7ecd146c6a2e1237bdf64dae3": {
          "model_module": "@jupyter-widgets/controls",
          "model_name": "FloatProgressModel",
          "model_module_version": "1.5.0",
          "state": {
            "_dom_classes": [],
            "_model_module": "@jupyter-widgets/controls",
            "_model_module_version": "1.5.0",
            "_model_name": "FloatProgressModel",
            "_view_count": null,
            "_view_module": "@jupyter-widgets/controls",
            "_view_module_version": "1.5.0",
            "_view_name": "ProgressView",
            "bar_style": "success",
            "description": "",
            "description_tooltip": null,
            "layout": "IPY_MODEL_a3d0780b674c4071ab665f465f16aabf",
            "max": 147,
            "min": 0,
            "orientation": "horizontal",
            "style": "IPY_MODEL_cb05a7703cc04e20bd756cb345bc07c9",
            "value": 147
          }
        },
        "fa14fb76cf214c778fb13b4745eb53e2": {
          "model_module": "@jupyter-widgets/controls",
          "model_name": "HTMLModel",
          "model_module_version": "1.5.0",
          "state": {
            "_dom_classes": [],
            "_model_module": "@jupyter-widgets/controls",
            "_model_module_version": "1.5.0",
            "_model_name": "HTMLModel",
            "_view_count": null,
            "_view_module": "@jupyter-widgets/controls",
            "_view_module_version": "1.5.0",
            "_view_name": "HTMLView",
            "description": "",
            "description_tooltip": null,
            "layout": "IPY_MODEL_a0ac3da02de64b0d8ba18e19d1f747de",
            "placeholder": "​",
            "style": "IPY_MODEL_e6a3b4d696704f2998cba2613465c468",
            "value": " 147/147 [00:00&lt;00:00, 7.75kB/s]"
          }
        },
        "28712dea013b4beaa0e5cd62e21c6f42": {
          "model_module": "@jupyter-widgets/base",
          "model_name": "LayoutModel",
          "model_module_version": "1.2.0",
          "state": {
            "_model_module": "@jupyter-widgets/base",
            "_model_module_version": "1.2.0",
            "_model_name": "LayoutModel",
            "_view_count": null,
            "_view_module": "@jupyter-widgets/base",
            "_view_module_version": "1.2.0",
            "_view_name": "LayoutView",
            "align_content": null,
            "align_items": null,
            "align_self": null,
            "border": null,
            "bottom": null,
            "display": null,
            "flex": null,
            "flex_flow": null,
            "grid_area": null,
            "grid_auto_columns": null,
            "grid_auto_flow": null,
            "grid_auto_rows": null,
            "grid_column": null,
            "grid_gap": null,
            "grid_row": null,
            "grid_template_areas": null,
            "grid_template_columns": null,
            "grid_template_rows": null,
            "height": null,
            "justify_content": null,
            "justify_items": null,
            "left": null,
            "margin": null,
            "max_height": null,
            "max_width": null,
            "min_height": null,
            "min_width": null,
            "object_fit": null,
            "object_position": null,
            "order": null,
            "overflow": null,
            "overflow_x": null,
            "overflow_y": null,
            "padding": null,
            "right": null,
            "top": null,
            "visibility": null,
            "width": null
          }
        },
        "da48e36f08634be297b5ab0303addbb8": {
          "model_module": "@jupyter-widgets/base",
          "model_name": "LayoutModel",
          "model_module_version": "1.2.0",
          "state": {
            "_model_module": "@jupyter-widgets/base",
            "_model_module_version": "1.2.0",
            "_model_name": "LayoutModel",
            "_view_count": null,
            "_view_module": "@jupyter-widgets/base",
            "_view_module_version": "1.2.0",
            "_view_name": "LayoutView",
            "align_content": null,
            "align_items": null,
            "align_self": null,
            "border": null,
            "bottom": null,
            "display": null,
            "flex": null,
            "flex_flow": null,
            "grid_area": null,
            "grid_auto_columns": null,
            "grid_auto_flow": null,
            "grid_auto_rows": null,
            "grid_column": null,
            "grid_gap": null,
            "grid_row": null,
            "grid_template_areas": null,
            "grid_template_columns": null,
            "grid_template_rows": null,
            "height": null,
            "justify_content": null,
            "justify_items": null,
            "left": null,
            "margin": null,
            "max_height": null,
            "max_width": null,
            "min_height": null,
            "min_width": null,
            "object_fit": null,
            "object_position": null,
            "order": null,
            "overflow": null,
            "overflow_x": null,
            "overflow_y": null,
            "padding": null,
            "right": null,
            "top": null,
            "visibility": null,
            "width": null
          }
        },
        "aca3c8a5d0c04a3aa6a911deb3c2a2ef": {
          "model_module": "@jupyter-widgets/controls",
          "model_name": "DescriptionStyleModel",
          "model_module_version": "1.5.0",
          "state": {
            "_model_module": "@jupyter-widgets/controls",
            "_model_module_version": "1.5.0",
            "_model_name": "DescriptionStyleModel",
            "_view_count": null,
            "_view_module": "@jupyter-widgets/base",
            "_view_module_version": "1.2.0",
            "_view_name": "StyleView",
            "description_width": ""
          }
        },
        "a3d0780b674c4071ab665f465f16aabf": {
          "model_module": "@jupyter-widgets/base",
          "model_name": "LayoutModel",
          "model_module_version": "1.2.0",
          "state": {
            "_model_module": "@jupyter-widgets/base",
            "_model_module_version": "1.2.0",
            "_model_name": "LayoutModel",
            "_view_count": null,
            "_view_module": "@jupyter-widgets/base",
            "_view_module_version": "1.2.0",
            "_view_name": "LayoutView",
            "align_content": null,
            "align_items": null,
            "align_self": null,
            "border": null,
            "bottom": null,
            "display": null,
            "flex": null,
            "flex_flow": null,
            "grid_area": null,
            "grid_auto_columns": null,
            "grid_auto_flow": null,
            "grid_auto_rows": null,
            "grid_column": null,
            "grid_gap": null,
            "grid_row": null,
            "grid_template_areas": null,
            "grid_template_columns": null,
            "grid_template_rows": null,
            "height": null,
            "justify_content": null,
            "justify_items": null,
            "left": null,
            "margin": null,
            "max_height": null,
            "max_width": null,
            "min_height": null,
            "min_width": null,
            "object_fit": null,
            "object_position": null,
            "order": null,
            "overflow": null,
            "overflow_x": null,
            "overflow_y": null,
            "padding": null,
            "right": null,
            "top": null,
            "visibility": null,
            "width": null
          }
        },
        "cb05a7703cc04e20bd756cb345bc07c9": {
          "model_module": "@jupyter-widgets/controls",
          "model_name": "ProgressStyleModel",
          "model_module_version": "1.5.0",
          "state": {
            "_model_module": "@jupyter-widgets/controls",
            "_model_module_version": "1.5.0",
            "_model_name": "ProgressStyleModel",
            "_view_count": null,
            "_view_module": "@jupyter-widgets/base",
            "_view_module_version": "1.2.0",
            "_view_name": "StyleView",
            "bar_color": null,
            "description_width": ""
          }
        },
        "a0ac3da02de64b0d8ba18e19d1f747de": {
          "model_module": "@jupyter-widgets/base",
          "model_name": "LayoutModel",
          "model_module_version": "1.2.0",
          "state": {
            "_model_module": "@jupyter-widgets/base",
            "_model_module_version": "1.2.0",
            "_model_name": "LayoutModel",
            "_view_count": null,
            "_view_module": "@jupyter-widgets/base",
            "_view_module_version": "1.2.0",
            "_view_name": "LayoutView",
            "align_content": null,
            "align_items": null,
            "align_self": null,
            "border": null,
            "bottom": null,
            "display": null,
            "flex": null,
            "flex_flow": null,
            "grid_area": null,
            "grid_auto_columns": null,
            "grid_auto_flow": null,
            "grid_auto_rows": null,
            "grid_column": null,
            "grid_gap": null,
            "grid_row": null,
            "grid_template_areas": null,
            "grid_template_columns": null,
            "grid_template_rows": null,
            "height": null,
            "justify_content": null,
            "justify_items": null,
            "left": null,
            "margin": null,
            "max_height": null,
            "max_width": null,
            "min_height": null,
            "min_width": null,
            "object_fit": null,
            "object_position": null,
            "order": null,
            "overflow": null,
            "overflow_x": null,
            "overflow_y": null,
            "padding": null,
            "right": null,
            "top": null,
            "visibility": null,
            "width": null
          }
        },
        "e6a3b4d696704f2998cba2613465c468": {
          "model_module": "@jupyter-widgets/controls",
          "model_name": "DescriptionStyleModel",
          "model_module_version": "1.5.0",
          "state": {
            "_model_module": "@jupyter-widgets/controls",
            "_model_module_version": "1.5.0",
            "_model_name": "DescriptionStyleModel",
            "_view_count": null,
            "_view_module": "@jupyter-widgets/base",
            "_view_module_version": "1.2.0",
            "_view_name": "StyleView",
            "description_width": ""
          }
        },
        "f4272743b3a74086917db4c4a2d2b10a": {
          "model_module": "@jupyter-widgets/controls",
          "model_name": "HBoxModel",
          "model_module_version": "1.5.0",
          "state": {
            "_dom_classes": [],
            "_model_module": "@jupyter-widgets/controls",
            "_model_module_version": "1.5.0",
            "_model_name": "HBoxModel",
            "_view_count": null,
            "_view_module": "@jupyter-widgets/controls",
            "_view_module_version": "1.5.0",
            "_view_name": "HBoxView",
            "box_style": "",
            "children": [
              "IPY_MODEL_1ee700b64fe24259bb1940b9416d13aa",
              "IPY_MODEL_b0d48a6b0181496197f11ff369538569",
              "IPY_MODEL_4e42f25450054b98ab3ab12583a4cb91"
            ],
            "layout": "IPY_MODEL_1cdb5bba3fcd4d2cb82b301cbc17197d"
          }
        },
        "1ee700b64fe24259bb1940b9416d13aa": {
          "model_module": "@jupyter-widgets/controls",
          "model_name": "HTMLModel",
          "model_module_version": "1.5.0",
          "state": {
            "_dom_classes": [],
            "_model_module": "@jupyter-widgets/controls",
            "_model_module_version": "1.5.0",
            "_model_name": "HTMLModel",
            "_view_count": null,
            "_view_module": "@jupyter-widgets/controls",
            "_view_module_version": "1.5.0",
            "_view_name": "HTMLView",
            "description": "",
            "description_tooltip": null,
            "layout": "IPY_MODEL_7af2edba1ac347af8c96a16138073aa1",
            "placeholder": "​",
            "style": "IPY_MODEL_442cb6ab018f442d816ada948f9ec3cc",
            "value": "model.safetensors: 100%"
          }
        },
        "b0d48a6b0181496197f11ff369538569": {
          "model_module": "@jupyter-widgets/controls",
          "model_name": "FloatProgressModel",
          "model_module_version": "1.5.0",
          "state": {
            "_dom_classes": [],
            "_model_module": "@jupyter-widgets/controls",
            "_model_module_version": "1.5.0",
            "_model_name": "FloatProgressModel",
            "_view_count": null,
            "_view_module": "@jupyter-widgets/controls",
            "_view_module_version": "1.5.0",
            "_view_name": "ProgressView",
            "bar_style": "success",
            "description": "",
            "description_tooltip": null,
            "layout": "IPY_MODEL_3921e6ceab50485698a3f302c5193780",
            "max": 1200729512,
            "min": 0,
            "orientation": "horizontal",
            "style": "IPY_MODEL_85113c8167a743df97861d47b11f20fa",
            "value": 1200729512
          }
        },
        "4e42f25450054b98ab3ab12583a4cb91": {
          "model_module": "@jupyter-widgets/controls",
          "model_name": "HTMLModel",
          "model_module_version": "1.5.0",
          "state": {
            "_dom_classes": [],
            "_model_module": "@jupyter-widgets/controls",
            "_model_module_version": "1.5.0",
            "_model_name": "HTMLModel",
            "_view_count": null,
            "_view_module": "@jupyter-widgets/controls",
            "_view_module_version": "1.5.0",
            "_view_name": "HTMLView",
            "description": "",
            "description_tooltip": null,
            "layout": "IPY_MODEL_4ce38dfd828746669724bfafe04e5a2a",
            "placeholder": "​",
            "style": "IPY_MODEL_fa4f09054c514184bbd8aa92d91174b1",
            "value": " 1.20G/1.20G [00:12&lt;00:00, 105MB/s]"
          }
        },
        "1cdb5bba3fcd4d2cb82b301cbc17197d": {
          "model_module": "@jupyter-widgets/base",
          "model_name": "LayoutModel",
          "model_module_version": "1.2.0",
          "state": {
            "_model_module": "@jupyter-widgets/base",
            "_model_module_version": "1.2.0",
            "_model_name": "LayoutModel",
            "_view_count": null,
            "_view_module": "@jupyter-widgets/base",
            "_view_module_version": "1.2.0",
            "_view_name": "LayoutView",
            "align_content": null,
            "align_items": null,
            "align_self": null,
            "border": null,
            "bottom": null,
            "display": null,
            "flex": null,
            "flex_flow": null,
            "grid_area": null,
            "grid_auto_columns": null,
            "grid_auto_flow": null,
            "grid_auto_rows": null,
            "grid_column": null,
            "grid_gap": null,
            "grid_row": null,
            "grid_template_areas": null,
            "grid_template_columns": null,
            "grid_template_rows": null,
            "height": null,
            "justify_content": null,
            "justify_items": null,
            "left": null,
            "margin": null,
            "max_height": null,
            "max_width": null,
            "min_height": null,
            "min_width": null,
            "object_fit": null,
            "object_position": null,
            "order": null,
            "overflow": null,
            "overflow_x": null,
            "overflow_y": null,
            "padding": null,
            "right": null,
            "top": null,
            "visibility": null,
            "width": null
          }
        },
        "7af2edba1ac347af8c96a16138073aa1": {
          "model_module": "@jupyter-widgets/base",
          "model_name": "LayoutModel",
          "model_module_version": "1.2.0",
          "state": {
            "_model_module": "@jupyter-widgets/base",
            "_model_module_version": "1.2.0",
            "_model_name": "LayoutModel",
            "_view_count": null,
            "_view_module": "@jupyter-widgets/base",
            "_view_module_version": "1.2.0",
            "_view_name": "LayoutView",
            "align_content": null,
            "align_items": null,
            "align_self": null,
            "border": null,
            "bottom": null,
            "display": null,
            "flex": null,
            "flex_flow": null,
            "grid_area": null,
            "grid_auto_columns": null,
            "grid_auto_flow": null,
            "grid_auto_rows": null,
            "grid_column": null,
            "grid_gap": null,
            "grid_row": null,
            "grid_template_areas": null,
            "grid_template_columns": null,
            "grid_template_rows": null,
            "height": null,
            "justify_content": null,
            "justify_items": null,
            "left": null,
            "margin": null,
            "max_height": null,
            "max_width": null,
            "min_height": null,
            "min_width": null,
            "object_fit": null,
            "object_position": null,
            "order": null,
            "overflow": null,
            "overflow_x": null,
            "overflow_y": null,
            "padding": null,
            "right": null,
            "top": null,
            "visibility": null,
            "width": null
          }
        },
        "442cb6ab018f442d816ada948f9ec3cc": {
          "model_module": "@jupyter-widgets/controls",
          "model_name": "DescriptionStyleModel",
          "model_module_version": "1.5.0",
          "state": {
            "_model_module": "@jupyter-widgets/controls",
            "_model_module_version": "1.5.0",
            "_model_name": "DescriptionStyleModel",
            "_view_count": null,
            "_view_module": "@jupyter-widgets/base",
            "_view_module_version": "1.2.0",
            "_view_name": "StyleView",
            "description_width": ""
          }
        },
        "3921e6ceab50485698a3f302c5193780": {
          "model_module": "@jupyter-widgets/base",
          "model_name": "LayoutModel",
          "model_module_version": "1.2.0",
          "state": {
            "_model_module": "@jupyter-widgets/base",
            "_model_module_version": "1.2.0",
            "_model_name": "LayoutModel",
            "_view_count": null,
            "_view_module": "@jupyter-widgets/base",
            "_view_module_version": "1.2.0",
            "_view_name": "LayoutView",
            "align_content": null,
            "align_items": null,
            "align_self": null,
            "border": null,
            "bottom": null,
            "display": null,
            "flex": null,
            "flex_flow": null,
            "grid_area": null,
            "grid_auto_columns": null,
            "grid_auto_flow": null,
            "grid_auto_rows": null,
            "grid_column": null,
            "grid_gap": null,
            "grid_row": null,
            "grid_template_areas": null,
            "grid_template_columns": null,
            "grid_template_rows": null,
            "height": null,
            "justify_content": null,
            "justify_items": null,
            "left": null,
            "margin": null,
            "max_height": null,
            "max_width": null,
            "min_height": null,
            "min_width": null,
            "object_fit": null,
            "object_position": null,
            "order": null,
            "overflow": null,
            "overflow_x": null,
            "overflow_y": null,
            "padding": null,
            "right": null,
            "top": null,
            "visibility": null,
            "width": null
          }
        },
        "85113c8167a743df97861d47b11f20fa": {
          "model_module": "@jupyter-widgets/controls",
          "model_name": "ProgressStyleModel",
          "model_module_version": "1.5.0",
          "state": {
            "_model_module": "@jupyter-widgets/controls",
            "_model_module_version": "1.5.0",
            "_model_name": "ProgressStyleModel",
            "_view_count": null,
            "_view_module": "@jupyter-widgets/base",
            "_view_module_version": "1.2.0",
            "_view_name": "StyleView",
            "bar_color": null,
            "description_width": ""
          }
        },
        "4ce38dfd828746669724bfafe04e5a2a": {
          "model_module": "@jupyter-widgets/base",
          "model_name": "LayoutModel",
          "model_module_version": "1.2.0",
          "state": {
            "_model_module": "@jupyter-widgets/base",
            "_model_module_version": "1.2.0",
            "_model_name": "LayoutModel",
            "_view_count": null,
            "_view_module": "@jupyter-widgets/base",
            "_view_module_version": "1.2.0",
            "_view_name": "LayoutView",
            "align_content": null,
            "align_items": null,
            "align_self": null,
            "border": null,
            "bottom": null,
            "display": null,
            "flex": null,
            "flex_flow": null,
            "grid_area": null,
            "grid_auto_columns": null,
            "grid_auto_flow": null,
            "grid_auto_rows": null,
            "grid_column": null,
            "grid_gap": null,
            "grid_row": null,
            "grid_template_areas": null,
            "grid_template_columns": null,
            "grid_template_rows": null,
            "height": null,
            "justify_content": null,
            "justify_items": null,
            "left": null,
            "margin": null,
            "max_height": null,
            "max_width": null,
            "min_height": null,
            "min_width": null,
            "object_fit": null,
            "object_position": null,
            "order": null,
            "overflow": null,
            "overflow_x": null,
            "overflow_y": null,
            "padding": null,
            "right": null,
            "top": null,
            "visibility": null,
            "width": null
          }
        },
        "fa4f09054c514184bbd8aa92d91174b1": {
          "model_module": "@jupyter-widgets/controls",
          "model_name": "DescriptionStyleModel",
          "model_module_version": "1.5.0",
          "state": {
            "_model_module": "@jupyter-widgets/controls",
            "_model_module_version": "1.5.0",
            "_model_name": "DescriptionStyleModel",
            "_view_count": null,
            "_view_module": "@jupyter-widgets/base",
            "_view_module_version": "1.2.0",
            "_view_name": "StyleView",
            "description_width": ""
          }
        }
      }
    },
    "accelerator": "GPU"
  },
  "cells": [
    {
      "cell_type": "markdown",
      "metadata": {
        "id": "view-in-github",
        "colab_type": "text"
      },
      "source": [
        "<a href=\"https://colab.research.google.com/github/luckyme410/summary_champ/blob/main/summarize_ru.ipynb\" target=\"_parent\"><img src=\"https://colab.research.google.com/assets/colab-badge.svg\" alt=\"Open In Colab\"/></a>"
      ]
    },
    {
      "cell_type": "markdown",
      "source": [
        "## В приведенном ноутбуке мы будем суммаризировать спортивные статьи с Чемпионат.com (https://www.championat.com/). Статьи выбраны по 7 видам спорта (футбол, баскетбол, хоккей, ...). Для суммаризации текстов использовались: mT5-small и mBart-ru"
      ],
      "metadata": {
        "id": "aQuIfiP1-tIq"
      }
    },
    {
      "cell_type": "code",
      "execution_count": null,
      "metadata": {
        "id": "tbnUgEfzagmM",
        "collapsed": true,
        "colab": {
          "base_uri": "https://localhost:8080/"
        },
        "outputId": "9c97f8f7-7f3f-42de-85bc-a7f07a7e8677"
      },
      "outputs": [
        {
          "output_type": "stream",
          "name": "stdout",
          "text": [
            "Collecting datasets\n",
            "  Downloading datasets-3.1.0-py3-none-any.whl.metadata (20 kB)\n",
            "Requirement already satisfied: transformers in /usr/local/lib/python3.10/dist-packages (4.46.2)\n",
            "Collecting rouge-score\n",
            "  Downloading rouge_score-0.1.2.tar.gz (17 kB)\n",
            "  Preparing metadata (setup.py) ... \u001b[?25l\u001b[?25hdone\n",
            "Collecting evaluate\n",
            "  Downloading evaluate-0.4.3-py3-none-any.whl.metadata (9.2 kB)\n",
            "Requirement already satisfied: filelock in /usr/local/lib/python3.10/dist-packages (from datasets) (3.16.1)\n",
            "Requirement already satisfied: numpy>=1.17 in /usr/local/lib/python3.10/dist-packages (from datasets) (1.26.4)\n",
            "Requirement already satisfied: pyarrow>=15.0.0 in /usr/local/lib/python3.10/dist-packages (from datasets) (17.0.0)\n",
            "Collecting dill<0.3.9,>=0.3.0 (from datasets)\n",
            "  Downloading dill-0.3.8-py3-none-any.whl.metadata (10 kB)\n",
            "Requirement already satisfied: pandas in /usr/local/lib/python3.10/dist-packages (from datasets) (2.2.2)\n",
            "Requirement already satisfied: requests>=2.32.2 in /usr/local/lib/python3.10/dist-packages (from datasets) (2.32.3)\n",
            "Requirement already satisfied: tqdm>=4.66.3 in /usr/local/lib/python3.10/dist-packages (from datasets) (4.66.6)\n",
            "Collecting xxhash (from datasets)\n",
            "  Downloading xxhash-3.5.0-cp310-cp310-manylinux_2_17_x86_64.manylinux2014_x86_64.whl.metadata (12 kB)\n",
            "Collecting multiprocess<0.70.17 (from datasets)\n",
            "  Downloading multiprocess-0.70.16-py310-none-any.whl.metadata (7.2 kB)\n",
            "Collecting fsspec<=2024.9.0,>=2023.1.0 (from fsspec[http]<=2024.9.0,>=2023.1.0->datasets)\n",
            "  Downloading fsspec-2024.9.0-py3-none-any.whl.metadata (11 kB)\n",
            "Requirement already satisfied: aiohttp in /usr/local/lib/python3.10/dist-packages (from datasets) (3.10.10)\n",
            "Requirement already satisfied: huggingface-hub>=0.23.0 in /usr/local/lib/python3.10/dist-packages (from datasets) (0.26.2)\n",
            "Requirement already satisfied: packaging in /usr/local/lib/python3.10/dist-packages (from datasets) (24.2)\n",
            "Requirement already satisfied: pyyaml>=5.1 in /usr/local/lib/python3.10/dist-packages (from datasets) (6.0.2)\n",
            "Requirement already satisfied: regex!=2019.12.17 in /usr/local/lib/python3.10/dist-packages (from transformers) (2024.9.11)\n",
            "Requirement already satisfied: safetensors>=0.4.1 in /usr/local/lib/python3.10/dist-packages (from transformers) (0.4.5)\n",
            "Requirement already satisfied: tokenizers<0.21,>=0.20 in /usr/local/lib/python3.10/dist-packages (from transformers) (0.20.3)\n",
            "Requirement already satisfied: absl-py in /usr/local/lib/python3.10/dist-packages (from rouge-score) (1.4.0)\n",
            "Requirement already satisfied: nltk in /usr/local/lib/python3.10/dist-packages (from rouge-score) (3.9.1)\n",
            "Requirement already satisfied: six>=1.14.0 in /usr/local/lib/python3.10/dist-packages (from rouge-score) (1.16.0)\n",
            "Requirement already satisfied: aiohappyeyeballs>=2.3.0 in /usr/local/lib/python3.10/dist-packages (from aiohttp->datasets) (2.4.3)\n",
            "Requirement already satisfied: aiosignal>=1.1.2 in /usr/local/lib/python3.10/dist-packages (from aiohttp->datasets) (1.3.1)\n",
            "Requirement already satisfied: attrs>=17.3.0 in /usr/local/lib/python3.10/dist-packages (from aiohttp->datasets) (24.2.0)\n",
            "Requirement already satisfied: frozenlist>=1.1.1 in /usr/local/lib/python3.10/dist-packages (from aiohttp->datasets) (1.5.0)\n",
            "Requirement already satisfied: multidict<7.0,>=4.5 in /usr/local/lib/python3.10/dist-packages (from aiohttp->datasets) (6.1.0)\n",
            "Requirement already satisfied: yarl<2.0,>=1.12.0 in /usr/local/lib/python3.10/dist-packages (from aiohttp->datasets) (1.17.1)\n",
            "Requirement already satisfied: async-timeout<5.0,>=4.0 in /usr/local/lib/python3.10/dist-packages (from aiohttp->datasets) (4.0.3)\n",
            "Requirement already satisfied: typing-extensions>=3.7.4.3 in /usr/local/lib/python3.10/dist-packages (from huggingface-hub>=0.23.0->datasets) (4.12.2)\n",
            "Requirement already satisfied: charset-normalizer<4,>=2 in /usr/local/lib/python3.10/dist-packages (from requests>=2.32.2->datasets) (3.4.0)\n",
            "Requirement already satisfied: idna<4,>=2.5 in /usr/local/lib/python3.10/dist-packages (from requests>=2.32.2->datasets) (3.10)\n",
            "Requirement already satisfied: urllib3<3,>=1.21.1 in /usr/local/lib/python3.10/dist-packages (from requests>=2.32.2->datasets) (2.2.3)\n",
            "Requirement already satisfied: certifi>=2017.4.17 in /usr/local/lib/python3.10/dist-packages (from requests>=2.32.2->datasets) (2024.8.30)\n",
            "Requirement already satisfied: click in /usr/local/lib/python3.10/dist-packages (from nltk->rouge-score) (8.1.7)\n",
            "Requirement already satisfied: joblib in /usr/local/lib/python3.10/dist-packages (from nltk->rouge-score) (1.4.2)\n",
            "Requirement already satisfied: python-dateutil>=2.8.2 in /usr/local/lib/python3.10/dist-packages (from pandas->datasets) (2.8.2)\n",
            "Requirement already satisfied: pytz>=2020.1 in /usr/local/lib/python3.10/dist-packages (from pandas->datasets) (2024.2)\n",
            "Requirement already satisfied: tzdata>=2022.7 in /usr/local/lib/python3.10/dist-packages (from pandas->datasets) (2024.2)\n",
            "Requirement already satisfied: propcache>=0.2.0 in /usr/local/lib/python3.10/dist-packages (from yarl<2.0,>=1.12.0->aiohttp->datasets) (0.2.0)\n",
            "Downloading datasets-3.1.0-py3-none-any.whl (480 kB)\n",
            "\u001b[2K   \u001b[90m━━━━━━━━━━━━━━━━━━━━━━━━━━━━━━━━━━━━━━━━\u001b[0m \u001b[32m480.6/480.6 kB\u001b[0m \u001b[31m6.8 MB/s\u001b[0m eta \u001b[36m0:00:00\u001b[0m\n",
            "\u001b[?25hDownloading evaluate-0.4.3-py3-none-any.whl (84 kB)\n",
            "\u001b[2K   \u001b[90m━━━━━━━━━━━━━━━━━━━━━━━━━━━━━━━━━━━━━━━━\u001b[0m \u001b[32m84.0/84.0 kB\u001b[0m \u001b[31m4.8 MB/s\u001b[0m eta \u001b[36m0:00:00\u001b[0m\n",
            "\u001b[?25hDownloading dill-0.3.8-py3-none-any.whl (116 kB)\n",
            "\u001b[2K   \u001b[90m━━━━━━━━━━━━━━━━━━━━━━━━━━━━━━━━━━━━━━━━\u001b[0m \u001b[32m116.3/116.3 kB\u001b[0m \u001b[31m9.0 MB/s\u001b[0m eta \u001b[36m0:00:00\u001b[0m\n",
            "\u001b[?25hDownloading fsspec-2024.9.0-py3-none-any.whl (179 kB)\n",
            "\u001b[2K   \u001b[90m━━━━━━━━━━━━━━━━━━━━━━━━━━━━━━━━━━━━━━━━\u001b[0m \u001b[32m179.3/179.3 kB\u001b[0m \u001b[31m8.1 MB/s\u001b[0m eta \u001b[36m0:00:00\u001b[0m\n",
            "\u001b[?25hDownloading multiprocess-0.70.16-py310-none-any.whl (134 kB)\n",
            "\u001b[2K   \u001b[90m━━━━━━━━━━━━━━━━━━━━━━━━━━━━━━━━━━━━━━━━\u001b[0m \u001b[32m134.8/134.8 kB\u001b[0m \u001b[31m8.9 MB/s\u001b[0m eta \u001b[36m0:00:00\u001b[0m\n",
            "\u001b[?25hDownloading xxhash-3.5.0-cp310-cp310-manylinux_2_17_x86_64.manylinux2014_x86_64.whl (194 kB)\n",
            "\u001b[2K   \u001b[90m━━━━━━━━━━━━━━━━━━━━━━━━━━━━━━━━━━━━━━━━\u001b[0m \u001b[32m194.1/194.1 kB\u001b[0m \u001b[31m9.8 MB/s\u001b[0m eta \u001b[36m0:00:00\u001b[0m\n",
            "\u001b[?25hBuilding wheels for collected packages: rouge-score\n",
            "  Building wheel for rouge-score (setup.py) ... \u001b[?25l\u001b[?25hdone\n",
            "  Created wheel for rouge-score: filename=rouge_score-0.1.2-py3-none-any.whl size=24935 sha256=52df1cca15931d92b0ab1f7147a5b067a1fdf151c90b38fe96d58793dfde9a97\n",
            "  Stored in directory: /root/.cache/pip/wheels/5f/dd/89/461065a73be61a532ff8599a28e9beef17985c9e9c31e541b4\n",
            "Successfully built rouge-score\n",
            "Installing collected packages: xxhash, fsspec, dill, rouge-score, multiprocess, datasets, evaluate\n",
            "  Attempting uninstall: fsspec\n",
            "    Found existing installation: fsspec 2024.10.0\n",
            "    Uninstalling fsspec-2024.10.0:\n",
            "      Successfully uninstalled fsspec-2024.10.0\n",
            "\u001b[31mERROR: pip's dependency resolver does not currently take into account all the packages that are installed. This behaviour is the source of the following dependency conflicts.\n",
            "gcsfs 2024.10.0 requires fsspec==2024.10.0, but you have fsspec 2024.9.0 which is incompatible.\u001b[0m\u001b[31m\n",
            "\u001b[0mSuccessfully installed datasets-3.1.0 dill-0.3.8 evaluate-0.4.3 fsspec-2024.9.0 multiprocess-0.70.16 rouge-score-0.1.2 xxhash-3.5.0\n"
          ]
        }
      ],
      "source": [
        "! pip install datasets transformers rouge-score evaluate"
      ]
    },
    {
      "cell_type": "code",
      "source": [
        "!pip install -U nltk"
      ],
      "metadata": {
        "collapsed": true,
        "id": "OxJXrc1eaoJc",
        "colab": {
          "base_uri": "https://localhost:8080/"
        },
        "outputId": "ffb3d850-5fa3-4044-9183-b7f0e208cc9f"
      },
      "execution_count": null,
      "outputs": [
        {
          "output_type": "stream",
          "name": "stdout",
          "text": [
            "Requirement already satisfied: nltk in /usr/local/lib/python3.10/dist-packages (3.9.1)\n",
            "Requirement already satisfied: click in /usr/local/lib/python3.10/dist-packages (from nltk) (8.1.7)\n",
            "Requirement already satisfied: joblib in /usr/local/lib/python3.10/dist-packages (from nltk) (1.4.2)\n",
            "Requirement already satisfied: regex>=2021.8.3 in /usr/local/lib/python3.10/dist-packages (from nltk) (2024.9.11)\n",
            "Requirement already satisfied: tqdm in /usr/local/lib/python3.10/dist-packages (from nltk) (4.66.6)\n"
          ]
        }
      ]
    },
    {
      "cell_type": "code",
      "source": [
        "import evaluate\n",
        "rouge_metric = evaluate.load(\"rouge\")\n",
        "meteor_metric = evaluate.load(\"meteor\")"
      ],
      "metadata": {
        "id": "HzlTGYjYaoMU",
        "colab": {
          "base_uri": "https://localhost:8080/",
          "height": 275,
          "referenced_widgets": [
            "5ba7dd820b704b4d9e7eb1f32a080279",
            "e22672495aed4f3eaf38d7777c366507",
            "0f4dd53cfdd24801a8570eab864e2922",
            "8d41a486c55a482e9baeb9f14f8bacb8",
            "885ad9d06b9546a9a4e6b025f2ccd944",
            "4b21160bfac44d77833819c7ffdf0444",
            "8e6389eefdec4c198e8c401e3f4e3609",
            "431007c7988d4ae5af66c4571215ed8d",
            "fec776d7ce6c4e3fb4a0572065492063",
            "d36d4d260a904ea78291d32a61702f4f",
            "c3a4567ce5054f7a872101425598bcb6",
            "97700a133a694d96b8ead98758fdd62d",
            "f92355c9954c49959aede7daf2c1f68d",
            "07653e57158843e09f38d548e47319b7",
            "490e2c5eea374d4994c9c4855db1aa30",
            "4c4d8d3a759341e7bec41964e334676f",
            "2993b8a3ff03451894b6eb93ecda90ed",
            "bbf365a9261a435aaecc96b790a57c61",
            "1f4b32390c24436c92d61f53e5bd4d83",
            "41ad94bebfbd421cbe042ac6ac0493f4",
            "f8ce19c5a0cd4af8a0c310fa9ffb250f",
            "67fa8a3eaad448b4a289c035cd4ad1b9"
          ]
        },
        "outputId": "bb0a4549-01b6-4bba-a6ac-16a03bf633fa"
      },
      "execution_count": null,
      "outputs": [
        {
          "output_type": "stream",
          "name": "stderr",
          "text": [
            "/usr/local/lib/python3.10/dist-packages/huggingface_hub/utils/_auth.py:94: UserWarning: \n",
            "The secret `HF_TOKEN` does not exist in your Colab secrets.\n",
            "To authenticate with the Hugging Face Hub, create a token in your settings tab (https://huggingface.co/settings/tokens), set it as secret in your Google Colab and restart your session.\n",
            "You will be able to reuse this secret in all of your notebooks.\n",
            "Please note that authentication is recommended but still optional to access public models or datasets.\n",
            "  warnings.warn(\n"
          ]
        },
        {
          "output_type": "display_data",
          "data": {
            "text/plain": [
              "Downloading builder script:   0%|          | 0.00/6.27k [00:00<?, ?B/s]"
            ],
            "application/vnd.jupyter.widget-view+json": {
              "version_major": 2,
              "version_minor": 0,
              "model_id": "5ba7dd820b704b4d9e7eb1f32a080279"
            }
          },
          "metadata": {}
        },
        {
          "output_type": "display_data",
          "data": {
            "text/plain": [
              "Downloading builder script:   0%|          | 0.00/7.02k [00:00<?, ?B/s]"
            ],
            "application/vnd.jupyter.widget-view+json": {
              "version_major": 2,
              "version_minor": 0,
              "model_id": "97700a133a694d96b8ead98758fdd62d"
            }
          },
          "metadata": {}
        },
        {
          "output_type": "stream",
          "name": "stderr",
          "text": [
            "[nltk_data] Downloading package wordnet to /root/nltk_data...\n",
            "[nltk_data] Downloading package punkt_tab to /root/nltk_data...\n",
            "[nltk_data]   Unzipping tokenizers/punkt_tab.zip.\n",
            "[nltk_data] Downloading package omw-1.4 to /root/nltk_data...\n"
          ]
        }
      ]
    },
    {
      "cell_type": "code",
      "source": [
        "import numpy as np\n",
        "import pandas as pd\n",
        "import matplotlib.pyplot as plt\n",
        "import seaborn as sns\n",
        "\n",
        "sns.set_style('darkgrid')"
      ],
      "metadata": {
        "id": "EZ5h7ui7ci7l"
      },
      "execution_count": null,
      "outputs": []
    },
    {
      "cell_type": "code",
      "source": [
        "#from google.colab import drive\n",
        "#drive.mount('/content/drive')"
      ],
      "metadata": {
        "colab": {
          "base_uri": "https://localhost:8080/"
        },
        "id": "FJvdcRR5uy9S",
        "outputId": "94813687-a4a1-4bc7-bf95-22e25dce4643"
      },
      "execution_count": null,
      "outputs": [
        {
          "output_type": "stream",
          "name": "stdout",
          "text": [
            "Mounted at /content/drive\n"
          ]
        }
      ]
    },
    {
      "cell_type": "markdown",
      "source": [
        "### Загрузим данные:"
      ],
      "metadata": {
        "id": "CT2_XNM9bBr4"
      }
    },
    {
      "cell_type": "code",
      "source": [
        "!unzip /content/articles_championat.zip"
      ],
      "metadata": {
        "colab": {
          "base_uri": "https://localhost:8080/"
        },
        "id": "b9mfSIhoO1Yy",
        "outputId": "317f5f81-dd7b-4888-920a-0a5db40d4d1f"
      },
      "execution_count": null,
      "outputs": [
        {
          "output_type": "stream",
          "name": "stdout",
          "text": [
            "Archive:  /content/articles_championat.zip\n",
            "  inflating: content/articles_championat.csv  \n"
          ]
        }
      ]
    },
    {
      "cell_type": "code",
      "source": [
        "# Данные парсились с сайта Чемпионат.com в 2023 году.\n",
        "# HTML-разметка сайта поменялась, скорее всего,\n",
        "# поэтому код для парсинга не привожу, а загружаю готовые данные:\n",
        "data = pd.read_csv(\"/content/content/articles_championat.csv\") # /content/drive/MyDrive/articles_championat.csv\n",
        "print('Кол-во статей:', data.shape[0])\n",
        "print()\n",
        "data.head()"
      ],
      "metadata": {
        "colab": {
          "base_uri": "https://localhost:8080/",
          "height": 327
        },
        "id": "UTPhfTWsbE6I",
        "outputId": "878e9cc6-502e-472f-8564-f81a1c6bf02c"
      },
      "execution_count": null,
      "outputs": [
        {
          "output_type": "stream",
          "name": "stdout",
          "text": [
            "Кол-во статей: 16047\n",
            "\n"
          ]
        },
        {
          "output_type": "execute_result",
          "data": {
            "text/plain": [
              "                                                text  \\\n",
              "0  В то время пока «Ред Булл» близится к тому, чт...   \n",
              "1  Авторитетный обозреватель Формулы-1 Джо Сейвуд...   \n",
              "2  В марте ФИА открыла приём заявок на участие в ...   \n",
              "3  Свершилось. Ника де Вриса всё-таки уволили из ...   \n",
              "4  Одним из главных трансферных активов этого лет...   \n",
              "\n",
              "                                               title  \\\n",
              "0  10 худших команд в истории Формулы-1. От дерев...   \n",
              "1  Норрис в «Феррари», Леклер в «Мерседесе»?! Раз...   \n",
              "2  Скучаете по шинным войнам в Формуле-1? Вот 2 п...   \n",
              "3  8 громких случаев, когда пилоты Формулы-1 поки...   \n",
              "4  Звезда IndyCar рвётся в Ф-1. Но у Палоу не пол...   \n",
              "\n",
              "                                            subtitle                     date  \\\n",
              "0    Одна из команд была связана с Советским Союзом.  16 июля 2023, 11:30 МСК   \n",
              "1  Через год Формулу-1 могут подкараулить мощнейш...  15 июля 2023, 12:30 МСК   \n",
              "2  Хэмилтон за возвращение дуэли шинников, но это...  14 июля 2023, 12:30 МСК   \n",
              "3  Однажды «Феррари» выгнала гонщика уже после пе...  13 июля 2023, 16:30 МСК   \n",
              "4  Алекс, безусловно, талантлив, но выстрелить ср...  12 июля 2023, 17:00 МСК   \n",
              "\n",
              "  sport  \n",
              "0  auto  \n",
              "1  auto  \n",
              "2  auto  \n",
              "3  auto  \n",
              "4  auto  "
            ],
            "text/html": [
              "\n",
              "  <div id=\"df-1025ad36-43d9-4855-b18c-b3351f374a10\" class=\"colab-df-container\">\n",
              "    <div>\n",
              "<style scoped>\n",
              "    .dataframe tbody tr th:only-of-type {\n",
              "        vertical-align: middle;\n",
              "    }\n",
              "\n",
              "    .dataframe tbody tr th {\n",
              "        vertical-align: top;\n",
              "    }\n",
              "\n",
              "    .dataframe thead th {\n",
              "        text-align: right;\n",
              "    }\n",
              "</style>\n",
              "<table border=\"1\" class=\"dataframe\">\n",
              "  <thead>\n",
              "    <tr style=\"text-align: right;\">\n",
              "      <th></th>\n",
              "      <th>text</th>\n",
              "      <th>title</th>\n",
              "      <th>subtitle</th>\n",
              "      <th>date</th>\n",
              "      <th>sport</th>\n",
              "    </tr>\n",
              "  </thead>\n",
              "  <tbody>\n",
              "    <tr>\n",
              "      <th>0</th>\n",
              "      <td>В то время пока «Ред Булл» близится к тому, чт...</td>\n",
              "      <td>10 худших команд в истории Формулы-1. От дерев...</td>\n",
              "      <td>Одна из команд была связана с Советским Союзом.</td>\n",
              "      <td>16 июля 2023, 11:30 МСК</td>\n",
              "      <td>auto</td>\n",
              "    </tr>\n",
              "    <tr>\n",
              "      <th>1</th>\n",
              "      <td>Авторитетный обозреватель Формулы-1 Джо Сейвуд...</td>\n",
              "      <td>Норрис в «Феррари», Леклер в «Мерседесе»?! Раз...</td>\n",
              "      <td>Через год Формулу-1 могут подкараулить мощнейш...</td>\n",
              "      <td>15 июля 2023, 12:30 МСК</td>\n",
              "      <td>auto</td>\n",
              "    </tr>\n",
              "    <tr>\n",
              "      <th>2</th>\n",
              "      <td>В марте ФИА открыла приём заявок на участие в ...</td>\n",
              "      <td>Скучаете по шинным войнам в Формуле-1? Вот 2 п...</td>\n",
              "      <td>Хэмилтон за возвращение дуэли шинников, но это...</td>\n",
              "      <td>14 июля 2023, 12:30 МСК</td>\n",
              "      <td>auto</td>\n",
              "    </tr>\n",
              "    <tr>\n",
              "      <th>3</th>\n",
              "      <td>Свершилось. Ника де Вриса всё-таки уволили из ...</td>\n",
              "      <td>8 громких случаев, когда пилоты Формулы-1 поки...</td>\n",
              "      <td>Однажды «Феррари» выгнала гонщика уже после пе...</td>\n",
              "      <td>13 июля 2023, 16:30 МСК</td>\n",
              "      <td>auto</td>\n",
              "    </tr>\n",
              "    <tr>\n",
              "      <th>4</th>\n",
              "      <td>Одним из главных трансферных активов этого лет...</td>\n",
              "      <td>Звезда IndyCar рвётся в Ф-1. Но у Палоу не пол...</td>\n",
              "      <td>Алекс, безусловно, талантлив, но выстрелить ср...</td>\n",
              "      <td>12 июля 2023, 17:00 МСК</td>\n",
              "      <td>auto</td>\n",
              "    </tr>\n",
              "  </tbody>\n",
              "</table>\n",
              "</div>\n",
              "    <div class=\"colab-df-buttons\">\n",
              "\n",
              "  <div class=\"colab-df-container\">\n",
              "    <button class=\"colab-df-convert\" onclick=\"convertToInteractive('df-1025ad36-43d9-4855-b18c-b3351f374a10')\"\n",
              "            title=\"Convert this dataframe to an interactive table.\"\n",
              "            style=\"display:none;\">\n",
              "\n",
              "  <svg xmlns=\"http://www.w3.org/2000/svg\" height=\"24px\" viewBox=\"0 -960 960 960\">\n",
              "    <path d=\"M120-120v-720h720v720H120Zm60-500h600v-160H180v160Zm220 220h160v-160H400v160Zm0 220h160v-160H400v160ZM180-400h160v-160H180v160Zm440 0h160v-160H620v160ZM180-180h160v-160H180v160Zm440 0h160v-160H620v160Z\"/>\n",
              "  </svg>\n",
              "    </button>\n",
              "\n",
              "  <style>\n",
              "    .colab-df-container {\n",
              "      display:flex;\n",
              "      gap: 12px;\n",
              "    }\n",
              "\n",
              "    .colab-df-convert {\n",
              "      background-color: #E8F0FE;\n",
              "      border: none;\n",
              "      border-radius: 50%;\n",
              "      cursor: pointer;\n",
              "      display: none;\n",
              "      fill: #1967D2;\n",
              "      height: 32px;\n",
              "      padding: 0 0 0 0;\n",
              "      width: 32px;\n",
              "    }\n",
              "\n",
              "    .colab-df-convert:hover {\n",
              "      background-color: #E2EBFA;\n",
              "      box-shadow: 0px 1px 2px rgba(60, 64, 67, 0.3), 0px 1px 3px 1px rgba(60, 64, 67, 0.15);\n",
              "      fill: #174EA6;\n",
              "    }\n",
              "\n",
              "    .colab-df-buttons div {\n",
              "      margin-bottom: 4px;\n",
              "    }\n",
              "\n",
              "    [theme=dark] .colab-df-convert {\n",
              "      background-color: #3B4455;\n",
              "      fill: #D2E3FC;\n",
              "    }\n",
              "\n",
              "    [theme=dark] .colab-df-convert:hover {\n",
              "      background-color: #434B5C;\n",
              "      box-shadow: 0px 1px 3px 1px rgba(0, 0, 0, 0.15);\n",
              "      filter: drop-shadow(0px 1px 2px rgba(0, 0, 0, 0.3));\n",
              "      fill: #FFFFFF;\n",
              "    }\n",
              "  </style>\n",
              "\n",
              "    <script>\n",
              "      const buttonEl =\n",
              "        document.querySelector('#df-1025ad36-43d9-4855-b18c-b3351f374a10 button.colab-df-convert');\n",
              "      buttonEl.style.display =\n",
              "        google.colab.kernel.accessAllowed ? 'block' : 'none';\n",
              "\n",
              "      async function convertToInteractive(key) {\n",
              "        const element = document.querySelector('#df-1025ad36-43d9-4855-b18c-b3351f374a10');\n",
              "        const dataTable =\n",
              "          await google.colab.kernel.invokeFunction('convertToInteractive',\n",
              "                                                    [key], {});\n",
              "        if (!dataTable) return;\n",
              "\n",
              "        const docLinkHtml = 'Like what you see? Visit the ' +\n",
              "          '<a target=\"_blank\" href=https://colab.research.google.com/notebooks/data_table.ipynb>data table notebook</a>'\n",
              "          + ' to learn more about interactive tables.';\n",
              "        element.innerHTML = '';\n",
              "        dataTable['output_type'] = 'display_data';\n",
              "        await google.colab.output.renderOutput(dataTable, element);\n",
              "        const docLink = document.createElement('div');\n",
              "        docLink.innerHTML = docLinkHtml;\n",
              "        element.appendChild(docLink);\n",
              "      }\n",
              "    </script>\n",
              "  </div>\n",
              "\n",
              "\n",
              "<div id=\"df-6e11f703-7645-4116-99cc-7e4499808611\">\n",
              "  <button class=\"colab-df-quickchart\" onclick=\"quickchart('df-6e11f703-7645-4116-99cc-7e4499808611')\"\n",
              "            title=\"Suggest charts\"\n",
              "            style=\"display:none;\">\n",
              "\n",
              "<svg xmlns=\"http://www.w3.org/2000/svg\" height=\"24px\"viewBox=\"0 0 24 24\"\n",
              "     width=\"24px\">\n",
              "    <g>\n",
              "        <path d=\"M19 3H5c-1.1 0-2 .9-2 2v14c0 1.1.9 2 2 2h14c1.1 0 2-.9 2-2V5c0-1.1-.9-2-2-2zM9 17H7v-7h2v7zm4 0h-2V7h2v10zm4 0h-2v-4h2v4z\"/>\n",
              "    </g>\n",
              "</svg>\n",
              "  </button>\n",
              "\n",
              "<style>\n",
              "  .colab-df-quickchart {\n",
              "      --bg-color: #E8F0FE;\n",
              "      --fill-color: #1967D2;\n",
              "      --hover-bg-color: #E2EBFA;\n",
              "      --hover-fill-color: #174EA6;\n",
              "      --disabled-fill-color: #AAA;\n",
              "      --disabled-bg-color: #DDD;\n",
              "  }\n",
              "\n",
              "  [theme=dark] .colab-df-quickchart {\n",
              "      --bg-color: #3B4455;\n",
              "      --fill-color: #D2E3FC;\n",
              "      --hover-bg-color: #434B5C;\n",
              "      --hover-fill-color: #FFFFFF;\n",
              "      --disabled-bg-color: #3B4455;\n",
              "      --disabled-fill-color: #666;\n",
              "  }\n",
              "\n",
              "  .colab-df-quickchart {\n",
              "    background-color: var(--bg-color);\n",
              "    border: none;\n",
              "    border-radius: 50%;\n",
              "    cursor: pointer;\n",
              "    display: none;\n",
              "    fill: var(--fill-color);\n",
              "    height: 32px;\n",
              "    padding: 0;\n",
              "    width: 32px;\n",
              "  }\n",
              "\n",
              "  .colab-df-quickchart:hover {\n",
              "    background-color: var(--hover-bg-color);\n",
              "    box-shadow: 0 1px 2px rgba(60, 64, 67, 0.3), 0 1px 3px 1px rgba(60, 64, 67, 0.15);\n",
              "    fill: var(--button-hover-fill-color);\n",
              "  }\n",
              "\n",
              "  .colab-df-quickchart-complete:disabled,\n",
              "  .colab-df-quickchart-complete:disabled:hover {\n",
              "    background-color: var(--disabled-bg-color);\n",
              "    fill: var(--disabled-fill-color);\n",
              "    box-shadow: none;\n",
              "  }\n",
              "\n",
              "  .colab-df-spinner {\n",
              "    border: 2px solid var(--fill-color);\n",
              "    border-color: transparent;\n",
              "    border-bottom-color: var(--fill-color);\n",
              "    animation:\n",
              "      spin 1s steps(1) infinite;\n",
              "  }\n",
              "\n",
              "  @keyframes spin {\n",
              "    0% {\n",
              "      border-color: transparent;\n",
              "      border-bottom-color: var(--fill-color);\n",
              "      border-left-color: var(--fill-color);\n",
              "    }\n",
              "    20% {\n",
              "      border-color: transparent;\n",
              "      border-left-color: var(--fill-color);\n",
              "      border-top-color: var(--fill-color);\n",
              "    }\n",
              "    30% {\n",
              "      border-color: transparent;\n",
              "      border-left-color: var(--fill-color);\n",
              "      border-top-color: var(--fill-color);\n",
              "      border-right-color: var(--fill-color);\n",
              "    }\n",
              "    40% {\n",
              "      border-color: transparent;\n",
              "      border-right-color: var(--fill-color);\n",
              "      border-top-color: var(--fill-color);\n",
              "    }\n",
              "    60% {\n",
              "      border-color: transparent;\n",
              "      border-right-color: var(--fill-color);\n",
              "    }\n",
              "    80% {\n",
              "      border-color: transparent;\n",
              "      border-right-color: var(--fill-color);\n",
              "      border-bottom-color: var(--fill-color);\n",
              "    }\n",
              "    90% {\n",
              "      border-color: transparent;\n",
              "      border-bottom-color: var(--fill-color);\n",
              "    }\n",
              "  }\n",
              "</style>\n",
              "\n",
              "  <script>\n",
              "    async function quickchart(key) {\n",
              "      const quickchartButtonEl =\n",
              "        document.querySelector('#' + key + ' button');\n",
              "      quickchartButtonEl.disabled = true;  // To prevent multiple clicks.\n",
              "      quickchartButtonEl.classList.add('colab-df-spinner');\n",
              "      try {\n",
              "        const charts = await google.colab.kernel.invokeFunction(\n",
              "            'suggestCharts', [key], {});\n",
              "      } catch (error) {\n",
              "        console.error('Error during call to suggestCharts:', error);\n",
              "      }\n",
              "      quickchartButtonEl.classList.remove('colab-df-spinner');\n",
              "      quickchartButtonEl.classList.add('colab-df-quickchart-complete');\n",
              "    }\n",
              "    (() => {\n",
              "      let quickchartButtonEl =\n",
              "        document.querySelector('#df-6e11f703-7645-4116-99cc-7e4499808611 button');\n",
              "      quickchartButtonEl.style.display =\n",
              "        google.colab.kernel.accessAllowed ? 'block' : 'none';\n",
              "    })();\n",
              "  </script>\n",
              "</div>\n",
              "    </div>\n",
              "  </div>\n"
            ],
            "application/vnd.google.colaboratory.intrinsic+json": {
              "type": "dataframe",
              "variable_name": "data",
              "summary": "{\n  \"name\": \"data\",\n  \"rows\": 16047,\n  \"fields\": [\n    {\n      \"column\": \"text\",\n      \"properties\": {\n        \"dtype\": \"string\",\n        \"num_unique_values\": 15790,\n        \"samples\": [\n          \"10-\\u043a\\u0440\\u0430\\u0442\\u043d\\u044b\\u0439 \\u0447\\u0435\\u043c\\u043f\\u0438\\u043e\\u043d Australian Open \\u041d\\u043e\\u0432\\u0430\\u043a \\u0414\\u0436\\u043e\\u043a\\u043e\\u0432\\u0438\\u0447 \\u0442\\u043e\\u043b\\u044c\\u043a\\u043e \\u0447\\u0442\\u043e \\u0432\\u044b\\u0438\\u0433\\u0440\\u0430\\u043b \\u0441\\u0432\\u043e\\u0439 22-\\u0439 \\u043c\\u044d\\u0439\\u0434\\u0436\\u043e\\u0440 \\u0432 \\u043a\\u0430\\u0440\\u044c\\u0435\\u0440\\u0435 \\u0438 \\u0434\\u043e\\u0433\\u043d\\u0430\\u043b \\u0440\\u0435\\u043a\\u043e\\u0440\\u0434\\u0441\\u043c\\u0435\\u043d\\u0430 \\u0420\\u0430\\u0444\\u0430\\u044d\\u043b\\u044f \\u041d\\u0430\\u0434\\u0430\\u043b\\u044f. \\u0411\\u0438\\u0442\\u0432\\u0430 \\u0437\\u0430 \\u00ab\\u0428\\u043b\\u0435\\u043c\\u044b\\u00bb \\u043f\\u0440\\u043e\\u0434\\u043e\\u043b\\u0436\\u0430\\u0435\\u0442\\u0441\\u044f. \\u041a\\u0442\\u043e \\u0436\\u0435 \\u0432\\u044b\\u0439\\u0434\\u0435\\u0442 \\u0438\\u0437 \\u043d\\u0435\\u0451 \\u043f\\u043e\\u0431\\u0435\\u0434\\u0438\\u0442\\u0435\\u043b\\u0435\\u043c? \\u041a\\u0430\\u0436\\u0435\\u0442\\u0441\\u044f, \\u0447\\u0442\\u043e \\u0443 \\u0441\\u0435\\u0440\\u0431\\u0430 \\u0435\\u0441\\u0442\\u044c \\u043d\\u0435\\u0431\\u043e\\u043b\\u044c\\u0448\\u043e\\u0435 \\u043f\\u0440\\u0435\\u0438\\u043c\\u0443\\u0449\\u0435\\u0441\\u0442\\u0432\\u043e. \\u0418 \\u043d\\u0435 \\u0442\\u043e\\u043b\\u044c\\u043a\\u043e \\u0432 \\u0442\\u043e\\u043c, \\u0447\\u0442\\u043e \\u043e\\u043d \\u043d\\u0430 \\u0433\\u043e\\u0434 \\u043c\\u043e\\u043b\\u043e\\u0436\\u0435 \\u0438\\u0441\\u043f\\u0430\\u043d\\u0446\\u0430, \\u043d\\u043e \\u0438 \\u0435\\u0449\\u0451 \\u043a\\u043e\\u0435 \\u0432 \\u0447\\u0451\\u043c \\u0434\\u0440\\u0443\\u0433\\u043e\\u043c.\\n\\u00ab\\u041d\\u0435 \\u043d\\u043e\\u0432\\u0430\\u044f \\u043f\\u0440\\u043e\\u0433\\u0440\\u0430\\u043c\\u043c\\u0430 \\u0442\\u0440\\u0435\\u043d\\u0438\\u0440\\u043e\\u0432\\u043e\\u043a \\u0441\\u0434\\u0435\\u043b\\u0430\\u043b\\u0430 \\u043c\\u0435\\u043d\\u044f \\u0438\\u0437 \\u043e\\u0447\\u0435\\u043d\\u044c \\u0445\\u043e\\u0440\\u043e\\u0448\\u0435\\u0433\\u043e \\u0442\\u0435\\u043d\\u043d\\u0438\\u0441\\u0438\\u0441\\u0442\\u0430 \\u043b\\u0443\\u0447\\u0448\\u0438\\u043c \\u0432 \\u043c\\u0438\\u0440\\u0435 \\u0432\\u0441\\u0435\\u0433\\u043e \\u0437\\u0430 \\u043f\\u043e\\u043b\\u0442\\u043e\\u0440\\u0430 \\u0433\\u043e\\u0434\\u0430. \\u041d\\u0435 \\u043d\\u043e\\u0432\\u0430\\u044f \\u0440\\u0430\\u043a\\u0435\\u0442\\u043a\\u0430, \\u043d\\u0435 \\u043d\\u043e\\u0432\\u044b\\u0439 \\u043c\\u0435\\u0442\\u043e\\u0434 \\u043f\\u043e\\u0434\\u0433\\u043e\\u0442\\u043e\\u0432\\u043a\\u0438 \\u0438 \\u0434\\u0430\\u0436\\u0435 \\u043d\\u0435 \\u043d\\u043e\\u0432\\u044b\\u0435 \\u043f\\u043e\\u0440\\u0446\\u0438\\u0438 \\u0435\\u0434\\u044b \\u043f\\u043e\\u043c\\u043e\\u0433\\u043b\\u0438 \\u043c\\u043d\\u0435 \\u043f\\u043e\\u0445\\u0443\\u0434\\u0435\\u0442\\u044c, \\u0434\\u043e\\u0431\\u0438\\u0442\\u044c\\u0441\\u044f \\u043f\\u0441\\u0438\\u0445\\u043e\\u043b\\u043e\\u0433\\u0438\\u0447\\u0435\\u0441\\u043a\\u043e\\u0439 \\u043a\\u043e\\u043d\\u0446\\u0435\\u043d\\u0442\\u0440\\u0430\\u0446\\u0438\\u0438 \\u0438 \\u043e\\u0449\\u0443\\u0442\\u0438\\u0442\\u044c \\u0441\\u0435\\u0431\\u044f \\u043d\\u0435\\u043f\\u0440\\u0438\\u0432\\u044b\\u0447\\u043d\\u043e \\u0437\\u0434\\u043e\\u0440\\u043e\\u0432\\u044b\\u043c\\u00bb, \\u2014 \\u0442\\u0430\\u043a\\u043e\\u0435 \\u0433\\u0440\\u043e\\u043c\\u043a\\u043e\\u0435 \\u0437\\u0430\\u044f\\u0432\\u043b\\u0435\\u043d\\u0438\\u0435 \\u0441\\u0434\\u0435\\u043b\\u0430\\u043b \\u041d\\u043e\\u0432\\u0430\\u043a \\u0414\\u0436\\u043e\\u043a\\u043e\\u0432\\u0438\\u0447 \\u0432 2014 \\u0433\\u043e\\u0434\\u0443, \\u043a\\u043e\\u0433\\u0434\\u0430 \\u0443\\u0436\\u0435 \\u0431\\u044b\\u043b\\u043e \\u0442\\u0440\\u0443\\u0434\\u043d\\u043e \\u043e\\u0442\\u0440\\u0438\\u0446\\u0430\\u0442\\u044c, \\u0447\\u0442\\u043e \\u0441\\u0435\\u0440\\u0431 \\u044f\\u0432\\u043b\\u044f\\u0435\\u0442\\u0441\\u044f \\u043e\\u0434\\u043d\\u0438\\u043c \\u0438\\u0437 \\u0432\\u0435\\u043b\\u0438\\u0447\\u0430\\u0439\\u0448\\u0438\\u0445 \\u0442\\u0435\\u043d\\u043d\\u0438\\u0441\\u0438\\u0441\\u0442\\u043e\\u0432 \\u0432 \\u0438\\u0441\\u0442\\u043e\\u0440\\u0438\\u0438. \\u0412 \\u043a\\u043d\\u0438\\u0433\\u0435 \\u00ab\\u0412\\u043a\\u0443\\u0441 \\u043f\\u043e\\u0431\\u0435\\u0434\\u044b\\u00bb \\u0441\\u043f\\u043e\\u0440\\u0442\\u0441\\u043c\\u0435\\u043d \\u0440\\u0430\\u0441\\u0441\\u043a\\u0430\\u0437\\u0430\\u043b, \\u0447\\u0442\\u043e \\u0432\\u044b\\u0438\\u0433\\u0440\\u044b\\u0432\\u0430\\u0442\\u044c \\u043c\\u0430\\u0442\\u0447 \\u0437\\u0430 \\u043c\\u0430\\u0442\\u0447\\u0435\\u043c \\u0435\\u043c\\u0443 \\u043f\\u043e\\u043c\\u043e\\u0433\\u043b\\u0430 \\u043e\\u0441\\u043e\\u0431\\u0430\\u044f \\u0434\\u0438\\u0435\\u0442\\u0430, \\u043d\\u0430\\u0432\\u0441\\u0435\\u0433\\u0434\\u0430 \\u0438\\u0437\\u043c\\u0435\\u043d\\u0438\\u0432\\u0448\\u0430\\u044f \\u0435\\u0433\\u043e \\u0436\\u0438\\u0437\\u043d\\u044c.\\n\\u041f\\u043e \\u043f\\u0440\\u0438\\u0437\\u043d\\u0430\\u043d\\u0438\\u044e \\u0414\\u0436\\u043e\\u043a\\u043e\\u0432\\u0438\\u0447\\u0430, \\u043e\\u043d \\u043d\\u0430\\u0447\\u0430\\u043b \\u0435\\u0441\\u0442\\u044c \\u043f\\u0440\\u043e\\u0434\\u0443\\u043a\\u0442\\u044b, \\u043f\\u043e\\u0434\\u0445\\u043e\\u0434\\u044f\\u0449\\u0438\\u0435 \\u0434\\u043b\\u044f \\u0435\\u0433\\u043e \\u043e\\u0440\\u0433\\u0430\\u043d\\u0438\\u0437\\u043c\\u0430, \\u0438 \\u0440\\u0435\\u0437\\u0443\\u043b\\u044c\\u0442\\u0430\\u0442 \\u043d\\u0435 \\u0437\\u0430\\u0441\\u0442\\u0430\\u0432\\u0438\\u043b \\u0441\\u0435\\u0431\\u044f \\u0436\\u0434\\u0430\\u0442\\u044c. \\u0417\\u0430 \\u043f\\u0435\\u0440\\u0432\\u044b\\u0435 \\u0442\\u0440\\u0438 \\u043c\\u0435\\u0441\\u044f\\u0446\\u0430 \\u041d\\u043e\\u0432\\u0430\\u043a\\u0443 \\u0443\\u0434\\u0430\\u043b\\u043e\\u0441\\u044c \\u043f\\u043e\\u0445\\u0443\\u0434\\u0435\\u0442\\u044c \\u043d\\u0430 \\u0447\\u0435\\u0442\\u044b\\u0440\\u0435 \\u043a\\u0438\\u043b\\u043e\\u0433\\u0440\\u0430\\u043c\\u043c\\u0430, \\u0447\\u0442\\u043e \\u0441\\u0435\\u0440\\u044c\\u0451\\u0437\\u043d\\u043e \\u043e\\u0442\\u0440\\u0430\\u0437\\u0438\\u043b\\u043e\\u0441\\u044c \\u043d\\u0430 \\u0435\\u0433\\u043e \\u0441\\u0430\\u043c\\u043e\\u043e\\u0449\\u0443\\u0449\\u0435\\u043d\\u0438\\u0438.\\n\\u00ab\\u042f \\u0447\\u0443\\u0432\\u0441\\u0442\\u0432\\u043e\\u0432\\u0430\\u043b \\u0441\\u0435\\u0431\\u044f \\u0441\\u0432\\u0435\\u0436\\u0435\\u0435, \\u0436\\u0438\\u0432\\u0435\\u0435, \\u043f\\u0440\\u043e\\u0432\\u043e\\u0440\\u043d\\u0435\\u0435 \\u0438 \\u044d\\u043d\\u0435\\u0440\\u0433\\u0438\\u0447\\u043d\\u0435\\u0435, \\u0447\\u0435\\u043c \\u043a\\u043e\\u0433\\u0434\\u0430-\\u043b\\u0438\\u0431\\u043e. \\u042f \\u0441\\u0442\\u0430\\u043b \\u0431\\u043e\\u043b\\u0435\\u0435 \\u0431\\u044b\\u0441\\u0442\\u0440\\u044b\\u043c, \\u0433\\u0438\\u0431\\u043a\\u0438\\u043c, \\u043c\\u043e\\u0433 \\u0431\\u0440\\u0430\\u0442\\u044c \\u043c\\u044f\\u0447\\u0438, \\u043a\\u043e\\u0442\\u043e\\u0440\\u044b\\u0435 \\u043d\\u0435 \\u043c\\u043e\\u0433\\u043b\\u0438 \\u043e\\u0442\\u0431\\u0438\\u0442\\u044c \\u0434\\u0440\\u0443\\u0433\\u0438\\u0435 \\u0438\\u0433\\u0440\\u043e\\u043a\\u0438, \\u0438 \\u043f\\u0440\\u0438 \\u044d\\u0442\\u043e\\u043c \\u043d\\u0435 \\u0442\\u0435\\u0440\\u044f\\u043b \\u0441\\u0438\\u043b \\u0438 \\u0441\\u043e\\u0441\\u0440\\u0435\\u0434\\u043e\\u0442\\u043e\\u0447\\u0435\\u043d\\u043d\\u043e\\u0441\\u0442\\u0438 \\u2014 \\u043d\\u0438\\u043a\\u0430\\u043a\\u043e\\u0433\\u043e \\u0442\\u0443\\u043c\\u0430\\u043d\\u0430 \\u0432 \\u0433\\u043e\\u043b\\u043e\\u0432\\u0435. \\u042f \\u043d\\u0435 \\u0443\\u0441\\u0442\\u0430\\u0432\\u0430\\u043b \\u0438 \\u043d\\u0435 \\u0441\\u0431\\u0438\\u0432\\u0430\\u043b \\u0434\\u044b\\u0445\\u0430\\u043d\\u0438\\u044f. \\u0410\\u043b\\u043b\\u0435\\u0440\\u0433\\u0438\\u0447\\u0435\\u0441\\u043a\\u0438\\u0435 \\u0440\\u0435\\u0430\\u043a\\u0446\\u0438\\u0438 \\u0437\\u043d\\u0430\\u0447\\u0438\\u0442\\u0435\\u043b\\u044c\\u043d\\u043e \\u043e\\u0441\\u043b\\u0430\\u0431\\u043b\\u0438, \\u0430\\u0441\\u0442\\u043c\\u0430 \\u043e\\u0442\\u0441\\u0442\\u0443\\u043f\\u0438\\u043b\\u0430, \\u0441\\u0442\\u0440\\u0430\\u0445\\u0438 \\u0438 \\u0441\\u043e\\u043c\\u043d\\u0435\\u043d\\u0438\\u044f \\u0441\\u043c\\u0435\\u043d\\u0438\\u043b\\u0438\\u0441\\u044c \\u0443\\u0432\\u0435\\u0440\\u0435\\u043d\\u043d\\u043e\\u0441\\u0442\\u044c\\u044e \\u0432 \\u0441\\u0435\\u0431\\u0435. \\u0423\\u0436\\u0435 \\u043f\\u043e\\u0447\\u0442\\u0438 \\u0442\\u0440\\u0438 \\u0433\\u043e\\u0434\\u0430 \\u044f \\u043d\\u0435 \\u0437\\u043d\\u0430\\u044e \\u0441\\u0435\\u0440\\u044c\\u0451\\u0437\\u043d\\u044b\\u0445 \\u043f\\u0440\\u043e\\u0441\\u0442\\u0443\\u0434 \\u0438\\u043b\\u0438 \\u0433\\u0440\\u0438\\u043f\\u043f\\u0430\\u00bb, \\u2014 \\u043f\\u0440\\u0438\\u0437\\u043d\\u0430\\u0432\\u0430\\u043b\\u0441\\u044f \\u0442\\u0435\\u043d\\u043d\\u0438\\u0441\\u0438\\u0441\\u0442.\\n\\u0422\\u0430\\u043a \\u043a\\u0430\\u043a\\u043e\\u0439 \\u0436\\u0435 \\u0432\\u0430\\u0436\\u043d\\u044b\\u0439 \\u0441\\u0435\\u043a\\u0440\\u0435\\u0442 \\u043f\\u0438\\u0442\\u0430\\u043d\\u0438\\u044f \\u043f\\u043e\\u0437\\u043d\\u0430\\u043b \\u0414\\u0436\\u043e\\u043a\\u043e\\u0432\\u0438\\u0447? \\u0418 \\u043f\\u043e\\u0447\\u0435\\u043c\\u0443 \\u0435\\u043c\\u0443 \\u043f\\u0440\\u0438\\u0448\\u043b\\u043e\\u0441\\u044c \\u043f\\u0440\\u0438\\u043a\\u043b\\u0430\\u0434\\u044b\\u0432\\u0430\\u0442\\u044c \\u0445\\u043b\\u0435\\u0431 \\u043a \\u0436\\u0438\\u0432\\u043e\\u0442\\u0443?\\n\\u041d\\u043e\\u0432\\u0430\\u043a \\u0414\\u0436\\u043e\\u043a\\u043e\\u0432\\u0438\\u0447\\n\\u0418\\u0441\\u0442\\u043e\\u0440\\u0438\\u044f \\u043f\\u043e\\u0440\\u0430\\u0437\\u0438\\u0442\\u0435\\u043b\\u044c\\u043d\\u043e\\u0433\\u043e \\u043f\\u0440\\u0435\\u043e\\u0431\\u0440\\u0430\\u0436\\u0435\\u043d\\u0438\\u044f \\u0414\\u0436\\u043e\\u043a\\u043e\\u0432\\u0438\\u0447\\u0430 \\u043d\\u0430\\u0447\\u0430\\u043b\\u0430\\u0441\\u044c \\u0432 2010 \\u0433\\u043e\\u0434\\u0443, \\u043a\\u043e\\u0433\\u0434\\u0430 \\u043d\\u0430 \\u0442\\u0443\\u0440\\u043d\\u0438\\u0440\\u0435 \\u0432 \\u0425\\u043e\\u0440\\u0432\\u0430\\u0442\\u0438\\u0438 \\u041d\\u043e\\u0432\\u0430\\u043a \\u043f\\u043e\\u0432\\u0441\\u0442\\u0440\\u0435\\u0447\\u0430\\u043b \\u0434\\u043e\\u043a\\u0442\\u043e\\u0440\\u0430 \\u0418\\u0433\\u043e\\u0440\\u044f \\u0427\\u0435\\u0442\\u043e\\u0435\\u0432\\u0438\\u0447\\u0430. \\u0412\\u0440\\u0430\\u0447 \\u0443\\u0431\\u0435\\u0434\\u0438\\u043b \\u0442\\u0435\\u043d\\u043d\\u0438\\u0441\\u0438\\u0441\\u0442\\u0430, \\u0447\\u0442\\u043e \\u0437\\u043d\\u0430\\u0435\\u0442 \\u043f\\u0440\\u0438\\u0447\\u0438\\u043d\\u0443 \\u0435\\u0433\\u043e \\u043d\\u0435\\u0443\\u0434\\u0430\\u0447, \\u0438 \\u043f\\u043e\\u0441\\u043e\\u0432\\u0435\\u0442\\u043e\\u0432\\u0430\\u043b \\u0435\\u043c\\u0443 \\u0438\\u0437\\u043c\\u0435\\u043d\\u0438\\u0442\\u044c \\u0440\\u0430\\u0446\\u0438\\u043e\\u043d. \\u041e\\u0434\\u043d\\u0430\\u043a\\u043e \\u043f\\u0435\\u0440\\u0435\\u0434 \\u044d\\u0442\\u0438\\u043c \\u043f\\u043e\\u043f\\u0440\\u043e\\u0441\\u0438\\u043b \\u0441\\u043f\\u043e\\u0440\\u0442\\u0441\\u043c\\u0435\\u043d\\u0430 \\u0441\\u0434\\u0435\\u043b\\u0430\\u0442\\u044c \\u043d\\u0435\\u0447\\u0442\\u043e \\u0441\\u0442\\u0440\\u0430\\u043d\\u043d\\u043e\\u0435.\\n\\u00ab\\u041c\\u043d\\u0435 \\u043d\\u0430\\u0434\\u043e \\u0431\\u044b\\u043b\\u043e \\u043f\\u043e\\u043b\\u043e\\u0436\\u0438\\u0442\\u044c \\u043b\\u0435\\u0432\\u0443\\u044e \\u0440\\u0443\\u043a\\u0443 \\u043d\\u0430 \\u0436\\u0438\\u0432\\u043e\\u0442, \\u0430 \\u043f\\u0440\\u0430\\u0432\\u0443\\u044e \\u0432\\u044b\\u0442\\u044f\\u043d\\u0443\\u0442\\u044c \\u0432 \\u0441\\u0442\\u043e\\u0440\\u043e\\u043d\\u0443. \\u0417\\u0430\\u0442\\u0435\\u043c \\u043e\\u043d \\u0434\\u0430\\u043b \\u043c\\u043d\\u0435 \\u043b\\u043e\\u043c\\u043e\\u0442\\u044c \\u0445\\u043b\\u0435\\u0431\\u0430. \\u041c\\u043d\\u0435 \\u0447\\u0442\\u043e, \\u0435\\u0433\\u043e \\u0441\\u044a\\u0435\\u0441\\u0442\\u044c? \\u00ab\\u041d\\u0435\\u0442, \\u2014 \\u0437\\u0430\\u0441\\u043c\\u0435\\u044f\\u043b\\u0441\\u044f \\u0427\\u0435\\u0442\\u043e\\u0435\\u0432\\u0438\\u0447. \\u2014 \\u041f\\u0440\\u0438\\u0436\\u043c\\u0438 \\u0435\\u0433\\u043e \\u043a \\u0436\\u0438\\u0432\\u043e\\u0442\\u0443, \\u0430 \\u043f\\u0440\\u0430\\u0432\\u0443\\u044e \\u0440\\u0443\\u043a\\u0443 \\u0441\\u043d\\u043e\\u0432\\u0430 \\u0432\\u044b\\u0442\\u044f\\u043d\\u0438\\u00bb. \\u041e\\u043d \\u0435\\u0449\\u0451 \\u0440\\u0430\\u0437 \\u043d\\u0430\\u0434\\u0430\\u0432\\u0438\\u043b \\u043d\\u0430 \\u0432\\u044b\\u0442\\u044f\\u043d\\u0443\\u0442\\u0443\\u044e \\u0440\\u0443\\u043a\\u0443, \\u043f\\u043e\\u044f\\u0441\\u043d\\u0438\\u0432, \\u0447\\u0442\\u043e \\u044d\\u0442\\u043e\\u0442 \\u043f\\u0440\\u0435\\u0434\\u0432\\u0430\\u0440\\u0438\\u0442\\u0435\\u043b\\u044c\\u043d\\u044b\\u0439 \\u0442\\u0435\\u0441\\u0442 \\u043f\\u043e\\u043a\\u0430\\u0436\\u0435\\u0442, \\u0435\\u0441\\u0442\\u044c \\u043b\\u0438 \\u0443 \\u043c\\u0435\\u043d\\u044f \\u043f\\u043e\\u0432\\u044b\\u0448\\u0435\\u043d\\u043d\\u0430\\u044f \\u0447\\u0443\\u0432\\u0441\\u0442\\u0432\\u0438\\u0442\\u0435\\u043b\\u044c\\u043d\\u043e\\u0441\\u0442\\u044c \\u043a \\u0433\\u043b\\u044e\\u0442\\u0435\\u043d\\u0443 \\u2014 \\u0431\\u0435\\u043b\\u043a\\u0443, \\u0441\\u043e\\u0434\\u0435\\u0440\\u0436\\u0430\\u0449\\u0435\\u043c\\u0443\\u0441\\u044f \\u0432 \\u043f\\u0448\\u0435\\u043d\\u0438\\u0446\\u0435, \\u043e\\u0432\\u0441\\u0435, \\u0440\\u0436\\u0438 \\u0438 \\u0434\\u0440\\u0443\\u0433\\u0438\\u0445 \\u0445\\u043b\\u0435\\u0431\\u043d\\u044b\\u0445 \\u0437\\u043b\\u0430\\u043a\\u0430\\u0445. \\u042d\\u043a\\u0441\\u043f\\u0435\\u0440\\u0438\\u043c\\u0435\\u043d\\u0442 \\u043f\\u043e\\u043a\\u0430\\u0437\\u0430\\u043b\\u0441\\u044f \\u043c\\u043d\\u0435 \\u0431\\u0435\\u0441\\u0441\\u043c\\u044b\\u0441\\u043b\\u0438\\u0446\\u0435\\u0439. \\u041e\\u0434\\u043d\\u0430\\u043a\\u043e \\u044f \\u043e\\u0449\\u0443\\u0442\\u0438\\u043b \\u0437\\u0430\\u043c\\u0435\\u0442\\u043d\\u0443\\u044e \\u0440\\u0430\\u0437\\u043d\\u0438\\u0446\\u0443. \\u041a\\u043e\\u0433\\u0434\\u0430 \\u044f \\u043f\\u0440\\u0438\\u0436\\u0438\\u043c\\u0430\\u043b \\u043a \\u0436\\u0438\\u0432\\u043e\\u0442\\u0443 \\u0445\\u043b\\u0435\\u0431, \\u043f\\u0440\\u0430\\u0432\\u0430\\u044f \\u0440\\u0443\\u043a\\u0430 \\u0441 \\u0431\\u043e\\u043b\\u044c\\u0448\\u0438\\u043c \\u0443\\u0441\\u0438\\u043b\\u0438\\u0435\\u043c \\u0432\\u044b\\u0434\\u0435\\u0440\\u0436\\u0438\\u0432\\u0430\\u043b\\u0430 \\u0434\\u0430\\u0432\\u043b\\u0435\\u043d\\u0438\\u0435 \\u0427\\u0435\\u0442\\u043e\\u0435\\u0432\\u0438\\u0447\\u0430. \\u042f \\u0434\\u0435\\u0439\\u0441\\u0442\\u0432\\u0438\\u0442\\u0435\\u043b\\u044c\\u043d\\u043e \\u0441\\u0442\\u0430\\u043b \\u0441\\u043b\\u0430\\u0431\\u0435\\u0435!\\u00bb \\u2014 \\u0434\\u0435\\u043b\\u0438\\u043b\\u0441\\u044f \\u0432\\u043e\\u0441\\u043f\\u043e\\u043c\\u0438\\u043d\\u0430\\u043d\\u0438\\u044f\\u043c\\u0438 \\u0414\\u0436\\u043e\\u043a\\u043e\\u0432\\u0438\\u0447. \\u0422\\u0430\\u043a \\u043e\\u043d \\u0443\\u0437\\u043d\\u0430\\u043b, \\u0447\\u0442\\u043e \\u0443 \\u043d\\u0435\\u0433\\u043e \\u0435\\u0441\\u0442\\u044c \\u0430\\u043b\\u043b\\u0435\\u0440\\u0433\\u0438\\u044f \\u043d\\u0430 \\u0433\\u043b\\u044e\\u0442\\u0435\\u043d, \\u0438 \\u0440\\u0435\\u0448\\u0438\\u043b \\u0438\\u0441\\u043a\\u043b\\u044e\\u0447\\u0438\\u0442\\u044c \\u0435\\u0433\\u043e \\u0438\\u0437 \\u0441\\u0432\\u043e\\u0435\\u0433\\u043e \\u0440\\u0430\\u0446\\u0438\\u043e\\u043d\\u0430.\\n\\u0417\\u0430 \\u0433\\u043e\\u0434\\u044b \\u044d\\u043a\\u0441\\u043f\\u0435\\u0440\\u0438\\u043c\\u0435\\u043d\\u0442\\u0430 \\u041d\\u043e\\u0432\\u0430\\u043a \\u0442\\u0449\\u0430\\u0442\\u0435\\u043b\\u044c\\u043d\\u043e \\u0438\\u0437\\u0443\\u0447\\u0438\\u043b \\u0442\\u0435\\u043c\\u0443 \\u0438 \\u043f\\u043e\\u0434\\u0435\\u043b\\u0438\\u043b\\u0441\\u044f \\u0441\\u0432\\u043e\\u0438\\u043c\\u0438 \\u043e\\u0442\\u043a\\u0440\\u044b\\u0442\\u0438\\u044f\\u043c\\u0438 \\u0441 \\u0448\\u0438\\u0440\\u043e\\u043a\\u043e\\u0439 \\u043f\\u0443\\u0431\\u043b\\u0438\\u043a\\u043e\\u0439. \\u041f\\u043e\\u0434\\u0440\\u043e\\u0431\\u043d\\u043e \\u043e\\u043f\\u0438\\u0441\\u0430\\u043b \\u043e\\u043d \\u043f\\u043e\\u0441\\u043b\\u0435\\u0434\\u0441\\u0442\\u0432\\u0438\\u044f \\u0446\\u0435\\u043b\\u0438\\u0430\\u043a\\u0438\\u0438 \\u2014 \\u0440\\u0435\\u0437\\u043a\\u043e \\u0432\\u044b\\u0440\\u0430\\u0436\\u0435\\u043d\\u043d\\u043e\\u0439 \\u0430\\u043b\\u043b\\u0435\\u0440\\u0433\\u0438\\u0447\\u0435\\u0441\\u043a\\u043e\\u0439 \\u0440\\u0435\\u0430\\u043a\\u0446\\u0438\\u0438 \\u043d\\u0430 \\u0433\\u043b\\u044e\\u0442\\u0435\\u043d. \\u0412\\u043e\\u0441\\u043f\\u0430\\u043b\\u0435\\u043d\\u0438\\u044f \\u0442\\u043e\\u043d\\u043a\\u043e\\u0433\\u043e \\u043a\\u0438\\u0448\\u0435\\u0447\\u043d\\u0438\\u043a\\u0430, \\u0443\\u0442\\u043e\\u043c\\u043b\\u044f\\u0435\\u043c\\u043e\\u0441\\u0442\\u044c, \\u043a\\u043e\\u0436\\u043d\\u044b\\u0435 \\u0432\\u044b\\u0441\\u044b\\u043f\\u0430\\u043d\\u0438\\u044f, \\u0431\\u043e\\u043b\\u0435\\u0437\\u043d\\u0435\\u043d\\u043d\\u043e\\u0435 \\u043f\\u043e\\u0445\\u0443\\u0434\\u0430\\u043d\\u0438\\u0435, \\u0430\\u043d\\u0435\\u043c\\u0438\\u044f \\u0438 \\u043e\\u0441\\u0442\\u0435\\u043e\\u043f\\u043e\\u0440\\u043e\\u0437 \\u2014 \\u0432\\u0441\\u0451 \\u044d\\u0442\\u043e \\u0441\\u0438\\u043c\\u043f\\u0442\\u043e\\u043c\\u044b \\u043d\\u0435\\u043f\\u0440\\u0430\\u0432\\u0438\\u043b\\u044c\\u043d\\u043e\\u0433\\u043e \\u043f\\u0438\\u0442\\u0430\\u043d\\u0438\\u044f.\\n\\u041f\\u0440\\u043e\\u0434\\u0443\\u043a\\u0442\\u043e\\u0432, \\u0432 \\u043a\\u043e\\u0442\\u043e\\u0440\\u044b\\u0445 \\u0435\\u0441\\u0442\\u044c \\u0433\\u043b\\u044e\\u0442\\u0435\\u043d, \\u043c\\u043d\\u043e\\u0433\\u043e \\u2014 \\u0432 \\u043e\\u0441\\u043d\\u043e\\u0432\\u043d\\u043e\\u043c \\u044d\\u0442\\u043e \\u0445\\u043b\\u0435\\u0431 \\u0438 \\u0434\\u0440\\u0443\\u0433\\u0438\\u0435 \\u043c\\u0443\\u0447\\u043d\\u044b\\u0435 \\u043f\\u0440\\u043e\\u0434\\u0443\\u043a\\u0442\\u044b, \\u043e\\u0434\\u043d\\u0430\\u043a\\u043e \\u0442\\u0435\\u043d\\u043d\\u0438\\u0441\\u0438\\u0441\\u0442 \\u043d\\u0435 \\u0433\\u043e\\u0432\\u043e\\u0440\\u0438\\u0442 \\u0438\\u0437\\u0431\\u0430\\u0432\\u043b\\u044f\\u0442\\u044c\\u0441\\u044f \\u043e\\u0442 \\u043d\\u0438\\u0445 \\u00ab\\u043d\\u0430 \\u0432\\u0435\\u043a\\u0438 \\u0432\\u0435\\u0447\\u043d\\u044b\\u0435\\u00bb. \\u041e\\u043d \\u0441\\u043e\\u0432\\u0435\\u0442\\u0443\\u0435\\u0442 \\u043f\\u043e\\u043f\\u0440\\u043e\\u0431\\u043e\\u0432\\u0430\\u0442\\u044c \\u043e\\u0442\\u043a\\u0430\\u0437\\u0430\\u0442\\u044c\\u0441\\u044f \\u043e\\u0442 \\u043d\\u0438\\u0445 \\u043d\\u0430 \\u0434\\u0432\\u0435 \\u043d\\u0435\\u0434\\u0435\\u043b\\u0438, \\u0430 \\u0437\\u0430\\u0442\\u0435\\u043c \\u043f\\u043e\\u0441\\u043c\\u043e\\u0442\\u0440\\u0435\\u0442\\u044c \\u043d\\u0430 \\u0440\\u0435\\u0430\\u043a\\u0446\\u0438\\u044e \\u0432\\u0430\\u0448\\u0435\\u0433\\u043e \\u043e\\u0440\\u0433\\u0430\\u043d\\u0438\\u0437\\u043c\\u0430. \\u041a\\u0440\\u043e\\u043c\\u0435 \\u0442\\u043e\\u0433\\u043e, \\u041d\\u043e\\u0432\\u0430\\u043a \\u0434\\u043e\\u043a\\u0430\\u0437\\u044b\\u0432\\u0430\\u0435\\u0442, \\u0447\\u0442\\u043e \\u0434\\u0430\\u0436\\u0435 \\u043d\\u0430 \\u0431\\u0435\\u0437\\u0433\\u043b\\u044e\\u0442\\u0435\\u043d\\u043e\\u0432\\u043e\\u0439 \\u0434\\u0438\\u0435\\u0442\\u0435 \\u043c\\u043e\\u0436\\u043d\\u043e \\u0432\\u043a\\u0443\\u0441\\u043d\\u043e \\u0438 \\u043f\\u043e\\u043b\\u043d\\u043e\\u0446\\u0435\\u043d\\u043d\\u043e \\u043f\\u0438\\u0442\\u0430\\u0442\\u044c\\u0441\\u044f.\\n\\u00ab\\u041e\\u0441\\u043d\\u043e\\u0432\\u0430 \\u043d\\u0430\\u0448\\u0435\\u0439 \\u0436\\u0438\\u0437\\u043d\\u0438 \\u2014 \\u0441\\u0431\\u0430\\u043b\\u0430\\u043d\\u0441\\u0438\\u0440\\u043e\\u0432\\u0430\\u043d\\u043d\\u043e\\u0441\\u0442\\u044c \\u0438 \\u0443\\u043c\\u0435\\u0440\\u0435\\u043d\\u043d\\u043e\\u0441\\u0442\\u044c \\u0432\\u043e \\u0432\\u0441\\u0451\\u043c: \\u0432 \\u043f\\u0438\\u0442\\u0430\\u043d\\u0438\\u0438, \\u0442\\u0440\\u0435\\u043d\\u0438\\u0440\\u043e\\u0432\\u043a\\u0430\\u0445, \\u0440\\u0430\\u0431\\u043e\\u0442\\u0435, \\u043b\\u044e\\u0431\\u0432\\u0438 \\u0438 \\u0441\\u0435\\u043a\\u0441\\u0435 (\\u043b\\u0430\\u0434\\u043d\\u043e, \\u0441\\u043e\\u0433\\u043b\\u0430\\u0441\\u0435\\u043d, \\u0441\\u0435\\u043a\\u0441 \\u0437\\u0430\\u0441\\u043b\\u0443\\u0436\\u0438\\u0432\\u0430\\u0435\\u0442 \\u0438\\u0441\\u043a\\u043b\\u044e\\u0447\\u0435\\u043d\\u0438\\u044f, \\u043d\\u043e \\u0432 \\u0446\\u0435\\u043b\\u043e\\u043c \\u0432\\u044b \\u043c\\u0435\\u043d\\u044f \\u043f\\u043e\\u043d\\u044f\\u043b\\u0438). \\u0415\\u0441\\u0442\\u044c \\u0441\\u0442\\u0430\\u0440\\u0430\\u044f \\u043f\\u043e\\u0433\\u043e\\u0432\\u043e\\u0440\\u043a\\u0430 \\u043e \\u0447\\u0435\\u0442\\u044b\\u0440\\u0451\\u0445 \\u00ab\\u0431\\u0435\\u043b\\u044b\\u0445 \\u0441\\u043c\\u0435\\u0440\\u0442\\u044f\\u0445\\u00bb: \\u0431\\u0435\\u043b\\u043e\\u043c \\u0445\\u043b\\u0435\\u0431\\u0435, \\u0431\\u0435\\u043b\\u043e\\u043c \\u0441\\u0430\\u0445\\u0430\\u0440\\u0435, \\u0441\\u043e\\u043b\\u0438 \\u0438 \\u0431\\u0435\\u043b\\u043e\\u043c \\u0436\\u0438\\u0440\\u0435. \\u041b\\u0443\\u0447\\u0448\\u0435 \\u0432\\u0441\\u0435\\u0433\\u043e, \\u043d\\u0435\\u0437\\u0430\\u0432\\u0438\\u0441\\u0438\\u043c\\u043e \\u043e\\u0442 \\u0442\\u0438\\u043f\\u0430 \\u0432\\u0430\\u0448\\u0435\\u0433\\u043e \\u043e\\u0440\\u0433\\u0430\\u043d\\u0438\\u0437\\u043c\\u0430, \\u0438\\u0437\\u0431\\u0435\\u0433\\u0430\\u0442\\u044c \\u0432\\u044b\\u0448\\u0435\\u043e\\u0437\\u043d\\u0430\\u0447\\u0435\\u043d\\u043d\\u0443\\u044e \\u0447\\u0435\\u0442\\u0432\\u0451\\u0440\\u043a\\u0443, \\u0430 \\u043a\\u043e\\u0433\\u0434\\u0430 \\u0432\\u0441\\u0451 \\u0436\\u0435 \\u043f\\u043e\\u0437\\u0432\\u043e\\u043b\\u044f\\u0435\\u0442\\u0435 \\u0441\\u0435\\u0431\\u0435 \\u043f\\u043e\\u043b\\u0430\\u043a\\u043e\\u043c\\u0438\\u0442\\u044c\\u0441\\u044f, \\u0442\\u043e \\u0435\\u0448\\u044c\\u0442\\u0435 \\u0443\\u043c\\u0435\\u0440\\u0435\\u043d\\u043d\\u043e. \\u0412\\u043e\\u043e\\u0431\\u0449\\u0435, \\u044f \\u0441\\u0442\\u0430\\u0440\\u0430\\u044e\\u0441\\u044c \\u043b\\u044e\\u0431\\u0443\\u044e \\u043f\\u0438\\u0449\\u0443 \\u0435\\u0441\\u0442\\u044c \\u043f\\u043e\\u043d\\u0435\\u043c\\u043d\\u043e\\u0433\\u0443, \\u0434\\u0430\\u0436\\u0435 \\u043f\\u043e\\u043b\\u0435\\u0437\\u043d\\u0443\\u044e. \\u041a\\u0443\\u0434\\u0430 \\u0431\\u044b \\u044f \\u043d\\u0438 \\u043f\\u0440\\u0438\\u0435\\u0445\\u0430\\u043b, \\u0438\\u0449\\u0443 \\u0441\\u043b\\u0435\\u0434\\u0443\\u044e\\u0449\\u0438\\u0435 \\u043f\\u0440\\u043e\\u0434\\u0443\\u043a\\u0442\\u044b: \\u043c\\u044f\\u0441\\u043e, \\u0440\\u044b\\u0431\\u0443 \\u0438 \\u044f\\u0439\\u0446\\u0430. \\u0421\\u0430\\u043c\\u044b\\u0439 \\u043e\\u0447\\u0435\\u0432\\u0438\\u0434\\u043d\\u044b\\u0439 \\u0432\\u044b\\u0431\\u043e\\u0440 \\u0434\\u043b\\u044f \\u0442\\u043e\\u0433\\u043e, \\u043a\\u0442\\u043e \\u043e\\u0442\\u043a\\u0430\\u0437\\u0430\\u043b\\u0441\\u044f \\u043e\\u0442 \\u0445\\u043b\\u0435\\u0431\\u0430 \\u0438 \\u0441\\u0430\\u0445\\u0430\\u0440\\u0430\\u00bb, \\u2014 \\u043f\\u0438\\u0441\\u0430\\u043b \\u0414\\u0436\\u043e\\u043a\\u043e\\u0432\\u0438\\u0447.\\n\\u041f\\u043e\\u043c\\u0438\\u043c\\u043e \\u044d\\u0442\\u0438\\u0445 \\u043f\\u0440\\u043e\\u0434\\u0443\\u043a\\u0442\\u043e\\u0432, \\u0441\\u0435\\u0440\\u0431 \\u043d\\u0430\\u043b\\u0435\\u0433\\u0430\\u0435\\u0442 \\u043d\\u0430 \\u043e\\u0432\\u043e\\u0449\\u0438 \\u2014 \\u043e\\u0441\\u043d\\u043e\\u0432\\u043d\\u043e\\u0439 \\u043f\\u0440\\u0438\\u0440\\u043e\\u0434\\u043d\\u044b\\u0439 \\u0438\\u0441\\u0442\\u043e\\u0447\\u043d\\u0438\\u043a \\u043f\\u0440\\u0430\\u043a\\u0442\\u0438\\u0447\\u0435\\u0441\\u043a\\u0438 \\u0432\\u0441\\u0435\\u0445 \\u043f\\u0438\\u0442\\u0430\\u0442\\u0435\\u043b\\u044c\\u043d\\u044b\\u0445 \\u0432\\u0435\\u0449\\u0435\\u0441\\u0442\\u0432: \\u0432\\u0438\\u0442\\u0430\\u043c\\u0438\\u043d\\u043e\\u0432, \\u043c\\u0438\\u043d\\u0435\\u0440\\u0430\\u043b\\u043e\\u0432, \\u043a\\u043b\\u0435\\u0442\\u0447\\u0430\\u0442\\u043a\\u0438, \\u0430\\u043d\\u0442\\u0438\\u043e\\u043a\\u0441\\u0438\\u0434\\u0430\\u043d\\u0442\\u043e\\u0432. \\u0415\\u0434\\u0438\\u043d\\u0441\\u0442\\u0432\\u0435\\u043d\\u043d\\u043e\\u0435, \\u043e\\u043d \\u043d\\u0435 \\u0443\\u0436\\u0438\\u043d\\u0430\\u0435\\u0442 \\u043e\\u0432\\u043e\\u0449\\u0430\\u043c\\u0438, \\u0432 \\u043a\\u043e\\u0442\\u043e\\u0440\\u044b\\u0445 \\u043c\\u043d\\u043e\\u0433\\u043e \\u043a\\u0440\\u0430\\u0445\\u043c\\u0430\\u043b\\u0430 \\u0438 \\u0443\\u0433\\u043b\\u0435\\u0432\\u043e\\u0434\\u043e\\u0432, \\u2014 \\u0441\\u0432\\u0435\\u043a\\u043b\\u043e\\u0439, \\u043a\\u0430\\u0440\\u0442\\u043e\\u0444\\u0435\\u043b\\u0435\\u043c, \\u043a\\u0430\\u0431\\u0430\\u0447\\u043a\\u0430\\u043c\\u0438 \\u0438 \\u0442\\u044b\\u043a\\u0432\\u043e\\u0439. \\u041d\\u043e\\u0432\\u0430\\u043a \\u043f\\u0440\\u0435\\u0434\\u043f\\u043e\\u0447\\u0438\\u0442\\u0430\\u0435\\u0442 \\u0438\\u0445 \\u0437\\u0430\\u043c\\u0435\\u043d\\u044f\\u0442\\u044c \\u0441\\u0430\\u043b\\u0430\\u0442\\u0430\\u043c\\u0438, \\u0431\\u0440\\u043e\\u043a\\u043a\\u043e\\u043b\\u0438, \\u0446\\u0432\\u0435\\u0442\\u043d\\u043e\\u0439 \\u043a\\u0430\\u043f\\u0443\\u0441\\u0442\\u043e\\u0439, \\u0437\\u0435\\u043b\\u0451\\u043d\\u043e\\u0439 \\u0444\\u0430\\u0441\\u043e\\u043b\\u044c\\u044e \\u0438 \\u0441\\u043f\\u0430\\u0440\\u0436\\u0435\\u0439.\\n\\u0424\\u0440\\u0443\\u043a\\u0442\\u0430\\u043c\\u0438 \\u0441\\u0435\\u0431\\u044f \\u0431\\u0430\\u043b\\u0443\\u0435\\u0442 \\u0442\\u0435\\u043d\\u043d\\u0438\\u0441\\u0438\\u0441\\u0442, \\u043a\\u043e\\u0433\\u0434\\u0430 \\u0445\\u043e\\u0447\\u0435\\u0442 \\u0441\\u043b\\u0430\\u0434\\u043a\\u043e\\u0433\\u043e. \\u041f\\u043e\\u043b\\u0435\\u0437\\u043d\\u044b\\u0435 \\u0436\\u0438\\u0440\\u044b \\u043e\\u043d \\u0447\\u0435\\u0440\\u043f\\u0430\\u0435\\u0442 \\u0432 \\u043e\\u0440\\u0435\\u0445\\u0430\\u0445 \\u0438 \\u0441\\u0435\\u043c\\u0435\\u0447\\u043a\\u0430\\u0445, \\u0430 \\u0442\\u0430\\u043a\\u0436\\u0435 \\u0440\\u0430\\u0437\\u043d\\u043e\\u043e\\u0431\\u0440\\u0430\\u0437\\u043d\\u044b\\u0445 \\u043c\\u0430\\u0441\\u043b\\u0430\\u0445 \\u2014 \\u043e\\u043b\\u0438\\u0432\\u043a\\u043e\\u0432\\u043e\\u043c, \\u043a\\u043e\\u043a\\u043e\\u0441\\u043e\\u0432\\u043e\\u043c, \\u043b\\u044c\\u043d\\u044f\\u043d\\u043e\\u043c. \\u0427\\u0442\\u043e\\u0431\\u044b \\u0435\\u0434\\u0430 \\u043d\\u0435 \\u0431\\u044b\\u043b\\u0430 \\u043f\\u0440\\u0435\\u0441\\u043d\\u043e\\u0439, \\u0414\\u0436\\u043e\\u043a\\u043e\\u0432\\u0438\\u0447 \\u0434\\u043e\\u0431\\u0430\\u0432\\u043b\\u044f\\u0435\\u0442 \\u0432 \\u043d\\u0435\\u0451 \\u043f\\u0440\\u0438\\u043f\\u0440\\u0430\\u0432\\u044b, \\u043d\\u043e \\u0442\\u043e\\u043b\\u044c\\u043a\\u043e \\u0442\\u0435, \\u0432 \\u043a\\u043e\\u0442\\u043e\\u0440\\u044b\\u0445 \\u043d\\u0435\\u0442 \\u0438\\u0437\\u0431\\u044b\\u0442\\u043a\\u0430 \\u0441\\u0430\\u0445\\u0430\\u0440\\u0430, \\u2014 \\u0433\\u043e\\u0440\\u0447\\u0438\\u0446\\u0430, \\u0445\\u0440\\u0435\\u043d, \\u0443\\u043a\\u0441\\u0443\\u0441, \\u0432\\u0430\\u0441\\u0430\\u0431\\u0438 \\u0438 \\u0434\\u0440\\u0443\\u0433\\u0438\\u0435.\\n\\u041d\\u043e \\u043d\\u0435 \\u0442\\u043e\\u043b\\u044c\\u043a\\u043e \\u043e\\u0442 \\u0441\\u043e\\u0441\\u0442\\u0430\\u0432\\u0430 \\u0431\\u043b\\u044e\\u0434 \\u0437\\u0430\\u0432\\u0438\\u0441\\u0438\\u0442 \\u043a\\u0430\\u0447\\u0435\\u0441\\u0442\\u0432\\u043e \\u043f\\u0438\\u0442\\u0430\\u043d\\u0438\\u044f, \\u0437\\u0430\\u044f\\u0432\\u043b\\u044f\\u0435\\u0442 \\u041d\\u043e\\u0432\\u0430\\u043a. \\u0415\\u0441\\u0442\\u044c \\u0435\\u0449\\u0451 \\u043f\\u0440\\u0430\\u0432\\u0438\\u043b\\u0430, \\u043a\\u043e\\u0442\\u043e\\u0440\\u044b\\u0435 \\u043d\\u0435\\u043e\\u0431\\u0445\\u043e\\u0434\\u0438\\u043c\\u043e \\u0441\\u043e\\u0431\\u043b\\u044e\\u0434\\u0430\\u0442\\u044c. \\u0423 \\u0442\\u0435\\u043d\\u043d\\u0438\\u0441\\u0438\\u0441\\u0442\\u0430 \\u0438\\u0445 \\u0447\\u0435\\u0442\\u044b\\u0440\\u0435.\\n\\u00ab\\u041f\\u0440\\u0430\\u0432\\u0438\\u043b\\u043e \\u043d\\u043e\\u043c\\u0435\\u0440 \\u043e\\u0434\\u0438\\u043d: \\u0435\\u0448\\u044c\\u0442\\u0435 \\u043c\\u0435\\u0434\\u043b\\u0435\\u043d\\u043d\\u043e \\u0438 \\u043e\\u0441\\u043e\\u0437\\u043d\\u0430\\u043d\\u043d\\u043e. \\u041a\\u0430\\u043a \\u0441\\u043f\\u043e\\u0440\\u0442\\u0441\\u043c\\u0435\\u043d \\u044f \\u043e\\u0431\\u043b\\u0430\\u0434\\u0430\\u044e \\u0431\\u044b\\u0441\\u0442\\u0440\\u044b\\u043c \\u043c\\u0435\\u0442\\u0430\\u0431\\u043e\\u043b\\u0438\\u0437\\u043c\\u043e\\u043c. \\u041c\\u043e\\u0451 \\u0442\\u0435\\u043b\\u043e \\u0442\\u0440\\u0435\\u0431\\u0443\\u0435\\u0442 \\u043c\\u043d\\u043e\\u0433\\u043e \\u044d\\u043d\\u0435\\u0440\\u0433\\u0438\\u0438, \\u043e\\u0441\\u043e\\u0431\\u0435\\u043d\\u043d\\u043e \\u0432\\u043e \\u0432\\u0440\\u0435\\u043c\\u044f \\u043c\\u0430\\u0442\\u0447\\u0430, \\u043f\\u043e\\u044d\\u0442\\u043e\\u043c\\u0443 \\u044f \\u0445\\u043e\\u0447\\u0443 \\u043f\\u0435\\u0440\\u0435\\u0432\\u0430\\u0440\\u0438\\u0432\\u0430\\u0442\\u044c \\u043f\\u0438\\u0449\\u0443 \\u043a\\u0430\\u043a \\u043c\\u043e\\u0436\\u043d\\u043e \\u044d\\u0444\\u0444\\u0435\\u043a\\u0442\\u0438\\u0432\\u043d\\u0435\\u0435 \\u0438 \\u043f\\u043e\\u043b\\u0443\\u0447\\u0430\\u0442\\u044c \\u043c\\u0430\\u043a\\u0441\\u0438\\u043c\\u0443\\u043c \\u044d\\u043d\\u0435\\u0440\\u0433\\u0438\\u0438. \\u0412\\u0441\\u043f\\u043e\\u043c\\u043d\\u0438\\u0442\\u0435 \\u0443\\u0440\\u043e\\u043a\\u0438 \\u0431\\u0438\\u043e\\u043b\\u043e\\u0433\\u0438\\u0438: \\u0434\\u043b\\u044f \\u043f\\u0435\\u0440\\u0435\\u0432\\u0430\\u0440\\u0438\\u0432\\u0430\\u043d\\u0438\\u044f \\u043f\\u0438\\u0449\\u0438 \\u043d\\u0435\\u043e\\u0431\\u0445\\u043e\\u0434\\u0438\\u043c \\u043f\\u0440\\u0438\\u043b\\u0438\\u0432 \\u043a\\u0440\\u043e\\u0432\\u0438. \\u041d\\u043e \\u043c\\u043d\\u0435 \\u044d\\u0442\\u0430 \\u043a\\u0440\\u043e\\u0432\\u044c \\u0442\\u043e\\u0436\\u0435 \\u043d\\u0443\\u0436\\u043d\\u0430, \\u043a\\u043e\\u0433\\u0434\\u0430 \\u044f \\u0432\\u044b\\u0441\\u0442\\u0443\\u043f\\u0430\\u044e \\u043d\\u0430 \\u043a\\u043e\\u0440\\u0442\\u0435. \\u0418 \\u0435\\u0441\\u043b\\u0438 \\u044f \\u0434\\u043e\\u0431\\u044c\\u044e\\u0441\\u044c, \\u0447\\u0442\\u043e\\u0431\\u044b \\u043f\\u0438\\u0449\\u0435\\u0432\\u0430\\u0440\\u0438\\u0442\\u0435\\u043b\\u044c\\u043d\\u0430\\u044f \\u0441\\u0438\\u0441\\u0442\\u0435\\u043c\\u0430 \\u0440\\u0430\\u0431\\u043e\\u0442\\u0430\\u043b\\u0430 \\u0431\\u044b\\u0441\\u0442\\u0440\\u0435\\u0435 \\u0438 \\u043b\\u0443\\u0447\\u0448\\u0435, \\u0442\\u043e \\u0441\\u043c\\u043e\\u0433\\u0443 \\u0440\\u0430\\u043d\\u044c\\u0448\\u0435 \\u0432\\u0435\\u0440\\u043d\\u0443\\u0442\\u044c\\u0441\\u044f \\u043a \\u0444\\u0438\\u0437\\u0438\\u0447\\u0435\\u0441\\u043a\\u043e\\u0439 \\u0430\\u043a\\u0442\\u0438\\u0432\\u043d\\u043e\\u0441\\u0442\\u0438 \\u0441 \\u043d\\u043e\\u0432\\u044b\\u043c\\u0438 \\u0441\\u0438\\u043b\\u0430\\u043c\\u0438.\\n\\u041d\\u043e\\u0432\\u0430\\u043a \\u0414\\u0436\\u043e\\u043a\\u043e\\u0432\\u0438\\u0447\\n\\u0412\\u0442\\u043e\\u0440\\u043e\\u0435 \\u043f\\u0440\\u0430\\u0432\\u0438\\u043b\\u043e: \\u0434\\u0430\\u0432\\u0430\\u0439\\u0442\\u0435 \\u043e\\u0440\\u0433\\u0430\\u043d\\u0438\\u0437\\u043c\\u0443 \\u0447\\u0451\\u0442\\u043a\\u0438\\u0435 \\u0443\\u043a\\u0430\\u0437\\u0430\\u043d\\u0438\\u044f. \\u041d\\u0430\\u0448 \\u043e\\u0440\\u0433\\u0430\\u043d\\u0438\\u0437\\u043c \\u0438\\u0441\\u043f\\u043e\\u043b\\u044c\\u0437\\u0443\\u0435\\u0442 \\u043f\\u0438\\u0449\\u0443 \\u0434\\u043b\\u044f \\u0434\\u0432\\u0443\\u0445 \\u043e\\u0441\\u043d\\u043e\\u0432\\u043d\\u044b\\u0445 \\u0446\\u0435\\u043b\\u0435\\u0439: \\u0432\\u043e-\\u043f\\u0435\\u0440\\u0432\\u044b\\u0445, \\u0440\\u0430\\u0434\\u0438 \\u043f\\u043e\\u043b\\u0443\\u0447\\u0435\\u043d\\u0438\\u044f \\u044d\\u043d\\u0435\\u0440\\u0433\\u0438\\u0438 \\u2014 \\u0447\\u0442\\u043e\\u0431\\u044b \\u043d\\u043e\\u0433\\u0438 \\u0434\\u0432\\u0438\\u0433\\u0430\\u043b\\u0438\\u0441\\u044c, \\u0441\\u0435\\u0440\\u0434\\u0446\\u0435 \\u0431\\u0438\\u043b\\u043e\\u0441\\u044c, \\u0440\\u0430\\u043a\\u0435\\u0442\\u043a\\u0430 \\u043b\\u0435\\u0442\\u0430\\u043b\\u0430 \\u0432 \\u0440\\u0443\\u043a\\u0430\\u0445. \\u0412\\u043e-\\u0432\\u0442\\u043e\\u0440\\u044b\\u0445, \\u0434\\u043b\\u044f \\u0432\\u043e\\u0441\\u0441\\u0442\\u0430\\u043d\\u043e\\u0432\\u043b\\u0435\\u043d\\u0438\\u044f, \\u0447\\u0442\\u043e\\u0431\\u044b \\u0438\\u0441\\u043f\\u0440\\u0430\\u0432\\u0438\\u0442\\u044c \\u0443\\u0449\\u0435\\u0440\\u0431, \\u043d\\u0430\\u043d\\u0435\\u0441\\u0451\\u043d\\u043d\\u044b\\u0439 \\u0437\\u0430 \\u0434\\u0435\\u043d\\u044c, \\u0431\\u0443\\u0434\\u044c \\u0442\\u043e \\u043e\\u0442 \\u0434\\u043e\\u043b\\u0433\\u0438\\u0445 \\u0442\\u0440\\u0435\\u043d\\u0438\\u0440\\u043e\\u0432\\u043e\\u043a \\u0438\\u043b\\u0438 \\u0446\\u0435\\u043b\\u043e\\u0433\\u043e \\u0434\\u043d\\u044f \\u0432 \\u043e\\u0444\\u0438\\u0441\\u0435. \\u041f\\u0440\\u043e\\u0442\\u0435\\u0438\\u043d \\u0438 \\u0434\\u0440\\u0443\\u0433\\u0438\\u0435 \\u043f\\u0438\\u0442\\u0430\\u0442\\u0435\\u043b\\u044c\\u043d\\u044b\\u0435 \\u0432\\u0435\\u0449\\u0435\\u0441\\u0442\\u0432\\u0430 \\u043f\\u043e\\u043c\\u043e\\u0433\\u0430\\u044e\\u0442 \\u0432\\u043e\\u0441\\u0441\\u0442\\u0430\\u043d\\u0430\\u0432\\u043b\\u0438\\u0432\\u0430\\u0442\\u044c \\u043c\\u044b\\u0448\\u0446\\u044b, \\u0432\\u044b\\u0440\\u0430\\u0431\\u0430\\u0442\\u044b\\u0432\\u0430\\u0442\\u044c \\u043d\\u043e\\u0432\\u044b\\u0435 \\u043a\\u0440\\u043e\\u0432\\u044f\\u043d\\u044b\\u0435 \\u043a\\u043b\\u0435\\u0442\\u043a\\u0438 \\u0438 \\u0432\\u043e\\u0441\\u043f\\u043e\\u043b\\u043d\\u044f\\u0442\\u044c \\u0443\\u0440\\u043e\\u0432\\u0435\\u043d\\u044c \\u0433\\u043e\\u0440\\u043c\\u043e\\u043d\\u043e\\u0432. \\u0412\\u043e\\u0442 \\u043f\\u043e\\u0447\\u0435\\u043c\\u0443 \\u043e\\u0441\\u043d\\u043e\\u0432\\u043d\\u043e\\u0435 \\u043a\\u043e\\u043b\\u0438\\u0447\\u0435\\u0441\\u0442\\u0432\\u043e \\u043a\\u0430\\u043b\\u043e\\u0440\\u0438\\u0439, \\u043a\\u043e\\u0442\\u043e\\u0440\\u044b\\u0435 \\u044f \\u0441\\u044a\\u0435\\u0434\\u0430\\u044e \\u0432 \\u043f\\u0435\\u0440\\u0432\\u043e\\u0439 \\u043f\\u043e\\u043b\\u043e\\u0432\\u0438\\u043d\\u0435 \\u0434\\u043d\\u044f \\u0434\\u043e \\u043b\\u0430\\u043d\\u0447\\u0430, \\u0437\\u0430\\u043a\\u043b\\u044e\\u0447\\u0435\\u043d\\u043e \\u0432 \\u0443\\u0433\\u043b\\u0435\\u0432\\u043e\\u0434\\u0430\\u0445. \\u0423\\u043f\\u043e\\u0442\\u0440\\u0435\\u0431\\u043b\\u044f\\u044f \\u0443\\u0433\\u043b\\u0435\\u0432\\u043e\\u0434\\u044b \\u0438 \\u043e\\u0447\\u0435\\u043d\\u044c \\u043c\\u0430\\u043b\\u043e \\u0431\\u0435\\u043b\\u043a\\u0430, \\u044f \\u0433\\u043e\\u0432\\u043e\\u0440\\u044e \\u043e\\u0440\\u0433\\u0430\\u043d\\u0438\\u0437\\u043c\\u0443: \\u00ab\\u041c\\u043d\\u0435 \\u043d\\u0443\\u0436\\u043d\\u0430 \\u044d\\u043d\\u0435\\u0440\\u0433\\u0438\\u044f, \\u043f\\u0435\\u0440\\u0435\\u0440\\u0430\\u0431\\u0430\\u0442\\u044b\\u0432\\u0430\\u0439 \\u043f\\u043e \\u043c\\u0435\\u0440\\u0435 \\u043d\\u0435\\u043e\\u0431\\u0445\\u043e\\u0434\\u0438\\u043c\\u043e\\u0441\\u0442\\u0438\\u00bb. \\u041d\\u043e\\u0447\\u044c\\u044e \\u044d\\u043d\\u0435\\u0440\\u0433\\u0438\\u044f \\u043c\\u043d\\u0435 \\u043d\\u0435 \\u043d\\u0443\\u0436\\u043d\\u0430. \\u042f \\u0443\\u0441\\u0442\\u0430\\u043b \\u0438 \\u0445\\u043e\\u0447\\u0443 \\u0445\\u043e\\u0440\\u043e\\u0448\\u043e \\u0432\\u044b\\u0441\\u043f\\u0430\\u0442\\u044c\\u0441\\u044f. \\u041f\\u043e\\u044d\\u0442\\u043e\\u043c\\u0443 \\u0437\\u0430 \\u0443\\u0436\\u0438\\u043d\\u043e\\u043c \\u044f \\u0433\\u043e\\u0432\\u043e\\u0440\\u044e \\u043e\\u0440\\u0433\\u0430\\u043d\\u0438\\u0437\\u043c\\u0443: \\u00ab\\u041d\\u0443\\u0436\\u043d\\u043e, \\u0447\\u0442\\u043e\\u0431\\u044b \\u0442\\u044b \\u0438\\u0441\\u043f\\u0440\\u0430\\u0432\\u0438\\u043b \\u0432\\u0441\\u0451, \\u0447\\u0442\\u043e \\u044f \\u043d\\u0430\\u0442\\u0432\\u043e\\u0440\\u0438\\u043b. \\u041f\\u043e\\u0436\\u0430\\u043b\\u0443\\u0439\\u0441\\u0442\\u0430, \\u0431\\u0435\\u0440\\u0438 \\u043f\\u0440\\u043e\\u0442\\u0435\\u0438\\u043d \\u0438 \\u0434\\u0435\\u043b\\u0430\\u0439, \\u0447\\u0442\\u043e \\u043d\\u0430\\u0434\\u043e\\u00bb.\\n\\u041f\\u0440\\u0430\\u0432\\u0438\\u043b\\u043e \\u043d\\u043e\\u043c\\u0435\\u0440 \\u0442\\u0440\\u0438: \\u043e\\u0441\\u0442\\u0430\\u0432\\u0430\\u0439\\u0442\\u0435\\u0441\\u044c \\u043f\\u043e\\u0437\\u0438\\u0442\\u0438\\u0432\\u043d\\u044b\\u043c\\u0438. \\u042f \\u0441\\u0447\\u0438\\u0442\\u0430\\u044e, \\u0447\\u0442\\u043e \\u0435\\u0434\\u0430 \\u0441\\u043f\\u043e\\u0441\\u043e\\u0431\\u043d\\u0430 \\u043f\\u0435\\u0440\\u0435\\u0434\\u0430\\u0432\\u0430\\u0442\\u044c \\u043e\\u0440\\u0433\\u0430\\u043d\\u0438\\u0437\\u043c\\u0443 \\u043f\\u043e\\u0437\\u0438\\u0442\\u0438\\u0432\\u043d\\u0443\\u044e \\u0438\\u043b\\u0438 \\u043d\\u0435\\u0433\\u0430\\u0442\\u0438\\u0432\\u043d\\u0443\\u044e \\u044d\\u043d\\u0435\\u0440\\u0433\\u0438\\u044e. \\u0415\\u0441\\u043b\\u0438 \\u0432\\u044b \\u0435\\u0434\\u0438\\u0442\\u0435, \\u0438\\u0441\\u043f\\u044b\\u0442\\u044b\\u0432\\u0430\\u044f \\u0441\\u0442\\u0440\\u0430\\u0445, \\u0431\\u0435\\u0441\\u043f\\u043e\\u043a\\u043e\\u0439\\u0441\\u0442\\u0432\\u043e \\u0438\\u043b\\u0438 \\u0433\\u043d\\u0435\\u0432, \\u0432\\u043a\\u0443\\u0441 \\u0435\\u0434\\u044b \\u0438 \\u044d\\u043d\\u0435\\u0440\\u0433\\u0438\\u044f, \\u043a\\u043e\\u0442\\u043e\\u0440\\u0443\\u044e \\u0432\\u044b \\u043e\\u0442 \\u043d\\u0435\\u0451 \\u043f\\u043e\\u043b\\u0443\\u0447\\u0430\\u0435\\u0442\\u0435, \\u043d\\u043e\\u0440\\u043c\\u0430\\u043b\\u044c\\u043d\\u044b\\u043c\\u0438 \\u043d\\u0435 \\u0431\\u0443\\u0434\\u0443\\u0442.\\n\\u041f\\u0440\\u0430\\u0432\\u0438\\u043b\\u043e \\u043d\\u043e\\u043c\\u0435\\u0440 \\u0447\\u0435\\u0442\\u044b\\u0440\\u0435: \\u0441\\u0442\\u0430\\u0432\\u044c\\u0442\\u0435 \\u0446\\u0435\\u043b\\u044c\\u044e \\u043a\\u0430\\u0447\\u0435\\u0441\\u0442\\u0432\\u043e, \\u0430 \\u043d\\u0435 \\u043a\\u043e\\u043b\\u0438\\u0447\\u0435\\u0441\\u0442\\u0432\\u043e. \\u0412 \\u043c\\u0438\\u0440\\u0435 \\u0441\\u043f\\u043e\\u0440\\u0442\\u0430 \\u0441\\u043f\\u043e\\u0440\\u0442\\u0441\\u043c\\u0435\\u043d\\u044b \\u0432\\u0441\\u0435\\u0433\\u0434\\u0430 \\u0431\\u043e\\u044f\\u0442\\u0441\\u044f, \\u0447\\u0442\\u043e \\u0438\\u043c \\u043d\\u0435 \\u0445\\u0432\\u0430\\u0442\\u0438\\u0442 \\u0441\\u0438\\u043b, \\u0436\\u0438\\u0434\\u043a\\u043e\\u0441\\u0442\\u0438, \\u043f\\u0438\\u0442\\u0430\\u0442\\u0435\\u043b\\u044c\\u043d\\u044b\\u0445 \\u0432\\u0435\\u0449\\u0435\\u0441\\u0442\\u0432. \\u041a\\u0430\\u043a \\u0431\\u043e\\u043b\\u044c\\u0448\\u0438\\u043d\\u0441\\u0442\\u0432\\u043e \\u0441\\u043f\\u043e\\u0440\\u0442\\u0441\\u043c\\u0435\\u043d\\u043e\\u0432, \\u044f \\u0440\\u0430\\u043d\\u044c\\u0448\\u0435 \\u0431\\u0435\\u0441\\u043f\\u043e\\u043a\\u043e\\u0438\\u043b\\u0441\\u044f, \\u0447\\u0442\\u043e \\u043c\\u0430\\u043b\\u043e \\u0441\\u044a\\u0435\\u043b. \\u0427\\u0442\\u043e, \\u0435\\u0441\\u043b\\u0438 \\u0443 \\u043c\\u0435\\u043d\\u044f \\u043a\\u043e\\u043d\\u0447\\u0430\\u0442\\u0441\\u044f \\u0441\\u0438\\u043b\\u044b, \\u043f\\u043e\\u0441\\u0442\\u043e\\u044f\\u043d\\u043d\\u043e \\u0441\\u043f\\u0440\\u0430\\u0448\\u0438\\u0432\\u0430\\u043b \\u044f \\u0441\\u0435\\u0431\\u044f. \\u0425\\u0432\\u0430\\u0442\\u0438\\u0442 \\u043b\\u0438 \\u0443 \\u043c\\u0435\\u043d\\u044f \\u044d\\u043d\\u0435\\u0440\\u0433\\u0438\\u0438 \\u0432\\u044b\\u0434\\u0435\\u0440\\u0436\\u0430\\u0442\\u044c \\u0446\\u0435\\u043b\\u044b\\u0439 \\u0434\\u0435\\u043d\\u044c \\u0442\\u0440\\u0435\\u043d\\u0438\\u0440\\u043e\\u0432\\u043e\\u043a? \\u042f \\u0432\\u0441\\u0435\\u0433\\u0434\\u0430 \\u0435\\u043b \\u0441 \\u0437\\u0430\\u043f\\u0430\\u0441\\u043e\\u043c, \\u0434\\u0430\\u0436\\u0435 \\u043a\\u043e\\u0433\\u0434\\u0430 \\u0443\\u0436\\u0435 \\u0438 \\u043d\\u0435 \\u0445\\u043e\\u0442\\u0435\\u043b\\u043e\\u0441\\u044c, \\u0430 \\u043d\\u0430 \\u0442\\u0440\\u0435\\u043d\\u0438\\u0440\\u043e\\u0432\\u043a\\u0430\\u0445 \\u0442\\u043e \\u0438 \\u0434\\u0435\\u043b\\u043e \\u043f\\u043e\\u0434\\u0431\\u0440\\u0430\\u0441\\u044b\\u0432\\u0430\\u043b \\u0432 \\u0442\\u043e\\u043f\\u043a\\u0443 \\u00ab\\u044d\\u043d\\u0435\\u0440\\u0433\\u0435\\u0442\\u0438\\u0447\\u0435\\u0441\\u043a\\u0438\\u0435 \\u0431\\u0430\\u0442\\u043e\\u043d\\u0447\\u0438\\u043a\\u0438\\u00bb, \\u0432 \\u043a\\u043e\\u0442\\u043e\\u0440\\u044b\\u0445 \\u043e\\u0434\\u043d\\u0438 \\u043a\\u043e\\u043d\\u0441\\u0435\\u0440\\u0432\\u0430\\u043d\\u0442\\u044b \\u0438 \\u0441\\u0430\\u0445\\u0430\\u0440. \\u041f\\u043e\\u043b\\u0443\\u0447\\u0430\\u0435\\u0442\\u0441\\u044f, \\u044f \\u043e\\u0442\\u043f\\u0440\\u0430\\u0432\\u043b\\u044f\\u043b \\u0432 \\u0436\\u0435\\u043b\\u0443\\u0434\\u043e\\u043a \\u0441\\u043b\\u0438\\u0448\\u043a\\u043e\\u043c \\u043c\\u043d\\u043e\\u0433\\u043e \\u0435\\u0434\\u044b, \\u0441\\u043b\\u0438\\u0448\\u043a\\u043e\\u043c \\u043c\\u043d\\u043e\\u0433\\u043e \\u0438\\u043d\\u0444\\u043e\\u0440\\u043c\\u0430\\u0446\\u0438\\u0438 \\u0434\\u043b\\u044f \\u043e\\u0431\\u0440\\u0430\\u0431\\u043e\\u0442\\u043a\\u0438\\u00bb.\\n\\u041f\\u0440\\u0435\\u0434\\u0441\\u0442\\u0430\\u0432\\u043b\\u044f\\u044f \\u0447\\u0438\\u0442\\u0430\\u0442\\u0435\\u043b\\u044f\\u043c \\u0441\\u043e\\u0431\\u0441\\u0442\\u0432\\u0435\\u043d\\u043d\\u044b\\u0439 \\u0440\\u0430\\u0446\\u0438\\u043e\\u043d, \\u041d\\u043e\\u0432\\u0430\\u043a \\u043e\\u0442\\u043c\\u0435\\u0447\\u0430\\u043b, \\u0447\\u0442\\u043e \\u044d\\u0442\\u043e \\u043d\\u0435 \\u0441\\u0442\\u0430\\u043d\\u0434\\u0430\\u0440\\u0442\\u043d\\u044b\\u0439 \\u043f\\u0438\\u0449\\u0435\\u0432\\u043e\\u0439 \\u043f\\u043b\\u0430\\u043d \\u0438 \\u043a\\u0430\\u0436\\u0434\\u044b\\u0439 \\u0447\\u0435\\u043b\\u043e\\u0432\\u0435\\u043a \\u0434\\u043e\\u043b\\u0436\\u0435\\u043d \\u043f\\u043e\\u0434\\u0441\\u0442\\u0440\\u0430\\u0438\\u0432\\u0430\\u0442\\u044c\\u0441\\u044f \\u043f\\u043e\\u0434 \\u043e\\u0441\\u043e\\u0431\\u0435\\u043d\\u043d\\u043e\\u0441\\u0442\\u0438 \\u0441\\u0432\\u043e\\u0435\\u0433\\u043e \\u043e\\u0440\\u0433\\u0430\\u043d\\u0438\\u0437\\u043c\\u0430. \\u0422\\u0435\\u043c \\u043d\\u0435 \\u043c\\u0435\\u043d\\u0435\\u0435 \\u0435\\u0441\\u043b\\u0438 \\u0432\\u044b \\u0445\\u043e\\u0442\\u0438\\u0442\\u0435 \\u043f\\u0438\\u0442\\u0430\\u0442\\u044c\\u0441\\u044f \\u043a\\u0430\\u043a \\u0447\\u0435\\u043c\\u043f\\u0438\\u043e\\u043d, \\u0442\\u043e \\u043c\\u043e\\u0436\\u0435\\u0442\\u0435 \\u043f\\u043e\\u0447\\u0435\\u0440\\u043f\\u043d\\u0443\\u0442\\u044c \\u0434\\u043b\\u044f \\u0441\\u0435\\u0431\\u044f \\u043d\\u0435\\u0441\\u043a\\u043e\\u043b\\u044c\\u043a\\u043e \\u0438\\u0434\\u0435\\u0439 \\u0438\\u0437 \\u0434\\u0438\\u0435\\u0442\\u044b \\u0414\\u0436\\u043e\\u043a\\u043e\\u0432\\u0438\\u0447\\u0430, \\u0441\\u0435\\u043a\\u0440\\u0435\\u0442\\u0430\\u043c\\u0438 \\u043a\\u043e\\u0442\\u043e\\u0440\\u043e\\u0439 \\u043f\\u043e\\u0434\\u0435\\u043b\\u0438\\u043b\\u0441\\u044f \\u0441\\u0430\\u043c \\u0442\\u0435\\u043d\\u043d\\u0438\\u0441\\u0438\\u0441\\u0442.\",\n          \"\\u0412 \\u043f\\u0440\\u043e\\u0448\\u043b\\u043e\\u043c \\u0441\\u0435\\u0437\\u043e\\u043d\\u0435 \\u00ab\\u041c\\u0430\\u043a\\u043b\\u0430\\u0440\\u0435\\u043d\\u00bb \\u0438 Seamless Digital \\u0437\\u0430\\u043a\\u043b\\u044e\\u0447\\u0438\\u043b\\u0438 \\u043c\\u043d\\u043e\\u0433\\u043e\\u043b\\u0435\\u0442\\u043d\\u0438\\u0439 \\u043a\\u043e\\u043d\\u0442\\u0440\\u0430\\u043a\\u0442 \\u043e \\u0441\\u043e\\u0442\\u0440\\u0443\\u0434\\u043d\\u0438\\u0447\\u0435\\u0441\\u0442\\u0432\\u0435. \\u0412 \\u0440\\u0430\\u043c\\u043a\\u0430\\u0445 \\u0441\\u0434\\u0435\\u043b\\u043a\\u0438 \\u043d\\u0430 \\u043f\\u044f\\u0442\\u043d\\u0438\\u0447\\u043d\\u044b\\u0445 \\u0442\\u0440\\u0435\\u043d\\u0438\\u0440\\u043e\\u0432\\u043a\\u0430\\u0445 \\u0432 \\u041e\\u0441\\u0442\\u0438\\u043d\\u0435 \\u0438 \\u043d\\u0430 \\u043e\\u0441\\u0442\\u0430\\u0432\\u0448\\u0438\\u0445\\u0441\\u044f \\u0413\\u0440\\u0430\\u043d-\\u043f\\u0440\\u0438 \\u043d\\u0430 \\u0431\\u043e\\u043b\\u0438\\u0434\\u0430\\u0445 \\u0431\\u044b\\u043b\\u0438 \\u0443\\u0441\\u0442\\u0430\\u043d\\u043e\\u0432\\u043b\\u0435\\u043d\\u044b \\u043d\\u0435\\u0431\\u043e\\u043b\\u044c\\u0448\\u0438\\u0435 \\u0434\\u0438\\u0441\\u043f\\u043b\\u0435\\u0438, \\u043d\\u0430 \\u043a\\u043e\\u0442\\u043e\\u0440\\u044b\\u0445 \\u0442\\u0440\\u0430\\u043d\\u0441\\u043b\\u0438\\u0440\\u043e\\u0432\\u0430\\u043b\\u0430\\u0441\\u044c \\u0440\\u0435\\u043a\\u043b\\u0430\\u043c\\u0430. \\u041a\\u0430\\u043a \\u044d\\u0442\\u0430 \\u0438\\u0434\\u0435\\u044f \\u043c\\u043e\\u0436\\u0435\\u0442 \\u043f\\u043e\\u0432\\u043b\\u0438\\u044f\\u0442\\u044c \\u043d\\u0430 \\u0424\\u043e\\u0440\\u043c\\u0443\\u043b\\u0443-1?\\n\\u0411\\u043e\\u043b\\u044c\\u0448\\u043e\\u0439 \\u043f\\u043b\\u044e\\u0441 \\u043d\\u043e\\u0432\\u043e\\u0433\\u043e \\u0432\\u0438\\u0434\\u0430 \\u0440\\u0435\\u043a\\u043b\\u0430\\u043c\\u044b \\u0432 \\u0442\\u043e\\u043c, \\u0447\\u0442\\u043e \\u0443\\u043f\\u0440\\u0430\\u0432\\u043b\\u044f\\u0442\\u044c \\u0435\\u044e \\u0441\\u0442\\u0430\\u043b\\u043e \\u0432\\u043e\\u0437\\u043c\\u043e\\u0436\\u043d\\u043e \\u0432 \\u0440\\u0435\\u0436\\u0438\\u043c\\u0435 \\u0440\\u0435\\u0430\\u043b\\u044c\\u043d\\u043e\\u0433\\u043e \\u0432\\u0440\\u0435\\u043c\\u0435\\u043d\\u0438, \\u043f\\u0440\\u0438 \\u044d\\u0442\\u043e\\u043c \\u043d\\u0430 \\u043e\\u0434\\u043d\\u043e\\u043c \\u0438 \\u0442\\u043e\\u043c \\u0436\\u0435 \\u043c\\u0435\\u0441\\u0442\\u0435 \\u043c\\u043e\\u0436\\u043d\\u043e \\u043f\\u043e\\u043a\\u0430\\u0437\\u044b\\u0432\\u0430\\u0442\\u044c \\u043b\\u043e\\u0433\\u043e\\u0442\\u0438\\u043f\\u044b \\u0440\\u0430\\u0437\\u043d\\u044b\\u0445 \\u0431\\u0440\\u0435\\u043d\\u0434\\u043e\\u0432. \\u0414\\u043b\\u044f \\u0441\\u043f\\u043e\\u043d\\u0441\\u043e\\u0440\\u043e\\u0432 \\u044d\\u0442\\u043e \\u043e\\u0447\\u0435\\u043d\\u044c \\u0443\\u0434\\u043e\\u0431\\u043d\\u043e, \\u043d\\u043e \\u043a\\u043e\\u043c\\u0430\\u043d\\u0434\\u044b \\u044f\\u0432\\u043d\\u043e \\u043d\\u0435 \\u0437\\u0430\\u0445\\u043e\\u0442\\u044f\\u0442 \\u043f\\u0440\\u0435\\u0432\\u0440\\u0430\\u0442\\u0438\\u0442\\u044c \\u0441\\u0432\\u043e\\u0438 \\u0431\\u043e\\u043b\\u0438\\u0434\\u044b \\u0432 \\u043e\\u0433\\u0440\\u043e\\u043c\\u043d\\u044b\\u0435 \\u0440\\u0435\\u043a\\u043b\\u0430\\u043c\\u043d\\u044b\\u0435 \\u0449\\u0438\\u0442\\u044b \\u043d\\u0430 \\u043a\\u043e\\u043b\\u0451\\u0441\\u0430\\u0445.\\n\\u0420\\u0435\\u043a\\u043b\\u0430\\u043c\\u043d\\u044b\\u0435 \\u0434\\u0438\\u0441\\u043f\\u043b\\u0435\\u0438 \\u043f\\u043e \\u043a\\u0440\\u0430\\u044f\\u043c \\u043a\\u043e\\u043a\\u043f\\u0438\\u0442\\u0430 \\u00ab\\u041c\\u0430\\u043a\\u043b\\u0430\\u0440\\u0435\\u043d\\u0430\\u00bb\\n\\u0421\\u0435\\u0439\\u0447\\u0430\\u0441 \\u0434\\u0438\\u0441\\u043f\\u043b\\u0435\\u0438 \\u0443\\u0441\\u0442\\u0430\\u043d\\u043e\\u0432\\u043b\\u0435\\u043d\\u044b \\u0432 \\u043c\\u0435\\u0441\\u0442\\u0430\\u0445, \\u043a\\u043e\\u0442\\u043e\\u0440\\u044b\\u0435 \\u043d\\u0435\\u0447\\u0430\\u0441\\u0442\\u043e \\u043f\\u043e\\u043f\\u0430\\u0434\\u0430\\u044e\\u0442 \\u0432 \\u0442\\u0440\\u0430\\u043d\\u0441\\u043b\\u044f\\u0446\\u0438\\u044e (\\u044d\\u0442\\u043e \\u043f\\u0440\\u043e\\u0442\\u0438\\u0432\\u043e\\u043f\\u043e\\u043b\\u043e\\u0436\\u043d\\u044b\\u0435 \\u0441\\u0442\\u043e\\u0440\\u043e\\u043d\\u044b \\u043a\\u043e\\u043a\\u043f\\u0438\\u0442\\u0430) \\u0438 \\u043a\\u043e\\u0442\\u043e\\u0440\\u044b\\u0435 \\u043d\\u0435\\u0432\\u043e\\u0437\\u043c\\u043e\\u0436\\u043d\\u043e \\u0443\\u0432\\u0438\\u0434\\u0435\\u0442\\u044c \\u0437\\u0440\\u0438\\u0442\\u0435\\u043b\\u044e \\u043d\\u0430 \\u0442\\u0440\\u0438\\u0431\\u0443\\u043d\\u0435. \\u0422\\u0430\\u043a\\u0430\\u044f \\u0440\\u0435\\u043a\\u043b\\u0430\\u043c\\u0430 \\u043d\\u0435\\u044d\\u0444\\u0444\\u0435\\u043a\\u0442\\u0438\\u0432\\u043d\\u0430, \\u0438 \\u043f\\u043e\\u043d\\u044f\\u0442\\u043d\\u043e, \\u0447\\u0442\\u043e \\u043f\\u043b\\u0430\\u0442\\u0438\\u0442\\u044c \\u0437\\u0430 \\u043d\\u0435\\u0451 \\u0440\\u0435\\u043a\\u043b\\u0430\\u043c\\u043e\\u0434\\u0430\\u0442\\u0435\\u043b\\u0438 \\u043d\\u0435 \\u0441\\u0442\\u0430\\u043d\\u0443\\u0442. \\u0422\\u0430\\u043a \\u0447\\u0442\\u043e \\u0435\\u0441\\u043b\\u0438 \\u0442\\u0435\\u0445\\u043d\\u043e\\u043b\\u043e\\u0433\\u0438\\u0438 \\u0434\\u0430\\u0434\\u0443\\u0442 \\u0445\\u043e\\u0434, \\u0442\\u043e \\u043e\\u043d\\u0430 \\u044f\\u0432\\u043d\\u043e \\u043f\\u0440\\u0435\\u0442\\u0435\\u0440\\u043f\\u0438\\u0442 \\u0438\\u0437\\u043c\\u0435\\u043d\\u0435\\u043d\\u0438\\u044f: \\u0434\\u0438\\u0441\\u043f\\u043b\\u0435\\u0438 \\u0441\\u0434\\u0435\\u043b\\u0430\\u044e\\u0442 \\u0431\\u043e\\u043b\\u044c\\u0448\\u0435 \\u0438 \\u043f\\u0435\\u0440\\u0435\\u043d\\u0435\\u0441\\u0443\\u0442 \\u0432 \\u0434\\u0440\\u0443\\u0433\\u0438\\u0435 \\u043c\\u0435\\u0441\\u0442\\u0430.\\n\\u041a\\u043e\\u043c\\u0430\\u043d\\u0434\\u044b \\u043c\\u043e\\u0433\\u0443\\u0442 \\u043f\\u043e\\u0434\\u0434\\u0435\\u0440\\u0436\\u0430\\u0442\\u044c \\u044d\\u0442\\u0443 \\u0438\\u0434\\u0435\\u044e. \\u041d\\u0430\\u043f\\u0440\\u0438\\u043c\\u0435\\u0440, \\u043f\\u043e\\u0442\\u043e\\u043c\\u0443, \\u0447\\u0442\\u043e \\u0434\\u0438\\u0441\\u043f\\u043b\\u0435\\u0438, \\u0432 \\u043e\\u0442\\u043b\\u0438\\u0447\\u0438\\u0435 \\u043e\\u0442 \\u0441\\u0442\\u0438\\u043a\\u0435\\u0440\\u043e\\u0432, \\u0443\\u0442\\u043e\\u043f\\u043b\\u0435\\u043d\\u044b \\u0432 \\u0431\\u043e\\u043b\\u0438\\u0434 \\u0438 \\u043d\\u0435 \\u043d\\u0430\\u0440\\u0443\\u0448\\u0430\\u044e\\u0442 \\u0435\\u0433\\u043e \\u0430\\u044d\\u0440\\u043e\\u0434\\u0438\\u043d\\u0430\\u043c\\u0438\\u043a\\u0443. \\u0418\\u043d\\u0436\\u0435\\u043d\\u0435\\u0440 \\u00ab\\u041c\\u0430\\u043a\\u043b\\u0430\\u0440\\u0435\\u043d\\u0430\\u00bb \\u0414\\u0436\\u0435\\u0439\\u043c\\u0441 \\u041a\\u0438 \\u043d\\u0435\\u0434\\u0430\\u0432\\u043d\\u043e \\u043f\\u043e\\u0434\\u0442\\u0432\\u0435\\u0440\\u0434\\u0438\\u043b, \\u0447\\u0442\\u043e \\u0441\\u0442\\u0438\\u043a\\u0435\\u0440\\u044b \\u043c\\u043e\\u0433\\u0443\\u0442 \\u043e\\u043a\\u0430\\u0437\\u044b\\u0432\\u0430\\u0442\\u044c \\u043d\\u0435\\u0433\\u0430\\u0442\\u0438\\u0432\\u043d\\u043e\\u0435 \\u0432\\u043b\\u0438\\u044f\\u043d\\u0438\\u0435 \\u043d\\u0430 \\u0432\\u043e\\u0437\\u0434\\u0443\\u0448\\u043d\\u044b\\u0439 \\u043f\\u043e\\u0442\\u043e\\u043a, \\u0438\\u0437-\\u0437\\u0430 \\u0447\\u0435\\u0433\\u043e \\u0431\\u043e\\u043b\\u0438\\u0434 \\u0442\\u0435\\u0440\\u044f\\u0435\\u0442 \\u0447\\u0430\\u0441\\u0442\\u044c \\u043f\\u0440\\u0438\\u0436\\u0438\\u043c\\u043d\\u043e\\u0439 \\u0441\\u0438\\u043b\\u044b. \\u0418\\u0441\\u043f\\u043e\\u043b\\u044c\\u0437\\u043e\\u0432\\u0430\\u043d\\u0438\\u0435 \\u0434\\u0438\\u0441\\u043f\\u043b\\u0435\\u0435\\u0432 \\u043c\\u043e\\u0436\\u0435\\u0442 \\u0440\\u0435\\u0448\\u0438\\u0442\\u044c \\u044d\\u0442\\u0443 \\u043f\\u0440\\u043e\\u0431\\u043b\\u0435\\u043c\\u0443. \\u041d\\u043e \\u0432\\u043e\\u043f\\u0440\\u043e\\u0441 \\u0432 \\u0434\\u0440\\u0443\\u0433\\u043e\\u043c \\u2013 \\u0441\\u043c\\u043e\\u0433\\u0443\\u0442 \\u043b\\u0438 \\u043a\\u043e\\u043c\\u0430\\u043d\\u0434\\u044b \\u043d\\u0430\\u0439\\u0442\\u0438 \\u0434\\u043b\\u044f \\u043d\\u0438\\u0445 \\u043c\\u0435\\u0441\\u0442\\u043e, \\u0432\\u0435\\u0434\\u044c \\u0441\\u0430\\u043c\\u0430 \\u0441\\u0438\\u0441\\u0442\\u0435\\u043c\\u0430 \\u043d\\u0435\\u043f\\u0440\\u043e\\u0441\\u0442\\u0430\\u044f \\u0438 \\u0442\\u044f\\u0436\\u0451\\u043b\\u0430\\u044f\\u2026\\n\\u0418\\u043d\\u0436\\u0435\\u043d\\u0435\\u0440\\u044b \\u0424\\u043e\\u0440\\u043c\\u0443\\u043b\\u044b-1 \\u0431\\u043e\\u0440\\u044e\\u0442\\u0441\\u044f \\u0437\\u0430 \\u043a\\u0430\\u0436\\u0434\\u044b\\u0439 \\u0433\\u0440\\u0430\\u043c\\u043c (\\u043d\\u0430\\u043f\\u0440\\u0438\\u043c\\u0435\\u0440, \\u043f\\u0440\\u0438\\u043c\\u0435\\u043d\\u044f\\u044e\\u0442 \\u0431\\u043e\\u043b\\u0435\\u0435 \\u043b\\u0451\\u0433\\u043a\\u0443\\u044e \\u043a\\u0440\\u0430\\u0441\\u043a\\u0443), \\u0438 \\u0432 \\u0442\\u0430\\u043a\\u043e\\u0439 \\u0441\\u0438\\u0442\\u0443\\u0430\\u0446\\u0438\\u0438 \\u0437\\u0430\\u043c\\u0435\\u043d\\u0430 \\u043d\\u0435\\u0432\\u0435\\u0441\\u043e\\u043c\\u043e\\u0439 \\u043d\\u0430\\u043a\\u043b\\u0435\\u0439\\u043a\\u0438 \\u043d\\u0430 \\u0434\\u0438\\u0441\\u043f\\u043b\\u0435\\u0439 \\u2013 \\u044d\\u0442\\u043e \\u0434\\u0435\\u0439\\u0441\\u0442\\u0432\\u0438\\u0442\\u0435\\u043b\\u044c\\u043d\\u043e \\u0441\\u0435\\u0440\\u044c\\u0451\\u0437\\u043d\\u043e. \\u0418 \\u0434\\u043b\\u044f \\u043d\\u0438\\u0445 \\u043d\\u0443\\u0436\\u043d\\u043e \\u043f\\u043e\\u0441\\u0442\\u0430\\u0440\\u0430\\u0442\\u044c\\u0441\\u044f \\u043d\\u0430\\u0439\\u0442\\u0438 \\u043c\\u0435\\u0441\\u0442\\u043e \\u2013 \\u043c\\u044b \\u0434\\u0430\\u0436\\u0435 \\u043d\\u0435 \\u043f\\u0440\\u043e \\u043f\\u043e\\u043f\\u0430\\u0434\\u0430\\u043d\\u0438\\u0435 \\u0432 \\u043e\\u0431\\u044a\\u0435\\u043a\\u0442\\u0438\\u0432 \\u0441\\u0442\\u0430\\u0446\\u0438\\u043e\\u043d\\u0430\\u0440\\u043d\\u044b\\u0445 \\u0438\\u043b\\u0438 \\u0431\\u043e\\u0440\\u0442\\u043e\\u0432\\u044b\\u0445 \\u043a\\u0430\\u043c\\u0435\\u0440. \\u0415\\u0441\\u043b\\u0438 \\u043d\\u0430\\u043a\\u043b\\u0435\\u0439\\u043a\\u0438 \\u043c\\u043e\\u0436\\u043d\\u043e \\u00ab\\u043b\\u0435\\u043f\\u0438\\u0442\\u044c\\u00bb \\u043d\\u0430 \\u043b\\u044e\\u0431\\u0443\\u044e \\u0447\\u0430\\u0441\\u0442\\u044c \\u0431\\u043e\\u043b\\u0438\\u0434\\u0430 \\u2013 \\u043d\\u0435\\u0432\\u0430\\u0436\\u043d\\u043e, \\u0441\\u0433\\u0438\\u0431 \\u044d\\u0442\\u043e \\u0438\\u043b\\u0438 \\u043f\\u0440\\u044f\\u043c\\u043e\\u0439 \\u0443\\u0447\\u0430\\u0441\\u0442\\u043e\\u043a, \\u2013 \\u0442\\u043e \\u0434\\u0438\\u0441\\u043f\\u043b\\u0435\\u0438 \\u0432\\u0441\\u0451 \\u0436\\u0435 \\u0441\\u0442\\u043e\\u0438\\u0442 \\u0443\\u0441\\u0442\\u0430\\u043d\\u0430\\u0432\\u043b\\u0438\\u0432\\u0430\\u0442\\u044c \\u0432 \\u043f\\u043b\\u043e\\u0441\\u043a\\u0438\\u0445 \\u043c\\u0435\\u0441\\u0442\\u0430\\u0445. \\u0412 \\u0437\\u0434\\u0440\\u0430\\u0432\\u043e\\u043c \\u0443\\u043c\\u0435 \\u0438\\u043d\\u0436\\u0435\\u043d\\u0435\\u0440\\u044b \\u043d\\u0435 \\u0431\\u0443\\u0434\\u0443\\u0442 \\u043c\\u0435\\u043d\\u044f\\u0442\\u044c \\u043a\\u043e\\u043d\\u0441\\u0442\\u0440\\u0443\\u043a\\u0446\\u0438\\u044e \\u0431\\u043e\\u043b\\u0438\\u0434\\u0430 \\u0442\\u043e\\u043b\\u044c\\u043a\\u043e \\u0440\\u0430\\u0434\\u0438 \\u0440\\u0435\\u043a\\u043b\\u0430\\u043c\\u044b.\\n\\u041d\\u0430\\u043a\\u043e\\u043d\\u0435\\u0446, \\u0441\\u0432\\u043e\\u0451 \\u0441\\u043b\\u043e\\u0432\\u043e \\u0441\\u043a\\u0430\\u0436\\u0435\\u0442 \\u0438 \\u0424\\u0418\\u0410. \\u041d\\u0438\\u043a\\u0430\\u043a\\u0438\\u0435 \\u0434\\u0438\\u0441\\u043f\\u043b\\u0435\\u0438 \\u043d\\u0430 \\u0431\\u043e\\u043b\\u0438\\u0434\\u0430\\u0445 \\u043f\\u0440\\u043e\\u0441\\u0442\\u043e \\u0442\\u0430\\u043a \\u0443\\u0441\\u0442\\u0430\\u043d\\u043e\\u0432\\u043b\\u0435\\u043d\\u044b \\u043d\\u0435 \\u0431\\u0443\\u0434\\u0443\\u0442: \\u0434\\u043b\\u044f \\u043d\\u0430\\u0447\\u0430\\u043b\\u0430 \\u043d\\u0443\\u0436\\u043d\\u043e, \\u0447\\u0442\\u043e\\u0431\\u044b \\u0442\\u0435\\u0445\\u043d\\u043e\\u043b\\u043e\\u0433\\u0438\\u044e \\u043e\\u0434\\u043e\\u0431\\u0440\\u0438\\u043b\\u0438 \\u0441 \\u0442\\u043e\\u0447\\u043a\\u0438 \\u0437\\u0440\\u0435\\u043d\\u0438\\u044f \\u0431\\u0435\\u0437\\u043e\\u043f\\u0430\\u0441\\u043d\\u043e\\u0441\\u0442\\u0438. \\u041d\\u0443\\u0436\\u043d\\u043e \\u043f\\u0440\\u043e\\u0432\\u0435\\u0440\\u0438\\u0442\\u044c, \\u043a\\u0430\\u043a \\u0434\\u0438\\u0441\\u043f\\u043b\\u0435\\u0438 \\u0431\\u0443\\u0434\\u0443\\u0442 \\u0432\\u0435\\u0441\\u0442\\u0438 \\u0441\\u0435\\u0431\\u044f \\u0432\\u043e \\u0432\\u0440\\u0435\\u043c\\u044f \\u0430\\u0432\\u0430\\u0440\\u0438\\u0439, \\u0438 \\u0443\\u0434\\u043e\\u0441\\u0442\\u043e\\u0432\\u0435\\u0440\\u0438\\u0442\\u044c\\u0441\\u044f, \\u0447\\u0442\\u043e \\u043c\\u0435\\u043d\\u044f\\u044e\\u0449\\u0430\\u044f\\u0441\\u044f \\u0440\\u0435\\u043a\\u043b\\u0430\\u043c\\u0430 \\u043d\\u0435 \\u043d\\u0430\\u0447\\u043d\\u0451\\u0442 \\u043e\\u0442\\u0432\\u043b\\u0435\\u043a\\u0430\\u0442\\u044c \\u043f\\u0438\\u043b\\u043e\\u0442\\u043e\\u0432, \\u043e\\u0441\\u043e\\u0431\\u0435\\u043d\\u043d\\u043e \\u043d\\u0430 \\u043d\\u043e\\u0447\\u043d\\u044b\\u0445 \\u0442\\u0440\\u0430\\u0441\\u0441\\u0430\\u0445.\\n\\u0415\\u0449\\u0451 \\u043e\\u0434\\u043d\\u0430 \\u043f\\u0440\\u043e\\u0431\\u043b\\u0435\\u043c\\u0430 \\u0441\\u0432\\u044f\\u0437\\u0430\\u043d\\u0430 \\u0441 \\u0441\\u0430\\u043c\\u043e\\u0439 \\u0440\\u0435\\u043a\\u043b\\u0430\\u043c\\u043e\\u0439. \\u0415\\u0441\\u043b\\u0438 \\u0434\\u0438\\u0441\\u043f\\u043b\\u0435\\u0438 \\u0441\\u0442\\u0430\\u043d\\u0443\\u0442 \\u043e\\u0441\\u043d\\u043e\\u0432\\u043d\\u044b\\u043c \\u0441\\u043f\\u043e\\u0441\\u043e\\u0431\\u043e\\u043c \\u0435\\u0451 \\u0440\\u0430\\u0437\\u043c\\u0435\\u0449\\u0435\\u043d\\u0438\\u044f, \\u0432\\u044b\\u0442\\u0435\\u0441\\u043d\\u0438\\u0432 \\u00ab\\u0443\\u0441\\u0442\\u0430\\u0440\\u0435\\u0432\\u0448\\u0438\\u0435\\u00bb \\u0441\\u0442\\u0438\\u043a\\u0435\\u0440\\u044b, \\u0442\\u043e \\u0441\\u043f\\u043e\\u043d\\u0441\\u043e\\u0440\\u044b \\u0431\\u0443\\u0434\\u0443\\u0442 \\u043f\\u043b\\u0430\\u0442\\u0438\\u0442\\u044c \\u0443\\u0436\\u0435 \\u043d\\u0435 \\u0437\\u0430 \\u0440\\u0430\\u0437\\u043c\\u0435\\u0440 \\u043d\\u0430\\u043a\\u043b\\u0435\\u0439\\u043a\\u0438, \\u0430 \\u0437\\u0430 \\u0432\\u0440\\u0435\\u043c\\u044f, \\u043a\\u043e\\u0442\\u043e\\u0440\\u043e\\u0435 \\u0438\\u0445 \\u043b\\u043e\\u0433\\u043e\\u0442\\u0438\\u043f \\u0431\\u0443\\u0434\\u0435\\u0442 \\u0442\\u0440\\u0430\\u043d\\u0441\\u043b\\u0438\\u0440\\u043e\\u0432\\u0430\\u0442\\u044c\\u0441\\u044f \\u043d\\u0430 \\u0434\\u0438\\u0441\\u043f\\u043b\\u0435\\u044f\\u0445.\\n\\u041a\\u0430\\u043a \\u0432\\u044b\\u0433\\u043b\\u044f\\u0434\\u0438\\u0442 \\u0434\\u0438\\u0441\\u043f\\u043b\\u0435\\u0439, \\u0432\\u043d\\u0435\\u0434\\u0440\\u0451\\u043d\\u043d\\u044b\\u0439 \\u0432 \\u043a\\u043e\\u043d\\u0441\\u0442\\u0440\\u0443\\u043a\\u0446\\u0438\\u044e \\u043c\\u0430\\u0448\\u0438\\u043d\\u044b\\n\\u041d\\u0435 \\u043a\\u0430\\u0436\\u0434\\u0430\\u044f \\u043a\\u0430\\u0440\\u0442\\u0438\\u043d\\u043a\\u0430 \\u0431\\u0443\\u0434\\u0435\\u0442 \\u043f\\u043e\\u043f\\u0430\\u0434\\u0430\\u0442\\u044c \\u0432 \\u0442\\u0440\\u0430\\u043d\\u0441\\u043b\\u044f\\u0446\\u0438\\u044e. \\u0422\\u043e\\u0433\\u0434\\u0430 \\u043a\\u043e\\u043b\\u0438\\u0447\\u0435\\u0441\\u0442\\u0432\\u043e \\u043f\\u043e\\u0442\\u0435\\u043d\\u0446\\u0438\\u0430\\u043b\\u044c\\u043d\\u044b\\u0445 \\u0440\\u0435\\u043a\\u043b\\u0430\\u043c\\u043e\\u0434\\u0430\\u0442\\u0435\\u043b\\u0435\\u0439 \\u043f\\u043e\\u0439\\u0434\\u0451\\u0442 \\u043d\\u0430 \\u0441\\u043f\\u0430\\u0434: \\u043a\\u0440\\u0443\\u043f\\u043d\\u044b\\u0435 \\u0438\\u0433\\u0440\\u043e\\u043a\\u0438 \\u043d\\u0430\\u0447\\u043d\\u0443\\u0442 \\u0432\\u044b\\u043a\\u0443\\u043f\\u0430\\u0442\\u044c \\u0431\\u043e\\u043b\\u044c\\u0448\\u0435\\u0435 \\u0432\\u0440\\u0435\\u043c\\u044f \\u0440\\u0430\\u0437\\u043c\\u0435\\u0449\\u0435\\u043d\\u0438\\u044f, \\u0432\\u044b\\u0442\\u0435\\u0441\\u043d\\u044f\\u044f \\u0441 \\u0440\\u044b\\u043d\\u043a\\u0430 \\u0431\\u043e\\u043b\\u0435\\u0435 \\u0441\\u043b\\u0430\\u0431\\u044b\\u0445 \\u043a\\u043e\\u043d\\u043a\\u0443\\u0440\\u0435\\u043d\\u0442\\u043e\\u0432. \\u0412 \\u0434\\u0430\\u043b\\u044c\\u043d\\u0435\\u0439\\u0448\\u0435\\u043c \\u044d\\u0442\\u043e \\u0441\\u043a\\u0430\\u0436\\u0435\\u0442\\u0441\\u044f \\u0438 \\u043d\\u0430 \\u0431\\u044e\\u0434\\u0436\\u0435\\u0442\\u0430\\u0445 \\u043a\\u043e\\u043c\\u0430\\u043d\\u0434.\\n\\u0420\\u0430\\u0437\\u0434\\u0435\\u043b\\u044f\\u0442\\u0441\\u044f \\u0438 \\u043c\\u043d\\u0435\\u043d\\u0438\\u044f \\u0430\\u0443\\u0434\\u0438\\u0442\\u043e\\u0440\\u0438\\u0438 \\u043d\\u0430\\u0441\\u0447\\u0435\\u0442 \\u0442\\u0430\\u043a\\u043e\\u0439 \\u0438\\u0434\\u0435\\u0438. \\u041a\\u043e\\u043c\\u0443-\\u0442\\u043e \\u0432\\u0441\\u0451 \\u0435\\u0449\\u0451 \\u0431\\u0443\\u0434\\u0435\\u0442 \\u0440\\u044f\\u0431\\u0438\\u0442\\u044c \\u043e\\u0442 \\u043a\\u043e\\u043b\\u0438\\u0447\\u0435\\u0441\\u0442\\u0432\\u0430 \\u0440\\u0435\\u043a\\u043b\\u0430\\u043c\\u044b, \\u0430 \\u043a\\u0442\\u043e-\\u0442\\u043e \\u0441\\u043a\\u0430\\u0436\\u0435\\u0442: \\u00ab\\u0420\\u0430\\u043d\\u044c\\u0448\\u0435 \\u0431\\u044b\\u043b\\u043e \\u043b\\u0443\\u0447\\u0448\\u0435\\u00bb. \\u0421\\u043f\\u043e\\u0440\\u043e\\u0432 \\u043d\\u0430 \\u044d\\u0442\\u0443 \\u0442\\u0435\\u043c\\u0443 \\u0431\\u0443\\u0434\\u0435\\u0442 \\u043c\\u043d\\u043e\\u0433\\u043e.\\n\\u0423 \\u0438\\u0434\\u0435\\u0438 \\u0435\\u0441\\u0442\\u044c \\u0438 \\u0434\\u0440\\u0443\\u0433\\u043e\\u0439 \\u043f\\u0443\\u0442\\u044c \\u0440\\u0430\\u0437\\u0432\\u0438\\u0442\\u0438\\u044f. \\u041d\\u0430 \\u0435\\u0451 \\u043e\\u0441\\u043d\\u043e\\u0432\\u0435 \\u0424\\u043e\\u0440\\u043c\\u0443\\u043b\\u0430-1 \\u043c\\u043e\\u0436\\u0435\\u0442 \\u0441\\u043e\\u0437\\u0434\\u0430\\u0442\\u044c \\u0441\\u043e\\u0431\\u0441\\u0442\\u0432\\u0435\\u043d\\u043d\\u0443\\u044e \\u044d\\u043a\\u043e\\u0441\\u0438\\u0441\\u0442\\u0435\\u043c\\u0443, \\u0432 \\u043a\\u043e\\u0442\\u043e\\u0440\\u043e\\u0439 \\u0442\\u0430\\u043a\\u0430\\u044f \\u0431\\u043e\\u043b\\u044c\\u0448\\u0430\\u044f \\u0441\\u0435\\u0439\\u0447\\u0430\\u0441 \\u0440\\u043e\\u043b\\u044c \\u0441\\u043f\\u043e\\u043d\\u0441\\u043e\\u0440\\u043e\\u0432 \\u0431\\u0443\\u0434\\u0435\\u0442 \\u043e\\u0442\\u0434\\u0430\\u043d\\u0430 \\u0430\\u0443\\u0434\\u0438\\u0442\\u043e\\u0440\\u0438\\u0438.\\n\\u041d\\u0430\\u043f\\u0440\\u0438\\u043c\\u0435\\u0440, \\u0440\\u0435\\u043a\\u043b\\u0430\\u043c\\u0443 \\u043a\\u043e\\u043c\\u043f\\u0430\\u043d\\u0438\\u0439 \\u043c\\u043e\\u0433\\u0443\\u0442 \\u0437\\u0430\\u043c\\u0435\\u043d\\u0438\\u0442\\u044c \\u043d\\u0430 \\u0441\\u0442\\u0430\\u0440\\u044b\\u0439 \\u0434\\u043e\\u0431\\u0440\\u044b\\u0439 \\u00ab\\u041f\\u0435\\u0440\\u0435\\u0434\\u0430\\u044e \\u043f\\u0440\\u0438\\u0432\\u0435\\u0442 \\u043c\\u0430\\u043c\\u0435\\u00bb. \\u0411\\u043e\\u043b\\u0435\\u043b\\u044c\\u0449\\u0438\\u043a\\u0438 \\u0441\\u043c\\u043e\\u0433\\u0443\\u0442 \\u043e\\u0442\\u043f\\u0440\\u0430\\u0432\\u043b\\u044f\\u0442\\u044c \\u0441\\u043e\\u043e\\u0431\\u0449\\u0435\\u043d\\u0438\\u044f \\u043d\\u0430 \\u0434\\u0438\\u0441\\u043f\\u043b\\u0435\\u0438 \\u0438 \\u043f\\u043e\\u043f\\u0430\\u0434\\u0430\\u0442\\u044c \\u0432 \\u0442\\u0440\\u0430\\u043d\\u0441\\u043b\\u044f\\u0446\\u0438\\u044e. \\u042d\\u0442\\u043e \\u043f\\u043e\\u0437\\u0432\\u043e\\u043b\\u0438\\u0442 \\u0424\\u043e\\u0440\\u043c\\u0443\\u043b\\u0435 \\u043f\\u0440\\u0438\\u0432\\u043b\\u0435\\u0447\\u044c \\u0435\\u0449\\u0451 \\u0431\\u043e\\u043b\\u044c\\u0448\\u0435 \\u0434\\u0435\\u043d\\u0435\\u0433 \\u043d\\u0430 \\u0440\\u0430\\u0437\\u0432\\u0438\\u0442\\u0438\\u0435 \\u0438 \\u043f\\u043e\\u043f\\u0443\\u043b\\u044f\\u0440\\u0438\\u0437\\u0430\\u0446\\u0438\\u044e \\u0441\\u0435\\u0440\\u0438\\u0438. \\u041d\\u043e, \\u0447\\u0435\\u0441\\u0442\\u043d\\u043e \\u0433\\u043e\\u0432\\u043e\\u0440\\u044f, \\u0432\\u0435\\u043b\\u0438\\u043a \\u0448\\u0430\\u043d\\u0441, \\u0447\\u0442\\u043e \\u0442\\u0430\\u043a\\u043e\\u0439 \\u043c\\u0430\\u0440\\u043a\\u0435\\u0442\\u0438\\u043d\\u0433\\u043e\\u0432\\u044b\\u0439 \\u0445\\u043e\\u0434 \\u043f\\u0440\\u0435\\u0432\\u0440\\u0430\\u0442\\u0438\\u0442 \\u0433\\u043e\\u043d\\u043a\\u0443 \\u0432 \\u00ab\\u043a\\u0430\\u0448\\u0443\\u00bb.\\n\\u0412 \\u043e\\u0431\\u0449\\u0435\\u043c-\\u0442\\u043e \\u0434\\u0438\\u0441\\u043f\\u043b\\u0435\\u0438 \\u2013 \\u043d\\u0435 \\u0441\\u0430\\u043c\\u0430\\u044f \\u043d\\u0435\\u043e\\u0431\\u0445\\u043e\\u0434\\u0438\\u043c\\u0430\\u044f \\u0432\\u0435\\u0449\\u044c \\u0434\\u043b\\u044f \\u0424\\u043e\\u0440\\u043c\\u0443\\u043b\\u044b. \\u041a\\u0440\\u0430\\u0441\\u0438\\u0432\\u0430\\u044f, \\u044d\\u0444\\u0444\\u0435\\u043a\\u0442\\u043d\\u0430\\u044f, \\u043d\\u043e \\u043a\\u0430\\u043a \\u0442\\u0430\\u043a\\u043e\\u0432\\u0430\\u044f \\u043d\\u0435 \\u043f\\u043e\\u043c\\u043e\\u0433\\u0430\\u0435\\u0442 \\u0442\\u0435\\u0445\\u043d\\u0438\\u0447\\u0435\\u0441\\u043a\\u0438 \\u0440\\u0430\\u0437\\u0432\\u0438\\u0432\\u0430\\u0442\\u044c \\u0441\\u043f\\u043e\\u0440\\u0442. \\u0415\\u0441\\u043b\\u0438 \\u043e\\u043d\\u0430 \\u043f\\u0440\\u0438\\u0432\\u043b\\u0435\\u0447\\u0451\\u0442 \\u0432\\u043d\\u0438\\u043c\\u0430\\u043d\\u0438\\u0435 \\u0440\\u0443\\u043a\\u043e\\u0432\\u043e\\u0434\\u0441\\u0442\\u0432\\u0430, \\u0442\\u043e \\u0424-1 \\u043f\\u0440\\u0438\\u0434\\u0451\\u0442\\u0441\\u044f \\u0441\\u0435\\u0440\\u044c\\u0451\\u0437\\u043d\\u043e \\u043f\\u043e\\u0440\\u0430\\u0431\\u043e\\u0442\\u0430\\u0442\\u044c \\u043d\\u0430\\u0434 \\u0442\\u0435\\u043c, \\u0447\\u0442\\u043e\\u0431\\u044b \\u00ab\\u043f\\u043e\\u0434\\u0440\\u0443\\u0436\\u0438\\u0442\\u044c\\u00bb \\u043d\\u043e\\u0432\\u0443\\u044e \\u0440\\u0435\\u043a\\u043b\\u0430\\u043c\\u0443 \\u0441 \\u0431\\u043e\\u043b\\u0435\\u043b\\u044c\\u0449\\u0438\\u043a\\u0430\\u043c\\u0438. \\u0412 \\u043f\\u0440\\u043e\\u0442\\u0438\\u0432\\u043d\\u043e\\u043c \\u0441\\u043b\\u0443\\u0447\\u0430\\u0435 \\u0441\\u0435\\u0440\\u0438\\u044f \\u0441\\u0442\\u0430\\u043d\\u0435\\u0442 \\u0435\\u0449\\u0451 \\u0431\\u043e\\u043b\\u044c\\u0448\\u0435 \\u043f\\u043e\\u0445\\u043e\\u0436\\u0430 \\u043d\\u0430 \\u0448\\u043e\\u0443, \\u0447\\u0435\\u043c \\u043d\\u0430 \\u0441\\u043f\\u043e\\u0440\\u0442\\u0438\\u0432\\u043d\\u043e\\u0435 \\u043c\\u0435\\u0440\\u043e\\u043f\\u0440\\u0438\\u044f\\u0442\\u0438\\u0435.\",\n          \"\\u0412 \\u043d\\u0430\\u0447\\u0430\\u043b\\u0435 \\u0430\\u0432\\u0433\\u0443\\u0441\\u0442\\u0430 \\u043f\\u043e\\u0434\\u043e\\u0448\\u043b\\u0430 \\u043a \\u043a\\u043e\\u043d\\u0446\\u0443 \\u043e\\u0434\\u043d\\u0430 \\u0438\\u0437 \\u0433\\u043b\\u0430\\u0432\\u043d\\u044b\\u0445 \\u0441\\u0430\\u0433 \\u043b\\u0435\\u0442\\u0430 \\u2014 \\u0447\\u0442\\u043e \\u0431\\u0443\\u0434\\u0435\\u0442 \\u0441 \\u041a\\u0438\\u0440\\u0438\\u043b\\u043b\\u043e\\u043c \\u041a\\u0430\\u043f\\u0440\\u0438\\u0437\\u043e\\u0432\\u044b\\u043c? \\u0425\\u043e\\u0434\\u0438\\u043b\\u043e \\u043c\\u043d\\u043e\\u0433\\u043e \\u043f\\u0440\\u043e\\u0442\\u0438\\u0432\\u043e\\u0440\\u0435\\u0447\\u0438\\u0432\\u044b\\u0445 \\u0441\\u043b\\u0443\\u0445\\u043e\\u0432 \\u043e \\u0442\\u043e\\u043c, \\u043f\\u043e\\u0447\\u0435\\u043c\\u0443 \\u0436\\u0435 \\u0440\\u043e\\u0441\\u0441\\u0438\\u044f\\u043d\\u0438\\u043d \\u0432\\u0441\\u0451 \\u043d\\u0438\\u043a\\u0430\\u043a \\u043d\\u0435 \\u043c\\u043e\\u0436\\u0435\\u0442 \\u0432\\u0435\\u0440\\u043d\\u0443\\u0442\\u044c\\u0441\\u044f \\u0432 \\u0421\\u0428\\u0410. \\u041e\\u043d \\u0442\\u043e \\u043f\\u043e\\u043b\\u0443\\u0447\\u0438\\u043b \\u0442\\u0440\\u0430\\u0432\\u043c\\u0443 \\u0438 \\u043e\\u043f\\u0440\\u0430\\u0432\\u043b\\u044f\\u043b\\u0441\\u044f \\u043e\\u0442 \\u043e\\u043f\\u0435\\u0440\\u0430\\u0446\\u0438\\u0438 \\u0432 \\u0413\\u0435\\u0440\\u043c\\u0430\\u043d\\u0438\\u0438, \\u0442\\u043e \\u043f\\u044b\\u0442\\u0430\\u043b\\u0441\\u044f \\u043f\\u0435\\u0440\\u0435\\u0441\\u0435\\u0447\\u044c \\u0433\\u0440\\u0430\\u043d\\u0438\\u0446\\u044b \\u043d\\u0435\\u0441\\u043a\\u043e\\u043b\\u044c\\u043a\\u0438\\u0445 \\u0441\\u0442\\u0440\\u0430\\u043d, \\u0447\\u0442\\u043e\\u0431\\u044b \\u0434\\u043e\\u0431\\u0440\\u0430\\u0442\\u044c\\u0441\\u044f \\u0434\\u043e \\u0410\\u043c\\u0435\\u0440\\u0438\\u043a\\u0438, \\u043d\\u043e \\u0435\\u043c\\u0443 \\u043e\\u0442\\u043a\\u0430\\u0437\\u044b\\u0432\\u0430\\u043b\\u0438 \\u0438\\u0437-\\u0437\\u0430 \\u043e\\u0442\\u0441\\u0443\\u0442\\u0441\\u0442\\u0432\\u0438\\u044f \\u0440\\u0430\\u0431\\u043e\\u0447\\u0435\\u0439 \\u0432\\u0438\\u0437\\u044b, \\u0442\\u043e \\u041a\\u0438\\u0440\\u0438\\u043b\\u043b\\u0430 \\u0438 \\u0432\\u043e\\u0432\\u0441\\u0435 \\u043d\\u0435 \\u0432\\u044b\\u043f\\u0443\\u0441\\u043a\\u0430\\u043b\\u0438 \\u0438\\u0437 \\u0420\\u043e\\u0441\\u0441\\u0438\\u0438. \\u041d\\u0430 \\u0444\\u043e\\u043d\\u0435 \\u0432\\u043e\\u043b\\u043d\\u0438\\u0442\\u0435\\u043b\\u044c\\u043d\\u044b\\u0445 \\u0441\\u0438\\u0442\\u0443\\u0430\\u0446\\u0438\\u0439 \\u0441 \\u0418\\u0432\\u0430\\u043d\\u043e\\u043c \\u0424\\u0435\\u0434\\u043e\\u0442\\u043e\\u0432\\u044b\\u043c \\u0438 \\u041c\\u0438\\u0445\\u0430\\u0438\\u043b\\u043e\\u043c \\u0412\\u043e\\u0440\\u043e\\u0431\\u044c\\u0451\\u0432\\u044b\\u043c \\u0437\\u0430 \\u0441\\u0443\\u0434\\u044c\\u0431\\u043e\\u0439 \\u041a\\u0430\\u043f\\u0440\\u0438\\u0437\\u043e\\u0432\\u0430 \\u043f\\u0440\\u0438\\u0441\\u0442\\u0430\\u043b\\u044c\\u043d\\u043e \\u0441\\u043b\\u0435\\u0434\\u0438\\u043b\\u0438 \\u0438 \\u0432 \\u0420\\u043e\\u0441\\u0441\\u0438\\u0438, \\u0438 \\u0432 \\u0421\\u0428\\u0410.\\n\\u0424\\u043e\\u0440\\u0432\\u0430\\u0440\\u0434 \\u0443\\u0441\\u043f\\u0435\\u0448\\u043d\\u043e \\u0432\\u0435\\u0440\\u043d\\u0443\\u043b\\u0441\\u044f \\u0432 \\u0410\\u043c\\u0435\\u0440\\u0438\\u043a\\u0443 \\u0442\\u0440\\u0430\\u043d\\u0437\\u0438\\u0442\\u043e\\u043c \\u0447\\u0435\\u0440\\u0435\\u0437 \\u0422\\u0443\\u0440\\u0446\\u0438\\u044e \\u2014 \\u043a\\u0430\\u043a \\u0440\\u0430\\u0437 \\u0432 \\u043d\\u0430\\u0447\\u0430\\u043b\\u0435 \\u0430\\u0432\\u0433\\u0443\\u0441\\u0442\\u0430. \\u0418 \\u0442\\u043e\\u043b\\u044c\\u043a\\u043e \\u0441\\u043f\\u0443\\u0441\\u0442\\u044f \\u043c\\u0435\\u0441\\u044f\\u0446 \\u0432 \\u00ab\\u041c\\u0438\\u043d\\u043d\\u0435\\u0441\\u043e\\u0442\\u0435\\u00bb \\u0440\\u0435\\u0448\\u0438\\u043b\\u0438\\u0441\\u044c \\u043f\\u0440\\u0438\\u043e\\u0442\\u043a\\u0440\\u044b\\u0442\\u044c \\u0437\\u0430\\u0432\\u0435\\u0441\\u0443 \\u0442\\u0430\\u0439\\u043d\\u044b \\u0438 \\u043d\\u0435\\u043c\\u043d\\u043e\\u0433\\u043e \\u0440\\u0430\\u0441\\u0441\\u043a\\u0430\\u0437\\u0430\\u0442\\u044c \\u043e \\u0442\\u043e\\u043c, \\u043a\\u0430\\u043a \\u0436\\u0435 \\u043f\\u0440\\u043e\\u0438\\u0441\\u0445\\u043e\\u0434\\u0438\\u043b\\u043e \\u0432\\u043e\\u0437\\u0432\\u0440\\u0430\\u0449\\u0435\\u043d\\u0438\\u0435 \\u0440\\u043e\\u0441\\u0441\\u0438\\u044f\\u043d\\u0438\\u043d\\u0430. \\u041e\\u0431 \\u044d\\u0442\\u043e\\u043c \\u0440\\u0430\\u0441\\u0441\\u043a\\u0430\\u0437\\u0430\\u043b \\u0433\\u0435\\u043d\\u0435\\u0440\\u0430\\u043b\\u044c\\u043d\\u044b\\u0439 \\u043c\\u0435\\u043d\\u0435\\u0434\\u0436\\u0435\\u0440 \\u00ab\\u0423\\u0430\\u0439\\u043b\\u0434\\u00bb \\u0411\\u0438\\u043b\\u043b \\u0413\\u0435\\u0440\\u0438\\u043d, \\u043a\\u043e\\u0442\\u043e\\u0440\\u044b\\u0439 \\u0432\\u043e \\u0432\\u0440\\u0435\\u043c\\u044f \\u043d\\u0430\\u0445\\u043e\\u0436\\u0434\\u0435\\u043d\\u0438\\u044f \\u041a\\u0438\\u0440\\u0438\\u043b\\u043b\\u0430 \\u0432 \\u0420\\u043e\\u0441\\u0441\\u0438\\u0438 \\u043d\\u0435 \\u0440\\u0435\\u0448\\u0430\\u043b\\u0441\\u044f \\u043c\\u043d\\u043e\\u0433\\u043e \\u0433\\u043e\\u0432\\u043e\\u0440\\u0438\\u0442\\u044c \\u043e\\u0431 \\u044d\\u0442\\u043e\\u0439 \\u0441\\u0438\\u0442\\u0443\\u0430\\u0446\\u0438\\u0438. \\u041a\\u0430\\u043a \\u043e\\u0442\\u043c\\u0435\\u0447\\u0430\\u043b\\u043e\\u0441\\u044c, \\u0441\\u0432\\u043e\\u0438\\u043c\\u0438 \\u0440\\u0435\\u0447\\u0430\\u043c\\u0438 \\u043e\\u043d \\u00ab\\u043d\\u0435 \\u0445\\u043e\\u0442\\u0435\\u043b \\u043d\\u0430\\u0432\\u0440\\u0435\\u0434\\u0438\\u0442\\u044c\\u00bb.\\n\\u0421\\u0435\\u0439\\u0447\\u0430\\u0441 \\u0436\\u0435 \\u0413\\u0435\\u0440\\u0438\\u043d \\u043f\\u043e\\u0441\\u0435\\u0442\\u0438\\u043b \\u043f\\u043e\\u0434\\u043a\\u0430\\u0441\\u0442 Wild on Demand \\u0438\\u0437\\u0432\\u0435\\u0441\\u0442\\u043d\\u043e\\u0433\\u043e \\u0436\\u0443\\u0440\\u043d\\u0430\\u043b\\u0438\\u0441\\u0442\\u0430 \\u041c\\u0430\\u0439\\u043a\\u043b\\u0430 \\u0420\\u0443\\u0441\\u0441\\u043e, \\u043a\\u043e\\u0442\\u043e\\u0440\\u044b\\u0439 \\u0441\\u043f\\u0435\\u0446\\u0438\\u0430\\u043b\\u0438\\u0437\\u0438\\u0440\\u0443\\u0435\\u0442\\u0441\\u044f \\u043d\\u0430 \\u043e\\u0431\\u043e\\u0437\\u0440\\u0435\\u0432\\u0430\\u043d\\u0438\\u0438 \\u043c\\u0430\\u0442\\u0447\\u0435\\u0439 \\u0438 \\u0436\\u0438\\u0437\\u043d\\u0438 \\u0432\\u043e\\u043a\\u0440\\u0443\\u0433 \\u00ab\\u041c\\u0438\\u043d\\u043d\\u0435\\u0441\\u043e\\u0442\\u044b\\u00bb. \\u0413\\u0435\\u043d\\u043c\\u0435\\u043d\\u0435\\u0434\\u0436\\u0435\\u0440 \\u0441\\u043e\\u043e\\u0431\\u0449\\u0438\\u043b, \\u0447\\u0442\\u043e \\u043f\\u0440\\u0438\\u0447\\u0438\\u043d\\u0430, \\u043f\\u043e \\u043a\\u043e\\u0442\\u043e\\u0440\\u043e\\u0439 \\u043f\\u0440\\u043e\\u0446\\u0435\\u0441\\u0441 \\u0432\\u043e\\u0437\\u0432\\u0440\\u0430\\u0449\\u0435\\u043d\\u0438\\u044f \\u041a\\u0430\\u043f\\u0440\\u0438\\u0437\\u043e\\u0432\\u0430 \\u0432 \\u0421\\u043e\\u0435\\u0434\\u0438\\u043d\\u0451\\u043d\\u043d\\u044b\\u0435 \\u0428\\u0442\\u0430\\u0442\\u044b \\u0431\\u044b\\u043b \\u0443\\u0441\\u043b\\u043e\\u0436\\u043d\\u0451\\u043d, \\u0434\\u0435\\u0439\\u0441\\u0442\\u0432\\u0438\\u0442\\u0435\\u043b\\u044c\\u043d\\u043e \\u0437\\u0430\\u043a\\u043b\\u044e\\u0447\\u0430\\u043b\\u0430\\u0441\\u044c \\u0432 \\u0438\\u0441\\u0442\\u0451\\u043a\\u0448\\u0435\\u043c \\u0441\\u0440\\u043e\\u043a\\u0435 \\u0434\\u0435\\u0439\\u0441\\u0442\\u0432\\u0438\\u044f \\u0435\\u0433\\u043e \\u0440\\u0430\\u0431\\u043e\\u0447\\u0435\\u0439 \\u0432\\u0438\\u0437\\u044b \\u0432 \\u0438\\u044e\\u043d\\u0435. \\u041f\\u043e\\u043a\\u0430 \\u0445\\u043e\\u0434\\u0438\\u043b\\u0438 \\u0441\\u043b\\u0443\\u0445\\u0438 \\u043e \\u0442\\u043e\\u043c, \\u0447\\u0442\\u043e \\u041a\\u0430\\u043f\\u0440\\u0438\\u0437\\u043e\\u0432 \\u043a\\u0443\\u043f\\u0438\\u043b \\u043f\\u043e\\u0434\\u0434\\u0435\\u043b\\u044c\\u043d\\u044b\\u0439 \\u0432\\u043e\\u0435\\u043d\\u043d\\u044b\\u0439 \\u0431\\u0438\\u043b\\u0435\\u0442, \\u00ab\\u0423\\u0430\\u0439\\u043b\\u0434\\u00bb \\u0441\\u0432\\u044f\\u0437\\u0430\\u043b\\u0438\\u0441\\u044c \\u0441 \\u00ab\\u043d\\u0435\\u043a\\u043e\\u0442\\u043e\\u0440\\u044b\\u043c\\u0438 \\u043b\\u044e\\u0434\\u044c\\u043c\\u0438\\u00bb \\u0432 \\u0412\\u0430\\u0448\\u0438\\u043d\\u0433\\u0442\\u043e\\u043d\\u0435, \\u043a\\u043e\\u0442\\u043e\\u0440\\u044b\\u0435 \\u0443\\u0431\\u0435\\u0434\\u0438\\u043b\\u0438 \\u041a\\u0430\\u043f\\u0440\\u0438\\u0437\\u043e\\u0432\\u0430 \\u043f\\u0440\\u043e\\u0434\\u043b\\u0438\\u0442\\u044c \\u0432\\u0438\\u0437\\u0443 \\u0432 \\u0422\\u0443\\u0440\\u0446\\u0438\\u0438 \\u043f\\u0435\\u0440\\u0435\\u0434 \\u0432\\u043e\\u0437\\u0432\\u0440\\u0430\\u0449\\u0435\\u043d\\u0438\\u0435\\u043c \\u0432 \\u041c\\u0438\\u043d\\u043d\\u0435\\u0441\\u043e\\u0442\\u0443.\\n\\u00ab\\u0411\\u044b\\u043b \\u043d\\u0435\\u043a\\u043e\\u0442\\u043e\\u0440\\u044b\\u0439 \\u0441\\u0442\\u0440\\u0435\\u0441\\u0441, \\u0438 \\u043c\\u044b \\u0434\\u0435\\u0439\\u0441\\u0442\\u0432\\u0438\\u0442\\u0435\\u043b\\u044c\\u043d\\u043e \\u043f\\u043e\\u043b\\u0443\\u0447\\u0438\\u043b\\u0438 \\u0444\\u0430\\u043d\\u0442\\u0430\\u0441\\u0442\\u0438\\u0447\\u0435\\u0441\\u043a\\u0443\\u044e, \\u0441\\u0442\\u043e\\u043b\\u044c \\u043d\\u0435\\u043e\\u0431\\u0445\\u043e\\u0434\\u0438\\u043c\\u0443\\u044e \\u043f\\u043e\\u043c\\u043e\\u0449\\u044c \\u043e\\u0442 \\u043d\\u0435\\u043a\\u043e\\u0442\\u043e\\u0440\\u044b\\u0445 \\u043b\\u044e\\u0434\\u0435\\u0439 \\u0432 \\u0412\\u0430\\u0448\\u0438\\u043d\\u0433\\u0442\\u043e\\u043d\\u0435 \\u0438 \\u043e\\u0442 \\u043d\\u0430\\u0448\\u0438\\u0445 \\u0445\\u043e\\u0440\\u043e\\u0448\\u0438\\u0445 \\u0434\\u0440\\u0443\\u0437\\u0435\\u0439, \\u043a\\u043e\\u0442\\u043e\\u0440\\u044b\\u0435 \\u0432 \\u044d\\u0442\\u043e\\u043c \\u043f\\u043e\\u043d\\u0438\\u043c\\u0430\\u044e\\u0442 \\u0431\\u043e\\u043b\\u044c\\u0448\\u0435, \\u0447\\u0435\\u043c \\u043c\\u044b. \\u041c\\u044b \\u043d\\u0435 \\u0441\\u043c\\u043e\\u0433\\u043b\\u0438 \\u0431\\u044b \\u0441\\u0434\\u0435\\u043b\\u0430\\u0442\\u044c \\u044d\\u0442\\u043e \\u0431\\u0435\\u0437 \\u0438\\u0445 \\u043f\\u043e\\u043c\\u043e\\u0449\\u0438. \\u0422\\u0435\\u043f\\u0435\\u0440\\u044c \\u043c\\u044b \\u043f\\u0440\\u043e\\u0441\\u0442\\u043e \\u0441\\u0447\\u0430\\u0441\\u0442\\u043b\\u0438\\u0432\\u044b, \\u0447\\u0442\\u043e \\u041a\\u0438\\u0440\\u0438\\u043b\\u043b \\u0437\\u0434\\u0435\\u0441\\u044c, \\u0447\\u0442\\u043e \\u043e\\u043d \\u0432 \\u0431\\u0435\\u0437\\u043e\\u043f\\u0430\\u0441\\u043d\\u043e\\u0441\\u0442\\u0438 \\u0438 \\u0432\\u0441\\u0451 \\u0445\\u043e\\u0440\\u043e\\u0448\\u043e. \\u041f\\u0440\\u043e\\u0441\\u0442\\u043e \\u044d\\u0442\\u043e \\u0431\\u044b\\u043b\\u043e \\u0434\\u0430\\u0432\\u043d\\u043e, \\u043d\\u043e \\u0441\\u0435\\u0439\\u0447\\u0430\\u0441 \\u0432\\u0441\\u0451 \\u0445\\u043e\\u0440\\u043e\\u0448\\u043e, \\u0438 \\u043c\\u044b \\u043f\\u0440\\u043e\\u0441\\u0442\\u043e \\u0431\\u0443\\u0434\\u0435\\u043c \\u0436\\u0434\\u0430\\u0442\\u044c\\u00bb, \\u2014 \\u0441\\u043a\\u0430\\u0437\\u0430\\u043b \\u0413\\u0435\\u0440\\u0438\\u043d.\\n\\u0412\\u043f\\u043e\\u043b\\u043d\\u0435 \\u0432\\u043e\\u0437\\u043c\\u043e\\u0436\\u043d\\u043e, \\u043f\\u043e\\u0434 \\u00ab\\u043b\\u044e\\u0434\\u044c\\u043c\\u0438 \\u0432 \\u0412\\u0430\\u0448\\u0438\\u043d\\u0433\\u0442\\u043e\\u043d\\u0435\\u00bb \\u0433\\u0435\\u043d\\u043c\\u0435\\u043d\\u0435\\u0434\\u0436\\u0435\\u0440 \\u0438\\u043c\\u0435\\u043b \\u0432 \\u0432\\u0438\\u0434\\u0443 \\u043a\\u043e\\u0433\\u043e-\\u0442\\u043e \\u0438\\u0437 \\u0447\\u0438\\u0441\\u043b\\u0430 \\u0447\\u0438\\u043d\\u043e\\u0432\\u043d\\u0438\\u043a\\u043e\\u0432 \\u0438 \\u043f\\u043e\\u043b\\u0438\\u0442\\u0438\\u043a\\u043e\\u0432 \\u2014 \\u0438\\u043d\\u0430\\u0447\\u0435 \\u0437\\u0430\\u0447\\u0435\\u043c \\u043d\\u0443\\u0436\\u043d\\u043e \\u0443\\u0442\\u043e\\u0447\\u043d\\u0435\\u043d\\u0438\\u0435 \\u043f\\u0440\\u043e \\u0441\\u0442\\u043e\\u043b\\u0438\\u0446\\u0443 \\u0421\\u0428\\u0410? \\u0422\\u0430\\u043a\\u043e\\u0433\\u043e \\u0436\\u0435 \\u043c\\u043d\\u0435\\u043d\\u0438\\u044f \\u043f\\u0440\\u0438\\u0434\\u0435\\u0440\\u0436\\u0438\\u0432\\u0430\\u0435\\u0442\\u0441\\u044f, \\u043d\\u0430\\u043f\\u0440\\u0438\\u043c\\u0435\\u0440, \\u0447\\u0435\\u0448\\u0441\\u043a\\u0438\\u0439 \\u0436\\u0443\\u0440\\u043d\\u0430\\u043b\\u0438\\u0441\\u0442 O2 TV Sport \\u0418\\u0440\\u0436\\u0438 \\u0412\\u0438\\u0442\\u0435\\u043a, \\u043a\\u043e\\u0442\\u043e\\u0440\\u044b\\u0439 \\u0432 \\u0441\\u0432\\u043e\\u0451\\u043c \\u00ab\\u0442\\u0432\\u0438\\u0442\\u0442\\u0435\\u0440\\u0435\\u00bb \\u0441\\u0447\\u0438\\u0442\\u0430\\u0435\\u0442 \\u044d\\u0442\\u0438\\u0445 \\u00ab\\u043b\\u044e\\u0434\\u0435\\u0439\\u00bb \\u0430\\u043c\\u0435\\u0440\\u0438\\u043a\\u0430\\u043d\\u0441\\u043a\\u0438\\u043c\\u0438 \\u0434\\u0438\\u043f\\u043b\\u043e\\u043c\\u0430\\u0442\\u0430\\u043c\\u0438. \\u0418\\u043d\\u0442\\u0435\\u0440\\u0435\\u0441\\u043d\\u043e. \\u041e\\u0434\\u043d\\u0430\\u043a\\u043e \\u0432\\u0441\\u0451 \\u0436\\u0435 \\u043d\\u0435 \\u0431\\u0443\\u0434\\u0435\\u043c \\u0443\\u0445\\u043e\\u0434\\u0438\\u0442\\u044c \\u0432 \\u0440\\u0430\\u0441\\u0441\\u0443\\u0436\\u0434\\u0435\\u043d\\u0438\\u044f, \\u043d\\u0430\\u0432\\u0435\\u0440\\u043d\\u044f\\u043a\\u0430 \\u044d\\u0442\\u0430 \\u0442\\u0435\\u043c\\u0430 \\u0435\\u0449\\u0451 \\u043d\\u0435 \\u0440\\u0430\\u0437 \\u0432\\u0441\\u043f\\u043b\\u044b\\u0432\\u0451\\u0442. \\u0422\\u043e\\u0433\\u0434\\u0430-\\u0442\\u043e \\u0413\\u0435\\u0440\\u0438\\u043d \\u043e\\u0442\\u0432\\u0435\\u0442\\u0438\\u0442 \\u0442\\u043e\\u0447\\u043d\\u0435\\u0435.\\n\\u041a\\u0438\\u0440\\u0438\\u043b\\u043b \\u041a\\u0430\\u043f\\u0440\\u0438\\u0437\\u043e\\u0432\\n\\u0421\\u043f\\u0435\\u0446\\u0438\\u0430\\u043b\\u0438\\u0441\\u0442 \\u043f\\u0440\\u043e\\u0434\\u043e\\u043b\\u0436\\u0438\\u043b \\u0441\\u0432\\u043e\\u0439 \\u0441\\u043f\\u0438\\u0447. \\u0413\\u0435\\u0440\\u0438\\u043d \\u043f\\u0440\\u0438\\u0437\\u043d\\u0430\\u043b, \\u0447\\u0442\\u043e \\u041a\\u0430\\u043f\\u0440\\u0438\\u0437\\u043e\\u0432\\u0443 \\u0442\\u0430\\u043a\\u0436\\u0435 \\u043f\\u043e\\u0439\\u0434\\u0451\\u0442 \\u043d\\u0430 \\u043f\\u043e\\u043b\\u044c\\u0437\\u0443 \\u0440\\u0430\\u043d\\u043d\\u0435\\u0435 \\u043f\\u0440\\u0438\\u0431\\u044b\\u0442\\u0438\\u0435 \\u0432 \\u041c\\u0438\\u043d\\u043d\\u0435\\u0441\\u043e\\u0442\\u0443 \\u043d\\u0430 \\u0442\\u0440\\u0435\\u043d\\u0438\\u0440\\u043e\\u0432\\u043e\\u0447\\u043d\\u044b\\u0439 \\u0441\\u0431\\u043e\\u0440. \\u0412 \\u044d\\u0442\\u043e \\u0432\\u0440\\u0435\\u043c\\u044f \\u0432 \\u043f\\u0440\\u043e\\u0448\\u043b\\u043e\\u043c \\u0433\\u043e\\u0434\\u0443 \\u041a\\u0430\\u043f\\u0440\\u0438\\u0437\\u043e\\u0432 \\u0431\\u044b\\u043b \\u0437\\u0430\\u043d\\u044f\\u0442 \\u043f\\u0435\\u0440\\u0435\\u0433\\u043e\\u0432\\u043e\\u0440\\u0430\\u043c\\u0438 \\u043e \\u043d\\u043e\\u0432\\u043e\\u043c \\u043a\\u043e\\u043d\\u0442\\u0440\\u0430\\u043a\\u0442\\u0435 \\u043f\\u0435\\u0440\\u0435\\u0434 \\u043f\\u0440\\u0438\\u0435\\u0437\\u0434\\u043e\\u043c \\u043d\\u0430\\u043a\\u0430\\u043d\\u0443\\u043d\\u0435 \\u043d\\u0430 \\u0441\\u0431\\u043e\\u0440\\u044b. \\u041e\\u043d \\u043d\\u0430\\u0447\\u0430\\u043b \\u0441\\u0435\\u0437\\u043e\\u043d \\u0431\\u0435\\u0437 \\u0433\\u043e\\u043b\\u043e\\u0432 \\u0432 \\u0441\\u0432\\u043e\\u0438\\u0445 \\u043f\\u0435\\u0440\\u0432\\u044b\\u0445 \\u0432\\u043e\\u0441\\u044c\\u043c\\u0438 \\u043c\\u0430\\u0442\\u0447\\u0430\\u0445, \\u043d\\u043e \\u0437\\u0430\\u0442\\u0435\\u043c \\u00ab\\u0437\\u0430\\u0436\\u0451\\u0433\\u00bb \\u0438 \\u0437\\u0430\\u043a\\u043e\\u043d\\u0447\\u0438\\u043b \\u0447\\u0435\\u043c\\u043f\\u0438\\u043e\\u043d\\u0430\\u0442 \\u0441 \\u0440\\u0435\\u043a\\u043e\\u0440\\u0434\\u043d\\u044b\\u043c\\u0438 \\u0434\\u043b\\u044f \\u0444\\u0440\\u0430\\u043d\\u0448\\u0438\\u0437\\u044b 47 \\u0433\\u043e\\u043b\\u0430\\u043c\\u0438: \\u00ab\\u042d\\u0442\\u043e \\u0431\\u044b\\u043b\\u043e \\u043d\\u0430\\u043f\\u0440\\u044f\\u0436\\u0451\\u043d\\u043d\\u043e\\u0435 \\u043b\\u0435\\u0442\\u043e \\u0434\\u043b\\u044f \\u041a\\u0438\\u0440\\u0438\\u043b\\u043b\\u0430. \\u042f \\u0437\\u043d\\u0430\\u044e, \\u0447\\u0442\\u043e \\u043e\\u043d \\u0433\\u043e\\u0442\\u043e\\u0432. \\u042f \\u0437\\u043d\\u0430\\u044e, \\u0447\\u0442\\u043e \\u043e\\u043d \\u043f\\u043e\\u0434\\u0433\\u043e\\u0442\\u043e\\u0432\\u0438\\u043b\\u0441\\u044f. \\u042f \\u0437\\u043d\\u0430\\u044e, \\u0447\\u0442\\u043e \\u043e\\u043d \\u0441\\u0447\\u0430\\u0441\\u0442\\u043b\\u0438\\u0432 \\u0431\\u044b\\u0442\\u044c \\u0437\\u0434\\u0435\\u0441\\u044c. \\u042d\\u0442\\u043e \\u043f\\u0440\\u043e\\u0441\\u0442\\u043e \\u0432\\u043e\\u043f\\u0440\\u043e\\u0441 \\u0442\\u043e\\u0433\\u043e, \\u0447\\u0442\\u043e\\u0431\\u044b \\u0432\\u044b\\u0441\\u0442\\u0440\\u043e\\u0438\\u0442\\u044c \\u043f\\u0440\\u0430\\u0432\\u0438\\u043b\\u044c\\u043d\\u044b\\u0435, \\u0445\\u043e\\u0440\\u043e\\u0448\\u0438\\u0435 \\u0432\\u0437\\u0430\\u0438\\u043c\\u043e\\u043e\\u0442\\u043d\\u043e\\u0448\\u0435\\u043d\\u0438\\u044f. \\u0412\\u043e\\u0437\\u043c\\u043e\\u0436\\u043d\\u043e, \\u043e\\u043d \\u043d\\u0430\\u0447\\u0430\\u043b \\u043f\\u0440\\u043e\\u0448\\u043b\\u044b\\u0439 \\u0441\\u0435\\u0437\\u043e\\u043d \\u043c\\u0435\\u0434\\u043b\\u0435\\u043d\\u043d\\u043e, \\u043d\\u043e \\u0432 \\u043a\\u043e\\u043d\\u0446\\u0435 \\u043a\\u043e\\u043d\\u0446\\u043e\\u0432 \\u043e\\u043d \\u0441 \\u043b\\u0438\\u0445\\u0432\\u043e\\u0439 \\u043a\\u043e\\u043c\\u043f\\u0435\\u043d\\u0441\\u0438\\u0440\\u043e\\u0432\\u0430\\u043b \\u044d\\u0442\\u043e\\u00bb.\\n\\u0413\\u0435\\u0440\\u0438\\u043d \\u0442\\u0430\\u043a\\u0436\\u0435 \\u0432\\u044b\\u0441\\u043a\\u0430\\u0437\\u0430\\u043b\\u0441\\u044f \\u043e\\u0431 \\u043e\\u0431\\u043c\\u0435\\u043d\\u0435 \\u0434\\u0440\\u0443\\u0433\\u043e\\u0433\\u043e \\u0440\\u043e\\u0441\\u0441\\u0438\\u044f\\u043d\\u0438\\u043d\\u0430 \\u0438\\u0437 \\u00ab\\u041c\\u0438\\u043d\\u043d\\u0435\\u0441\\u043e\\u0442\\u044b\\u00bb \\u2014 \\u0437\\u0430\\u0449\\u0438\\u0442\\u043d\\u0438\\u043a\\u0430 \\u0414\\u043c\\u0438\\u0442\\u0440\\u0438\\u044f \\u041a\\u0443\\u043b\\u0438\\u043a\\u043e\\u0432\\u0430 \\u0432 \\u00ab\\u0410\\u043d\\u0430\\u0445\\u0430\\u0439\\u043c \\u0414\\u0430\\u043a\\u0441\\u00bb. \\u042d\\u0442\\u043e\\u0442 \\u0448\\u0430\\u0433 \\u043e\\u0441\\u0432\\u043e\\u0431\\u043e\\u0434\\u0438\\u043b $ 2,25 \\u043c\\u043b\\u043d \\u0432 \\u043f\\u043b\\u0430\\u0442\\u0451\\u0436\\u043d\\u043e\\u0439 \\u0432\\u0435\\u0434\\u043e\\u043c\\u043e\\u0441\\u0442\\u0438. \\u041a \\u0442\\u043e\\u043c\\u0443 \\u0436\\u0435 \\u0433\\u0435\\u043d\\u043c\\u0435\\u043d\\u0435\\u0434\\u0436\\u0435\\u0440 \\u0440\\u0435\\u0448\\u0438\\u043b \\u043f\\u043e\\u0439\\u0442\\u0438 \\u043d\\u0430 \\u043e\\u0431\\u043c\\u0435\\u043d, \\u0447\\u0442\\u043e\\u0431\\u044b \\u0434\\u0430\\u0442\\u044c \\u0448\\u0430\\u043d\\u0441\\u044b \\u0434\\u0440\\u0443\\u0433\\u0438\\u043c \\u0438\\u0433\\u0440\\u043e\\u043a\\u0430\\u0445 \\u0432 \\u0441\\u043e\\u0441\\u0442\\u0430\\u0432\\u0435: \\u0430 \\u0438\\u043c\\u0435\\u043d\\u043d\\u043e 22-\\u043b\\u0435\\u0442\\u043d\\u0435\\u043c\\u0443 \\u041a\\u0430\\u043b\\u0435\\u043d\\u0443 \\u042d\\u0434\\u0434\\u0438\\u0441\\u043e\\u043d\\u0443 \\u0438 31-\\u043b\\u0435\\u0442\\u043d\\u0435\\u043c\\u0443 \\u0410\\u043d\\u0434\\u0440\\u0435\\u044e \\u0428\\u0443\\u0441\\u0442\\u0440\\u0443.\\n\\u00ab\\u041c\\u044b \\u043f\\u0440\\u043e\\u0441\\u0442\\u043e \\u0434\\u0443\\u043c\\u0430\\u0435\\u043c, \\u0447\\u0442\\u043e, \\u043a\\u043e\\u0433\\u0434\\u0430 \\u043d\\u0430\\u0448\\u0438 \\u0438\\u0433\\u0440\\u043e\\u043a\\u0438 \\u043e\\u043f\\u0440\\u0430\\u0432\\u044f\\u0442\\u0441\\u044f \\u043e\\u0442 \\u0442\\u0440\\u0430\\u0432\\u043c\\u2026 \\u0442\\u043e\\u0433\\u0434\\u0430 \\u0443 \\u043d\\u0430\\u0441 \\u0431\\u0443\\u0434\\u0435\\u0442 \\u0440\\u0435\\u0430\\u043b\\u044c\\u043d\\u0430\\u044f \\u043f\\u0440\\u043e\\u0431\\u043b\\u0435\\u043c\\u0430, \\u043f\\u043e\\u0442\\u043e\\u043c\\u0443 \\u0447\\u0442\\u043e \\u043c\\u044b \\u043e\\u0431\\u043c\\u0435\\u043d\\u044f\\u043b\\u0438 \\u0438\\u0433\\u0440\\u043e\\u043a\\u0430, \\u043a\\u043e\\u0442\\u043e\\u0440\\u044b\\u0439 \\u0441\\u043b\\u0438\\u0448\\u043a\\u043e\\u043c \\u0445\\u043e\\u0440\\u043e\\u0448, \\u0447\\u0442\\u043e\\u0431\\u044b \\u0435\\u0433\\u043e \\u043e\\u0431\\u043c\\u0435\\u043d\\u0438\\u0432\\u0430\\u0442\\u044c. \\u041d\\u0430\\u043c \\u043a\\u0430\\u043a \\u0431\\u044b \\u043f\\u0440\\u0438\\u0448\\u043b\\u043e\\u0441\\u044c \\u043f\\u0440\\u0438\\u043d\\u044f\\u0442\\u044c \\u0440\\u0435\\u0448\\u0435\\u043d\\u0438\\u0435 \\u043a\\u0430\\u043a \\u0431\\u0438\\u0437\\u043d\\u0435\\u0441\\u043c\\u0435\\u043d\\u0430\\u043c, \\u0438 \\u0432\\u044b \\u0437\\u043d\\u0430\\u0435\\u0442\\u0435, \\u043d\\u0430\\u0441\\u043a\\u043e\\u043b\\u044c\\u043a\\u043e \\u0446\\u0435\\u043d\\u043d\\u044b\\u043c \\u044f\\u0432\\u043b\\u044f\\u0435\\u0442\\u0441\\u044f \\u0441\\u0432\\u043e\\u0431\\u043e\\u0434\\u043d\\u043e\\u0435 \\u043c\\u0435\\u0441\\u0442\\u043e \\u043f\\u043e\\u0434 \\u043f\\u043e\\u0442\\u043e\\u043b\\u043a\\u043e\\u043c \\u0437\\u0430\\u0440\\u043f\\u043b\\u0430\\u0442 \\u0432 \\u043d\\u0430\\u0448\\u0438 \\u0434\\u043d\\u0438, \\u043e\\u0441\\u043e\\u0431\\u0435\\u043d\\u043d\\u043e \\u0432 \\u043d\\u0430\\u0448\\u0435\\u0439 \\u0441\\u0438\\u0442\\u0443\\u0430\\u0446\\u0438\\u0438. \\u041c\\u044b \\u043f\\u0440\\u043e\\u0441\\u0442\\u043e \\u0447\\u0443\\u0432\\u0441\\u0442\\u0432\\u0443\\u0435\\u043c, \\u0447\\u0442\\u043e \\u0443 \\u043d\\u0430\\u0441 \\u0432\\u0441\\u0451 \\u0435\\u0449\\u0451 \\u0434\\u043e\\u0441\\u0442\\u0430\\u0442\\u043e\\u0447\\u043d\\u043e \\u0445\\u043e\\u0440\\u043e\\u0448\\u0438\\u0445 \\u0437\\u0430\\u0449\\u0438\\u0442\\u043d\\u0438\\u043a\\u043e\\u0432\\u00bb, \\u2014 \\u0437\\u0430\\u043a\\u043b\\u044e\\u0447\\u0438\\u043b \\u0413\\u0435\\u0440\\u0438\\u043d.\\n\\u041a\\u043e\\u043d\\u0435\\u0447\\u043d\\u043e, \\u0432 \\u00ab\\u041c\\u0438\\u043d\\u043d\\u0435\\u0441\\u043e\\u0442\\u0435\\u00bb \\u0441\\u0442\\u0430\\u043b\\u043e \\u043d\\u0430 \\u043e\\u0434\\u043d\\u043e\\u0433\\u043e \\u0440\\u043e\\u0441\\u0441\\u0438\\u044f\\u043d\\u0438\\u043d\\u0430 \\u043c\\u0435\\u043d\\u044c\\u0448\\u0435, \\u0438 \\u044d\\u0442\\u043e \\u043f\\u0435\\u0447\\u0430\\u043b\\u044c\\u043d\\u043e. \\u041d\\u043e \\u0432 \\u0442\\u043e \\u0436\\u0435 \\u0432\\u0440\\u0435\\u043c\\u044f \\u0441\\u0432\\u043e\\u044e \\u0433\\u043b\\u0430\\u0432\\u043d\\u0443\\u044e \\u0437\\u0432\\u0451\\u0437\\u0434\\u043e\\u0447\\u043a\\u0443 \\u00ab\\u0423\\u0430\\u0439\\u043b\\u0434\\u00bb \\u0441\\u043e\\u0445\\u0440\\u0430\\u043d\\u0438\\u043b\\u0438 \\u2014 \\u0438 \\u044d\\u0442\\u043e \\u043d\\u0435 \\u043c\\u043e\\u0436\\u0435\\u0442 \\u043d\\u0435 \\u0440\\u0430\\u0434\\u043e\\u0432\\u0430\\u0442\\u044c. \\u0411\\u0443\\u0434\\u0435\\u043c \\u043d\\u0430\\u0434\\u0435\\u044f\\u0442\\u044c\\u0441\\u044f, \\u0447\\u0442\\u043e \\u043d\\u0430\\u043f\\u0440\\u044f\\u0436\\u0451\\u043d\\u043d\\u043e\\u0435 \\u043b\\u0435\\u0442\\u043e \\u043b\\u0438\\u0448\\u044c \\u0437\\u0430\\u043c\\u043e\\u0442\\u0438\\u0432\\u0438\\u0440\\u0443\\u0435\\u0442 \\u041a\\u0430\\u043f\\u0440\\u0438\\u0437\\u043e\\u0432\\u0430 \\u043d\\u0430 \\u043d\\u043e\\u0432\\u044b\\u0435 \\u0441\\u0432\\u0435\\u0440\\u0448\\u0435\\u043d\\u0438\\u044f.\"\n        ],\n        \"semantic_type\": \"\",\n        \"description\": \"\"\n      }\n    },\n    {\n      \"column\": \"title\",\n      \"properties\": {\n        \"dtype\": \"string\",\n        \"num_unique_values\": 15778,\n        \"samples\": [\n          \"\\u0420\\u0443\\u0431\\u043b\\u0451\\u0432 \\u043f\\u0440\\u043e\\u0438\\u0433\\u0440\\u0430\\u043b \\u0444\\u0438\\u043d\\u0430\\u043b \\u0426\\u0438\\u0446\\u0438\\u043f\\u0430\\u0441\\u0443. \\u0421\\u043b\\u0435\\u0434\\u0443\\u044e\\u0449\\u0438\\u0439 \\u043f\\u043e\\u0435\\u0434\\u0438\\u043d\\u043e\\u043a \\u0440\\u043e\\u0441\\u0441\\u0438\\u044f\\u043d\\u0438\\u043d\\u0430 \\u0431\\u0443\\u0434\\u0435\\u0442 \\u0443\\u0436\\u0435 \\u0432 \\u0410\\u0432\\u0441\\u0442\\u0440\\u0430\\u043b\\u0438\\u0438\",\n          \"\\u00ab\\u041d\\u0435 \\u0432\\u044b\\u0434\\u0432\\u0438\\u043d\\u0443 \\u043e\\u0431\\u0432\\u0438\\u043d\\u0435\\u043d\\u0438\\u0439, \\u0435\\u0441\\u043b\\u0438 \\u043f\\u043e\\u0434\\u043f\\u0438\\u0448\\u0435\\u0442 \\u043a\\u043e\\u043d\\u0442\\u0440\\u0430\\u043a\\u0442\\u00bb. \\u0425\\u0430\\u0441\\u0431\\u0438\\u043a \\u0432\\u0440\\u0435\\u0437\\u0430\\u043b \\u043e\\u043b\\u0438\\u043c\\u043f\\u0438\\u0439\\u0441\\u043a\\u043e\\u043c\\u0443 \\u0447\\u0435\\u043c\\u043f\\u0438\\u043e\\u043d\\u0443!\",\n          \"\\u042f\\u0440\\u0451\\u043c\\u0435\\u043d\\u043a\\u043e: \\u043d\\u0430\\u0434\\u0435\\u044e\\u0441\\u044c, \\u0432\\u0442\\u043e\\u0440\\u043e\\u0439 \\u043a\\u0440\\u0443\\u0433 \\u0427\\u0420 \\u0431\\u0443\\u0434\\u0435\\u0442 \\u0438\\u043d\\u0442\\u0435\\u0440\\u0435\\u0441\\u043d\\u0435\\u0435\"\n        ],\n        \"semantic_type\": \"\",\n        \"description\": \"\"\n      }\n    },\n    {\n      \"column\": \"subtitle\",\n      \"properties\": {\n        \"dtype\": \"string\",\n        \"num_unique_values\": 15758,\n        \"samples\": [\n          \"\\u0422\\u0438\\u043c\\u043e\\u0444\\u0435\\u0439 \\u041c\\u043e\\u0437\\u0433\\u043e\\u0432 \\u043f\\u043e\\u043c\\u043e\\u0433\\u0430\\u043b \\u041b\\u0435\\u0431\\u0440\\u043e\\u043d\\u0443 \\u0414\\u0436\\u0435\\u0439\\u043c\\u0441\\u0443 \\u0437\\u0430\\u0432\\u043e\\u0451\\u0432\\u044b\\u0432\\u0430\\u0442\\u044c \\u0447\\u0435\\u043c\\u043f\\u0438\\u043e\\u043d\\u0441\\u0442\\u0432\\u043e \\u0432 \\u00ab\\u041a\\u043b\\u0438\\u0432\\u043b\\u0435\\u043d\\u0434\\u0435\\u00bb, \\u0430 \\u0441\\u0435\\u0439\\u0447\\u0430\\u0441 \\u043e\\u0442 \\u043d\\u0435\\u0433\\u043e \\u043e\\u0442\\u043a\\u0430\\u0437\\u0430\\u043b\\u0438\\u0441\\u044c \\u0432 \\u043d\\u0430\\u0446\\u0438\\u043e\\u043d\\u0430\\u043b\\u044c\\u043d\\u043e\\u0439 \\u0441\\u0431\\u043e\\u0440\\u043d\\u043e\\u0439.\",\n          \"\\u0422\\u043e\\u0442 \\u0441\\u043b\\u0443\\u0447\\u0430\\u0439, \\u043a\\u043e\\u0433\\u0434\\u0430 \\u043d\\u0430\\u0448 \\u0444\\u0443\\u0442\\u0431\\u043e\\u043b \\u043f\\u0440\\u0438\\u043d\\u043e\\u0441\\u0438\\u0442 \\u0430\\u0431\\u0441\\u043e\\u043b\\u044e\\u0442\\u043d\\u043e\\u0435 \\u0441\\u0447\\u0430\\u0441\\u0442\\u044c\\u0435.\",\n          \"\\u0416\\u0435\\u0440\\u0442\\u0432\\u0430\\u043c\\u0438 \\u043a\\u043e\\u043d\\u0444\\u043b\\u0438\\u043a\\u0442\\u0430 \\u0441 \\u043f\\u0440\\u0430\\u0432\\u0438\\u0442\\u0435\\u043b\\u044c\\u0441\\u0442\\u0432\\u043e\\u043c \\u0443\\u0436\\u0435 \\u043f\\u0430\\u043b\\u0438 \\u0441\\u0435\\u043c\\u0435\\u0439\\u043d\\u044b\\u0435 \\u0443\\u0437\\u044b, \\u0430\\u043a\\u043a\\u0430\\u0443\\u043d\\u0442 \\u0432 \\u00ab\\u0442\\u0432\\u0438\\u0442\\u0442\\u0435\\u0440\\u0435\\u00bb \\u0438 \\u0433\\u0440\\u0430\\u0436\\u0434\\u0430\\u043d\\u0441\\u0442\\u0432\\u043e. \\u041d\\u0430 \\u043e\\u0447\\u0435\\u0440\\u0435\\u0434\\u0438 \\u2014 \\u0441\\u0432\\u043e\\u0431\\u043e\\u0434\\u0430.\"\n        ],\n        \"semantic_type\": \"\",\n        \"description\": \"\"\n      }\n    },\n    {\n      \"column\": \"date\",\n      \"properties\": {\n        \"dtype\": \"string\",\n        \"num_unique_values\": 15744,\n        \"samples\": [\n          \"24 \\u0430\\u0432\\u0433\\u0443\\u0441\\u0442\\u0430 2022, 20:00 \\u041c\\u0421\\u041a\",\n          \"26 \\u0438\\u044e\\u043d\\u044f 2021, 12:00 \\u041c\\u0421\\u041a\",\n          \"4 \\u043c\\u0430\\u044f 2023, 23:10 \\u041c\\u0421\\u041a\"\n        ],\n        \"semantic_type\": \"\",\n        \"description\": \"\"\n      }\n    },\n    {\n      \"column\": \"sport\",\n      \"properties\": {\n        \"dtype\": \"category\",\n        \"num_unique_values\": 7,\n        \"samples\": [\n          \"auto\",\n          \"basketball\",\n          \"tennis\"\n        ],\n        \"semantic_type\": \"\",\n        \"description\": \"\"\n      }\n    }\n  ]\n}"
            }
          },
          "metadata": {},
          "execution_count": 6
        }
      ]
    },
    {
      "cell_type": "code",
      "source": [
        "# описание столбцов:\n",
        "\n",
        "# text - статья\n",
        "# title - ее заголовок\n",
        "# subtitle - подзаголовок статьи\n",
        "# date - дата публикации (str)\n",
        "# sport - вид спорта"
      ],
      "metadata": {
        "id": "5UZXKcOZbE86"
      },
      "execution_count": null,
      "outputs": []
    },
    {
      "cell_type": "code",
      "source": [],
      "metadata": {
        "id": "XvQsWxpTbE_Q"
      },
      "execution_count": null,
      "outputs": []
    },
    {
      "cell_type": "markdown",
      "source": [
        "Нас интересуют 3 столбца: text (статья), title и subtitle. Title + subtitle и будут кратким содержанием статьи (gold standard).\n",
        "Конечно заголовок и подзаголовок статьи тянут на саммари лишь с натяжкой, но тем не менее."
      ],
      "metadata": {
        "id": "AdD8OqgBdFgj"
      }
    },
    {
      "cell_type": "code",
      "source": [
        "# соединим title & subtitle:\n",
        "data['title'] = data['title'].apply(lambda txt: txt + ' ' if txt[-1] in '.?!;' else txt + '. ')                               # ?????\n",
        "data['summary'] = data['title'] + data['subtitle']"
      ],
      "metadata": {
        "id": "q7G7jxpreFUT"
      },
      "execution_count": null,
      "outputs": []
    },
    {
      "cell_type": "code",
      "source": [
        "# вот что получилось:\n",
        "data['summary'].values[:10].tolist()"
      ],
      "metadata": {
        "colab": {
          "base_uri": "https://localhost:8080/"
        },
        "id": "IxfF_inb9yEc",
        "outputId": "2c986b5b-1a7b-4ab7-9f9a-88a1ffa128b0"
      },
      "execution_count": null,
      "outputs": [
        {
          "output_type": "execute_result",
          "data": {
            "text/plain": [
              "['10 худших команд в истории Формулы-1. От деревенских энтузиастов до «Ламборгини». Одна из команд была связана с Советским Союзом.',\n",
              " 'Норрис в «Феррари», Леклер в «Мерседесе»?! Разбираем свежие трансферные слухи. Через год Формулу-1 могут подкараулить мощнейшие перестановки.',\n",
              " 'Скучаете по шинным войнам в Формуле-1? Вот 2 причины, почему монополия неизбежна. Хэмилтон за возвращение дуэли шинников, но это лишь мечты.',\n",
              " '8 громких случаев, когда пилоты Формулы-1 покидали команду прямо по ходу сезона. Однажды «Феррари» выгнала гонщика уже после первого этапа.',\n",
              " 'Звезда IndyCar рвётся в Ф-1. Но у Палоу не получится стать новым Монтойей и Вильнёвом. Алекс, безусловно, талантлив, но выстрелить сразу у него вряд ли получится.',\n",
              " 'Действующего чемпиона затмил новичок! Оценки за Гран-при Великобритании. Макс Ферстаппен снова был совсем не идеален.',\n",
              " '«Ред Булл» выкинул чемпиона всего на свете через 10 гонок. Что это значит для рынка Ф-1? Рискованная ставка «быков» не сработала. А Перес теперь забеспокоится по-настоящему.',\n",
              " 'Развился ли у Переса комплекс и сколько гонок подряд выиграет «Ред Булл»? Разбор Гран-при. Егор Оруджев поражается рывку «Макларена» и разбирает поведение гонщиков «Феррари».',\n",
              " 'Взлёт «Макларена» — оплеуха по «Мерседесу» и «Феррари». 5 главных итогов ГП Великобритании. Ждём новых разборок в «Альпин». А в логичность судейских решений уже не верим.',\n",
              " 'Кто худший гонщик Гран-при Великобритании Формулы-1? Хельмут Марко будет недоволен: среди участников опроса сразу три его гонщика.']"
            ]
          },
          "metadata": {},
          "execution_count": 8
        }
      ]
    },
    {
      "cell_type": "code",
      "source": [],
      "metadata": {
        "id": "E792MBhlmYDt"
      },
      "execution_count": null,
      "outputs": []
    },
    {
      "cell_type": "markdown",
      "source": [
        "### Анализ текстов:"
      ],
      "metadata": {
        "id": "fdsbN_sKpa_3"
      }
    },
    {
      "cell_type": "code",
      "source": [
        "import nltk\n",
        "nltk.download('punkt')"
      ],
      "metadata": {
        "colab": {
          "base_uri": "https://localhost:8080/"
        },
        "id": "SdScYgX8fDl8",
        "outputId": "e73d3820-f365-4bbc-abd6-bbd25a866217"
      },
      "execution_count": null,
      "outputs": [
        {
          "output_type": "stream",
          "name": "stderr",
          "text": [
            "[nltk_data] Downloading package punkt to /root/nltk_data...\n",
            "[nltk_data]   Unzipping tokenizers/punkt.zip.\n"
          ]
        },
        {
          "output_type": "execute_result",
          "data": {
            "text/plain": [
              "True"
            ]
          },
          "metadata": {},
          "execution_count": 9
        }
      ]
    },
    {
      "cell_type": "code",
      "source": [
        "%%time\n",
        "# кол-во слов (токенов) в статьях:\n",
        "data['text_num_tok'] = data['text'].apply(lambda txt: len(nltk.word_tokenize(txt)))\n",
        "\n",
        "# кол-во слов (токенов) в саммари:\n",
        "data['summary_num_tok'] = data['summary'].apply(lambda txt: len(nltk.word_tokenize(txt)))"
      ],
      "metadata": {
        "colab": {
          "base_uri": "https://localhost:8080/"
        },
        "id": "ZDPj9lsodAX7",
        "outputId": "0f1f0208-3bb4-479e-bb50-67ff8a9abd9b"
      },
      "execution_count": null,
      "outputs": [
        {
          "output_type": "stream",
          "name": "stdout",
          "text": [
            "CPU times: user 2min 16s, sys: 348 ms, total: 2min 16s\n",
            "Wall time: 2min 20s\n"
          ]
        }
      ]
    },
    {
      "cell_type": "code",
      "source": [
        "plt.figure(figsize=(10, 4))\n",
        "\n",
        "plt.subplot(121)\n",
        "plt.title('Гистограмма кол-ва токенов в статьях')\n",
        "plt.hist(data['text_num_tok'], bins=100)\n",
        "plt.xlabel('# токенов')\n",
        "plt.ylabel('частота')\n",
        "\n",
        "plt.subplot(122)\n",
        "plt.title('Гистограмма кол-ва токенов в саммари')\n",
        "plt.hist(data['summary_num_tok'], bins=15)\n",
        "plt.xlabel('# токенов')\n",
        "plt.ylabel('частота');"
      ],
      "metadata": {
        "colab": {
          "base_uri": "https://localhost:8080/",
          "height": 410
        },
        "id": "XX9FtkM4hhR7",
        "outputId": "f4fd9c2e-e509-4b0f-9533-d28b9cd4efff"
      },
      "execution_count": null,
      "outputs": [
        {
          "output_type": "display_data",
          "data": {
            "text/plain": [
              "<Figure size 1000x400 with 2 Axes>"
            ],
            "image/png": "[encoded data removed]"
          },
          "metadata": {}
        }
      ]
    },
    {
      "cell_type": "markdown",
      "source": [
        "Ого, похоже у них работают фанаты Льва Николаевича... Исключим лонгриды"
      ],
      "metadata": {
        "id": "cXw9ZkN3mkZm"
      }
    },
    {
      "cell_type": "code",
      "source": [
        "# квантиль 0.995:\n",
        "q995 = round(data['text_num_tok'].quantile(0.995))\n",
        "print('квантиль 0.995:', q995)\n",
        "\n",
        "# исключим лонгриды:\n",
        "mask = data['text_num_tok'] <= q995\n",
        "\n",
        "plt.figure(figsize=(6, 4))\n",
        "plt.title('Гистограмма кол-ва токенов в статьях*')\n",
        "plt.hist(data.loc[mask, 'text_num_tok'], bins=100)\n",
        "plt.xlabel('# токенов')\n",
        "plt.ylabel('частота');"
      ],
      "metadata": {
        "colab": {
          "base_uri": "https://localhost:8080/",
          "height": 427
        },
        "id": "Rn5Tkk4WiHGq",
        "outputId": "9a80a1f2-e701-499d-85e4-78360dea218c"
      },
      "execution_count": null,
      "outputs": [
        {
          "output_type": "stream",
          "name": "stdout",
          "text": [
            "квантиль 0.995: 4228\n"
          ]
        },
        {
          "output_type": "display_data",
          "data": {
            "text/plain": [
              "<Figure size 600x400 with 1 Axes>"
            ],
            "image/png": "[encoded data removed]"
          },
          "metadata": {}
        }
      ]
    },
    {
      "cell_type": "markdown",
      "source": [
        "Длинные статьи будут обрезаться при токенизации, поэтому не переживаем за них. Посмотрим на самые короткие:"
      ],
      "metadata": {
        "id": "lwqnmQuLmwzM"
      }
    },
    {
      "cell_type": "code",
      "source": [
        "# квантиль 1%:\n",
        "q01 = round(data['text_num_tok'].quantile(0.01))\n",
        "print('квантиль 0.01:', q01)\n",
        "print()\n",
        "\n",
        "mask = data['text_num_tok'] <= q01\n",
        "short_texts = data.loc[mask, ['text']].values.tolist()\n",
        "\n",
        "# выберем 15 рандомных 'коротышей':\n",
        "random_idx = np.random.choice(np.arange(len(short_texts)), size=15 ,replace=False)\n",
        "for i in random_idx:\n",
        "  print(short_texts[i][0])\n",
        "  print()"
      ],
      "metadata": {
        "colab": {
          "base_uri": "https://localhost:8080/"
        },
        "id": "jVqAZwW2i1oC",
        "outputId": "36040a2b-63b3-41b3-e69b-722e235c04ab"
      },
      "execution_count": null,
      "outputs": [
        {
          "output_type": "stream",
          "name": "stdout",
          "text": [
            "квантиль 0.01: 227\n",
            "\n",
            "26 февраля в Эр-Рияде (Саудовская Аравия) состоится грандиозный боксёрский вечер. В главном бою сразятся Джейк Пол и Томми Фьюри. Американец является известным блогером, но успел набить приличный рекорд в боксе – 6-0. Британец имеет более весомую статистику – 8-0. Он является профессиональным боксёром и братом легендарного Тайсона Фьюри.\n",
            "Боксёрский вечер с главным боем Джейка Пола и Томми Фьюри стартует в 22:00 по Москве.\n",
            "Официального эфира в России не планируется, но «Чемпионат» максимально полно осветит все самые интересные события боксёрского вечера.\n",
            "Прогнозом на бой поделился сам чемпион WBC в супертяжёлом весе Тайсон Фьюри: «Не думаю, что бой получится быстрым. Думаю, он его измотает. Это восемь раундов, поэтому я думаю, что Томми сможет измотать его и нокаутировать в последних раундах.\n",
            "Как только Томми нанесёт ему несколько сильных ударов, я посмотрю, из чего сделан Джейк Пол. Потому что, когда Томми наносит мне сильные удары, надев большие перчатки, мне становится больно. Я знаю, что Джейк не такой крепкий, как я, и не такой большой, как я, так что он определённо будет чувствовать боль, и немалую».\n",
            "\n",
            "Длинная летняя пауза в Формуле-1 между Гран-при Венгрии и легендарной гонкой на трассе «Спа-Франкоршам» — идеальный момент для разного рода развлекательных материалов. Например, для модных в последнее время квизов, в которых читателям предлагают угадать спортсмена по деталям его биографии. Вот и мы выбрали для вас 15 гонщиков чемпионата мира, которых предлагаем угадать.\n",
            "Не беспокойтесь: в нашей викторине нет ни одного пилота, чья карьера в Формуле-1 завершилась раньше второй половины 90-х годов. Так что справиться реально, тем более среди отобранных гонщиков есть и настоящие легенды. Поехали!\n",
            "Если у вас не грузится квиз, вы можете пройти его по прямой ссылке:Квиз: угадайте гонщика Формулы-1 по всем его командам. \n",
            "\n",
            "Все мы родом из детства. Чемпионский характер закладывается в самом раннем возрасте. Юные теннисисты почти с пелёнок начинают много тренироваться, постигать азы мастерства. И если посмотреть на старые семейные фото звёзд тенниса, то можно заметить, как горят глаза этих, казалось бы, простых мальчишек и девчонок.\n",
            "«Чемпионат» подготовил для вас забавный тест – мы постарались подобрать 10 интересных ретрофотографий. На них изображены будущие чемпионы, в том числе и герои прошедшего Australian Open – 2023. Интересно, узнаете ли вы в этих милых открытых детских лицах известных сегодня на весь мир теннисистов и теннисисток? Попробуйте угадать, как выглядели в детстве Новак Джокович и Арина Соболенко. В любом случае будет весело.\n",
            "Если у вас не грузится тест, вы можете пройти его по ссылке: Тест: Звёзды тенниса на детских фото\n",
            "\n",
            "20-й тур РПЛ получился максимально контрастным в плане судейства. В некоторых матчах арбитры отработали идеально, а в других допустили грубые ошибки и спровоцировали скандал. «Чемпионат» следит за судейством в нашем чемпионате и традиционно публикует обновлённую таблицу с недочётами на основе экспертизы Игоря Федотова.\n",
            "Важное уточнение: в таблице не учитываются ошибки по мелким фолам или первым жёлтым карточкам в матче (показанным или нет). Мы считаем:\n",
            "Кирилл Левников\n",
            "Хронология событий всегда важна, поэтому ниже вы можете ознакомиться с изменениями в таблице ошибок на протяжении предыдущих туров РПЛ:\n",
            "В прошедшем туре арбитры допустили три грубые ошибки. Сильнее всего досталось «Локомотиву», который, несмотря на волевую победу над «Краснодаром», дважды за матч пострадал от решений Кирилла Левникова.\n",
            "«Игрок самарцев принял мяч на грудь, после чего соперник напрыгнул на него сзади и попал ногой в спину. Началась проверка, Шафеев почему-то дал сигнал в виде монитора и закончил игру. Арбитры показывают монитор только после фактического нарушения правил, и, раз уж Шафеев сделал это, он должен пойти и посмотреть. Может быть, ему здесь помешало волнение».\n",
            "Подробный разбор судейства во всех восьми матчах 20-го тура РПЛ от Игоря Федотова можно прочитать по ссылке ниже.\n",
            "\n",
            "Судьба Василия Кандинского (1866–1944) замысловата. Достаточно уже того, что путь живописца он выбрал в 30 лет – поздно по тем временам. С детства он, конечно, занимался рисованием, проводил смелые эксперименты с формой и цветом, однако не получал признания. Зато выучился на юриста и стал директором типографии «Товарищества И. Н. Кушнерёва и К°» в Москве. Одним из переломных моментов была выставка работ французских художников в 1896 году. Там Кандинского впечатлил «Стог сена» Клода Моне: «Смутно чувствовалось мне, что в этой картине нет предмета. С удивлением и смущением замечал я, однако, что картина эта волнует и покоряет, неизгладимо врезывается в память и вдруг неожиданно так и встанет перед глазами до мельчайших подробностей». В общем, Кандинский решился возобновить обучение – сначала в Москве, затем в Мюнхене. Много путешествовал по Европе, был в Северной Африке и неминуемо шёл к своему стилю – Кандинский будет среди основоположников абстракционизма.\n",
            "Все «картины» подписаны, кроме того, вы можете поставить лайк или дизлайк. Чтобы начать просмотр галереи, нажмите на любую иллюстрацию.\n",
            "\n",
            "Во время небольшой паузы в нынешнем сезоне Формулы-1, разделяющей этапы в Майами и Барселоне, предлагаем вам, читатели, ещё один квиз про гонки. Задание вроде бы простое: нужно расставить по порядку нынешних боевых пилотов чемпионата мира — от самого старшего до самого младшего.\n",
            "В расчёт берём лишь текущую двадцатку гонщиков, исключая резервистов (Нико Хюлькенберг, прости) и тех, кто потерял место (увы, Никита Мазепин). Квиз вроде не самый сложный, но пока вы не угадаете очередного пилота, то не сможете перейти к следующему в списке. А время между тем может начать поджимать… Испытайте себя!\n",
            "Если у вас не грузится тест, вы можете пройти его по ссылке:Сможете расставить боевых пилотов Формулы-1 по возрасту?\n",
            "\n",
            "На 13-й минуте «серебряного» матча 30-го тура ЦСКА – «Ростов» произошёл спорный момент. Нападающий Фёдор Чалов ворвался в штрафную и начал финтить – попытался обыграть полузащитника Александра Селяву. но тот не позволил. Чалов упал на газон, но свисток главного арбитра матча Павла Кукуяна промолчал. А вот Евгений Турбин позвал его посмотреть повтор.\n",
            "Павел Кукуян посмотрел момент на мониторе и после проверки указал на «точку». И ещё показал жёлтую Селяве.\n",
            "ЦСКА — «Ростов»\n",
            "ЦСКА — «Ростов»\n",
            "Но действительно ли этот фол был на пенальти? Разбирает Игорь Федотов ⬇️\n",
            "– Пенальти в ворота «Ростова» в игре с ЦСКА назначен ошибочно, – считает арбитр, – Селява тянулся к мячу, да, не успел, и был наступ. Но разве было безрассудное действие? Это игровой контакт. Кукуян был в идеальной позиции, изначально принял правильное решение, но Турбин зачем-то влез. Хотя это точно не явная и очевидная ошибка. Я вообще не понимаю, что исполняют судьи.\n",
            "\n",
            "Команда «Ред Булл» не стала тянуть с подтверждением состава на следующий сезон. Буквально через пару дней после победы Серхио Переса «быки» объявили о продлении контракта с мексиканским пилотом, причём сразу на два сезона.\n",
            "Таким образом, вакансии на 2023 год закрыты уже во всех трёх топ-командах. Однако интриг всё ещё хватает: останутся ли в Формуле-1 чемпионы Алонсо и Феттель, не разорвут ли контракт с Риккардо и будет ли у Роберта Шварцмана хотя бы теоретический шанс стать боевым пилотом, если «Хаас» не сохранит Мика Шумахера? Пусть и выступать воспитанник «Феррари» в таком случае наверняка будет под лицензией Израиля.Составы команд Формулы-1 на сезон-2023. Версия от 31 мая 2022 года:\n",
            "Свежие изменения в таблице помечены курсивом.\n",
            "\n",
            "Нападающий «Реала» Карим Бензема оформил хет-трик в ворота «Вальядолида» в матче 27-го тура чемпионата Испании. На это французу понадобилось семь минут. Оказывается, никогда прежде форвард не забивал столько в первом тайме.\n",
            "Бензема забил все голы в первом тайме – до того форвард никогда не оформлял хет-трик в данный временной период. Карим отметился забитыми мячами на 29-й, 32-й и 36-й минутах встречи. До него счёт в матче открыл Родриго (на 22-й минуте).\n",
            "В случае с первым голом Бензема замкнул прострел Винисиуса – красиво в падении практически рыбкой!\n",
            "Следующий гол Карим придумал сам: разогнал атаку из середины с двумя партнёрами, убрал на замахе соперника и зарядил из-за пределов штрафной в дальний угол.\n",
            "Ну а третий гол получился уникальным. Родриго справа вошёл в штрафную и навесил во вратарскую, где габаритный Бензема продемонстрировал чудеса акробатики. Француз пробил через себя!\n",
            "Благодаря этому хет-трику нападающий довёл личный бомбардирский счёт в этом сезоне до 22 голов в 29 встречах.\n",
            "\n",
            "Удивительно, но в этом сезоне из топ-5 лиг чемпионская интрига до последнего держится только в Германии. В Италии с чемпионом всё стало понятно уже давно, во Франции «ПСЖ», несмотря на не самый удачный отрезок весной, практически обеспечил себе золото, в Англии «Манчестер Сити» снёс «Арсенал» с первого места ещё в конце апреля, в Испании все вопросы заранее решила «Барса».\n",
            "А в Германии дрогнула «Бавария». Которая 10 лет уверенно держала за собой первое место. Обладатель «серебряной салатницы» определится в самой концовке сезона. «Боруссия» или «Бавария» – решится уже в субботу, а пока мы предлагаем вам вспомнить, кто за 10 лет гегемонии мюнхенского клуба становился вторым.\n",
            "Условия теста максимально просты: каждый вопрос = сезон. Указать нужно только ту команду, которая стала вице-чемпионом.\n",
            "\n",
            "Предпоследний тур РПЛ не обошёлся без спорных судейских решений. Однако грубых ошибок было всего две, и обе пришлись на один матч. «Чемпионат» обновляет таблицу судейских косяков на основе экспертизы Игоря Федотова.\n",
            "Важное уточнение: в таблице не учитываются ошибки по мелким фолам или первым жёлтым карточкам в матче (показанным или нет). Мы считаем:\n",
            "Ян Бобровский ошибочно удалил Артёма Самсонова\n",
            "Мы отслеживаем ошибки с 1-го тура, поэтому у вас есть возможность ознакомиться с хронологией:\n",
            "В минувшем туре со знаком минус отметился Ян Бобровский. Этот арбитр совершил сразу две грубые ошибки в матче «Торпедо» — «Оренбург».\n",
            "«Бобровский неверно показал вторую жёлтую карточку Самсонову. Тот если и сделал наступ, то максимум на ноготь большого пальца. Изначально у Самсонова пятка встала на газон, и только потом, когда он начал ставить ногу, произошёл лёгкий контакт. Но ни о какой жёлтой здесь речи быть не может».\n",
            "\n",
            "В подмосковных Мытищах в рамках 28-го тура Евролиги «Химки» обыграли турецкий «Фенербахче». Главной интригой этого матча была даже не сама необходимость обыграть команду из Стамбула, а сделать это с преимуществом более чем в 13 очков. В первой игре в Турции химчане уступили именно с такой разницей.\n",
            "Большую часть встречи российская дружина лидировала в счёте, а в концовке сумела оставить на табло нужный итог – 82:68. Лучшим в составе «Химок» был Алексей Швед. На счету лидера российской дружины 23 очка, один подбор и 6 результативных передач при коэффициенте полезности +24. Значительный вклад в успех химчан внесли Дэвин Букер, Янис Тимма и Томас Робинсон. Подробнее в нашем отчёте об этой встрече.\n",
            "После этой яркой победы дружина Римаса Куртинайтиса поднялась в турнирной таблице на 7 место и значительно улучшила шансы на попадание в плей-офф Евролиги.\n",
            "Предлагаем вам фоторепортаж Дмитрия Голубовича с этого напряжённого и яркого матча.\n",
            "\n",
            "До нового сезона осталось всего ничего – уже через месяц стартует новый розыгрыш Кубка России. По сравнению с прошлым сезоном произошли некоторые изменения в формате: теперь финал Пути регионов будет состоять из одного матча, а команда, проигравшая в финале Пути РПЛ, покинет турнир, а не сыграет с победителем финала Пути регионов. На этом всё, в остальном всё будет так же.\n",
            "Кратко напомним, как устроены правила Кубка России:\n",
            "Сегодня прошла жеребьёвка нового розыгрыша – представляем вам все корзины ниже.\n",
            "ЦСКА «Оренбург» «Сочи» «Факел»\n",
            "«Ростов» «Локомотив» «Урал» «Рубин»\n",
            "«Зенит» «Ахмат» «Крылья Советов» «Балтика»\n",
            "«Спартак» «Краснодар» «Динамо» «Пари НН»\n",
            "Группа D выглядит самой мощной: здесь сразу три топ-клуба. Расписание же матчей появится позднее.\n",
            "\n",
            "Перед Новым годом мы предложили проверить, хорошо ли вы знаете родословные нынешних команд Формулы-1. Кому-то испытание показалось довольно сложным, а кто-то прошёлся по нему, как «Мерседес» по соперникам. Для последних мы подготовили ещё один тест – посложнее.\n",
            "В 90-х в Ф-1 было полным-полно маленьких команд, которые заглядывали в чемпионат на сезон-два (а кто-то, как «Лола», даже ни разу не пробился на старт). «Лярусс», «Форти», «Пасифик», «Симтек»… Все они были рады любым деньгам от спонсоров, а потому часто выглядели пестрее новогодних ёлок (и не прочь были полностью менять цветовую гамму хоть каждый сезон). В эту же компанию попали доживавшие свой век легендарные «Лотус», «Тиррелл», «Брэбем». Вам хорошо знакомы эти названия (и всплывают ли в вашей памяти пёстрые ливреи)? Тогда – вперёд!\n",
            "Если у вас не отображается тест, перейдите по этой ссылке.\n",
            "\n",
            "10 июня в Москве на площадке «Ледового дворца ВТБ» ЦСКА переиграл «Химки» в финальном матче «Финала четырёх» Единой лиги ВТБ и стал победителем турнира. Встреча завершилась со счётом 95:84. Фоторепортаж из чемпионской раздевалки подготовлен специальным фотокорреспондентом «Чемпионата» Дмитрием Голубовичем.\n",
            "Смотрите также фоторепортаж с матча и церемонии награждения.\n",
            "\n"
          ]
        }
      ]
    },
    {
      "cell_type": "markdown",
      "source": [
        "Короткие статьи выглядят нормально. Теперь посмотрим на корреляцию между длиной статьи и саммари:"
      ],
      "metadata": {
        "id": "o0P2ScrGnTAe"
      }
    },
    {
      "cell_type": "code",
      "source": [
        "# исключим лонгриды:\n",
        "mask = data['text_num_tok'] <= q995\n",
        "\n",
        "plt.figure(figsize=(14, 5))\n",
        "ax1 = plt.subplot(121)\n",
        "sns.regplot(data=data[mask],\n",
        "            x='text_num_tok',\n",
        "            y='summary_num_tok',\n",
        "            ax=ax1)\n",
        "plt.title('Корреляция между длиной статьи и саммари')\n",
        "\n",
        "# длина статьи в разрезе по видам спорта:\n",
        "ax2 = plt.subplot(122)\n",
        "sns.boxplot(data=data[mask],\n",
        "            x='sport',\n",
        "            y='text_num_tok',\n",
        "            ax=ax2);"
      ],
      "metadata": {
        "colab": {
          "base_uri": "https://localhost:8080/",
          "height": 469
        },
        "id": "SjlLtyfOeVR0",
        "outputId": "09501614-fa5c-4a19-8212-58a97336ba05"
      },
      "execution_count": null,
      "outputs": [
        {
          "output_type": "display_data",
          "data": {
            "text/plain": [
              "<Figure size 1400x500 with 2 Axes>"
            ],
            "image/png": "[encoded data removed]"
          },
          "metadata": {}
        }
      ]
    },
    {
      "cell_type": "markdown",
      "source": [
        "Корреляция присутствует, но не очень сильная. По каждому виду спорта встречаются весьма длинные тексты. В целом про бокс статьи существенно короче."
      ],
      "metadata": {
        "id": "BuF2thMin6h9"
      }
    },
    {
      "cell_type": "markdown",
      "source": [
        "Теперь соберем все символы встречающиеся в текстах:"
      ],
      "metadata": {
        "id": "Pyrv2gsNoHTz"
      }
    },
    {
      "cell_type": "code",
      "source": [
        "all_chars = set()  # все символы\n",
        "\n",
        "for txt in data['text'].values:\n",
        "  chars = set(txt)\n",
        "  all_chars.update(chars)\n",
        "\n",
        "for txt in data['summary'].values:\n",
        "  chars = set(txt)\n",
        "  all_chars.update(chars)"
      ],
      "metadata": {
        "id": "drAYj3fmdAaj"
      },
      "execution_count": null,
      "outputs": []
    },
    {
      "cell_type": "code",
      "source": [
        "print('всего символов:', len(all_chars))"
      ],
      "metadata": {
        "colab": {
          "base_uri": "https://localhost:8080/"
        },
        "id": "qN-0z6fNd8cM",
        "outputId": "e375ad2e-b607-4c54-afb3-7089bc4a9e43"
      },
      "execution_count": null,
      "outputs": [
        {
          "output_type": "stream",
          "name": "stdout",
          "text": [
            "всего символов: 588\n"
          ]
        }
      ]
    },
    {
      "cell_type": "code",
      "source": [
        "# красота, давайте посмотрим на них:\n",
        "all_chars"
      ],
      "metadata": {
        "colab": {
          "base_uri": "https://localhost:8080/"
        },
        "id": "wK3rOIFHrpJ2",
        "outputId": "da9eba2f-28b2-4178-e3c8-c7ef7042d894"
      },
      "execution_count": null,
      "outputs": [
        {
          "output_type": "execute_result",
          "data": {
            "text/plain": [
              "{'\\n',\n",
              " '\\r',\n",
              " ' ',\n",
              " '!',\n",
              " '\"',\n",
              " '#',\n",
              " '$',\n",
              " '%',\n",
              " '&',\n",
              " \"'\",\n",
              " '(',\n",
              " ')',\n",
              " '*',\n",
              " '+',\n",
              " ',',\n",
              " '-',\n",
              " '.',\n",
              " '/',\n",
              " '0',\n",
              " '1',\n",
              " '2',\n",
              " '3',\n",
              " '4',\n",
              " '5',\n",
              " '6',\n",
              " '7',\n",
              " '8',\n",
              " '9',\n",
              " ':',\n",
              " ';',\n",
              " '<',\n",
              " '=',\n",
              " '>',\n",
              " '?',\n",
              " '@',\n",
              " 'A',\n",
              " 'B',\n",
              " 'C',\n",
              " 'D',\n",
              " 'E',\n",
              " 'F',\n",
              " 'G',\n",
              " 'H',\n",
              " 'I',\n",
              " 'J',\n",
              " 'K',\n",
              " 'L',\n",
              " 'M',\n",
              " 'N',\n",
              " 'O',\n",
              " 'P',\n",
              " 'Q',\n",
              " 'R',\n",
              " 'S',\n",
              " 'T',\n",
              " 'U',\n",
              " 'V',\n",
              " 'W',\n",
              " 'X',\n",
              " 'Y',\n",
              " 'Z',\n",
              " '[',\n",
              " '\\\\',\n",
              " ']',\n",
              " '^',\n",
              " '_',\n",
              " '`',\n",
              " 'a',\n",
              " 'b',\n",
              " 'c',\n",
              " 'd',\n",
              " 'e',\n",
              " 'f',\n",
              " 'g',\n",
              " 'h',\n",
              " 'i',\n",
              " 'j',\n",
              " 'k',\n",
              " 'l',\n",
              " 'm',\n",
              " 'n',\n",
              " 'o',\n",
              " 'p',\n",
              " 'q',\n",
              " 'r',\n",
              " 's',\n",
              " 't',\n",
              " 'u',\n",
              " 'v',\n",
              " 'w',\n",
              " 'x',\n",
              " 'y',\n",
              " 'z',\n",
              " '|',\n",
              " '~',\n",
              " '\\xa0',\n",
              " '¡',\n",
              " '£',\n",
              " '©',\n",
              " '«',\n",
              " '¬',\n",
              " '\\xad',\n",
              " '¯',\n",
              " '°',\n",
              " '²',\n",
              " '·',\n",
              " 'º',\n",
              " '»',\n",
              " '¼',\n",
              " '½',\n",
              " '¾',\n",
              " 'É',\n",
              " 'Ë',\n",
              " '×',\n",
              " 'Ü',\n",
              " 'ß',\n",
              " 'à',\n",
              " 'á',\n",
              " 'ã',\n",
              " 'ä',\n",
              " 'ç',\n",
              " 'è',\n",
              " 'é',\n",
              " 'ë',\n",
              " 'í',\n",
              " 'ñ',\n",
              " 'ó',\n",
              " 'ô',\n",
              " 'õ',\n",
              " 'ö',\n",
              " '÷',\n",
              " 'ú',\n",
              " 'ü',\n",
              " 'ė',\n",
              " 'ĸ',\n",
              " 'Ł',\n",
              " 'ł',\n",
              " 'Š',\n",
              " 'ū',\n",
              " 'ų',\n",
              " 'ž',\n",
              " '́',\n",
              " '̆',\n",
              " '̶',\n",
              " 'ε',\n",
              " 'ι',\n",
              " 'κ',\n",
              " 'ο',\n",
              " 'ρ',\n",
              " 'ς',\n",
              " 'Ё',\n",
              " 'Ѕ',\n",
              " 'Ї',\n",
              " 'Ј',\n",
              " 'Џ',\n",
              " 'А',\n",
              " 'Б',\n",
              " 'В',\n",
              " 'Г',\n",
              " 'Д',\n",
              " 'Е',\n",
              " 'Ж',\n",
              " 'З',\n",
              " 'И',\n",
              " 'Й',\n",
              " 'К',\n",
              " 'Л',\n",
              " 'М',\n",
              " 'Н',\n",
              " 'О',\n",
              " 'П',\n",
              " 'Р',\n",
              " 'С',\n",
              " 'Т',\n",
              " 'У',\n",
              " 'Ф',\n",
              " 'Х',\n",
              " 'Ц',\n",
              " 'Ч',\n",
              " 'Ш',\n",
              " 'Щ',\n",
              " 'Ъ',\n",
              " 'Ы',\n",
              " 'Ь',\n",
              " 'Э',\n",
              " 'Ю',\n",
              " 'Я',\n",
              " 'а',\n",
              " 'б',\n",
              " 'в',\n",
              " 'г',\n",
              " 'д',\n",
              " 'е',\n",
              " 'ж',\n",
              " 'з',\n",
              " 'и',\n",
              " 'й',\n",
              " 'к',\n",
              " 'л',\n",
              " 'м',\n",
              " 'н',\n",
              " 'о',\n",
              " 'п',\n",
              " 'р',\n",
              " 'с',\n",
              " 'т',\n",
              " 'у',\n",
              " 'ф',\n",
              " 'х',\n",
              " 'ц',\n",
              " 'ч',\n",
              " 'ш',\n",
              " 'щ',\n",
              " 'ъ',\n",
              " 'ы',\n",
              " 'ь',\n",
              " 'э',\n",
              " 'ю',\n",
              " 'я',\n",
              " 'ё',\n",
              " 'і',\n",
              " 'Қ',\n",
              " 'қ',\n",
              " 'Ҥ',\n",
              " 'Ҫ',\n",
              " 'Ԡ',\n",
              " 'ύ',\n",
              " '\\u200b',\n",
              " '\\u200d',\n",
              " '\\u200e',\n",
              " '‐',\n",
              " '‑',\n",
              " '‒',\n",
              " '–',\n",
              " '—',\n",
              " '―',\n",
              " '‘',\n",
              " '’',\n",
              " '‚',\n",
              " '“',\n",
              " '”',\n",
              " '„',\n",
              " '•',\n",
              " '…',\n",
              " '\\u2028',\n",
              " '′',\n",
              " '⁉',\n",
              " '€',\n",
              " '⃣',\n",
              " '№',\n",
              " 'ℹ',\n",
              " '↑',\n",
              " '→',\n",
              " '↓',\n",
              " '↔',\n",
              " '↕',\n",
              " '↗',\n",
              " '↩',\n",
              " '↪',\n",
              " '−',\n",
              " '∙',\n",
              " '⏰',\n",
              " '⏳',\n",
              " '⏸',\n",
              " '⏹',\n",
              " '▲',\n",
              " '▶',\n",
              " '▼',\n",
              " '●',\n",
              " '☄',\n",
              " '★',\n",
              " '☆',\n",
              " '☑',\n",
              " '☕',\n",
              " '☝',\n",
              " '☹',\n",
              " '☺',\n",
              " '♀',\n",
              " '♂',\n",
              " '⚔',\n",
              " '⚖',\n",
              " '⚠',\n",
              " '⚡',\n",
              " '⚪',\n",
              " '⚫',\n",
              " '⚽',\n",
              " '⛔',\n",
              " '⛸',\n",
              " '✅',\n",
              " '✈',\n",
              " '✊',\n",
              " '✋',\n",
              " '✌',\n",
              " '✍',\n",
              " '✏',\n",
              " '✒',\n",
              " '✔',\n",
              " '✖',\n",
              " '✨',\n",
              " '❄',\n",
              " '❌',\n",
              " '❓',\n",
              " '❗',\n",
              " '❤',\n",
              " '➕',\n",
              " '➡',\n",
              " '⠀',\n",
              " '⤵',\n",
              " '⬆',\n",
              " '⬇',\n",
              " '⭐',\n",
              " 'ツ',\n",
              " '️',\n",
              " '🆓',\n",
              " '🆕',\n",
              " '🇦',\n",
              " '🇧',\n",
              " '🇨',\n",
              " '🇩',\n",
              " '🇪',\n",
              " '🇫',\n",
              " '🇬',\n",
              " '🇭',\n",
              " '🇮',\n",
              " '🇯',\n",
              " '🇰',\n",
              " '🇱',\n",
              " '🇲',\n",
              " '🇳',\n",
              " '🇵',\n",
              " '🇷',\n",
              " '🇸',\n",
              " '🇹',\n",
              " '🇺',\n",
              " '🇻',\n",
              " '🇽',\n",
              " '🇾',\n",
              " '🌊',\n",
              " '🌍',\n",
              " '🌧',\n",
              " '🍀',\n",
              " '🍉',\n",
              " '🍕',\n",
              " '🍞',\n",
              " '🍺',\n",
              " '🍽',\n",
              " '🍾',\n",
              " '🍿',\n",
              " '🎂',\n",
              " '🎆',\n",
              " '🎉',\n",
              " '🎊',\n",
              " '🎓',\n",
              " '🎙',\n",
              " '🎞',\n",
              " '🎤',\n",
              " '🎥',\n",
              " '🎫',\n",
              " '🎬',\n",
              " '🎶',\n",
              " '🏀',\n",
              " '🏁',\n",
              " '🏅',\n",
              " '🏆',\n",
              " '🏎',\n",
              " '🏟',\n",
              " '🏴',\n",
              " '🏻',\n",
              " '🏼',\n",
              " '🐂',\n",
              " '🐈',\n",
              " '🐎',\n",
              " '🐝',\n",
              " '🐯',\n",
              " '👀',\n",
              " '👆',\n",
              " '👇',\n",
              " '👈',\n",
              " '👉',\n",
              " '👊',\n",
              " '👋',\n",
              " '👌',\n",
              " '👍',\n",
              " '👎',\n",
              " '👏',\n",
              " '👑',\n",
              " '👔',\n",
              " '👕',\n",
              " '👟',\n",
              " '👥',\n",
              " '👨',\n",
              " '👩',\n",
              " '👮',\n",
              " '👶',\n",
              " '👽',\n",
              " '💃',\n",
              " '💔',\n",
              " '💙',\n",
              " '💡',\n",
              " '💣',\n",
              " '💤',\n",
              " '💥',\n",
              " '💧',\n",
              " '💨',\n",
              " '💪',\n",
              " '💫',\n",
              " '💬',\n",
              " '💭',\n",
              " '💰',\n",
              " '💲',\n",
              " '💶',\n",
              " '💸',\n",
              " '💻',\n",
              " '💼',\n",
              " '📄',\n",
              " '📅',\n",
              " '📆',\n",
              " '📈',\n",
              " '📊',\n",
              " '📋',\n",
              " '📌',\n",
              " '📍',\n",
              " '📑',\n",
              " '📛',\n",
              " '📜',\n",
              " '📝',\n",
              " '📢',\n",
              " '📯',\n",
              " '📰',\n",
              " '📱',\n",
              " '📷',\n",
              " '📸',\n",
              " '📹',\n",
              " '📺',\n",
              " '🔁',\n",
              " '🔃',\n",
              " '🔄',\n",
              " '🔊',\n",
              " '🔔',\n",
              " '🔙',\n",
              " '🔚',\n",
              " '🔛',\n",
              " '🔜',\n",
              " '🔝',\n",
              " '🔟',\n",
              " '🔥',\n",
              " '🔴',\n",
              " '🔵',\n",
              " '🕋',\n",
              " '🕑',\n",
              " '🕓',\n",
              " '🕔',\n",
              " '🕕',\n",
              " '🕖',\n",
              " '🕗',\n",
              " '🕘',\n",
              " '🕙',\n",
              " '🕚',\n",
              " '🕛',\n",
              " '🕝',\n",
              " '🕟',\n",
              " '🕡',\n",
              " '🕢',\n",
              " '🕣',\n",
              " '🕤',\n",
              " '🕦',\n",
              " '🕯',\n",
              " '🕺',\n",
              " '🖊',\n",
              " '🖥',\n",
              " '🖼',\n",
              " '🗓',\n",
              " '🗞',\n",
              " '🗣',\n",
              " '😀',\n",
              " '😁',\n",
              " '😂',\n",
              " '😃',\n",
              " '😄',\n",
              " '😅',\n",
              " '😉',\n",
              " '😊',\n",
              " '😋',\n",
              " '😍',\n",
              " '😎',\n",
              " '😏',\n",
              " '😐',\n",
              " '😒',\n",
              " '😔',\n",
              " '😕',\n",
              " '😖',\n",
              " '😞',\n",
              " '😟',\n",
              " '😡',\n",
              " '😢',\n",
              " '😥',\n",
              " '😦',\n",
              " '😧',\n",
              " '😨',\n",
              " '😩',\n",
              " '😪',\n",
              " '😫',\n",
              " '😬',\n",
              " '😭',\n",
              " '😮',\n",
              " '😯',\n",
              " '😰',\n",
              " '😱',\n",
              " '😲',\n",
              " '😳',\n",
              " '😴',\n",
              " '😵',\n",
              " '😶',\n",
              " '🙁',\n",
              " '🙃',\n",
              " '🙄',\n",
              " '🙅',\n",
              " '🙆',\n",
              " '🙈',\n",
              " '🙊',\n",
              " '🙌',\n",
              " '🙏',\n",
              " '🚀',\n",
              " '🚂',\n",
              " '🚄',\n",
              " '🚅',\n",
              " '🚌',\n",
              " '🚑',\n",
              " '🚘',\n",
              " '🚧',\n",
              " '🚨',\n",
              " '🚫',\n",
              " '🛎',\n",
              " '🛡',\n",
              " '🛩',\n",
              " '🛫',\n",
              " '🛬',\n",
              " '🛰',\n",
              " '🟡',\n",
              " '🟦',\n",
              " '🟨',\n",
              " '🤌',\n",
              " '🤐',\n",
              " '🤑',\n",
              " '🤓',\n",
              " '🤔',\n",
              " '🤕',\n",
              " '🤖',\n",
              " '🤗',\n",
              " '🤘',\n",
              " '🤚',\n",
              " '🤛',\n",
              " '🤜',\n",
              " '🤝',\n",
              " '🤞',\n",
              " '🤟',\n",
              " '🤦',\n",
              " '🤨',\n",
              " '🤩',\n",
              " '🤪',\n",
              " '🤫',\n",
              " '🤬',\n",
              " '🤭',\n",
              " '🤯',\n",
              " '🤲',\n",
              " '🥇',\n",
              " '🥈',\n",
              " '🥉',\n",
              " '🥰',\n",
              " '🥱',\n",
              " '🥲',\n",
              " '🥳',\n",
              " '🥵',\n",
              " '🥶',\n",
              " '🥺',\n",
              " '🦈',\n",
              " '🦊',\n",
              " '🦳',\n",
              " '🦶',\n",
              " '🧐',\n",
              " '🧠',\n",
              " '🧤',\n",
              " '🧭',\n",
              " '\\U000e0062',\n",
              " '\\U000e0065',\n",
              " '\\U000e0067',\n",
              " '\\U000e006e',\n",
              " '\\U000e007f'}"
            ]
          },
          "metadata": {},
          "execution_count": 42
        }
      ]
    },
    {
      "cell_type": "markdown",
      "source": [
        "Ого, сколько смайликов. Увидим как LLM'ки вывезут все это дело."
      ],
      "metadata": {
        "id": "ym4sAK6yoM6G"
      }
    },
    {
      "cell_type": "code",
      "source": [],
      "metadata": {
        "id": "1btlrL3OrpMm"
      },
      "execution_count": null,
      "outputs": []
    },
    {
      "cell_type": "markdown",
      "source": [
        "### Datasets:"
      ],
      "metadata": {
        "id": "g2MqwyLNQ581"
      }
    },
    {
      "cell_type": "code",
      "source": [
        "import datasets"
      ],
      "metadata": {
        "id": "tt44UEUZQ7ta"
      },
      "execution_count": null,
      "outputs": []
    },
    {
      "cell_type": "code",
      "source": [
        "# данные будут в формате Dataset:\n",
        "dataset = datasets.Dataset.from_pandas(data.loc[:, ['text', 'summary']])\n",
        "dataset = dataset.shuffle(seed=9)"
      ],
      "metadata": {
        "id": "C07QVzifQ71J"
      },
      "execution_count": null,
      "outputs": []
    },
    {
      "cell_type": "code",
      "source": [
        "# разделим на train/eval части:\n",
        "dataset = dataset.train_test_split(test_size=0.15, shuffle=True, seed=11)"
      ],
      "metadata": {
        "id": "q0wrpCqsQ74S"
      },
      "execution_count": null,
      "outputs": []
    },
    {
      "cell_type": "code",
      "source": [
        "dataset"
      ],
      "metadata": {
        "id": "5zffa2Z0RH9i",
        "colab": {
          "base_uri": "https://localhost:8080/"
        },
        "outputId": "8dcb1479-351c-4759-dc17-4beaf3d94a09"
      },
      "execution_count": null,
      "outputs": [
        {
          "output_type": "execute_result",
          "data": {
            "text/plain": [
              "DatasetDict({\n",
              "    train: Dataset({\n",
              "        features: ['text', 'summary'],\n",
              "        num_rows: 13639\n",
              "    })\n",
              "    test: Dataset({\n",
              "        features: ['text', 'summary'],\n",
              "        num_rows: 2408\n",
              "    })\n",
              "})"
            ]
          },
          "metadata": {},
          "execution_count": 15
        }
      ]
    },
    {
      "cell_type": "markdown",
      "source": [
        "### Качество baseline'a\n",
        "В роли baseline предсказаний выберем первые 3 предложения из статьи (prediction) и сравних с саммари (gold standard)"
      ],
      "metadata": {
        "id": "LiAacaaHNHxV"
      }
    },
    {
      "cell_type": "code",
      "source": [
        "def get_baseline_preds(examples):\n",
        "  # первые 3 предложения + разделитель '\\n' между ними (метрики требуют)\n",
        "  base_preds = ['\\n'.join(nltk.sent_tokenize(doc)[:3]) for doc in examples['text']]\n",
        "  # разделитель '\\n' между предложениями в саммари (метрики требуют)\n",
        "  base_true = ['\\n'.join(nltk.sent_tokenize(doc)) for doc in examples['summary']]\n",
        "\n",
        "  return {'base_preds': base_preds, 'base_true': base_true}\n",
        "\n",
        "base_results =  dataset['test'].map(get_baseline_preds, batched=True)"
      ],
      "metadata": {
        "colab": {
          "base_uri": "https://localhost:8080/",
          "height": 49,
          "referenced_widgets": [
            "0eaeef619d384e57887a80426904305b",
            "9faa6995bfc84c73ae88e7f783d090a5",
            "cc7a0950232d4920b23d9037aed8482c",
            "3e612ade6c8f4d1f9bfa57b6ac97409c",
            "66aec5bab9194ed2b7b614555819f598",
            "cab5eddfe6aa420a9a285c2945e1c9bb",
            "cf05ca79f0214a5f9d92aca5635fa56f",
            "a1b3650b2a26428c9a279e84f1a33c43",
            "58fa256eae1c467db6af458189fff0bf",
            "495b7d2de9fe4d729c5744d9337c1d1b",
            "aacb3614526a445698f51090a8d0c75f"
          ]
        },
        "id": "MNhtDguZNXzt",
        "outputId": "25e33be6-f6ab-40d2-d31b-a9ec440f5c1f"
      },
      "execution_count": null,
      "outputs": [
        {
          "output_type": "display_data",
          "data": {
            "text/plain": [
              "Map:   0%|          | 0/2408 [00:00<?, ? examples/s]"
            ],
            "application/vnd.jupyter.widget-view+json": {
              "version_major": 2,
              "version_minor": 0,
              "model_id": "0eaeef619d384e57887a80426904305b"
            }
          },
          "metadata": {}
        }
      ]
    },
    {
      "cell_type": "code",
      "source": [
        "# вот что получилось:\n",
        "base_results['base_preds'][:4]"
      ],
      "metadata": {
        "colab": {
          "base_uri": "https://localhost:8080/"
        },
        "id": "IYY5EPMWQRDM",
        "outputId": "d21f0c48-2ac6-46ff-dc89-194189416a8c"
      },
      "execution_count": null,
      "outputs": [
        {
          "output_type": "execute_result",
          "data": {
            "text/plain": [
              "['Для «Челси» 2022-й стал поворотным: спустя столько лет Роман Абрамович был вынужден искать для клуба нового владельца.\\nПо итогам всех отборов им стал консорциум американца Тодда Боули.\\nСделка по поглощению состоялась в мае, и с тех пор клуб проходит через сложный процесс трансформации – начиная с перестановок в руководстве и заканчивая пересмотром вектора развития команды.',\n",
              " 'Шестой этап Формулы-1 — в непростительно субъективных оценках автора.\\nВторая подряд превосходная гонка в исполнении немца.\\nАккуратная работа с резиной на первом отрезке окупилась и позволила пробиться в топ-6, ну а затем Феттель прорвался на вторую строчку, опередив Леклера и Гасли.',\n",
              " 'До начала Гран-при России Формулы-1, который уже в шестой раз пройдёт на «Сочи Автодроме», осталось всего несколько дней.\\nУ настоящего болельщика уже забронированы авиабилеты и жильё.\\nЕсли же нет — срочно торопитесь!',\n",
              " 'Посмотреть все события 30 июня в Матч-центре «Чемпионата».\\nВремя в материале — по Москве.\\nПрограмма коротко:\\nИнтересный матч вы можете добавить в «Избранное» в Матч-центре – для этого нажмите на ★ слева от названия события.']"
            ]
          },
          "metadata": {},
          "execution_count": 17
        }
      ]
    },
    {
      "cell_type": "code",
      "source": [
        "# метрики качества: rouge и meteor\n",
        "# качество для baseline:\n",
        "result = rouge_metric.compute(predictions=base_results['base_preds'], references=base_results['base_true'], use_stemmer=True)\n",
        "result.update(meteor_metric.compute(predictions=base_results['base_preds'], references=base_results['base_true']))\n",
        "\n",
        "{k: round(100*v, 4) for k, v in result.items()}"
      ],
      "metadata": {
        "colab": {
          "base_uri": "https://localhost:8080/"
        },
        "id": "P2kQp3DOP9pu",
        "outputId": "5d1db19e-02b1-4fe5-8bb0-0a6eef8a7ba5"
      },
      "execution_count": null,
      "outputs": [
        {
          "output_type": "execute_result",
          "data": {
            "text/plain": [
              "{'rouge1': 12.8432,\n",
              " 'rouge2': 2.4471,\n",
              " 'rougeL': 12.5863,\n",
              " 'rougeLsum': 12.7843,\n",
              " 'meteor': 17.9148}"
            ]
          },
          "metadata": {},
          "execution_count": 18
        }
      ]
    },
    {
      "cell_type": "markdown",
      "source": [
        "Будем сравнивать результаты mT5/ruBart с этими показателями"
      ],
      "metadata": {
        "id": "jW0dcrB3ow_E"
      }
    },
    {
      "cell_type": "code",
      "source": [],
      "metadata": {
        "id": "DDgEbGmMBNHY"
      },
      "execution_count": null,
      "outputs": []
    },
    {
      "cell_type": "markdown",
      "source": [
        "### Выбор модели:"
      ],
      "metadata": {
        "id": "tkYpeI3kt2pG"
      }
    },
    {
      "cell_type": "code",
      "source": [
        "# models:\n",
        "model_checkpoint = \"google/mt5-small\"\n",
        "#model_checkpoint = \"IlyaGusev/mbart_ru_sum_gazeta\""
      ],
      "metadata": {
        "id": "r3dQyXj-aoGd"
      },
      "execution_count": null,
      "outputs": []
    },
    {
      "cell_type": "code",
      "source": [],
      "metadata": {
        "id": "ITA-vnoibFCA"
      },
      "execution_count": null,
      "outputs": []
    },
    {
      "cell_type": "markdown",
      "source": [
        "### Токенизация данных:"
      ],
      "metadata": {
        "id": "6GESgw2auUPd"
      }
    },
    {
      "cell_type": "code",
      "source": [
        "from transformers import AutoTokenizer\n",
        "\n",
        "# грузим токенизатор под выбранную модель:\n",
        "tokenizer = AutoTokenizer.from_pretrained(model_checkpoint)\n",
        "\n",
        "# is fast:\n",
        "tokenizer.is_fast"
      ],
      "metadata": {
        "colab": {
          "base_uri": "https://localhost:8080/",
          "height": 234,
          "referenced_widgets": [
            "335b7f7ca40a4f8f85d41f9244a9d772",
            "dfad6d4a7a69400a8c6c25e2c55fb784",
            "16d0806f616743cb8785d182e1296ef0",
            "b44f71e63ac14217ac18048677de8d6d",
            "8b5027c166ae4b93b932204773380455",
            "7c8379bc5fa44e9081d08cdb548c1a5e",
            "ac4ef552ea604553b9c9299d66e5092e",
            "66124aa3b76a47f1b8578f62ea2e84d2",
            "063104019327480b9e20e0e8a7adc1a0",
            "677e63363d9843ebb451498fa51122f1",
            "a9afd8bc4be1452fb2cef6e41ccd269a",
            "eed3b40102524728aed930fd63e1555f",
            "be835bbd75c4480b8f20e48010bf4689",
            "794b5bf4a470494399ddf9b35db473c4",
            "8e36a2959ce447b6837320d8e30b920d",
            "bc709f61834546b39c5e28c5221210ff",
            "e3947d407eee459c8417dbe5fe8fcca3",
            "c977390af8ee410db674d437611bff74",
            "6cf3c8fac3f04c85ab652c4d1aae76f5",
            "57c019b6b3894cde8fc63927e851d83b",
            "482b9769209840b2bca3ad48575e4ee8",
            "179b82ce191f4ee6bd66c93a04ce3d58",
            "f397181396414d5187a18862e0b18bc1",
            "c3b23930ef7b4c1d816dc3d102e25792",
            "135b04b78c8848d492e02a965cbe6ecd",
            "272cb13a62b044f2a88569fca8cd2cca",
            "1b5213d3b9294cc3945fb20a3e0c9fd3",
            "1068931d187a42c48f485602c498d4f4",
            "038e181573ff4502b15321685df9b26b",
            "29848a7475a44874aaa52fd0efcdf1b1",
            "9cd016669a0947e49fc411b14f5fa2a3",
            "0903dfa377e84a84af1bc4d9cdcaa485",
            "a43695849ff649a18293c3b6e532b34d",
            "69045259079b494db5091568ee091f42",
            "0d83bcefdc8b4f66b863d59b332e6974",
            "0feeaf582053411ca20809e1bd87f46a",
            "9114695df46e495c9164979f2325ab37",
            "e4513d52084c4c378b9a0a21af59c677",
            "e087d6746502480da10ca4a73185cbb0",
            "800ded4e82dc45a584e5dc92d5483f3d",
            "df5f1b3cce5f4516b438df055816164a",
            "c76c3034c4e34612bf6c1bc43148826e",
            "8877f6c050554834a62b5c984a1006b1",
            "73abdc55f6444b68ab389ffef1d04cf0"
          ]
        },
        "id": "yrIRVeXCaoUl",
        "outputId": "99638c6c-a64a-4a23-8fd6-bdfc99a14652"
      },
      "execution_count": null,
      "outputs": [
        {
          "output_type": "display_data",
          "data": {
            "text/plain": [
              "tokenizer_config.json:   0%|          | 0.00/82.0 [00:00<?, ?B/s]"
            ],
            "application/vnd.jupyter.widget-view+json": {
              "version_major": 2,
              "version_minor": 0,
              "model_id": "335b7f7ca40a4f8f85d41f9244a9d772"
            }
          },
          "metadata": {}
        },
        {
          "output_type": "display_data",
          "data": {
            "text/plain": [
              "config.json:   0%|          | 0.00/553 [00:00<?, ?B/s]"
            ],
            "application/vnd.jupyter.widget-view+json": {
              "version_major": 2,
              "version_minor": 0,
              "model_id": "eed3b40102524728aed930fd63e1555f"
            }
          },
          "metadata": {}
        },
        {
          "output_type": "display_data",
          "data": {
            "text/plain": [
              "spiece.model:   0%|          | 0.00/4.31M [00:00<?, ?B/s]"
            ],
            "application/vnd.jupyter.widget-view+json": {
              "version_major": 2,
              "version_minor": 0,
              "model_id": "f397181396414d5187a18862e0b18bc1"
            }
          },
          "metadata": {}
        },
        {
          "output_type": "display_data",
          "data": {
            "text/plain": [
              "special_tokens_map.json:   0%|          | 0.00/99.0 [00:00<?, ?B/s]"
            ],
            "application/vnd.jupyter.widget-view+json": {
              "version_major": 2,
              "version_minor": 0,
              "model_id": "69045259079b494db5091568ee091f42"
            }
          },
          "metadata": {}
        },
        {
          "output_type": "stream",
          "name": "stderr",
          "text": [
            "You are using the default legacy behaviour of the <class 'transformers.models.t5.tokenization_t5.T5Tokenizer'>. This is expected, and simply means that the `legacy` (previous) behavior will be used so nothing changes for you. If you want to use the new behaviour, set `legacy=False`. This should only be set if you understand what it means, and thoroughly read the reason why this was added as explained in https://github.com/huggingface/transformers/pull/24565\n",
            "/usr/local/lib/python3.10/dist-packages/transformers/convert_slow_tokenizer.py:561: UserWarning: The sentencepiece tokenizer that you are converting to a fast tokenizer uses the byte fallback option which is not implemented in the fast tokenizers. In practice this means that the fast version of the tokenizer can produce unknown tokens whereas the sentencepiece version would have converted these unknown tokens into a sequence of byte tokens matching the original piece of text.\n",
            "  warnings.warn(\n"
          ]
        },
        {
          "output_type": "execute_result",
          "data": {
            "text/plain": [
              "True"
            ]
          },
          "metadata": {},
          "execution_count": 20
        }
      ]
    },
    {
      "cell_type": "markdown",
      "source": [
        "Сколько симвлов из all_chars будут непонятны для выбранного токенизатора:"
      ],
      "metadata": {
        "id": "539IVs8qpNMn"
      }
    },
    {
      "cell_type": "code",
      "source": [
        "unk_chars = [char for char in all_chars if '<unk>' in tokenizer.convert_ids_to_tokens(tokenizer(char)[\"input_ids\"])]\n",
        "print('неизвестных символов:', len(unk_chars))\n",
        "unk_chars[:10]"
      ],
      "metadata": {
        "id": "qwIND52h4kwz",
        "colab": {
          "base_uri": "https://localhost:8080/"
        },
        "outputId": "836e0418-6809-409b-f627-cbcc7a6ef4aa"
      },
      "execution_count": null,
      "outputs": [
        {
          "output_type": "stream",
          "name": "stdout",
          "text": [
            "неизвестных символов: 32\n"
          ]
        },
        {
          "output_type": "execute_result",
          "data": {
            "text/plain": [
              "['🛬', '🥲', '🛎', '🕘', '🕣', '🟨', '🕗', '🕦', '🕝', '🥱']"
            ]
          },
          "metadata": {},
          "execution_count": 26
        }
      ]
    },
    {
      "cell_type": "code",
      "source": [
        "#  для mT5 надо указать префикс, чтобы модель понимала какую задачу ей надо решать\n",
        "if model_checkpoint in [\"google/mt5-small\", \"google/mt5-base\"]:\n",
        "    prefix = \"summarize: \"  # 'суммировать: '  \"summarize: \"\n",
        "else:\n",
        "    prefix = \"\"\n",
        "\n",
        "prefix"
      ],
      "metadata": {
        "colab": {
          "base_uri": "https://localhost:8080/",
          "height": 35
        },
        "id": "2ys8mKBgaoXU",
        "outputId": "842d5818-122e-44eb-eafb-f719206d0062"
      },
      "execution_count": null,
      "outputs": [
        {
          "output_type": "execute_result",
          "data": {
            "text/plain": [
              "'summarize: '"
            ],
            "application/vnd.google.colaboratory.intrinsic+json": {
              "type": "string"
            }
          },
          "metadata": {},
          "execution_count": 21
        }
      ]
    },
    {
      "cell_type": "code",
      "source": [
        "# токенизируем статьи и саммари:\n",
        "\n",
        "# максимальное число токенов для статьи/саммари\n",
        "max_input_length = 512 # 1024\n",
        "max_target_length = 128\n",
        "\n",
        "def preprocess_function(examples):\n",
        "    # добавим prefix\n",
        "    examples['text'] = [prefix + doc for doc in examples[\"text\"]]\n",
        "    # input_ids + attention_mask:\n",
        "    model_inputs = tokenizer(examples['text'], max_length=max_input_length, truncation=True)\n",
        "\n",
        "    # labels:\n",
        "    labels = tokenizer(text_target=examples[\"summary\"], max_length=max_target_length, truncation=True)\n",
        "\n",
        "    model_inputs[\"labels\"] = labels[\"input_ids\"]\n",
        "    return model_inputs"
      ],
      "metadata": {
        "id": "nTTlCbUSaoaE"
      },
      "execution_count": null,
      "outputs": []
    },
    {
      "cell_type": "code",
      "source": [
        "# обработаем данные батчами:\n",
        "tokenized_datasets = dataset.map(preprocess_function, batched=True)"
      ],
      "metadata": {
        "colab": {
          "base_uri": "https://localhost:8080/",
          "height": 81,
          "referenced_widgets": [
            "0b476ae28eab484fa21abaa453419d53",
            "67f547f4854944ef9031f9ed41adf498",
            "8e9ce41339c7430fa549a830e2baf77a",
            "ec240959bc424b5f8d8b90740fad54ac",
            "d8fad78491b040f38964cf4837f7d843",
            "100178387b9a4f0c8f3b6025ff91a70f",
            "3c932b1f205d40c4b3ff1de4b7f28f7c",
            "074e578b79164aceaad5dc77dece3808",
            "a316e784420f4703ba9feec91b3abbf9",
            "b4b05780a50b46f9a822fa078aad3272",
            "d992f29a18ae4048a6c7c764bf1ddca3",
            "afe3637a99a8448d8518f36aea0a8c91",
            "7fb334046d9c494ebbc2b669ad862206",
            "556d597feeb646db9f7866866d743aa4",
            "c124c444b6d54e1293d96eed438ebd98",
            "e7a3e16ab90c43eca621e2caf7118f93",
            "300320ffbf504f6b8a47bdcf94e61fa7",
            "ce10ce1d27bf4cb48bb5a88ac0aa5890",
            "97fbbd5bdf764188bd365616a8da14c5",
            "b14a358f40be4cc5bb62dd26115024af",
            "a8d0f4cf107a4c5f8f71434ba796b70b",
            "b6a46852f49d4556a12304b1bda97573"
          ]
        },
        "id": "jlAjLenJaocs",
        "outputId": "c1305fc9-ced1-4e07-86c1-1bb32ac47e27"
      },
      "execution_count": null,
      "outputs": [
        {
          "output_type": "display_data",
          "data": {
            "text/plain": [
              "Map:   0%|          | 0/13639 [00:00<?, ? examples/s]"
            ],
            "application/vnd.jupyter.widget-view+json": {
              "version_major": 2,
              "version_minor": 0,
              "model_id": "0b476ae28eab484fa21abaa453419d53"
            }
          },
          "metadata": {}
        },
        {
          "output_type": "display_data",
          "data": {
            "text/plain": [
              "Map:   0%|          | 0/2408 [00:00<?, ? examples/s]"
            ],
            "application/vnd.jupyter.widget-view+json": {
              "version_major": 2,
              "version_minor": 0,
              "model_id": "afe3637a99a8448d8518f36aea0a8c91"
            }
          },
          "metadata": {}
        }
      ]
    },
    {
      "cell_type": "code",
      "source": [
        "# prefix + text:\n",
        "for i in range(3):\n",
        "  print(tokenized_datasets['train']['text'][i][:128])"
      ],
      "metadata": {
        "colab": {
          "base_uri": "https://localhost:8080/"
        },
        "id": "OhwwsS3wJHXF",
        "outputId": "7ff4a14f-4ccf-4293-a94b-78cd6b93566e"
      },
      "execution_count": null,
      "outputs": [
        {
          "output_type": "stream",
          "name": "stdout",
          "text": [
            "summarize: На молодёжном чемпионате мира по хоккею в Галифаксе и Монктоне завершилась четвертьфинальная стадия. Групповой этап п\n",
            "summarize: 8 января в матче 12-го тура российской женской Суперлиги краснодарское «Динамо» на своей площадке уверенно победило «\n",
            "summarize: 20:45. Андрей Воронцевич после матча удивил сообщением о том, что тренерский штаб, помимо тренировочной работы, собра\n"
          ]
        }
      ]
    },
    {
      "cell_type": "code",
      "source": [
        "# удалим текстовые данные + __index_level_0__\n",
        "drop_columns = ['text', 'summary']\n",
        "if '__index_level_0__' in tokenized_datasets['test'].features.keys():\n",
        "  drop_columns.append('__index_level_0__')\n",
        "\n",
        "tokenized_datasets = tokenized_datasets.remove_columns(drop_columns)"
      ],
      "metadata": {
        "id": "nYw6jY-kxA_J"
      },
      "execution_count": null,
      "outputs": []
    },
    {
      "cell_type": "code",
      "source": [],
      "metadata": {
        "id": "Xn-OdG3Ivmfv"
      },
      "execution_count": null,
      "outputs": []
    },
    {
      "cell_type": "code",
      "source": [
        "tokenized_datasets"
      ],
      "metadata": {
        "id": "rhWmG8wRaofk",
        "colab": {
          "base_uri": "https://localhost:8080/"
        },
        "outputId": "3e85fb92-0a8f-4d21-c923-56399a01d3f2"
      },
      "execution_count": null,
      "outputs": [
        {
          "output_type": "execute_result",
          "data": {
            "text/plain": [
              "DatasetDict({\n",
              "    train: Dataset({\n",
              "        features: ['input_ids', 'attention_mask', 'labels'],\n",
              "        num_rows: 13639\n",
              "    })\n",
              "    test: Dataset({\n",
              "        features: ['input_ids', 'attention_mask', 'labels'],\n",
              "        num_rows: 2408\n",
              "    })\n",
              "})"
            ]
          },
          "metadata": {},
          "execution_count": 36
        }
      ]
    },
    {
      "cell_type": "code",
      "source": [
        "# заценим распределение числа токенов в labels\n",
        "# прикинем сколько токенов генерить для предсказаний (max_new_tokens и min_new_tokens):\n",
        "labels_num_tok = list(map(len, tokenized_datasets['train']['labels']))\n",
        "\n",
        "plt.hist(labels_num_tok, bins=30)\n",
        "plt.title('Распределение числа токенов для labels');"
      ],
      "metadata": {
        "colab": {
          "base_uri": "https://localhost:8080/",
          "height": 452
        },
        "id": "0FyMh65Maohs",
        "outputId": "cbcc7044-e954-4736-a19b-adc54429f624"
      },
      "execution_count": null,
      "outputs": [
        {
          "output_type": "display_data",
          "data": {
            "text/plain": [
              "<Figure size 640x480 with 1 Axes>"
            ],
            "image/png": "[encoded data removed]"
          },
          "metadata": {}
        }
      ]
    },
    {
      "cell_type": "markdown",
      "source": [
        "35-80 токенов должно хватить, т.е. max_new_tokens=80, min_new_tokens=35"
      ],
      "metadata": {
        "id": "WgZcIkUhpHFO"
      }
    },
    {
      "cell_type": "code",
      "source": [],
      "metadata": {
        "id": "J0eYcdQyaon8"
      },
      "execution_count": null,
      "outputs": []
    },
    {
      "cell_type": "markdown",
      "source": [
        "### Импорт модели + data_collator"
      ],
      "metadata": {
        "id": "vfHbi6qizpl7"
      }
    },
    {
      "cell_type": "code",
      "source": [
        "from transformers import AutoModelForSeq2SeqLM, DataCollatorForSeq2Seq, MT5ForConditionalGeneration #, Seq2SeqTrainingArguments, Seq2SeqTrainer\n",
        "\n",
        "# импорт модели:\n",
        "model = AutoModelForSeq2SeqLM.from_pretrained(model_checkpoint)\n",
        "#model = MT5ForConditionalGeneration.from_pretrained(model_checkpoint)"
      ],
      "metadata": {
        "colab": {
          "base_uri": "https://localhost:8080/",
          "height": 81,
          "referenced_widgets": [
            "bbb9fdd055d64c73b33e342bac0e7355",
            "d7be66fdab4949be899821002178f040",
            "c92f2dbca0984aca9c77f47276430529",
            "7e1ee96a31b744fca71af6824ead0b0f",
            "2b68cacf38f749438a4cc322fa4ddaef",
            "8fa88d78c61447cd9ffcb7cefafb9ed4",
            "67e0f82be3864f5ebc57bcb2cd8db472",
            "9c1c9ea84b6c4d37bf18d04c68a6ea82",
            "da87ded5750f41cd8efdb07321dd2930",
            "9a4a527a2f244ad4833e52c3439a3196",
            "4d986e0178c54f69957763c7bc6cfc98",
            "834d142feb7f4340b4fa5d77e429ebe3",
            "8094a71cb4f14a5dbbba48c272e109af",
            "fdaad1f7ecd146c6a2e1237bdf64dae3",
            "fa14fb76cf214c778fb13b4745eb53e2",
            "28712dea013b4beaa0e5cd62e21c6f42",
            "da48e36f08634be297b5ab0303addbb8",
            "aca3c8a5d0c04a3aa6a911deb3c2a2ef",
            "a3d0780b674c4071ab665f465f16aabf",
            "cb05a7703cc04e20bd756cb345bc07c9",
            "a0ac3da02de64b0d8ba18e19d1f747de",
            "e6a3b4d696704f2998cba2613465c468"
          ]
        },
        "id": "Rv-qYq-T0mxp",
        "outputId": "d0ca1186-b706-411f-bf0d-cf95a22b9273"
      },
      "execution_count": null,
      "outputs": [
        {
          "output_type": "display_data",
          "data": {
            "text/plain": [
              "pytorch_model.bin:   0%|          | 0.00/1.20G [00:00<?, ?B/s]"
            ],
            "application/vnd.jupyter.widget-view+json": {
              "version_major": 2,
              "version_minor": 0,
              "model_id": "bbb9fdd055d64c73b33e342bac0e7355"
            }
          },
          "metadata": {}
        },
        {
          "output_type": "display_data",
          "data": {
            "text/plain": [
              "generation_config.json:   0%|          | 0.00/147 [00:00<?, ?B/s]"
            ],
            "application/vnd.jupyter.widget-view+json": {
              "version_major": 2,
              "version_minor": 0,
              "model_id": "834d142feb7f4340b4fa5d77e429ebe3"
            }
          },
          "metadata": {}
        }
      ]
    },
    {
      "cell_type": "markdown",
      "source": [
        "Т.к. данные подаются в модель параллельно, они должны быть одной длины.\n",
        "Добить input_ids/labels pad_token'ми до одной длины нам поможет data_collator, кроме того, он заменит pad_token'ы на -100 в labels чтобы loss их игнорил, прям как ты свою бывшую (бывшего)"
      ],
      "metadata": {
        "id": "PHAEqAcopc2-"
      }
    },
    {
      "cell_type": "code",
      "source": [
        "data_collator = DataCollatorForSeq2Seq(tokenizer, model=model)"
      ],
      "metadata": {
        "id": "HgBJjtMJ0sYk"
      },
      "execution_count": null,
      "outputs": []
    },
    {
      "cell_type": "code",
      "source": [],
      "metadata": {
        "id": "D4Nd84ScB-vX"
      },
      "execution_count": null,
      "outputs": []
    },
    {
      "cell_type": "markdown",
      "source": [
        "### Dataloaders:"
      ],
      "metadata": {
        "id": "l6WO5T-a08M7"
      }
    },
    {
      "cell_type": "code",
      "source": [
        "from torch.utils.data import DataLoader"
      ],
      "metadata": {
        "id": "pEAEvbKm0xDX"
      },
      "execution_count": null,
      "outputs": []
    },
    {
      "cell_type": "code",
      "source": [
        "BATCH_SIZE=8"
      ],
      "metadata": {
        "id": "oMcV_bda1Oeq"
      },
      "execution_count": null,
      "outputs": []
    },
    {
      "cell_type": "code",
      "source": [
        "train_loader = DataLoader(tokenized_datasets['train'],\n",
        "                          batch_size=BATCH_SIZE,\n",
        "                          shuffle=True,\n",
        "                          collate_fn=data_collator)\n",
        "\n",
        "\n",
        "test_loader = DataLoader(tokenized_datasets['test'],\n",
        "                          batch_size=2*BATCH_SIZE,\n",
        "                          shuffle=False,\n",
        "                          collate_fn=data_collator)"
      ],
      "metadata": {
        "id": "J8n7INar1LJZ"
      },
      "execution_count": null,
      "outputs": []
    },
    {
      "cell_type": "code",
      "source": [
        "# работает ли?\n",
        "for x_batch in test_loader:\n",
        "  break\n",
        "{k: v.shape for k,v in x_batch.items()}"
      ],
      "metadata": {
        "colab": {
          "base_uri": "https://localhost:8080/"
        },
        "id": "csDoeLtQ1ZGy",
        "outputId": "28d03729-7406-4152-fea2-bffe480ec252"
      },
      "execution_count": null,
      "outputs": [
        {
          "output_type": "execute_result",
          "data": {
            "text/plain": [
              "{'input_ids': torch.Size([16, 512]),\n",
              " 'attention_mask': torch.Size([16, 512]),\n",
              " 'labels': torch.Size([16, 70]),\n",
              " 'decoder_input_ids': torch.Size([16, 70])}"
            ]
          },
          "metadata": {},
          "execution_count": 43
        }
      ]
    },
    {
      "cell_type": "code",
      "source": [
        "# -100 в labels:\n",
        "x_batch['labels'][:2]"
      ],
      "metadata": {
        "colab": {
          "base_uri": "https://localhost:8080/"
        },
        "id": "ZwsOXZxp1hQ6",
        "outputId": "dae30b12-8d10-4d87-93aa-0010a6e359d4"
      },
      "execution_count": null,
      "outputs": [
        {
          "output_type": "execute_result",
          "data": {
            "text/plain": [
              "tensor([[  4716,  19340,    433, 145524,    507, 101678,  15566,    279,    259,\n",
              "            668,  10994,    401,  12601,  10263,    260,  32452,   1633,  43325,\n",
              "            946, 118289,   2007, 113722,    748,    315,    404, 220586,   4832,\n",
              "           1836,    259,  15088,    259,   4150,  13703,   2007,  32409,   6148,\n",
              "          63235,  98808,    259,    279,    892,    259,    324,  23390,   6824,\n",
              "          27492, 163269,  20593,    260,      1,   -100,   -100,   -100,   -100,\n",
              "           -100,   -100,   -100,   -100,   -100,   -100,   -100,   -100,   -100,\n",
              "           -100,   -100,   -100,   -100,   -100,   -100,   -100],\n",
              "        [  3461,   1348,  45315,    261,  19973,   4599,   1436,    291,    259,\n",
              "          52911,    817,  18361,    995,   1311,  11167,    661,    259,  15354,\n",
              "           1285,    605,    309,    983,  55421,    657,    374,  96331,    264,\n",
              "          16296,    259, 140839,    308,    260,    867,  91288,  19138,   4229,\n",
              "          44829,   1008,  75149,    261,   1767,  10318,   1108,   5107,  18361,\n",
              "            995,    552, 105095,    279,    388,  13676,   6035,    259,  13084,\n",
              "          97822,    260,      1,   -100,   -100,   -100,   -100,   -100,   -100,\n",
              "           -100,   -100,   -100,   -100,   -100,   -100,   -100]])"
            ]
          },
          "metadata": {},
          "execution_count": 28
        }
      ]
    },
    {
      "cell_type": "code",
      "source": [],
      "metadata": {
        "id": "5eDFw_We1zyS"
      },
      "execution_count": null,
      "outputs": []
    },
    {
      "cell_type": "markdown",
      "source": [
        "### Метрики качества:\n",
        "Оценивать качество сгенерированного текста будем по двум метрикам: rouge и meteor."
      ],
      "metadata": {
        "id": "ozmiojc_15X6"
      }
    },
    {
      "cell_type": "code",
      "source": [
        "def compute_metrics(eval_pred):\n",
        "    predictions, labels = eval_pred\n",
        "\n",
        "    # Replace -100 in the predictions as we can't decode them.\n",
        "    #predictions = [np.where(l != -100, l, tokenizer.pad_token_id) for l in predictions]\n",
        "    decoded_preds = tokenizer.batch_decode(predictions, skip_special_tokens=True)\n",
        "\n",
        "    # Replace -100 in the labels as we can't decode them.\n",
        "    labels = [np.where(l != -100, l, tokenizer.pad_token_id) for l in labels]\n",
        "    decoded_labels = tokenizer.batch_decode(labels, skip_special_tokens=True)\n",
        "\n",
        "    # Rouge expects a newline after each sentence\n",
        "    decoded_preds = [\"\\n\".join(nltk.sent_tokenize(pred.strip())) for pred in decoded_preds]\n",
        "    decoded_labels = [\"\\n\".join(nltk.sent_tokenize(label.strip())) for label in decoded_labels]\n",
        "\n",
        "    result = rouge_metric.compute(predictions=decoded_preds, references=decoded_labels, use_stemmer=True)\n",
        "\n",
        "    # Add mean generated length\n",
        "    #prediction_lens = [np.count_nonzero(pred != tokenizer.pad_token_id) for pred in predictions]\n",
        "    #result[\"gen_len\"] = np.mean(prediction_lens)\n",
        "\n",
        "    result.update(meteor_metric.compute(predictions=decoded_preds, references=decoded_labels))\n",
        "    return {k: round(100*v, 4) for k, v in result.items()}"
      ],
      "metadata": {
        "id": "1SMNDYwB1_Fp"
      },
      "execution_count": null,
      "outputs": []
    },
    {
      "cell_type": "code",
      "source": [],
      "metadata": {
        "id": "dRcKUabV1_mE"
      },
      "execution_count": null,
      "outputs": []
    },
    {
      "cell_type": "markdown",
      "source": [
        "### Model to GPU/CPU:"
      ],
      "metadata": {
        "id": "YHHs_7bs4Nfi"
      }
    },
    {
      "cell_type": "code",
      "source": [
        "import torch\n",
        "from torch.optim import AdamW\n",
        "from transformers import get_linear_schedule_with_warmup\n",
        "from tqdm import tqdm"
      ],
      "metadata": {
        "id": "ypnCO-zP1_pD"
      },
      "execution_count": null,
      "outputs": []
    },
    {
      "cell_type": "code",
      "source": [
        "# device:\n",
        "device = torch.device(\"cuda\" if torch.cuda.is_available() else \"cpu\")\n",
        "device"
      ],
      "metadata": {
        "colab": {
          "base_uri": "https://localhost:8080/"
        },
        "id": "GO03rSip4J9i",
        "outputId": "9ab9e834-5ac7-4748-da6e-163d70aa6a22"
      },
      "execution_count": null,
      "outputs": [
        {
          "output_type": "execute_result",
          "data": {
            "text/plain": [
              "device(type='cuda')"
            ]
          },
          "metadata": {},
          "execution_count": 33
        }
      ]
    },
    {
      "cell_type": "code",
      "source": [
        "model.to(device)"
      ],
      "metadata": {
        "collapsed": true,
        "id": "r_IXLv4W4L-i",
        "colab": {
          "base_uri": "https://localhost:8080/"
        },
        "outputId": "de25cd60-4c5c-436d-d702-ce0dd33df3c0"
      },
      "execution_count": null,
      "outputs": [
        {
          "output_type": "execute_result",
          "data": {
            "text/plain": [
              "MT5ForConditionalGeneration(\n",
              "  (shared): Embedding(250112, 512)\n",
              "  (encoder): MT5Stack(\n",
              "    (embed_tokens): Embedding(250112, 512)\n",
              "    (block): ModuleList(\n",
              "      (0): MT5Block(\n",
              "        (layer): ModuleList(\n",
              "          (0): MT5LayerSelfAttention(\n",
              "            (SelfAttention): MT5Attention(\n",
              "              (q): Linear(in_features=512, out_features=384, bias=False)\n",
              "              (k): Linear(in_features=512, out_features=384, bias=False)\n",
              "              (v): Linear(in_features=512, out_features=384, bias=False)\n",
              "              (o): Linear(in_features=384, out_features=512, bias=False)\n",
              "              (relative_attention_bias): Embedding(32, 6)\n",
              "            )\n",
              "            (layer_norm): MT5LayerNorm()\n",
              "            (dropout): Dropout(p=0.1, inplace=False)\n",
              "          )\n",
              "          (1): MT5LayerFF(\n",
              "            (DenseReluDense): MT5DenseGatedActDense(\n",
              "              (wi_0): Linear(in_features=512, out_features=1024, bias=False)\n",
              "              (wi_1): Linear(in_features=512, out_features=1024, bias=False)\n",
              "              (wo): Linear(in_features=1024, out_features=512, bias=False)\n",
              "              (dropout): Dropout(p=0.1, inplace=False)\n",
              "              (act): NewGELUActivation()\n",
              "            )\n",
              "            (layer_norm): MT5LayerNorm()\n",
              "            (dropout): Dropout(p=0.1, inplace=False)\n",
              "          )\n",
              "        )\n",
              "      )\n",
              "      (1-7): 7 x MT5Block(\n",
              "        (layer): ModuleList(\n",
              "          (0): MT5LayerSelfAttention(\n",
              "            (SelfAttention): MT5Attention(\n",
              "              (q): Linear(in_features=512, out_features=384, bias=False)\n",
              "              (k): Linear(in_features=512, out_features=384, bias=False)\n",
              "              (v): Linear(in_features=512, out_features=384, bias=False)\n",
              "              (o): Linear(in_features=384, out_features=512, bias=False)\n",
              "            )\n",
              "            (layer_norm): MT5LayerNorm()\n",
              "            (dropout): Dropout(p=0.1, inplace=False)\n",
              "          )\n",
              "          (1): MT5LayerFF(\n",
              "            (DenseReluDense): MT5DenseGatedActDense(\n",
              "              (wi_0): Linear(in_features=512, out_features=1024, bias=False)\n",
              "              (wi_1): Linear(in_features=512, out_features=1024, bias=False)\n",
              "              (wo): Linear(in_features=1024, out_features=512, bias=False)\n",
              "              (dropout): Dropout(p=0.1, inplace=False)\n",
              "              (act): NewGELUActivation()\n",
              "            )\n",
              "            (layer_norm): MT5LayerNorm()\n",
              "            (dropout): Dropout(p=0.1, inplace=False)\n",
              "          )\n",
              "        )\n",
              "      )\n",
              "    )\n",
              "    (final_layer_norm): MT5LayerNorm()\n",
              "    (dropout): Dropout(p=0.1, inplace=False)\n",
              "  )\n",
              "  (decoder): MT5Stack(\n",
              "    (embed_tokens): Embedding(250112, 512)\n",
              "    (block): ModuleList(\n",
              "      (0): MT5Block(\n",
              "        (layer): ModuleList(\n",
              "          (0): MT5LayerSelfAttention(\n",
              "            (SelfAttention): MT5Attention(\n",
              "              (q): Linear(in_features=512, out_features=384, bias=False)\n",
              "              (k): Linear(in_features=512, out_features=384, bias=False)\n",
              "              (v): Linear(in_features=512, out_features=384, bias=False)\n",
              "              (o): Linear(in_features=384, out_features=512, bias=False)\n",
              "              (relative_attention_bias): Embedding(32, 6)\n",
              "            )\n",
              "            (layer_norm): MT5LayerNorm()\n",
              "            (dropout): Dropout(p=0.1, inplace=False)\n",
              "          )\n",
              "          (1): MT5LayerCrossAttention(\n",
              "            (EncDecAttention): MT5Attention(\n",
              "              (q): Linear(in_features=512, out_features=384, bias=False)\n",
              "              (k): Linear(in_features=512, out_features=384, bias=False)\n",
              "              (v): Linear(in_features=512, out_features=384, bias=False)\n",
              "              (o): Linear(in_features=384, out_features=512, bias=False)\n",
              "            )\n",
              "            (layer_norm): MT5LayerNorm()\n",
              "            (dropout): Dropout(p=0.1, inplace=False)\n",
              "          )\n",
              "          (2): MT5LayerFF(\n",
              "            (DenseReluDense): MT5DenseGatedActDense(\n",
              "              (wi_0): Linear(in_features=512, out_features=1024, bias=False)\n",
              "              (wi_1): Linear(in_features=512, out_features=1024, bias=False)\n",
              "              (wo): Linear(in_features=1024, out_features=512, bias=False)\n",
              "              (dropout): Dropout(p=0.1, inplace=False)\n",
              "              (act): NewGELUActivation()\n",
              "            )\n",
              "            (layer_norm): MT5LayerNorm()\n",
              "            (dropout): Dropout(p=0.1, inplace=False)\n",
              "          )\n",
              "        )\n",
              "      )\n",
              "      (1-7): 7 x MT5Block(\n",
              "        (layer): ModuleList(\n",
              "          (0): MT5LayerSelfAttention(\n",
              "            (SelfAttention): MT5Attention(\n",
              "              (q): Linear(in_features=512, out_features=384, bias=False)\n",
              "              (k): Linear(in_features=512, out_features=384, bias=False)\n",
              "              (v): Linear(in_features=512, out_features=384, bias=False)\n",
              "              (o): Linear(in_features=384, out_features=512, bias=False)\n",
              "            )\n",
              "            (layer_norm): MT5LayerNorm()\n",
              "            (dropout): Dropout(p=0.1, inplace=False)\n",
              "          )\n",
              "          (1): MT5LayerCrossAttention(\n",
              "            (EncDecAttention): MT5Attention(\n",
              "              (q): Linear(in_features=512, out_features=384, bias=False)\n",
              "              (k): Linear(in_features=512, out_features=384, bias=False)\n",
              "              (v): Linear(in_features=512, out_features=384, bias=False)\n",
              "              (o): Linear(in_features=384, out_features=512, bias=False)\n",
              "            )\n",
              "            (layer_norm): MT5LayerNorm()\n",
              "            (dropout): Dropout(p=0.1, inplace=False)\n",
              "          )\n",
              "          (2): MT5LayerFF(\n",
              "            (DenseReluDense): MT5DenseGatedActDense(\n",
              "              (wi_0): Linear(in_features=512, out_features=1024, bias=False)\n",
              "              (wi_1): Linear(in_features=512, out_features=1024, bias=False)\n",
              "              (wo): Linear(in_features=1024, out_features=512, bias=False)\n",
              "              (dropout): Dropout(p=0.1, inplace=False)\n",
              "              (act): NewGELUActivation()\n",
              "            )\n",
              "            (layer_norm): MT5LayerNorm()\n",
              "            (dropout): Dropout(p=0.1, inplace=False)\n",
              "          )\n",
              "        )\n",
              "      )\n",
              "    )\n",
              "    (final_layer_norm): MT5LayerNorm()\n",
              "    (dropout): Dropout(p=0.1, inplace=False)\n",
              "  )\n",
              "  (lm_head): Linear(in_features=512, out_features=250112, bias=False)\n",
              ")"
            ]
          },
          "metadata": {},
          "execution_count": 34
        }
      ]
    },
    {
      "cell_type": "code",
      "source": [],
      "metadata": {
        "id": "CdpcvfksCLOI"
      },
      "execution_count": null,
      "outputs": []
    },
    {
      "cell_type": "markdown",
      "source": [
        "### Оценим кач-во модели без fine-tuning'а"
      ],
      "metadata": {
        "id": "fFmxXt1p1_0M"
      }
    },
    {
      "cell_type": "code",
      "source": [
        "# eval:\n",
        "datasets = {'test': test_loader}\n",
        "#_ = 0\n",
        "\n",
        "model.eval()\n",
        "for name, dataset in datasets.items():\n",
        "  eval_pred = []\n",
        "  eval_true = []\n",
        "  for x_batch in tqdm(dataset):\n",
        "    #_ += 1\n",
        "    x_batch = {k: v.to(device) for k,v in x_batch.items()}\n",
        "    with torch.no_grad():\n",
        "      output = model.generate(**{k: v for k,v in x_batch.items() if k in ('input_ids', 'attention_mask')},\n",
        "                             max_new_tokens=80,\n",
        "                             min_new_tokens=35,\n",
        "                             num_beams=2)\n",
        "\n",
        "    y_pred = output.cpu().numpy()\n",
        "    y_true = x_batch['labels'].cpu().numpy()\n",
        "    eval_pred.extend(y_pred)\n",
        "    eval_true.extend(y_true)\n",
        "\n",
        "    #if _ == 50:\n",
        "    #  break\n",
        "\n",
        "  # evaluate metrics:\n",
        "  scores = compute_metrics((eval_pred, eval_true))\n",
        "  print(model_checkpoint)\n",
        "  print(scores)"
      ],
      "metadata": {
        "colab": {
          "base_uri": "https://localhost:8080/"
        },
        "id": "ry7gTuD62IQX",
        "outputId": "700f00ee-d5e1-49fa-f5d2-f6f31c82492f"
      },
      "execution_count": null,
      "outputs": [
        {
          "output_type": "stream",
          "name": "stderr",
          "text": [
            "100%|██████████| 151/151 [05:52<00:00,  2.33s/it]\n"
          ]
        },
        {
          "output_type": "stream",
          "name": "stdout",
          "text": [
            "google/mt5-small\n",
            "{'rouge1': 1.5974, 'rouge2': 0.3387, 'rougeL': 1.5818, 'rougeLsum': 1.6051, 'meteor': 5.9725}\n"
          ]
        }
      ]
    },
    {
      "cell_type": "code",
      "source": [
        "#                                    google/mt5-small:\n",
        "# {'rouge1': 1.5974, 'rouge2': 0.3387, 'rougeL': 1.5818, 'rougeLsum': 1.6051, 'meteor': 5.9725}\n"
      ],
      "metadata": {
        "id": "XJuls2QG2JNz"
      },
      "execution_count": null,
      "outputs": []
    },
    {
      "cell_type": "code",
      "source": [
        "# примеры генерации текста на последнем батче:\n",
        "text_gen = tokenizer.batch_decode(y_pred, skip_special_tokens=True)"
      ],
      "metadata": {
        "id": "ehfdF_L02JGb"
      },
      "execution_count": null,
      "outputs": []
    },
    {
      "cell_type": "code",
      "source": [
        "text_gen"
      ],
      "metadata": {
        "colab": {
          "base_uri": "https://localhost:8080/"
        },
        "id": "-2coyK6p6lAu",
        "outputId": "21b8c4ac-3347-4449-db11-2237fcbe34e4"
      },
      "execution_count": null,
      "outputs": [
        {
          "output_type": "execute_result",
          "data": {
            "text/plain": [
              "['<extra_id_0> СКА снова в плей-офф. СКА снова в плей-офф. СКА снова в плей-офф. СКА снова в плей-офф',\n",
              " '<extra_id_0> и почему. Рейтинг. Рейтинг. Рейтинг. Рейтинг. Рейтинг. Рейтинг. Рейтинг. Рейтинг. Рейтинг. Рейтинг.',\n",
              " '<extra_id_0> и почему? Это и есть именно так. Это и есть именно так. Это и есть именно так.',\n",
              " '<extra_id_0> не зря. Читать далее → Читать далее → Читать далее → Читать далее → Читать далее → Читать далее →',\n",
              " '<extra_id_0> оказался лучшим результатом встречи с «Акроном». Футболисты «Спартак» перед матчем с «Акроном» снова',\n",
              " '<extra_id_0> на финал чемпионата мира по хоккею-2023 наступила пора решающих матчей. ФОТО: ИНТЕРНЕТ-ФОНД.РФ. <extra_id_9>',\n",
              " '<extra_id_0> точно. UFC 284 UFC 284 UFC 284 UFC 284 UFC 284 UFC 284 UFC 284 UFC 284 UFC 284 UFC 284 UFC 284',\n",
              " '<extra_id_0> Грин. Что хозяева стали: «Лейкерс» против 1 из 20 (55%). «Лейкерс» против 1 из 20 (55%).']"
            ]
          },
          "metadata": {},
          "execution_count": 50
        }
      ]
    },
    {
      "cell_type": "markdown",
      "source": [
        "Результаты ниже плинтуса, попробуем их улучшить"
      ],
      "metadata": {
        "id": "Ps2cU18PqFMn"
      }
    },
    {
      "cell_type": "code",
      "source": [],
      "metadata": {
        "id": "6ikv63KM6rcm"
      },
      "execution_count": null,
      "outputs": []
    },
    {
      "cell_type": "markdown",
      "source": [
        "### Fine-tuning модели:\n",
        "Используем обучающую выборку для настройки моделей на генерацию заголовков в стиле Чемпионат.com"
      ],
      "metadata": {
        "id": "2WbYCnH42JVT"
      }
    },
    {
      "cell_type": "code",
      "source": [
        "# optimizer:\n",
        "optim = AdamW(params=model.parameters(), lr=3e-4, weight_decay=0.01)"
      ],
      "metadata": {
        "id": "NPBZ7Nqf2NaT"
      },
      "execution_count": null,
      "outputs": []
    },
    {
      "cell_type": "code",
      "source": [
        "# scheduler:\n",
        "# линейно уменьшаем темп обучения (lr)\n",
        "N_epochs = 1\n",
        "n_train_steps = len(train_loader) * (N_epochs + 1)\n",
        "\n",
        "lr_scheduler = get_linear_schedule_with_warmup(\n",
        "    optimizer=optim,\n",
        "    num_warmup_steps=0,\n",
        "    num_training_steps=n_train_steps)"
      ],
      "metadata": {
        "id": "P633W9Mg85ho"
      },
      "execution_count": null,
      "outputs": []
    },
    {
      "cell_type": "code",
      "source": [
        "# train/eval loops:\n",
        "loss_hist = [] # train loss history\n",
        "#eval_loss_hist = [] # train loss history\n",
        "N_samples_eval = len(test_loader)\n",
        "N_samples_train = len(train_loader)\n",
        "\n",
        "for epoch in range(1, N_epochs+1):\n",
        "  train_loss = 0\n",
        "  model.train()\n",
        "  for x_batch in tqdm(train_loader):\n",
        "    # to device:\n",
        "    x_batch = {k: v.to(device) for k,v in x_batch.items()}\n",
        "\n",
        "    optim.zero_grad()\n",
        "    output = model(**x_batch)\n",
        "    output['loss'].backward()\n",
        "    # clip grads:\n",
        "    #torch.nn.utils.clip_grad_norm_(model.parameters(), 1.0)\n",
        "\n",
        "    optim.step()\n",
        "\n",
        "    # get and save loss:\n",
        "    loss = output['loss'].detach().cpu().item()\n",
        "    loss_hist.append(loss)\n",
        "    train_loss += loss\n",
        "\n",
        "    # scheduler step:\n",
        "    lr_scheduler.step()\n",
        "\n",
        "  #_ = 0\n",
        "\n",
        "  # eval:\n",
        "  eval_pred = []\n",
        "  eval_true = []\n",
        "  model.eval()\n",
        "  for x_batch in tqdm(test_loader):\n",
        "    #_ += 1\n",
        "    x_batch = {k: v.to(device) for k,v in x_batch.items()}\n",
        "    with torch.no_grad():\n",
        "      output = model.generate(**{k: v for k,v in x_batch.items() if k in ('input_ids', 'attention_mask')},\n",
        "                              max_new_tokens=80,\n",
        "                              min_new_tokens=35,\n",
        "                              num_beams=2\n",
        "      )\n",
        "    y_pred = output.cpu().numpy()\n",
        "    y_true = x_batch['labels'].cpu().numpy()\n",
        "    eval_pred.extend(y_pred)\n",
        "    eval_true.extend(y_true)\n",
        "\n",
        "    #if _ == 50:\n",
        "    #  break\n",
        "  # evaluate metrics:\n",
        "  scores = compute_metrics((eval_pred, eval_true))\n",
        "\n",
        "  print(f'\\nepoch: {epoch}')\n",
        "  print(f'train loss: {round(train_loss/N_samples_train, 5)}')\n",
        "  print(scores)\n",
        "  print()"
      ],
      "metadata": {
        "id": "HPG-Thqe881Y",
        "colab": {
          "base_uri": "https://localhost:8080/",
          "height": 208,
          "referenced_widgets": [
            "f4272743b3a74086917db4c4a2d2b10a",
            "1ee700b64fe24259bb1940b9416d13aa",
            "b0d48a6b0181496197f11ff369538569",
            "4e42f25450054b98ab3ab12583a4cb91",
            "1cdb5bba3fcd4d2cb82b301cbc17197d",
            "7af2edba1ac347af8c96a16138073aa1",
            "442cb6ab018f442d816ada948f9ec3cc",
            "3921e6ceab50485698a3f302c5193780",
            "85113c8167a743df97861d47b11f20fa",
            "4ce38dfd828746669724bfafe04e5a2a",
            "fa4f09054c514184bbd8aa92d91174b1"
          ]
        },
        "outputId": "f762fde9-752b-4d34-b759-2240ece658b1"
      },
      "execution_count": null,
      "outputs": [
        {
          "output_type": "stream",
          "name": "stderr",
          "text": [
            "\r  0%|          | 0/1705 [00:00<?, ?it/s]Passing a tuple of `past_key_values` is deprecated and will be removed in Transformers v4.48.0. You should pass an instance of `EncoderDecoderCache` instead, e.g. `past_key_values=EncoderDecoderCache.from_legacy_cache(past_key_values)`.\n"
          ]
        },
        {
          "output_type": "display_data",
          "data": {
            "text/plain": [
              "model.safetensors:   0%|          | 0.00/1.20G [00:00<?, ?B/s]"
            ],
            "application/vnd.jupyter.widget-view+json": {
              "version_major": 2,
              "version_minor": 0,
              "model_id": "f4272743b3a74086917db4c4a2d2b10a"
            }
          },
          "metadata": {}
        },
        {
          "output_type": "stream",
          "name": "stderr",
          "text": [
            "100%|██████████| 1705/1705 [15:54<00:00,  1.79it/s]\n",
            "100%|██████████| 151/151 [05:41<00:00,  2.26s/it]\n"
          ]
        },
        {
          "output_type": "stream",
          "name": "stdout",
          "text": [
            "\n",
            "epoch: 1\n",
            "train loss: 4.81669\n",
            "{'rouge1': 5.1901, 'rouge2': 1.0491, 'rougeL': 5.1649, 'rougeLsum': 5.1805, 'meteor': 12.9171}\n",
            "\n"
          ]
        }
      ]
    },
    {
      "cell_type": "markdown",
      "source": [
        "качество суммаризации не очень, но прогресс, в сравнении с тем что было до fine-tuning'а очевиден."
      ],
      "metadata": {
        "id": "4sNUNbQ3qvp_"
      }
    },
    {
      "cell_type": "code",
      "source": [
        "#                                          google/mt5-small:\n",
        "# epoch: 1\n",
        "# train loss: 4.81669\n",
        "# {'rouge1': 5.1901, 'rouge2': 1.0491, 'rougeL': 5.1649, 'rougeLsum': 5.1805, 'meteor': 12.9171}\n",
        "\n",
        "\n",
        "# epoch: 2\n",
        "# train loss: 3.80835\n",
        "# {'rouge1': 5.4517, 'rouge2': 1.1386, 'rougeL': 5.4611, 'rougeLsum': 5.4181, 'meteor': 13.098}"
      ],
      "metadata": {
        "id": "Bb7x3GvIAdQd"
      },
      "execution_count": null,
      "outputs": []
    },
    {
      "cell_type": "code",
      "source": [
        "plt.plot(loss_hist)\n",
        "plt.title('Train loss history')\n",
        "plt.xlabel('# iter')\n",
        "plt.ylabel('loss');"
      ],
      "metadata": {
        "id": "3Wyzi_3l9OG1",
        "outputId": "e16c7dd7-0e80-47c6-d901-94f06ec1af8c",
        "colab": {
          "base_uri": "https://localhost:8080/",
          "height": 472
        }
      },
      "execution_count": null,
      "outputs": [
        {
          "output_type": "display_data",
          "data": {
            "text/plain": [
              "<Figure size 640x480 with 1 Axes>"
            ],
            "image/png": "[encoded data removed]"
          },
          "metadata": {}
        }
      ]
    },
    {
      "cell_type": "markdown",
      "source": [
        "Примеры генерации заголовков"
      ],
      "metadata": {
        "id": "eGknRHyHq3VW"
      }
    },
    {
      "cell_type": "code",
      "source": [
        "# примеры генерации текста из последнего батча:\n",
        "text_gen = tokenizer.batch_decode(y_pred, skip_special_tokens=True)"
      ],
      "metadata": {
        "id": "bck_ukjf9F3I"
      },
      "execution_count": null,
      "outputs": []
    },
    {
      "cell_type": "code",
      "source": [
        "# google/mt5-small:\n",
        "text_gen"
      ],
      "metadata": {
        "colab": {
          "base_uri": "https://localhost:8080/"
        },
        "id": "5O8rnURYHEJ_",
        "outputId": "529e41db-17d9-455b-aa38-4e0dd24d9560"
      },
      "execution_count": null,
      "outputs": [
        {
          "output_type": "execute_result",
          "data": {
            "text/plain": [
              "['«Динамо» и «Динамо» уже не будет. Российские команды и московские армейцы уже давно не хватают шансы на Западе КХЛ.',\n",
              " '«Зенита» и «Зенит» снова вышел в истории «Зенита». «Зенит» вышел в истории «Зенита» в истории «Зенита».',\n",
              " 'Уэйн уже не побил рекорд Гретцки. Российские звезды всё равно не могут набрать рекорд в 50 голов за сезон. Российские звезды уже не смогли выйти на втором месте.',\n",
              " '«Феррари» и «Феррари» не может пойти в финале сезона. Даниил Квята не может пойти в карьере.',\n",
              " 'У «Спартака» снова выбил красно-белых из Кубка России. «Спартак» снова выбил «Спартака». «Спартак» снова снова снова испортил «Спартак».',\n",
              " '«ЧМ-2023» будет смотреть на финал чемпионата мира по хоккею. В этом матче будет смотреть трансляцию. Что будет смотреть на финал чемпионата мира по хоккею на ЧМ-2023.',\n",
              " 'Уайт и его детище уже не было шансов. Российский чемпион может стать лучшим бойцем. Российский чемпион может стать лучшим бойцем.',\n",
              " '«Лейкерс» и «Лейкерс» выиграли в плей-офф НХЛ. «Лейкерс» уже не было шансов.']"
            ]
          },
          "metadata": {},
          "execution_count": 40
        }
      ]
    },
    {
      "cell_type": "code",
      "source": [
        "# сделать больше эпох, обрезать градиенты, подобрать гиперпараметры оптимизатора и scheduler'a ...\n",
        "# To be continued..."
      ],
      "metadata": {
        "id": "rfeZ28ybHEwO"
      },
      "execution_count": null,
      "outputs": []
    },
    {
      "cell_type": "markdown",
      "source": [
        "Качество модели получилось низким, это связано с тем, что решаемая задача больше относится к генерации заголовков, а не к саммари статей.\n",
        "Заголовки с большой натяжкой можно отождествить саммари, тем не менее, в качестве упражнения - ок."
      ],
      "metadata": {
        "id": "AVl1xDAnkvUu"
      }
    },
    {
      "cell_type": "code",
      "source": [],
      "metadata": {
        "id": "gKW8w5qllFWr"
      },
      "execution_count": null,
      "outputs": []
    }
  ]
}