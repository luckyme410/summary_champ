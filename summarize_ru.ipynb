{
  "nbformat": 4,
  "nbformat_minor": 0,
  "metadata": {
    "colab": {
      "provenance": [],
      "authorship_tag": "ABX9TyNrzam9E7SEh/JSl8+zXfNx",
      "include_colab_link": true
    },
    "kernelspec": {
      "name": "python3",
      "display_name": "Python 3"
    },
    "language_info": {
      "name": "python"
    },
    "widgets": {
      "application/vnd.jupyter.widget-state+json": {
        "c0abcd3f449e4af99805a5d4f6db6130": {
          "model_module": "@jupyter-widgets/controls",
          "model_name": "HBoxModel",
          "model_module_version": "1.5.0",
          "state": {
            "_dom_classes": [],
            "_model_module": "@jupyter-widgets/controls",
            "_model_module_version": "1.5.0",
            "_model_name": "HBoxModel",
            "_view_count": null,
            "_view_module": "@jupyter-widgets/controls",
            "_view_module_version": "1.5.0",
            "_view_name": "HBoxView",
            "box_style": "",
            "children": [
              "IPY_MODEL_f2f0fd3a326d429f9e33322914ea9f26",
              "IPY_MODEL_782a9dad3ded4cbab382ebac8e8cc6f1",
              "IPY_MODEL_dbde205c47e740e2a64c3fe972ba7c1c"
            ],
            "layout": "IPY_MODEL_321a62b948054b0286098c17f102ed1f"
          }
        },
        "f2f0fd3a326d429f9e33322914ea9f26": {
          "model_module": "@jupyter-widgets/controls",
          "model_name": "HTMLModel",
          "model_module_version": "1.5.0",
          "state": {
            "_dom_classes": [],
            "_model_module": "@jupyter-widgets/controls",
            "_model_module_version": "1.5.0",
            "_model_name": "HTMLModel",
            "_view_count": null,
            "_view_module": "@jupyter-widgets/controls",
            "_view_module_version": "1.5.0",
            "_view_name": "HTMLView",
            "description": "",
            "description_tooltip": null,
            "layout": "IPY_MODEL_08ab04e4a8134fc1af83a1113aa92eb0",
            "placeholder": "​",
            "style": "IPY_MODEL_7940c18dce144063aeec88ff79613c8d",
            "value": "Map: 100%"
          }
        },
        "782a9dad3ded4cbab382ebac8e8cc6f1": {
          "model_module": "@jupyter-widgets/controls",
          "model_name": "FloatProgressModel",
          "model_module_version": "1.5.0",
          "state": {
            "_dom_classes": [],
            "_model_module": "@jupyter-widgets/controls",
            "_model_module_version": "1.5.0",
            "_model_name": "FloatProgressModel",
            "_view_count": null,
            "_view_module": "@jupyter-widgets/controls",
            "_view_module_version": "1.5.0",
            "_view_name": "ProgressView",
            "bar_style": "success",
            "description": "",
            "description_tooltip": null,
            "layout": "IPY_MODEL_79a2e6d132064723ba5bbc445595f224",
            "max": 2408,
            "min": 0,
            "orientation": "horizontal",
            "style": "IPY_MODEL_f72289dedb7745d49447e6fca885eb51",
            "value": 2408
          }
        },
        "dbde205c47e740e2a64c3fe972ba7c1c": {
          "model_module": "@jupyter-widgets/controls",
          "model_name": "HTMLModel",
          "model_module_version": "1.5.0",
          "state": {
            "_dom_classes": [],
            "_model_module": "@jupyter-widgets/controls",
            "_model_module_version": "1.5.0",
            "_model_name": "HTMLModel",
            "_view_count": null,
            "_view_module": "@jupyter-widgets/controls",
            "_view_module_version": "1.5.0",
            "_view_name": "HTMLView",
            "description": "",
            "description_tooltip": null,
            "layout": "IPY_MODEL_c9f9b0ecd4be459fbc2ec6e2732c9b8a",
            "placeholder": "​",
            "style": "IPY_MODEL_6a2a04b6f02c4897bb2f977a8eccbeea",
            "value": " 2408/2408 [00:07&lt;00:00, 370.81 examples/s]"
          }
        },
        "321a62b948054b0286098c17f102ed1f": {
          "model_module": "@jupyter-widgets/base",
          "model_name": "LayoutModel",
          "model_module_version": "1.2.0",
          "state": {
            "_model_module": "@jupyter-widgets/base",
            "_model_module_version": "1.2.0",
            "_model_name": "LayoutModel",
            "_view_count": null,
            "_view_module": "@jupyter-widgets/base",
            "_view_module_version": "1.2.0",
            "_view_name": "LayoutView",
            "align_content": null,
            "align_items": null,
            "align_self": null,
            "border": null,
            "bottom": null,
            "display": null,
            "flex": null,
            "flex_flow": null,
            "grid_area": null,
            "grid_auto_columns": null,
            "grid_auto_flow": null,
            "grid_auto_rows": null,
            "grid_column": null,
            "grid_gap": null,
            "grid_row": null,
            "grid_template_areas": null,
            "grid_template_columns": null,
            "grid_template_rows": null,
            "height": null,
            "justify_content": null,
            "justify_items": null,
            "left": null,
            "margin": null,
            "max_height": null,
            "max_width": null,
            "min_height": null,
            "min_width": null,
            "object_fit": null,
            "object_position": null,
            "order": null,
            "overflow": null,
            "overflow_x": null,
            "overflow_y": null,
            "padding": null,
            "right": null,
            "top": null,
            "visibility": null,
            "width": null
          }
        },
        "08ab04e4a8134fc1af83a1113aa92eb0": {
          "model_module": "@jupyter-widgets/base",
          "model_name": "LayoutModel",
          "model_module_version": "1.2.0",
          "state": {
            "_model_module": "@jupyter-widgets/base",
            "_model_module_version": "1.2.0",
            "_model_name": "LayoutModel",
            "_view_count": null,
            "_view_module": "@jupyter-widgets/base",
            "_view_module_version": "1.2.0",
            "_view_name": "LayoutView",
            "align_content": null,
            "align_items": null,
            "align_self": null,
            "border": null,
            "bottom": null,
            "display": null,
            "flex": null,
            "flex_flow": null,
            "grid_area": null,
            "grid_auto_columns": null,
            "grid_auto_flow": null,
            "grid_auto_rows": null,
            "grid_column": null,
            "grid_gap": null,
            "grid_row": null,
            "grid_template_areas": null,
            "grid_template_columns": null,
            "grid_template_rows": null,
            "height": null,
            "justify_content": null,
            "justify_items": null,
            "left": null,
            "margin": null,
            "max_height": null,
            "max_width": null,
            "min_height": null,
            "min_width": null,
            "object_fit": null,
            "object_position": null,
            "order": null,
            "overflow": null,
            "overflow_x": null,
            "overflow_y": null,
            "padding": null,
            "right": null,
            "top": null,
            "visibility": null,
            "width": null
          }
        },
        "7940c18dce144063aeec88ff79613c8d": {
          "model_module": "@jupyter-widgets/controls",
          "model_name": "DescriptionStyleModel",
          "model_module_version": "1.5.0",
          "state": {
            "_model_module": "@jupyter-widgets/controls",
            "_model_module_version": "1.5.0",
            "_model_name": "DescriptionStyleModel",
            "_view_count": null,
            "_view_module": "@jupyter-widgets/base",
            "_view_module_version": "1.2.0",
            "_view_name": "StyleView",
            "description_width": ""
          }
        },
        "79a2e6d132064723ba5bbc445595f224": {
          "model_module": "@jupyter-widgets/base",
          "model_name": "LayoutModel",
          "model_module_version": "1.2.0",
          "state": {
            "_model_module": "@jupyter-widgets/base",
            "_model_module_version": "1.2.0",
            "_model_name": "LayoutModel",
            "_view_count": null,
            "_view_module": "@jupyter-widgets/base",
            "_view_module_version": "1.2.0",
            "_view_name": "LayoutView",
            "align_content": null,
            "align_items": null,
            "align_self": null,
            "border": null,
            "bottom": null,
            "display": null,
            "flex": null,
            "flex_flow": null,
            "grid_area": null,
            "grid_auto_columns": null,
            "grid_auto_flow": null,
            "grid_auto_rows": null,
            "grid_column": null,
            "grid_gap": null,
            "grid_row": null,
            "grid_template_areas": null,
            "grid_template_columns": null,
            "grid_template_rows": null,
            "height": null,
            "justify_content": null,
            "justify_items": null,
            "left": null,
            "margin": null,
            "max_height": null,
            "max_width": null,
            "min_height": null,
            "min_width": null,
            "object_fit": null,
            "object_position": null,
            "order": null,
            "overflow": null,
            "overflow_x": null,
            "overflow_y": null,
            "padding": null,
            "right": null,
            "top": null,
            "visibility": null,
            "width": null
          }
        },
        "f72289dedb7745d49447e6fca885eb51": {
          "model_module": "@jupyter-widgets/controls",
          "model_name": "ProgressStyleModel",
          "model_module_version": "1.5.0",
          "state": {
            "_model_module": "@jupyter-widgets/controls",
            "_model_module_version": "1.5.0",
            "_model_name": "ProgressStyleModel",
            "_view_count": null,
            "_view_module": "@jupyter-widgets/base",
            "_view_module_version": "1.2.0",
            "_view_name": "StyleView",
            "bar_color": null,
            "description_width": ""
          }
        },
        "c9f9b0ecd4be459fbc2ec6e2732c9b8a": {
          "model_module": "@jupyter-widgets/base",
          "model_name": "LayoutModel",
          "model_module_version": "1.2.0",
          "state": {
            "_model_module": "@jupyter-widgets/base",
            "_model_module_version": "1.2.0",
            "_model_name": "LayoutModel",
            "_view_count": null,
            "_view_module": "@jupyter-widgets/base",
            "_view_module_version": "1.2.0",
            "_view_name": "LayoutView",
            "align_content": null,
            "align_items": null,
            "align_self": null,
            "border": null,
            "bottom": null,
            "display": null,
            "flex": null,
            "flex_flow": null,
            "grid_area": null,
            "grid_auto_columns": null,
            "grid_auto_flow": null,
            "grid_auto_rows": null,
            "grid_column": null,
            "grid_gap": null,
            "grid_row": null,
            "grid_template_areas": null,
            "grid_template_columns": null,
            "grid_template_rows": null,
            "height": null,
            "justify_content": null,
            "justify_items": null,
            "left": null,
            "margin": null,
            "max_height": null,
            "max_width": null,
            "min_height": null,
            "min_width": null,
            "object_fit": null,
            "object_position": null,
            "order": null,
            "overflow": null,
            "overflow_x": null,
            "overflow_y": null,
            "padding": null,
            "right": null,
            "top": null,
            "visibility": null,
            "width": null
          }
        },
        "6a2a04b6f02c4897bb2f977a8eccbeea": {
          "model_module": "@jupyter-widgets/controls",
          "model_name": "DescriptionStyleModel",
          "model_module_version": "1.5.0",
          "state": {
            "_model_module": "@jupyter-widgets/controls",
            "_model_module_version": "1.5.0",
            "_model_name": "DescriptionStyleModel",
            "_view_count": null,
            "_view_module": "@jupyter-widgets/base",
            "_view_module_version": "1.2.0",
            "_view_name": "StyleView",
            "description_width": ""
          }
        },
        "373337ecd86c4deba4e1c441aaa30c02": {
          "model_module": "@jupyter-widgets/controls",
          "model_name": "HBoxModel",
          "model_module_version": "1.5.0",
          "state": {
            "_dom_classes": [],
            "_model_module": "@jupyter-widgets/controls",
            "_model_module_version": "1.5.0",
            "_model_name": "HBoxModel",
            "_view_count": null,
            "_view_module": "@jupyter-widgets/controls",
            "_view_module_version": "1.5.0",
            "_view_name": "HBoxView",
            "box_style": "",
            "children": [
              "IPY_MODEL_844b181a9a1f4087ad04c4bb910d6a6d",
              "IPY_MODEL_55039447201448e7a494bc4d1f66cea4",
              "IPY_MODEL_36821d3361d84be881875f0620821635"
            ],
            "layout": "IPY_MODEL_4c6fad2490684075b1207e58a8a9c213"
          }
        },
        "844b181a9a1f4087ad04c4bb910d6a6d": {
          "model_module": "@jupyter-widgets/controls",
          "model_name": "HTMLModel",
          "model_module_version": "1.5.0",
          "state": {
            "_dom_classes": [],
            "_model_module": "@jupyter-widgets/controls",
            "_model_module_version": "1.5.0",
            "_model_name": "HTMLModel",
            "_view_count": null,
            "_view_module": "@jupyter-widgets/controls",
            "_view_module_version": "1.5.0",
            "_view_name": "HTMLView",
            "description": "",
            "description_tooltip": null,
            "layout": "IPY_MODEL_6354979f966541098a4eb679cc368cda",
            "placeholder": "​",
            "style": "IPY_MODEL_46264b26c1d54a0f8cbe442767e21e98",
            "value": "tokenizer_config.json: 100%"
          }
        },
        "55039447201448e7a494bc4d1f66cea4": {
          "model_module": "@jupyter-widgets/controls",
          "model_name": "FloatProgressModel",
          "model_module_version": "1.5.0",
          "state": {
            "_dom_classes": [],
            "_model_module": "@jupyter-widgets/controls",
            "_model_module_version": "1.5.0",
            "_model_name": "FloatProgressModel",
            "_view_count": null,
            "_view_module": "@jupyter-widgets/controls",
            "_view_module_version": "1.5.0",
            "_view_name": "ProgressView",
            "bar_style": "success",
            "description": "",
            "description_tooltip": null,
            "layout": "IPY_MODEL_cc82cee0939a4ce7b1719e5656895a48",
            "max": 82,
            "min": 0,
            "orientation": "horizontal",
            "style": "IPY_MODEL_a4601c7980674f15b517a2feba31f0e6",
            "value": 82
          }
        },
        "36821d3361d84be881875f0620821635": {
          "model_module": "@jupyter-widgets/controls",
          "model_name": "HTMLModel",
          "model_module_version": "1.5.0",
          "state": {
            "_dom_classes": [],
            "_model_module": "@jupyter-widgets/controls",
            "_model_module_version": "1.5.0",
            "_model_name": "HTMLModel",
            "_view_count": null,
            "_view_module": "@jupyter-widgets/controls",
            "_view_module_version": "1.5.0",
            "_view_name": "HTMLView",
            "description": "",
            "description_tooltip": null,
            "layout": "IPY_MODEL_f5e3afee6bee4fc4a3e82fb47c7096ab",
            "placeholder": "​",
            "style": "IPY_MODEL_984228f0de1a49ad8de9f5e65a486010",
            "value": " 82.0/82.0 [00:00&lt;00:00, 1.32kB/s]"
          }
        },
        "4c6fad2490684075b1207e58a8a9c213": {
          "model_module": "@jupyter-widgets/base",
          "model_name": "LayoutModel",
          "model_module_version": "1.2.0",
          "state": {
            "_model_module": "@jupyter-widgets/base",
            "_model_module_version": "1.2.0",
            "_model_name": "LayoutModel",
            "_view_count": null,
            "_view_module": "@jupyter-widgets/base",
            "_view_module_version": "1.2.0",
            "_view_name": "LayoutView",
            "align_content": null,
            "align_items": null,
            "align_self": null,
            "border": null,
            "bottom": null,
            "display": null,
            "flex": null,
            "flex_flow": null,
            "grid_area": null,
            "grid_auto_columns": null,
            "grid_auto_flow": null,
            "grid_auto_rows": null,
            "grid_column": null,
            "grid_gap": null,
            "grid_row": null,
            "grid_template_areas": null,
            "grid_template_columns": null,
            "grid_template_rows": null,
            "height": null,
            "justify_content": null,
            "justify_items": null,
            "left": null,
            "margin": null,
            "max_height": null,
            "max_width": null,
            "min_height": null,
            "min_width": null,
            "object_fit": null,
            "object_position": null,
            "order": null,
            "overflow": null,
            "overflow_x": null,
            "overflow_y": null,
            "padding": null,
            "right": null,
            "top": null,
            "visibility": null,
            "width": null
          }
        },
        "6354979f966541098a4eb679cc368cda": {
          "model_module": "@jupyter-widgets/base",
          "model_name": "LayoutModel",
          "model_module_version": "1.2.0",
          "state": {
            "_model_module": "@jupyter-widgets/base",
            "_model_module_version": "1.2.0",
            "_model_name": "LayoutModel",
            "_view_count": null,
            "_view_module": "@jupyter-widgets/base",
            "_view_module_version": "1.2.0",
            "_view_name": "LayoutView",
            "align_content": null,
            "align_items": null,
            "align_self": null,
            "border": null,
            "bottom": null,
            "display": null,
            "flex": null,
            "flex_flow": null,
            "grid_area": null,
            "grid_auto_columns": null,
            "grid_auto_flow": null,
            "grid_auto_rows": null,
            "grid_column": null,
            "grid_gap": null,
            "grid_row": null,
            "grid_template_areas": null,
            "grid_template_columns": null,
            "grid_template_rows": null,
            "height": null,
            "justify_content": null,
            "justify_items": null,
            "left": null,
            "margin": null,
            "max_height": null,
            "max_width": null,
            "min_height": null,
            "min_width": null,
            "object_fit": null,
            "object_position": null,
            "order": null,
            "overflow": null,
            "overflow_x": null,
            "overflow_y": null,
            "padding": null,
            "right": null,
            "top": null,
            "visibility": null,
            "width": null
          }
        },
        "46264b26c1d54a0f8cbe442767e21e98": {
          "model_module": "@jupyter-widgets/controls",
          "model_name": "DescriptionStyleModel",
          "model_module_version": "1.5.0",
          "state": {
            "_model_module": "@jupyter-widgets/controls",
            "_model_module_version": "1.5.0",
            "_model_name": "DescriptionStyleModel",
            "_view_count": null,
            "_view_module": "@jupyter-widgets/base",
            "_view_module_version": "1.2.0",
            "_view_name": "StyleView",
            "description_width": ""
          }
        },
        "cc82cee0939a4ce7b1719e5656895a48": {
          "model_module": "@jupyter-widgets/base",
          "model_name": "LayoutModel",
          "model_module_version": "1.2.0",
          "state": {
            "_model_module": "@jupyter-widgets/base",
            "_model_module_version": "1.2.0",
            "_model_name": "LayoutModel",
            "_view_count": null,
            "_view_module": "@jupyter-widgets/base",
            "_view_module_version": "1.2.0",
            "_view_name": "LayoutView",
            "align_content": null,
            "align_items": null,
            "align_self": null,
            "border": null,
            "bottom": null,
            "display": null,
            "flex": null,
            "flex_flow": null,
            "grid_area": null,
            "grid_auto_columns": null,
            "grid_auto_flow": null,
            "grid_auto_rows": null,
            "grid_column": null,
            "grid_gap": null,
            "grid_row": null,
            "grid_template_areas": null,
            "grid_template_columns": null,
            "grid_template_rows": null,
            "height": null,
            "justify_content": null,
            "justify_items": null,
            "left": null,
            "margin": null,
            "max_height": null,
            "max_width": null,
            "min_height": null,
            "min_width": null,
            "object_fit": null,
            "object_position": null,
            "order": null,
            "overflow": null,
            "overflow_x": null,
            "overflow_y": null,
            "padding": null,
            "right": null,
            "top": null,
            "visibility": null,
            "width": null
          }
        },
        "a4601c7980674f15b517a2feba31f0e6": {
          "model_module": "@jupyter-widgets/controls",
          "model_name": "ProgressStyleModel",
          "model_module_version": "1.5.0",
          "state": {
            "_model_module": "@jupyter-widgets/controls",
            "_model_module_version": "1.5.0",
            "_model_name": "ProgressStyleModel",
            "_view_count": null,
            "_view_module": "@jupyter-widgets/base",
            "_view_module_version": "1.2.0",
            "_view_name": "StyleView",
            "bar_color": null,
            "description_width": ""
          }
        },
        "f5e3afee6bee4fc4a3e82fb47c7096ab": {
          "model_module": "@jupyter-widgets/base",
          "model_name": "LayoutModel",
          "model_module_version": "1.2.0",
          "state": {
            "_model_module": "@jupyter-widgets/base",
            "_model_module_version": "1.2.0",
            "_model_name": "LayoutModel",
            "_view_count": null,
            "_view_module": "@jupyter-widgets/base",
            "_view_module_version": "1.2.0",
            "_view_name": "LayoutView",
            "align_content": null,
            "align_items": null,
            "align_self": null,
            "border": null,
            "bottom": null,
            "display": null,
            "flex": null,
            "flex_flow": null,
            "grid_area": null,
            "grid_auto_columns": null,
            "grid_auto_flow": null,
            "grid_auto_rows": null,
            "grid_column": null,
            "grid_gap": null,
            "grid_row": null,
            "grid_template_areas": null,
            "grid_template_columns": null,
            "grid_template_rows": null,
            "height": null,
            "justify_content": null,
            "justify_items": null,
            "left": null,
            "margin": null,
            "max_height": null,
            "max_width": null,
            "min_height": null,
            "min_width": null,
            "object_fit": null,
            "object_position": null,
            "order": null,
            "overflow": null,
            "overflow_x": null,
            "overflow_y": null,
            "padding": null,
            "right": null,
            "top": null,
            "visibility": null,
            "width": null
          }
        },
        "984228f0de1a49ad8de9f5e65a486010": {
          "model_module": "@jupyter-widgets/controls",
          "model_name": "DescriptionStyleModel",
          "model_module_version": "1.5.0",
          "state": {
            "_model_module": "@jupyter-widgets/controls",
            "_model_module_version": "1.5.0",
            "_model_name": "DescriptionStyleModel",
            "_view_count": null,
            "_view_module": "@jupyter-widgets/base",
            "_view_module_version": "1.2.0",
            "_view_name": "StyleView",
            "description_width": ""
          }
        },
        "43b4e95f747341f6bde532a32d04b47d": {
          "model_module": "@jupyter-widgets/controls",
          "model_name": "HBoxModel",
          "model_module_version": "1.5.0",
          "state": {
            "_dom_classes": [],
            "_model_module": "@jupyter-widgets/controls",
            "_model_module_version": "1.5.0",
            "_model_name": "HBoxModel",
            "_view_count": null,
            "_view_module": "@jupyter-widgets/controls",
            "_view_module_version": "1.5.0",
            "_view_name": "HBoxView",
            "box_style": "",
            "children": [
              "IPY_MODEL_61ae32d1ea15496fab2a23c68bfaf3ac",
              "IPY_MODEL_979196c37f4c4d39a3b4bbd54a9dfeb8",
              "IPY_MODEL_c0c73459e5234f23aa3595f16005720e"
            ],
            "layout": "IPY_MODEL_d61cf5ff48474470a01d4b8c5cc19a19"
          }
        },
        "61ae32d1ea15496fab2a23c68bfaf3ac": {
          "model_module": "@jupyter-widgets/controls",
          "model_name": "HTMLModel",
          "model_module_version": "1.5.0",
          "state": {
            "_dom_classes": [],
            "_model_module": "@jupyter-widgets/controls",
            "_model_module_version": "1.5.0",
            "_model_name": "HTMLModel",
            "_view_count": null,
            "_view_module": "@jupyter-widgets/controls",
            "_view_module_version": "1.5.0",
            "_view_name": "HTMLView",
            "description": "",
            "description_tooltip": null,
            "layout": "IPY_MODEL_3666c424d9134a40b91f9aa5687274a2",
            "placeholder": "​",
            "style": "IPY_MODEL_0794ccbfa7c1448484d4ce2497a3f31e",
            "value": "config.json: 100%"
          }
        },
        "979196c37f4c4d39a3b4bbd54a9dfeb8": {
          "model_module": "@jupyter-widgets/controls",
          "model_name": "FloatProgressModel",
          "model_module_version": "1.5.0",
          "state": {
            "_dom_classes": [],
            "_model_module": "@jupyter-widgets/controls",
            "_model_module_version": "1.5.0",
            "_model_name": "FloatProgressModel",
            "_view_count": null,
            "_view_module": "@jupyter-widgets/controls",
            "_view_module_version": "1.5.0",
            "_view_name": "ProgressView",
            "bar_style": "success",
            "description": "",
            "description_tooltip": null,
            "layout": "IPY_MODEL_0dd01ae2cfae450b8fc616fb1503c200",
            "max": 553,
            "min": 0,
            "orientation": "horizontal",
            "style": "IPY_MODEL_f924dd73437c4dfeb1840bd3d5afb0c6",
            "value": 553
          }
        },
        "c0c73459e5234f23aa3595f16005720e": {
          "model_module": "@jupyter-widgets/controls",
          "model_name": "HTMLModel",
          "model_module_version": "1.5.0",
          "state": {
            "_dom_classes": [],
            "_model_module": "@jupyter-widgets/controls",
            "_model_module_version": "1.5.0",
            "_model_name": "HTMLModel",
            "_view_count": null,
            "_view_module": "@jupyter-widgets/controls",
            "_view_module_version": "1.5.0",
            "_view_name": "HTMLView",
            "description": "",
            "description_tooltip": null,
            "layout": "IPY_MODEL_20595162a1b1424ca4813c362ea5a17e",
            "placeholder": "​",
            "style": "IPY_MODEL_5e9b09826ca641f5b7fa9fb6168c0e9e",
            "value": " 553/553 [00:00&lt;00:00, 11.8kB/s]"
          }
        },
        "d61cf5ff48474470a01d4b8c5cc19a19": {
          "model_module": "@jupyter-widgets/base",
          "model_name": "LayoutModel",
          "model_module_version": "1.2.0",
          "state": {
            "_model_module": "@jupyter-widgets/base",
            "_model_module_version": "1.2.0",
            "_model_name": "LayoutModel",
            "_view_count": null,
            "_view_module": "@jupyter-widgets/base",
            "_view_module_version": "1.2.0",
            "_view_name": "LayoutView",
            "align_content": null,
            "align_items": null,
            "align_self": null,
            "border": null,
            "bottom": null,
            "display": null,
            "flex": null,
            "flex_flow": null,
            "grid_area": null,
            "grid_auto_columns": null,
            "grid_auto_flow": null,
            "grid_auto_rows": null,
            "grid_column": null,
            "grid_gap": null,
            "grid_row": null,
            "grid_template_areas": null,
            "grid_template_columns": null,
            "grid_template_rows": null,
            "height": null,
            "justify_content": null,
            "justify_items": null,
            "left": null,
            "margin": null,
            "max_height": null,
            "max_width": null,
            "min_height": null,
            "min_width": null,
            "object_fit": null,
            "object_position": null,
            "order": null,
            "overflow": null,
            "overflow_x": null,
            "overflow_y": null,
            "padding": null,
            "right": null,
            "top": null,
            "visibility": null,
            "width": null
          }
        },
        "3666c424d9134a40b91f9aa5687274a2": {
          "model_module": "@jupyter-widgets/base",
          "model_name": "LayoutModel",
          "model_module_version": "1.2.0",
          "state": {
            "_model_module": "@jupyter-widgets/base",
            "_model_module_version": "1.2.0",
            "_model_name": "LayoutModel",
            "_view_count": null,
            "_view_module": "@jupyter-widgets/base",
            "_view_module_version": "1.2.0",
            "_view_name": "LayoutView",
            "align_content": null,
            "align_items": null,
            "align_self": null,
            "border": null,
            "bottom": null,
            "display": null,
            "flex": null,
            "flex_flow": null,
            "grid_area": null,
            "grid_auto_columns": null,
            "grid_auto_flow": null,
            "grid_auto_rows": null,
            "grid_column": null,
            "grid_gap": null,
            "grid_row": null,
            "grid_template_areas": null,
            "grid_template_columns": null,
            "grid_template_rows": null,
            "height": null,
            "justify_content": null,
            "justify_items": null,
            "left": null,
            "margin": null,
            "max_height": null,
            "max_width": null,
            "min_height": null,
            "min_width": null,
            "object_fit": null,
            "object_position": null,
            "order": null,
            "overflow": null,
            "overflow_x": null,
            "overflow_y": null,
            "padding": null,
            "right": null,
            "top": null,
            "visibility": null,
            "width": null
          }
        },
        "0794ccbfa7c1448484d4ce2497a3f31e": {
          "model_module": "@jupyter-widgets/controls",
          "model_name": "DescriptionStyleModel",
          "model_module_version": "1.5.0",
          "state": {
            "_model_module": "@jupyter-widgets/controls",
            "_model_module_version": "1.5.0",
            "_model_name": "DescriptionStyleModel",
            "_view_count": null,
            "_view_module": "@jupyter-widgets/base",
            "_view_module_version": "1.2.0",
            "_view_name": "StyleView",
            "description_width": ""
          }
        },
        "0dd01ae2cfae450b8fc616fb1503c200": {
          "model_module": "@jupyter-widgets/base",
          "model_name": "LayoutModel",
          "model_module_version": "1.2.0",
          "state": {
            "_model_module": "@jupyter-widgets/base",
            "_model_module_version": "1.2.0",
            "_model_name": "LayoutModel",
            "_view_count": null,
            "_view_module": "@jupyter-widgets/base",
            "_view_module_version": "1.2.0",
            "_view_name": "LayoutView",
            "align_content": null,
            "align_items": null,
            "align_self": null,
            "border": null,
            "bottom": null,
            "display": null,
            "flex": null,
            "flex_flow": null,
            "grid_area": null,
            "grid_auto_columns": null,
            "grid_auto_flow": null,
            "grid_auto_rows": null,
            "grid_column": null,
            "grid_gap": null,
            "grid_row": null,
            "grid_template_areas": null,
            "grid_template_columns": null,
            "grid_template_rows": null,
            "height": null,
            "justify_content": null,
            "justify_items": null,
            "left": null,
            "margin": null,
            "max_height": null,
            "max_width": null,
            "min_height": null,
            "min_width": null,
            "object_fit": null,
            "object_position": null,
            "order": null,
            "overflow": null,
            "overflow_x": null,
            "overflow_y": null,
            "padding": null,
            "right": null,
            "top": null,
            "visibility": null,
            "width": null
          }
        },
        "f924dd73437c4dfeb1840bd3d5afb0c6": {
          "model_module": "@jupyter-widgets/controls",
          "model_name": "ProgressStyleModel",
          "model_module_version": "1.5.0",
          "state": {
            "_model_module": "@jupyter-widgets/controls",
            "_model_module_version": "1.5.0",
            "_model_name": "ProgressStyleModel",
            "_view_count": null,
            "_view_module": "@jupyter-widgets/base",
            "_view_module_version": "1.2.0",
            "_view_name": "StyleView",
            "bar_color": null,
            "description_width": ""
          }
        },
        "20595162a1b1424ca4813c362ea5a17e": {
          "model_module": "@jupyter-widgets/base",
          "model_name": "LayoutModel",
          "model_module_version": "1.2.0",
          "state": {
            "_model_module": "@jupyter-widgets/base",
            "_model_module_version": "1.2.0",
            "_model_name": "LayoutModel",
            "_view_count": null,
            "_view_module": "@jupyter-widgets/base",
            "_view_module_version": "1.2.0",
            "_view_name": "LayoutView",
            "align_content": null,
            "align_items": null,
            "align_self": null,
            "border": null,
            "bottom": null,
            "display": null,
            "flex": null,
            "flex_flow": null,
            "grid_area": null,
            "grid_auto_columns": null,
            "grid_auto_flow": null,
            "grid_auto_rows": null,
            "grid_column": null,
            "grid_gap": null,
            "grid_row": null,
            "grid_template_areas": null,
            "grid_template_columns": null,
            "grid_template_rows": null,
            "height": null,
            "justify_content": null,
            "justify_items": null,
            "left": null,
            "margin": null,
            "max_height": null,
            "max_width": null,
            "min_height": null,
            "min_width": null,
            "object_fit": null,
            "object_position": null,
            "order": null,
            "overflow": null,
            "overflow_x": null,
            "overflow_y": null,
            "padding": null,
            "right": null,
            "top": null,
            "visibility": null,
            "width": null
          }
        },
        "5e9b09826ca641f5b7fa9fb6168c0e9e": {
          "model_module": "@jupyter-widgets/controls",
          "model_name": "DescriptionStyleModel",
          "model_module_version": "1.5.0",
          "state": {
            "_model_module": "@jupyter-widgets/controls",
            "_model_module_version": "1.5.0",
            "_model_name": "DescriptionStyleModel",
            "_view_count": null,
            "_view_module": "@jupyter-widgets/base",
            "_view_module_version": "1.2.0",
            "_view_name": "StyleView",
            "description_width": ""
          }
        },
        "e543b9a0764b4edababd333088cc2371": {
          "model_module": "@jupyter-widgets/controls",
          "model_name": "HBoxModel",
          "model_module_version": "1.5.0",
          "state": {
            "_dom_classes": [],
            "_model_module": "@jupyter-widgets/controls",
            "_model_module_version": "1.5.0",
            "_model_name": "HBoxModel",
            "_view_count": null,
            "_view_module": "@jupyter-widgets/controls",
            "_view_module_version": "1.5.0",
            "_view_name": "HBoxView",
            "box_style": "",
            "children": [
              "IPY_MODEL_7fb445e9c8bb492cbb518c10e16087c3",
              "IPY_MODEL_edee227df18d4074a6a5a2eb95918048",
              "IPY_MODEL_c90a741b68ca416c981bc8fbbe163b5d"
            ],
            "layout": "IPY_MODEL_bf427b04a628417395ae43fdaa2ecdec"
          }
        },
        "7fb445e9c8bb492cbb518c10e16087c3": {
          "model_module": "@jupyter-widgets/controls",
          "model_name": "HTMLModel",
          "model_module_version": "1.5.0",
          "state": {
            "_dom_classes": [],
            "_model_module": "@jupyter-widgets/controls",
            "_model_module_version": "1.5.0",
            "_model_name": "HTMLModel",
            "_view_count": null,
            "_view_module": "@jupyter-widgets/controls",
            "_view_module_version": "1.5.0",
            "_view_name": "HTMLView",
            "description": "",
            "description_tooltip": null,
            "layout": "IPY_MODEL_f7cfd9b129b94a16a5c798f51d7db836",
            "placeholder": "​",
            "style": "IPY_MODEL_194f7b709f0a435391016067195f1546",
            "value": "spiece.model: 100%"
          }
        },
        "edee227df18d4074a6a5a2eb95918048": {
          "model_module": "@jupyter-widgets/controls",
          "model_name": "FloatProgressModel",
          "model_module_version": "1.5.0",
          "state": {
            "_dom_classes": [],
            "_model_module": "@jupyter-widgets/controls",
            "_model_module_version": "1.5.0",
            "_model_name": "FloatProgressModel",
            "_view_count": null,
            "_view_module": "@jupyter-widgets/controls",
            "_view_module_version": "1.5.0",
            "_view_name": "ProgressView",
            "bar_style": "success",
            "description": "",
            "description_tooltip": null,
            "layout": "IPY_MODEL_f5fae58338dc4d138f82e76edf16c94e",
            "max": 4309802,
            "min": 0,
            "orientation": "horizontal",
            "style": "IPY_MODEL_ee7ab7dcf18b4cdba2fe2bf6238cc1ae",
            "value": 4309802
          }
        },
        "c90a741b68ca416c981bc8fbbe163b5d": {
          "model_module": "@jupyter-widgets/controls",
          "model_name": "HTMLModel",
          "model_module_version": "1.5.0",
          "state": {
            "_dom_classes": [],
            "_model_module": "@jupyter-widgets/controls",
            "_model_module_version": "1.5.0",
            "_model_name": "HTMLModel",
            "_view_count": null,
            "_view_module": "@jupyter-widgets/controls",
            "_view_module_version": "1.5.0",
            "_view_name": "HTMLView",
            "description": "",
            "description_tooltip": null,
            "layout": "IPY_MODEL_19e77372fd3c46e79777733107cb28c8",
            "placeholder": "​",
            "style": "IPY_MODEL_be7d7c6690a8449dab3b4814984265f7",
            "value": " 4.31M/4.31M [00:00&lt;00:00, 10.8MB/s]"
          }
        },
        "bf427b04a628417395ae43fdaa2ecdec": {
          "model_module": "@jupyter-widgets/base",
          "model_name": "LayoutModel",
          "model_module_version": "1.2.0",
          "state": {
            "_model_module": "@jupyter-widgets/base",
            "_model_module_version": "1.2.0",
            "_model_name": "LayoutModel",
            "_view_count": null,
            "_view_module": "@jupyter-widgets/base",
            "_view_module_version": "1.2.0",
            "_view_name": "LayoutView",
            "align_content": null,
            "align_items": null,
            "align_self": null,
            "border": null,
            "bottom": null,
            "display": null,
            "flex": null,
            "flex_flow": null,
            "grid_area": null,
            "grid_auto_columns": null,
            "grid_auto_flow": null,
            "grid_auto_rows": null,
            "grid_column": null,
            "grid_gap": null,
            "grid_row": null,
            "grid_template_areas": null,
            "grid_template_columns": null,
            "grid_template_rows": null,
            "height": null,
            "justify_content": null,
            "justify_items": null,
            "left": null,
            "margin": null,
            "max_height": null,
            "max_width": null,
            "min_height": null,
            "min_width": null,
            "object_fit": null,
            "object_position": null,
            "order": null,
            "overflow": null,
            "overflow_x": null,
            "overflow_y": null,
            "padding": null,
            "right": null,
            "top": null,
            "visibility": null,
            "width": null
          }
        },
        "f7cfd9b129b94a16a5c798f51d7db836": {
          "model_module": "@jupyter-widgets/base",
          "model_name": "LayoutModel",
          "model_module_version": "1.2.0",
          "state": {
            "_model_module": "@jupyter-widgets/base",
            "_model_module_version": "1.2.0",
            "_model_name": "LayoutModel",
            "_view_count": null,
            "_view_module": "@jupyter-widgets/base",
            "_view_module_version": "1.2.0",
            "_view_name": "LayoutView",
            "align_content": null,
            "align_items": null,
            "align_self": null,
            "border": null,
            "bottom": null,
            "display": null,
            "flex": null,
            "flex_flow": null,
            "grid_area": null,
            "grid_auto_columns": null,
            "grid_auto_flow": null,
            "grid_auto_rows": null,
            "grid_column": null,
            "grid_gap": null,
            "grid_row": null,
            "grid_template_areas": null,
            "grid_template_columns": null,
            "grid_template_rows": null,
            "height": null,
            "justify_content": null,
            "justify_items": null,
            "left": null,
            "margin": null,
            "max_height": null,
            "max_width": null,
            "min_height": null,
            "min_width": null,
            "object_fit": null,
            "object_position": null,
            "order": null,
            "overflow": null,
            "overflow_x": null,
            "overflow_y": null,
            "padding": null,
            "right": null,
            "top": null,
            "visibility": null,
            "width": null
          }
        },
        "194f7b709f0a435391016067195f1546": {
          "model_module": "@jupyter-widgets/controls",
          "model_name": "DescriptionStyleModel",
          "model_module_version": "1.5.0",
          "state": {
            "_model_module": "@jupyter-widgets/controls",
            "_model_module_version": "1.5.0",
            "_model_name": "DescriptionStyleModel",
            "_view_count": null,
            "_view_module": "@jupyter-widgets/base",
            "_view_module_version": "1.2.0",
            "_view_name": "StyleView",
            "description_width": ""
          }
        },
        "f5fae58338dc4d138f82e76edf16c94e": {
          "model_module": "@jupyter-widgets/base",
          "model_name": "LayoutModel",
          "model_module_version": "1.2.0",
          "state": {
            "_model_module": "@jupyter-widgets/base",
            "_model_module_version": "1.2.0",
            "_model_name": "LayoutModel",
            "_view_count": null,
            "_view_module": "@jupyter-widgets/base",
            "_view_module_version": "1.2.0",
            "_view_name": "LayoutView",
            "align_content": null,
            "align_items": null,
            "align_self": null,
            "border": null,
            "bottom": null,
            "display": null,
            "flex": null,
            "flex_flow": null,
            "grid_area": null,
            "grid_auto_columns": null,
            "grid_auto_flow": null,
            "grid_auto_rows": null,
            "grid_column": null,
            "grid_gap": null,
            "grid_row": null,
            "grid_template_areas": null,
            "grid_template_columns": null,
            "grid_template_rows": null,
            "height": null,
            "justify_content": null,
            "justify_items": null,
            "left": null,
            "margin": null,
            "max_height": null,
            "max_width": null,
            "min_height": null,
            "min_width": null,
            "object_fit": null,
            "object_position": null,
            "order": null,
            "overflow": null,
            "overflow_x": null,
            "overflow_y": null,
            "padding": null,
            "right": null,
            "top": null,
            "visibility": null,
            "width": null
          }
        },
        "ee7ab7dcf18b4cdba2fe2bf6238cc1ae": {
          "model_module": "@jupyter-widgets/controls",
          "model_name": "ProgressStyleModel",
          "model_module_version": "1.5.0",
          "state": {
            "_model_module": "@jupyter-widgets/controls",
            "_model_module_version": "1.5.0",
            "_model_name": "ProgressStyleModel",
            "_view_count": null,
            "_view_module": "@jupyter-widgets/base",
            "_view_module_version": "1.2.0",
            "_view_name": "StyleView",
            "bar_color": null,
            "description_width": ""
          }
        },
        "19e77372fd3c46e79777733107cb28c8": {
          "model_module": "@jupyter-widgets/base",
          "model_name": "LayoutModel",
          "model_module_version": "1.2.0",
          "state": {
            "_model_module": "@jupyter-widgets/base",
            "_model_module_version": "1.2.0",
            "_model_name": "LayoutModel",
            "_view_count": null,
            "_view_module": "@jupyter-widgets/base",
            "_view_module_version": "1.2.0",
            "_view_name": "LayoutView",
            "align_content": null,
            "align_items": null,
            "align_self": null,
            "border": null,
            "bottom": null,
            "display": null,
            "flex": null,
            "flex_flow": null,
            "grid_area": null,
            "grid_auto_columns": null,
            "grid_auto_flow": null,
            "grid_auto_rows": null,
            "grid_column": null,
            "grid_gap": null,
            "grid_row": null,
            "grid_template_areas": null,
            "grid_template_columns": null,
            "grid_template_rows": null,
            "height": null,
            "justify_content": null,
            "justify_items": null,
            "left": null,
            "margin": null,
            "max_height": null,
            "max_width": null,
            "min_height": null,
            "min_width": null,
            "object_fit": null,
            "object_position": null,
            "order": null,
            "overflow": null,
            "overflow_x": null,
            "overflow_y": null,
            "padding": null,
            "right": null,
            "top": null,
            "visibility": null,
            "width": null
          }
        },
        "be7d7c6690a8449dab3b4814984265f7": {
          "model_module": "@jupyter-widgets/controls",
          "model_name": "DescriptionStyleModel",
          "model_module_version": "1.5.0",
          "state": {
            "_model_module": "@jupyter-widgets/controls",
            "_model_module_version": "1.5.0",
            "_model_name": "DescriptionStyleModel",
            "_view_count": null,
            "_view_module": "@jupyter-widgets/base",
            "_view_module_version": "1.2.0",
            "_view_name": "StyleView",
            "description_width": ""
          }
        },
        "3fa81932b70c4495975b56d988ef0dbb": {
          "model_module": "@jupyter-widgets/controls",
          "model_name": "HBoxModel",
          "model_module_version": "1.5.0",
          "state": {
            "_dom_classes": [],
            "_model_module": "@jupyter-widgets/controls",
            "_model_module_version": "1.5.0",
            "_model_name": "HBoxModel",
            "_view_count": null,
            "_view_module": "@jupyter-widgets/controls",
            "_view_module_version": "1.5.0",
            "_view_name": "HBoxView",
            "box_style": "",
            "children": [
              "IPY_MODEL_04b1ae5ea9124d02bc982fd9624c04e2",
              "IPY_MODEL_2f374557d22c4b15b4fc908da8f683c0",
              "IPY_MODEL_d15415404d6d4dc594efdd0356966a59"
            ],
            "layout": "IPY_MODEL_3b148da7e16e465fafac4f05f0d63909"
          }
        },
        "04b1ae5ea9124d02bc982fd9624c04e2": {
          "model_module": "@jupyter-widgets/controls",
          "model_name": "HTMLModel",
          "model_module_version": "1.5.0",
          "state": {
            "_dom_classes": [],
            "_model_module": "@jupyter-widgets/controls",
            "_model_module_version": "1.5.0",
            "_model_name": "HTMLModel",
            "_view_count": null,
            "_view_module": "@jupyter-widgets/controls",
            "_view_module_version": "1.5.0",
            "_view_name": "HTMLView",
            "description": "",
            "description_tooltip": null,
            "layout": "IPY_MODEL_d8cf8e5d018145c78b92f10779630cf8",
            "placeholder": "​",
            "style": "IPY_MODEL_8fa9abd56df1404ea0117422983242d8",
            "value": "special_tokens_map.json: 100%"
          }
        },
        "2f374557d22c4b15b4fc908da8f683c0": {
          "model_module": "@jupyter-widgets/controls",
          "model_name": "FloatProgressModel",
          "model_module_version": "1.5.0",
          "state": {
            "_dom_classes": [],
            "_model_module": "@jupyter-widgets/controls",
            "_model_module_version": "1.5.0",
            "_model_name": "FloatProgressModel",
            "_view_count": null,
            "_view_module": "@jupyter-widgets/controls",
            "_view_module_version": "1.5.0",
            "_view_name": "ProgressView",
            "bar_style": "success",
            "description": "",
            "description_tooltip": null,
            "layout": "IPY_MODEL_2c3a51c261c54fb59c3d39f226d93809",
            "max": 99,
            "min": 0,
            "orientation": "horizontal",
            "style": "IPY_MODEL_65083bc1b3f04a02a53db1b3b73a7186",
            "value": 99
          }
        },
        "d15415404d6d4dc594efdd0356966a59": {
          "model_module": "@jupyter-widgets/controls",
          "model_name": "HTMLModel",
          "model_module_version": "1.5.0",
          "state": {
            "_dom_classes": [],
            "_model_module": "@jupyter-widgets/controls",
            "_model_module_version": "1.5.0",
            "_model_name": "HTMLModel",
            "_view_count": null,
            "_view_module": "@jupyter-widgets/controls",
            "_view_module_version": "1.5.0",
            "_view_name": "HTMLView",
            "description": "",
            "description_tooltip": null,
            "layout": "IPY_MODEL_3be7ad2a99104957ba943701cdd48955",
            "placeholder": "​",
            "style": "IPY_MODEL_5f9d50d434e94408abc1830e4faca79b",
            "value": " 99.0/99.0 [00:00&lt;00:00, 2.96kB/s]"
          }
        },
        "3b148da7e16e465fafac4f05f0d63909": {
          "model_module": "@jupyter-widgets/base",
          "model_name": "LayoutModel",
          "model_module_version": "1.2.0",
          "state": {
            "_model_module": "@jupyter-widgets/base",
            "_model_module_version": "1.2.0",
            "_model_name": "LayoutModel",
            "_view_count": null,
            "_view_module": "@jupyter-widgets/base",
            "_view_module_version": "1.2.0",
            "_view_name": "LayoutView",
            "align_content": null,
            "align_items": null,
            "align_self": null,
            "border": null,
            "bottom": null,
            "display": null,
            "flex": null,
            "flex_flow": null,
            "grid_area": null,
            "grid_auto_columns": null,
            "grid_auto_flow": null,
            "grid_auto_rows": null,
            "grid_column": null,
            "grid_gap": null,
            "grid_row": null,
            "grid_template_areas": null,
            "grid_template_columns": null,
            "grid_template_rows": null,
            "height": null,
            "justify_content": null,
            "justify_items": null,
            "left": null,
            "margin": null,
            "max_height": null,
            "max_width": null,
            "min_height": null,
            "min_width": null,
            "object_fit": null,
            "object_position": null,
            "order": null,
            "overflow": null,
            "overflow_x": null,
            "overflow_y": null,
            "padding": null,
            "right": null,
            "top": null,
            "visibility": null,
            "width": null
          }
        },
        "d8cf8e5d018145c78b92f10779630cf8": {
          "model_module": "@jupyter-widgets/base",
          "model_name": "LayoutModel",
          "model_module_version": "1.2.0",
          "state": {
            "_model_module": "@jupyter-widgets/base",
            "_model_module_version": "1.2.0",
            "_model_name": "LayoutModel",
            "_view_count": null,
            "_view_module": "@jupyter-widgets/base",
            "_view_module_version": "1.2.0",
            "_view_name": "LayoutView",
            "align_content": null,
            "align_items": null,
            "align_self": null,
            "border": null,
            "bottom": null,
            "display": null,
            "flex": null,
            "flex_flow": null,
            "grid_area": null,
            "grid_auto_columns": null,
            "grid_auto_flow": null,
            "grid_auto_rows": null,
            "grid_column": null,
            "grid_gap": null,
            "grid_row": null,
            "grid_template_areas": null,
            "grid_template_columns": null,
            "grid_template_rows": null,
            "height": null,
            "justify_content": null,
            "justify_items": null,
            "left": null,
            "margin": null,
            "max_height": null,
            "max_width": null,
            "min_height": null,
            "min_width": null,
            "object_fit": null,
            "object_position": null,
            "order": null,
            "overflow": null,
            "overflow_x": null,
            "overflow_y": null,
            "padding": null,
            "right": null,
            "top": null,
            "visibility": null,
            "width": null
          }
        },
        "8fa9abd56df1404ea0117422983242d8": {
          "model_module": "@jupyter-widgets/controls",
          "model_name": "DescriptionStyleModel",
          "model_module_version": "1.5.0",
          "state": {
            "_model_module": "@jupyter-widgets/controls",
            "_model_module_version": "1.5.0",
            "_model_name": "DescriptionStyleModel",
            "_view_count": null,
            "_view_module": "@jupyter-widgets/base",
            "_view_module_version": "1.2.0",
            "_view_name": "StyleView",
            "description_width": ""
          }
        },
        "2c3a51c261c54fb59c3d39f226d93809": {
          "model_module": "@jupyter-widgets/base",
          "model_name": "LayoutModel",
          "model_module_version": "1.2.0",
          "state": {
            "_model_module": "@jupyter-widgets/base",
            "_model_module_version": "1.2.0",
            "_model_name": "LayoutModel",
            "_view_count": null,
            "_view_module": "@jupyter-widgets/base",
            "_view_module_version": "1.2.0",
            "_view_name": "LayoutView",
            "align_content": null,
            "align_items": null,
            "align_self": null,
            "border": null,
            "bottom": null,
            "display": null,
            "flex": null,
            "flex_flow": null,
            "grid_area": null,
            "grid_auto_columns": null,
            "grid_auto_flow": null,
            "grid_auto_rows": null,
            "grid_column": null,
            "grid_gap": null,
            "grid_row": null,
            "grid_template_areas": null,
            "grid_template_columns": null,
            "grid_template_rows": null,
            "height": null,
            "justify_content": null,
            "justify_items": null,
            "left": null,
            "margin": null,
            "max_height": null,
            "max_width": null,
            "min_height": null,
            "min_width": null,
            "object_fit": null,
            "object_position": null,
            "order": null,
            "overflow": null,
            "overflow_x": null,
            "overflow_y": null,
            "padding": null,
            "right": null,
            "top": null,
            "visibility": null,
            "width": null
          }
        },
        "65083bc1b3f04a02a53db1b3b73a7186": {
          "model_module": "@jupyter-widgets/controls",
          "model_name": "ProgressStyleModel",
          "model_module_version": "1.5.0",
          "state": {
            "_model_module": "@jupyter-widgets/controls",
            "_model_module_version": "1.5.0",
            "_model_name": "ProgressStyleModel",
            "_view_count": null,
            "_view_module": "@jupyter-widgets/base",
            "_view_module_version": "1.2.0",
            "_view_name": "StyleView",
            "bar_color": null,
            "description_width": ""
          }
        },
        "3be7ad2a99104957ba943701cdd48955": {
          "model_module": "@jupyter-widgets/base",
          "model_name": "LayoutModel",
          "model_module_version": "1.2.0",
          "state": {
            "_model_module": "@jupyter-widgets/base",
            "_model_module_version": "1.2.0",
            "_model_name": "LayoutModel",
            "_view_count": null,
            "_view_module": "@jupyter-widgets/base",
            "_view_module_version": "1.2.0",
            "_view_name": "LayoutView",
            "align_content": null,
            "align_items": null,
            "align_self": null,
            "border": null,
            "bottom": null,
            "display": null,
            "flex": null,
            "flex_flow": null,
            "grid_area": null,
            "grid_auto_columns": null,
            "grid_auto_flow": null,
            "grid_auto_rows": null,
            "grid_column": null,
            "grid_gap": null,
            "grid_row": null,
            "grid_template_areas": null,
            "grid_template_columns": null,
            "grid_template_rows": null,
            "height": null,
            "justify_content": null,
            "justify_items": null,
            "left": null,
            "margin": null,
            "max_height": null,
            "max_width": null,
            "min_height": null,
            "min_width": null,
            "object_fit": null,
            "object_position": null,
            "order": null,
            "overflow": null,
            "overflow_x": null,
            "overflow_y": null,
            "padding": null,
            "right": null,
            "top": null,
            "visibility": null,
            "width": null
          }
        },
        "5f9d50d434e94408abc1830e4faca79b": {
          "model_module": "@jupyter-widgets/controls",
          "model_name": "DescriptionStyleModel",
          "model_module_version": "1.5.0",
          "state": {
            "_model_module": "@jupyter-widgets/controls",
            "_model_module_version": "1.5.0",
            "_model_name": "DescriptionStyleModel",
            "_view_count": null,
            "_view_module": "@jupyter-widgets/base",
            "_view_module_version": "1.2.0",
            "_view_name": "StyleView",
            "description_width": ""
          }
        },
        "a3624e9f6a5a453f85a5886bc2a98487": {
          "model_module": "@jupyter-widgets/controls",
          "model_name": "HBoxModel",
          "model_module_version": "1.5.0",
          "state": {
            "_dom_classes": [],
            "_model_module": "@jupyter-widgets/controls",
            "_model_module_version": "1.5.0",
            "_model_name": "HBoxModel",
            "_view_count": null,
            "_view_module": "@jupyter-widgets/controls",
            "_view_module_version": "1.5.0",
            "_view_name": "HBoxView",
            "box_style": "",
            "children": [
              "IPY_MODEL_e8dd692f24ff441fbc56bca18e95a20a",
              "IPY_MODEL_08796b4da26b46129e1f2fa742678182",
              "IPY_MODEL_7bb187a86cdd4af2b57adbdff09f5b68"
            ],
            "layout": "IPY_MODEL_5b1985fc12214ade8eef0b07f979c5e6"
          }
        },
        "e8dd692f24ff441fbc56bca18e95a20a": {
          "model_module": "@jupyter-widgets/controls",
          "model_name": "HTMLModel",
          "model_module_version": "1.5.0",
          "state": {
            "_dom_classes": [],
            "_model_module": "@jupyter-widgets/controls",
            "_model_module_version": "1.5.0",
            "_model_name": "HTMLModel",
            "_view_count": null,
            "_view_module": "@jupyter-widgets/controls",
            "_view_module_version": "1.5.0",
            "_view_name": "HTMLView",
            "description": "",
            "description_tooltip": null,
            "layout": "IPY_MODEL_3e301b4b4ba244aea175d396ade5c0c0",
            "placeholder": "​",
            "style": "IPY_MODEL_8a2df84534d54816811899bde212ade1",
            "value": "Map: 100%"
          }
        },
        "08796b4da26b46129e1f2fa742678182": {
          "model_module": "@jupyter-widgets/controls",
          "model_name": "FloatProgressModel",
          "model_module_version": "1.5.0",
          "state": {
            "_dom_classes": [],
            "_model_module": "@jupyter-widgets/controls",
            "_model_module_version": "1.5.0",
            "_model_name": "FloatProgressModel",
            "_view_count": null,
            "_view_module": "@jupyter-widgets/controls",
            "_view_module_version": "1.5.0",
            "_view_name": "ProgressView",
            "bar_style": "success",
            "description": "",
            "description_tooltip": null,
            "layout": "IPY_MODEL_06b33c1e6280465a880d16e7a57df22f",
            "max": 13639,
            "min": 0,
            "orientation": "horizontal",
            "style": "IPY_MODEL_b18164f2058640419861a1715830e434",
            "value": 13639
          }
        },
        "7bb187a86cdd4af2b57adbdff09f5b68": {
          "model_module": "@jupyter-widgets/controls",
          "model_name": "HTMLModel",
          "model_module_version": "1.5.0",
          "state": {
            "_dom_classes": [],
            "_model_module": "@jupyter-widgets/controls",
            "_model_module_version": "1.5.0",
            "_model_name": "HTMLModel",
            "_view_count": null,
            "_view_module": "@jupyter-widgets/controls",
            "_view_module_version": "1.5.0",
            "_view_name": "HTMLView",
            "description": "",
            "description_tooltip": null,
            "layout": "IPY_MODEL_8679549959c74715bd7a0e04685482f7",
            "placeholder": "​",
            "style": "IPY_MODEL_fa43341c107347f5a1928e2b84c883b4",
            "value": " 13639/13639 [01:30&lt;00:00, 146.01 examples/s]"
          }
        },
        "5b1985fc12214ade8eef0b07f979c5e6": {
          "model_module": "@jupyter-widgets/base",
          "model_name": "LayoutModel",
          "model_module_version": "1.2.0",
          "state": {
            "_model_module": "@jupyter-widgets/base",
            "_model_module_version": "1.2.0",
            "_model_name": "LayoutModel",
            "_view_count": null,
            "_view_module": "@jupyter-widgets/base",
            "_view_module_version": "1.2.0",
            "_view_name": "LayoutView",
            "align_content": null,
            "align_items": null,
            "align_self": null,
            "border": null,
            "bottom": null,
            "display": null,
            "flex": null,
            "flex_flow": null,
            "grid_area": null,
            "grid_auto_columns": null,
            "grid_auto_flow": null,
            "grid_auto_rows": null,
            "grid_column": null,
            "grid_gap": null,
            "grid_row": null,
            "grid_template_areas": null,
            "grid_template_columns": null,
            "grid_template_rows": null,
            "height": null,
            "justify_content": null,
            "justify_items": null,
            "left": null,
            "margin": null,
            "max_height": null,
            "max_width": null,
            "min_height": null,
            "min_width": null,
            "object_fit": null,
            "object_position": null,
            "order": null,
            "overflow": null,
            "overflow_x": null,
            "overflow_y": null,
            "padding": null,
            "right": null,
            "top": null,
            "visibility": null,
            "width": null
          }
        },
        "3e301b4b4ba244aea175d396ade5c0c0": {
          "model_module": "@jupyter-widgets/base",
          "model_name": "LayoutModel",
          "model_module_version": "1.2.0",
          "state": {
            "_model_module": "@jupyter-widgets/base",
            "_model_module_version": "1.2.0",
            "_model_name": "LayoutModel",
            "_view_count": null,
            "_view_module": "@jupyter-widgets/base",
            "_view_module_version": "1.2.0",
            "_view_name": "LayoutView",
            "align_content": null,
            "align_items": null,
            "align_self": null,
            "border": null,
            "bottom": null,
            "display": null,
            "flex": null,
            "flex_flow": null,
            "grid_area": null,
            "grid_auto_columns": null,
            "grid_auto_flow": null,
            "grid_auto_rows": null,
            "grid_column": null,
            "grid_gap": null,
            "grid_row": null,
            "grid_template_areas": null,
            "grid_template_columns": null,
            "grid_template_rows": null,
            "height": null,
            "justify_content": null,
            "justify_items": null,
            "left": null,
            "margin": null,
            "max_height": null,
            "max_width": null,
            "min_height": null,
            "min_width": null,
            "object_fit": null,
            "object_position": null,
            "order": null,
            "overflow": null,
            "overflow_x": null,
            "overflow_y": null,
            "padding": null,
            "right": null,
            "top": null,
            "visibility": null,
            "width": null
          }
        },
        "8a2df84534d54816811899bde212ade1": {
          "model_module": "@jupyter-widgets/controls",
          "model_name": "DescriptionStyleModel",
          "model_module_version": "1.5.0",
          "state": {
            "_model_module": "@jupyter-widgets/controls",
            "_model_module_version": "1.5.0",
            "_model_name": "DescriptionStyleModel",
            "_view_count": null,
            "_view_module": "@jupyter-widgets/base",
            "_view_module_version": "1.2.0",
            "_view_name": "StyleView",
            "description_width": ""
          }
        },
        "06b33c1e6280465a880d16e7a57df22f": {
          "model_module": "@jupyter-widgets/base",
          "model_name": "LayoutModel",
          "model_module_version": "1.2.0",
          "state": {
            "_model_module": "@jupyter-widgets/base",
            "_model_module_version": "1.2.0",
            "_model_name": "LayoutModel",
            "_view_count": null,
            "_view_module": "@jupyter-widgets/base",
            "_view_module_version": "1.2.0",
            "_view_name": "LayoutView",
            "align_content": null,
            "align_items": null,
            "align_self": null,
            "border": null,
            "bottom": null,
            "display": null,
            "flex": null,
            "flex_flow": null,
            "grid_area": null,
            "grid_auto_columns": null,
            "grid_auto_flow": null,
            "grid_auto_rows": null,
            "grid_column": null,
            "grid_gap": null,
            "grid_row": null,
            "grid_template_areas": null,
            "grid_template_columns": null,
            "grid_template_rows": null,
            "height": null,
            "justify_content": null,
            "justify_items": null,
            "left": null,
            "margin": null,
            "max_height": null,
            "max_width": null,
            "min_height": null,
            "min_width": null,
            "object_fit": null,
            "object_position": null,
            "order": null,
            "overflow": null,
            "overflow_x": null,
            "overflow_y": null,
            "padding": null,
            "right": null,
            "top": null,
            "visibility": null,
            "width": null
          }
        },
        "b18164f2058640419861a1715830e434": {
          "model_module": "@jupyter-widgets/controls",
          "model_name": "ProgressStyleModel",
          "model_module_version": "1.5.0",
          "state": {
            "_model_module": "@jupyter-widgets/controls",
            "_model_module_version": "1.5.0",
            "_model_name": "ProgressStyleModel",
            "_view_count": null,
            "_view_module": "@jupyter-widgets/base",
            "_view_module_version": "1.2.0",
            "_view_name": "StyleView",
            "bar_color": null,
            "description_width": ""
          }
        },
        "8679549959c74715bd7a0e04685482f7": {
          "model_module": "@jupyter-widgets/base",
          "model_name": "LayoutModel",
          "model_module_version": "1.2.0",
          "state": {
            "_model_module": "@jupyter-widgets/base",
            "_model_module_version": "1.2.0",
            "_model_name": "LayoutModel",
            "_view_count": null,
            "_view_module": "@jupyter-widgets/base",
            "_view_module_version": "1.2.0",
            "_view_name": "LayoutView",
            "align_content": null,
            "align_items": null,
            "align_self": null,
            "border": null,
            "bottom": null,
            "display": null,
            "flex": null,
            "flex_flow": null,
            "grid_area": null,
            "grid_auto_columns": null,
            "grid_auto_flow": null,
            "grid_auto_rows": null,
            "grid_column": null,
            "grid_gap": null,
            "grid_row": null,
            "grid_template_areas": null,
            "grid_template_columns": null,
            "grid_template_rows": null,
            "height": null,
            "justify_content": null,
            "justify_items": null,
            "left": null,
            "margin": null,
            "max_height": null,
            "max_width": null,
            "min_height": null,
            "min_width": null,
            "object_fit": null,
            "object_position": null,
            "order": null,
            "overflow": null,
            "overflow_x": null,
            "overflow_y": null,
            "padding": null,
            "right": null,
            "top": null,
            "visibility": null,
            "width": null
          }
        },
        "fa43341c107347f5a1928e2b84c883b4": {
          "model_module": "@jupyter-widgets/controls",
          "model_name": "DescriptionStyleModel",
          "model_module_version": "1.5.0",
          "state": {
            "_model_module": "@jupyter-widgets/controls",
            "_model_module_version": "1.5.0",
            "_model_name": "DescriptionStyleModel",
            "_view_count": null,
            "_view_module": "@jupyter-widgets/base",
            "_view_module_version": "1.2.0",
            "_view_name": "StyleView",
            "description_width": ""
          }
        },
        "01fe6a666af2401e9752e004aa018683": {
          "model_module": "@jupyter-widgets/controls",
          "model_name": "HBoxModel",
          "model_module_version": "1.5.0",
          "state": {
            "_dom_classes": [],
            "_model_module": "@jupyter-widgets/controls",
            "_model_module_version": "1.5.0",
            "_model_name": "HBoxModel",
            "_view_count": null,
            "_view_module": "@jupyter-widgets/controls",
            "_view_module_version": "1.5.0",
            "_view_name": "HBoxView",
            "box_style": "",
            "children": [
              "IPY_MODEL_69ac8e35c6da4eb5af5787377605dc3c",
              "IPY_MODEL_36de72b1036344b29306259bdcee94bc",
              "IPY_MODEL_d5e37e6058534dec89735318d17af338"
            ],
            "layout": "IPY_MODEL_7e0973fa282042448fe8dde1030772cf"
          }
        },
        "69ac8e35c6da4eb5af5787377605dc3c": {
          "model_module": "@jupyter-widgets/controls",
          "model_name": "HTMLModel",
          "model_module_version": "1.5.0",
          "state": {
            "_dom_classes": [],
            "_model_module": "@jupyter-widgets/controls",
            "_model_module_version": "1.5.0",
            "_model_name": "HTMLModel",
            "_view_count": null,
            "_view_module": "@jupyter-widgets/controls",
            "_view_module_version": "1.5.0",
            "_view_name": "HTMLView",
            "description": "",
            "description_tooltip": null,
            "layout": "IPY_MODEL_1b246fe6f77a4659bebaedb4b7460f96",
            "placeholder": "​",
            "style": "IPY_MODEL_bccf305247dc4cdfb98be1d1200b80fa",
            "value": "Map: 100%"
          }
        },
        "36de72b1036344b29306259bdcee94bc": {
          "model_module": "@jupyter-widgets/controls",
          "model_name": "FloatProgressModel",
          "model_module_version": "1.5.0",
          "state": {
            "_dom_classes": [],
            "_model_module": "@jupyter-widgets/controls",
            "_model_module_version": "1.5.0",
            "_model_name": "FloatProgressModel",
            "_view_count": null,
            "_view_module": "@jupyter-widgets/controls",
            "_view_module_version": "1.5.0",
            "_view_name": "ProgressView",
            "bar_style": "success",
            "description": "",
            "description_tooltip": null,
            "layout": "IPY_MODEL_0df92aab6de54d0fb905267e5a06ef16",
            "max": 2408,
            "min": 0,
            "orientation": "horizontal",
            "style": "IPY_MODEL_0cbdcca5bd394718b866e3d682766ce3",
            "value": 2408
          }
        },
        "d5e37e6058534dec89735318d17af338": {
          "model_module": "@jupyter-widgets/controls",
          "model_name": "HTMLModel",
          "model_module_version": "1.5.0",
          "state": {
            "_dom_classes": [],
            "_model_module": "@jupyter-widgets/controls",
            "_model_module_version": "1.5.0",
            "_model_name": "HTMLModel",
            "_view_count": null,
            "_view_module": "@jupyter-widgets/controls",
            "_view_module_version": "1.5.0",
            "_view_name": "HTMLView",
            "description": "",
            "description_tooltip": null,
            "layout": "IPY_MODEL_fc468ccc1d3d49a185948715b40a411d",
            "placeholder": "​",
            "style": "IPY_MODEL_69c5de09c26c4ff49cf748bca8fb4d5a",
            "value": " 2408/2408 [00:13&lt;00:00, 175.21 examples/s]"
          }
        },
        "7e0973fa282042448fe8dde1030772cf": {
          "model_module": "@jupyter-widgets/base",
          "model_name": "LayoutModel",
          "model_module_version": "1.2.0",
          "state": {
            "_model_module": "@jupyter-widgets/base",
            "_model_module_version": "1.2.0",
            "_model_name": "LayoutModel",
            "_view_count": null,
            "_view_module": "@jupyter-widgets/base",
            "_view_module_version": "1.2.0",
            "_view_name": "LayoutView",
            "align_content": null,
            "align_items": null,
            "align_self": null,
            "border": null,
            "bottom": null,
            "display": null,
            "flex": null,
            "flex_flow": null,
            "grid_area": null,
            "grid_auto_columns": null,
            "grid_auto_flow": null,
            "grid_auto_rows": null,
            "grid_column": null,
            "grid_gap": null,
            "grid_row": null,
            "grid_template_areas": null,
            "grid_template_columns": null,
            "grid_template_rows": null,
            "height": null,
            "justify_content": null,
            "justify_items": null,
            "left": null,
            "margin": null,
            "max_height": null,
            "max_width": null,
            "min_height": null,
            "min_width": null,
            "object_fit": null,
            "object_position": null,
            "order": null,
            "overflow": null,
            "overflow_x": null,
            "overflow_y": null,
            "padding": null,
            "right": null,
            "top": null,
            "visibility": null,
            "width": null
          }
        },
        "1b246fe6f77a4659bebaedb4b7460f96": {
          "model_module": "@jupyter-widgets/base",
          "model_name": "LayoutModel",
          "model_module_version": "1.2.0",
          "state": {
            "_model_module": "@jupyter-widgets/base",
            "_model_module_version": "1.2.0",
            "_model_name": "LayoutModel",
            "_view_count": null,
            "_view_module": "@jupyter-widgets/base",
            "_view_module_version": "1.2.0",
            "_view_name": "LayoutView",
            "align_content": null,
            "align_items": null,
            "align_self": null,
            "border": null,
            "bottom": null,
            "display": null,
            "flex": null,
            "flex_flow": null,
            "grid_area": null,
            "grid_auto_columns": null,
            "grid_auto_flow": null,
            "grid_auto_rows": null,
            "grid_column": null,
            "grid_gap": null,
            "grid_row": null,
            "grid_template_areas": null,
            "grid_template_columns": null,
            "grid_template_rows": null,
            "height": null,
            "justify_content": null,
            "justify_items": null,
            "left": null,
            "margin": null,
            "max_height": null,
            "max_width": null,
            "min_height": null,
            "min_width": null,
            "object_fit": null,
            "object_position": null,
            "order": null,
            "overflow": null,
            "overflow_x": null,
            "overflow_y": null,
            "padding": null,
            "right": null,
            "top": null,
            "visibility": null,
            "width": null
          }
        },
        "bccf305247dc4cdfb98be1d1200b80fa": {
          "model_module": "@jupyter-widgets/controls",
          "model_name": "DescriptionStyleModel",
          "model_module_version": "1.5.0",
          "state": {
            "_model_module": "@jupyter-widgets/controls",
            "_model_module_version": "1.5.0",
            "_model_name": "DescriptionStyleModel",
            "_view_count": null,
            "_view_module": "@jupyter-widgets/base",
            "_view_module_version": "1.2.0",
            "_view_name": "StyleView",
            "description_width": ""
          }
        },
        "0df92aab6de54d0fb905267e5a06ef16": {
          "model_module": "@jupyter-widgets/base",
          "model_name": "LayoutModel",
          "model_module_version": "1.2.0",
          "state": {
            "_model_module": "@jupyter-widgets/base",
            "_model_module_version": "1.2.0",
            "_model_name": "LayoutModel",
            "_view_count": null,
            "_view_module": "@jupyter-widgets/base",
            "_view_module_version": "1.2.0",
            "_view_name": "LayoutView",
            "align_content": null,
            "align_items": null,
            "align_self": null,
            "border": null,
            "bottom": null,
            "display": null,
            "flex": null,
            "flex_flow": null,
            "grid_area": null,
            "grid_auto_columns": null,
            "grid_auto_flow": null,
            "grid_auto_rows": null,
            "grid_column": null,
            "grid_gap": null,
            "grid_row": null,
            "grid_template_areas": null,
            "grid_template_columns": null,
            "grid_template_rows": null,
            "height": null,
            "justify_content": null,
            "justify_items": null,
            "left": null,
            "margin": null,
            "max_height": null,
            "max_width": null,
            "min_height": null,
            "min_width": null,
            "object_fit": null,
            "object_position": null,
            "order": null,
            "overflow": null,
            "overflow_x": null,
            "overflow_y": null,
            "padding": null,
            "right": null,
            "top": null,
            "visibility": null,
            "width": null
          }
        },
        "0cbdcca5bd394718b866e3d682766ce3": {
          "model_module": "@jupyter-widgets/controls",
          "model_name": "ProgressStyleModel",
          "model_module_version": "1.5.0",
          "state": {
            "_model_module": "@jupyter-widgets/controls",
            "_model_module_version": "1.5.0",
            "_model_name": "ProgressStyleModel",
            "_view_count": null,
            "_view_module": "@jupyter-widgets/base",
            "_view_module_version": "1.2.0",
            "_view_name": "StyleView",
            "bar_color": null,
            "description_width": ""
          }
        },
        "fc468ccc1d3d49a185948715b40a411d": {
          "model_module": "@jupyter-widgets/base",
          "model_name": "LayoutModel",
          "model_module_version": "1.2.0",
          "state": {
            "_model_module": "@jupyter-widgets/base",
            "_model_module_version": "1.2.0",
            "_model_name": "LayoutModel",
            "_view_count": null,
            "_view_module": "@jupyter-widgets/base",
            "_view_module_version": "1.2.0",
            "_view_name": "LayoutView",
            "align_content": null,
            "align_items": null,
            "align_self": null,
            "border": null,
            "bottom": null,
            "display": null,
            "flex": null,
            "flex_flow": null,
            "grid_area": null,
            "grid_auto_columns": null,
            "grid_auto_flow": null,
            "grid_auto_rows": null,
            "grid_column": null,
            "grid_gap": null,
            "grid_row": null,
            "grid_template_areas": null,
            "grid_template_columns": null,
            "grid_template_rows": null,
            "height": null,
            "justify_content": null,
            "justify_items": null,
            "left": null,
            "margin": null,
            "max_height": null,
            "max_width": null,
            "min_height": null,
            "min_width": null,
            "object_fit": null,
            "object_position": null,
            "order": null,
            "overflow": null,
            "overflow_x": null,
            "overflow_y": null,
            "padding": null,
            "right": null,
            "top": null,
            "visibility": null,
            "width": null
          }
        },
        "69c5de09c26c4ff49cf748bca8fb4d5a": {
          "model_module": "@jupyter-widgets/controls",
          "model_name": "DescriptionStyleModel",
          "model_module_version": "1.5.0",
          "state": {
            "_model_module": "@jupyter-widgets/controls",
            "_model_module_version": "1.5.0",
            "_model_name": "DescriptionStyleModel",
            "_view_count": null,
            "_view_module": "@jupyter-widgets/base",
            "_view_module_version": "1.2.0",
            "_view_name": "StyleView",
            "description_width": ""
          }
        },
        "f161a21717be4d5491b99f093b9759b5": {
          "model_module": "@jupyter-widgets/controls",
          "model_name": "HBoxModel",
          "model_module_version": "1.5.0",
          "state": {
            "_dom_classes": [],
            "_model_module": "@jupyter-widgets/controls",
            "_model_module_version": "1.5.0",
            "_model_name": "HBoxModel",
            "_view_count": null,
            "_view_module": "@jupyter-widgets/controls",
            "_view_module_version": "1.5.0",
            "_view_name": "HBoxView",
            "box_style": "",
            "children": [
              "IPY_MODEL_16ecc47fa2614ea3aae666585e90af15",
              "IPY_MODEL_531bf5f37d264935a2f060b2433b21ae",
              "IPY_MODEL_cca1fceeb15c4c7ea8d19a7a2fbe7e4b"
            ],
            "layout": "IPY_MODEL_d2fb3917cb144006a04a81ff1e1c0b75"
          }
        },
        "16ecc47fa2614ea3aae666585e90af15": {
          "model_module": "@jupyter-widgets/controls",
          "model_name": "HTMLModel",
          "model_module_version": "1.5.0",
          "state": {
            "_dom_classes": [],
            "_model_module": "@jupyter-widgets/controls",
            "_model_module_version": "1.5.0",
            "_model_name": "HTMLModel",
            "_view_count": null,
            "_view_module": "@jupyter-widgets/controls",
            "_view_module_version": "1.5.0",
            "_view_name": "HTMLView",
            "description": "",
            "description_tooltip": null,
            "layout": "IPY_MODEL_d9a71e5dbc0e47aaae7b467e5ced1698",
            "placeholder": "​",
            "style": "IPY_MODEL_64594abcf88b47928d52d1875e72c167",
            "value": "pytorch_model.bin: 100%"
          }
        },
        "531bf5f37d264935a2f060b2433b21ae": {
          "model_module": "@jupyter-widgets/controls",
          "model_name": "FloatProgressModel",
          "model_module_version": "1.5.0",
          "state": {
            "_dom_classes": [],
            "_model_module": "@jupyter-widgets/controls",
            "_model_module_version": "1.5.0",
            "_model_name": "FloatProgressModel",
            "_view_count": null,
            "_view_module": "@jupyter-widgets/controls",
            "_view_module_version": "1.5.0",
            "_view_name": "ProgressView",
            "bar_style": "success",
            "description": "",
            "description_tooltip": null,
            "layout": "IPY_MODEL_20bfeabce33345b8a2702be05148ef9f",
            "max": 1200794589,
            "min": 0,
            "orientation": "horizontal",
            "style": "IPY_MODEL_d41783346e6b4bf7a900ec2de0a1295b",
            "value": 1200794589
          }
        },
        "cca1fceeb15c4c7ea8d19a7a2fbe7e4b": {
          "model_module": "@jupyter-widgets/controls",
          "model_name": "HTMLModel",
          "model_module_version": "1.5.0",
          "state": {
            "_dom_classes": [],
            "_model_module": "@jupyter-widgets/controls",
            "_model_module_version": "1.5.0",
            "_model_name": "HTMLModel",
            "_view_count": null,
            "_view_module": "@jupyter-widgets/controls",
            "_view_module_version": "1.5.0",
            "_view_name": "HTMLView",
            "description": "",
            "description_tooltip": null,
            "layout": "IPY_MODEL_c096177d2d374d7abfe1cd6906177f00",
            "placeholder": "​",
            "style": "IPY_MODEL_d75132e4ab714fe9aef041a0475ca9a9",
            "value": " 1.20G/1.20G [00:08&lt;00:00, 90.8MB/s]"
          }
        },
        "d2fb3917cb144006a04a81ff1e1c0b75": {
          "model_module": "@jupyter-widgets/base",
          "model_name": "LayoutModel",
          "model_module_version": "1.2.0",
          "state": {
            "_model_module": "@jupyter-widgets/base",
            "_model_module_version": "1.2.0",
            "_model_name": "LayoutModel",
            "_view_count": null,
            "_view_module": "@jupyter-widgets/base",
            "_view_module_version": "1.2.0",
            "_view_name": "LayoutView",
            "align_content": null,
            "align_items": null,
            "align_self": null,
            "border": null,
            "bottom": null,
            "display": null,
            "flex": null,
            "flex_flow": null,
            "grid_area": null,
            "grid_auto_columns": null,
            "grid_auto_flow": null,
            "grid_auto_rows": null,
            "grid_column": null,
            "grid_gap": null,
            "grid_row": null,
            "grid_template_areas": null,
            "grid_template_columns": null,
            "grid_template_rows": null,
            "height": null,
            "justify_content": null,
            "justify_items": null,
            "left": null,
            "margin": null,
            "max_height": null,
            "max_width": null,
            "min_height": null,
            "min_width": null,
            "object_fit": null,
            "object_position": null,
            "order": null,
            "overflow": null,
            "overflow_x": null,
            "overflow_y": null,
            "padding": null,
            "right": null,
            "top": null,
            "visibility": null,
            "width": null
          }
        },
        "d9a71e5dbc0e47aaae7b467e5ced1698": {
          "model_module": "@jupyter-widgets/base",
          "model_name": "LayoutModel",
          "model_module_version": "1.2.0",
          "state": {
            "_model_module": "@jupyter-widgets/base",
            "_model_module_version": "1.2.0",
            "_model_name": "LayoutModel",
            "_view_count": null,
            "_view_module": "@jupyter-widgets/base",
            "_view_module_version": "1.2.0",
            "_view_name": "LayoutView",
            "align_content": null,
            "align_items": null,
            "align_self": null,
            "border": null,
            "bottom": null,
            "display": null,
            "flex": null,
            "flex_flow": null,
            "grid_area": null,
            "grid_auto_columns": null,
            "grid_auto_flow": null,
            "grid_auto_rows": null,
            "grid_column": null,
            "grid_gap": null,
            "grid_row": null,
            "grid_template_areas": null,
            "grid_template_columns": null,
            "grid_template_rows": null,
            "height": null,
            "justify_content": null,
            "justify_items": null,
            "left": null,
            "margin": null,
            "max_height": null,
            "max_width": null,
            "min_height": null,
            "min_width": null,
            "object_fit": null,
            "object_position": null,
            "order": null,
            "overflow": null,
            "overflow_x": null,
            "overflow_y": null,
            "padding": null,
            "right": null,
            "top": null,
            "visibility": null,
            "width": null
          }
        },
        "64594abcf88b47928d52d1875e72c167": {
          "model_module": "@jupyter-widgets/controls",
          "model_name": "DescriptionStyleModel",
          "model_module_version": "1.5.0",
          "state": {
            "_model_module": "@jupyter-widgets/controls",
            "_model_module_version": "1.5.0",
            "_model_name": "DescriptionStyleModel",
            "_view_count": null,
            "_view_module": "@jupyter-widgets/base",
            "_view_module_version": "1.2.0",
            "_view_name": "StyleView",
            "description_width": ""
          }
        },
        "20bfeabce33345b8a2702be05148ef9f": {
          "model_module": "@jupyter-widgets/base",
          "model_name": "LayoutModel",
          "model_module_version": "1.2.0",
          "state": {
            "_model_module": "@jupyter-widgets/base",
            "_model_module_version": "1.2.0",
            "_model_name": "LayoutModel",
            "_view_count": null,
            "_view_module": "@jupyter-widgets/base",
            "_view_module_version": "1.2.0",
            "_view_name": "LayoutView",
            "align_content": null,
            "align_items": null,
            "align_self": null,
            "border": null,
            "bottom": null,
            "display": null,
            "flex": null,
            "flex_flow": null,
            "grid_area": null,
            "grid_auto_columns": null,
            "grid_auto_flow": null,
            "grid_auto_rows": null,
            "grid_column": null,
            "grid_gap": null,
            "grid_row": null,
            "grid_template_areas": null,
            "grid_template_columns": null,
            "grid_template_rows": null,
            "height": null,
            "justify_content": null,
            "justify_items": null,
            "left": null,
            "margin": null,
            "max_height": null,
            "max_width": null,
            "min_height": null,
            "min_width": null,
            "object_fit": null,
            "object_position": null,
            "order": null,
            "overflow": null,
            "overflow_x": null,
            "overflow_y": null,
            "padding": null,
            "right": null,
            "top": null,
            "visibility": null,
            "width": null
          }
        },
        "d41783346e6b4bf7a900ec2de0a1295b": {
          "model_module": "@jupyter-widgets/controls",
          "model_name": "ProgressStyleModel",
          "model_module_version": "1.5.0",
          "state": {
            "_model_module": "@jupyter-widgets/controls",
            "_model_module_version": "1.5.0",
            "_model_name": "ProgressStyleModel",
            "_view_count": null,
            "_view_module": "@jupyter-widgets/base",
            "_view_module_version": "1.2.0",
            "_view_name": "StyleView",
            "bar_color": null,
            "description_width": ""
          }
        },
        "c096177d2d374d7abfe1cd6906177f00": {
          "model_module": "@jupyter-widgets/base",
          "model_name": "LayoutModel",
          "model_module_version": "1.2.0",
          "state": {
            "_model_module": "@jupyter-widgets/base",
            "_model_module_version": "1.2.0",
            "_model_name": "LayoutModel",
            "_view_count": null,
            "_view_module": "@jupyter-widgets/base",
            "_view_module_version": "1.2.0",
            "_view_name": "LayoutView",
            "align_content": null,
            "align_items": null,
            "align_self": null,
            "border": null,
            "bottom": null,
            "display": null,
            "flex": null,
            "flex_flow": null,
            "grid_area": null,
            "grid_auto_columns": null,
            "grid_auto_flow": null,
            "grid_auto_rows": null,
            "grid_column": null,
            "grid_gap": null,
            "grid_row": null,
            "grid_template_areas": null,
            "grid_template_columns": null,
            "grid_template_rows": null,
            "height": null,
            "justify_content": null,
            "justify_items": null,
            "left": null,
            "margin": null,
            "max_height": null,
            "max_width": null,
            "min_height": null,
            "min_width": null,
            "object_fit": null,
            "object_position": null,
            "order": null,
            "overflow": null,
            "overflow_x": null,
            "overflow_y": null,
            "padding": null,
            "right": null,
            "top": null,
            "visibility": null,
            "width": null
          }
        },
        "d75132e4ab714fe9aef041a0475ca9a9": {
          "model_module": "@jupyter-widgets/controls",
          "model_name": "DescriptionStyleModel",
          "model_module_version": "1.5.0",
          "state": {
            "_model_module": "@jupyter-widgets/controls",
            "_model_module_version": "1.5.0",
            "_model_name": "DescriptionStyleModel",
            "_view_count": null,
            "_view_module": "@jupyter-widgets/base",
            "_view_module_version": "1.2.0",
            "_view_name": "StyleView",
            "description_width": ""
          }
        },
        "2f80cbdd86294c0ba46c1cf74a4e0495": {
          "model_module": "@jupyter-widgets/controls",
          "model_name": "HBoxModel",
          "model_module_version": "1.5.0",
          "state": {
            "_dom_classes": [],
            "_model_module": "@jupyter-widgets/controls",
            "_model_module_version": "1.5.0",
            "_model_name": "HBoxModel",
            "_view_count": null,
            "_view_module": "@jupyter-widgets/controls",
            "_view_module_version": "1.5.0",
            "_view_name": "HBoxView",
            "box_style": "",
            "children": [
              "IPY_MODEL_9d9aa00f3ac84e2bb3c0e2f4382cae40",
              "IPY_MODEL_bfdd9ad363eb47ed8aedb0ad081d2910",
              "IPY_MODEL_ddecd6f114114ff0b16cd29d157fdf81"
            ],
            "layout": "IPY_MODEL_57bf3f33146e4cd8837e2719ba1cc0da"
          }
        },
        "9d9aa00f3ac84e2bb3c0e2f4382cae40": {
          "model_module": "@jupyter-widgets/controls",
          "model_name": "HTMLModel",
          "model_module_version": "1.5.0",
          "state": {
            "_dom_classes": [],
            "_model_module": "@jupyter-widgets/controls",
            "_model_module_version": "1.5.0",
            "_model_name": "HTMLModel",
            "_view_count": null,
            "_view_module": "@jupyter-widgets/controls",
            "_view_module_version": "1.5.0",
            "_view_name": "HTMLView",
            "description": "",
            "description_tooltip": null,
            "layout": "IPY_MODEL_1c4da08d22a34d0aa0e453456c47ae2c",
            "placeholder": "​",
            "style": "IPY_MODEL_11bf645bbcc64751922a1e2f6c3f70ea",
            "value": "generation_config.json: 100%"
          }
        },
        "bfdd9ad363eb47ed8aedb0ad081d2910": {
          "model_module": "@jupyter-widgets/controls",
          "model_name": "FloatProgressModel",
          "model_module_version": "1.5.0",
          "state": {
            "_dom_classes": [],
            "_model_module": "@jupyter-widgets/controls",
            "_model_module_version": "1.5.0",
            "_model_name": "FloatProgressModel",
            "_view_count": null,
            "_view_module": "@jupyter-widgets/controls",
            "_view_module_version": "1.5.0",
            "_view_name": "ProgressView",
            "bar_style": "success",
            "description": "",
            "description_tooltip": null,
            "layout": "IPY_MODEL_97298700ca514d5192ffe65a53d885f8",
            "max": 147,
            "min": 0,
            "orientation": "horizontal",
            "style": "IPY_MODEL_8cb2ea6f820a4008942b341e3a8a162a",
            "value": 147
          }
        },
        "ddecd6f114114ff0b16cd29d157fdf81": {
          "model_module": "@jupyter-widgets/controls",
          "model_name": "HTMLModel",
          "model_module_version": "1.5.0",
          "state": {
            "_dom_classes": [],
            "_model_module": "@jupyter-widgets/controls",
            "_model_module_version": "1.5.0",
            "_model_name": "HTMLModel",
            "_view_count": null,
            "_view_module": "@jupyter-widgets/controls",
            "_view_module_version": "1.5.0",
            "_view_name": "HTMLView",
            "description": "",
            "description_tooltip": null,
            "layout": "IPY_MODEL_367ff63f576b4a23b83855f40e06846e",
            "placeholder": "​",
            "style": "IPY_MODEL_1b9c96a96f324f04b624bd1e957f1a93",
            "value": " 147/147 [00:00&lt;00:00, 6.06kB/s]"
          }
        },
        "57bf3f33146e4cd8837e2719ba1cc0da": {
          "model_module": "@jupyter-widgets/base",
          "model_name": "LayoutModel",
          "model_module_version": "1.2.0",
          "state": {
            "_model_module": "@jupyter-widgets/base",
            "_model_module_version": "1.2.0",
            "_model_name": "LayoutModel",
            "_view_count": null,
            "_view_module": "@jupyter-widgets/base",
            "_view_module_version": "1.2.0",
            "_view_name": "LayoutView",
            "align_content": null,
            "align_items": null,
            "align_self": null,
            "border": null,
            "bottom": null,
            "display": null,
            "flex": null,
            "flex_flow": null,
            "grid_area": null,
            "grid_auto_columns": null,
            "grid_auto_flow": null,
            "grid_auto_rows": null,
            "grid_column": null,
            "grid_gap": null,
            "grid_row": null,
            "grid_template_areas": null,
            "grid_template_columns": null,
            "grid_template_rows": null,
            "height": null,
            "justify_content": null,
            "justify_items": null,
            "left": null,
            "margin": null,
            "max_height": null,
            "max_width": null,
            "min_height": null,
            "min_width": null,
            "object_fit": null,
            "object_position": null,
            "order": null,
            "overflow": null,
            "overflow_x": null,
            "overflow_y": null,
            "padding": null,
            "right": null,
            "top": null,
            "visibility": null,
            "width": null
          }
        },
        "1c4da08d22a34d0aa0e453456c47ae2c": {
          "model_module": "@jupyter-widgets/base",
          "model_name": "LayoutModel",
          "model_module_version": "1.2.0",
          "state": {
            "_model_module": "@jupyter-widgets/base",
            "_model_module_version": "1.2.0",
            "_model_name": "LayoutModel",
            "_view_count": null,
            "_view_module": "@jupyter-widgets/base",
            "_view_module_version": "1.2.0",
            "_view_name": "LayoutView",
            "align_content": null,
            "align_items": null,
            "align_self": null,
            "border": null,
            "bottom": null,
            "display": null,
            "flex": null,
            "flex_flow": null,
            "grid_area": null,
            "grid_auto_columns": null,
            "grid_auto_flow": null,
            "grid_auto_rows": null,
            "grid_column": null,
            "grid_gap": null,
            "grid_row": null,
            "grid_template_areas": null,
            "grid_template_columns": null,
            "grid_template_rows": null,
            "height": null,
            "justify_content": null,
            "justify_items": null,
            "left": null,
            "margin": null,
            "max_height": null,
            "max_width": null,
            "min_height": null,
            "min_width": null,
            "object_fit": null,
            "object_position": null,
            "order": null,
            "overflow": null,
            "overflow_x": null,
            "overflow_y": null,
            "padding": null,
            "right": null,
            "top": null,
            "visibility": null,
            "width": null
          }
        },
        "11bf645bbcc64751922a1e2f6c3f70ea": {
          "model_module": "@jupyter-widgets/controls",
          "model_name": "DescriptionStyleModel",
          "model_module_version": "1.5.0",
          "state": {
            "_model_module": "@jupyter-widgets/controls",
            "_model_module_version": "1.5.0",
            "_model_name": "DescriptionStyleModel",
            "_view_count": null,
            "_view_module": "@jupyter-widgets/base",
            "_view_module_version": "1.2.0",
            "_view_name": "StyleView",
            "description_width": ""
          }
        },
        "97298700ca514d5192ffe65a53d885f8": {
          "model_module": "@jupyter-widgets/base",
          "model_name": "LayoutModel",
          "model_module_version": "1.2.0",
          "state": {
            "_model_module": "@jupyter-widgets/base",
            "_model_module_version": "1.2.0",
            "_model_name": "LayoutModel",
            "_view_count": null,
            "_view_module": "@jupyter-widgets/base",
            "_view_module_version": "1.2.0",
            "_view_name": "LayoutView",
            "align_content": null,
            "align_items": null,
            "align_self": null,
            "border": null,
            "bottom": null,
            "display": null,
            "flex": null,
            "flex_flow": null,
            "grid_area": null,
            "grid_auto_columns": null,
            "grid_auto_flow": null,
            "grid_auto_rows": null,
            "grid_column": null,
            "grid_gap": null,
            "grid_row": null,
            "grid_template_areas": null,
            "grid_template_columns": null,
            "grid_template_rows": null,
            "height": null,
            "justify_content": null,
            "justify_items": null,
            "left": null,
            "margin": null,
            "max_height": null,
            "max_width": null,
            "min_height": null,
            "min_width": null,
            "object_fit": null,
            "object_position": null,
            "order": null,
            "overflow": null,
            "overflow_x": null,
            "overflow_y": null,
            "padding": null,
            "right": null,
            "top": null,
            "visibility": null,
            "width": null
          }
        },
        "8cb2ea6f820a4008942b341e3a8a162a": {
          "model_module": "@jupyter-widgets/controls",
          "model_name": "ProgressStyleModel",
          "model_module_version": "1.5.0",
          "state": {
            "_model_module": "@jupyter-widgets/controls",
            "_model_module_version": "1.5.0",
            "_model_name": "ProgressStyleModel",
            "_view_count": null,
            "_view_module": "@jupyter-widgets/base",
            "_view_module_version": "1.2.0",
            "_view_name": "StyleView",
            "bar_color": null,
            "description_width": ""
          }
        },
        "367ff63f576b4a23b83855f40e06846e": {
          "model_module": "@jupyter-widgets/base",
          "model_name": "LayoutModel",
          "model_module_version": "1.2.0",
          "state": {
            "_model_module": "@jupyter-widgets/base",
            "_model_module_version": "1.2.0",
            "_model_name": "LayoutModel",
            "_view_count": null,
            "_view_module": "@jupyter-widgets/base",
            "_view_module_version": "1.2.0",
            "_view_name": "LayoutView",
            "align_content": null,
            "align_items": null,
            "align_self": null,
            "border": null,
            "bottom": null,
            "display": null,
            "flex": null,
            "flex_flow": null,
            "grid_area": null,
            "grid_auto_columns": null,
            "grid_auto_flow": null,
            "grid_auto_rows": null,
            "grid_column": null,
            "grid_gap": null,
            "grid_row": null,
            "grid_template_areas": null,
            "grid_template_columns": null,
            "grid_template_rows": null,
            "height": null,
            "justify_content": null,
            "justify_items": null,
            "left": null,
            "margin": null,
            "max_height": null,
            "max_width": null,
            "min_height": null,
            "min_width": null,
            "object_fit": null,
            "object_position": null,
            "order": null,
            "overflow": null,
            "overflow_x": null,
            "overflow_y": null,
            "padding": null,
            "right": null,
            "top": null,
            "visibility": null,
            "width": null
          }
        },
        "1b9c96a96f324f04b624bd1e957f1a93": {
          "model_module": "@jupyter-widgets/controls",
          "model_name": "DescriptionStyleModel",
          "model_module_version": "1.5.0",
          "state": {
            "_model_module": "@jupyter-widgets/controls",
            "_model_module_version": "1.5.0",
            "_model_name": "DescriptionStyleModel",
            "_view_count": null,
            "_view_module": "@jupyter-widgets/base",
            "_view_module_version": "1.2.0",
            "_view_name": "StyleView",
            "description_width": ""
          }
        }
      }
    }
  },
  "cells": [
    {
      "cell_type": "markdown",
      "metadata": {
        "id": "view-in-github",
        "colab_type": "text"
      },
      "source": [
        "<a href=\"https://colab.research.google.com/github/luckyme410/summary_championat/blob/main/summarize_ru.ipynb\" target=\"_parent\"><img src=\"https://colab.research.google.com/assets/colab-badge.svg\" alt=\"Open In Colab\"/></a>"
      ]
    },
    {
      "cell_type": "markdown",
      "source": [
        "## В данном пет-проекте суммаризуются спортивные статьи с Чемпионат.com (https://www.championat.com/). Использовались LLM'ки: mT5-small/mBart-ru"
      ],
      "metadata": {
        "id": "aQuIfiP1-tIq"
      }
    },
    {
      "cell_type": "code",
      "source": [],
      "metadata": {
        "id": "jGxX3DORLeEb"
      },
      "execution_count": 19,
      "outputs": []
    },
    {
      "cell_type": "code",
      "source": [
        "#!sudo apt install zip unzip"
      ],
      "metadata": {
        "id": "UTADTa8zLxEC"
      },
      "execution_count": 23,
      "outputs": []
    },
    {
      "cell_type": "code",
      "source": [
        "#!zip articles_championat /content/articles_championat.csv"
      ],
      "metadata": {
        "id": "hJ03ZWKqLf9C"
      },
      "execution_count": 24,
      "outputs": []
    },
    {
      "cell_type": "code",
      "source": [
        "!unzip /content/articles_championat.zip"
      ],
      "metadata": {
        "colab": {
          "base_uri": "https://localhost:8080/"
        },
        "id": "b9mfSIhoO1Yy",
        "outputId": "03b6c20d-1062-48da-eb8d-3b38b88d229b"
      },
      "execution_count": 22,
      "outputs": [
        {
          "output_type": "stream",
          "name": "stdout",
          "text": [
            "Archive:  /content/articles_championat.zip\n",
            "  inflating: content/articles_championat.csv  \n"
          ]
        }
      ]
    },
    {
      "cell_type": "code",
      "execution_count": null,
      "metadata": {
        "id": "tbnUgEfzagmM",
        "collapsed": true
      },
      "outputs": [],
      "source": [
        "! pip install datasets transformers rouge-score evaluate"
      ]
    },
    {
      "cell_type": "code",
      "source": [
        "!pip install -U nltk"
      ],
      "metadata": {
        "collapsed": true,
        "id": "OxJXrc1eaoJc"
      },
      "execution_count": null,
      "outputs": []
    },
    {
      "cell_type": "code",
      "source": [
        "import evaluate\n",
        "rouge_metric = evaluate.load(\"rouge\")\n",
        "meteor_metric = evaluate.load(\"meteor\")"
      ],
      "metadata": {
        "id": "HzlTGYjYaoMU"
      },
      "execution_count": null,
      "outputs": []
    },
    {
      "cell_type": "code",
      "source": [
        "import numpy as np\n",
        "import pandas as pd\n",
        "import matplotlib.pyplot as plt\n",
        "import seaborn as sns\n",
        "\n",
        "sns.set_style('darkgrid')"
      ],
      "metadata": {
        "id": "EZ5h7ui7ci7l"
      },
      "execution_count": 2,
      "outputs": []
    },
    {
      "cell_type": "code",
      "source": [
        "#from google.colab import drive\n",
        "#drive.mount('/content/drive')"
      ],
      "metadata": {
        "colab": {
          "base_uri": "https://localhost:8080/"
        },
        "id": "FJvdcRR5uy9S",
        "outputId": "94813687-a4a1-4bc7-bf95-22e25dce4643"
      },
      "execution_count": null,
      "outputs": [
        {
          "output_type": "stream",
          "name": "stdout",
          "text": [
            "Mounted at /content/drive\n"
          ]
        }
      ]
    },
    {
      "cell_type": "markdown",
      "source": [
        "### загрузим данные:"
      ],
      "metadata": {
        "id": "CT2_XNM9bBr4"
      }
    },
    {
      "cell_type": "code",
      "source": [
        "# Данные парсились с сайта Чемпионат.com летом 2023 года.\n",
        "# HTML-разметка сайта поменялась, скорее всего,\n",
        "# поэтому код для парсинга не привожу, а только сами данные:\n",
        "data = pd.read_csv(\"/content/articles_championat.csv\") # /content/drive/MyDrive/articles_championat.csv\n",
        "print('Кол-во статей:', data.shape[0])\n",
        "print()\n",
        "data.head()"
      ],
      "metadata": {
        "colab": {
          "base_uri": "https://localhost:8080/",
          "height": 327
        },
        "id": "UTPhfTWsbE6I",
        "outputId": "5b276b14-8807-4ae7-dd2b-c5b54e268b66"
      },
      "execution_count": 17,
      "outputs": [
        {
          "output_type": "stream",
          "name": "stdout",
          "text": [
            "Кол-во статей: 16047\n",
            "\n"
          ]
        },
        {
          "output_type": "execute_result",
          "data": {
            "text/plain": [
              "                                                text  \\\n",
              "0  В то время пока «Ред Булл» близится к тому, чт...   \n",
              "1  Авторитетный обозреватель Формулы-1 Джо Сейвуд...   \n",
              "2  В марте ФИА открыла приём заявок на участие в ...   \n",
              "3  Свершилось. Ника де Вриса всё-таки уволили из ...   \n",
              "4  Одним из главных трансферных активов этого лет...   \n",
              "\n",
              "                                               title  \\\n",
              "0  10 худших команд в истории Формулы-1. От дерев...   \n",
              "1  Норрис в «Феррари», Леклер в «Мерседесе»?! Раз...   \n",
              "2  Скучаете по шинным войнам в Формуле-1? Вот 2 п...   \n",
              "3  8 громких случаев, когда пилоты Формулы-1 поки...   \n",
              "4  Звезда IndyCar рвётся в Ф-1. Но у Палоу не пол...   \n",
              "\n",
              "                                            subtitle                     date  \\\n",
              "0    Одна из команд была связана с Советским Союзом.  16 июля 2023, 11:30 МСК   \n",
              "1  Через год Формулу-1 могут подкараулить мощнейш...  15 июля 2023, 12:30 МСК   \n",
              "2  Хэмилтон за возвращение дуэли шинников, но это...  14 июля 2023, 12:30 МСК   \n",
              "3  Однажды «Феррари» выгнала гонщика уже после пе...  13 июля 2023, 16:30 МСК   \n",
              "4  Алекс, безусловно, талантлив, но выстрелить ср...  12 июля 2023, 17:00 МСК   \n",
              "\n",
              "  sport  \n",
              "0  auto  \n",
              "1  auto  \n",
              "2  auto  \n",
              "3  auto  \n",
              "4  auto  "
            ],
            "text/html": [
              "\n",
              "  <div id=\"df-c80d4e23-0feb-493c-9115-69e95c67a2c5\" class=\"colab-df-container\">\n",
              "    <div>\n",
              "<style scoped>\n",
              "    .dataframe tbody tr th:only-of-type {\n",
              "        vertical-align: middle;\n",
              "    }\n",
              "\n",
              "    .dataframe tbody tr th {\n",
              "        vertical-align: top;\n",
              "    }\n",
              "\n",
              "    .dataframe thead th {\n",
              "        text-align: right;\n",
              "    }\n",
              "</style>\n",
              "<table border=\"1\" class=\"dataframe\">\n",
              "  <thead>\n",
              "    <tr style=\"text-align: right;\">\n",
              "      <th></th>\n",
              "      <th>text</th>\n",
              "      <th>title</th>\n",
              "      <th>subtitle</th>\n",
              "      <th>date</th>\n",
              "      <th>sport</th>\n",
              "    </tr>\n",
              "  </thead>\n",
              "  <tbody>\n",
              "    <tr>\n",
              "      <th>0</th>\n",
              "      <td>В то время пока «Ред Булл» близится к тому, чт...</td>\n",
              "      <td>10 худших команд в истории Формулы-1. От дерев...</td>\n",
              "      <td>Одна из команд была связана с Советским Союзом.</td>\n",
              "      <td>16 июля 2023, 11:30 МСК</td>\n",
              "      <td>auto</td>\n",
              "    </tr>\n",
              "    <tr>\n",
              "      <th>1</th>\n",
              "      <td>Авторитетный обозреватель Формулы-1 Джо Сейвуд...</td>\n",
              "      <td>Норрис в «Феррари», Леклер в «Мерседесе»?! Раз...</td>\n",
              "      <td>Через год Формулу-1 могут подкараулить мощнейш...</td>\n",
              "      <td>15 июля 2023, 12:30 МСК</td>\n",
              "      <td>auto</td>\n",
              "    </tr>\n",
              "    <tr>\n",
              "      <th>2</th>\n",
              "      <td>В марте ФИА открыла приём заявок на участие в ...</td>\n",
              "      <td>Скучаете по шинным войнам в Формуле-1? Вот 2 п...</td>\n",
              "      <td>Хэмилтон за возвращение дуэли шинников, но это...</td>\n",
              "      <td>14 июля 2023, 12:30 МСК</td>\n",
              "      <td>auto</td>\n",
              "    </tr>\n",
              "    <tr>\n",
              "      <th>3</th>\n",
              "      <td>Свершилось. Ника де Вриса всё-таки уволили из ...</td>\n",
              "      <td>8 громких случаев, когда пилоты Формулы-1 поки...</td>\n",
              "      <td>Однажды «Феррари» выгнала гонщика уже после пе...</td>\n",
              "      <td>13 июля 2023, 16:30 МСК</td>\n",
              "      <td>auto</td>\n",
              "    </tr>\n",
              "    <tr>\n",
              "      <th>4</th>\n",
              "      <td>Одним из главных трансферных активов этого лет...</td>\n",
              "      <td>Звезда IndyCar рвётся в Ф-1. Но у Палоу не пол...</td>\n",
              "      <td>Алекс, безусловно, талантлив, но выстрелить ср...</td>\n",
              "      <td>12 июля 2023, 17:00 МСК</td>\n",
              "      <td>auto</td>\n",
              "    </tr>\n",
              "  </tbody>\n",
              "</table>\n",
              "</div>\n",
              "    <div class=\"colab-df-buttons\">\n",
              "\n",
              "  <div class=\"colab-df-container\">\n",
              "    <button class=\"colab-df-convert\" onclick=\"convertToInteractive('df-c80d4e23-0feb-493c-9115-69e95c67a2c5')\"\n",
              "            title=\"Convert this dataframe to an interactive table.\"\n",
              "            style=\"display:none;\">\n",
              "\n",
              "  <svg xmlns=\"http://www.w3.org/2000/svg\" height=\"24px\" viewBox=\"0 -960 960 960\">\n",
              "    <path d=\"M120-120v-720h720v720H120Zm60-500h600v-160H180v160Zm220 220h160v-160H400v160Zm0 220h160v-160H400v160ZM180-400h160v-160H180v160Zm440 0h160v-160H620v160ZM180-180h160v-160H180v160Zm440 0h160v-160H620v160Z\"/>\n",
              "  </svg>\n",
              "    </button>\n",
              "\n",
              "  <style>\n",
              "    .colab-df-container {\n",
              "      display:flex;\n",
              "      gap: 12px;\n",
              "    }\n",
              "\n",
              "    .colab-df-convert {\n",
              "      background-color: #E8F0FE;\n",
              "      border: none;\n",
              "      border-radius: 50%;\n",
              "      cursor: pointer;\n",
              "      display: none;\n",
              "      fill: #1967D2;\n",
              "      height: 32px;\n",
              "      padding: 0 0 0 0;\n",
              "      width: 32px;\n",
              "    }\n",
              "\n",
              "    .colab-df-convert:hover {\n",
              "      background-color: #E2EBFA;\n",
              "      box-shadow: 0px 1px 2px rgba(60, 64, 67, 0.3), 0px 1px 3px 1px rgba(60, 64, 67, 0.15);\n",
              "      fill: #174EA6;\n",
              "    }\n",
              "\n",
              "    .colab-df-buttons div {\n",
              "      margin-bottom: 4px;\n",
              "    }\n",
              "\n",
              "    [theme=dark] .colab-df-convert {\n",
              "      background-color: #3B4455;\n",
              "      fill: #D2E3FC;\n",
              "    }\n",
              "\n",
              "    [theme=dark] .colab-df-convert:hover {\n",
              "      background-color: #434B5C;\n",
              "      box-shadow: 0px 1px 3px 1px rgba(0, 0, 0, 0.15);\n",
              "      filter: drop-shadow(0px 1px 2px rgba(0, 0, 0, 0.3));\n",
              "      fill: #FFFFFF;\n",
              "    }\n",
              "  </style>\n",
              "\n",
              "    <script>\n",
              "      const buttonEl =\n",
              "        document.querySelector('#df-c80d4e23-0feb-493c-9115-69e95c67a2c5 button.colab-df-convert');\n",
              "      buttonEl.style.display =\n",
              "        google.colab.kernel.accessAllowed ? 'block' : 'none';\n",
              "\n",
              "      async function convertToInteractive(key) {\n",
              "        const element = document.querySelector('#df-c80d4e23-0feb-493c-9115-69e95c67a2c5');\n",
              "        const dataTable =\n",
              "          await google.colab.kernel.invokeFunction('convertToInteractive',\n",
              "                                                    [key], {});\n",
              "        if (!dataTable) return;\n",
              "\n",
              "        const docLinkHtml = 'Like what you see? Visit the ' +\n",
              "          '<a target=\"_blank\" href=https://colab.research.google.com/notebooks/data_table.ipynb>data table notebook</a>'\n",
              "          + ' to learn more about interactive tables.';\n",
              "        element.innerHTML = '';\n",
              "        dataTable['output_type'] = 'display_data';\n",
              "        await google.colab.output.renderOutput(dataTable, element);\n",
              "        const docLink = document.createElement('div');\n",
              "        docLink.innerHTML = docLinkHtml;\n",
              "        element.appendChild(docLink);\n",
              "      }\n",
              "    </script>\n",
              "  </div>\n",
              "\n",
              "\n",
              "<div id=\"df-8eb133ae-cfc8-403d-a6ab-1bc42c1c6ba3\">\n",
              "  <button class=\"colab-df-quickchart\" onclick=\"quickchart('df-8eb133ae-cfc8-403d-a6ab-1bc42c1c6ba3')\"\n",
              "            title=\"Suggest charts\"\n",
              "            style=\"display:none;\">\n",
              "\n",
              "<svg xmlns=\"http://www.w3.org/2000/svg\" height=\"24px\"viewBox=\"0 0 24 24\"\n",
              "     width=\"24px\">\n",
              "    <g>\n",
              "        <path d=\"M19 3H5c-1.1 0-2 .9-2 2v14c0 1.1.9 2 2 2h14c1.1 0 2-.9 2-2V5c0-1.1-.9-2-2-2zM9 17H7v-7h2v7zm4 0h-2V7h2v10zm4 0h-2v-4h2v4z\"/>\n",
              "    </g>\n",
              "</svg>\n",
              "  </button>\n",
              "\n",
              "<style>\n",
              "  .colab-df-quickchart {\n",
              "      --bg-color: #E8F0FE;\n",
              "      --fill-color: #1967D2;\n",
              "      --hover-bg-color: #E2EBFA;\n",
              "      --hover-fill-color: #174EA6;\n",
              "      --disabled-fill-color: #AAA;\n",
              "      --disabled-bg-color: #DDD;\n",
              "  }\n",
              "\n",
              "  [theme=dark] .colab-df-quickchart {\n",
              "      --bg-color: #3B4455;\n",
              "      --fill-color: #D2E3FC;\n",
              "      --hover-bg-color: #434B5C;\n",
              "      --hover-fill-color: #FFFFFF;\n",
              "      --disabled-bg-color: #3B4455;\n",
              "      --disabled-fill-color: #666;\n",
              "  }\n",
              "\n",
              "  .colab-df-quickchart {\n",
              "    background-color: var(--bg-color);\n",
              "    border: none;\n",
              "    border-radius: 50%;\n",
              "    cursor: pointer;\n",
              "    display: none;\n",
              "    fill: var(--fill-color);\n",
              "    height: 32px;\n",
              "    padding: 0;\n",
              "    width: 32px;\n",
              "  }\n",
              "\n",
              "  .colab-df-quickchart:hover {\n",
              "    background-color: var(--hover-bg-color);\n",
              "    box-shadow: 0 1px 2px rgba(60, 64, 67, 0.3), 0 1px 3px 1px rgba(60, 64, 67, 0.15);\n",
              "    fill: var(--button-hover-fill-color);\n",
              "  }\n",
              "\n",
              "  .colab-df-quickchart-complete:disabled,\n",
              "  .colab-df-quickchart-complete:disabled:hover {\n",
              "    background-color: var(--disabled-bg-color);\n",
              "    fill: var(--disabled-fill-color);\n",
              "    box-shadow: none;\n",
              "  }\n",
              "\n",
              "  .colab-df-spinner {\n",
              "    border: 2px solid var(--fill-color);\n",
              "    border-color: transparent;\n",
              "    border-bottom-color: var(--fill-color);\n",
              "    animation:\n",
              "      spin 1s steps(1) infinite;\n",
              "  }\n",
              "\n",
              "  @keyframes spin {\n",
              "    0% {\n",
              "      border-color: transparent;\n",
              "      border-bottom-color: var(--fill-color);\n",
              "      border-left-color: var(--fill-color);\n",
              "    }\n",
              "    20% {\n",
              "      border-color: transparent;\n",
              "      border-left-color: var(--fill-color);\n",
              "      border-top-color: var(--fill-color);\n",
              "    }\n",
              "    30% {\n",
              "      border-color: transparent;\n",
              "      border-left-color: var(--fill-color);\n",
              "      border-top-color: var(--fill-color);\n",
              "      border-right-color: var(--fill-color);\n",
              "    }\n",
              "    40% {\n",
              "      border-color: transparent;\n",
              "      border-right-color: var(--fill-color);\n",
              "      border-top-color: var(--fill-color);\n",
              "    }\n",
              "    60% {\n",
              "      border-color: transparent;\n",
              "      border-right-color: var(--fill-color);\n",
              "    }\n",
              "    80% {\n",
              "      border-color: transparent;\n",
              "      border-right-color: var(--fill-color);\n",
              "      border-bottom-color: var(--fill-color);\n",
              "    }\n",
              "    90% {\n",
              "      border-color: transparent;\n",
              "      border-bottom-color: var(--fill-color);\n",
              "    }\n",
              "  }\n",
              "</style>\n",
              "\n",
              "  <script>\n",
              "    async function quickchart(key) {\n",
              "      const quickchartButtonEl =\n",
              "        document.querySelector('#' + key + ' button');\n",
              "      quickchartButtonEl.disabled = true;  // To prevent multiple clicks.\n",
              "      quickchartButtonEl.classList.add('colab-df-spinner');\n",
              "      try {\n",
              "        const charts = await google.colab.kernel.invokeFunction(\n",
              "            'suggestCharts', [key], {});\n",
              "      } catch (error) {\n",
              "        console.error('Error during call to suggestCharts:', error);\n",
              "      }\n",
              "      quickchartButtonEl.classList.remove('colab-df-spinner');\n",
              "      quickchartButtonEl.classList.add('colab-df-quickchart-complete');\n",
              "    }\n",
              "    (() => {\n",
              "      let quickchartButtonEl =\n",
              "        document.querySelector('#df-8eb133ae-cfc8-403d-a6ab-1bc42c1c6ba3 button');\n",
              "      quickchartButtonEl.style.display =\n",
              "        google.colab.kernel.accessAllowed ? 'block' : 'none';\n",
              "    })();\n",
              "  </script>\n",
              "</div>\n",
              "    </div>\n",
              "  </div>\n"
            ],
            "application/vnd.google.colaboratory.intrinsic+json": {
              "type": "dataframe",
              "variable_name": "data",
              "summary": "{\n  \"name\": \"data\",\n  \"rows\": 16047,\n  \"fields\": [\n    {\n      \"column\": \"text\",\n      \"properties\": {\n        \"dtype\": \"string\",\n        \"num_unique_values\": 15790,\n        \"samples\": [\n          \"10-\\u043a\\u0440\\u0430\\u0442\\u043d\\u044b\\u0439 \\u0447\\u0435\\u043c\\u043f\\u0438\\u043e\\u043d Australian Open \\u041d\\u043e\\u0432\\u0430\\u043a \\u0414\\u0436\\u043e\\u043a\\u043e\\u0432\\u0438\\u0447 \\u0442\\u043e\\u043b\\u044c\\u043a\\u043e \\u0447\\u0442\\u043e \\u0432\\u044b\\u0438\\u0433\\u0440\\u0430\\u043b \\u0441\\u0432\\u043e\\u0439 22-\\u0439 \\u043c\\u044d\\u0439\\u0434\\u0436\\u043e\\u0440 \\u0432 \\u043a\\u0430\\u0440\\u044c\\u0435\\u0440\\u0435 \\u0438 \\u0434\\u043e\\u0433\\u043d\\u0430\\u043b \\u0440\\u0435\\u043a\\u043e\\u0440\\u0434\\u0441\\u043c\\u0435\\u043d\\u0430 \\u0420\\u0430\\u0444\\u0430\\u044d\\u043b\\u044f \\u041d\\u0430\\u0434\\u0430\\u043b\\u044f. \\u0411\\u0438\\u0442\\u0432\\u0430 \\u0437\\u0430 \\u00ab\\u0428\\u043b\\u0435\\u043c\\u044b\\u00bb \\u043f\\u0440\\u043e\\u0434\\u043e\\u043b\\u0436\\u0430\\u0435\\u0442\\u0441\\u044f. \\u041a\\u0442\\u043e \\u0436\\u0435 \\u0432\\u044b\\u0439\\u0434\\u0435\\u0442 \\u0438\\u0437 \\u043d\\u0435\\u0451 \\u043f\\u043e\\u0431\\u0435\\u0434\\u0438\\u0442\\u0435\\u043b\\u0435\\u043c? \\u041a\\u0430\\u0436\\u0435\\u0442\\u0441\\u044f, \\u0447\\u0442\\u043e \\u0443 \\u0441\\u0435\\u0440\\u0431\\u0430 \\u0435\\u0441\\u0442\\u044c \\u043d\\u0435\\u0431\\u043e\\u043b\\u044c\\u0448\\u043e\\u0435 \\u043f\\u0440\\u0435\\u0438\\u043c\\u0443\\u0449\\u0435\\u0441\\u0442\\u0432\\u043e. \\u0418 \\u043d\\u0435 \\u0442\\u043e\\u043b\\u044c\\u043a\\u043e \\u0432 \\u0442\\u043e\\u043c, \\u0447\\u0442\\u043e \\u043e\\u043d \\u043d\\u0430 \\u0433\\u043e\\u0434 \\u043c\\u043e\\u043b\\u043e\\u0436\\u0435 \\u0438\\u0441\\u043f\\u0430\\u043d\\u0446\\u0430, \\u043d\\u043e \\u0438 \\u0435\\u0449\\u0451 \\u043a\\u043e\\u0435 \\u0432 \\u0447\\u0451\\u043c \\u0434\\u0440\\u0443\\u0433\\u043e\\u043c.\\n\\u00ab\\u041d\\u0435 \\u043d\\u043e\\u0432\\u0430\\u044f \\u043f\\u0440\\u043e\\u0433\\u0440\\u0430\\u043c\\u043c\\u0430 \\u0442\\u0440\\u0435\\u043d\\u0438\\u0440\\u043e\\u0432\\u043e\\u043a \\u0441\\u0434\\u0435\\u043b\\u0430\\u043b\\u0430 \\u043c\\u0435\\u043d\\u044f \\u0438\\u0437 \\u043e\\u0447\\u0435\\u043d\\u044c \\u0445\\u043e\\u0440\\u043e\\u0448\\u0435\\u0433\\u043e \\u0442\\u0435\\u043d\\u043d\\u0438\\u0441\\u0438\\u0441\\u0442\\u0430 \\u043b\\u0443\\u0447\\u0448\\u0438\\u043c \\u0432 \\u043c\\u0438\\u0440\\u0435 \\u0432\\u0441\\u0435\\u0433\\u043e \\u0437\\u0430 \\u043f\\u043e\\u043b\\u0442\\u043e\\u0440\\u0430 \\u0433\\u043e\\u0434\\u0430. \\u041d\\u0435 \\u043d\\u043e\\u0432\\u0430\\u044f \\u0440\\u0430\\u043a\\u0435\\u0442\\u043a\\u0430, \\u043d\\u0435 \\u043d\\u043e\\u0432\\u044b\\u0439 \\u043c\\u0435\\u0442\\u043e\\u0434 \\u043f\\u043e\\u0434\\u0433\\u043e\\u0442\\u043e\\u0432\\u043a\\u0438 \\u0438 \\u0434\\u0430\\u0436\\u0435 \\u043d\\u0435 \\u043d\\u043e\\u0432\\u044b\\u0435 \\u043f\\u043e\\u0440\\u0446\\u0438\\u0438 \\u0435\\u0434\\u044b \\u043f\\u043e\\u043c\\u043e\\u0433\\u043b\\u0438 \\u043c\\u043d\\u0435 \\u043f\\u043e\\u0445\\u0443\\u0434\\u0435\\u0442\\u044c, \\u0434\\u043e\\u0431\\u0438\\u0442\\u044c\\u0441\\u044f \\u043f\\u0441\\u0438\\u0445\\u043e\\u043b\\u043e\\u0433\\u0438\\u0447\\u0435\\u0441\\u043a\\u043e\\u0439 \\u043a\\u043e\\u043d\\u0446\\u0435\\u043d\\u0442\\u0440\\u0430\\u0446\\u0438\\u0438 \\u0438 \\u043e\\u0449\\u0443\\u0442\\u0438\\u0442\\u044c \\u0441\\u0435\\u0431\\u044f \\u043d\\u0435\\u043f\\u0440\\u0438\\u0432\\u044b\\u0447\\u043d\\u043e \\u0437\\u0434\\u043e\\u0440\\u043e\\u0432\\u044b\\u043c\\u00bb, \\u2014 \\u0442\\u0430\\u043a\\u043e\\u0435 \\u0433\\u0440\\u043e\\u043c\\u043a\\u043e\\u0435 \\u0437\\u0430\\u044f\\u0432\\u043b\\u0435\\u043d\\u0438\\u0435 \\u0441\\u0434\\u0435\\u043b\\u0430\\u043b \\u041d\\u043e\\u0432\\u0430\\u043a \\u0414\\u0436\\u043e\\u043a\\u043e\\u0432\\u0438\\u0447 \\u0432 2014 \\u0433\\u043e\\u0434\\u0443, \\u043a\\u043e\\u0433\\u0434\\u0430 \\u0443\\u0436\\u0435 \\u0431\\u044b\\u043b\\u043e \\u0442\\u0440\\u0443\\u0434\\u043d\\u043e \\u043e\\u0442\\u0440\\u0438\\u0446\\u0430\\u0442\\u044c, \\u0447\\u0442\\u043e \\u0441\\u0435\\u0440\\u0431 \\u044f\\u0432\\u043b\\u044f\\u0435\\u0442\\u0441\\u044f \\u043e\\u0434\\u043d\\u0438\\u043c \\u0438\\u0437 \\u0432\\u0435\\u043b\\u0438\\u0447\\u0430\\u0439\\u0448\\u0438\\u0445 \\u0442\\u0435\\u043d\\u043d\\u0438\\u0441\\u0438\\u0441\\u0442\\u043e\\u0432 \\u0432 \\u0438\\u0441\\u0442\\u043e\\u0440\\u0438\\u0438. \\u0412 \\u043a\\u043d\\u0438\\u0433\\u0435 \\u00ab\\u0412\\u043a\\u0443\\u0441 \\u043f\\u043e\\u0431\\u0435\\u0434\\u044b\\u00bb \\u0441\\u043f\\u043e\\u0440\\u0442\\u0441\\u043c\\u0435\\u043d \\u0440\\u0430\\u0441\\u0441\\u043a\\u0430\\u0437\\u0430\\u043b, \\u0447\\u0442\\u043e \\u0432\\u044b\\u0438\\u0433\\u0440\\u044b\\u0432\\u0430\\u0442\\u044c \\u043c\\u0430\\u0442\\u0447 \\u0437\\u0430 \\u043c\\u0430\\u0442\\u0447\\u0435\\u043c \\u0435\\u043c\\u0443 \\u043f\\u043e\\u043c\\u043e\\u0433\\u043b\\u0430 \\u043e\\u0441\\u043e\\u0431\\u0430\\u044f \\u0434\\u0438\\u0435\\u0442\\u0430, \\u043d\\u0430\\u0432\\u0441\\u0435\\u0433\\u0434\\u0430 \\u0438\\u0437\\u043c\\u0435\\u043d\\u0438\\u0432\\u0448\\u0430\\u044f \\u0435\\u0433\\u043e \\u0436\\u0438\\u0437\\u043d\\u044c.\\n\\u041f\\u043e \\u043f\\u0440\\u0438\\u0437\\u043d\\u0430\\u043d\\u0438\\u044e \\u0414\\u0436\\u043e\\u043a\\u043e\\u0432\\u0438\\u0447\\u0430, \\u043e\\u043d \\u043d\\u0430\\u0447\\u0430\\u043b \\u0435\\u0441\\u0442\\u044c \\u043f\\u0440\\u043e\\u0434\\u0443\\u043a\\u0442\\u044b, \\u043f\\u043e\\u0434\\u0445\\u043e\\u0434\\u044f\\u0449\\u0438\\u0435 \\u0434\\u043b\\u044f \\u0435\\u0433\\u043e \\u043e\\u0440\\u0433\\u0430\\u043d\\u0438\\u0437\\u043c\\u0430, \\u0438 \\u0440\\u0435\\u0437\\u0443\\u043b\\u044c\\u0442\\u0430\\u0442 \\u043d\\u0435 \\u0437\\u0430\\u0441\\u0442\\u0430\\u0432\\u0438\\u043b \\u0441\\u0435\\u0431\\u044f \\u0436\\u0434\\u0430\\u0442\\u044c. \\u0417\\u0430 \\u043f\\u0435\\u0440\\u0432\\u044b\\u0435 \\u0442\\u0440\\u0438 \\u043c\\u0435\\u0441\\u044f\\u0446\\u0430 \\u041d\\u043e\\u0432\\u0430\\u043a\\u0443 \\u0443\\u0434\\u0430\\u043b\\u043e\\u0441\\u044c \\u043f\\u043e\\u0445\\u0443\\u0434\\u0435\\u0442\\u044c \\u043d\\u0430 \\u0447\\u0435\\u0442\\u044b\\u0440\\u0435 \\u043a\\u0438\\u043b\\u043e\\u0433\\u0440\\u0430\\u043c\\u043c\\u0430, \\u0447\\u0442\\u043e \\u0441\\u0435\\u0440\\u044c\\u0451\\u0437\\u043d\\u043e \\u043e\\u0442\\u0440\\u0430\\u0437\\u0438\\u043b\\u043e\\u0441\\u044c \\u043d\\u0430 \\u0435\\u0433\\u043e \\u0441\\u0430\\u043c\\u043e\\u043e\\u0449\\u0443\\u0449\\u0435\\u043d\\u0438\\u0438.\\n\\u00ab\\u042f \\u0447\\u0443\\u0432\\u0441\\u0442\\u0432\\u043e\\u0432\\u0430\\u043b \\u0441\\u0435\\u0431\\u044f \\u0441\\u0432\\u0435\\u0436\\u0435\\u0435, \\u0436\\u0438\\u0432\\u0435\\u0435, \\u043f\\u0440\\u043e\\u0432\\u043e\\u0440\\u043d\\u0435\\u0435 \\u0438 \\u044d\\u043d\\u0435\\u0440\\u0433\\u0438\\u0447\\u043d\\u0435\\u0435, \\u0447\\u0435\\u043c \\u043a\\u043e\\u0433\\u0434\\u0430-\\u043b\\u0438\\u0431\\u043e. \\u042f \\u0441\\u0442\\u0430\\u043b \\u0431\\u043e\\u043b\\u0435\\u0435 \\u0431\\u044b\\u0441\\u0442\\u0440\\u044b\\u043c, \\u0433\\u0438\\u0431\\u043a\\u0438\\u043c, \\u043c\\u043e\\u0433 \\u0431\\u0440\\u0430\\u0442\\u044c \\u043c\\u044f\\u0447\\u0438, \\u043a\\u043e\\u0442\\u043e\\u0440\\u044b\\u0435 \\u043d\\u0435 \\u043c\\u043e\\u0433\\u043b\\u0438 \\u043e\\u0442\\u0431\\u0438\\u0442\\u044c \\u0434\\u0440\\u0443\\u0433\\u0438\\u0435 \\u0438\\u0433\\u0440\\u043e\\u043a\\u0438, \\u0438 \\u043f\\u0440\\u0438 \\u044d\\u0442\\u043e\\u043c \\u043d\\u0435 \\u0442\\u0435\\u0440\\u044f\\u043b \\u0441\\u0438\\u043b \\u0438 \\u0441\\u043e\\u0441\\u0440\\u0435\\u0434\\u043e\\u0442\\u043e\\u0447\\u0435\\u043d\\u043d\\u043e\\u0441\\u0442\\u0438 \\u2014 \\u043d\\u0438\\u043a\\u0430\\u043a\\u043e\\u0433\\u043e \\u0442\\u0443\\u043c\\u0430\\u043d\\u0430 \\u0432 \\u0433\\u043e\\u043b\\u043e\\u0432\\u0435. \\u042f \\u043d\\u0435 \\u0443\\u0441\\u0442\\u0430\\u0432\\u0430\\u043b \\u0438 \\u043d\\u0435 \\u0441\\u0431\\u0438\\u0432\\u0430\\u043b \\u0434\\u044b\\u0445\\u0430\\u043d\\u0438\\u044f. \\u0410\\u043b\\u043b\\u0435\\u0440\\u0433\\u0438\\u0447\\u0435\\u0441\\u043a\\u0438\\u0435 \\u0440\\u0435\\u0430\\u043a\\u0446\\u0438\\u0438 \\u0437\\u043d\\u0430\\u0447\\u0438\\u0442\\u0435\\u043b\\u044c\\u043d\\u043e \\u043e\\u0441\\u043b\\u0430\\u0431\\u043b\\u0438, \\u0430\\u0441\\u0442\\u043c\\u0430 \\u043e\\u0442\\u0441\\u0442\\u0443\\u043f\\u0438\\u043b\\u0430, \\u0441\\u0442\\u0440\\u0430\\u0445\\u0438 \\u0438 \\u0441\\u043e\\u043c\\u043d\\u0435\\u043d\\u0438\\u044f \\u0441\\u043c\\u0435\\u043d\\u0438\\u043b\\u0438\\u0441\\u044c \\u0443\\u0432\\u0435\\u0440\\u0435\\u043d\\u043d\\u043e\\u0441\\u0442\\u044c\\u044e \\u0432 \\u0441\\u0435\\u0431\\u0435. \\u0423\\u0436\\u0435 \\u043f\\u043e\\u0447\\u0442\\u0438 \\u0442\\u0440\\u0438 \\u0433\\u043e\\u0434\\u0430 \\u044f \\u043d\\u0435 \\u0437\\u043d\\u0430\\u044e \\u0441\\u0435\\u0440\\u044c\\u0451\\u0437\\u043d\\u044b\\u0445 \\u043f\\u0440\\u043e\\u0441\\u0442\\u0443\\u0434 \\u0438\\u043b\\u0438 \\u0433\\u0440\\u0438\\u043f\\u043f\\u0430\\u00bb, \\u2014 \\u043f\\u0440\\u0438\\u0437\\u043d\\u0430\\u0432\\u0430\\u043b\\u0441\\u044f \\u0442\\u0435\\u043d\\u043d\\u0438\\u0441\\u0438\\u0441\\u0442.\\n\\u0422\\u0430\\u043a \\u043a\\u0430\\u043a\\u043e\\u0439 \\u0436\\u0435 \\u0432\\u0430\\u0436\\u043d\\u044b\\u0439 \\u0441\\u0435\\u043a\\u0440\\u0435\\u0442 \\u043f\\u0438\\u0442\\u0430\\u043d\\u0438\\u044f \\u043f\\u043e\\u0437\\u043d\\u0430\\u043b \\u0414\\u0436\\u043e\\u043a\\u043e\\u0432\\u0438\\u0447? \\u0418 \\u043f\\u043e\\u0447\\u0435\\u043c\\u0443 \\u0435\\u043c\\u0443 \\u043f\\u0440\\u0438\\u0448\\u043b\\u043e\\u0441\\u044c \\u043f\\u0440\\u0438\\u043a\\u043b\\u0430\\u0434\\u044b\\u0432\\u0430\\u0442\\u044c \\u0445\\u043b\\u0435\\u0431 \\u043a \\u0436\\u0438\\u0432\\u043e\\u0442\\u0443?\\n\\u041d\\u043e\\u0432\\u0430\\u043a \\u0414\\u0436\\u043e\\u043a\\u043e\\u0432\\u0438\\u0447\\n\\u0418\\u0441\\u0442\\u043e\\u0440\\u0438\\u044f \\u043f\\u043e\\u0440\\u0430\\u0437\\u0438\\u0442\\u0435\\u043b\\u044c\\u043d\\u043e\\u0433\\u043e \\u043f\\u0440\\u0435\\u043e\\u0431\\u0440\\u0430\\u0436\\u0435\\u043d\\u0438\\u044f \\u0414\\u0436\\u043e\\u043a\\u043e\\u0432\\u0438\\u0447\\u0430 \\u043d\\u0430\\u0447\\u0430\\u043b\\u0430\\u0441\\u044c \\u0432 2010 \\u0433\\u043e\\u0434\\u0443, \\u043a\\u043e\\u0433\\u0434\\u0430 \\u043d\\u0430 \\u0442\\u0443\\u0440\\u043d\\u0438\\u0440\\u0435 \\u0432 \\u0425\\u043e\\u0440\\u0432\\u0430\\u0442\\u0438\\u0438 \\u041d\\u043e\\u0432\\u0430\\u043a \\u043f\\u043e\\u0432\\u0441\\u0442\\u0440\\u0435\\u0447\\u0430\\u043b \\u0434\\u043e\\u043a\\u0442\\u043e\\u0440\\u0430 \\u0418\\u0433\\u043e\\u0440\\u044f \\u0427\\u0435\\u0442\\u043e\\u0435\\u0432\\u0438\\u0447\\u0430. \\u0412\\u0440\\u0430\\u0447 \\u0443\\u0431\\u0435\\u0434\\u0438\\u043b \\u0442\\u0435\\u043d\\u043d\\u0438\\u0441\\u0438\\u0441\\u0442\\u0430, \\u0447\\u0442\\u043e \\u0437\\u043d\\u0430\\u0435\\u0442 \\u043f\\u0440\\u0438\\u0447\\u0438\\u043d\\u0443 \\u0435\\u0433\\u043e \\u043d\\u0435\\u0443\\u0434\\u0430\\u0447, \\u0438 \\u043f\\u043e\\u0441\\u043e\\u0432\\u0435\\u0442\\u043e\\u0432\\u0430\\u043b \\u0435\\u043c\\u0443 \\u0438\\u0437\\u043c\\u0435\\u043d\\u0438\\u0442\\u044c \\u0440\\u0430\\u0446\\u0438\\u043e\\u043d. \\u041e\\u0434\\u043d\\u0430\\u043a\\u043e \\u043f\\u0435\\u0440\\u0435\\u0434 \\u044d\\u0442\\u0438\\u043c \\u043f\\u043e\\u043f\\u0440\\u043e\\u0441\\u0438\\u043b \\u0441\\u043f\\u043e\\u0440\\u0442\\u0441\\u043c\\u0435\\u043d\\u0430 \\u0441\\u0434\\u0435\\u043b\\u0430\\u0442\\u044c \\u043d\\u0435\\u0447\\u0442\\u043e \\u0441\\u0442\\u0440\\u0430\\u043d\\u043d\\u043e\\u0435.\\n\\u00ab\\u041c\\u043d\\u0435 \\u043d\\u0430\\u0434\\u043e \\u0431\\u044b\\u043b\\u043e \\u043f\\u043e\\u043b\\u043e\\u0436\\u0438\\u0442\\u044c \\u043b\\u0435\\u0432\\u0443\\u044e \\u0440\\u0443\\u043a\\u0443 \\u043d\\u0430 \\u0436\\u0438\\u0432\\u043e\\u0442, \\u0430 \\u043f\\u0440\\u0430\\u0432\\u0443\\u044e \\u0432\\u044b\\u0442\\u044f\\u043d\\u0443\\u0442\\u044c \\u0432 \\u0441\\u0442\\u043e\\u0440\\u043e\\u043d\\u0443. \\u0417\\u0430\\u0442\\u0435\\u043c \\u043e\\u043d \\u0434\\u0430\\u043b \\u043c\\u043d\\u0435 \\u043b\\u043e\\u043c\\u043e\\u0442\\u044c \\u0445\\u043b\\u0435\\u0431\\u0430. \\u041c\\u043d\\u0435 \\u0447\\u0442\\u043e, \\u0435\\u0433\\u043e \\u0441\\u044a\\u0435\\u0441\\u0442\\u044c? \\u00ab\\u041d\\u0435\\u0442, \\u2014 \\u0437\\u0430\\u0441\\u043c\\u0435\\u044f\\u043b\\u0441\\u044f \\u0427\\u0435\\u0442\\u043e\\u0435\\u0432\\u0438\\u0447. \\u2014 \\u041f\\u0440\\u0438\\u0436\\u043c\\u0438 \\u0435\\u0433\\u043e \\u043a \\u0436\\u0438\\u0432\\u043e\\u0442\\u0443, \\u0430 \\u043f\\u0440\\u0430\\u0432\\u0443\\u044e \\u0440\\u0443\\u043a\\u0443 \\u0441\\u043d\\u043e\\u0432\\u0430 \\u0432\\u044b\\u0442\\u044f\\u043d\\u0438\\u00bb. \\u041e\\u043d \\u0435\\u0449\\u0451 \\u0440\\u0430\\u0437 \\u043d\\u0430\\u0434\\u0430\\u0432\\u0438\\u043b \\u043d\\u0430 \\u0432\\u044b\\u0442\\u044f\\u043d\\u0443\\u0442\\u0443\\u044e \\u0440\\u0443\\u043a\\u0443, \\u043f\\u043e\\u044f\\u0441\\u043d\\u0438\\u0432, \\u0447\\u0442\\u043e \\u044d\\u0442\\u043e\\u0442 \\u043f\\u0440\\u0435\\u0434\\u0432\\u0430\\u0440\\u0438\\u0442\\u0435\\u043b\\u044c\\u043d\\u044b\\u0439 \\u0442\\u0435\\u0441\\u0442 \\u043f\\u043e\\u043a\\u0430\\u0436\\u0435\\u0442, \\u0435\\u0441\\u0442\\u044c \\u043b\\u0438 \\u0443 \\u043c\\u0435\\u043d\\u044f \\u043f\\u043e\\u0432\\u044b\\u0448\\u0435\\u043d\\u043d\\u0430\\u044f \\u0447\\u0443\\u0432\\u0441\\u0442\\u0432\\u0438\\u0442\\u0435\\u043b\\u044c\\u043d\\u043e\\u0441\\u0442\\u044c \\u043a \\u0433\\u043b\\u044e\\u0442\\u0435\\u043d\\u0443 \\u2014 \\u0431\\u0435\\u043b\\u043a\\u0443, \\u0441\\u043e\\u0434\\u0435\\u0440\\u0436\\u0430\\u0449\\u0435\\u043c\\u0443\\u0441\\u044f \\u0432 \\u043f\\u0448\\u0435\\u043d\\u0438\\u0446\\u0435, \\u043e\\u0432\\u0441\\u0435, \\u0440\\u0436\\u0438 \\u0438 \\u0434\\u0440\\u0443\\u0433\\u0438\\u0445 \\u0445\\u043b\\u0435\\u0431\\u043d\\u044b\\u0445 \\u0437\\u043b\\u0430\\u043a\\u0430\\u0445. \\u042d\\u043a\\u0441\\u043f\\u0435\\u0440\\u0438\\u043c\\u0435\\u043d\\u0442 \\u043f\\u043e\\u043a\\u0430\\u0437\\u0430\\u043b\\u0441\\u044f \\u043c\\u043d\\u0435 \\u0431\\u0435\\u0441\\u0441\\u043c\\u044b\\u0441\\u043b\\u0438\\u0446\\u0435\\u0439. \\u041e\\u0434\\u043d\\u0430\\u043a\\u043e \\u044f \\u043e\\u0449\\u0443\\u0442\\u0438\\u043b \\u0437\\u0430\\u043c\\u0435\\u0442\\u043d\\u0443\\u044e \\u0440\\u0430\\u0437\\u043d\\u0438\\u0446\\u0443. \\u041a\\u043e\\u0433\\u0434\\u0430 \\u044f \\u043f\\u0440\\u0438\\u0436\\u0438\\u043c\\u0430\\u043b \\u043a \\u0436\\u0438\\u0432\\u043e\\u0442\\u0443 \\u0445\\u043b\\u0435\\u0431, \\u043f\\u0440\\u0430\\u0432\\u0430\\u044f \\u0440\\u0443\\u043a\\u0430 \\u0441 \\u0431\\u043e\\u043b\\u044c\\u0448\\u0438\\u043c \\u0443\\u0441\\u0438\\u043b\\u0438\\u0435\\u043c \\u0432\\u044b\\u0434\\u0435\\u0440\\u0436\\u0438\\u0432\\u0430\\u043b\\u0430 \\u0434\\u0430\\u0432\\u043b\\u0435\\u043d\\u0438\\u0435 \\u0427\\u0435\\u0442\\u043e\\u0435\\u0432\\u0438\\u0447\\u0430. \\u042f \\u0434\\u0435\\u0439\\u0441\\u0442\\u0432\\u0438\\u0442\\u0435\\u043b\\u044c\\u043d\\u043e \\u0441\\u0442\\u0430\\u043b \\u0441\\u043b\\u0430\\u0431\\u0435\\u0435!\\u00bb \\u2014 \\u0434\\u0435\\u043b\\u0438\\u043b\\u0441\\u044f \\u0432\\u043e\\u0441\\u043f\\u043e\\u043c\\u0438\\u043d\\u0430\\u043d\\u0438\\u044f\\u043c\\u0438 \\u0414\\u0436\\u043e\\u043a\\u043e\\u0432\\u0438\\u0447. \\u0422\\u0430\\u043a \\u043e\\u043d \\u0443\\u0437\\u043d\\u0430\\u043b, \\u0447\\u0442\\u043e \\u0443 \\u043d\\u0435\\u0433\\u043e \\u0435\\u0441\\u0442\\u044c \\u0430\\u043b\\u043b\\u0435\\u0440\\u0433\\u0438\\u044f \\u043d\\u0430 \\u0433\\u043b\\u044e\\u0442\\u0435\\u043d, \\u0438 \\u0440\\u0435\\u0448\\u0438\\u043b \\u0438\\u0441\\u043a\\u043b\\u044e\\u0447\\u0438\\u0442\\u044c \\u0435\\u0433\\u043e \\u0438\\u0437 \\u0441\\u0432\\u043e\\u0435\\u0433\\u043e \\u0440\\u0430\\u0446\\u0438\\u043e\\u043d\\u0430.\\n\\u0417\\u0430 \\u0433\\u043e\\u0434\\u044b \\u044d\\u043a\\u0441\\u043f\\u0435\\u0440\\u0438\\u043c\\u0435\\u043d\\u0442\\u0430 \\u041d\\u043e\\u0432\\u0430\\u043a \\u0442\\u0449\\u0430\\u0442\\u0435\\u043b\\u044c\\u043d\\u043e \\u0438\\u0437\\u0443\\u0447\\u0438\\u043b \\u0442\\u0435\\u043c\\u0443 \\u0438 \\u043f\\u043e\\u0434\\u0435\\u043b\\u0438\\u043b\\u0441\\u044f \\u0441\\u0432\\u043e\\u0438\\u043c\\u0438 \\u043e\\u0442\\u043a\\u0440\\u044b\\u0442\\u0438\\u044f\\u043c\\u0438 \\u0441 \\u0448\\u0438\\u0440\\u043e\\u043a\\u043e\\u0439 \\u043f\\u0443\\u0431\\u043b\\u0438\\u043a\\u043e\\u0439. \\u041f\\u043e\\u0434\\u0440\\u043e\\u0431\\u043d\\u043e \\u043e\\u043f\\u0438\\u0441\\u0430\\u043b \\u043e\\u043d \\u043f\\u043e\\u0441\\u043b\\u0435\\u0434\\u0441\\u0442\\u0432\\u0438\\u044f \\u0446\\u0435\\u043b\\u0438\\u0430\\u043a\\u0438\\u0438 \\u2014 \\u0440\\u0435\\u0437\\u043a\\u043e \\u0432\\u044b\\u0440\\u0430\\u0436\\u0435\\u043d\\u043d\\u043e\\u0439 \\u0430\\u043b\\u043b\\u0435\\u0440\\u0433\\u0438\\u0447\\u0435\\u0441\\u043a\\u043e\\u0439 \\u0440\\u0435\\u0430\\u043a\\u0446\\u0438\\u0438 \\u043d\\u0430 \\u0433\\u043b\\u044e\\u0442\\u0435\\u043d. \\u0412\\u043e\\u0441\\u043f\\u0430\\u043b\\u0435\\u043d\\u0438\\u044f \\u0442\\u043e\\u043d\\u043a\\u043e\\u0433\\u043e \\u043a\\u0438\\u0448\\u0435\\u0447\\u043d\\u0438\\u043a\\u0430, \\u0443\\u0442\\u043e\\u043c\\u043b\\u044f\\u0435\\u043c\\u043e\\u0441\\u0442\\u044c, \\u043a\\u043e\\u0436\\u043d\\u044b\\u0435 \\u0432\\u044b\\u0441\\u044b\\u043f\\u0430\\u043d\\u0438\\u044f, \\u0431\\u043e\\u043b\\u0435\\u0437\\u043d\\u0435\\u043d\\u043d\\u043e\\u0435 \\u043f\\u043e\\u0445\\u0443\\u0434\\u0430\\u043d\\u0438\\u0435, \\u0430\\u043d\\u0435\\u043c\\u0438\\u044f \\u0438 \\u043e\\u0441\\u0442\\u0435\\u043e\\u043f\\u043e\\u0440\\u043e\\u0437 \\u2014 \\u0432\\u0441\\u0451 \\u044d\\u0442\\u043e \\u0441\\u0438\\u043c\\u043f\\u0442\\u043e\\u043c\\u044b \\u043d\\u0435\\u043f\\u0440\\u0430\\u0432\\u0438\\u043b\\u044c\\u043d\\u043e\\u0433\\u043e \\u043f\\u0438\\u0442\\u0430\\u043d\\u0438\\u044f.\\n\\u041f\\u0440\\u043e\\u0434\\u0443\\u043a\\u0442\\u043e\\u0432, \\u0432 \\u043a\\u043e\\u0442\\u043e\\u0440\\u044b\\u0445 \\u0435\\u0441\\u0442\\u044c \\u0433\\u043b\\u044e\\u0442\\u0435\\u043d, \\u043c\\u043d\\u043e\\u0433\\u043e \\u2014 \\u0432 \\u043e\\u0441\\u043d\\u043e\\u0432\\u043d\\u043e\\u043c \\u044d\\u0442\\u043e \\u0445\\u043b\\u0435\\u0431 \\u0438 \\u0434\\u0440\\u0443\\u0433\\u0438\\u0435 \\u043c\\u0443\\u0447\\u043d\\u044b\\u0435 \\u043f\\u0440\\u043e\\u0434\\u0443\\u043a\\u0442\\u044b, \\u043e\\u0434\\u043d\\u0430\\u043a\\u043e \\u0442\\u0435\\u043d\\u043d\\u0438\\u0441\\u0438\\u0441\\u0442 \\u043d\\u0435 \\u0433\\u043e\\u0432\\u043e\\u0440\\u0438\\u0442 \\u0438\\u0437\\u0431\\u0430\\u0432\\u043b\\u044f\\u0442\\u044c\\u0441\\u044f \\u043e\\u0442 \\u043d\\u0438\\u0445 \\u00ab\\u043d\\u0430 \\u0432\\u0435\\u043a\\u0438 \\u0432\\u0435\\u0447\\u043d\\u044b\\u0435\\u00bb. \\u041e\\u043d \\u0441\\u043e\\u0432\\u0435\\u0442\\u0443\\u0435\\u0442 \\u043f\\u043e\\u043f\\u0440\\u043e\\u0431\\u043e\\u0432\\u0430\\u0442\\u044c \\u043e\\u0442\\u043a\\u0430\\u0437\\u0430\\u0442\\u044c\\u0441\\u044f \\u043e\\u0442 \\u043d\\u0438\\u0445 \\u043d\\u0430 \\u0434\\u0432\\u0435 \\u043d\\u0435\\u0434\\u0435\\u043b\\u0438, \\u0430 \\u0437\\u0430\\u0442\\u0435\\u043c \\u043f\\u043e\\u0441\\u043c\\u043e\\u0442\\u0440\\u0435\\u0442\\u044c \\u043d\\u0430 \\u0440\\u0435\\u0430\\u043a\\u0446\\u0438\\u044e \\u0432\\u0430\\u0448\\u0435\\u0433\\u043e \\u043e\\u0440\\u0433\\u0430\\u043d\\u0438\\u0437\\u043c\\u0430. \\u041a\\u0440\\u043e\\u043c\\u0435 \\u0442\\u043e\\u0433\\u043e, \\u041d\\u043e\\u0432\\u0430\\u043a \\u0434\\u043e\\u043a\\u0430\\u0437\\u044b\\u0432\\u0430\\u0435\\u0442, \\u0447\\u0442\\u043e \\u0434\\u0430\\u0436\\u0435 \\u043d\\u0430 \\u0431\\u0435\\u0437\\u0433\\u043b\\u044e\\u0442\\u0435\\u043d\\u043e\\u0432\\u043e\\u0439 \\u0434\\u0438\\u0435\\u0442\\u0435 \\u043c\\u043e\\u0436\\u043d\\u043e \\u0432\\u043a\\u0443\\u0441\\u043d\\u043e \\u0438 \\u043f\\u043e\\u043b\\u043d\\u043e\\u0446\\u0435\\u043d\\u043d\\u043e \\u043f\\u0438\\u0442\\u0430\\u0442\\u044c\\u0441\\u044f.\\n\\u00ab\\u041e\\u0441\\u043d\\u043e\\u0432\\u0430 \\u043d\\u0430\\u0448\\u0435\\u0439 \\u0436\\u0438\\u0437\\u043d\\u0438 \\u2014 \\u0441\\u0431\\u0430\\u043b\\u0430\\u043d\\u0441\\u0438\\u0440\\u043e\\u0432\\u0430\\u043d\\u043d\\u043e\\u0441\\u0442\\u044c \\u0438 \\u0443\\u043c\\u0435\\u0440\\u0435\\u043d\\u043d\\u043e\\u0441\\u0442\\u044c \\u0432\\u043e \\u0432\\u0441\\u0451\\u043c: \\u0432 \\u043f\\u0438\\u0442\\u0430\\u043d\\u0438\\u0438, \\u0442\\u0440\\u0435\\u043d\\u0438\\u0440\\u043e\\u0432\\u043a\\u0430\\u0445, \\u0440\\u0430\\u0431\\u043e\\u0442\\u0435, \\u043b\\u044e\\u0431\\u0432\\u0438 \\u0438 \\u0441\\u0435\\u043a\\u0441\\u0435 (\\u043b\\u0430\\u0434\\u043d\\u043e, \\u0441\\u043e\\u0433\\u043b\\u0430\\u0441\\u0435\\u043d, \\u0441\\u0435\\u043a\\u0441 \\u0437\\u0430\\u0441\\u043b\\u0443\\u0436\\u0438\\u0432\\u0430\\u0435\\u0442 \\u0438\\u0441\\u043a\\u043b\\u044e\\u0447\\u0435\\u043d\\u0438\\u044f, \\u043d\\u043e \\u0432 \\u0446\\u0435\\u043b\\u043e\\u043c \\u0432\\u044b \\u043c\\u0435\\u043d\\u044f \\u043f\\u043e\\u043d\\u044f\\u043b\\u0438). \\u0415\\u0441\\u0442\\u044c \\u0441\\u0442\\u0430\\u0440\\u0430\\u044f \\u043f\\u043e\\u0433\\u043e\\u0432\\u043e\\u0440\\u043a\\u0430 \\u043e \\u0447\\u0435\\u0442\\u044b\\u0440\\u0451\\u0445 \\u00ab\\u0431\\u0435\\u043b\\u044b\\u0445 \\u0441\\u043c\\u0435\\u0440\\u0442\\u044f\\u0445\\u00bb: \\u0431\\u0435\\u043b\\u043e\\u043c \\u0445\\u043b\\u0435\\u0431\\u0435, \\u0431\\u0435\\u043b\\u043e\\u043c \\u0441\\u0430\\u0445\\u0430\\u0440\\u0435, \\u0441\\u043e\\u043b\\u0438 \\u0438 \\u0431\\u0435\\u043b\\u043e\\u043c \\u0436\\u0438\\u0440\\u0435. \\u041b\\u0443\\u0447\\u0448\\u0435 \\u0432\\u0441\\u0435\\u0433\\u043e, \\u043d\\u0435\\u0437\\u0430\\u0432\\u0438\\u0441\\u0438\\u043c\\u043e \\u043e\\u0442 \\u0442\\u0438\\u043f\\u0430 \\u0432\\u0430\\u0448\\u0435\\u0433\\u043e \\u043e\\u0440\\u0433\\u0430\\u043d\\u0438\\u0437\\u043c\\u0430, \\u0438\\u0437\\u0431\\u0435\\u0433\\u0430\\u0442\\u044c \\u0432\\u044b\\u0448\\u0435\\u043e\\u0437\\u043d\\u0430\\u0447\\u0435\\u043d\\u043d\\u0443\\u044e \\u0447\\u0435\\u0442\\u0432\\u0451\\u0440\\u043a\\u0443, \\u0430 \\u043a\\u043e\\u0433\\u0434\\u0430 \\u0432\\u0441\\u0451 \\u0436\\u0435 \\u043f\\u043e\\u0437\\u0432\\u043e\\u043b\\u044f\\u0435\\u0442\\u0435 \\u0441\\u0435\\u0431\\u0435 \\u043f\\u043e\\u043b\\u0430\\u043a\\u043e\\u043c\\u0438\\u0442\\u044c\\u0441\\u044f, \\u0442\\u043e \\u0435\\u0448\\u044c\\u0442\\u0435 \\u0443\\u043c\\u0435\\u0440\\u0435\\u043d\\u043d\\u043e. \\u0412\\u043e\\u043e\\u0431\\u0449\\u0435, \\u044f \\u0441\\u0442\\u0430\\u0440\\u0430\\u044e\\u0441\\u044c \\u043b\\u044e\\u0431\\u0443\\u044e \\u043f\\u0438\\u0449\\u0443 \\u0435\\u0441\\u0442\\u044c \\u043f\\u043e\\u043d\\u0435\\u043c\\u043d\\u043e\\u0433\\u0443, \\u0434\\u0430\\u0436\\u0435 \\u043f\\u043e\\u043b\\u0435\\u0437\\u043d\\u0443\\u044e. \\u041a\\u0443\\u0434\\u0430 \\u0431\\u044b \\u044f \\u043d\\u0438 \\u043f\\u0440\\u0438\\u0435\\u0445\\u0430\\u043b, \\u0438\\u0449\\u0443 \\u0441\\u043b\\u0435\\u0434\\u0443\\u044e\\u0449\\u0438\\u0435 \\u043f\\u0440\\u043e\\u0434\\u0443\\u043a\\u0442\\u044b: \\u043c\\u044f\\u0441\\u043e, \\u0440\\u044b\\u0431\\u0443 \\u0438 \\u044f\\u0439\\u0446\\u0430. \\u0421\\u0430\\u043c\\u044b\\u0439 \\u043e\\u0447\\u0435\\u0432\\u0438\\u0434\\u043d\\u044b\\u0439 \\u0432\\u044b\\u0431\\u043e\\u0440 \\u0434\\u043b\\u044f \\u0442\\u043e\\u0433\\u043e, \\u043a\\u0442\\u043e \\u043e\\u0442\\u043a\\u0430\\u0437\\u0430\\u043b\\u0441\\u044f \\u043e\\u0442 \\u0445\\u043b\\u0435\\u0431\\u0430 \\u0438 \\u0441\\u0430\\u0445\\u0430\\u0440\\u0430\\u00bb, \\u2014 \\u043f\\u0438\\u0441\\u0430\\u043b \\u0414\\u0436\\u043e\\u043a\\u043e\\u0432\\u0438\\u0447.\\n\\u041f\\u043e\\u043c\\u0438\\u043c\\u043e \\u044d\\u0442\\u0438\\u0445 \\u043f\\u0440\\u043e\\u0434\\u0443\\u043a\\u0442\\u043e\\u0432, \\u0441\\u0435\\u0440\\u0431 \\u043d\\u0430\\u043b\\u0435\\u0433\\u0430\\u0435\\u0442 \\u043d\\u0430 \\u043e\\u0432\\u043e\\u0449\\u0438 \\u2014 \\u043e\\u0441\\u043d\\u043e\\u0432\\u043d\\u043e\\u0439 \\u043f\\u0440\\u0438\\u0440\\u043e\\u0434\\u043d\\u044b\\u0439 \\u0438\\u0441\\u0442\\u043e\\u0447\\u043d\\u0438\\u043a \\u043f\\u0440\\u0430\\u043a\\u0442\\u0438\\u0447\\u0435\\u0441\\u043a\\u0438 \\u0432\\u0441\\u0435\\u0445 \\u043f\\u0438\\u0442\\u0430\\u0442\\u0435\\u043b\\u044c\\u043d\\u044b\\u0445 \\u0432\\u0435\\u0449\\u0435\\u0441\\u0442\\u0432: \\u0432\\u0438\\u0442\\u0430\\u043c\\u0438\\u043d\\u043e\\u0432, \\u043c\\u0438\\u043d\\u0435\\u0440\\u0430\\u043b\\u043e\\u0432, \\u043a\\u043b\\u0435\\u0442\\u0447\\u0430\\u0442\\u043a\\u0438, \\u0430\\u043d\\u0442\\u0438\\u043e\\u043a\\u0441\\u0438\\u0434\\u0430\\u043d\\u0442\\u043e\\u0432. \\u0415\\u0434\\u0438\\u043d\\u0441\\u0442\\u0432\\u0435\\u043d\\u043d\\u043e\\u0435, \\u043e\\u043d \\u043d\\u0435 \\u0443\\u0436\\u0438\\u043d\\u0430\\u0435\\u0442 \\u043e\\u0432\\u043e\\u0449\\u0430\\u043c\\u0438, \\u0432 \\u043a\\u043e\\u0442\\u043e\\u0440\\u044b\\u0445 \\u043c\\u043d\\u043e\\u0433\\u043e \\u043a\\u0440\\u0430\\u0445\\u043c\\u0430\\u043b\\u0430 \\u0438 \\u0443\\u0433\\u043b\\u0435\\u0432\\u043e\\u0434\\u043e\\u0432, \\u2014 \\u0441\\u0432\\u0435\\u043a\\u043b\\u043e\\u0439, \\u043a\\u0430\\u0440\\u0442\\u043e\\u0444\\u0435\\u043b\\u0435\\u043c, \\u043a\\u0430\\u0431\\u0430\\u0447\\u043a\\u0430\\u043c\\u0438 \\u0438 \\u0442\\u044b\\u043a\\u0432\\u043e\\u0439. \\u041d\\u043e\\u0432\\u0430\\u043a \\u043f\\u0440\\u0435\\u0434\\u043f\\u043e\\u0447\\u0438\\u0442\\u0430\\u0435\\u0442 \\u0438\\u0445 \\u0437\\u0430\\u043c\\u0435\\u043d\\u044f\\u0442\\u044c \\u0441\\u0430\\u043b\\u0430\\u0442\\u0430\\u043c\\u0438, \\u0431\\u0440\\u043e\\u043a\\u043a\\u043e\\u043b\\u0438, \\u0446\\u0432\\u0435\\u0442\\u043d\\u043e\\u0439 \\u043a\\u0430\\u043f\\u0443\\u0441\\u0442\\u043e\\u0439, \\u0437\\u0435\\u043b\\u0451\\u043d\\u043e\\u0439 \\u0444\\u0430\\u0441\\u043e\\u043b\\u044c\\u044e \\u0438 \\u0441\\u043f\\u0430\\u0440\\u0436\\u0435\\u0439.\\n\\u0424\\u0440\\u0443\\u043a\\u0442\\u0430\\u043c\\u0438 \\u0441\\u0435\\u0431\\u044f \\u0431\\u0430\\u043b\\u0443\\u0435\\u0442 \\u0442\\u0435\\u043d\\u043d\\u0438\\u0441\\u0438\\u0441\\u0442, \\u043a\\u043e\\u0433\\u0434\\u0430 \\u0445\\u043e\\u0447\\u0435\\u0442 \\u0441\\u043b\\u0430\\u0434\\u043a\\u043e\\u0433\\u043e. \\u041f\\u043e\\u043b\\u0435\\u0437\\u043d\\u044b\\u0435 \\u0436\\u0438\\u0440\\u044b \\u043e\\u043d \\u0447\\u0435\\u0440\\u043f\\u0430\\u0435\\u0442 \\u0432 \\u043e\\u0440\\u0435\\u0445\\u0430\\u0445 \\u0438 \\u0441\\u0435\\u043c\\u0435\\u0447\\u043a\\u0430\\u0445, \\u0430 \\u0442\\u0430\\u043a\\u0436\\u0435 \\u0440\\u0430\\u0437\\u043d\\u043e\\u043e\\u0431\\u0440\\u0430\\u0437\\u043d\\u044b\\u0445 \\u043c\\u0430\\u0441\\u043b\\u0430\\u0445 \\u2014 \\u043e\\u043b\\u0438\\u0432\\u043a\\u043e\\u0432\\u043e\\u043c, \\u043a\\u043e\\u043a\\u043e\\u0441\\u043e\\u0432\\u043e\\u043c, \\u043b\\u044c\\u043d\\u044f\\u043d\\u043e\\u043c. \\u0427\\u0442\\u043e\\u0431\\u044b \\u0435\\u0434\\u0430 \\u043d\\u0435 \\u0431\\u044b\\u043b\\u0430 \\u043f\\u0440\\u0435\\u0441\\u043d\\u043e\\u0439, \\u0414\\u0436\\u043e\\u043a\\u043e\\u0432\\u0438\\u0447 \\u0434\\u043e\\u0431\\u0430\\u0432\\u043b\\u044f\\u0435\\u0442 \\u0432 \\u043d\\u0435\\u0451 \\u043f\\u0440\\u0438\\u043f\\u0440\\u0430\\u0432\\u044b, \\u043d\\u043e \\u0442\\u043e\\u043b\\u044c\\u043a\\u043e \\u0442\\u0435, \\u0432 \\u043a\\u043e\\u0442\\u043e\\u0440\\u044b\\u0445 \\u043d\\u0435\\u0442 \\u0438\\u0437\\u0431\\u044b\\u0442\\u043a\\u0430 \\u0441\\u0430\\u0445\\u0430\\u0440\\u0430, \\u2014 \\u0433\\u043e\\u0440\\u0447\\u0438\\u0446\\u0430, \\u0445\\u0440\\u0435\\u043d, \\u0443\\u043a\\u0441\\u0443\\u0441, \\u0432\\u0430\\u0441\\u0430\\u0431\\u0438 \\u0438 \\u0434\\u0440\\u0443\\u0433\\u0438\\u0435.\\n\\u041d\\u043e \\u043d\\u0435 \\u0442\\u043e\\u043b\\u044c\\u043a\\u043e \\u043e\\u0442 \\u0441\\u043e\\u0441\\u0442\\u0430\\u0432\\u0430 \\u0431\\u043b\\u044e\\u0434 \\u0437\\u0430\\u0432\\u0438\\u0441\\u0438\\u0442 \\u043a\\u0430\\u0447\\u0435\\u0441\\u0442\\u0432\\u043e \\u043f\\u0438\\u0442\\u0430\\u043d\\u0438\\u044f, \\u0437\\u0430\\u044f\\u0432\\u043b\\u044f\\u0435\\u0442 \\u041d\\u043e\\u0432\\u0430\\u043a. \\u0415\\u0441\\u0442\\u044c \\u0435\\u0449\\u0451 \\u043f\\u0440\\u0430\\u0432\\u0438\\u043b\\u0430, \\u043a\\u043e\\u0442\\u043e\\u0440\\u044b\\u0435 \\u043d\\u0435\\u043e\\u0431\\u0445\\u043e\\u0434\\u0438\\u043c\\u043e \\u0441\\u043e\\u0431\\u043b\\u044e\\u0434\\u0430\\u0442\\u044c. \\u0423 \\u0442\\u0435\\u043d\\u043d\\u0438\\u0441\\u0438\\u0441\\u0442\\u0430 \\u0438\\u0445 \\u0447\\u0435\\u0442\\u044b\\u0440\\u0435.\\n\\u00ab\\u041f\\u0440\\u0430\\u0432\\u0438\\u043b\\u043e \\u043d\\u043e\\u043c\\u0435\\u0440 \\u043e\\u0434\\u0438\\u043d: \\u0435\\u0448\\u044c\\u0442\\u0435 \\u043c\\u0435\\u0434\\u043b\\u0435\\u043d\\u043d\\u043e \\u0438 \\u043e\\u0441\\u043e\\u0437\\u043d\\u0430\\u043d\\u043d\\u043e. \\u041a\\u0430\\u043a \\u0441\\u043f\\u043e\\u0440\\u0442\\u0441\\u043c\\u0435\\u043d \\u044f \\u043e\\u0431\\u043b\\u0430\\u0434\\u0430\\u044e \\u0431\\u044b\\u0441\\u0442\\u0440\\u044b\\u043c \\u043c\\u0435\\u0442\\u0430\\u0431\\u043e\\u043b\\u0438\\u0437\\u043c\\u043e\\u043c. \\u041c\\u043e\\u0451 \\u0442\\u0435\\u043b\\u043e \\u0442\\u0440\\u0435\\u0431\\u0443\\u0435\\u0442 \\u043c\\u043d\\u043e\\u0433\\u043e \\u044d\\u043d\\u0435\\u0440\\u0433\\u0438\\u0438, \\u043e\\u0441\\u043e\\u0431\\u0435\\u043d\\u043d\\u043e \\u0432\\u043e \\u0432\\u0440\\u0435\\u043c\\u044f \\u043c\\u0430\\u0442\\u0447\\u0430, \\u043f\\u043e\\u044d\\u0442\\u043e\\u043c\\u0443 \\u044f \\u0445\\u043e\\u0447\\u0443 \\u043f\\u0435\\u0440\\u0435\\u0432\\u0430\\u0440\\u0438\\u0432\\u0430\\u0442\\u044c \\u043f\\u0438\\u0449\\u0443 \\u043a\\u0430\\u043a \\u043c\\u043e\\u0436\\u043d\\u043e \\u044d\\u0444\\u0444\\u0435\\u043a\\u0442\\u0438\\u0432\\u043d\\u0435\\u0435 \\u0438 \\u043f\\u043e\\u043b\\u0443\\u0447\\u0430\\u0442\\u044c \\u043c\\u0430\\u043a\\u0441\\u0438\\u043c\\u0443\\u043c \\u044d\\u043d\\u0435\\u0440\\u0433\\u0438\\u0438. \\u0412\\u0441\\u043f\\u043e\\u043c\\u043d\\u0438\\u0442\\u0435 \\u0443\\u0440\\u043e\\u043a\\u0438 \\u0431\\u0438\\u043e\\u043b\\u043e\\u0433\\u0438\\u0438: \\u0434\\u043b\\u044f \\u043f\\u0435\\u0440\\u0435\\u0432\\u0430\\u0440\\u0438\\u0432\\u0430\\u043d\\u0438\\u044f \\u043f\\u0438\\u0449\\u0438 \\u043d\\u0435\\u043e\\u0431\\u0445\\u043e\\u0434\\u0438\\u043c \\u043f\\u0440\\u0438\\u043b\\u0438\\u0432 \\u043a\\u0440\\u043e\\u0432\\u0438. \\u041d\\u043e \\u043c\\u043d\\u0435 \\u044d\\u0442\\u0430 \\u043a\\u0440\\u043e\\u0432\\u044c \\u0442\\u043e\\u0436\\u0435 \\u043d\\u0443\\u0436\\u043d\\u0430, \\u043a\\u043e\\u0433\\u0434\\u0430 \\u044f \\u0432\\u044b\\u0441\\u0442\\u0443\\u043f\\u0430\\u044e \\u043d\\u0430 \\u043a\\u043e\\u0440\\u0442\\u0435. \\u0418 \\u0435\\u0441\\u043b\\u0438 \\u044f \\u0434\\u043e\\u0431\\u044c\\u044e\\u0441\\u044c, \\u0447\\u0442\\u043e\\u0431\\u044b \\u043f\\u0438\\u0449\\u0435\\u0432\\u0430\\u0440\\u0438\\u0442\\u0435\\u043b\\u044c\\u043d\\u0430\\u044f \\u0441\\u0438\\u0441\\u0442\\u0435\\u043c\\u0430 \\u0440\\u0430\\u0431\\u043e\\u0442\\u0430\\u043b\\u0430 \\u0431\\u044b\\u0441\\u0442\\u0440\\u0435\\u0435 \\u0438 \\u043b\\u0443\\u0447\\u0448\\u0435, \\u0442\\u043e \\u0441\\u043c\\u043e\\u0433\\u0443 \\u0440\\u0430\\u043d\\u044c\\u0448\\u0435 \\u0432\\u0435\\u0440\\u043d\\u0443\\u0442\\u044c\\u0441\\u044f \\u043a \\u0444\\u0438\\u0437\\u0438\\u0447\\u0435\\u0441\\u043a\\u043e\\u0439 \\u0430\\u043a\\u0442\\u0438\\u0432\\u043d\\u043e\\u0441\\u0442\\u0438 \\u0441 \\u043d\\u043e\\u0432\\u044b\\u043c\\u0438 \\u0441\\u0438\\u043b\\u0430\\u043c\\u0438.\\n\\u041d\\u043e\\u0432\\u0430\\u043a \\u0414\\u0436\\u043e\\u043a\\u043e\\u0432\\u0438\\u0447\\n\\u0412\\u0442\\u043e\\u0440\\u043e\\u0435 \\u043f\\u0440\\u0430\\u0432\\u0438\\u043b\\u043e: \\u0434\\u0430\\u0432\\u0430\\u0439\\u0442\\u0435 \\u043e\\u0440\\u0433\\u0430\\u043d\\u0438\\u0437\\u043c\\u0443 \\u0447\\u0451\\u0442\\u043a\\u0438\\u0435 \\u0443\\u043a\\u0430\\u0437\\u0430\\u043d\\u0438\\u044f. \\u041d\\u0430\\u0448 \\u043e\\u0440\\u0433\\u0430\\u043d\\u0438\\u0437\\u043c \\u0438\\u0441\\u043f\\u043e\\u043b\\u044c\\u0437\\u0443\\u0435\\u0442 \\u043f\\u0438\\u0449\\u0443 \\u0434\\u043b\\u044f \\u0434\\u0432\\u0443\\u0445 \\u043e\\u0441\\u043d\\u043e\\u0432\\u043d\\u044b\\u0445 \\u0446\\u0435\\u043b\\u0435\\u0439: \\u0432\\u043e-\\u043f\\u0435\\u0440\\u0432\\u044b\\u0445, \\u0440\\u0430\\u0434\\u0438 \\u043f\\u043e\\u043b\\u0443\\u0447\\u0435\\u043d\\u0438\\u044f \\u044d\\u043d\\u0435\\u0440\\u0433\\u0438\\u0438 \\u2014 \\u0447\\u0442\\u043e\\u0431\\u044b \\u043d\\u043e\\u0433\\u0438 \\u0434\\u0432\\u0438\\u0433\\u0430\\u043b\\u0438\\u0441\\u044c, \\u0441\\u0435\\u0440\\u0434\\u0446\\u0435 \\u0431\\u0438\\u043b\\u043e\\u0441\\u044c, \\u0440\\u0430\\u043a\\u0435\\u0442\\u043a\\u0430 \\u043b\\u0435\\u0442\\u0430\\u043b\\u0430 \\u0432 \\u0440\\u0443\\u043a\\u0430\\u0445. \\u0412\\u043e-\\u0432\\u0442\\u043e\\u0440\\u044b\\u0445, \\u0434\\u043b\\u044f \\u0432\\u043e\\u0441\\u0441\\u0442\\u0430\\u043d\\u043e\\u0432\\u043b\\u0435\\u043d\\u0438\\u044f, \\u0447\\u0442\\u043e\\u0431\\u044b \\u0438\\u0441\\u043f\\u0440\\u0430\\u0432\\u0438\\u0442\\u044c \\u0443\\u0449\\u0435\\u0440\\u0431, \\u043d\\u0430\\u043d\\u0435\\u0441\\u0451\\u043d\\u043d\\u044b\\u0439 \\u0437\\u0430 \\u0434\\u0435\\u043d\\u044c, \\u0431\\u0443\\u0434\\u044c \\u0442\\u043e \\u043e\\u0442 \\u0434\\u043e\\u043b\\u0433\\u0438\\u0445 \\u0442\\u0440\\u0435\\u043d\\u0438\\u0440\\u043e\\u0432\\u043e\\u043a \\u0438\\u043b\\u0438 \\u0446\\u0435\\u043b\\u043e\\u0433\\u043e \\u0434\\u043d\\u044f \\u0432 \\u043e\\u0444\\u0438\\u0441\\u0435. \\u041f\\u0440\\u043e\\u0442\\u0435\\u0438\\u043d \\u0438 \\u0434\\u0440\\u0443\\u0433\\u0438\\u0435 \\u043f\\u0438\\u0442\\u0430\\u0442\\u0435\\u043b\\u044c\\u043d\\u044b\\u0435 \\u0432\\u0435\\u0449\\u0435\\u0441\\u0442\\u0432\\u0430 \\u043f\\u043e\\u043c\\u043e\\u0433\\u0430\\u044e\\u0442 \\u0432\\u043e\\u0441\\u0441\\u0442\\u0430\\u043d\\u0430\\u0432\\u043b\\u0438\\u0432\\u0430\\u0442\\u044c \\u043c\\u044b\\u0448\\u0446\\u044b, \\u0432\\u044b\\u0440\\u0430\\u0431\\u0430\\u0442\\u044b\\u0432\\u0430\\u0442\\u044c \\u043d\\u043e\\u0432\\u044b\\u0435 \\u043a\\u0440\\u043e\\u0432\\u044f\\u043d\\u044b\\u0435 \\u043a\\u043b\\u0435\\u0442\\u043a\\u0438 \\u0438 \\u0432\\u043e\\u0441\\u043f\\u043e\\u043b\\u043d\\u044f\\u0442\\u044c \\u0443\\u0440\\u043e\\u0432\\u0435\\u043d\\u044c \\u0433\\u043e\\u0440\\u043c\\u043e\\u043d\\u043e\\u0432. \\u0412\\u043e\\u0442 \\u043f\\u043e\\u0447\\u0435\\u043c\\u0443 \\u043e\\u0441\\u043d\\u043e\\u0432\\u043d\\u043e\\u0435 \\u043a\\u043e\\u043b\\u0438\\u0447\\u0435\\u0441\\u0442\\u0432\\u043e \\u043a\\u0430\\u043b\\u043e\\u0440\\u0438\\u0439, \\u043a\\u043e\\u0442\\u043e\\u0440\\u044b\\u0435 \\u044f \\u0441\\u044a\\u0435\\u0434\\u0430\\u044e \\u0432 \\u043f\\u0435\\u0440\\u0432\\u043e\\u0439 \\u043f\\u043e\\u043b\\u043e\\u0432\\u0438\\u043d\\u0435 \\u0434\\u043d\\u044f \\u0434\\u043e \\u043b\\u0430\\u043d\\u0447\\u0430, \\u0437\\u0430\\u043a\\u043b\\u044e\\u0447\\u0435\\u043d\\u043e \\u0432 \\u0443\\u0433\\u043b\\u0435\\u0432\\u043e\\u0434\\u0430\\u0445. \\u0423\\u043f\\u043e\\u0442\\u0440\\u0435\\u0431\\u043b\\u044f\\u044f \\u0443\\u0433\\u043b\\u0435\\u0432\\u043e\\u0434\\u044b \\u0438 \\u043e\\u0447\\u0435\\u043d\\u044c \\u043c\\u0430\\u043b\\u043e \\u0431\\u0435\\u043b\\u043a\\u0430, \\u044f \\u0433\\u043e\\u0432\\u043e\\u0440\\u044e \\u043e\\u0440\\u0433\\u0430\\u043d\\u0438\\u0437\\u043c\\u0443: \\u00ab\\u041c\\u043d\\u0435 \\u043d\\u0443\\u0436\\u043d\\u0430 \\u044d\\u043d\\u0435\\u0440\\u0433\\u0438\\u044f, \\u043f\\u0435\\u0440\\u0435\\u0440\\u0430\\u0431\\u0430\\u0442\\u044b\\u0432\\u0430\\u0439 \\u043f\\u043e \\u043c\\u0435\\u0440\\u0435 \\u043d\\u0435\\u043e\\u0431\\u0445\\u043e\\u0434\\u0438\\u043c\\u043e\\u0441\\u0442\\u0438\\u00bb. \\u041d\\u043e\\u0447\\u044c\\u044e \\u044d\\u043d\\u0435\\u0440\\u0433\\u0438\\u044f \\u043c\\u043d\\u0435 \\u043d\\u0435 \\u043d\\u0443\\u0436\\u043d\\u0430. \\u042f \\u0443\\u0441\\u0442\\u0430\\u043b \\u0438 \\u0445\\u043e\\u0447\\u0443 \\u0445\\u043e\\u0440\\u043e\\u0448\\u043e \\u0432\\u044b\\u0441\\u043f\\u0430\\u0442\\u044c\\u0441\\u044f. \\u041f\\u043e\\u044d\\u0442\\u043e\\u043c\\u0443 \\u0437\\u0430 \\u0443\\u0436\\u0438\\u043d\\u043e\\u043c \\u044f \\u0433\\u043e\\u0432\\u043e\\u0440\\u044e \\u043e\\u0440\\u0433\\u0430\\u043d\\u0438\\u0437\\u043c\\u0443: \\u00ab\\u041d\\u0443\\u0436\\u043d\\u043e, \\u0447\\u0442\\u043e\\u0431\\u044b \\u0442\\u044b \\u0438\\u0441\\u043f\\u0440\\u0430\\u0432\\u0438\\u043b \\u0432\\u0441\\u0451, \\u0447\\u0442\\u043e \\u044f \\u043d\\u0430\\u0442\\u0432\\u043e\\u0440\\u0438\\u043b. \\u041f\\u043e\\u0436\\u0430\\u043b\\u0443\\u0439\\u0441\\u0442\\u0430, \\u0431\\u0435\\u0440\\u0438 \\u043f\\u0440\\u043e\\u0442\\u0435\\u0438\\u043d \\u0438 \\u0434\\u0435\\u043b\\u0430\\u0439, \\u0447\\u0442\\u043e \\u043d\\u0430\\u0434\\u043e\\u00bb.\\n\\u041f\\u0440\\u0430\\u0432\\u0438\\u043b\\u043e \\u043d\\u043e\\u043c\\u0435\\u0440 \\u0442\\u0440\\u0438: \\u043e\\u0441\\u0442\\u0430\\u0432\\u0430\\u0439\\u0442\\u0435\\u0441\\u044c \\u043f\\u043e\\u0437\\u0438\\u0442\\u0438\\u0432\\u043d\\u044b\\u043c\\u0438. \\u042f \\u0441\\u0447\\u0438\\u0442\\u0430\\u044e, \\u0447\\u0442\\u043e \\u0435\\u0434\\u0430 \\u0441\\u043f\\u043e\\u0441\\u043e\\u0431\\u043d\\u0430 \\u043f\\u0435\\u0440\\u0435\\u0434\\u0430\\u0432\\u0430\\u0442\\u044c \\u043e\\u0440\\u0433\\u0430\\u043d\\u0438\\u0437\\u043c\\u0443 \\u043f\\u043e\\u0437\\u0438\\u0442\\u0438\\u0432\\u043d\\u0443\\u044e \\u0438\\u043b\\u0438 \\u043d\\u0435\\u0433\\u0430\\u0442\\u0438\\u0432\\u043d\\u0443\\u044e \\u044d\\u043d\\u0435\\u0440\\u0433\\u0438\\u044e. \\u0415\\u0441\\u043b\\u0438 \\u0432\\u044b \\u0435\\u0434\\u0438\\u0442\\u0435, \\u0438\\u0441\\u043f\\u044b\\u0442\\u044b\\u0432\\u0430\\u044f \\u0441\\u0442\\u0440\\u0430\\u0445, \\u0431\\u0435\\u0441\\u043f\\u043e\\u043a\\u043e\\u0439\\u0441\\u0442\\u0432\\u043e \\u0438\\u043b\\u0438 \\u0433\\u043d\\u0435\\u0432, \\u0432\\u043a\\u0443\\u0441 \\u0435\\u0434\\u044b \\u0438 \\u044d\\u043d\\u0435\\u0440\\u0433\\u0438\\u044f, \\u043a\\u043e\\u0442\\u043e\\u0440\\u0443\\u044e \\u0432\\u044b \\u043e\\u0442 \\u043d\\u0435\\u0451 \\u043f\\u043e\\u043b\\u0443\\u0447\\u0430\\u0435\\u0442\\u0435, \\u043d\\u043e\\u0440\\u043c\\u0430\\u043b\\u044c\\u043d\\u044b\\u043c\\u0438 \\u043d\\u0435 \\u0431\\u0443\\u0434\\u0443\\u0442.\\n\\u041f\\u0440\\u0430\\u0432\\u0438\\u043b\\u043e \\u043d\\u043e\\u043c\\u0435\\u0440 \\u0447\\u0435\\u0442\\u044b\\u0440\\u0435: \\u0441\\u0442\\u0430\\u0432\\u044c\\u0442\\u0435 \\u0446\\u0435\\u043b\\u044c\\u044e \\u043a\\u0430\\u0447\\u0435\\u0441\\u0442\\u0432\\u043e, \\u0430 \\u043d\\u0435 \\u043a\\u043e\\u043b\\u0438\\u0447\\u0435\\u0441\\u0442\\u0432\\u043e. \\u0412 \\u043c\\u0438\\u0440\\u0435 \\u0441\\u043f\\u043e\\u0440\\u0442\\u0430 \\u0441\\u043f\\u043e\\u0440\\u0442\\u0441\\u043c\\u0435\\u043d\\u044b \\u0432\\u0441\\u0435\\u0433\\u0434\\u0430 \\u0431\\u043e\\u044f\\u0442\\u0441\\u044f, \\u0447\\u0442\\u043e \\u0438\\u043c \\u043d\\u0435 \\u0445\\u0432\\u0430\\u0442\\u0438\\u0442 \\u0441\\u0438\\u043b, \\u0436\\u0438\\u0434\\u043a\\u043e\\u0441\\u0442\\u0438, \\u043f\\u0438\\u0442\\u0430\\u0442\\u0435\\u043b\\u044c\\u043d\\u044b\\u0445 \\u0432\\u0435\\u0449\\u0435\\u0441\\u0442\\u0432. \\u041a\\u0430\\u043a \\u0431\\u043e\\u043b\\u044c\\u0448\\u0438\\u043d\\u0441\\u0442\\u0432\\u043e \\u0441\\u043f\\u043e\\u0440\\u0442\\u0441\\u043c\\u0435\\u043d\\u043e\\u0432, \\u044f \\u0440\\u0430\\u043d\\u044c\\u0448\\u0435 \\u0431\\u0435\\u0441\\u043f\\u043e\\u043a\\u043e\\u0438\\u043b\\u0441\\u044f, \\u0447\\u0442\\u043e \\u043c\\u0430\\u043b\\u043e \\u0441\\u044a\\u0435\\u043b. \\u0427\\u0442\\u043e, \\u0435\\u0441\\u043b\\u0438 \\u0443 \\u043c\\u0435\\u043d\\u044f \\u043a\\u043e\\u043d\\u0447\\u0430\\u0442\\u0441\\u044f \\u0441\\u0438\\u043b\\u044b, \\u043f\\u043e\\u0441\\u0442\\u043e\\u044f\\u043d\\u043d\\u043e \\u0441\\u043f\\u0440\\u0430\\u0448\\u0438\\u0432\\u0430\\u043b \\u044f \\u0441\\u0435\\u0431\\u044f. \\u0425\\u0432\\u0430\\u0442\\u0438\\u0442 \\u043b\\u0438 \\u0443 \\u043c\\u0435\\u043d\\u044f \\u044d\\u043d\\u0435\\u0440\\u0433\\u0438\\u0438 \\u0432\\u044b\\u0434\\u0435\\u0440\\u0436\\u0430\\u0442\\u044c \\u0446\\u0435\\u043b\\u044b\\u0439 \\u0434\\u0435\\u043d\\u044c \\u0442\\u0440\\u0435\\u043d\\u0438\\u0440\\u043e\\u0432\\u043e\\u043a? \\u042f \\u0432\\u0441\\u0435\\u0433\\u0434\\u0430 \\u0435\\u043b \\u0441 \\u0437\\u0430\\u043f\\u0430\\u0441\\u043e\\u043c, \\u0434\\u0430\\u0436\\u0435 \\u043a\\u043e\\u0433\\u0434\\u0430 \\u0443\\u0436\\u0435 \\u0438 \\u043d\\u0435 \\u0445\\u043e\\u0442\\u0435\\u043b\\u043e\\u0441\\u044c, \\u0430 \\u043d\\u0430 \\u0442\\u0440\\u0435\\u043d\\u0438\\u0440\\u043e\\u0432\\u043a\\u0430\\u0445 \\u0442\\u043e \\u0438 \\u0434\\u0435\\u043b\\u043e \\u043f\\u043e\\u0434\\u0431\\u0440\\u0430\\u0441\\u044b\\u0432\\u0430\\u043b \\u0432 \\u0442\\u043e\\u043f\\u043a\\u0443 \\u00ab\\u044d\\u043d\\u0435\\u0440\\u0433\\u0435\\u0442\\u0438\\u0447\\u0435\\u0441\\u043a\\u0438\\u0435 \\u0431\\u0430\\u0442\\u043e\\u043d\\u0447\\u0438\\u043a\\u0438\\u00bb, \\u0432 \\u043a\\u043e\\u0442\\u043e\\u0440\\u044b\\u0445 \\u043e\\u0434\\u043d\\u0438 \\u043a\\u043e\\u043d\\u0441\\u0435\\u0440\\u0432\\u0430\\u043d\\u0442\\u044b \\u0438 \\u0441\\u0430\\u0445\\u0430\\u0440. \\u041f\\u043e\\u043b\\u0443\\u0447\\u0430\\u0435\\u0442\\u0441\\u044f, \\u044f \\u043e\\u0442\\u043f\\u0440\\u0430\\u0432\\u043b\\u044f\\u043b \\u0432 \\u0436\\u0435\\u043b\\u0443\\u0434\\u043e\\u043a \\u0441\\u043b\\u0438\\u0448\\u043a\\u043e\\u043c \\u043c\\u043d\\u043e\\u0433\\u043e \\u0435\\u0434\\u044b, \\u0441\\u043b\\u0438\\u0448\\u043a\\u043e\\u043c \\u043c\\u043d\\u043e\\u0433\\u043e \\u0438\\u043d\\u0444\\u043e\\u0440\\u043c\\u0430\\u0446\\u0438\\u0438 \\u0434\\u043b\\u044f \\u043e\\u0431\\u0440\\u0430\\u0431\\u043e\\u0442\\u043a\\u0438\\u00bb.\\n\\u041f\\u0440\\u0435\\u0434\\u0441\\u0442\\u0430\\u0432\\u043b\\u044f\\u044f \\u0447\\u0438\\u0442\\u0430\\u0442\\u0435\\u043b\\u044f\\u043c \\u0441\\u043e\\u0431\\u0441\\u0442\\u0432\\u0435\\u043d\\u043d\\u044b\\u0439 \\u0440\\u0430\\u0446\\u0438\\u043e\\u043d, \\u041d\\u043e\\u0432\\u0430\\u043a \\u043e\\u0442\\u043c\\u0435\\u0447\\u0430\\u043b, \\u0447\\u0442\\u043e \\u044d\\u0442\\u043e \\u043d\\u0435 \\u0441\\u0442\\u0430\\u043d\\u0434\\u0430\\u0440\\u0442\\u043d\\u044b\\u0439 \\u043f\\u0438\\u0449\\u0435\\u0432\\u043e\\u0439 \\u043f\\u043b\\u0430\\u043d \\u0438 \\u043a\\u0430\\u0436\\u0434\\u044b\\u0439 \\u0447\\u0435\\u043b\\u043e\\u0432\\u0435\\u043a \\u0434\\u043e\\u043b\\u0436\\u0435\\u043d \\u043f\\u043e\\u0434\\u0441\\u0442\\u0440\\u0430\\u0438\\u0432\\u0430\\u0442\\u044c\\u0441\\u044f \\u043f\\u043e\\u0434 \\u043e\\u0441\\u043e\\u0431\\u0435\\u043d\\u043d\\u043e\\u0441\\u0442\\u0438 \\u0441\\u0432\\u043e\\u0435\\u0433\\u043e \\u043e\\u0440\\u0433\\u0430\\u043d\\u0438\\u0437\\u043c\\u0430. \\u0422\\u0435\\u043c \\u043d\\u0435 \\u043c\\u0435\\u043d\\u0435\\u0435 \\u0435\\u0441\\u043b\\u0438 \\u0432\\u044b \\u0445\\u043e\\u0442\\u0438\\u0442\\u0435 \\u043f\\u0438\\u0442\\u0430\\u0442\\u044c\\u0441\\u044f \\u043a\\u0430\\u043a \\u0447\\u0435\\u043c\\u043f\\u0438\\u043e\\u043d, \\u0442\\u043e \\u043c\\u043e\\u0436\\u0435\\u0442\\u0435 \\u043f\\u043e\\u0447\\u0435\\u0440\\u043f\\u043d\\u0443\\u0442\\u044c \\u0434\\u043b\\u044f \\u0441\\u0435\\u0431\\u044f \\u043d\\u0435\\u0441\\u043a\\u043e\\u043b\\u044c\\u043a\\u043e \\u0438\\u0434\\u0435\\u0439 \\u0438\\u0437 \\u0434\\u0438\\u0435\\u0442\\u044b \\u0414\\u0436\\u043e\\u043a\\u043e\\u0432\\u0438\\u0447\\u0430, \\u0441\\u0435\\u043a\\u0440\\u0435\\u0442\\u0430\\u043c\\u0438 \\u043a\\u043e\\u0442\\u043e\\u0440\\u043e\\u0439 \\u043f\\u043e\\u0434\\u0435\\u043b\\u0438\\u043b\\u0441\\u044f \\u0441\\u0430\\u043c \\u0442\\u0435\\u043d\\u043d\\u0438\\u0441\\u0438\\u0441\\u0442.\",\n          \"\\u0412 \\u043f\\u0440\\u043e\\u0448\\u043b\\u043e\\u043c \\u0441\\u0435\\u0437\\u043e\\u043d\\u0435 \\u00ab\\u041c\\u0430\\u043a\\u043b\\u0430\\u0440\\u0435\\u043d\\u00bb \\u0438 Seamless Digital \\u0437\\u0430\\u043a\\u043b\\u044e\\u0447\\u0438\\u043b\\u0438 \\u043c\\u043d\\u043e\\u0433\\u043e\\u043b\\u0435\\u0442\\u043d\\u0438\\u0439 \\u043a\\u043e\\u043d\\u0442\\u0440\\u0430\\u043a\\u0442 \\u043e \\u0441\\u043e\\u0442\\u0440\\u0443\\u0434\\u043d\\u0438\\u0447\\u0435\\u0441\\u0442\\u0432\\u0435. \\u0412 \\u0440\\u0430\\u043c\\u043a\\u0430\\u0445 \\u0441\\u0434\\u0435\\u043b\\u043a\\u0438 \\u043d\\u0430 \\u043f\\u044f\\u0442\\u043d\\u0438\\u0447\\u043d\\u044b\\u0445 \\u0442\\u0440\\u0435\\u043d\\u0438\\u0440\\u043e\\u0432\\u043a\\u0430\\u0445 \\u0432 \\u041e\\u0441\\u0442\\u0438\\u043d\\u0435 \\u0438 \\u043d\\u0430 \\u043e\\u0441\\u0442\\u0430\\u0432\\u0448\\u0438\\u0445\\u0441\\u044f \\u0413\\u0440\\u0430\\u043d-\\u043f\\u0440\\u0438 \\u043d\\u0430 \\u0431\\u043e\\u043b\\u0438\\u0434\\u0430\\u0445 \\u0431\\u044b\\u043b\\u0438 \\u0443\\u0441\\u0442\\u0430\\u043d\\u043e\\u0432\\u043b\\u0435\\u043d\\u044b \\u043d\\u0435\\u0431\\u043e\\u043b\\u044c\\u0448\\u0438\\u0435 \\u0434\\u0438\\u0441\\u043f\\u043b\\u0435\\u0438, \\u043d\\u0430 \\u043a\\u043e\\u0442\\u043e\\u0440\\u044b\\u0445 \\u0442\\u0440\\u0430\\u043d\\u0441\\u043b\\u0438\\u0440\\u043e\\u0432\\u0430\\u043b\\u0430\\u0441\\u044c \\u0440\\u0435\\u043a\\u043b\\u0430\\u043c\\u0430. \\u041a\\u0430\\u043a \\u044d\\u0442\\u0430 \\u0438\\u0434\\u0435\\u044f \\u043c\\u043e\\u0436\\u0435\\u0442 \\u043f\\u043e\\u0432\\u043b\\u0438\\u044f\\u0442\\u044c \\u043d\\u0430 \\u0424\\u043e\\u0440\\u043c\\u0443\\u043b\\u0443-1?\\n\\u0411\\u043e\\u043b\\u044c\\u0448\\u043e\\u0439 \\u043f\\u043b\\u044e\\u0441 \\u043d\\u043e\\u0432\\u043e\\u0433\\u043e \\u0432\\u0438\\u0434\\u0430 \\u0440\\u0435\\u043a\\u043b\\u0430\\u043c\\u044b \\u0432 \\u0442\\u043e\\u043c, \\u0447\\u0442\\u043e \\u0443\\u043f\\u0440\\u0430\\u0432\\u043b\\u044f\\u0442\\u044c \\u0435\\u044e \\u0441\\u0442\\u0430\\u043b\\u043e \\u0432\\u043e\\u0437\\u043c\\u043e\\u0436\\u043d\\u043e \\u0432 \\u0440\\u0435\\u0436\\u0438\\u043c\\u0435 \\u0440\\u0435\\u0430\\u043b\\u044c\\u043d\\u043e\\u0433\\u043e \\u0432\\u0440\\u0435\\u043c\\u0435\\u043d\\u0438, \\u043f\\u0440\\u0438 \\u044d\\u0442\\u043e\\u043c \\u043d\\u0430 \\u043e\\u0434\\u043d\\u043e\\u043c \\u0438 \\u0442\\u043e\\u043c \\u0436\\u0435 \\u043c\\u0435\\u0441\\u0442\\u0435 \\u043c\\u043e\\u0436\\u043d\\u043e \\u043f\\u043e\\u043a\\u0430\\u0437\\u044b\\u0432\\u0430\\u0442\\u044c \\u043b\\u043e\\u0433\\u043e\\u0442\\u0438\\u043f\\u044b \\u0440\\u0430\\u0437\\u043d\\u044b\\u0445 \\u0431\\u0440\\u0435\\u043d\\u0434\\u043e\\u0432. \\u0414\\u043b\\u044f \\u0441\\u043f\\u043e\\u043d\\u0441\\u043e\\u0440\\u043e\\u0432 \\u044d\\u0442\\u043e \\u043e\\u0447\\u0435\\u043d\\u044c \\u0443\\u0434\\u043e\\u0431\\u043d\\u043e, \\u043d\\u043e \\u043a\\u043e\\u043c\\u0430\\u043d\\u0434\\u044b \\u044f\\u0432\\u043d\\u043e \\u043d\\u0435 \\u0437\\u0430\\u0445\\u043e\\u0442\\u044f\\u0442 \\u043f\\u0440\\u0435\\u0432\\u0440\\u0430\\u0442\\u0438\\u0442\\u044c \\u0441\\u0432\\u043e\\u0438 \\u0431\\u043e\\u043b\\u0438\\u0434\\u044b \\u0432 \\u043e\\u0433\\u0440\\u043e\\u043c\\u043d\\u044b\\u0435 \\u0440\\u0435\\u043a\\u043b\\u0430\\u043c\\u043d\\u044b\\u0435 \\u0449\\u0438\\u0442\\u044b \\u043d\\u0430 \\u043a\\u043e\\u043b\\u0451\\u0441\\u0430\\u0445.\\n\\u0420\\u0435\\u043a\\u043b\\u0430\\u043c\\u043d\\u044b\\u0435 \\u0434\\u0438\\u0441\\u043f\\u043b\\u0435\\u0438 \\u043f\\u043e \\u043a\\u0440\\u0430\\u044f\\u043c \\u043a\\u043e\\u043a\\u043f\\u0438\\u0442\\u0430 \\u00ab\\u041c\\u0430\\u043a\\u043b\\u0430\\u0440\\u0435\\u043d\\u0430\\u00bb\\n\\u0421\\u0435\\u0439\\u0447\\u0430\\u0441 \\u0434\\u0438\\u0441\\u043f\\u043b\\u0435\\u0438 \\u0443\\u0441\\u0442\\u0430\\u043d\\u043e\\u0432\\u043b\\u0435\\u043d\\u044b \\u0432 \\u043c\\u0435\\u0441\\u0442\\u0430\\u0445, \\u043a\\u043e\\u0442\\u043e\\u0440\\u044b\\u0435 \\u043d\\u0435\\u0447\\u0430\\u0441\\u0442\\u043e \\u043f\\u043e\\u043f\\u0430\\u0434\\u0430\\u044e\\u0442 \\u0432 \\u0442\\u0440\\u0430\\u043d\\u0441\\u043b\\u044f\\u0446\\u0438\\u044e (\\u044d\\u0442\\u043e \\u043f\\u0440\\u043e\\u0442\\u0438\\u0432\\u043e\\u043f\\u043e\\u043b\\u043e\\u0436\\u043d\\u044b\\u0435 \\u0441\\u0442\\u043e\\u0440\\u043e\\u043d\\u044b \\u043a\\u043e\\u043a\\u043f\\u0438\\u0442\\u0430) \\u0438 \\u043a\\u043e\\u0442\\u043e\\u0440\\u044b\\u0435 \\u043d\\u0435\\u0432\\u043e\\u0437\\u043c\\u043e\\u0436\\u043d\\u043e \\u0443\\u0432\\u0438\\u0434\\u0435\\u0442\\u044c \\u0437\\u0440\\u0438\\u0442\\u0435\\u043b\\u044e \\u043d\\u0430 \\u0442\\u0440\\u0438\\u0431\\u0443\\u043d\\u0435. \\u0422\\u0430\\u043a\\u0430\\u044f \\u0440\\u0435\\u043a\\u043b\\u0430\\u043c\\u0430 \\u043d\\u0435\\u044d\\u0444\\u0444\\u0435\\u043a\\u0442\\u0438\\u0432\\u043d\\u0430, \\u0438 \\u043f\\u043e\\u043d\\u044f\\u0442\\u043d\\u043e, \\u0447\\u0442\\u043e \\u043f\\u043b\\u0430\\u0442\\u0438\\u0442\\u044c \\u0437\\u0430 \\u043d\\u0435\\u0451 \\u0440\\u0435\\u043a\\u043b\\u0430\\u043c\\u043e\\u0434\\u0430\\u0442\\u0435\\u043b\\u0438 \\u043d\\u0435 \\u0441\\u0442\\u0430\\u043d\\u0443\\u0442. \\u0422\\u0430\\u043a \\u0447\\u0442\\u043e \\u0435\\u0441\\u043b\\u0438 \\u0442\\u0435\\u0445\\u043d\\u043e\\u043b\\u043e\\u0433\\u0438\\u0438 \\u0434\\u0430\\u0434\\u0443\\u0442 \\u0445\\u043e\\u0434, \\u0442\\u043e \\u043e\\u043d\\u0430 \\u044f\\u0432\\u043d\\u043e \\u043f\\u0440\\u0435\\u0442\\u0435\\u0440\\u043f\\u0438\\u0442 \\u0438\\u0437\\u043c\\u0435\\u043d\\u0435\\u043d\\u0438\\u044f: \\u0434\\u0438\\u0441\\u043f\\u043b\\u0435\\u0438 \\u0441\\u0434\\u0435\\u043b\\u0430\\u044e\\u0442 \\u0431\\u043e\\u043b\\u044c\\u0448\\u0435 \\u0438 \\u043f\\u0435\\u0440\\u0435\\u043d\\u0435\\u0441\\u0443\\u0442 \\u0432 \\u0434\\u0440\\u0443\\u0433\\u0438\\u0435 \\u043c\\u0435\\u0441\\u0442\\u0430.\\n\\u041a\\u043e\\u043c\\u0430\\u043d\\u0434\\u044b \\u043c\\u043e\\u0433\\u0443\\u0442 \\u043f\\u043e\\u0434\\u0434\\u0435\\u0440\\u0436\\u0430\\u0442\\u044c \\u044d\\u0442\\u0443 \\u0438\\u0434\\u0435\\u044e. \\u041d\\u0430\\u043f\\u0440\\u0438\\u043c\\u0435\\u0440, \\u043f\\u043e\\u0442\\u043e\\u043c\\u0443, \\u0447\\u0442\\u043e \\u0434\\u0438\\u0441\\u043f\\u043b\\u0435\\u0438, \\u0432 \\u043e\\u0442\\u043b\\u0438\\u0447\\u0438\\u0435 \\u043e\\u0442 \\u0441\\u0442\\u0438\\u043a\\u0435\\u0440\\u043e\\u0432, \\u0443\\u0442\\u043e\\u043f\\u043b\\u0435\\u043d\\u044b \\u0432 \\u0431\\u043e\\u043b\\u0438\\u0434 \\u0438 \\u043d\\u0435 \\u043d\\u0430\\u0440\\u0443\\u0448\\u0430\\u044e\\u0442 \\u0435\\u0433\\u043e \\u0430\\u044d\\u0440\\u043e\\u0434\\u0438\\u043d\\u0430\\u043c\\u0438\\u043a\\u0443. \\u0418\\u043d\\u0436\\u0435\\u043d\\u0435\\u0440 \\u00ab\\u041c\\u0430\\u043a\\u043b\\u0430\\u0440\\u0435\\u043d\\u0430\\u00bb \\u0414\\u0436\\u0435\\u0439\\u043c\\u0441 \\u041a\\u0438 \\u043d\\u0435\\u0434\\u0430\\u0432\\u043d\\u043e \\u043f\\u043e\\u0434\\u0442\\u0432\\u0435\\u0440\\u0434\\u0438\\u043b, \\u0447\\u0442\\u043e \\u0441\\u0442\\u0438\\u043a\\u0435\\u0440\\u044b \\u043c\\u043e\\u0433\\u0443\\u0442 \\u043e\\u043a\\u0430\\u0437\\u044b\\u0432\\u0430\\u0442\\u044c \\u043d\\u0435\\u0433\\u0430\\u0442\\u0438\\u0432\\u043d\\u043e\\u0435 \\u0432\\u043b\\u0438\\u044f\\u043d\\u0438\\u0435 \\u043d\\u0430 \\u0432\\u043e\\u0437\\u0434\\u0443\\u0448\\u043d\\u044b\\u0439 \\u043f\\u043e\\u0442\\u043e\\u043a, \\u0438\\u0437-\\u0437\\u0430 \\u0447\\u0435\\u0433\\u043e \\u0431\\u043e\\u043b\\u0438\\u0434 \\u0442\\u0435\\u0440\\u044f\\u0435\\u0442 \\u0447\\u0430\\u0441\\u0442\\u044c \\u043f\\u0440\\u0438\\u0436\\u0438\\u043c\\u043d\\u043e\\u0439 \\u0441\\u0438\\u043b\\u044b. \\u0418\\u0441\\u043f\\u043e\\u043b\\u044c\\u0437\\u043e\\u0432\\u0430\\u043d\\u0438\\u0435 \\u0434\\u0438\\u0441\\u043f\\u043b\\u0435\\u0435\\u0432 \\u043c\\u043e\\u0436\\u0435\\u0442 \\u0440\\u0435\\u0448\\u0438\\u0442\\u044c \\u044d\\u0442\\u0443 \\u043f\\u0440\\u043e\\u0431\\u043b\\u0435\\u043c\\u0443. \\u041d\\u043e \\u0432\\u043e\\u043f\\u0440\\u043e\\u0441 \\u0432 \\u0434\\u0440\\u0443\\u0433\\u043e\\u043c \\u2013 \\u0441\\u043c\\u043e\\u0433\\u0443\\u0442 \\u043b\\u0438 \\u043a\\u043e\\u043c\\u0430\\u043d\\u0434\\u044b \\u043d\\u0430\\u0439\\u0442\\u0438 \\u0434\\u043b\\u044f \\u043d\\u0438\\u0445 \\u043c\\u0435\\u0441\\u0442\\u043e, \\u0432\\u0435\\u0434\\u044c \\u0441\\u0430\\u043c\\u0430 \\u0441\\u0438\\u0441\\u0442\\u0435\\u043c\\u0430 \\u043d\\u0435\\u043f\\u0440\\u043e\\u0441\\u0442\\u0430\\u044f \\u0438 \\u0442\\u044f\\u0436\\u0451\\u043b\\u0430\\u044f\\u2026\\n\\u0418\\u043d\\u0436\\u0435\\u043d\\u0435\\u0440\\u044b \\u0424\\u043e\\u0440\\u043c\\u0443\\u043b\\u044b-1 \\u0431\\u043e\\u0440\\u044e\\u0442\\u0441\\u044f \\u0437\\u0430 \\u043a\\u0430\\u0436\\u0434\\u044b\\u0439 \\u0433\\u0440\\u0430\\u043c\\u043c (\\u043d\\u0430\\u043f\\u0440\\u0438\\u043c\\u0435\\u0440, \\u043f\\u0440\\u0438\\u043c\\u0435\\u043d\\u044f\\u044e\\u0442 \\u0431\\u043e\\u043b\\u0435\\u0435 \\u043b\\u0451\\u0433\\u043a\\u0443\\u044e \\u043a\\u0440\\u0430\\u0441\\u043a\\u0443), \\u0438 \\u0432 \\u0442\\u0430\\u043a\\u043e\\u0439 \\u0441\\u0438\\u0442\\u0443\\u0430\\u0446\\u0438\\u0438 \\u0437\\u0430\\u043c\\u0435\\u043d\\u0430 \\u043d\\u0435\\u0432\\u0435\\u0441\\u043e\\u043c\\u043e\\u0439 \\u043d\\u0430\\u043a\\u043b\\u0435\\u0439\\u043a\\u0438 \\u043d\\u0430 \\u0434\\u0438\\u0441\\u043f\\u043b\\u0435\\u0439 \\u2013 \\u044d\\u0442\\u043e \\u0434\\u0435\\u0439\\u0441\\u0442\\u0432\\u0438\\u0442\\u0435\\u043b\\u044c\\u043d\\u043e \\u0441\\u0435\\u0440\\u044c\\u0451\\u0437\\u043d\\u043e. \\u0418 \\u0434\\u043b\\u044f \\u043d\\u0438\\u0445 \\u043d\\u0443\\u0436\\u043d\\u043e \\u043f\\u043e\\u0441\\u0442\\u0430\\u0440\\u0430\\u0442\\u044c\\u0441\\u044f \\u043d\\u0430\\u0439\\u0442\\u0438 \\u043c\\u0435\\u0441\\u0442\\u043e \\u2013 \\u043c\\u044b \\u0434\\u0430\\u0436\\u0435 \\u043d\\u0435 \\u043f\\u0440\\u043e \\u043f\\u043e\\u043f\\u0430\\u0434\\u0430\\u043d\\u0438\\u0435 \\u0432 \\u043e\\u0431\\u044a\\u0435\\u043a\\u0442\\u0438\\u0432 \\u0441\\u0442\\u0430\\u0446\\u0438\\u043e\\u043d\\u0430\\u0440\\u043d\\u044b\\u0445 \\u0438\\u043b\\u0438 \\u0431\\u043e\\u0440\\u0442\\u043e\\u0432\\u044b\\u0445 \\u043a\\u0430\\u043c\\u0435\\u0440. \\u0415\\u0441\\u043b\\u0438 \\u043d\\u0430\\u043a\\u043b\\u0435\\u0439\\u043a\\u0438 \\u043c\\u043e\\u0436\\u043d\\u043e \\u00ab\\u043b\\u0435\\u043f\\u0438\\u0442\\u044c\\u00bb \\u043d\\u0430 \\u043b\\u044e\\u0431\\u0443\\u044e \\u0447\\u0430\\u0441\\u0442\\u044c \\u0431\\u043e\\u043b\\u0438\\u0434\\u0430 \\u2013 \\u043d\\u0435\\u0432\\u0430\\u0436\\u043d\\u043e, \\u0441\\u0433\\u0438\\u0431 \\u044d\\u0442\\u043e \\u0438\\u043b\\u0438 \\u043f\\u0440\\u044f\\u043c\\u043e\\u0439 \\u0443\\u0447\\u0430\\u0441\\u0442\\u043e\\u043a, \\u2013 \\u0442\\u043e \\u0434\\u0438\\u0441\\u043f\\u043b\\u0435\\u0438 \\u0432\\u0441\\u0451 \\u0436\\u0435 \\u0441\\u0442\\u043e\\u0438\\u0442 \\u0443\\u0441\\u0442\\u0430\\u043d\\u0430\\u0432\\u043b\\u0438\\u0432\\u0430\\u0442\\u044c \\u0432 \\u043f\\u043b\\u043e\\u0441\\u043a\\u0438\\u0445 \\u043c\\u0435\\u0441\\u0442\\u0430\\u0445. \\u0412 \\u0437\\u0434\\u0440\\u0430\\u0432\\u043e\\u043c \\u0443\\u043c\\u0435 \\u0438\\u043d\\u0436\\u0435\\u043d\\u0435\\u0440\\u044b \\u043d\\u0435 \\u0431\\u0443\\u0434\\u0443\\u0442 \\u043c\\u0435\\u043d\\u044f\\u0442\\u044c \\u043a\\u043e\\u043d\\u0441\\u0442\\u0440\\u0443\\u043a\\u0446\\u0438\\u044e \\u0431\\u043e\\u043b\\u0438\\u0434\\u0430 \\u0442\\u043e\\u043b\\u044c\\u043a\\u043e \\u0440\\u0430\\u0434\\u0438 \\u0440\\u0435\\u043a\\u043b\\u0430\\u043c\\u044b.\\n\\u041d\\u0430\\u043a\\u043e\\u043d\\u0435\\u0446, \\u0441\\u0432\\u043e\\u0451 \\u0441\\u043b\\u043e\\u0432\\u043e \\u0441\\u043a\\u0430\\u0436\\u0435\\u0442 \\u0438 \\u0424\\u0418\\u0410. \\u041d\\u0438\\u043a\\u0430\\u043a\\u0438\\u0435 \\u0434\\u0438\\u0441\\u043f\\u043b\\u0435\\u0438 \\u043d\\u0430 \\u0431\\u043e\\u043b\\u0438\\u0434\\u0430\\u0445 \\u043f\\u0440\\u043e\\u0441\\u0442\\u043e \\u0442\\u0430\\u043a \\u0443\\u0441\\u0442\\u0430\\u043d\\u043e\\u0432\\u043b\\u0435\\u043d\\u044b \\u043d\\u0435 \\u0431\\u0443\\u0434\\u0443\\u0442: \\u0434\\u043b\\u044f \\u043d\\u0430\\u0447\\u0430\\u043b\\u0430 \\u043d\\u0443\\u0436\\u043d\\u043e, \\u0447\\u0442\\u043e\\u0431\\u044b \\u0442\\u0435\\u0445\\u043d\\u043e\\u043b\\u043e\\u0433\\u0438\\u044e \\u043e\\u0434\\u043e\\u0431\\u0440\\u0438\\u043b\\u0438 \\u0441 \\u0442\\u043e\\u0447\\u043a\\u0438 \\u0437\\u0440\\u0435\\u043d\\u0438\\u044f \\u0431\\u0435\\u0437\\u043e\\u043f\\u0430\\u0441\\u043d\\u043e\\u0441\\u0442\\u0438. \\u041d\\u0443\\u0436\\u043d\\u043e \\u043f\\u0440\\u043e\\u0432\\u0435\\u0440\\u0438\\u0442\\u044c, \\u043a\\u0430\\u043a \\u0434\\u0438\\u0441\\u043f\\u043b\\u0435\\u0438 \\u0431\\u0443\\u0434\\u0443\\u0442 \\u0432\\u0435\\u0441\\u0442\\u0438 \\u0441\\u0435\\u0431\\u044f \\u0432\\u043e \\u0432\\u0440\\u0435\\u043c\\u044f \\u0430\\u0432\\u0430\\u0440\\u0438\\u0439, \\u0438 \\u0443\\u0434\\u043e\\u0441\\u0442\\u043e\\u0432\\u0435\\u0440\\u0438\\u0442\\u044c\\u0441\\u044f, \\u0447\\u0442\\u043e \\u043c\\u0435\\u043d\\u044f\\u044e\\u0449\\u0430\\u044f\\u0441\\u044f \\u0440\\u0435\\u043a\\u043b\\u0430\\u043c\\u0430 \\u043d\\u0435 \\u043d\\u0430\\u0447\\u043d\\u0451\\u0442 \\u043e\\u0442\\u0432\\u043b\\u0435\\u043a\\u0430\\u0442\\u044c \\u043f\\u0438\\u043b\\u043e\\u0442\\u043e\\u0432, \\u043e\\u0441\\u043e\\u0431\\u0435\\u043d\\u043d\\u043e \\u043d\\u0430 \\u043d\\u043e\\u0447\\u043d\\u044b\\u0445 \\u0442\\u0440\\u0430\\u0441\\u0441\\u0430\\u0445.\\n\\u0415\\u0449\\u0451 \\u043e\\u0434\\u043d\\u0430 \\u043f\\u0440\\u043e\\u0431\\u043b\\u0435\\u043c\\u0430 \\u0441\\u0432\\u044f\\u0437\\u0430\\u043d\\u0430 \\u0441 \\u0441\\u0430\\u043c\\u043e\\u0439 \\u0440\\u0435\\u043a\\u043b\\u0430\\u043c\\u043e\\u0439. \\u0415\\u0441\\u043b\\u0438 \\u0434\\u0438\\u0441\\u043f\\u043b\\u0435\\u0438 \\u0441\\u0442\\u0430\\u043d\\u0443\\u0442 \\u043e\\u0441\\u043d\\u043e\\u0432\\u043d\\u044b\\u043c \\u0441\\u043f\\u043e\\u0441\\u043e\\u0431\\u043e\\u043c \\u0435\\u0451 \\u0440\\u0430\\u0437\\u043c\\u0435\\u0449\\u0435\\u043d\\u0438\\u044f, \\u0432\\u044b\\u0442\\u0435\\u0441\\u043d\\u0438\\u0432 \\u00ab\\u0443\\u0441\\u0442\\u0430\\u0440\\u0435\\u0432\\u0448\\u0438\\u0435\\u00bb \\u0441\\u0442\\u0438\\u043a\\u0435\\u0440\\u044b, \\u0442\\u043e \\u0441\\u043f\\u043e\\u043d\\u0441\\u043e\\u0440\\u044b \\u0431\\u0443\\u0434\\u0443\\u0442 \\u043f\\u043b\\u0430\\u0442\\u0438\\u0442\\u044c \\u0443\\u0436\\u0435 \\u043d\\u0435 \\u0437\\u0430 \\u0440\\u0430\\u0437\\u043c\\u0435\\u0440 \\u043d\\u0430\\u043a\\u043b\\u0435\\u0439\\u043a\\u0438, \\u0430 \\u0437\\u0430 \\u0432\\u0440\\u0435\\u043c\\u044f, \\u043a\\u043e\\u0442\\u043e\\u0440\\u043e\\u0435 \\u0438\\u0445 \\u043b\\u043e\\u0433\\u043e\\u0442\\u0438\\u043f \\u0431\\u0443\\u0434\\u0435\\u0442 \\u0442\\u0440\\u0430\\u043d\\u0441\\u043b\\u0438\\u0440\\u043e\\u0432\\u0430\\u0442\\u044c\\u0441\\u044f \\u043d\\u0430 \\u0434\\u0438\\u0441\\u043f\\u043b\\u0435\\u044f\\u0445.\\n\\u041a\\u0430\\u043a \\u0432\\u044b\\u0433\\u043b\\u044f\\u0434\\u0438\\u0442 \\u0434\\u0438\\u0441\\u043f\\u043b\\u0435\\u0439, \\u0432\\u043d\\u0435\\u0434\\u0440\\u0451\\u043d\\u043d\\u044b\\u0439 \\u0432 \\u043a\\u043e\\u043d\\u0441\\u0442\\u0440\\u0443\\u043a\\u0446\\u0438\\u044e \\u043c\\u0430\\u0448\\u0438\\u043d\\u044b\\n\\u041d\\u0435 \\u043a\\u0430\\u0436\\u0434\\u0430\\u044f \\u043a\\u0430\\u0440\\u0442\\u0438\\u043d\\u043a\\u0430 \\u0431\\u0443\\u0434\\u0435\\u0442 \\u043f\\u043e\\u043f\\u0430\\u0434\\u0430\\u0442\\u044c \\u0432 \\u0442\\u0440\\u0430\\u043d\\u0441\\u043b\\u044f\\u0446\\u0438\\u044e. \\u0422\\u043e\\u0433\\u0434\\u0430 \\u043a\\u043e\\u043b\\u0438\\u0447\\u0435\\u0441\\u0442\\u0432\\u043e \\u043f\\u043e\\u0442\\u0435\\u043d\\u0446\\u0438\\u0430\\u043b\\u044c\\u043d\\u044b\\u0445 \\u0440\\u0435\\u043a\\u043b\\u0430\\u043c\\u043e\\u0434\\u0430\\u0442\\u0435\\u043b\\u0435\\u0439 \\u043f\\u043e\\u0439\\u0434\\u0451\\u0442 \\u043d\\u0430 \\u0441\\u043f\\u0430\\u0434: \\u043a\\u0440\\u0443\\u043f\\u043d\\u044b\\u0435 \\u0438\\u0433\\u0440\\u043e\\u043a\\u0438 \\u043d\\u0430\\u0447\\u043d\\u0443\\u0442 \\u0432\\u044b\\u043a\\u0443\\u043f\\u0430\\u0442\\u044c \\u0431\\u043e\\u043b\\u044c\\u0448\\u0435\\u0435 \\u0432\\u0440\\u0435\\u043c\\u044f \\u0440\\u0430\\u0437\\u043c\\u0435\\u0449\\u0435\\u043d\\u0438\\u044f, \\u0432\\u044b\\u0442\\u0435\\u0441\\u043d\\u044f\\u044f \\u0441 \\u0440\\u044b\\u043d\\u043a\\u0430 \\u0431\\u043e\\u043b\\u0435\\u0435 \\u0441\\u043b\\u0430\\u0431\\u044b\\u0445 \\u043a\\u043e\\u043d\\u043a\\u0443\\u0440\\u0435\\u043d\\u0442\\u043e\\u0432. \\u0412 \\u0434\\u0430\\u043b\\u044c\\u043d\\u0435\\u0439\\u0448\\u0435\\u043c \\u044d\\u0442\\u043e \\u0441\\u043a\\u0430\\u0436\\u0435\\u0442\\u0441\\u044f \\u0438 \\u043d\\u0430 \\u0431\\u044e\\u0434\\u0436\\u0435\\u0442\\u0430\\u0445 \\u043a\\u043e\\u043c\\u0430\\u043d\\u0434.\\n\\u0420\\u0430\\u0437\\u0434\\u0435\\u043b\\u044f\\u0442\\u0441\\u044f \\u0438 \\u043c\\u043d\\u0435\\u043d\\u0438\\u044f \\u0430\\u0443\\u0434\\u0438\\u0442\\u043e\\u0440\\u0438\\u0438 \\u043d\\u0430\\u0441\\u0447\\u0435\\u0442 \\u0442\\u0430\\u043a\\u043e\\u0439 \\u0438\\u0434\\u0435\\u0438. \\u041a\\u043e\\u043c\\u0443-\\u0442\\u043e \\u0432\\u0441\\u0451 \\u0435\\u0449\\u0451 \\u0431\\u0443\\u0434\\u0435\\u0442 \\u0440\\u044f\\u0431\\u0438\\u0442\\u044c \\u043e\\u0442 \\u043a\\u043e\\u043b\\u0438\\u0447\\u0435\\u0441\\u0442\\u0432\\u0430 \\u0440\\u0435\\u043a\\u043b\\u0430\\u043c\\u044b, \\u0430 \\u043a\\u0442\\u043e-\\u0442\\u043e \\u0441\\u043a\\u0430\\u0436\\u0435\\u0442: \\u00ab\\u0420\\u0430\\u043d\\u044c\\u0448\\u0435 \\u0431\\u044b\\u043b\\u043e \\u043b\\u0443\\u0447\\u0448\\u0435\\u00bb. \\u0421\\u043f\\u043e\\u0440\\u043e\\u0432 \\u043d\\u0430 \\u044d\\u0442\\u0443 \\u0442\\u0435\\u043c\\u0443 \\u0431\\u0443\\u0434\\u0435\\u0442 \\u043c\\u043d\\u043e\\u0433\\u043e.\\n\\u0423 \\u0438\\u0434\\u0435\\u0438 \\u0435\\u0441\\u0442\\u044c \\u0438 \\u0434\\u0440\\u0443\\u0433\\u043e\\u0439 \\u043f\\u0443\\u0442\\u044c \\u0440\\u0430\\u0437\\u0432\\u0438\\u0442\\u0438\\u044f. \\u041d\\u0430 \\u0435\\u0451 \\u043e\\u0441\\u043d\\u043e\\u0432\\u0435 \\u0424\\u043e\\u0440\\u043c\\u0443\\u043b\\u0430-1 \\u043c\\u043e\\u0436\\u0435\\u0442 \\u0441\\u043e\\u0437\\u0434\\u0430\\u0442\\u044c \\u0441\\u043e\\u0431\\u0441\\u0442\\u0432\\u0435\\u043d\\u043d\\u0443\\u044e \\u044d\\u043a\\u043e\\u0441\\u0438\\u0441\\u0442\\u0435\\u043c\\u0443, \\u0432 \\u043a\\u043e\\u0442\\u043e\\u0440\\u043e\\u0439 \\u0442\\u0430\\u043a\\u0430\\u044f \\u0431\\u043e\\u043b\\u044c\\u0448\\u0430\\u044f \\u0441\\u0435\\u0439\\u0447\\u0430\\u0441 \\u0440\\u043e\\u043b\\u044c \\u0441\\u043f\\u043e\\u043d\\u0441\\u043e\\u0440\\u043e\\u0432 \\u0431\\u0443\\u0434\\u0435\\u0442 \\u043e\\u0442\\u0434\\u0430\\u043d\\u0430 \\u0430\\u0443\\u0434\\u0438\\u0442\\u043e\\u0440\\u0438\\u0438.\\n\\u041d\\u0430\\u043f\\u0440\\u0438\\u043c\\u0435\\u0440, \\u0440\\u0435\\u043a\\u043b\\u0430\\u043c\\u0443 \\u043a\\u043e\\u043c\\u043f\\u0430\\u043d\\u0438\\u0439 \\u043c\\u043e\\u0433\\u0443\\u0442 \\u0437\\u0430\\u043c\\u0435\\u043d\\u0438\\u0442\\u044c \\u043d\\u0430 \\u0441\\u0442\\u0430\\u0440\\u044b\\u0439 \\u0434\\u043e\\u0431\\u0440\\u044b\\u0439 \\u00ab\\u041f\\u0435\\u0440\\u0435\\u0434\\u0430\\u044e \\u043f\\u0440\\u0438\\u0432\\u0435\\u0442 \\u043c\\u0430\\u043c\\u0435\\u00bb. \\u0411\\u043e\\u043b\\u0435\\u043b\\u044c\\u0449\\u0438\\u043a\\u0438 \\u0441\\u043c\\u043e\\u0433\\u0443\\u0442 \\u043e\\u0442\\u043f\\u0440\\u0430\\u0432\\u043b\\u044f\\u0442\\u044c \\u0441\\u043e\\u043e\\u0431\\u0449\\u0435\\u043d\\u0438\\u044f \\u043d\\u0430 \\u0434\\u0438\\u0441\\u043f\\u043b\\u0435\\u0438 \\u0438 \\u043f\\u043e\\u043f\\u0430\\u0434\\u0430\\u0442\\u044c \\u0432 \\u0442\\u0440\\u0430\\u043d\\u0441\\u043b\\u044f\\u0446\\u0438\\u044e. \\u042d\\u0442\\u043e \\u043f\\u043e\\u0437\\u0432\\u043e\\u043b\\u0438\\u0442 \\u0424\\u043e\\u0440\\u043c\\u0443\\u043b\\u0435 \\u043f\\u0440\\u0438\\u0432\\u043b\\u0435\\u0447\\u044c \\u0435\\u0449\\u0451 \\u0431\\u043e\\u043b\\u044c\\u0448\\u0435 \\u0434\\u0435\\u043d\\u0435\\u0433 \\u043d\\u0430 \\u0440\\u0430\\u0437\\u0432\\u0438\\u0442\\u0438\\u0435 \\u0438 \\u043f\\u043e\\u043f\\u0443\\u043b\\u044f\\u0440\\u0438\\u0437\\u0430\\u0446\\u0438\\u044e \\u0441\\u0435\\u0440\\u0438\\u0438. \\u041d\\u043e, \\u0447\\u0435\\u0441\\u0442\\u043d\\u043e \\u0433\\u043e\\u0432\\u043e\\u0440\\u044f, \\u0432\\u0435\\u043b\\u0438\\u043a \\u0448\\u0430\\u043d\\u0441, \\u0447\\u0442\\u043e \\u0442\\u0430\\u043a\\u043e\\u0439 \\u043c\\u0430\\u0440\\u043a\\u0435\\u0442\\u0438\\u043d\\u0433\\u043e\\u0432\\u044b\\u0439 \\u0445\\u043e\\u0434 \\u043f\\u0440\\u0435\\u0432\\u0440\\u0430\\u0442\\u0438\\u0442 \\u0433\\u043e\\u043d\\u043a\\u0443 \\u0432 \\u00ab\\u043a\\u0430\\u0448\\u0443\\u00bb.\\n\\u0412 \\u043e\\u0431\\u0449\\u0435\\u043c-\\u0442\\u043e \\u0434\\u0438\\u0441\\u043f\\u043b\\u0435\\u0438 \\u2013 \\u043d\\u0435 \\u0441\\u0430\\u043c\\u0430\\u044f \\u043d\\u0435\\u043e\\u0431\\u0445\\u043e\\u0434\\u0438\\u043c\\u0430\\u044f \\u0432\\u0435\\u0449\\u044c \\u0434\\u043b\\u044f \\u0424\\u043e\\u0440\\u043c\\u0443\\u043b\\u044b. \\u041a\\u0440\\u0430\\u0441\\u0438\\u0432\\u0430\\u044f, \\u044d\\u0444\\u0444\\u0435\\u043a\\u0442\\u043d\\u0430\\u044f, \\u043d\\u043e \\u043a\\u0430\\u043a \\u0442\\u0430\\u043a\\u043e\\u0432\\u0430\\u044f \\u043d\\u0435 \\u043f\\u043e\\u043c\\u043e\\u0433\\u0430\\u0435\\u0442 \\u0442\\u0435\\u0445\\u043d\\u0438\\u0447\\u0435\\u0441\\u043a\\u0438 \\u0440\\u0430\\u0437\\u0432\\u0438\\u0432\\u0430\\u0442\\u044c \\u0441\\u043f\\u043e\\u0440\\u0442. \\u0415\\u0441\\u043b\\u0438 \\u043e\\u043d\\u0430 \\u043f\\u0440\\u0438\\u0432\\u043b\\u0435\\u0447\\u0451\\u0442 \\u0432\\u043d\\u0438\\u043c\\u0430\\u043d\\u0438\\u0435 \\u0440\\u0443\\u043a\\u043e\\u0432\\u043e\\u0434\\u0441\\u0442\\u0432\\u0430, \\u0442\\u043e \\u0424-1 \\u043f\\u0440\\u0438\\u0434\\u0451\\u0442\\u0441\\u044f \\u0441\\u0435\\u0440\\u044c\\u0451\\u0437\\u043d\\u043e \\u043f\\u043e\\u0440\\u0430\\u0431\\u043e\\u0442\\u0430\\u0442\\u044c \\u043d\\u0430\\u0434 \\u0442\\u0435\\u043c, \\u0447\\u0442\\u043e\\u0431\\u044b \\u00ab\\u043f\\u043e\\u0434\\u0440\\u0443\\u0436\\u0438\\u0442\\u044c\\u00bb \\u043d\\u043e\\u0432\\u0443\\u044e \\u0440\\u0435\\u043a\\u043b\\u0430\\u043c\\u0443 \\u0441 \\u0431\\u043e\\u043b\\u0435\\u043b\\u044c\\u0449\\u0438\\u043a\\u0430\\u043c\\u0438. \\u0412 \\u043f\\u0440\\u043e\\u0442\\u0438\\u0432\\u043d\\u043e\\u043c \\u0441\\u043b\\u0443\\u0447\\u0430\\u0435 \\u0441\\u0435\\u0440\\u0438\\u044f \\u0441\\u0442\\u0430\\u043d\\u0435\\u0442 \\u0435\\u0449\\u0451 \\u0431\\u043e\\u043b\\u044c\\u0448\\u0435 \\u043f\\u043e\\u0445\\u043e\\u0436\\u0430 \\u043d\\u0430 \\u0448\\u043e\\u0443, \\u0447\\u0435\\u043c \\u043d\\u0430 \\u0441\\u043f\\u043e\\u0440\\u0442\\u0438\\u0432\\u043d\\u043e\\u0435 \\u043c\\u0435\\u0440\\u043e\\u043f\\u0440\\u0438\\u044f\\u0442\\u0438\\u0435.\",\n          \"\\u0412 \\u043d\\u0430\\u0447\\u0430\\u043b\\u0435 \\u0430\\u0432\\u0433\\u0443\\u0441\\u0442\\u0430 \\u043f\\u043e\\u0434\\u043e\\u0448\\u043b\\u0430 \\u043a \\u043a\\u043e\\u043d\\u0446\\u0443 \\u043e\\u0434\\u043d\\u0430 \\u0438\\u0437 \\u0433\\u043b\\u0430\\u0432\\u043d\\u044b\\u0445 \\u0441\\u0430\\u0433 \\u043b\\u0435\\u0442\\u0430 \\u2014 \\u0447\\u0442\\u043e \\u0431\\u0443\\u0434\\u0435\\u0442 \\u0441 \\u041a\\u0438\\u0440\\u0438\\u043b\\u043b\\u043e\\u043c \\u041a\\u0430\\u043f\\u0440\\u0438\\u0437\\u043e\\u0432\\u044b\\u043c? \\u0425\\u043e\\u0434\\u0438\\u043b\\u043e \\u043c\\u043d\\u043e\\u0433\\u043e \\u043f\\u0440\\u043e\\u0442\\u0438\\u0432\\u043e\\u0440\\u0435\\u0447\\u0438\\u0432\\u044b\\u0445 \\u0441\\u043b\\u0443\\u0445\\u043e\\u0432 \\u043e \\u0442\\u043e\\u043c, \\u043f\\u043e\\u0447\\u0435\\u043c\\u0443 \\u0436\\u0435 \\u0440\\u043e\\u0441\\u0441\\u0438\\u044f\\u043d\\u0438\\u043d \\u0432\\u0441\\u0451 \\u043d\\u0438\\u043a\\u0430\\u043a \\u043d\\u0435 \\u043c\\u043e\\u0436\\u0435\\u0442 \\u0432\\u0435\\u0440\\u043d\\u0443\\u0442\\u044c\\u0441\\u044f \\u0432 \\u0421\\u0428\\u0410. \\u041e\\u043d \\u0442\\u043e \\u043f\\u043e\\u043b\\u0443\\u0447\\u0438\\u043b \\u0442\\u0440\\u0430\\u0432\\u043c\\u0443 \\u0438 \\u043e\\u043f\\u0440\\u0430\\u0432\\u043b\\u044f\\u043b\\u0441\\u044f \\u043e\\u0442 \\u043e\\u043f\\u0435\\u0440\\u0430\\u0446\\u0438\\u0438 \\u0432 \\u0413\\u0435\\u0440\\u043c\\u0430\\u043d\\u0438\\u0438, \\u0442\\u043e \\u043f\\u044b\\u0442\\u0430\\u043b\\u0441\\u044f \\u043f\\u0435\\u0440\\u0435\\u0441\\u0435\\u0447\\u044c \\u0433\\u0440\\u0430\\u043d\\u0438\\u0446\\u044b \\u043d\\u0435\\u0441\\u043a\\u043e\\u043b\\u044c\\u043a\\u0438\\u0445 \\u0441\\u0442\\u0440\\u0430\\u043d, \\u0447\\u0442\\u043e\\u0431\\u044b \\u0434\\u043e\\u0431\\u0440\\u0430\\u0442\\u044c\\u0441\\u044f \\u0434\\u043e \\u0410\\u043c\\u0435\\u0440\\u0438\\u043a\\u0438, \\u043d\\u043e \\u0435\\u043c\\u0443 \\u043e\\u0442\\u043a\\u0430\\u0437\\u044b\\u0432\\u0430\\u043b\\u0438 \\u0438\\u0437-\\u0437\\u0430 \\u043e\\u0442\\u0441\\u0443\\u0442\\u0441\\u0442\\u0432\\u0438\\u044f \\u0440\\u0430\\u0431\\u043e\\u0447\\u0435\\u0439 \\u0432\\u0438\\u0437\\u044b, \\u0442\\u043e \\u041a\\u0438\\u0440\\u0438\\u043b\\u043b\\u0430 \\u0438 \\u0432\\u043e\\u0432\\u0441\\u0435 \\u043d\\u0435 \\u0432\\u044b\\u043f\\u0443\\u0441\\u043a\\u0430\\u043b\\u0438 \\u0438\\u0437 \\u0420\\u043e\\u0441\\u0441\\u0438\\u0438. \\u041d\\u0430 \\u0444\\u043e\\u043d\\u0435 \\u0432\\u043e\\u043b\\u043d\\u0438\\u0442\\u0435\\u043b\\u044c\\u043d\\u044b\\u0445 \\u0441\\u0438\\u0442\\u0443\\u0430\\u0446\\u0438\\u0439 \\u0441 \\u0418\\u0432\\u0430\\u043d\\u043e\\u043c \\u0424\\u0435\\u0434\\u043e\\u0442\\u043e\\u0432\\u044b\\u043c \\u0438 \\u041c\\u0438\\u0445\\u0430\\u0438\\u043b\\u043e\\u043c \\u0412\\u043e\\u0440\\u043e\\u0431\\u044c\\u0451\\u0432\\u044b\\u043c \\u0437\\u0430 \\u0441\\u0443\\u0434\\u044c\\u0431\\u043e\\u0439 \\u041a\\u0430\\u043f\\u0440\\u0438\\u0437\\u043e\\u0432\\u0430 \\u043f\\u0440\\u0438\\u0441\\u0442\\u0430\\u043b\\u044c\\u043d\\u043e \\u0441\\u043b\\u0435\\u0434\\u0438\\u043b\\u0438 \\u0438 \\u0432 \\u0420\\u043e\\u0441\\u0441\\u0438\\u0438, \\u0438 \\u0432 \\u0421\\u0428\\u0410.\\n\\u0424\\u043e\\u0440\\u0432\\u0430\\u0440\\u0434 \\u0443\\u0441\\u043f\\u0435\\u0448\\u043d\\u043e \\u0432\\u0435\\u0440\\u043d\\u0443\\u043b\\u0441\\u044f \\u0432 \\u0410\\u043c\\u0435\\u0440\\u0438\\u043a\\u0443 \\u0442\\u0440\\u0430\\u043d\\u0437\\u0438\\u0442\\u043e\\u043c \\u0447\\u0435\\u0440\\u0435\\u0437 \\u0422\\u0443\\u0440\\u0446\\u0438\\u044e \\u2014 \\u043a\\u0430\\u043a \\u0440\\u0430\\u0437 \\u0432 \\u043d\\u0430\\u0447\\u0430\\u043b\\u0435 \\u0430\\u0432\\u0433\\u0443\\u0441\\u0442\\u0430. \\u0418 \\u0442\\u043e\\u043b\\u044c\\u043a\\u043e \\u0441\\u043f\\u0443\\u0441\\u0442\\u044f \\u043c\\u0435\\u0441\\u044f\\u0446 \\u0432 \\u00ab\\u041c\\u0438\\u043d\\u043d\\u0435\\u0441\\u043e\\u0442\\u0435\\u00bb \\u0440\\u0435\\u0448\\u0438\\u043b\\u0438\\u0441\\u044c \\u043f\\u0440\\u0438\\u043e\\u0442\\u043a\\u0440\\u044b\\u0442\\u044c \\u0437\\u0430\\u0432\\u0435\\u0441\\u0443 \\u0442\\u0430\\u0439\\u043d\\u044b \\u0438 \\u043d\\u0435\\u043c\\u043d\\u043e\\u0433\\u043e \\u0440\\u0430\\u0441\\u0441\\u043a\\u0430\\u0437\\u0430\\u0442\\u044c \\u043e \\u0442\\u043e\\u043c, \\u043a\\u0430\\u043a \\u0436\\u0435 \\u043f\\u0440\\u043e\\u0438\\u0441\\u0445\\u043e\\u0434\\u0438\\u043b\\u043e \\u0432\\u043e\\u0437\\u0432\\u0440\\u0430\\u0449\\u0435\\u043d\\u0438\\u0435 \\u0440\\u043e\\u0441\\u0441\\u0438\\u044f\\u043d\\u0438\\u043d\\u0430. \\u041e\\u0431 \\u044d\\u0442\\u043e\\u043c \\u0440\\u0430\\u0441\\u0441\\u043a\\u0430\\u0437\\u0430\\u043b \\u0433\\u0435\\u043d\\u0435\\u0440\\u0430\\u043b\\u044c\\u043d\\u044b\\u0439 \\u043c\\u0435\\u043d\\u0435\\u0434\\u0436\\u0435\\u0440 \\u00ab\\u0423\\u0430\\u0439\\u043b\\u0434\\u00bb \\u0411\\u0438\\u043b\\u043b \\u0413\\u0435\\u0440\\u0438\\u043d, \\u043a\\u043e\\u0442\\u043e\\u0440\\u044b\\u0439 \\u0432\\u043e \\u0432\\u0440\\u0435\\u043c\\u044f \\u043d\\u0430\\u0445\\u043e\\u0436\\u0434\\u0435\\u043d\\u0438\\u044f \\u041a\\u0438\\u0440\\u0438\\u043b\\u043b\\u0430 \\u0432 \\u0420\\u043e\\u0441\\u0441\\u0438\\u0438 \\u043d\\u0435 \\u0440\\u0435\\u0448\\u0430\\u043b\\u0441\\u044f \\u043c\\u043d\\u043e\\u0433\\u043e \\u0433\\u043e\\u0432\\u043e\\u0440\\u0438\\u0442\\u044c \\u043e\\u0431 \\u044d\\u0442\\u043e\\u0439 \\u0441\\u0438\\u0442\\u0443\\u0430\\u0446\\u0438\\u0438. \\u041a\\u0430\\u043a \\u043e\\u0442\\u043c\\u0435\\u0447\\u0430\\u043b\\u043e\\u0441\\u044c, \\u0441\\u0432\\u043e\\u0438\\u043c\\u0438 \\u0440\\u0435\\u0447\\u0430\\u043c\\u0438 \\u043e\\u043d \\u00ab\\u043d\\u0435 \\u0445\\u043e\\u0442\\u0435\\u043b \\u043d\\u0430\\u0432\\u0440\\u0435\\u0434\\u0438\\u0442\\u044c\\u00bb.\\n\\u0421\\u0435\\u0439\\u0447\\u0430\\u0441 \\u0436\\u0435 \\u0413\\u0435\\u0440\\u0438\\u043d \\u043f\\u043e\\u0441\\u0435\\u0442\\u0438\\u043b \\u043f\\u043e\\u0434\\u043a\\u0430\\u0441\\u0442 Wild on Demand \\u0438\\u0437\\u0432\\u0435\\u0441\\u0442\\u043d\\u043e\\u0433\\u043e \\u0436\\u0443\\u0440\\u043d\\u0430\\u043b\\u0438\\u0441\\u0442\\u0430 \\u041c\\u0430\\u0439\\u043a\\u043b\\u0430 \\u0420\\u0443\\u0441\\u0441\\u043e, \\u043a\\u043e\\u0442\\u043e\\u0440\\u044b\\u0439 \\u0441\\u043f\\u0435\\u0446\\u0438\\u0430\\u043b\\u0438\\u0437\\u0438\\u0440\\u0443\\u0435\\u0442\\u0441\\u044f \\u043d\\u0430 \\u043e\\u0431\\u043e\\u0437\\u0440\\u0435\\u0432\\u0430\\u043d\\u0438\\u0438 \\u043c\\u0430\\u0442\\u0447\\u0435\\u0439 \\u0438 \\u0436\\u0438\\u0437\\u043d\\u0438 \\u0432\\u043e\\u043a\\u0440\\u0443\\u0433 \\u00ab\\u041c\\u0438\\u043d\\u043d\\u0435\\u0441\\u043e\\u0442\\u044b\\u00bb. \\u0413\\u0435\\u043d\\u043c\\u0435\\u043d\\u0435\\u0434\\u0436\\u0435\\u0440 \\u0441\\u043e\\u043e\\u0431\\u0449\\u0438\\u043b, \\u0447\\u0442\\u043e \\u043f\\u0440\\u0438\\u0447\\u0438\\u043d\\u0430, \\u043f\\u043e \\u043a\\u043e\\u0442\\u043e\\u0440\\u043e\\u0439 \\u043f\\u0440\\u043e\\u0446\\u0435\\u0441\\u0441 \\u0432\\u043e\\u0437\\u0432\\u0440\\u0430\\u0449\\u0435\\u043d\\u0438\\u044f \\u041a\\u0430\\u043f\\u0440\\u0438\\u0437\\u043e\\u0432\\u0430 \\u0432 \\u0421\\u043e\\u0435\\u0434\\u0438\\u043d\\u0451\\u043d\\u043d\\u044b\\u0435 \\u0428\\u0442\\u0430\\u0442\\u044b \\u0431\\u044b\\u043b \\u0443\\u0441\\u043b\\u043e\\u0436\\u043d\\u0451\\u043d, \\u0434\\u0435\\u0439\\u0441\\u0442\\u0432\\u0438\\u0442\\u0435\\u043b\\u044c\\u043d\\u043e \\u0437\\u0430\\u043a\\u043b\\u044e\\u0447\\u0430\\u043b\\u0430\\u0441\\u044c \\u0432 \\u0438\\u0441\\u0442\\u0451\\u043a\\u0448\\u0435\\u043c \\u0441\\u0440\\u043e\\u043a\\u0435 \\u0434\\u0435\\u0439\\u0441\\u0442\\u0432\\u0438\\u044f \\u0435\\u0433\\u043e \\u0440\\u0430\\u0431\\u043e\\u0447\\u0435\\u0439 \\u0432\\u0438\\u0437\\u044b \\u0432 \\u0438\\u044e\\u043d\\u0435. \\u041f\\u043e\\u043a\\u0430 \\u0445\\u043e\\u0434\\u0438\\u043b\\u0438 \\u0441\\u043b\\u0443\\u0445\\u0438 \\u043e \\u0442\\u043e\\u043c, \\u0447\\u0442\\u043e \\u041a\\u0430\\u043f\\u0440\\u0438\\u0437\\u043e\\u0432 \\u043a\\u0443\\u043f\\u0438\\u043b \\u043f\\u043e\\u0434\\u0434\\u0435\\u043b\\u044c\\u043d\\u044b\\u0439 \\u0432\\u043e\\u0435\\u043d\\u043d\\u044b\\u0439 \\u0431\\u0438\\u043b\\u0435\\u0442, \\u00ab\\u0423\\u0430\\u0439\\u043b\\u0434\\u00bb \\u0441\\u0432\\u044f\\u0437\\u0430\\u043b\\u0438\\u0441\\u044c \\u0441 \\u00ab\\u043d\\u0435\\u043a\\u043e\\u0442\\u043e\\u0440\\u044b\\u043c\\u0438 \\u043b\\u044e\\u0434\\u044c\\u043c\\u0438\\u00bb \\u0432 \\u0412\\u0430\\u0448\\u0438\\u043d\\u0433\\u0442\\u043e\\u043d\\u0435, \\u043a\\u043e\\u0442\\u043e\\u0440\\u044b\\u0435 \\u0443\\u0431\\u0435\\u0434\\u0438\\u043b\\u0438 \\u041a\\u0430\\u043f\\u0440\\u0438\\u0437\\u043e\\u0432\\u0430 \\u043f\\u0440\\u043e\\u0434\\u043b\\u0438\\u0442\\u044c \\u0432\\u0438\\u0437\\u0443 \\u0432 \\u0422\\u0443\\u0440\\u0446\\u0438\\u0438 \\u043f\\u0435\\u0440\\u0435\\u0434 \\u0432\\u043e\\u0437\\u0432\\u0440\\u0430\\u0449\\u0435\\u043d\\u0438\\u0435\\u043c \\u0432 \\u041c\\u0438\\u043d\\u043d\\u0435\\u0441\\u043e\\u0442\\u0443.\\n\\u00ab\\u0411\\u044b\\u043b \\u043d\\u0435\\u043a\\u043e\\u0442\\u043e\\u0440\\u044b\\u0439 \\u0441\\u0442\\u0440\\u0435\\u0441\\u0441, \\u0438 \\u043c\\u044b \\u0434\\u0435\\u0439\\u0441\\u0442\\u0432\\u0438\\u0442\\u0435\\u043b\\u044c\\u043d\\u043e \\u043f\\u043e\\u043b\\u0443\\u0447\\u0438\\u043b\\u0438 \\u0444\\u0430\\u043d\\u0442\\u0430\\u0441\\u0442\\u0438\\u0447\\u0435\\u0441\\u043a\\u0443\\u044e, \\u0441\\u0442\\u043e\\u043b\\u044c \\u043d\\u0435\\u043e\\u0431\\u0445\\u043e\\u0434\\u0438\\u043c\\u0443\\u044e \\u043f\\u043e\\u043c\\u043e\\u0449\\u044c \\u043e\\u0442 \\u043d\\u0435\\u043a\\u043e\\u0442\\u043e\\u0440\\u044b\\u0445 \\u043b\\u044e\\u0434\\u0435\\u0439 \\u0432 \\u0412\\u0430\\u0448\\u0438\\u043d\\u0433\\u0442\\u043e\\u043d\\u0435 \\u0438 \\u043e\\u0442 \\u043d\\u0430\\u0448\\u0438\\u0445 \\u0445\\u043e\\u0440\\u043e\\u0448\\u0438\\u0445 \\u0434\\u0440\\u0443\\u0437\\u0435\\u0439, \\u043a\\u043e\\u0442\\u043e\\u0440\\u044b\\u0435 \\u0432 \\u044d\\u0442\\u043e\\u043c \\u043f\\u043e\\u043d\\u0438\\u043c\\u0430\\u044e\\u0442 \\u0431\\u043e\\u043b\\u044c\\u0448\\u0435, \\u0447\\u0435\\u043c \\u043c\\u044b. \\u041c\\u044b \\u043d\\u0435 \\u0441\\u043c\\u043e\\u0433\\u043b\\u0438 \\u0431\\u044b \\u0441\\u0434\\u0435\\u043b\\u0430\\u0442\\u044c \\u044d\\u0442\\u043e \\u0431\\u0435\\u0437 \\u0438\\u0445 \\u043f\\u043e\\u043c\\u043e\\u0449\\u0438. \\u0422\\u0435\\u043f\\u0435\\u0440\\u044c \\u043c\\u044b \\u043f\\u0440\\u043e\\u0441\\u0442\\u043e \\u0441\\u0447\\u0430\\u0441\\u0442\\u043b\\u0438\\u0432\\u044b, \\u0447\\u0442\\u043e \\u041a\\u0438\\u0440\\u0438\\u043b\\u043b \\u0437\\u0434\\u0435\\u0441\\u044c, \\u0447\\u0442\\u043e \\u043e\\u043d \\u0432 \\u0431\\u0435\\u0437\\u043e\\u043f\\u0430\\u0441\\u043d\\u043e\\u0441\\u0442\\u0438 \\u0438 \\u0432\\u0441\\u0451 \\u0445\\u043e\\u0440\\u043e\\u0448\\u043e. \\u041f\\u0440\\u043e\\u0441\\u0442\\u043e \\u044d\\u0442\\u043e \\u0431\\u044b\\u043b\\u043e \\u0434\\u0430\\u0432\\u043d\\u043e, \\u043d\\u043e \\u0441\\u0435\\u0439\\u0447\\u0430\\u0441 \\u0432\\u0441\\u0451 \\u0445\\u043e\\u0440\\u043e\\u0448\\u043e, \\u0438 \\u043c\\u044b \\u043f\\u0440\\u043e\\u0441\\u0442\\u043e \\u0431\\u0443\\u0434\\u0435\\u043c \\u0436\\u0434\\u0430\\u0442\\u044c\\u00bb, \\u2014 \\u0441\\u043a\\u0430\\u0437\\u0430\\u043b \\u0413\\u0435\\u0440\\u0438\\u043d.\\n\\u0412\\u043f\\u043e\\u043b\\u043d\\u0435 \\u0432\\u043e\\u0437\\u043c\\u043e\\u0436\\u043d\\u043e, \\u043f\\u043e\\u0434 \\u00ab\\u043b\\u044e\\u0434\\u044c\\u043c\\u0438 \\u0432 \\u0412\\u0430\\u0448\\u0438\\u043d\\u0433\\u0442\\u043e\\u043d\\u0435\\u00bb \\u0433\\u0435\\u043d\\u043c\\u0435\\u043d\\u0435\\u0434\\u0436\\u0435\\u0440 \\u0438\\u043c\\u0435\\u043b \\u0432 \\u0432\\u0438\\u0434\\u0443 \\u043a\\u043e\\u0433\\u043e-\\u0442\\u043e \\u0438\\u0437 \\u0447\\u0438\\u0441\\u043b\\u0430 \\u0447\\u0438\\u043d\\u043e\\u0432\\u043d\\u0438\\u043a\\u043e\\u0432 \\u0438 \\u043f\\u043e\\u043b\\u0438\\u0442\\u0438\\u043a\\u043e\\u0432 \\u2014 \\u0438\\u043d\\u0430\\u0447\\u0435 \\u0437\\u0430\\u0447\\u0435\\u043c \\u043d\\u0443\\u0436\\u043d\\u043e \\u0443\\u0442\\u043e\\u0447\\u043d\\u0435\\u043d\\u0438\\u0435 \\u043f\\u0440\\u043e \\u0441\\u0442\\u043e\\u043b\\u0438\\u0446\\u0443 \\u0421\\u0428\\u0410? \\u0422\\u0430\\u043a\\u043e\\u0433\\u043e \\u0436\\u0435 \\u043c\\u043d\\u0435\\u043d\\u0438\\u044f \\u043f\\u0440\\u0438\\u0434\\u0435\\u0440\\u0436\\u0438\\u0432\\u0430\\u0435\\u0442\\u0441\\u044f, \\u043d\\u0430\\u043f\\u0440\\u0438\\u043c\\u0435\\u0440, \\u0447\\u0435\\u0448\\u0441\\u043a\\u0438\\u0439 \\u0436\\u0443\\u0440\\u043d\\u0430\\u043b\\u0438\\u0441\\u0442 O2 TV Sport \\u0418\\u0440\\u0436\\u0438 \\u0412\\u0438\\u0442\\u0435\\u043a, \\u043a\\u043e\\u0442\\u043e\\u0440\\u044b\\u0439 \\u0432 \\u0441\\u0432\\u043e\\u0451\\u043c \\u00ab\\u0442\\u0432\\u0438\\u0442\\u0442\\u0435\\u0440\\u0435\\u00bb \\u0441\\u0447\\u0438\\u0442\\u0430\\u0435\\u0442 \\u044d\\u0442\\u0438\\u0445 \\u00ab\\u043b\\u044e\\u0434\\u0435\\u0439\\u00bb \\u0430\\u043c\\u0435\\u0440\\u0438\\u043a\\u0430\\u043d\\u0441\\u043a\\u0438\\u043c\\u0438 \\u0434\\u0438\\u043f\\u043b\\u043e\\u043c\\u0430\\u0442\\u0430\\u043c\\u0438. \\u0418\\u043d\\u0442\\u0435\\u0440\\u0435\\u0441\\u043d\\u043e. \\u041e\\u0434\\u043d\\u0430\\u043a\\u043e \\u0432\\u0441\\u0451 \\u0436\\u0435 \\u043d\\u0435 \\u0431\\u0443\\u0434\\u0435\\u043c \\u0443\\u0445\\u043e\\u0434\\u0438\\u0442\\u044c \\u0432 \\u0440\\u0430\\u0441\\u0441\\u0443\\u0436\\u0434\\u0435\\u043d\\u0438\\u044f, \\u043d\\u0430\\u0432\\u0435\\u0440\\u043d\\u044f\\u043a\\u0430 \\u044d\\u0442\\u0430 \\u0442\\u0435\\u043c\\u0430 \\u0435\\u0449\\u0451 \\u043d\\u0435 \\u0440\\u0430\\u0437 \\u0432\\u0441\\u043f\\u043b\\u044b\\u0432\\u0451\\u0442. \\u0422\\u043e\\u0433\\u0434\\u0430-\\u0442\\u043e \\u0413\\u0435\\u0440\\u0438\\u043d \\u043e\\u0442\\u0432\\u0435\\u0442\\u0438\\u0442 \\u0442\\u043e\\u0447\\u043d\\u0435\\u0435.\\n\\u041a\\u0438\\u0440\\u0438\\u043b\\u043b \\u041a\\u0430\\u043f\\u0440\\u0438\\u0437\\u043e\\u0432\\n\\u0421\\u043f\\u0435\\u0446\\u0438\\u0430\\u043b\\u0438\\u0441\\u0442 \\u043f\\u0440\\u043e\\u0434\\u043e\\u043b\\u0436\\u0438\\u043b \\u0441\\u0432\\u043e\\u0439 \\u0441\\u043f\\u0438\\u0447. \\u0413\\u0435\\u0440\\u0438\\u043d \\u043f\\u0440\\u0438\\u0437\\u043d\\u0430\\u043b, \\u0447\\u0442\\u043e \\u041a\\u0430\\u043f\\u0440\\u0438\\u0437\\u043e\\u0432\\u0443 \\u0442\\u0430\\u043a\\u0436\\u0435 \\u043f\\u043e\\u0439\\u0434\\u0451\\u0442 \\u043d\\u0430 \\u043f\\u043e\\u043b\\u044c\\u0437\\u0443 \\u0440\\u0430\\u043d\\u043d\\u0435\\u0435 \\u043f\\u0440\\u0438\\u0431\\u044b\\u0442\\u0438\\u0435 \\u0432 \\u041c\\u0438\\u043d\\u043d\\u0435\\u0441\\u043e\\u0442\\u0443 \\u043d\\u0430 \\u0442\\u0440\\u0435\\u043d\\u0438\\u0440\\u043e\\u0432\\u043e\\u0447\\u043d\\u044b\\u0439 \\u0441\\u0431\\u043e\\u0440. \\u0412 \\u044d\\u0442\\u043e \\u0432\\u0440\\u0435\\u043c\\u044f \\u0432 \\u043f\\u0440\\u043e\\u0448\\u043b\\u043e\\u043c \\u0433\\u043e\\u0434\\u0443 \\u041a\\u0430\\u043f\\u0440\\u0438\\u0437\\u043e\\u0432 \\u0431\\u044b\\u043b \\u0437\\u0430\\u043d\\u044f\\u0442 \\u043f\\u0435\\u0440\\u0435\\u0433\\u043e\\u0432\\u043e\\u0440\\u0430\\u043c\\u0438 \\u043e \\u043d\\u043e\\u0432\\u043e\\u043c \\u043a\\u043e\\u043d\\u0442\\u0440\\u0430\\u043a\\u0442\\u0435 \\u043f\\u0435\\u0440\\u0435\\u0434 \\u043f\\u0440\\u0438\\u0435\\u0437\\u0434\\u043e\\u043c \\u043d\\u0430\\u043a\\u0430\\u043d\\u0443\\u043d\\u0435 \\u043d\\u0430 \\u0441\\u0431\\u043e\\u0440\\u044b. \\u041e\\u043d \\u043d\\u0430\\u0447\\u0430\\u043b \\u0441\\u0435\\u0437\\u043e\\u043d \\u0431\\u0435\\u0437 \\u0433\\u043e\\u043b\\u043e\\u0432 \\u0432 \\u0441\\u0432\\u043e\\u0438\\u0445 \\u043f\\u0435\\u0440\\u0432\\u044b\\u0445 \\u0432\\u043e\\u0441\\u044c\\u043c\\u0438 \\u043c\\u0430\\u0442\\u0447\\u0430\\u0445, \\u043d\\u043e \\u0437\\u0430\\u0442\\u0435\\u043c \\u00ab\\u0437\\u0430\\u0436\\u0451\\u0433\\u00bb \\u0438 \\u0437\\u0430\\u043a\\u043e\\u043d\\u0447\\u0438\\u043b \\u0447\\u0435\\u043c\\u043f\\u0438\\u043e\\u043d\\u0430\\u0442 \\u0441 \\u0440\\u0435\\u043a\\u043e\\u0440\\u0434\\u043d\\u044b\\u043c\\u0438 \\u0434\\u043b\\u044f \\u0444\\u0440\\u0430\\u043d\\u0448\\u0438\\u0437\\u044b 47 \\u0433\\u043e\\u043b\\u0430\\u043c\\u0438: \\u00ab\\u042d\\u0442\\u043e \\u0431\\u044b\\u043b\\u043e \\u043d\\u0430\\u043f\\u0440\\u044f\\u0436\\u0451\\u043d\\u043d\\u043e\\u0435 \\u043b\\u0435\\u0442\\u043e \\u0434\\u043b\\u044f \\u041a\\u0438\\u0440\\u0438\\u043b\\u043b\\u0430. \\u042f \\u0437\\u043d\\u0430\\u044e, \\u0447\\u0442\\u043e \\u043e\\u043d \\u0433\\u043e\\u0442\\u043e\\u0432. \\u042f \\u0437\\u043d\\u0430\\u044e, \\u0447\\u0442\\u043e \\u043e\\u043d \\u043f\\u043e\\u0434\\u0433\\u043e\\u0442\\u043e\\u0432\\u0438\\u043b\\u0441\\u044f. \\u042f \\u0437\\u043d\\u0430\\u044e, \\u0447\\u0442\\u043e \\u043e\\u043d \\u0441\\u0447\\u0430\\u0441\\u0442\\u043b\\u0438\\u0432 \\u0431\\u044b\\u0442\\u044c \\u0437\\u0434\\u0435\\u0441\\u044c. \\u042d\\u0442\\u043e \\u043f\\u0440\\u043e\\u0441\\u0442\\u043e \\u0432\\u043e\\u043f\\u0440\\u043e\\u0441 \\u0442\\u043e\\u0433\\u043e, \\u0447\\u0442\\u043e\\u0431\\u044b \\u0432\\u044b\\u0441\\u0442\\u0440\\u043e\\u0438\\u0442\\u044c \\u043f\\u0440\\u0430\\u0432\\u0438\\u043b\\u044c\\u043d\\u044b\\u0435, \\u0445\\u043e\\u0440\\u043e\\u0448\\u0438\\u0435 \\u0432\\u0437\\u0430\\u0438\\u043c\\u043e\\u043e\\u0442\\u043d\\u043e\\u0448\\u0435\\u043d\\u0438\\u044f. \\u0412\\u043e\\u0437\\u043c\\u043e\\u0436\\u043d\\u043e, \\u043e\\u043d \\u043d\\u0430\\u0447\\u0430\\u043b \\u043f\\u0440\\u043e\\u0448\\u043b\\u044b\\u0439 \\u0441\\u0435\\u0437\\u043e\\u043d \\u043c\\u0435\\u0434\\u043b\\u0435\\u043d\\u043d\\u043e, \\u043d\\u043e \\u0432 \\u043a\\u043e\\u043d\\u0446\\u0435 \\u043a\\u043e\\u043d\\u0446\\u043e\\u0432 \\u043e\\u043d \\u0441 \\u043b\\u0438\\u0445\\u0432\\u043e\\u0439 \\u043a\\u043e\\u043c\\u043f\\u0435\\u043d\\u0441\\u0438\\u0440\\u043e\\u0432\\u0430\\u043b \\u044d\\u0442\\u043e\\u00bb.\\n\\u0413\\u0435\\u0440\\u0438\\u043d \\u0442\\u0430\\u043a\\u0436\\u0435 \\u0432\\u044b\\u0441\\u043a\\u0430\\u0437\\u0430\\u043b\\u0441\\u044f \\u043e\\u0431 \\u043e\\u0431\\u043c\\u0435\\u043d\\u0435 \\u0434\\u0440\\u0443\\u0433\\u043e\\u0433\\u043e \\u0440\\u043e\\u0441\\u0441\\u0438\\u044f\\u043d\\u0438\\u043d\\u0430 \\u0438\\u0437 \\u00ab\\u041c\\u0438\\u043d\\u043d\\u0435\\u0441\\u043e\\u0442\\u044b\\u00bb \\u2014 \\u0437\\u0430\\u0449\\u0438\\u0442\\u043d\\u0438\\u043a\\u0430 \\u0414\\u043c\\u0438\\u0442\\u0440\\u0438\\u044f \\u041a\\u0443\\u043b\\u0438\\u043a\\u043e\\u0432\\u0430 \\u0432 \\u00ab\\u0410\\u043d\\u0430\\u0445\\u0430\\u0439\\u043c \\u0414\\u0430\\u043a\\u0441\\u00bb. \\u042d\\u0442\\u043e\\u0442 \\u0448\\u0430\\u0433 \\u043e\\u0441\\u0432\\u043e\\u0431\\u043e\\u0434\\u0438\\u043b $ 2,25 \\u043c\\u043b\\u043d \\u0432 \\u043f\\u043b\\u0430\\u0442\\u0451\\u0436\\u043d\\u043e\\u0439 \\u0432\\u0435\\u0434\\u043e\\u043c\\u043e\\u0441\\u0442\\u0438. \\u041a \\u0442\\u043e\\u043c\\u0443 \\u0436\\u0435 \\u0433\\u0435\\u043d\\u043c\\u0435\\u043d\\u0435\\u0434\\u0436\\u0435\\u0440 \\u0440\\u0435\\u0448\\u0438\\u043b \\u043f\\u043e\\u0439\\u0442\\u0438 \\u043d\\u0430 \\u043e\\u0431\\u043c\\u0435\\u043d, \\u0447\\u0442\\u043e\\u0431\\u044b \\u0434\\u0430\\u0442\\u044c \\u0448\\u0430\\u043d\\u0441\\u044b \\u0434\\u0440\\u0443\\u0433\\u0438\\u043c \\u0438\\u0433\\u0440\\u043e\\u043a\\u0430\\u0445 \\u0432 \\u0441\\u043e\\u0441\\u0442\\u0430\\u0432\\u0435: \\u0430 \\u0438\\u043c\\u0435\\u043d\\u043d\\u043e 22-\\u043b\\u0435\\u0442\\u043d\\u0435\\u043c\\u0443 \\u041a\\u0430\\u043b\\u0435\\u043d\\u0443 \\u042d\\u0434\\u0434\\u0438\\u0441\\u043e\\u043d\\u0443 \\u0438 31-\\u043b\\u0435\\u0442\\u043d\\u0435\\u043c\\u0443 \\u0410\\u043d\\u0434\\u0440\\u0435\\u044e \\u0428\\u0443\\u0441\\u0442\\u0440\\u0443.\\n\\u00ab\\u041c\\u044b \\u043f\\u0440\\u043e\\u0441\\u0442\\u043e \\u0434\\u0443\\u043c\\u0430\\u0435\\u043c, \\u0447\\u0442\\u043e, \\u043a\\u043e\\u0433\\u0434\\u0430 \\u043d\\u0430\\u0448\\u0438 \\u0438\\u0433\\u0440\\u043e\\u043a\\u0438 \\u043e\\u043f\\u0440\\u0430\\u0432\\u044f\\u0442\\u0441\\u044f \\u043e\\u0442 \\u0442\\u0440\\u0430\\u0432\\u043c\\u2026 \\u0442\\u043e\\u0433\\u0434\\u0430 \\u0443 \\u043d\\u0430\\u0441 \\u0431\\u0443\\u0434\\u0435\\u0442 \\u0440\\u0435\\u0430\\u043b\\u044c\\u043d\\u0430\\u044f \\u043f\\u0440\\u043e\\u0431\\u043b\\u0435\\u043c\\u0430, \\u043f\\u043e\\u0442\\u043e\\u043c\\u0443 \\u0447\\u0442\\u043e \\u043c\\u044b \\u043e\\u0431\\u043c\\u0435\\u043d\\u044f\\u043b\\u0438 \\u0438\\u0433\\u0440\\u043e\\u043a\\u0430, \\u043a\\u043e\\u0442\\u043e\\u0440\\u044b\\u0439 \\u0441\\u043b\\u0438\\u0448\\u043a\\u043e\\u043c \\u0445\\u043e\\u0440\\u043e\\u0448, \\u0447\\u0442\\u043e\\u0431\\u044b \\u0435\\u0433\\u043e \\u043e\\u0431\\u043c\\u0435\\u043d\\u0438\\u0432\\u0430\\u0442\\u044c. \\u041d\\u0430\\u043c \\u043a\\u0430\\u043a \\u0431\\u044b \\u043f\\u0440\\u0438\\u0448\\u043b\\u043e\\u0441\\u044c \\u043f\\u0440\\u0438\\u043d\\u044f\\u0442\\u044c \\u0440\\u0435\\u0448\\u0435\\u043d\\u0438\\u0435 \\u043a\\u0430\\u043a \\u0431\\u0438\\u0437\\u043d\\u0435\\u0441\\u043c\\u0435\\u043d\\u0430\\u043c, \\u0438 \\u0432\\u044b \\u0437\\u043d\\u0430\\u0435\\u0442\\u0435, \\u043d\\u0430\\u0441\\u043a\\u043e\\u043b\\u044c\\u043a\\u043e \\u0446\\u0435\\u043d\\u043d\\u044b\\u043c \\u044f\\u0432\\u043b\\u044f\\u0435\\u0442\\u0441\\u044f \\u0441\\u0432\\u043e\\u0431\\u043e\\u0434\\u043d\\u043e\\u0435 \\u043c\\u0435\\u0441\\u0442\\u043e \\u043f\\u043e\\u0434 \\u043f\\u043e\\u0442\\u043e\\u043b\\u043a\\u043e\\u043c \\u0437\\u0430\\u0440\\u043f\\u043b\\u0430\\u0442 \\u0432 \\u043d\\u0430\\u0448\\u0438 \\u0434\\u043d\\u0438, \\u043e\\u0441\\u043e\\u0431\\u0435\\u043d\\u043d\\u043e \\u0432 \\u043d\\u0430\\u0448\\u0435\\u0439 \\u0441\\u0438\\u0442\\u0443\\u0430\\u0446\\u0438\\u0438. \\u041c\\u044b \\u043f\\u0440\\u043e\\u0441\\u0442\\u043e \\u0447\\u0443\\u0432\\u0441\\u0442\\u0432\\u0443\\u0435\\u043c, \\u0447\\u0442\\u043e \\u0443 \\u043d\\u0430\\u0441 \\u0432\\u0441\\u0451 \\u0435\\u0449\\u0451 \\u0434\\u043e\\u0441\\u0442\\u0430\\u0442\\u043e\\u0447\\u043d\\u043e \\u0445\\u043e\\u0440\\u043e\\u0448\\u0438\\u0445 \\u0437\\u0430\\u0449\\u0438\\u0442\\u043d\\u0438\\u043a\\u043e\\u0432\\u00bb, \\u2014 \\u0437\\u0430\\u043a\\u043b\\u044e\\u0447\\u0438\\u043b \\u0413\\u0435\\u0440\\u0438\\u043d.\\n\\u041a\\u043e\\u043d\\u0435\\u0447\\u043d\\u043e, \\u0432 \\u00ab\\u041c\\u0438\\u043d\\u043d\\u0435\\u0441\\u043e\\u0442\\u0435\\u00bb \\u0441\\u0442\\u0430\\u043b\\u043e \\u043d\\u0430 \\u043e\\u0434\\u043d\\u043e\\u0433\\u043e \\u0440\\u043e\\u0441\\u0441\\u0438\\u044f\\u043d\\u0438\\u043d\\u0430 \\u043c\\u0435\\u043d\\u044c\\u0448\\u0435, \\u0438 \\u044d\\u0442\\u043e \\u043f\\u0435\\u0447\\u0430\\u043b\\u044c\\u043d\\u043e. \\u041d\\u043e \\u0432 \\u0442\\u043e \\u0436\\u0435 \\u0432\\u0440\\u0435\\u043c\\u044f \\u0441\\u0432\\u043e\\u044e \\u0433\\u043b\\u0430\\u0432\\u043d\\u0443\\u044e \\u0437\\u0432\\u0451\\u0437\\u0434\\u043e\\u0447\\u043a\\u0443 \\u00ab\\u0423\\u0430\\u0439\\u043b\\u0434\\u00bb \\u0441\\u043e\\u0445\\u0440\\u0430\\u043d\\u0438\\u043b\\u0438 \\u2014 \\u0438 \\u044d\\u0442\\u043e \\u043d\\u0435 \\u043c\\u043e\\u0436\\u0435\\u0442 \\u043d\\u0435 \\u0440\\u0430\\u0434\\u043e\\u0432\\u0430\\u0442\\u044c. \\u0411\\u0443\\u0434\\u0435\\u043c \\u043d\\u0430\\u0434\\u0435\\u044f\\u0442\\u044c\\u0441\\u044f, \\u0447\\u0442\\u043e \\u043d\\u0430\\u043f\\u0440\\u044f\\u0436\\u0451\\u043d\\u043d\\u043e\\u0435 \\u043b\\u0435\\u0442\\u043e \\u043b\\u0438\\u0448\\u044c \\u0437\\u0430\\u043c\\u043e\\u0442\\u0438\\u0432\\u0438\\u0440\\u0443\\u0435\\u0442 \\u041a\\u0430\\u043f\\u0440\\u0438\\u0437\\u043e\\u0432\\u0430 \\u043d\\u0430 \\u043d\\u043e\\u0432\\u044b\\u0435 \\u0441\\u0432\\u0435\\u0440\\u0448\\u0435\\u043d\\u0438\\u044f.\"\n        ],\n        \"semantic_type\": \"\",\n        \"description\": \"\"\n      }\n    },\n    {\n      \"column\": \"title\",\n      \"properties\": {\n        \"dtype\": \"string\",\n        \"num_unique_values\": 15778,\n        \"samples\": [\n          \"\\u0420\\u0443\\u0431\\u043b\\u0451\\u0432 \\u043f\\u0440\\u043e\\u0438\\u0433\\u0440\\u0430\\u043b \\u0444\\u0438\\u043d\\u0430\\u043b \\u0426\\u0438\\u0446\\u0438\\u043f\\u0430\\u0441\\u0443. \\u0421\\u043b\\u0435\\u0434\\u0443\\u044e\\u0449\\u0438\\u0439 \\u043f\\u043e\\u0435\\u0434\\u0438\\u043d\\u043e\\u043a \\u0440\\u043e\\u0441\\u0441\\u0438\\u044f\\u043d\\u0438\\u043d\\u0430 \\u0431\\u0443\\u0434\\u0435\\u0442 \\u0443\\u0436\\u0435 \\u0432 \\u0410\\u0432\\u0441\\u0442\\u0440\\u0430\\u043b\\u0438\\u0438\",\n          \"\\u00ab\\u041d\\u0435 \\u0432\\u044b\\u0434\\u0432\\u0438\\u043d\\u0443 \\u043e\\u0431\\u0432\\u0438\\u043d\\u0435\\u043d\\u0438\\u0439, \\u0435\\u0441\\u043b\\u0438 \\u043f\\u043e\\u0434\\u043f\\u0438\\u0448\\u0435\\u0442 \\u043a\\u043e\\u043d\\u0442\\u0440\\u0430\\u043a\\u0442\\u00bb. \\u0425\\u0430\\u0441\\u0431\\u0438\\u043a \\u0432\\u0440\\u0435\\u0437\\u0430\\u043b \\u043e\\u043b\\u0438\\u043c\\u043f\\u0438\\u0439\\u0441\\u043a\\u043e\\u043c\\u0443 \\u0447\\u0435\\u043c\\u043f\\u0438\\u043e\\u043d\\u0443!\",\n          \"\\u042f\\u0440\\u0451\\u043c\\u0435\\u043d\\u043a\\u043e: \\u043d\\u0430\\u0434\\u0435\\u044e\\u0441\\u044c, \\u0432\\u0442\\u043e\\u0440\\u043e\\u0439 \\u043a\\u0440\\u0443\\u0433 \\u0427\\u0420 \\u0431\\u0443\\u0434\\u0435\\u0442 \\u0438\\u043d\\u0442\\u0435\\u0440\\u0435\\u0441\\u043d\\u0435\\u0435\"\n        ],\n        \"semantic_type\": \"\",\n        \"description\": \"\"\n      }\n    },\n    {\n      \"column\": \"subtitle\",\n      \"properties\": {\n        \"dtype\": \"string\",\n        \"num_unique_values\": 15758,\n        \"samples\": [\n          \"\\u0422\\u0438\\u043c\\u043e\\u0444\\u0435\\u0439 \\u041c\\u043e\\u0437\\u0433\\u043e\\u0432 \\u043f\\u043e\\u043c\\u043e\\u0433\\u0430\\u043b \\u041b\\u0435\\u0431\\u0440\\u043e\\u043d\\u0443 \\u0414\\u0436\\u0435\\u0439\\u043c\\u0441\\u0443 \\u0437\\u0430\\u0432\\u043e\\u0451\\u0432\\u044b\\u0432\\u0430\\u0442\\u044c \\u0447\\u0435\\u043c\\u043f\\u0438\\u043e\\u043d\\u0441\\u0442\\u0432\\u043e \\u0432 \\u00ab\\u041a\\u043b\\u0438\\u0432\\u043b\\u0435\\u043d\\u0434\\u0435\\u00bb, \\u0430 \\u0441\\u0435\\u0439\\u0447\\u0430\\u0441 \\u043e\\u0442 \\u043d\\u0435\\u0433\\u043e \\u043e\\u0442\\u043a\\u0430\\u0437\\u0430\\u043b\\u0438\\u0441\\u044c \\u0432 \\u043d\\u0430\\u0446\\u0438\\u043e\\u043d\\u0430\\u043b\\u044c\\u043d\\u043e\\u0439 \\u0441\\u0431\\u043e\\u0440\\u043d\\u043e\\u0439.\",\n          \"\\u0422\\u043e\\u0442 \\u0441\\u043b\\u0443\\u0447\\u0430\\u0439, \\u043a\\u043e\\u0433\\u0434\\u0430 \\u043d\\u0430\\u0448 \\u0444\\u0443\\u0442\\u0431\\u043e\\u043b \\u043f\\u0440\\u0438\\u043d\\u043e\\u0441\\u0438\\u0442 \\u0430\\u0431\\u0441\\u043e\\u043b\\u044e\\u0442\\u043d\\u043e\\u0435 \\u0441\\u0447\\u0430\\u0441\\u0442\\u044c\\u0435.\",\n          \"\\u0416\\u0435\\u0440\\u0442\\u0432\\u0430\\u043c\\u0438 \\u043a\\u043e\\u043d\\u0444\\u043b\\u0438\\u043a\\u0442\\u0430 \\u0441 \\u043f\\u0440\\u0430\\u0432\\u0438\\u0442\\u0435\\u043b\\u044c\\u0441\\u0442\\u0432\\u043e\\u043c \\u0443\\u0436\\u0435 \\u043f\\u0430\\u043b\\u0438 \\u0441\\u0435\\u043c\\u0435\\u0439\\u043d\\u044b\\u0435 \\u0443\\u0437\\u044b, \\u0430\\u043a\\u043a\\u0430\\u0443\\u043d\\u0442 \\u0432 \\u00ab\\u0442\\u0432\\u0438\\u0442\\u0442\\u0435\\u0440\\u0435\\u00bb \\u0438 \\u0433\\u0440\\u0430\\u0436\\u0434\\u0430\\u043d\\u0441\\u0442\\u0432\\u043e. \\u041d\\u0430 \\u043e\\u0447\\u0435\\u0440\\u0435\\u0434\\u0438 \\u2014 \\u0441\\u0432\\u043e\\u0431\\u043e\\u0434\\u0430.\"\n        ],\n        \"semantic_type\": \"\",\n        \"description\": \"\"\n      }\n    },\n    {\n      \"column\": \"date\",\n      \"properties\": {\n        \"dtype\": \"string\",\n        \"num_unique_values\": 15744,\n        \"samples\": [\n          \"24 \\u0430\\u0432\\u0433\\u0443\\u0441\\u0442\\u0430 2022, 20:00 \\u041c\\u0421\\u041a\",\n          \"26 \\u0438\\u044e\\u043d\\u044f 2021, 12:00 \\u041c\\u0421\\u041a\",\n          \"4 \\u043c\\u0430\\u044f 2023, 23:10 \\u041c\\u0421\\u041a\"\n        ],\n        \"semantic_type\": \"\",\n        \"description\": \"\"\n      }\n    },\n    {\n      \"column\": \"sport\",\n      \"properties\": {\n        \"dtype\": \"category\",\n        \"num_unique_values\": 7,\n        \"samples\": [\n          \"auto\",\n          \"basketball\",\n          \"tennis\"\n        ],\n        \"semantic_type\": \"\",\n        \"description\": \"\"\n      }\n    }\n  ]\n}"
            }
          },
          "metadata": {},
          "execution_count": 17
        }
      ]
    },
    {
      "cell_type": "code",
      "source": [
        "# описание столбцов:\n",
        "\n",
        "# text - статья\n",
        "# title - ее заголовок\n",
        "# subtitle - подзаголовок статьи\n",
        "# date - дата публикации (str)\n",
        "# sport - вид спорта"
      ],
      "metadata": {
        "id": "5UZXKcOZbE86"
      },
      "execution_count": null,
      "outputs": []
    },
    {
      "cell_type": "code",
      "source": [],
      "metadata": {
        "id": "XvQsWxpTbE_Q"
      },
      "execution_count": null,
      "outputs": []
    },
    {
      "cell_type": "markdown",
      "source": [
        "### нас интересуют 3 столбца: text (статья) и title + subtitle, они и будут кратким содержанием статьи (gold standard)."
      ],
      "metadata": {
        "id": "AdD8OqgBdFgj"
      }
    },
    {
      "cell_type": "code",
      "source": [
        "# соединим title + subtitle:\n",
        "data['title'] = data['title'].apply(lambda txt: txt + ' ' if txt[-1] in '.?!;' else txt + '. ')                               # ?????\n",
        "data['summary'] = data['title'] + data['subtitle']"
      ],
      "metadata": {
        "id": "q7G7jxpreFUT"
      },
      "execution_count": null,
      "outputs": []
    },
    {
      "cell_type": "code",
      "source": [
        "# вот что получилось:\n",
        "data['summary'].values[:10].tolist()"
      ],
      "metadata": {
        "colab": {
          "base_uri": "https://localhost:8080/"
        },
        "id": "IxfF_inb9yEc",
        "outputId": "979136a0-da3a-4661-f2d9-d6d6e52e65a5"
      },
      "execution_count": null,
      "outputs": [
        {
          "output_type": "execute_result",
          "data": {
            "text/plain": [
              "['10 худших команд в истории Формулы-1. От деревенских энтузиастов до «Ламборгини». Одна из команд была связана с Советским Союзом.',\n",
              " 'Норрис в «Феррари», Леклер в «Мерседесе»?! Разбираем свежие трансферные слухи. Через год Формулу-1 могут подкараулить мощнейшие перестановки.',\n",
              " 'Скучаете по шинным войнам в Формуле-1? Вот 2 причины, почему монополия неизбежна. Хэмилтон за возвращение дуэли шинников, но это лишь мечты.',\n",
              " '8 громких случаев, когда пилоты Формулы-1 покидали команду прямо по ходу сезона. Однажды «Феррари» выгнала гонщика уже после первого этапа.',\n",
              " 'Звезда IndyCar рвётся в Ф-1. Но у Палоу не получится стать новым Монтойей и Вильнёвом. Алекс, безусловно, талантлив, но выстрелить сразу у него вряд ли получится.',\n",
              " 'Действующего чемпиона затмил новичок! Оценки за Гран-при Великобритании. Макс Ферстаппен снова был совсем не идеален.',\n",
              " '«Ред Булл» выкинул чемпиона всего на свете через 10 гонок. Что это значит для рынка Ф-1? Рискованная ставка «быков» не сработала. А Перес теперь забеспокоится по-настоящему.',\n",
              " 'Развился ли у Переса комплекс и сколько гонок подряд выиграет «Ред Булл»? Разбор Гран-при. Егор Оруджев поражается рывку «Макларена» и разбирает поведение гонщиков «Феррари».',\n",
              " 'Взлёт «Макларена» — оплеуха по «Мерседесу» и «Феррари». 5 главных итогов ГП Великобритании. Ждём новых разборок в «Альпин». А в логичность судейских решений уже не верим.',\n",
              " 'Кто худший гонщик Гран-при Великобритании Формулы-1? Хельмут Марко будет недоволен: среди участников опроса сразу три его гонщика.']"
            ]
          },
          "metadata": {},
          "execution_count": 8
        }
      ]
    },
    {
      "cell_type": "code",
      "source": [
        "import nltk\n",
        "nltk.download('punkt')"
      ],
      "metadata": {
        "colab": {
          "base_uri": "https://localhost:8080/"
        },
        "id": "SdScYgX8fDl8",
        "outputId": "fccdf0fb-9ab9-482c-a695-07fa0024997d"
      },
      "execution_count": null,
      "outputs": [
        {
          "output_type": "stream",
          "name": "stderr",
          "text": [
            "[nltk_data] Downloading package punkt to /root/nltk_data...\n",
            "[nltk_data]   Unzipping tokenizers/punkt.zip.\n"
          ]
        },
        {
          "output_type": "execute_result",
          "data": {
            "text/plain": [
              "True"
            ]
          },
          "metadata": {},
          "execution_count": 8
        }
      ]
    },
    {
      "cell_type": "markdown",
      "source": [
        "### анализ текстов:"
      ],
      "metadata": {
        "id": "fdsbN_sKpa_3"
      }
    },
    {
      "cell_type": "code",
      "source": [
        "# не помню как получал столбцы text_tokens_num и title&subtitle_tokens_num, поэтому считаю заново"
      ],
      "metadata": {
        "id": "YCZMu7YYbs-U"
      },
      "execution_count": null,
      "outputs": []
    },
    {
      "cell_type": "code",
      "source": [
        "%%time\n",
        "# кол-во слов (токенов) в статьях:\n",
        "data['text_num_tok'] = data['text'].apply(lambda txt: len(nltk.word_tokenize(txt)))\n",
        "\n",
        "# кол-во слов (токенов) в саммари:\n",
        "data['summary_num_tok'] = data['summary'].apply(lambda txt: len(nltk.word_tokenize(txt)))"
      ],
      "metadata": {
        "colab": {
          "base_uri": "https://localhost:8080/"
        },
        "id": "ZDPj9lsodAX7",
        "outputId": "c76890b8-d9f1-4b27-df38-52dfd1ff4319"
      },
      "execution_count": null,
      "outputs": [
        {
          "output_type": "stream",
          "name": "stdout",
          "text": [
            "CPU times: user 2min 23s, sys: 299 ms, total: 2min 23s\n",
            "Wall time: 2min 33s\n"
          ]
        }
      ]
    },
    {
      "cell_type": "code",
      "source": [
        "plt.figure(figsize=(10, 4))\n",
        "\n",
        "plt.subplot(121)\n",
        "plt.title('Гистограмма кол-ва токенов в статьях')\n",
        "plt.hist(data['text_num_tok'], bins=100)\n",
        "plt.xlabel('# токенов')\n",
        "plt.ylabel('частота')\n",
        "\n",
        "plt.subplot(122)\n",
        "plt.title('Гистограмма кол-ва токенов в саммари')\n",
        "plt.hist(data['summary_num_tok'], bins=15)\n",
        "plt.xlabel('# токенов')\n",
        "plt.ylabel('частота');"
      ],
      "metadata": {
        "colab": {
          "base_uri": "https://localhost:8080/",
          "height": 410
        },
        "id": "XX9FtkM4hhR7",
        "outputId": "f7c17069-60ae-47a1-a6fb-ef1a530b3104"
      },
      "execution_count": null,
      "outputs": [
        {
          "output_type": "display_data",
          "data": {
            "text/plain": [
              "<Figure size 1000x400 with 2 Axes>"
            ],
            "image/png": "[encoded data removed]"
          },
          "metadata": {}
        }
      ]
    },
    {
      "cell_type": "code",
      "source": [
        "# ого, похоже у них работают фанаты Льва Николаевича...\n",
        "\n",
        "# квантиль 0.995:\n",
        "q995 = round(data['text_num_tok'].quantile(0.995))\n",
        "print('квантиль 0.995:', q995)\n",
        "\n",
        "# исключим лонгриды:\n",
        "mask = data['text_num_tok'] <= q995\n",
        "\n",
        "plt.figure(figsize=(6, 4))\n",
        "plt.title('Гистограмма кол-ва токенов в статьях*')\n",
        "plt.hist(data.loc[mask, 'text_num_tok'], bins=100)\n",
        "plt.xlabel('# токенов')\n",
        "plt.ylabel('частота');"
      ],
      "metadata": {
        "colab": {
          "base_uri": "https://localhost:8080/",
          "height": 427
        },
        "id": "Rn5Tkk4WiHGq",
        "outputId": "1f5cd356-8661-45b2-a59c-ccf3d66652a4"
      },
      "execution_count": null,
      "outputs": [
        {
          "output_type": "stream",
          "name": "stdout",
          "text": [
            "квантиль 0.995: 4228\n"
          ]
        },
        {
          "output_type": "display_data",
          "data": {
            "text/plain": [
              "<Figure size 600x400 with 1 Axes>"
            ],
            "image/png": "[encoded data removed]"
          },
          "metadata": {}
        }
      ]
    },
    {
      "cell_type": "code",
      "source": [
        "# длинные статьи будут обрезаться при токенизации, поэтому не переживаем за них.\n",
        "# посмотрим на самые короткие:\n",
        "q01 = round(data['text_num_tok'].quantile(0.01))\n",
        "print('квантиль 0.01:', q01)\n",
        "print()\n",
        "\n",
        "mask = data['text_num_tok'] <= q01\n",
        "short_texts = data.loc[mask, ['text']].values.tolist()\n",
        "\n",
        "# выберем 15 рандомных 'коротышей':\n",
        "random_idx = np.random.choice(np.arange(len(short_texts)), size=15 ,replace=False)\n",
        "for i in random_idx:\n",
        "  print(short_texts[i][0])\n",
        "  print()"
      ],
      "metadata": {
        "colab": {
          "base_uri": "https://localhost:8080/"
        },
        "id": "jVqAZwW2i1oC",
        "outputId": "c98a0385-86ce-44e3-8cd5-b51864f92496"
      },
      "execution_count": null,
      "outputs": [
        {
          "output_type": "stream",
          "name": "stdout",
          "text": [
            "квантиль 0.01: 227\n",
            "\n",
            "Фиксируем последние трансферные слухи, связанные в сезоном-2021 Формулы-1. По-прежнему неспокойно в царстве «Ред Булл», а вот в «Альфа Ромео» определились, сохранив прежний состав. Теперь мы близки и к объявлению дуэта пилотов «Хааса», где ждут Никиту Мазепина и Мика Шумахера.\n",
            "Уже почти семикратный чемпион мира Льюис Хэмилтон никак не может найти время, чтобы всё обсудить с Тото Вольфом и подписать контракт на следующий сезон — это тоже рождает различные слухи, тем более с учётом того, что место в «Уильямсе» внезапно потеряет воспитанник «Мерседеса» Джордж Расселл. А вот в «Альфа Таури» подтвердили, что Пьер Гасли никуда не перейдёт.\n",
            "Версия от 30 октября 2020 года\n",
            "Свежие изменения в таблице выделены курсивом.\n",
            "\n",
            "6 мая в московском дворце спорта «Динамо» на улице Лавочкина начнутся матчи «Финала шести» мужской волейбольной Суперлиги. Безоговорочным фаворитом считается казанский «Зенит», который неделю назад вбил в площадку всех соперников в римском «Финале четырёх» Лиги чемпионов. Однако в истории казанской команды был случай, когда в Европе она была лучшей, а в России – нет. Когда такое было? Пройдите наш тест и узнаете.\n",
            "Все матчи будут сыграны на арене, которая «засветилась» и на Олимпиаде-1980 в Москве. В одну группу попали «Зенит», сургутская команда «Газпром-Югра» и новосибирский «Локомотив», а в другую – московское «Динамо», «ФАКЕЛ» из Нового Уренгоя и «Белогорье». Кто победит в 26-м чемпионате России по волейболу среди мужских команд, станет известно 11 мая, когда состоится финальный матч.\n",
            "\n",
            "Читатели «Чемпионата» регулярно критикуют материалы про красивых гонщиц или подруг пилотов с фотографиями и небольшими рассказами про их биографии, но при этом продолжают эти тексты читать. И мы их прекрасно понимаем. Раз так, редакция решила сделать забавное голосование, чтобы вы проверили, сможете ли отличить профессиональную пилотессу от дамы сердца гонщика Формулы-1 или какого-то другого чемпионата. В нашем тесте есть как довольно известные гонщицы (мы удивимся, если вы их не узнаете), так и девушки, разгадать тайну которых не так-то просто. Что ж, тем интереснее вам должно быть!\n",
            "Если у вас не грузится опрос, вы можете пройти его по ссылке: Тест: пилотесса или подруга гонщика?\n",
            "\n",
            "В ночь с 25 на 26 февраля на стадионе «3Arena» в Дублине (Ирландия) состоится турнир Bellator 291. В главном бою встретятся непобеждённый чемпион Ярослав Амосов и обладатель временного пояса Логан Сторли. Они проведут реванш в полусредней весовой категории. В первом поединке Амосов победил раздельным решением судей. В карде турнира также запланирован бой брата Забита Магомедшарипова – Хасана. Соперником россиянина станет бразилец Рафаэль Хадсон. Ещё один наш боец Олег Попов проведёт дебют в промоушене против турка Гокхана Сарикама.\n",
            "Официального эфира в России не планируется, но «Чемпионат» проведёт текстовую трансляцию, в которой отразит все самые интересные подробности.\n",
            "Очевидным фаворитом этого поединка является Ярослав Амосов. Непобеждённый чемпион в своём последнем бою оказался сильнее Дугласа Лимы. Правда, с июня 2021 года он больше не выходил в октагон. Длительный простой может сказаться на форме бойца. Логан Сторли за 2022 год провёл два поединка. В феврале он победил Неймана Грейси, в мае – Майкла Пейджа.\n",
            "\n",
            "10 июня в Москве на площадке «Ледового дворца ВТБ» ЦСКА переиграл «Химки» в финальном матче «Финала четырёх» Единой лиги ВТБ и стал победителем турнира. Встреча завершилась со счётом 95:84. Фоторепортаж из чемпионской раздевалки подготовлен специальным фотокорреспондентом «Чемпионата» Дмитрием Голубовичем.\n",
            "Смотрите также фоторепортаж с матча и церемонии награждения.\n",
            "\n",
            "В следующие выходные в Лондоне пройдёт встреча Международного совета футбольных ассоциаций. Ожидается, что за круглым столом будут обсуждать чистое время матчей, новое правило офсайда и другие новшества, о которых раньше не говорили. Рассказываем, что может измениться в футболе с сезона-2023/2024.\n",
            "Эмилиано Мартинес\n",
            "Главными темами встречи, конечно же, станут разговоры о переходе к чистому времени матчей и правилу офсайда Арсена Венгера. Экс-главный тренер «Арсенала» и ныне директор ФИФА по развитию футбола предлагает изменение, благодаря которому нападающие получат преимущество над защитниками – положение «вне игры» будет фиксироваться по последней части тела форварда.\n",
            "Что ещё подготовят ФИФА и Джанни Инфантино?\n",
            "\n",
            "Первый шаг в спорте самый главный. Все прославленные чемпионы когда-то тоже начинали свой долгий путь к вершине. Причём не всегда и не у всех всё сразу получалось. Но именно в детстве и юности закладываются и мастерство, и чемпионский характер. Если посмотреть на старые детские фотографии звёзд тенниса, можно заметить, как у них горят глаза, как их лица открыты для встречи с самым невероятным приключением в их жизни.\n",
            "«Чемпионат» подготовил для вас забавный тест – мы подобрали 15 ретрофотографий, на которых изображены известные теннисисты и теннисистки в детском возрасте. Попробуйте разглядеть в этих милых лицах будущих звёзд мирового тенниса. В любом случае, хорошее настроение вам гарантировано.\n",
            "Если у вас не грузится тест, вы можете пройти его по ссылке: Тест: Звёзды тенниса на детских фото\n",
            "\n",
            "Решение Себастьяна Феттеля завершить карьеру и сенсационный переход Фернандо Алонсо в «Астон Мартин» перезапустили «глупый сезон» переходов в Формуле-1. А буквально сегодня Комиссия ФИА по контрактам подтвердила, что Оскар Пиастри имеет право выступать за «Макларен». Какие интриги у нас теперь сохраняются?\n",
            "Составы команд Формулы-1 на сезон-2023. Версия от 2 сентября 2022 года.\n",
            "Свежие изменения в таблице выделены курсивом.\n",
            "\n",
            "В субботу, 13 мая, «Спартак» сыграет с «Химками» в 27-м туре РПЛ. Матч первого круга завершился разгромной победой красно-белых со счётом 5:0. За последние годы множество спартаковцев приходили в «Химки» за игровой практикой, а за всю историю между клубами состоялось больше 30 переходов. Сможете без ошибок отличить верное утверждение от ложного?\n",
            "\n",
            "Время летит быстро, и уже сложно поверить, насколько давно случились некоторые события. В футболе как в неотъемлемой части нашей жизни всё работает так же. А как хорошо вы ориентируетесь в ярких матчах XXI века? Предлагаем вам потренировать память и отгадать год по фотографии. Специально для вас мы подготовили квиз с 15 снимками — где-то вам, скорее всего, будет легко, а где-то посложнее.\n",
            "Подвиги Андреса Иньесты и Андрея Аршавина, кадры с памятных матчей сборной России и куча фото с исторических игр главного европейского клубного турнира — Лиги чемпионов. Участвуйте и обязательно делитесь результатами в комментариях. Удачи!\n",
            "Если квиз не отображается, можно поучаствовать в нём, перейдя по ссылке.\n",
            "\n",
            "Длинная летняя пауза в Формуле-1 между Гран-при Венгрии и легендарной гонкой на трассе «Спа-Франкоршам» — идеальный момент для разного рода развлекательных материалов. Например, для модных в последнее время квизов, в которых читателям предлагают угадать спортсмена по деталям его биографии. Вот и мы выбрали для вас 15 гонщиков чемпионата мира, которых предлагаем угадать.\n",
            "Не беспокойтесь: в нашей викторине нет ни одного пилота, чья карьера в Формуле-1 завершилась раньше второй половины 90-х годов. Так что справиться реально, тем более среди отобранных гонщиков есть и настоящие легенды. Поехали!\n",
            "Если у вас не грузится квиз, вы можете пройти его по прямой ссылке:Квиз: угадайте гонщика Формулы-1 по всем его командам. \n",
            "\n",
            "Во время карантинного перерыва в Формуле-1, который длится уже три месяца, СМИ и болельщики пытаются по-разному себя развлечь. Один из способов — всевозможные тесты, связанные с историей Формулы-1. Мы тоже решили не отставать и сегодня предлагаем пройти тест, посвящённый гонщикам. Сможете ли вы вспомнить, как складывалась карьера известных пилотов прошлых лет? Покажутся ли вопросы слишком простыми или сложными?На всякий случай обращаем внимание: если за время карьеры в чемпионате мира гонщик возвращался в состав команды, за которую он уже выступал, то мы в тесте не указывали эту команду второй раз. Так будет немного сложнее, но зато интереснее. Поехали!\n",
            "Если у вас не грузится тест, можно пройти его по ссылке:Угадай гонщика Формулы-1 по его командам!\n",
            "\n",
            "Один из лучших разыгрывающих защитников НБА Кайри Ирвинг минувшим летом во второй раз сменил команду. Начиналась карьера американца с австралийскими корнями в Кливленде. «Кавальерс» выбрали его на драфте-2011 под первым номером.\n",
            "Новым клубом 27-летнего баскетболиста стал «Бруклин Нетс». Ньюйоркцы условия контракта не оглашают, но в мире информационного бума такие тайны не сохранить. По общедоступной информации, сделка была заключена сроком на четыре года и сумма её составила $141 млн.  Что ещё нужно мужчине для счастья? Верная и красивая подруга рядом. На этой неделе стало известно, что Кайри сделал предложение своей девушке Голден. И судя по фотографиям, которые добыл известный таблоид TMZ, счастливая избранница ответила согласием. Бриллиант на кольце впечатляет.\n",
            "О Голден известно не так много. Девушка крутится в модельном бизнесе, активно ведёт «инстаграм», в котором у неё 440 тыс. подписчиков. Любопытен статус в шапке её странички: «Не стремитесь иметь больше, стремитесь быть чем-то большим». Ну что сказать, теперь ей о бытовых проблемах задумываться не придётся.  Любопытный факт. В «инстаграме» Ирвинга и его невесты нет ни одной совместной фотографии.\n",
            "\n",
            "Межсезонье пролетело, и мы даже не успели заметить – новый сезон РПЛ стартует уже в эти выходные. Новость не может не радовать: очередной розыгрыш чемпионата России обещает быть как минимум интереснее предыдущего. ЦСКА и «Спартак» могут включиться в борьбу за чемпионство – «Зенит», если всё же останется без Малкома и Вендела, будет уже не тот, Марцел Личка готов сотворить чудо с «Динамо», усилился «Локомотив». Ещё есть вернувшиеся в элиту «Рубин» и «Балтика», за которыми однозначно будет интересно наблюдать. Явных аутсайдеров, как «Химки» и «Торпедо», в этом году нет. В общем, мы точно воодушевлены. А вы?\n",
            "Опрос простой и состоит всего из двух вопросов: сначала вам нужно выбрать клуб, за который вы болеете, а затем оценить свои ожидания от его выступления в новом сезоне по шкале от 1 до 10.\n",
            "В этом случае:\n",
            "Итоги подведём в пятницу, 21 июля. Прохождение опроса займёт не больше минуты. Развёрнутые ответы можете писать в комментарии!\n",
            "Если у вас не отображается опрос, то вы можете пройти его по ссылке.\n",
            "\n",
            "Судьба Василия Кандинского (1866–1944) замысловата. Достаточно уже того, что путь живописца он выбрал в 30 лет – поздно по тем временам. С детства он, конечно, занимался рисованием, проводил смелые эксперименты с формой и цветом, однако не получал признания. Зато выучился на юриста и стал директором типографии «Товарищества И. Н. Кушнерёва и К°» в Москве. Одним из переломных моментов была выставка работ французских художников в 1896 году. Там Кандинского впечатлил «Стог сена» Клода Моне: «Смутно чувствовалось мне, что в этой картине нет предмета. С удивлением и смущением замечал я, однако, что картина эта волнует и покоряет, неизгладимо врезывается в память и вдруг неожиданно так и встанет перед глазами до мельчайших подробностей». В общем, Кандинский решился возобновить обучение – сначала в Москве, затем в Мюнхене. Много путешествовал по Европе, был в Северной Африке и неминуемо шёл к своему стилю – Кандинский будет среди основоположников абстракционизма.\n",
            "Все «картины» подписаны, кроме того, вы можете поставить лайк или дизлайк. Чтобы начать просмотр галереи, нажмите на любую иллюстрацию.\n",
            "\n"
          ]
        }
      ]
    },
    {
      "cell_type": "code",
      "source": [
        "# короткие статьи выглядят нормально."
      ],
      "metadata": {
        "id": "iztkCEqFl6DQ"
      },
      "execution_count": null,
      "outputs": []
    },
    {
      "cell_type": "code",
      "source": [
        "# тепер, посмотрим на корреляцию между длиной статьи и саммари:\n",
        "# исключим лонгриды:\n",
        "mask = data['text_num_tok'] <= q995\n",
        "\n",
        "plt.figure(figsize=(14, 5))\n",
        "ax1 = plt.subplot(121)\n",
        "sns.regplot(data=data[mask],\n",
        "            x='text_num_tok',\n",
        "            y='summary_num_tok',\n",
        "            ax=ax1)\n",
        "plt.title('Корреляция между длиной статьи и саммари')\n",
        "\n",
        "# длина статьи в разрезе по видам спорта:\n",
        "ax2 = plt.subplot(122)\n",
        "sns.boxplot(data=data[mask],\n",
        "            x='sport',\n",
        "            y='text_num_tok',\n",
        "            ax=ax2);"
      ],
      "metadata": {
        "colab": {
          "base_uri": "https://localhost:8080/",
          "height": 469
        },
        "id": "SjlLtyfOeVR0",
        "outputId": "37c5e8fd-5164-4050-d769-427d42281cf8"
      },
      "execution_count": null,
      "outputs": [
        {
          "output_type": "display_data",
          "data": {
            "text/plain": [
              "<Figure size 1400x500 with 2 Axes>"
            ],
            "image/png": "[encoded data removed]"
          },
          "metadata": {}
        }
      ]
    },
    {
      "cell_type": "code",
      "source": [
        "# корреляция присутствует, но не очень сильная\n",
        "# по каждому виду спорта встречаются весьма длинные статьи\n",
        "# в целом, про бокс статьи существенно короче"
      ],
      "metadata": {
        "id": "VBfCsKsmoEA_"
      },
      "execution_count": null,
      "outputs": []
    },
    {
      "cell_type": "code",
      "source": [
        "# теперь, соберем все символы встречающиеся в текстах:\n",
        "all_chars = set()  # все символы\n",
        "\n",
        "for txt in data['text'].values:\n",
        "  chars = set(txt)\n",
        "  all_chars.update(chars)\n",
        "\n",
        "for txt in data['summary'].values:\n",
        "  chars = set(txt)\n",
        "  all_chars.update(chars)"
      ],
      "metadata": {
        "id": "drAYj3fmdAaj"
      },
      "execution_count": null,
      "outputs": []
    },
    {
      "cell_type": "code",
      "source": [
        "print('всего символов:', len(all_chars))"
      ],
      "metadata": {
        "colab": {
          "base_uri": "https://localhost:8080/"
        },
        "id": "qN-0z6fNd8cM",
        "outputId": "044e87a9-e4d9-4e3d-d112-662a89d9d380"
      },
      "execution_count": null,
      "outputs": [
        {
          "output_type": "stream",
          "name": "stdout",
          "text": [
            "всего символов: 588\n"
          ]
        }
      ]
    },
    {
      "cell_type": "code",
      "source": [
        "# красота, давайте посмотрим на них:\n",
        "all_chars"
      ],
      "metadata": {
        "colab": {
          "base_uri": "https://localhost:8080/"
        },
        "id": "wK3rOIFHrpJ2",
        "outputId": "da9eba2f-28b2-4178-e3c8-c7ef7042d894"
      },
      "execution_count": null,
      "outputs": [
        {
          "output_type": "execute_result",
          "data": {
            "text/plain": [
              "{'\\n',\n",
              " '\\r',\n",
              " ' ',\n",
              " '!',\n",
              " '\"',\n",
              " '#',\n",
              " '$',\n",
              " '%',\n",
              " '&',\n",
              " \"'\",\n",
              " '(',\n",
              " ')',\n",
              " '*',\n",
              " '+',\n",
              " ',',\n",
              " '-',\n",
              " '.',\n",
              " '/',\n",
              " '0',\n",
              " '1',\n",
              " '2',\n",
              " '3',\n",
              " '4',\n",
              " '5',\n",
              " '6',\n",
              " '7',\n",
              " '8',\n",
              " '9',\n",
              " ':',\n",
              " ';',\n",
              " '<',\n",
              " '=',\n",
              " '>',\n",
              " '?',\n",
              " '@',\n",
              " 'A',\n",
              " 'B',\n",
              " 'C',\n",
              " 'D',\n",
              " 'E',\n",
              " 'F',\n",
              " 'G',\n",
              " 'H',\n",
              " 'I',\n",
              " 'J',\n",
              " 'K',\n",
              " 'L',\n",
              " 'M',\n",
              " 'N',\n",
              " 'O',\n",
              " 'P',\n",
              " 'Q',\n",
              " 'R',\n",
              " 'S',\n",
              " 'T',\n",
              " 'U',\n",
              " 'V',\n",
              " 'W',\n",
              " 'X',\n",
              " 'Y',\n",
              " 'Z',\n",
              " '[',\n",
              " '\\\\',\n",
              " ']',\n",
              " '^',\n",
              " '_',\n",
              " '`',\n",
              " 'a',\n",
              " 'b',\n",
              " 'c',\n",
              " 'd',\n",
              " 'e',\n",
              " 'f',\n",
              " 'g',\n",
              " 'h',\n",
              " 'i',\n",
              " 'j',\n",
              " 'k',\n",
              " 'l',\n",
              " 'm',\n",
              " 'n',\n",
              " 'o',\n",
              " 'p',\n",
              " 'q',\n",
              " 'r',\n",
              " 's',\n",
              " 't',\n",
              " 'u',\n",
              " 'v',\n",
              " 'w',\n",
              " 'x',\n",
              " 'y',\n",
              " 'z',\n",
              " '|',\n",
              " '~',\n",
              " '\\xa0',\n",
              " '¡',\n",
              " '£',\n",
              " '©',\n",
              " '«',\n",
              " '¬',\n",
              " '\\xad',\n",
              " '¯',\n",
              " '°',\n",
              " '²',\n",
              " '·',\n",
              " 'º',\n",
              " '»',\n",
              " '¼',\n",
              " '½',\n",
              " '¾',\n",
              " 'É',\n",
              " 'Ë',\n",
              " '×',\n",
              " 'Ü',\n",
              " 'ß',\n",
              " 'à',\n",
              " 'á',\n",
              " 'ã',\n",
              " 'ä',\n",
              " 'ç',\n",
              " 'è',\n",
              " 'é',\n",
              " 'ë',\n",
              " 'í',\n",
              " 'ñ',\n",
              " 'ó',\n",
              " 'ô',\n",
              " 'õ',\n",
              " 'ö',\n",
              " '÷',\n",
              " 'ú',\n",
              " 'ü',\n",
              " 'ė',\n",
              " 'ĸ',\n",
              " 'Ł',\n",
              " 'ł',\n",
              " 'Š',\n",
              " 'ū',\n",
              " 'ų',\n",
              " 'ž',\n",
              " '́',\n",
              " '̆',\n",
              " '̶',\n",
              " 'ε',\n",
              " 'ι',\n",
              " 'κ',\n",
              " 'ο',\n",
              " 'ρ',\n",
              " 'ς',\n",
              " 'Ё',\n",
              " 'Ѕ',\n",
              " 'Ї',\n",
              " 'Ј',\n",
              " 'Џ',\n",
              " 'А',\n",
              " 'Б',\n",
              " 'В',\n",
              " 'Г',\n",
              " 'Д',\n",
              " 'Е',\n",
              " 'Ж',\n",
              " 'З',\n",
              " 'И',\n",
              " 'Й',\n",
              " 'К',\n",
              " 'Л',\n",
              " 'М',\n",
              " 'Н',\n",
              " 'О',\n",
              " 'П',\n",
              " 'Р',\n",
              " 'С',\n",
              " 'Т',\n",
              " 'У',\n",
              " 'Ф',\n",
              " 'Х',\n",
              " 'Ц',\n",
              " 'Ч',\n",
              " 'Ш',\n",
              " 'Щ',\n",
              " 'Ъ',\n",
              " 'Ы',\n",
              " 'Ь',\n",
              " 'Э',\n",
              " 'Ю',\n",
              " 'Я',\n",
              " 'а',\n",
              " 'б',\n",
              " 'в',\n",
              " 'г',\n",
              " 'д',\n",
              " 'е',\n",
              " 'ж',\n",
              " 'з',\n",
              " 'и',\n",
              " 'й',\n",
              " 'к',\n",
              " 'л',\n",
              " 'м',\n",
              " 'н',\n",
              " 'о',\n",
              " 'п',\n",
              " 'р',\n",
              " 'с',\n",
              " 'т',\n",
              " 'у',\n",
              " 'ф',\n",
              " 'х',\n",
              " 'ц',\n",
              " 'ч',\n",
              " 'ш',\n",
              " 'щ',\n",
              " 'ъ',\n",
              " 'ы',\n",
              " 'ь',\n",
              " 'э',\n",
              " 'ю',\n",
              " 'я',\n",
              " 'ё',\n",
              " 'і',\n",
              " 'Қ',\n",
              " 'қ',\n",
              " 'Ҥ',\n",
              " 'Ҫ',\n",
              " 'Ԡ',\n",
              " 'ύ',\n",
              " '\\u200b',\n",
              " '\\u200d',\n",
              " '\\u200e',\n",
              " '‐',\n",
              " '‑',\n",
              " '‒',\n",
              " '–',\n",
              " '—',\n",
              " '―',\n",
              " '‘',\n",
              " '’',\n",
              " '‚',\n",
              " '“',\n",
              " '”',\n",
              " '„',\n",
              " '•',\n",
              " '…',\n",
              " '\\u2028',\n",
              " '′',\n",
              " '⁉',\n",
              " '€',\n",
              " '⃣',\n",
              " '№',\n",
              " 'ℹ',\n",
              " '↑',\n",
              " '→',\n",
              " '↓',\n",
              " '↔',\n",
              " '↕',\n",
              " '↗',\n",
              " '↩',\n",
              " '↪',\n",
              " '−',\n",
              " '∙',\n",
              " '⏰',\n",
              " '⏳',\n",
              " '⏸',\n",
              " '⏹',\n",
              " '▲',\n",
              " '▶',\n",
              " '▼',\n",
              " '●',\n",
              " '☄',\n",
              " '★',\n",
              " '☆',\n",
              " '☑',\n",
              " '☕',\n",
              " '☝',\n",
              " '☹',\n",
              " '☺',\n",
              " '♀',\n",
              " '♂',\n",
              " '⚔',\n",
              " '⚖',\n",
              " '⚠',\n",
              " '⚡',\n",
              " '⚪',\n",
              " '⚫',\n",
              " '⚽',\n",
              " '⛔',\n",
              " '⛸',\n",
              " '✅',\n",
              " '✈',\n",
              " '✊',\n",
              " '✋',\n",
              " '✌',\n",
              " '✍',\n",
              " '✏',\n",
              " '✒',\n",
              " '✔',\n",
              " '✖',\n",
              " '✨',\n",
              " '❄',\n",
              " '❌',\n",
              " '❓',\n",
              " '❗',\n",
              " '❤',\n",
              " '➕',\n",
              " '➡',\n",
              " '⠀',\n",
              " '⤵',\n",
              " '⬆',\n",
              " '⬇',\n",
              " '⭐',\n",
              " 'ツ',\n",
              " '️',\n",
              " '🆓',\n",
              " '🆕',\n",
              " '🇦',\n",
              " '🇧',\n",
              " '🇨',\n",
              " '🇩',\n",
              " '🇪',\n",
              " '🇫',\n",
              " '🇬',\n",
              " '🇭',\n",
              " '🇮',\n",
              " '🇯',\n",
              " '🇰',\n",
              " '🇱',\n",
              " '🇲',\n",
              " '🇳',\n",
              " '🇵',\n",
              " '🇷',\n",
              " '🇸',\n",
              " '🇹',\n",
              " '🇺',\n",
              " '🇻',\n",
              " '🇽',\n",
              " '🇾',\n",
              " '🌊',\n",
              " '🌍',\n",
              " '🌧',\n",
              " '🍀',\n",
              " '🍉',\n",
              " '🍕',\n",
              " '🍞',\n",
              " '🍺',\n",
              " '🍽',\n",
              " '🍾',\n",
              " '🍿',\n",
              " '🎂',\n",
              " '🎆',\n",
              " '🎉',\n",
              " '🎊',\n",
              " '🎓',\n",
              " '🎙',\n",
              " '🎞',\n",
              " '🎤',\n",
              " '🎥',\n",
              " '🎫',\n",
              " '🎬',\n",
              " '🎶',\n",
              " '🏀',\n",
              " '🏁',\n",
              " '🏅',\n",
              " '🏆',\n",
              " '🏎',\n",
              " '🏟',\n",
              " '🏴',\n",
              " '🏻',\n",
              " '🏼',\n",
              " '🐂',\n",
              " '🐈',\n",
              " '🐎',\n",
              " '🐝',\n",
              " '🐯',\n",
              " '👀',\n",
              " '👆',\n",
              " '👇',\n",
              " '👈',\n",
              " '👉',\n",
              " '👊',\n",
              " '👋',\n",
              " '👌',\n",
              " '👍',\n",
              " '👎',\n",
              " '👏',\n",
              " '👑',\n",
              " '👔',\n",
              " '👕',\n",
              " '👟',\n",
              " '👥',\n",
              " '👨',\n",
              " '👩',\n",
              " '👮',\n",
              " '👶',\n",
              " '👽',\n",
              " '💃',\n",
              " '💔',\n",
              " '💙',\n",
              " '💡',\n",
              " '💣',\n",
              " '💤',\n",
              " '💥',\n",
              " '💧',\n",
              " '💨',\n",
              " '💪',\n",
              " '💫',\n",
              " '💬',\n",
              " '💭',\n",
              " '💰',\n",
              " '💲',\n",
              " '💶',\n",
              " '💸',\n",
              " '💻',\n",
              " '💼',\n",
              " '📄',\n",
              " '📅',\n",
              " '📆',\n",
              " '📈',\n",
              " '📊',\n",
              " '📋',\n",
              " '📌',\n",
              " '📍',\n",
              " '📑',\n",
              " '📛',\n",
              " '📜',\n",
              " '📝',\n",
              " '📢',\n",
              " '📯',\n",
              " '📰',\n",
              " '📱',\n",
              " '📷',\n",
              " '📸',\n",
              " '📹',\n",
              " '📺',\n",
              " '🔁',\n",
              " '🔃',\n",
              " '🔄',\n",
              " '🔊',\n",
              " '🔔',\n",
              " '🔙',\n",
              " '🔚',\n",
              " '🔛',\n",
              " '🔜',\n",
              " '🔝',\n",
              " '🔟',\n",
              " '🔥',\n",
              " '🔴',\n",
              " '🔵',\n",
              " '🕋',\n",
              " '🕑',\n",
              " '🕓',\n",
              " '🕔',\n",
              " '🕕',\n",
              " '🕖',\n",
              " '🕗',\n",
              " '🕘',\n",
              " '🕙',\n",
              " '🕚',\n",
              " '🕛',\n",
              " '🕝',\n",
              " '🕟',\n",
              " '🕡',\n",
              " '🕢',\n",
              " '🕣',\n",
              " '🕤',\n",
              " '🕦',\n",
              " '🕯',\n",
              " '🕺',\n",
              " '🖊',\n",
              " '🖥',\n",
              " '🖼',\n",
              " '🗓',\n",
              " '🗞',\n",
              " '🗣',\n",
              " '😀',\n",
              " '😁',\n",
              " '😂',\n",
              " '😃',\n",
              " '😄',\n",
              " '😅',\n",
              " '😉',\n",
              " '😊',\n",
              " '😋',\n",
              " '😍',\n",
              " '😎',\n",
              " '😏',\n",
              " '😐',\n",
              " '😒',\n",
              " '😔',\n",
              " '😕',\n",
              " '😖',\n",
              " '😞',\n",
              " '😟',\n",
              " '😡',\n",
              " '😢',\n",
              " '😥',\n",
              " '😦',\n",
              " '😧',\n",
              " '😨',\n",
              " '😩',\n",
              " '😪',\n",
              " '😫',\n",
              " '😬',\n",
              " '😭',\n",
              " '😮',\n",
              " '😯',\n",
              " '😰',\n",
              " '😱',\n",
              " '😲',\n",
              " '😳',\n",
              " '😴',\n",
              " '😵',\n",
              " '😶',\n",
              " '🙁',\n",
              " '🙃',\n",
              " '🙄',\n",
              " '🙅',\n",
              " '🙆',\n",
              " '🙈',\n",
              " '🙊',\n",
              " '🙌',\n",
              " '🙏',\n",
              " '🚀',\n",
              " '🚂',\n",
              " '🚄',\n",
              " '🚅',\n",
              " '🚌',\n",
              " '🚑',\n",
              " '🚘',\n",
              " '🚧',\n",
              " '🚨',\n",
              " '🚫',\n",
              " '🛎',\n",
              " '🛡',\n",
              " '🛩',\n",
              " '🛫',\n",
              " '🛬',\n",
              " '🛰',\n",
              " '🟡',\n",
              " '🟦',\n",
              " '🟨',\n",
              " '🤌',\n",
              " '🤐',\n",
              " '🤑',\n",
              " '🤓',\n",
              " '🤔',\n",
              " '🤕',\n",
              " '🤖',\n",
              " '🤗',\n",
              " '🤘',\n",
              " '🤚',\n",
              " '🤛',\n",
              " '🤜',\n",
              " '🤝',\n",
              " '🤞',\n",
              " '🤟',\n",
              " '🤦',\n",
              " '🤨',\n",
              " '🤩',\n",
              " '🤪',\n",
              " '🤫',\n",
              " '🤬',\n",
              " '🤭',\n",
              " '🤯',\n",
              " '🤲',\n",
              " '🥇',\n",
              " '🥈',\n",
              " '🥉',\n",
              " '🥰',\n",
              " '🥱',\n",
              " '🥲',\n",
              " '🥳',\n",
              " '🥵',\n",
              " '🥶',\n",
              " '🥺',\n",
              " '🦈',\n",
              " '🦊',\n",
              " '🦳',\n",
              " '🦶',\n",
              " '🧐',\n",
              " '🧠',\n",
              " '🧤',\n",
              " '🧭',\n",
              " '\\U000e0062',\n",
              " '\\U000e0065',\n",
              " '\\U000e0067',\n",
              " '\\U000e006e',\n",
              " '\\U000e007f'}"
            ]
          },
          "metadata": {},
          "execution_count": 42
        }
      ]
    },
    {
      "cell_type": "code",
      "source": [
        "# ого, сколько смайликов. Посмоторим как LLM'ки вывезут все это дело."
      ],
      "metadata": {
        "id": "1btlrL3OrpMm"
      },
      "execution_count": null,
      "outputs": []
    },
    {
      "cell_type": "markdown",
      "source": [
        "### dataset:"
      ],
      "metadata": {
        "id": "g2MqwyLNQ581"
      }
    },
    {
      "cell_type": "code",
      "source": [
        "import datasets"
      ],
      "metadata": {
        "id": "tt44UEUZQ7ta"
      },
      "execution_count": null,
      "outputs": []
    },
    {
      "cell_type": "code",
      "source": [
        "# данные будут в формате Dataset:\n",
        "dataset = datasets.Dataset.from_pandas(data.loc[:, ['text', 'summary']])\n",
        "dataset = dataset.shuffle(seed=9)"
      ],
      "metadata": {
        "id": "C07QVzifQ71J"
      },
      "execution_count": null,
      "outputs": []
    },
    {
      "cell_type": "code",
      "source": [
        "# разделим на train/eval части:\n",
        "dataset = dataset.train_test_split(test_size=0.15, shuffle=True, seed=11)"
      ],
      "metadata": {
        "id": "q0wrpCqsQ74S"
      },
      "execution_count": null,
      "outputs": []
    },
    {
      "cell_type": "code",
      "source": [
        "dataset"
      ],
      "metadata": {
        "id": "5zffa2Z0RH9i",
        "colab": {
          "base_uri": "https://localhost:8080/"
        },
        "outputId": "a60ae33b-9e93-4e67-b0d3-4b352e91c0d6"
      },
      "execution_count": null,
      "outputs": [
        {
          "output_type": "execute_result",
          "data": {
            "text/plain": [
              "DatasetDict({\n",
              "    train: Dataset({\n",
              "        features: ['text', 'summary', '__index_level_0__'],\n",
              "        num_rows: 13639\n",
              "    })\n",
              "    test: Dataset({\n",
              "        features: ['text', 'summary', '__index_level_0__'],\n",
              "        num_rows: 2408\n",
              "    })\n",
              "})"
            ]
          },
          "metadata": {},
          "execution_count": 12
        }
      ]
    },
    {
      "cell_type": "markdown",
      "source": [
        "## качество на baseline\n",
        "### в качетве baseline предсказания выберем первые 3 предложения из статьи (prediction) и сравних с саммари (gold standard)"
      ],
      "metadata": {
        "id": "LiAacaaHNHxV"
      }
    },
    {
      "cell_type": "code",
      "source": [
        "def get_baseline_preds(examples):\n",
        "  # первые 3 предложения + разделитель '\\n' между ними (метрики требуют)\n",
        "  base_preds = ['\\n'.join(nltk.sent_tokenize(doc)[:3]) for doc in examples['text']]\n",
        "  # разделитель '\\n' между предложениями в саммери (метрики требуют)\n",
        "  base_true = ['\\n'.join(nltk.sent_tokenize(doc)) for doc in examples['summary']]\n",
        "\n",
        "  return {'base_preds': base_preds, 'base_true': base_true}\n",
        "\n",
        "base_results =  dataset['test'].map(get_baseline_preds, batched=True)"
      ],
      "metadata": {
        "colab": {
          "base_uri": "https://localhost:8080/",
          "height": 49,
          "referenced_widgets": [
            "c0abcd3f449e4af99805a5d4f6db6130",
            "f2f0fd3a326d429f9e33322914ea9f26",
            "782a9dad3ded4cbab382ebac8e8cc6f1",
            "dbde205c47e740e2a64c3fe972ba7c1c",
            "321a62b948054b0286098c17f102ed1f",
            "08ab04e4a8134fc1af83a1113aa92eb0",
            "7940c18dce144063aeec88ff79613c8d",
            "79a2e6d132064723ba5bbc445595f224",
            "f72289dedb7745d49447e6fca885eb51",
            "c9f9b0ecd4be459fbc2ec6e2732c9b8a",
            "6a2a04b6f02c4897bb2f977a8eccbeea"
          ]
        },
        "id": "MNhtDguZNXzt",
        "outputId": "a4e87d65-0142-4e25-8c30-4bef0f036a0d"
      },
      "execution_count": null,
      "outputs": [
        {
          "output_type": "display_data",
          "data": {
            "text/plain": [
              "Map:   0%|          | 0/2408 [00:00<?, ? examples/s]"
            ],
            "application/vnd.jupyter.widget-view+json": {
              "version_major": 2,
              "version_minor": 0,
              "model_id": "c0abcd3f449e4af99805a5d4f6db6130"
            }
          },
          "metadata": {}
        }
      ]
    },
    {
      "cell_type": "code",
      "source": [
        "# вот что получилось:\n",
        "base_results['base_preds'][:4]"
      ],
      "metadata": {
        "colab": {
          "base_uri": "https://localhost:8080/"
        },
        "id": "IYY5EPMWQRDM",
        "outputId": "3e3472f2-ef40-4e30-cdd0-7fa8dd65524c"
      },
      "execution_count": null,
      "outputs": [
        {
          "output_type": "execute_result",
          "data": {
            "text/plain": [
              "['Для «Челси» 2022-й стал поворотным: спустя столько лет Роман Абрамович был вынужден искать для клуба нового владельца.\\nПо итогам всех отборов им стал консорциум американца Тодда Боули.\\nСделка по поглощению состоялась в мае, и с тех пор клуб проходит через сложный процесс трансформации – начиная с перестановок в руководстве и заканчивая пересмотром вектора развития команды.',\n",
              " 'Шестой этап Формулы-1 — в непростительно субъективных оценках автора.\\nВторая подряд превосходная гонка в исполнении немца.\\nАккуратная работа с резиной на первом отрезке окупилась и позволила пробиться в топ-6, ну а затем Феттель прорвался на вторую строчку, опередив Леклера и Гасли.',\n",
              " 'До начала Гран-при России Формулы-1, который уже в шестой раз пройдёт на «Сочи Автодроме», осталось всего несколько дней.\\nУ настоящего болельщика уже забронированы авиабилеты и жильё.\\nЕсли же нет — срочно торопитесь!',\n",
              " 'Посмотреть все события 30 июня в Матч-центре «Чемпионата».\\nВремя в материале — по Москве.\\nПрограмма коротко:\\nИнтересный матч вы можете добавить в «Избранное» в Матч-центре – для этого нажмите на ★ слева от названия события.']"
            ]
          },
          "metadata": {},
          "execution_count": 17
        }
      ]
    },
    {
      "cell_type": "code",
      "source": [
        "# метрики качества: rouge и meteor\n",
        "# качество для baseline:\n",
        "result = rouge_metric.compute(predictions=base_results['base_preds'], references=base_results['base_true'], use_stemmer=True)\n",
        "result.update(meteor_metric.compute(predictions=base_results['base_preds'], references=base_results['base_true']))\n",
        "\n",
        "{k: round(100*v, 4) for k, v in result.items()}"
      ],
      "metadata": {
        "colab": {
          "base_uri": "https://localhost:8080/"
        },
        "id": "P2kQp3DOP9pu",
        "outputId": "50c4efcc-5686-46bf-a77e-d08cfd08afac"
      },
      "execution_count": null,
      "outputs": [
        {
          "output_type": "execute_result",
          "data": {
            "text/plain": [
              "{'rouge1': 12.8478,\n",
              " 'rouge2': 2.4539,\n",
              " 'rougeL': 12.6174,\n",
              " 'rougeLsum': 12.7442,\n",
              " 'meteor': 17.9148}"
            ]
          },
          "metadata": {},
          "execution_count": 18
        }
      ]
    },
    {
      "cell_type": "code",
      "source": [
        "# будем сравнивать результаты mT5/ruBart с этими показателями"
      ],
      "metadata": {
        "id": "DhJWx_OF4W2N"
      },
      "execution_count": null,
      "outputs": []
    },
    {
      "cell_type": "code",
      "source": [],
      "metadata": {
        "id": "DDgEbGmMBNHY"
      },
      "execution_count": null,
      "outputs": []
    },
    {
      "cell_type": "markdown",
      "source": [
        "### выбор модели:"
      ],
      "metadata": {
        "id": "tkYpeI3kt2pG"
      }
    },
    {
      "cell_type": "code",
      "source": [
        "# models:\n",
        "model_checkpoint = \"google/mt5-small\"\n",
        "#model_checkpoint = \"IlyaGusev/mbart_ru_sum_gazeta\""
      ],
      "metadata": {
        "id": "r3dQyXj-aoGd"
      },
      "execution_count": null,
      "outputs": []
    },
    {
      "cell_type": "code",
      "source": [],
      "metadata": {
        "id": "ITA-vnoibFCA"
      },
      "execution_count": null,
      "outputs": []
    },
    {
      "cell_type": "markdown",
      "source": [
        "### токенизация данных:"
      ],
      "metadata": {
        "id": "6GESgw2auUPd"
      }
    },
    {
      "cell_type": "code",
      "source": [
        "from transformers import AutoTokenizer\n",
        "\n",
        "# грузим токенизатор под выбранную модель:\n",
        "tokenizer = AutoTokenizer.from_pretrained(model_checkpoint)\n",
        "\n",
        "# is fast:\n",
        "tokenizer.is_fast"
      ],
      "metadata": {
        "colab": {
          "base_uri": "https://localhost:8080/",
          "height": 269,
          "referenced_widgets": [
            "373337ecd86c4deba4e1c441aaa30c02",
            "844b181a9a1f4087ad04c4bb910d6a6d",
            "55039447201448e7a494bc4d1f66cea4",
            "36821d3361d84be881875f0620821635",
            "4c6fad2490684075b1207e58a8a9c213",
            "6354979f966541098a4eb679cc368cda",
            "46264b26c1d54a0f8cbe442767e21e98",
            "cc82cee0939a4ce7b1719e5656895a48",
            "a4601c7980674f15b517a2feba31f0e6",
            "f5e3afee6bee4fc4a3e82fb47c7096ab",
            "984228f0de1a49ad8de9f5e65a486010",
            "43b4e95f747341f6bde532a32d04b47d",
            "61ae32d1ea15496fab2a23c68bfaf3ac",
            "979196c37f4c4d39a3b4bbd54a9dfeb8",
            "c0c73459e5234f23aa3595f16005720e",
            "d61cf5ff48474470a01d4b8c5cc19a19",
            "3666c424d9134a40b91f9aa5687274a2",
            "0794ccbfa7c1448484d4ce2497a3f31e",
            "0dd01ae2cfae450b8fc616fb1503c200",
            "f924dd73437c4dfeb1840bd3d5afb0c6",
            "20595162a1b1424ca4813c362ea5a17e",
            "5e9b09826ca641f5b7fa9fb6168c0e9e",
            "e543b9a0764b4edababd333088cc2371",
            "7fb445e9c8bb492cbb518c10e16087c3",
            "edee227df18d4074a6a5a2eb95918048",
            "c90a741b68ca416c981bc8fbbe163b5d",
            "bf427b04a628417395ae43fdaa2ecdec",
            "f7cfd9b129b94a16a5c798f51d7db836",
            "194f7b709f0a435391016067195f1546",
            "f5fae58338dc4d138f82e76edf16c94e",
            "ee7ab7dcf18b4cdba2fe2bf6238cc1ae",
            "19e77372fd3c46e79777733107cb28c8",
            "be7d7c6690a8449dab3b4814984265f7",
            "3fa81932b70c4495975b56d988ef0dbb",
            "04b1ae5ea9124d02bc982fd9624c04e2",
            "2f374557d22c4b15b4fc908da8f683c0",
            "d15415404d6d4dc594efdd0356966a59",
            "3b148da7e16e465fafac4f05f0d63909",
            "d8cf8e5d018145c78b92f10779630cf8",
            "8fa9abd56df1404ea0117422983242d8",
            "2c3a51c261c54fb59c3d39f226d93809",
            "65083bc1b3f04a02a53db1b3b73a7186",
            "3be7ad2a99104957ba943701cdd48955",
            "5f9d50d434e94408abc1830e4faca79b"
          ]
        },
        "id": "yrIRVeXCaoUl",
        "outputId": "baae2193-b5fc-481e-fb67-a583fa2d7546"
      },
      "execution_count": null,
      "outputs": [
        {
          "output_type": "display_data",
          "data": {
            "text/plain": [
              "tokenizer_config.json:   0%|          | 0.00/82.0 [00:00<?, ?B/s]"
            ],
            "application/vnd.jupyter.widget-view+json": {
              "version_major": 2,
              "version_minor": 0,
              "model_id": "373337ecd86c4deba4e1c441aaa30c02"
            }
          },
          "metadata": {}
        },
        {
          "output_type": "display_data",
          "data": {
            "text/plain": [
              "config.json:   0%|          | 0.00/553 [00:00<?, ?B/s]"
            ],
            "application/vnd.jupyter.widget-view+json": {
              "version_major": 2,
              "version_minor": 0,
              "model_id": "43b4e95f747341f6bde532a32d04b47d"
            }
          },
          "metadata": {}
        },
        {
          "output_type": "display_data",
          "data": {
            "text/plain": [
              "spiece.model:   0%|          | 0.00/4.31M [00:00<?, ?B/s]"
            ],
            "application/vnd.jupyter.widget-view+json": {
              "version_major": 2,
              "version_minor": 0,
              "model_id": "e543b9a0764b4edababd333088cc2371"
            }
          },
          "metadata": {}
        },
        {
          "output_type": "display_data",
          "data": {
            "text/plain": [
              "special_tokens_map.json:   0%|          | 0.00/99.0 [00:00<?, ?B/s]"
            ],
            "application/vnd.jupyter.widget-view+json": {
              "version_major": 2,
              "version_minor": 0,
              "model_id": "3fa81932b70c4495975b56d988ef0dbb"
            }
          },
          "metadata": {}
        },
        {
          "output_type": "stream",
          "name": "stderr",
          "text": [
            "You are using the default legacy behaviour of the <class 'transformers.models.t5.tokenization_t5.T5Tokenizer'>. This is expected, and simply means that the `legacy` (previous) behavior will be used so nothing changes for you. If you want to use the new behaviour, set `legacy=False`. This should only be set if you understand what it means, and thoroughly read the reason why this was added as explained in https://github.com/huggingface/transformers/pull/24565\n",
            "/usr/local/lib/python3.10/dist-packages/transformers/tokenization_utils_base.py:1601: FutureWarning: `clean_up_tokenization_spaces` was not set. It will be set to `True` by default. This behavior will be depracted in transformers v4.45, and will be then set to `False` by default. For more details check this issue: https://github.com/huggingface/transformers/issues/31884\n",
            "  warnings.warn(\n",
            "/usr/local/lib/python3.10/dist-packages/transformers/convert_slow_tokenizer.py:551: UserWarning: The sentencepiece tokenizer that you are converting to a fast tokenizer uses the byte fallback option which is not implemented in the fast tokenizers. In practice this means that the fast version of the tokenizer can produce unknown tokens whereas the sentencepiece version would have converted these unknown tokens into a sequence of byte tokens matching the original piece of text.\n",
            "  warnings.warn(\n"
          ]
        },
        {
          "output_type": "execute_result",
          "data": {
            "text/plain": [
              "True"
            ]
          },
          "metadata": {},
          "execution_count": 14
        }
      ]
    },
    {
      "cell_type": "code",
      "source": [],
      "metadata": {
        "id": "1bmtm1sBIISX"
      },
      "execution_count": null,
      "outputs": []
    },
    {
      "cell_type": "code",
      "source": [
        "# сколько симвлов из all_chars будут непонятны для выбранного токенизатора:\n",
        "unk_chars = [char for char in all_chars if '<unk>' in tokenizer.convert_ids_to_tokens(tokenizer(char)[\"input_ids\"])]\n",
        "print('неизвестных символов:', len(unk_chars))\n",
        "unk_chars[:10]"
      ],
      "metadata": {
        "id": "qwIND52h4kwz",
        "colab": {
          "base_uri": "https://localhost:8080/"
        },
        "outputId": "9856248e-019b-4809-a55d-c7a8a12f813b"
      },
      "execution_count": null,
      "outputs": [
        {
          "output_type": "stream",
          "name": "stdout",
          "text": [
            "всего: 32 символов\n"
          ]
        },
        {
          "output_type": "execute_result",
          "data": {
            "text/plain": [
              "['🕕', '🟨', '🕤', '🕝', '🛎', '📯', '🕦', '🥱', '🕙', '⏸']"
            ]
          },
          "metadata": {},
          "execution_count": 23
        }
      ]
    },
    {
      "cell_type": "code",
      "source": [],
      "metadata": {
        "id": "2RVzG1faBVgA"
      },
      "execution_count": 1,
      "outputs": []
    },
    {
      "cell_type": "code",
      "source": [
        "#  для mT5 надо указать префикс, чтобы модель понимала какую задачу ей надо решать\n",
        "if model_checkpoint in [\"google/mt5-small\", \"google/mt5-base\"]:\n",
        "    prefix = \"summarize: \"  # 'суммировать: '  \"summarize: \"\n",
        "else:\n",
        "    prefix = \"\"\n",
        "\n",
        "prefix"
      ],
      "metadata": {
        "colab": {
          "base_uri": "https://localhost:8080/",
          "height": 35
        },
        "id": "2ys8mKBgaoXU",
        "outputId": "dc13a468-99cc-457b-8d3a-a644f5ddc213"
      },
      "execution_count": null,
      "outputs": [
        {
          "output_type": "execute_result",
          "data": {
            "text/plain": [
              "'summarize: '"
            ],
            "application/vnd.google.colaboratory.intrinsic+json": {
              "type": "string"
            }
          },
          "metadata": {},
          "execution_count": 15
        }
      ]
    },
    {
      "cell_type": "code",
      "source": [
        "# токенизируем статьи и саммари:\n",
        "\n",
        "# максимальное число токенов для статьи/саммари\n",
        "max_input_length = 512 # 1024\n",
        "max_target_length = 128\n",
        "\n",
        "def preprocess_function(examples):\n",
        "    # добавим prefix\n",
        "    examples['text'] = [prefix + doc for doc in examples[\"text\"]]\n",
        "    # input_ids + attention_mask:\n",
        "    model_inputs = tokenizer(examples['text'], max_length=max_input_length, truncation=True)\n",
        "\n",
        "    # labels:\n",
        "    labels = tokenizer(text_target=examples[\"summary\"], max_length=max_target_length, truncation=True)\n",
        "\n",
        "    model_inputs[\"labels\"] = labels[\"input_ids\"]\n",
        "    return model_inputs"
      ],
      "metadata": {
        "id": "nTTlCbUSaoaE"
      },
      "execution_count": null,
      "outputs": []
    },
    {
      "cell_type": "code",
      "source": [
        "# обработаем данные батчами:\n",
        "tokenized_datasets = dataset.map(preprocess_function, batched=True)"
      ],
      "metadata": {
        "colab": {
          "base_uri": "https://localhost:8080/",
          "height": 81,
          "referenced_widgets": [
            "a3624e9f6a5a453f85a5886bc2a98487",
            "e8dd692f24ff441fbc56bca18e95a20a",
            "08796b4da26b46129e1f2fa742678182",
            "7bb187a86cdd4af2b57adbdff09f5b68",
            "5b1985fc12214ade8eef0b07f979c5e6",
            "3e301b4b4ba244aea175d396ade5c0c0",
            "8a2df84534d54816811899bde212ade1",
            "06b33c1e6280465a880d16e7a57df22f",
            "b18164f2058640419861a1715830e434",
            "8679549959c74715bd7a0e04685482f7",
            "fa43341c107347f5a1928e2b84c883b4",
            "01fe6a666af2401e9752e004aa018683",
            "69ac8e35c6da4eb5af5787377605dc3c",
            "36de72b1036344b29306259bdcee94bc",
            "d5e37e6058534dec89735318d17af338",
            "7e0973fa282042448fe8dde1030772cf",
            "1b246fe6f77a4659bebaedb4b7460f96",
            "bccf305247dc4cdfb98be1d1200b80fa",
            "0df92aab6de54d0fb905267e5a06ef16",
            "0cbdcca5bd394718b866e3d682766ce3",
            "fc468ccc1d3d49a185948715b40a411d",
            "69c5de09c26c4ff49cf748bca8fb4d5a"
          ]
        },
        "id": "jlAjLenJaocs",
        "outputId": "9d05d04d-eccb-4705-f798-a40f7a48a774"
      },
      "execution_count": null,
      "outputs": [
        {
          "output_type": "display_data",
          "data": {
            "text/plain": [
              "Map:   0%|          | 0/13639 [00:00<?, ? examples/s]"
            ],
            "application/vnd.jupyter.widget-view+json": {
              "version_major": 2,
              "version_minor": 0,
              "model_id": "a3624e9f6a5a453f85a5886bc2a98487"
            }
          },
          "metadata": {}
        },
        {
          "output_type": "display_data",
          "data": {
            "text/plain": [
              "Map:   0%|          | 0/2408 [00:00<?, ? examples/s]"
            ],
            "application/vnd.jupyter.widget-view+json": {
              "version_major": 2,
              "version_minor": 0,
              "model_id": "01fe6a666af2401e9752e004aa018683"
            }
          },
          "metadata": {}
        }
      ]
    },
    {
      "cell_type": "code",
      "source": [
        "# prefix + text:\n",
        "for i in range(3):\n",
        "  print(tokenized_datasets['train']['text'][i][:128])"
      ],
      "metadata": {
        "colab": {
          "base_uri": "https://localhost:8080/"
        },
        "id": "OhwwsS3wJHXF",
        "outputId": "b049a3af-f1bb-4bc4-b9a9-e709fc28dee0"
      },
      "execution_count": null,
      "outputs": [
        {
          "output_type": "stream",
          "name": "stdout",
          "text": [
            "summarize: На молодёжном чемпионате мира по хоккею в Галифаксе и Монктоне завершилась четвертьфинальная стадия. Групповой этап п\n",
            "summarize: 8 января в матче 12-го тура российской женской Суперлиги краснодарское «Динамо» на своей площадке уверенно победило «\n",
            "summarize: 20:45. Андрей Воронцевич после матча удивил сообщением о том, что тренерский штаб, помимо тренировочной работы, собра\n"
          ]
        }
      ]
    },
    {
      "cell_type": "code",
      "source": [
        "# удалим текстовые данные + __index_level_0__\n",
        "tokenized_datasets = tokenized_datasets.remove_columns(['text', 'summary', '__index_level_0__'])"
      ],
      "metadata": {
        "id": "nYw6jY-kxA_J"
      },
      "execution_count": null,
      "outputs": []
    },
    {
      "cell_type": "code",
      "source": [
        "tokenized_datasets"
      ],
      "metadata": {
        "id": "rhWmG8wRaofk",
        "colab": {
          "base_uri": "https://localhost:8080/"
        },
        "outputId": "9c0e21c8-eede-48e5-ee0a-68f092b3e7e4"
      },
      "execution_count": null,
      "outputs": [
        {
          "output_type": "execute_result",
          "data": {
            "text/plain": [
              "DatasetDict({\n",
              "    train: Dataset({\n",
              "        features: ['input_ids', 'attention_mask', 'labels'],\n",
              "        num_rows: 13639\n",
              "    })\n",
              "    test: Dataset({\n",
              "        features: ['input_ids', 'attention_mask', 'labels'],\n",
              "        num_rows: 2408\n",
              "    })\n",
              "})"
            ]
          },
          "metadata": {},
          "execution_count": 20
        }
      ]
    },
    {
      "cell_type": "code",
      "source": [
        "# заценим распределение числа токенов в labels\n",
        "# прикинем, сколько токенов генерить для предсказаний (max_new_tokens и min_new_tokens):\n",
        "labels_num_tok = list(map(len, tokenized_datasets['train']['labels']))\n",
        "\n",
        "plt.hist(labels_num_tok, bins=30)\n",
        "plt.title('Распределение числа токенов для labels');"
      ],
      "metadata": {
        "colab": {
          "base_uri": "https://localhost:8080/",
          "height": 452
        },
        "id": "0FyMh65Maohs",
        "outputId": "6bf7513c-bcd4-49ff-cd7a-b6bd3126f67b"
      },
      "execution_count": null,
      "outputs": [
        {
          "output_type": "display_data",
          "data": {
            "text/plain": [
              "<Figure size 640x480 with 1 Axes>"
            ],
            "image/png": "[encoded data removed]"
          },
          "metadata": {}
        }
      ]
    },
    {
      "cell_type": "code",
      "source": [
        "# 35-80 токенов должно хватить, т.е. max_new_tokens=80, min_new_tokens=35"
      ],
      "metadata": {
        "id": "oUsHd-tBaok0"
      },
      "execution_count": null,
      "outputs": []
    },
    {
      "cell_type": "code",
      "source": [],
      "metadata": {
        "id": "J0eYcdQyaon8"
      },
      "execution_count": null,
      "outputs": []
    },
    {
      "cell_type": "markdown",
      "source": [
        "### импорт модели + data_collator"
      ],
      "metadata": {
        "id": "vfHbi6qizpl7"
      }
    },
    {
      "cell_type": "code",
      "source": [
        "from transformers import AutoModelForSeq2SeqLM, DataCollatorForSeq2Seq, MT5ForConditionalGeneration #, Seq2SeqTrainingArguments, Seq2SeqTrainer\n",
        "\n",
        "# импорт модели:\n",
        "model = AutoModelForSeq2SeqLM.from_pretrained(model_checkpoint)\n",
        "#model = MT5ForConditionalGeneration.from_pretrained(model_checkpoint)"
      ],
      "metadata": {
        "colab": {
          "base_uri": "https://localhost:8080/",
          "height": 81,
          "referenced_widgets": [
            "f161a21717be4d5491b99f093b9759b5",
            "16ecc47fa2614ea3aae666585e90af15",
            "531bf5f37d264935a2f060b2433b21ae",
            "cca1fceeb15c4c7ea8d19a7a2fbe7e4b",
            "d2fb3917cb144006a04a81ff1e1c0b75",
            "d9a71e5dbc0e47aaae7b467e5ced1698",
            "64594abcf88b47928d52d1875e72c167",
            "20bfeabce33345b8a2702be05148ef9f",
            "d41783346e6b4bf7a900ec2de0a1295b",
            "c096177d2d374d7abfe1cd6906177f00",
            "d75132e4ab714fe9aef041a0475ca9a9",
            "2f80cbdd86294c0ba46c1cf74a4e0495",
            "9d9aa00f3ac84e2bb3c0e2f4382cae40",
            "bfdd9ad363eb47ed8aedb0ad081d2910",
            "ddecd6f114114ff0b16cd29d157fdf81",
            "57bf3f33146e4cd8837e2719ba1cc0da",
            "1c4da08d22a34d0aa0e453456c47ae2c",
            "11bf645bbcc64751922a1e2f6c3f70ea",
            "97298700ca514d5192ffe65a53d885f8",
            "8cb2ea6f820a4008942b341e3a8a162a",
            "367ff63f576b4a23b83855f40e06846e",
            "1b9c96a96f324f04b624bd1e957f1a93"
          ]
        },
        "id": "Rv-qYq-T0mxp",
        "outputId": "08e3d499-37c7-4133-f1cc-596916d2fb0b"
      },
      "execution_count": null,
      "outputs": [
        {
          "output_type": "display_data",
          "data": {
            "text/plain": [
              "pytorch_model.bin:   0%|          | 0.00/1.20G [00:00<?, ?B/s]"
            ],
            "application/vnd.jupyter.widget-view+json": {
              "version_major": 2,
              "version_minor": 0,
              "model_id": "f161a21717be4d5491b99f093b9759b5"
            }
          },
          "metadata": {}
        },
        {
          "output_type": "display_data",
          "data": {
            "text/plain": [
              "generation_config.json:   0%|          | 0.00/147 [00:00<?, ?B/s]"
            ],
            "application/vnd.jupyter.widget-view+json": {
              "version_major": 2,
              "version_minor": 0,
              "model_id": "2f80cbdd86294c0ba46c1cf74a4e0495"
            }
          },
          "metadata": {}
        }
      ]
    },
    {
      "cell_type": "code",
      "source": [
        "# т.к. данные подаются в модель параллельно, они должны быть одной длины.\n",
        "# добить input_ids/labels pad_token'ми до одной длины нам поможет data_collator\n",
        "# + он заменит pad_token'ы на -100 в labels чтобы loss их игнорил, прям как ты свою бывшую (бывшего)\n",
        "data_collator = DataCollatorForSeq2Seq(tokenizer, model=model)"
      ],
      "metadata": {
        "id": "HgBJjtMJ0sYk"
      },
      "execution_count": null,
      "outputs": []
    },
    {
      "cell_type": "code",
      "source": [],
      "metadata": {
        "id": "D4Nd84ScB-vX"
      },
      "execution_count": null,
      "outputs": []
    },
    {
      "cell_type": "markdown",
      "source": [
        "### dataloaders:"
      ],
      "metadata": {
        "id": "l6WO5T-a08M7"
      }
    },
    {
      "cell_type": "code",
      "source": [
        "from torch.utils.data import DataLoader"
      ],
      "metadata": {
        "id": "pEAEvbKm0xDX"
      },
      "execution_count": null,
      "outputs": []
    },
    {
      "cell_type": "code",
      "source": [
        "BATCH_SIZE=8"
      ],
      "metadata": {
        "id": "oMcV_bda1Oeq"
      },
      "execution_count": null,
      "outputs": []
    },
    {
      "cell_type": "code",
      "source": [
        "train_loader = DataLoader(tokenized_datasets['train'],\n",
        "                          batch_size=BATCH_SIZE,\n",
        "                          shuffle=True,\n",
        "                          collate_fn=data_collator)\n",
        "\n",
        "\n",
        "test_loader = DataLoader(tokenized_datasets['test'],\n",
        "                          batch_size=2*BATCH_SIZE,\n",
        "                          shuffle=False,\n",
        "                          collate_fn=data_collator)"
      ],
      "metadata": {
        "id": "J8n7INar1LJZ"
      },
      "execution_count": null,
      "outputs": []
    },
    {
      "cell_type": "code",
      "source": [
        "# работает ли?\n",
        "for x_batch in test_loader:\n",
        "  break\n",
        "{k: v.shape for k,v in x_batch.items()}"
      ],
      "metadata": {
        "colab": {
          "base_uri": "https://localhost:8080/"
        },
        "id": "csDoeLtQ1ZGy",
        "outputId": "f2bbc593-e506-41bb-999b-855ee9151276"
      },
      "execution_count": null,
      "outputs": [
        {
          "output_type": "execute_result",
          "data": {
            "text/plain": [
              "{'input_ids': torch.Size([16, 512]),\n",
              " 'attention_mask': torch.Size([16, 512]),\n",
              " 'labels': torch.Size([16, 70]),\n",
              " 'decoder_input_ids': torch.Size([16, 70])}"
            ]
          },
          "metadata": {},
          "execution_count": 26
        }
      ]
    },
    {
      "cell_type": "code",
      "source": [
        "# -100 в labels:\n",
        "x_batch['labels'][:2]"
      ],
      "metadata": {
        "colab": {
          "base_uri": "https://localhost:8080/"
        },
        "id": "ZwsOXZxp1hQ6",
        "outputId": "dae30b12-8d10-4d87-93aa-0010a6e359d4"
      },
      "execution_count": null,
      "outputs": [
        {
          "output_type": "execute_result",
          "data": {
            "text/plain": [
              "tensor([[  4716,  19340,    433, 145524,    507, 101678,  15566,    279,    259,\n",
              "            668,  10994,    401,  12601,  10263,    260,  32452,   1633,  43325,\n",
              "            946, 118289,   2007, 113722,    748,    315,    404, 220586,   4832,\n",
              "           1836,    259,  15088,    259,   4150,  13703,   2007,  32409,   6148,\n",
              "          63235,  98808,    259,    279,    892,    259,    324,  23390,   6824,\n",
              "          27492, 163269,  20593,    260,      1,   -100,   -100,   -100,   -100,\n",
              "           -100,   -100,   -100,   -100,   -100,   -100,   -100,   -100,   -100,\n",
              "           -100,   -100,   -100,   -100,   -100,   -100,   -100],\n",
              "        [  3461,   1348,  45315,    261,  19973,   4599,   1436,    291,    259,\n",
              "          52911,    817,  18361,    995,   1311,  11167,    661,    259,  15354,\n",
              "           1285,    605,    309,    983,  55421,    657,    374,  96331,    264,\n",
              "          16296,    259, 140839,    308,    260,    867,  91288,  19138,   4229,\n",
              "          44829,   1008,  75149,    261,   1767,  10318,   1108,   5107,  18361,\n",
              "            995,    552, 105095,    279,    388,  13676,   6035,    259,  13084,\n",
              "          97822,    260,      1,   -100,   -100,   -100,   -100,   -100,   -100,\n",
              "           -100,   -100,   -100,   -100,   -100,   -100,   -100]])"
            ]
          },
          "metadata": {},
          "execution_count": 28
        }
      ]
    },
    {
      "cell_type": "code",
      "source": [],
      "metadata": {
        "id": "5eDFw_We1zyS"
      },
      "execution_count": null,
      "outputs": []
    },
    {
      "cell_type": "markdown",
      "source": [
        "### метрики качества:"
      ],
      "metadata": {
        "id": "ozmiojc_15X6"
      }
    },
    {
      "cell_type": "code",
      "source": [
        "# оценивать качество сгенерированного текста будем по двум метрикам: rouge и meteor"
      ],
      "metadata": {
        "id": "q4rjvJX33s0T"
      },
      "execution_count": null,
      "outputs": []
    },
    {
      "cell_type": "code",
      "source": [
        "def compute_metrics(eval_pred):\n",
        "    predictions, labels = eval_pred\n",
        "\n",
        "    # Replace -100 in the predictions as we can't decode them.\n",
        "    #predictions = [np.where(l != -100, l, tokenizer.pad_token_id) for l in predictions]\n",
        "    decoded_preds = tokenizer.batch_decode(predictions, skip_special_tokens=True)\n",
        "\n",
        "    # Replace -100 in the labels as we can't decode them.\n",
        "    labels = [np.where(l != -100, l, tokenizer.pad_token_id) for l in labels]\n",
        "    decoded_labels = tokenizer.batch_decode(labels, skip_special_tokens=True)\n",
        "\n",
        "    # Rouge expects a newline after each sentence\n",
        "    decoded_preds = [\"\\n\".join(nltk.sent_tokenize(pred.strip())) for pred in decoded_preds]\n",
        "    decoded_labels = [\"\\n\".join(nltk.sent_tokenize(label.strip())) for label in decoded_labels]\n",
        "\n",
        "    result = rouge_metric.compute(predictions=decoded_preds, references=decoded_labels, use_stemmer=True)\n",
        "\n",
        "    # Add mean generated length\n",
        "    #prediction_lens = [np.count_nonzero(pred != tokenizer.pad_token_id) for pred in predictions]\n",
        "    #result[\"gen_len\"] = np.mean(prediction_lens)\n",
        "\n",
        "    result.update(meteor_metric.compute(predictions=decoded_preds, references=decoded_labels))\n",
        "    return {k: round(100*v, 4) for k, v in result.items()}"
      ],
      "metadata": {
        "id": "1SMNDYwB1_Fp"
      },
      "execution_count": null,
      "outputs": []
    },
    {
      "cell_type": "code",
      "source": [],
      "metadata": {
        "id": "dRcKUabV1_mE"
      },
      "execution_count": null,
      "outputs": []
    },
    {
      "cell_type": "markdown",
      "source": [
        "### model to GPU/CPU:"
      ],
      "metadata": {
        "id": "YHHs_7bs4Nfi"
      }
    },
    {
      "cell_type": "code",
      "source": [
        "import torch\n",
        "from torch.optim import AdamW\n",
        "from transformers import get_linear_schedule_with_warmup\n",
        "from tqdm import tqdm"
      ],
      "metadata": {
        "id": "ypnCO-zP1_pD"
      },
      "execution_count": null,
      "outputs": []
    },
    {
      "cell_type": "code",
      "source": [
        "# device:\n",
        "device = torch.device(\"cuda\" if torch.cuda.is_available() else \"cpu\")\n",
        "device"
      ],
      "metadata": {
        "colab": {
          "base_uri": "https://localhost:8080/"
        },
        "id": "GO03rSip4J9i",
        "outputId": "d8b5263f-35fb-4a3b-848d-64a86408caf6"
      },
      "execution_count": null,
      "outputs": [
        {
          "output_type": "execute_result",
          "data": {
            "text/plain": [
              "device(type='cuda')"
            ]
          },
          "metadata": {},
          "execution_count": 28
        }
      ]
    },
    {
      "cell_type": "code",
      "source": [
        "model.to(device)"
      ],
      "metadata": {
        "collapsed": true,
        "id": "r_IXLv4W4L-i",
        "colab": {
          "base_uri": "https://localhost:8080/"
        },
        "outputId": "ba2eceb5-0338-429f-f996-e3cef988f90a"
      },
      "execution_count": null,
      "outputs": [
        {
          "output_type": "execute_result",
          "data": {
            "text/plain": [
              "MT5ForConditionalGeneration(\n",
              "  (shared): Embedding(250112, 512)\n",
              "  (encoder): MT5Stack(\n",
              "    (embed_tokens): Embedding(250112, 512)\n",
              "    (block): ModuleList(\n",
              "      (0): MT5Block(\n",
              "        (layer): ModuleList(\n",
              "          (0): MT5LayerSelfAttention(\n",
              "            (SelfAttention): MT5Attention(\n",
              "              (q): Linear(in_features=512, out_features=384, bias=False)\n",
              "              (k): Linear(in_features=512, out_features=384, bias=False)\n",
              "              (v): Linear(in_features=512, out_features=384, bias=False)\n",
              "              (o): Linear(in_features=384, out_features=512, bias=False)\n",
              "              (relative_attention_bias): Embedding(32, 6)\n",
              "            )\n",
              "            (layer_norm): MT5LayerNorm()\n",
              "            (dropout): Dropout(p=0.1, inplace=False)\n",
              "          )\n",
              "          (1): MT5LayerFF(\n",
              "            (DenseReluDense): MT5DenseGatedActDense(\n",
              "              (wi_0): Linear(in_features=512, out_features=1024, bias=False)\n",
              "              (wi_1): Linear(in_features=512, out_features=1024, bias=False)\n",
              "              (wo): Linear(in_features=1024, out_features=512, bias=False)\n",
              "              (dropout): Dropout(p=0.1, inplace=False)\n",
              "              (act): NewGELUActivation()\n",
              "            )\n",
              "            (layer_norm): MT5LayerNorm()\n",
              "            (dropout): Dropout(p=0.1, inplace=False)\n",
              "          )\n",
              "        )\n",
              "      )\n",
              "      (1-7): 7 x MT5Block(\n",
              "        (layer): ModuleList(\n",
              "          (0): MT5LayerSelfAttention(\n",
              "            (SelfAttention): MT5Attention(\n",
              "              (q): Linear(in_features=512, out_features=384, bias=False)\n",
              "              (k): Linear(in_features=512, out_features=384, bias=False)\n",
              "              (v): Linear(in_features=512, out_features=384, bias=False)\n",
              "              (o): Linear(in_features=384, out_features=512, bias=False)\n",
              "            )\n",
              "            (layer_norm): MT5LayerNorm()\n",
              "            (dropout): Dropout(p=0.1, inplace=False)\n",
              "          )\n",
              "          (1): MT5LayerFF(\n",
              "            (DenseReluDense): MT5DenseGatedActDense(\n",
              "              (wi_0): Linear(in_features=512, out_features=1024, bias=False)\n",
              "              (wi_1): Linear(in_features=512, out_features=1024, bias=False)\n",
              "              (wo): Linear(in_features=1024, out_features=512, bias=False)\n",
              "              (dropout): Dropout(p=0.1, inplace=False)\n",
              "              (act): NewGELUActivation()\n",
              "            )\n",
              "            (layer_norm): MT5LayerNorm()\n",
              "            (dropout): Dropout(p=0.1, inplace=False)\n",
              "          )\n",
              "        )\n",
              "      )\n",
              "    )\n",
              "    (final_layer_norm): MT5LayerNorm()\n",
              "    (dropout): Dropout(p=0.1, inplace=False)\n",
              "  )\n",
              "  (decoder): MT5Stack(\n",
              "    (embed_tokens): Embedding(250112, 512)\n",
              "    (block): ModuleList(\n",
              "      (0): MT5Block(\n",
              "        (layer): ModuleList(\n",
              "          (0): MT5LayerSelfAttention(\n",
              "            (SelfAttention): MT5Attention(\n",
              "              (q): Linear(in_features=512, out_features=384, bias=False)\n",
              "              (k): Linear(in_features=512, out_features=384, bias=False)\n",
              "              (v): Linear(in_features=512, out_features=384, bias=False)\n",
              "              (o): Linear(in_features=384, out_features=512, bias=False)\n",
              "              (relative_attention_bias): Embedding(32, 6)\n",
              "            )\n",
              "            (layer_norm): MT5LayerNorm()\n",
              "            (dropout): Dropout(p=0.1, inplace=False)\n",
              "          )\n",
              "          (1): MT5LayerCrossAttention(\n",
              "            (EncDecAttention): MT5Attention(\n",
              "              (q): Linear(in_features=512, out_features=384, bias=False)\n",
              "              (k): Linear(in_features=512, out_features=384, bias=False)\n",
              "              (v): Linear(in_features=512, out_features=384, bias=False)\n",
              "              (o): Linear(in_features=384, out_features=512, bias=False)\n",
              "            )\n",
              "            (layer_norm): MT5LayerNorm()\n",
              "            (dropout): Dropout(p=0.1, inplace=False)\n",
              "          )\n",
              "          (2): MT5LayerFF(\n",
              "            (DenseReluDense): MT5DenseGatedActDense(\n",
              "              (wi_0): Linear(in_features=512, out_features=1024, bias=False)\n",
              "              (wi_1): Linear(in_features=512, out_features=1024, bias=False)\n",
              "              (wo): Linear(in_features=1024, out_features=512, bias=False)\n",
              "              (dropout): Dropout(p=0.1, inplace=False)\n",
              "              (act): NewGELUActivation()\n",
              "            )\n",
              "            (layer_norm): MT5LayerNorm()\n",
              "            (dropout): Dropout(p=0.1, inplace=False)\n",
              "          )\n",
              "        )\n",
              "      )\n",
              "      (1-7): 7 x MT5Block(\n",
              "        (layer): ModuleList(\n",
              "          (0): MT5LayerSelfAttention(\n",
              "            (SelfAttention): MT5Attention(\n",
              "              (q): Linear(in_features=512, out_features=384, bias=False)\n",
              "              (k): Linear(in_features=512, out_features=384, bias=False)\n",
              "              (v): Linear(in_features=512, out_features=384, bias=False)\n",
              "              (o): Linear(in_features=384, out_features=512, bias=False)\n",
              "            )\n",
              "            (layer_norm): MT5LayerNorm()\n",
              "            (dropout): Dropout(p=0.1, inplace=False)\n",
              "          )\n",
              "          (1): MT5LayerCrossAttention(\n",
              "            (EncDecAttention): MT5Attention(\n",
              "              (q): Linear(in_features=512, out_features=384, bias=False)\n",
              "              (k): Linear(in_features=512, out_features=384, bias=False)\n",
              "              (v): Linear(in_features=512, out_features=384, bias=False)\n",
              "              (o): Linear(in_features=384, out_features=512, bias=False)\n",
              "            )\n",
              "            (layer_norm): MT5LayerNorm()\n",
              "            (dropout): Dropout(p=0.1, inplace=False)\n",
              "          )\n",
              "          (2): MT5LayerFF(\n",
              "            (DenseReluDense): MT5DenseGatedActDense(\n",
              "              (wi_0): Linear(in_features=512, out_features=1024, bias=False)\n",
              "              (wi_1): Linear(in_features=512, out_features=1024, bias=False)\n",
              "              (wo): Linear(in_features=1024, out_features=512, bias=False)\n",
              "              (dropout): Dropout(p=0.1, inplace=False)\n",
              "              (act): NewGELUActivation()\n",
              "            )\n",
              "            (layer_norm): MT5LayerNorm()\n",
              "            (dropout): Dropout(p=0.1, inplace=False)\n",
              "          )\n",
              "        )\n",
              "      )\n",
              "    )\n",
              "    (final_layer_norm): MT5LayerNorm()\n",
              "    (dropout): Dropout(p=0.1, inplace=False)\n",
              "  )\n",
              "  (lm_head): Linear(in_features=512, out_features=250112, bias=False)\n",
              ")"
            ]
          },
          "metadata": {},
          "execution_count": 29
        }
      ]
    },
    {
      "cell_type": "code",
      "source": [],
      "metadata": {
        "id": "CdpcvfksCLOI"
      },
      "execution_count": null,
      "outputs": []
    },
    {
      "cell_type": "markdown",
      "source": [
        "### оценим кач-во модели без fine-tuning'а"
      ],
      "metadata": {
        "id": "fFmxXt1p1_0M"
      }
    },
    {
      "cell_type": "code",
      "source": [
        "# оценим суммаризацию статей без дообучения"
      ],
      "metadata": {
        "id": "fp76yhEO46M4"
      },
      "execution_count": null,
      "outputs": []
    },
    {
      "cell_type": "code",
      "source": [
        "# eval:\n",
        "datasets = {'test': test_loader}\n",
        "#_ = 0\n",
        "\n",
        "model.eval()\n",
        "for name, dataset in datasets.items():\n",
        "  eval_pred = []\n",
        "  eval_true = []\n",
        "  for x_batch in tqdm(dataset):\n",
        "    #_ += 1\n",
        "    x_batch = {k: v.to(device) for k,v in x_batch.items()}\n",
        "    with torch.no_grad():\n",
        "      output = model.generate(**{k: v for k,v in x_batch.items() if k in ('input_ids', 'attention_mask')},\n",
        "                             max_new_tokens=80,\n",
        "                             min_new_tokens=35,\n",
        "                             num_beams=2)\n",
        "\n",
        "    y_pred = output.cpu().numpy()\n",
        "    y_true = x_batch['labels'].cpu().numpy()\n",
        "    eval_pred.extend(y_pred)\n",
        "    eval_true.extend(y_true)\n",
        "\n",
        "    #if _ == 50:\n",
        "    #  break\n",
        "\n",
        "  # evaluate metrics:\n",
        "  scores = compute_metrics((eval_pred, eval_true))\n",
        "  print(model_checkpoint)\n",
        "  print(scores)"
      ],
      "metadata": {
        "colab": {
          "base_uri": "https://localhost:8080/"
        },
        "id": "ry7gTuD62IQX",
        "outputId": "613252e1-8e05-4377-e728-b31a98350011"
      },
      "execution_count": null,
      "outputs": [
        {
          "output_type": "stream",
          "name": "stderr",
          "text": [
            "100%|██████████| 151/151 [04:58<00:00,  1.98s/it]\n"
          ]
        },
        {
          "output_type": "stream",
          "name": "stdout",
          "text": [
            "google/mt5-small\n",
            "{'rouge1': 1.6009, 'rouge2': 0.3463, 'rougeL': 1.5889, 'rougeLsum': 1.6084, 'meteor': 5.9037}\n"
          ]
        }
      ]
    },
    {
      "cell_type": "code",
      "source": [
        "#                                    google/mt5-small:\n",
        "# {'rouge1': 1.6009, 'rouge2': 0.3463, 'rougeL': 1.5889, 'rougeLsum': 1.6084, 'meteor': 5.9037}\n"
      ],
      "metadata": {
        "id": "XJuls2QG2JNz"
      },
      "execution_count": null,
      "outputs": []
    },
    {
      "cell_type": "code",
      "source": [
        "# примеры генерации текста на примере последнего батча:\n",
        "text_gen = tokenizer.batch_decode(y_pred, skip_special_tokens=True)"
      ],
      "metadata": {
        "id": "ehfdF_L02JGb"
      },
      "execution_count": null,
      "outputs": []
    },
    {
      "cell_type": "code",
      "source": [
        "text_gen"
      ],
      "metadata": {
        "colab": {
          "base_uri": "https://localhost:8080/"
        },
        "id": "-2coyK6p6lAu",
        "outputId": "3ba6c40e-67aa-4ab2-94a4-d9c7226f8b2b"
      },
      "execution_count": null,
      "outputs": [
        {
          "output_type": "execute_result",
          "data": {
            "text/plain": [
              "['<extra_id_0> СКА снова в плей-офф. СКА снова в плей-офф. СКА снова в плей-офф. СКА снова в плей-офф',\n",
              " '<extra_id_0> и почему. Рейтинг. Рейтинг. Рейтинг. Рейтинг. Рейтинг. Рейтинг. Рейтинг. Рейтинг. Рейтинг. Рейтинг.',\n",
              " '<extra_id_0> и почему? Это и есть именно так. Это и есть именно так. Это и есть именно так.',\n",
              " '<extra_id_0> не зря. Читать далее → Читать далее → Читать далее → Читать далее → Читать далее → Читать далее →',\n",
              " '<extra_id_0> оказался лучшим результатом встречи с «Акроном». Футболисты «Спартак» перед матчем с «Акроном» снова',\n",
              " '<extra_id_0> на финал чемпионата мира по хоккею-2023 наступила пора решающих матчей. ФОТО: ИНТЕРНЕТ-ФОНД.РФ. <extra_id_9>',\n",
              " '<extra_id_0> точно. UFC 284 UFC 284 UFC 284 UFC 284 UFC 284 UFC 284 UFC 284 UFC 284 UFC 284 UFC 284 UFC 284',\n",
              " '<extra_id_0> Грин. Что хозяева стали: «Лейкерс» против 1 из 20 (55%). «Лейкерс» против 1 из 20 (55%).']"
            ]
          },
          "metadata": {},
          "execution_count": 34
        }
      ]
    },
    {
      "cell_type": "code",
      "source": [],
      "metadata": {
        "id": "6ikv63KM6rcm"
      },
      "execution_count": null,
      "outputs": []
    },
    {
      "cell_type": "markdown",
      "source": [
        "### fine-tuning модели:"
      ],
      "metadata": {
        "id": "2WbYCnH42JVT"
      }
    },
    {
      "cell_type": "code",
      "source": [
        "# optimizer:\n",
        "optim = AdamW(params=model.parameters(), lr=3e-4, weight_decay=0.01)"
      ],
      "metadata": {
        "id": "NPBZ7Nqf2NaT"
      },
      "execution_count": null,
      "outputs": []
    },
    {
      "cell_type": "code",
      "source": [
        "# scheduler:\n",
        "# линейно уменьшаем темп обучения (lr)\n",
        "N_epochs = 2\n",
        "n_train_steps = len(train_loader) * (N_epochs + 1)\n",
        "\n",
        "lr_scheduler = get_linear_schedule_with_warmup(\n",
        "    optimizer=optim,\n",
        "    num_warmup_steps=0,\n",
        "    num_training_steps=n_train_steps)"
      ],
      "metadata": {
        "id": "P633W9Mg85ho"
      },
      "execution_count": null,
      "outputs": []
    },
    {
      "cell_type": "code",
      "source": [
        "# train/eval loops:\n",
        "loss_hist = [] # train loss history\n",
        "#eval_loss_hist = [] # train loss history\n",
        "N_samples_eval = len(test_loader)\n",
        "N_samples_train = len(train_loader)\n",
        "\n",
        "for epoch in range(1, N_epochs+1):\n",
        "  train_loss = 0\n",
        "  model.train()\n",
        "  for x_batch in tqdm(train_loader):\n",
        "    # to device:\n",
        "    x_batch = {k: v.to(device) for k,v in x_batch.items()}\n",
        "\n",
        "    optim.zero_grad()\n",
        "    output = model(**x_batch)\n",
        "    output['loss'].backward()\n",
        "    # clip grads:\n",
        "    #torch.nn.utils.clip_grad_norm_(model.parameters(), 1.0)\n",
        "\n",
        "    optim.step()\n",
        "\n",
        "    # get and save loss:\n",
        "    loss = output['loss'].detach().cpu().item()\n",
        "    loss_hist.append(loss)\n",
        "    train_loss += loss\n",
        "\n",
        "    # scheduler step:\n",
        "    lr_scheduler.step()\n",
        "\n",
        "  #_ = 0\n",
        "\n",
        "  # eval:\n",
        "  eval_pred = []\n",
        "  eval_true = []\n",
        "  model.eval()\n",
        "  for x_batch in tqdm(test_loader):\n",
        "    #_ += 1\n",
        "    x_batch = {k: v.to(device) for k,v in x_batch.items()}\n",
        "    with torch.no_grad():\n",
        "      output = model.generate(**{k: v for k,v in x_batch.items() if k in ('input_ids', 'attention_mask')},\n",
        "                              max_new_tokens=80,\n",
        "                              min_new_tokens=35,\n",
        "                              num_beams=2\n",
        "      )\n",
        "    y_pred = output.cpu().numpy()\n",
        "    y_true = x_batch['labels'].cpu().numpy()\n",
        "    eval_pred.extend(y_pred)\n",
        "    eval_true.extend(y_true)\n",
        "\n",
        "    #if _ == 50:\n",
        "    #  break\n",
        "  # evaluate metrics:\n",
        "  scores = compute_metrics((eval_pred, eval_true))\n",
        "\n",
        "  print(f'\\nepoch: {epoch}')\n",
        "  print(f'train loss: {round(train_loss/N_samples_train, 5)}')\n",
        "  print(scores)\n",
        "  print()"
      ],
      "metadata": {
        "id": "HPG-Thqe881Y",
        "colab": {
          "base_uri": "https://localhost:8080/"
        },
        "outputId": "9c2fba83-bbac-4554-8442-78ea8513d84a"
      },
      "execution_count": null,
      "outputs": [
        {
          "output_type": "stream",
          "name": "stderr",
          "text": [
            "100%|██████████| 1705/1705 [17:07<00:00,  1.66it/s]\n",
            "100%|██████████| 151/151 [06:00<00:00,  2.39s/it]\n"
          ]
        },
        {
          "output_type": "stream",
          "name": "stdout",
          "text": [
            "\n",
            "epoch: 1\n",
            "train loss: 4.87551\n",
            "{'rouge1': 5.2121, 'rouge2': 1.2947, 'rougeL': 5.213, 'rougeLsum': 5.1966, 'meteor': 12.1607}\n",
            "\n"
          ]
        },
        {
          "output_type": "stream",
          "name": "stderr",
          "text": [
            "100%|██████████| 1705/1705 [17:08<00:00,  1.66it/s]\n",
            "100%|██████████| 151/151 [06:12<00:00,  2.47s/it]\n"
          ]
        },
        {
          "output_type": "stream",
          "name": "stdout",
          "text": [
            "\n",
            "epoch: 2\n",
            "train loss: 3.80835\n",
            "{'rouge1': 5.4517, 'rouge2': 1.1386, 'rougeL': 5.4611, 'rougeLsum': 5.4181, 'meteor': 13.098}\n",
            "\n"
          ]
        }
      ]
    },
    {
      "cell_type": "code",
      "source": [
        "# качество суммаризации очень не очень, но прогресс, в сравнении с тем что было до fine-tuning'а, есть))"
      ],
      "metadata": {
        "id": "I1mQTgaJAuYM"
      },
      "execution_count": null,
      "outputs": []
    },
    {
      "cell_type": "code",
      "source": [
        "#                                          google/mt5-small:\n",
        "# epoch: 1\n",
        "# train loss: 4.87551\n",
        "# {'rouge1': 5.2121, 'rouge2': 1.2947, 'rougeL': 5.213, 'rougeLsum': 5.1966, 'meteor': 12.1607}\n",
        "\n",
        "# epoch: 2\n",
        "# train loss: 3.80835\n",
        "# {'rouge1': 5.4517, 'rouge2': 1.1386, 'rougeL': 5.4611, 'rougeLsum': 5.4181, 'meteor': 13.098}"
      ],
      "metadata": {
        "id": "Bb7x3GvIAdQd"
      },
      "execution_count": null,
      "outputs": []
    },
    {
      "cell_type": "code",
      "source": [
        "plt.plot(loss_hist)\n",
        "plt.title('Train loss history')\n",
        "plt.xlabel('# iter')\n",
        "plt.ylabel('loss');"
      ],
      "metadata": {
        "id": "3Wyzi_3l9OG1",
        "outputId": "f0291f5b-f73d-4780-ce17-a6629e144535",
        "colab": {
          "base_uri": "https://localhost:8080/",
          "height": 472
        }
      },
      "execution_count": null,
      "outputs": [
        {
          "output_type": "display_data",
          "data": {
            "text/plain": [
              "<Figure size 640x480 with 1 Axes>"
            ],
            "image/png": "[encoded data removed]"
          },
          "metadata": {}
        }
      ]
    },
    {
      "cell_type": "code",
      "source": [
        "# примеры генерации текста из последнего батча:\n",
        "text_gen = tokenizer.batch_decode(y_pred, skip_special_tokens=True)"
      ],
      "metadata": {
        "id": "bck_ukjf9F3I"
      },
      "execution_count": null,
      "outputs": []
    },
    {
      "cell_type": "code",
      "source": [
        "# google/mt5-small:\n",
        "text_gen"
      ],
      "metadata": {
        "colab": {
          "base_uri": "https://localhost:8080/"
        },
        "id": "5O8rnURYHEJ_",
        "outputId": "783ee49d-d446-41b3-a5fb-7b8d732d21e8"
      },
      "execution_count": null,
      "outputs": [
        {
          "output_type": "execute_result",
          "data": {
            "text/plain": [
              "['«Динамо» и СКА всё равно не будет. В российском баскетболе и российском баскетболе и российском баскетболе и российском баскетболе.',\n",
              " '«Зенит» выиграл лучший трансфер в истории «Зенита». Португалец в истории «Зенита» в истории «Зенита».',\n",
              " '«Всё важно». Российские звезды уже не стали лучшими. Российские звезды уже не смогли побить рекорд Гретцки.',\n",
              " '«Альфа Таури» и «Феррари» и «Феррари» и «Феррари» и «Феррари» и «Уильямс» и «Уильямс» и «Уильямс» и «Уильямс» и «Уильямс» и «Уильямс»',\n",
              " '«Спартак» выбил красно-белых из Кубка России. «Спартак» снова выбил красно-белых из Кубка России. «Спартак» продолжает подготовку к новому сезону РПЛ.',\n",
              " 'В финале чемпионата мира по хоккею – 2023. Что происходит на ЧМ-2023? Что происходит на ЧМ-2023? Что происходит на ЧМ-2023?',\n",
              " '«Уайт» и Волкановски уже получил $ 1,2 млн. Ислам Махачев и Волкановски уже не смогли сделать деньги.',\n",
              " '«Голден Стэйт» выиграл в финале плей-офф НХЛ. «Лейкерс» выиграли в плей-офф НХЛ. «Голден Стэйт» выиграл в финале плей-офф НХЛ.']"
            ]
          },
          "metadata": {},
          "execution_count": 40
        }
      ]
    },
    {
      "cell_type": "code",
      "source": [
        "# сделать больше эпох, обрезать градиенты, подобрать гиперпараметры оптимизатора и scheduler'a ...\n",
        "# To be continued..."
      ],
      "metadata": {
        "id": "rfeZ28ybHEwO"
      },
      "execution_count": null,
      "outputs": []
    }
  ]
}