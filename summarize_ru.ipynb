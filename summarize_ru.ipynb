{
  "nbformat": 4,
  "nbformat_minor": 0,
  "metadata": {
    "colab": {
      "provenance": [],
      "gpuType": "T4",
      "authorship_tag": "ABX9TyMdNGzB1yzZ0ZwMAv+3/O1w",
      "include_colab_link": true
    },
    "kernelspec": {
      "name": "python3",
      "display_name": "Python 3"
    },
    "language_info": {
      "name": "python"
    },
    "widgets": {
      "application/vnd.jupyter.widget-state+json": {
        "ff5148e519f1415894fae25cb975ccf2": {
          "model_module": "@jupyter-widgets/controls",
          "model_name": "HBoxModel",
          "model_module_version": "1.5.0",
          "state": {
            "_dom_classes": [],
            "_model_module": "@jupyter-widgets/controls",
            "_model_module_version": "1.5.0",
            "_model_name": "HBoxModel",
            "_view_count": null,
            "_view_module": "@jupyter-widgets/controls",
            "_view_module_version": "1.5.0",
            "_view_name": "HBoxView",
            "box_style": "",
            "children": [
              "IPY_MODEL_a3b97b722d2f4bc98c80a7268e7193d9",
              "IPY_MODEL_f7cd3f60604a42598479d2812e23f5ae",
              "IPY_MODEL_32803801f3d64dcd90ec037bf0969b52"
            ],
            "layout": "IPY_MODEL_da114e37921c4ed38ba7a2964843f811"
          }
        },
        "a3b97b722d2f4bc98c80a7268e7193d9": {
          "model_module": "@jupyter-widgets/controls",
          "model_name": "HTMLModel",
          "model_module_version": "1.5.0",
          "state": {
            "_dom_classes": [],
            "_model_module": "@jupyter-widgets/controls",
            "_model_module_version": "1.5.0",
            "_model_name": "HTMLModel",
            "_view_count": null,
            "_view_module": "@jupyter-widgets/controls",
            "_view_module_version": "1.5.0",
            "_view_name": "HTMLView",
            "description": "",
            "description_tooltip": null,
            "layout": "IPY_MODEL_0e38ef14a81b47949cf7ae928864e9d8",
            "placeholder": "​",
            "style": "IPY_MODEL_419d81cb089145d8b1de27c8fc2a370b",
            "value": "Map: 100%"
          }
        },
        "f7cd3f60604a42598479d2812e23f5ae": {
          "model_module": "@jupyter-widgets/controls",
          "model_name": "FloatProgressModel",
          "model_module_version": "1.5.0",
          "state": {
            "_dom_classes": [],
            "_model_module": "@jupyter-widgets/controls",
            "_model_module_version": "1.5.0",
            "_model_name": "FloatProgressModel",
            "_view_count": null,
            "_view_module": "@jupyter-widgets/controls",
            "_view_module_version": "1.5.0",
            "_view_name": "ProgressView",
            "bar_style": "success",
            "description": "",
            "description_tooltip": null,
            "layout": "IPY_MODEL_cefae76be1704d3fb8e6cefb3edaa540",
            "max": 1842,
            "min": 0,
            "orientation": "horizontal",
            "style": "IPY_MODEL_6f34a685c3f3400ab0aeac958c503b12",
            "value": 1842
          }
        },
        "32803801f3d64dcd90ec037bf0969b52": {
          "model_module": "@jupyter-widgets/controls",
          "model_name": "HTMLModel",
          "model_module_version": "1.5.0",
          "state": {
            "_dom_classes": [],
            "_model_module": "@jupyter-widgets/controls",
            "_model_module_version": "1.5.0",
            "_model_name": "HTMLModel",
            "_view_count": null,
            "_view_module": "@jupyter-widgets/controls",
            "_view_module_version": "1.5.0",
            "_view_name": "HTMLView",
            "description": "",
            "description_tooltip": null,
            "layout": "IPY_MODEL_5aeb95d207aa4c1db7b253b062b71568",
            "placeholder": "​",
            "style": "IPY_MODEL_4849bc0242bb4ffda92c9664f953bcfe",
            "value": " 1842/1842 [00:02&lt;00:00, 650.91 examples/s]"
          }
        },
        "da114e37921c4ed38ba7a2964843f811": {
          "model_module": "@jupyter-widgets/base",
          "model_name": "LayoutModel",
          "model_module_version": "1.2.0",
          "state": {
            "_model_module": "@jupyter-widgets/base",
            "_model_module_version": "1.2.0",
            "_model_name": "LayoutModel",
            "_view_count": null,
            "_view_module": "@jupyter-widgets/base",
            "_view_module_version": "1.2.0",
            "_view_name": "LayoutView",
            "align_content": null,
            "align_items": null,
            "align_self": null,
            "border": null,
            "bottom": null,
            "display": null,
            "flex": null,
            "flex_flow": null,
            "grid_area": null,
            "grid_auto_columns": null,
            "grid_auto_flow": null,
            "grid_auto_rows": null,
            "grid_column": null,
            "grid_gap": null,
            "grid_row": null,
            "grid_template_areas": null,
            "grid_template_columns": null,
            "grid_template_rows": null,
            "height": null,
            "justify_content": null,
            "justify_items": null,
            "left": null,
            "margin": null,
            "max_height": null,
            "max_width": null,
            "min_height": null,
            "min_width": null,
            "object_fit": null,
            "object_position": null,
            "order": null,
            "overflow": null,
            "overflow_x": null,
            "overflow_y": null,
            "padding": null,
            "right": null,
            "top": null,
            "visibility": null,
            "width": null
          }
        },
        "0e38ef14a81b47949cf7ae928864e9d8": {
          "model_module": "@jupyter-widgets/base",
          "model_name": "LayoutModel",
          "model_module_version": "1.2.0",
          "state": {
            "_model_module": "@jupyter-widgets/base",
            "_model_module_version": "1.2.0",
            "_model_name": "LayoutModel",
            "_view_count": null,
            "_view_module": "@jupyter-widgets/base",
            "_view_module_version": "1.2.0",
            "_view_name": "LayoutView",
            "align_content": null,
            "align_items": null,
            "align_self": null,
            "border": null,
            "bottom": null,
            "display": null,
            "flex": null,
            "flex_flow": null,
            "grid_area": null,
            "grid_auto_columns": null,
            "grid_auto_flow": null,
            "grid_auto_rows": null,
            "grid_column": null,
            "grid_gap": null,
            "grid_row": null,
            "grid_template_areas": null,
            "grid_template_columns": null,
            "grid_template_rows": null,
            "height": null,
            "justify_content": null,
            "justify_items": null,
            "left": null,
            "margin": null,
            "max_height": null,
            "max_width": null,
            "min_height": null,
            "min_width": null,
            "object_fit": null,
            "object_position": null,
            "order": null,
            "overflow": null,
            "overflow_x": null,
            "overflow_y": null,
            "padding": null,
            "right": null,
            "top": null,
            "visibility": null,
            "width": null
          }
        },
        "419d81cb089145d8b1de27c8fc2a370b": {
          "model_module": "@jupyter-widgets/controls",
          "model_name": "DescriptionStyleModel",
          "model_module_version": "1.5.0",
          "state": {
            "_model_module": "@jupyter-widgets/controls",
            "_model_module_version": "1.5.0",
            "_model_name": "DescriptionStyleModel",
            "_view_count": null,
            "_view_module": "@jupyter-widgets/base",
            "_view_module_version": "1.2.0",
            "_view_name": "StyleView",
            "description_width": ""
          }
        },
        "cefae76be1704d3fb8e6cefb3edaa540": {
          "model_module": "@jupyter-widgets/base",
          "model_name": "LayoutModel",
          "model_module_version": "1.2.0",
          "state": {
            "_model_module": "@jupyter-widgets/base",
            "_model_module_version": "1.2.0",
            "_model_name": "LayoutModel",
            "_view_count": null,
            "_view_module": "@jupyter-widgets/base",
            "_view_module_version": "1.2.0",
            "_view_name": "LayoutView",
            "align_content": null,
            "align_items": null,
            "align_self": null,
            "border": null,
            "bottom": null,
            "display": null,
            "flex": null,
            "flex_flow": null,
            "grid_area": null,
            "grid_auto_columns": null,
            "grid_auto_flow": null,
            "grid_auto_rows": null,
            "grid_column": null,
            "grid_gap": null,
            "grid_row": null,
            "grid_template_areas": null,
            "grid_template_columns": null,
            "grid_template_rows": null,
            "height": null,
            "justify_content": null,
            "justify_items": null,
            "left": null,
            "margin": null,
            "max_height": null,
            "max_width": null,
            "min_height": null,
            "min_width": null,
            "object_fit": null,
            "object_position": null,
            "order": null,
            "overflow": null,
            "overflow_x": null,
            "overflow_y": null,
            "padding": null,
            "right": null,
            "top": null,
            "visibility": null,
            "width": null
          }
        },
        "6f34a685c3f3400ab0aeac958c503b12": {
          "model_module": "@jupyter-widgets/controls",
          "model_name": "ProgressStyleModel",
          "model_module_version": "1.5.0",
          "state": {
            "_model_module": "@jupyter-widgets/controls",
            "_model_module_version": "1.5.0",
            "_model_name": "ProgressStyleModel",
            "_view_count": null,
            "_view_module": "@jupyter-widgets/base",
            "_view_module_version": "1.2.0",
            "_view_name": "StyleView",
            "bar_color": null,
            "description_width": ""
          }
        },
        "5aeb95d207aa4c1db7b253b062b71568": {
          "model_module": "@jupyter-widgets/base",
          "model_name": "LayoutModel",
          "model_module_version": "1.2.0",
          "state": {
            "_model_module": "@jupyter-widgets/base",
            "_model_module_version": "1.2.0",
            "_model_name": "LayoutModel",
            "_view_count": null,
            "_view_module": "@jupyter-widgets/base",
            "_view_module_version": "1.2.0",
            "_view_name": "LayoutView",
            "align_content": null,
            "align_items": null,
            "align_self": null,
            "border": null,
            "bottom": null,
            "display": null,
            "flex": null,
            "flex_flow": null,
            "grid_area": null,
            "grid_auto_columns": null,
            "grid_auto_flow": null,
            "grid_auto_rows": null,
            "grid_column": null,
            "grid_gap": null,
            "grid_row": null,
            "grid_template_areas": null,
            "grid_template_columns": null,
            "grid_template_rows": null,
            "height": null,
            "justify_content": null,
            "justify_items": null,
            "left": null,
            "margin": null,
            "max_height": null,
            "max_width": null,
            "min_height": null,
            "min_width": null,
            "object_fit": null,
            "object_position": null,
            "order": null,
            "overflow": null,
            "overflow_x": null,
            "overflow_y": null,
            "padding": null,
            "right": null,
            "top": null,
            "visibility": null,
            "width": null
          }
        },
        "4849bc0242bb4ffda92c9664f953bcfe": {
          "model_module": "@jupyter-widgets/controls",
          "model_name": "DescriptionStyleModel",
          "model_module_version": "1.5.0",
          "state": {
            "_model_module": "@jupyter-widgets/controls",
            "_model_module_version": "1.5.0",
            "_model_name": "DescriptionStyleModel",
            "_view_count": null,
            "_view_module": "@jupyter-widgets/base",
            "_view_module_version": "1.2.0",
            "_view_name": "StyleView",
            "description_width": ""
          }
        },
        "2b7ff32b6dd34626a1545ce394f8e0e6": {
          "model_module": "@jupyter-widgets/controls",
          "model_name": "HBoxModel",
          "model_module_version": "1.5.0",
          "state": {
            "_dom_classes": [],
            "_model_module": "@jupyter-widgets/controls",
            "_model_module_version": "1.5.0",
            "_model_name": "HBoxModel",
            "_view_count": null,
            "_view_module": "@jupyter-widgets/controls",
            "_view_module_version": "1.5.0",
            "_view_name": "HBoxView",
            "box_style": "",
            "children": [
              "IPY_MODEL_de76439a9ad541408a5f0bf73547062c",
              "IPY_MODEL_acd8d817a79e422daa2e14e5e182ba16",
              "IPY_MODEL_ffe57a8a7bc94937bbd19fd4633add68"
            ],
            "layout": "IPY_MODEL_60d108ebfbf54a86b1c531051109eb7c"
          }
        },
        "de76439a9ad541408a5f0bf73547062c": {
          "model_module": "@jupyter-widgets/controls",
          "model_name": "HTMLModel",
          "model_module_version": "1.5.0",
          "state": {
            "_dom_classes": [],
            "_model_module": "@jupyter-widgets/controls",
            "_model_module_version": "1.5.0",
            "_model_name": "HTMLModel",
            "_view_count": null,
            "_view_module": "@jupyter-widgets/controls",
            "_view_module_version": "1.5.0",
            "_view_name": "HTMLView",
            "description": "",
            "description_tooltip": null,
            "layout": "IPY_MODEL_7ee56f73f8154ecbb745ffa77198e438",
            "placeholder": "​",
            "style": "IPY_MODEL_0000dd894eed405f9676749b5c4e8b76",
            "value": "Downloading builder script: 100%"
          }
        },
        "acd8d817a79e422daa2e14e5e182ba16": {
          "model_module": "@jupyter-widgets/controls",
          "model_name": "FloatProgressModel",
          "model_module_version": "1.5.0",
          "state": {
            "_dom_classes": [],
            "_model_module": "@jupyter-widgets/controls",
            "_model_module_version": "1.5.0",
            "_model_name": "FloatProgressModel",
            "_view_count": null,
            "_view_module": "@jupyter-widgets/controls",
            "_view_module_version": "1.5.0",
            "_view_name": "ProgressView",
            "bar_style": "success",
            "description": "",
            "description_tooltip": null,
            "layout": "IPY_MODEL_e326a4b6512d4f45b805a85366f72ae8",
            "max": 6270,
            "min": 0,
            "orientation": "horizontal",
            "style": "IPY_MODEL_e7b051c036fc4dd2a9702cbdd9bec29a",
            "value": 6270
          }
        },
        "ffe57a8a7bc94937bbd19fd4633add68": {
          "model_module": "@jupyter-widgets/controls",
          "model_name": "HTMLModel",
          "model_module_version": "1.5.0",
          "state": {
            "_dom_classes": [],
            "_model_module": "@jupyter-widgets/controls",
            "_model_module_version": "1.5.0",
            "_model_name": "HTMLModel",
            "_view_count": null,
            "_view_module": "@jupyter-widgets/controls",
            "_view_module_version": "1.5.0",
            "_view_name": "HTMLView",
            "description": "",
            "description_tooltip": null,
            "layout": "IPY_MODEL_ed0d9700a61343989be9fa2966de348b",
            "placeholder": "​",
            "style": "IPY_MODEL_d2f8380b5bd84c14aa8ce2decf897f5a",
            "value": " 6.27k/6.27k [00:00&lt;00:00, 339kB/s]"
          }
        },
        "60d108ebfbf54a86b1c531051109eb7c": {
          "model_module": "@jupyter-widgets/base",
          "model_name": "LayoutModel",
          "model_module_version": "1.2.0",
          "state": {
            "_model_module": "@jupyter-widgets/base",
            "_model_module_version": "1.2.0",
            "_model_name": "LayoutModel",
            "_view_count": null,
            "_view_module": "@jupyter-widgets/base",
            "_view_module_version": "1.2.0",
            "_view_name": "LayoutView",
            "align_content": null,
            "align_items": null,
            "align_self": null,
            "border": null,
            "bottom": null,
            "display": null,
            "flex": null,
            "flex_flow": null,
            "grid_area": null,
            "grid_auto_columns": null,
            "grid_auto_flow": null,
            "grid_auto_rows": null,
            "grid_column": null,
            "grid_gap": null,
            "grid_row": null,
            "grid_template_areas": null,
            "grid_template_columns": null,
            "grid_template_rows": null,
            "height": null,
            "justify_content": null,
            "justify_items": null,
            "left": null,
            "margin": null,
            "max_height": null,
            "max_width": null,
            "min_height": null,
            "min_width": null,
            "object_fit": null,
            "object_position": null,
            "order": null,
            "overflow": null,
            "overflow_x": null,
            "overflow_y": null,
            "padding": null,
            "right": null,
            "top": null,
            "visibility": null,
            "width": null
          }
        },
        "7ee56f73f8154ecbb745ffa77198e438": {
          "model_module": "@jupyter-widgets/base",
          "model_name": "LayoutModel",
          "model_module_version": "1.2.0",
          "state": {
            "_model_module": "@jupyter-widgets/base",
            "_model_module_version": "1.2.0",
            "_model_name": "LayoutModel",
            "_view_count": null,
            "_view_module": "@jupyter-widgets/base",
            "_view_module_version": "1.2.0",
            "_view_name": "LayoutView",
            "align_content": null,
            "align_items": null,
            "align_self": null,
            "border": null,
            "bottom": null,
            "display": null,
            "flex": null,
            "flex_flow": null,
            "grid_area": null,
            "grid_auto_columns": null,
            "grid_auto_flow": null,
            "grid_auto_rows": null,
            "grid_column": null,
            "grid_gap": null,
            "grid_row": null,
            "grid_template_areas": null,
            "grid_template_columns": null,
            "grid_template_rows": null,
            "height": null,
            "justify_content": null,
            "justify_items": null,
            "left": null,
            "margin": null,
            "max_height": null,
            "max_width": null,
            "min_height": null,
            "min_width": null,
            "object_fit": null,
            "object_position": null,
            "order": null,
            "overflow": null,
            "overflow_x": null,
            "overflow_y": null,
            "padding": null,
            "right": null,
            "top": null,
            "visibility": null,
            "width": null
          }
        },
        "0000dd894eed405f9676749b5c4e8b76": {
          "model_module": "@jupyter-widgets/controls",
          "model_name": "DescriptionStyleModel",
          "model_module_version": "1.5.0",
          "state": {
            "_model_module": "@jupyter-widgets/controls",
            "_model_module_version": "1.5.0",
            "_model_name": "DescriptionStyleModel",
            "_view_count": null,
            "_view_module": "@jupyter-widgets/base",
            "_view_module_version": "1.2.0",
            "_view_name": "StyleView",
            "description_width": ""
          }
        },
        "e326a4b6512d4f45b805a85366f72ae8": {
          "model_module": "@jupyter-widgets/base",
          "model_name": "LayoutModel",
          "model_module_version": "1.2.0",
          "state": {
            "_model_module": "@jupyter-widgets/base",
            "_model_module_version": "1.2.0",
            "_model_name": "LayoutModel",
            "_view_count": null,
            "_view_module": "@jupyter-widgets/base",
            "_view_module_version": "1.2.0",
            "_view_name": "LayoutView",
            "align_content": null,
            "align_items": null,
            "align_self": null,
            "border": null,
            "bottom": null,
            "display": null,
            "flex": null,
            "flex_flow": null,
            "grid_area": null,
            "grid_auto_columns": null,
            "grid_auto_flow": null,
            "grid_auto_rows": null,
            "grid_column": null,
            "grid_gap": null,
            "grid_row": null,
            "grid_template_areas": null,
            "grid_template_columns": null,
            "grid_template_rows": null,
            "height": null,
            "justify_content": null,
            "justify_items": null,
            "left": null,
            "margin": null,
            "max_height": null,
            "max_width": null,
            "min_height": null,
            "min_width": null,
            "object_fit": null,
            "object_position": null,
            "order": null,
            "overflow": null,
            "overflow_x": null,
            "overflow_y": null,
            "padding": null,
            "right": null,
            "top": null,
            "visibility": null,
            "width": null
          }
        },
        "e7b051c036fc4dd2a9702cbdd9bec29a": {
          "model_module": "@jupyter-widgets/controls",
          "model_name": "ProgressStyleModel",
          "model_module_version": "1.5.0",
          "state": {
            "_model_module": "@jupyter-widgets/controls",
            "_model_module_version": "1.5.0",
            "_model_name": "ProgressStyleModel",
            "_view_count": null,
            "_view_module": "@jupyter-widgets/base",
            "_view_module_version": "1.2.0",
            "_view_name": "StyleView",
            "bar_color": null,
            "description_width": ""
          }
        },
        "ed0d9700a61343989be9fa2966de348b": {
          "model_module": "@jupyter-widgets/base",
          "model_name": "LayoutModel",
          "model_module_version": "1.2.0",
          "state": {
            "_model_module": "@jupyter-widgets/base",
            "_model_module_version": "1.2.0",
            "_model_name": "LayoutModel",
            "_view_count": null,
            "_view_module": "@jupyter-widgets/base",
            "_view_module_version": "1.2.0",
            "_view_name": "LayoutView",
            "align_content": null,
            "align_items": null,
            "align_self": null,
            "border": null,
            "bottom": null,
            "display": null,
            "flex": null,
            "flex_flow": null,
            "grid_area": null,
            "grid_auto_columns": null,
            "grid_auto_flow": null,
            "grid_auto_rows": null,
            "grid_column": null,
            "grid_gap": null,
            "grid_row": null,
            "grid_template_areas": null,
            "grid_template_columns": null,
            "grid_template_rows": null,
            "height": null,
            "justify_content": null,
            "justify_items": null,
            "left": null,
            "margin": null,
            "max_height": null,
            "max_width": null,
            "min_height": null,
            "min_width": null,
            "object_fit": null,
            "object_position": null,
            "order": null,
            "overflow": null,
            "overflow_x": null,
            "overflow_y": null,
            "padding": null,
            "right": null,
            "top": null,
            "visibility": null,
            "width": null
          }
        },
        "d2f8380b5bd84c14aa8ce2decf897f5a": {
          "model_module": "@jupyter-widgets/controls",
          "model_name": "DescriptionStyleModel",
          "model_module_version": "1.5.0",
          "state": {
            "_model_module": "@jupyter-widgets/controls",
            "_model_module_version": "1.5.0",
            "_model_name": "DescriptionStyleModel",
            "_view_count": null,
            "_view_module": "@jupyter-widgets/base",
            "_view_module_version": "1.2.0",
            "_view_name": "StyleView",
            "description_width": ""
          }
        },
        "881514e2168b4218ac729701d8db215f": {
          "model_module": "@jupyter-widgets/controls",
          "model_name": "HBoxModel",
          "model_module_version": "1.5.0",
          "state": {
            "_dom_classes": [],
            "_model_module": "@jupyter-widgets/controls",
            "_model_module_version": "1.5.0",
            "_model_name": "HBoxModel",
            "_view_count": null,
            "_view_module": "@jupyter-widgets/controls",
            "_view_module_version": "1.5.0",
            "_view_name": "HBoxView",
            "box_style": "",
            "children": [
              "IPY_MODEL_59ec6cfc25dc4222b624023a67497059",
              "IPY_MODEL_4df9001e4bbb454dbd0c6c5d08ed8ca2",
              "IPY_MODEL_34f9e83b68274c5daca83e941337dbcc"
            ],
            "layout": "IPY_MODEL_28a83cc7ab2d416f95e224656f6d942d"
          }
        },
        "59ec6cfc25dc4222b624023a67497059": {
          "model_module": "@jupyter-widgets/controls",
          "model_name": "HTMLModel",
          "model_module_version": "1.5.0",
          "state": {
            "_dom_classes": [],
            "_model_module": "@jupyter-widgets/controls",
            "_model_module_version": "1.5.0",
            "_model_name": "HTMLModel",
            "_view_count": null,
            "_view_module": "@jupyter-widgets/controls",
            "_view_module_version": "1.5.0",
            "_view_name": "HTMLView",
            "description": "",
            "description_tooltip": null,
            "layout": "IPY_MODEL_b202b784311b435e9b0141c005bbbc8c",
            "placeholder": "​",
            "style": "IPY_MODEL_b52aaef020fe48c79f95ce092cf92989",
            "value": "Downloading builder script: 100%"
          }
        },
        "4df9001e4bbb454dbd0c6c5d08ed8ca2": {
          "model_module": "@jupyter-widgets/controls",
          "model_name": "FloatProgressModel",
          "model_module_version": "1.5.0",
          "state": {
            "_dom_classes": [],
            "_model_module": "@jupyter-widgets/controls",
            "_model_module_version": "1.5.0",
            "_model_name": "FloatProgressModel",
            "_view_count": null,
            "_view_module": "@jupyter-widgets/controls",
            "_view_module_version": "1.5.0",
            "_view_name": "ProgressView",
            "bar_style": "success",
            "description": "",
            "description_tooltip": null,
            "layout": "IPY_MODEL_4807ba6d9a244584919541134befa5d4",
            "max": 7021,
            "min": 0,
            "orientation": "horizontal",
            "style": "IPY_MODEL_ae331f4551994fe8874825eb4abf26fb",
            "value": 7021
          }
        },
        "34f9e83b68274c5daca83e941337dbcc": {
          "model_module": "@jupyter-widgets/controls",
          "model_name": "HTMLModel",
          "model_module_version": "1.5.0",
          "state": {
            "_dom_classes": [],
            "_model_module": "@jupyter-widgets/controls",
            "_model_module_version": "1.5.0",
            "_model_name": "HTMLModel",
            "_view_count": null,
            "_view_module": "@jupyter-widgets/controls",
            "_view_module_version": "1.5.0",
            "_view_name": "HTMLView",
            "description": "",
            "description_tooltip": null,
            "layout": "IPY_MODEL_1d50dc6870ac449894a1971863c0db69",
            "placeholder": "​",
            "style": "IPY_MODEL_15b1d16d332e4a43bba253344c52a99b",
            "value": " 7.02k/7.02k [00:00&lt;00:00, 417kB/s]"
          }
        },
        "28a83cc7ab2d416f95e224656f6d942d": {
          "model_module": "@jupyter-widgets/base",
          "model_name": "LayoutModel",
          "model_module_version": "1.2.0",
          "state": {
            "_model_module": "@jupyter-widgets/base",
            "_model_module_version": "1.2.0",
            "_model_name": "LayoutModel",
            "_view_count": null,
            "_view_module": "@jupyter-widgets/base",
            "_view_module_version": "1.2.0",
            "_view_name": "LayoutView",
            "align_content": null,
            "align_items": null,
            "align_self": null,
            "border": null,
            "bottom": null,
            "display": null,
            "flex": null,
            "flex_flow": null,
            "grid_area": null,
            "grid_auto_columns": null,
            "grid_auto_flow": null,
            "grid_auto_rows": null,
            "grid_column": null,
            "grid_gap": null,
            "grid_row": null,
            "grid_template_areas": null,
            "grid_template_columns": null,
            "grid_template_rows": null,
            "height": null,
            "justify_content": null,
            "justify_items": null,
            "left": null,
            "margin": null,
            "max_height": null,
            "max_width": null,
            "min_height": null,
            "min_width": null,
            "object_fit": null,
            "object_position": null,
            "order": null,
            "overflow": null,
            "overflow_x": null,
            "overflow_y": null,
            "padding": null,
            "right": null,
            "top": null,
            "visibility": null,
            "width": null
          }
        },
        "b202b784311b435e9b0141c005bbbc8c": {
          "model_module": "@jupyter-widgets/base",
          "model_name": "LayoutModel",
          "model_module_version": "1.2.0",
          "state": {
            "_model_module": "@jupyter-widgets/base",
            "_model_module_version": "1.2.0",
            "_model_name": "LayoutModel",
            "_view_count": null,
            "_view_module": "@jupyter-widgets/base",
            "_view_module_version": "1.2.0",
            "_view_name": "LayoutView",
            "align_content": null,
            "align_items": null,
            "align_self": null,
            "border": null,
            "bottom": null,
            "display": null,
            "flex": null,
            "flex_flow": null,
            "grid_area": null,
            "grid_auto_columns": null,
            "grid_auto_flow": null,
            "grid_auto_rows": null,
            "grid_column": null,
            "grid_gap": null,
            "grid_row": null,
            "grid_template_areas": null,
            "grid_template_columns": null,
            "grid_template_rows": null,
            "height": null,
            "justify_content": null,
            "justify_items": null,
            "left": null,
            "margin": null,
            "max_height": null,
            "max_width": null,
            "min_height": null,
            "min_width": null,
            "object_fit": null,
            "object_position": null,
            "order": null,
            "overflow": null,
            "overflow_x": null,
            "overflow_y": null,
            "padding": null,
            "right": null,
            "top": null,
            "visibility": null,
            "width": null
          }
        },
        "b52aaef020fe48c79f95ce092cf92989": {
          "model_module": "@jupyter-widgets/controls",
          "model_name": "DescriptionStyleModel",
          "model_module_version": "1.5.0",
          "state": {
            "_model_module": "@jupyter-widgets/controls",
            "_model_module_version": "1.5.0",
            "_model_name": "DescriptionStyleModel",
            "_view_count": null,
            "_view_module": "@jupyter-widgets/base",
            "_view_module_version": "1.2.0",
            "_view_name": "StyleView",
            "description_width": ""
          }
        },
        "4807ba6d9a244584919541134befa5d4": {
          "model_module": "@jupyter-widgets/base",
          "model_name": "LayoutModel",
          "model_module_version": "1.2.0",
          "state": {
            "_model_module": "@jupyter-widgets/base",
            "_model_module_version": "1.2.0",
            "_model_name": "LayoutModel",
            "_view_count": null,
            "_view_module": "@jupyter-widgets/base",
            "_view_module_version": "1.2.0",
            "_view_name": "LayoutView",
            "align_content": null,
            "align_items": null,
            "align_self": null,
            "border": null,
            "bottom": null,
            "display": null,
            "flex": null,
            "flex_flow": null,
            "grid_area": null,
            "grid_auto_columns": null,
            "grid_auto_flow": null,
            "grid_auto_rows": null,
            "grid_column": null,
            "grid_gap": null,
            "grid_row": null,
            "grid_template_areas": null,
            "grid_template_columns": null,
            "grid_template_rows": null,
            "height": null,
            "justify_content": null,
            "justify_items": null,
            "left": null,
            "margin": null,
            "max_height": null,
            "max_width": null,
            "min_height": null,
            "min_width": null,
            "object_fit": null,
            "object_position": null,
            "order": null,
            "overflow": null,
            "overflow_x": null,
            "overflow_y": null,
            "padding": null,
            "right": null,
            "top": null,
            "visibility": null,
            "width": null
          }
        },
        "ae331f4551994fe8874825eb4abf26fb": {
          "model_module": "@jupyter-widgets/controls",
          "model_name": "ProgressStyleModel",
          "model_module_version": "1.5.0",
          "state": {
            "_model_module": "@jupyter-widgets/controls",
            "_model_module_version": "1.5.0",
            "_model_name": "ProgressStyleModel",
            "_view_count": null,
            "_view_module": "@jupyter-widgets/base",
            "_view_module_version": "1.2.0",
            "_view_name": "StyleView",
            "bar_color": null,
            "description_width": ""
          }
        },
        "1d50dc6870ac449894a1971863c0db69": {
          "model_module": "@jupyter-widgets/base",
          "model_name": "LayoutModel",
          "model_module_version": "1.2.0",
          "state": {
            "_model_module": "@jupyter-widgets/base",
            "_model_module_version": "1.2.0",
            "_model_name": "LayoutModel",
            "_view_count": null,
            "_view_module": "@jupyter-widgets/base",
            "_view_module_version": "1.2.0",
            "_view_name": "LayoutView",
            "align_content": null,
            "align_items": null,
            "align_self": null,
            "border": null,
            "bottom": null,
            "display": null,
            "flex": null,
            "flex_flow": null,
            "grid_area": null,
            "grid_auto_columns": null,
            "grid_auto_flow": null,
            "grid_auto_rows": null,
            "grid_column": null,
            "grid_gap": null,
            "grid_row": null,
            "grid_template_areas": null,
            "grid_template_columns": null,
            "grid_template_rows": null,
            "height": null,
            "justify_content": null,
            "justify_items": null,
            "left": null,
            "margin": null,
            "max_height": null,
            "max_width": null,
            "min_height": null,
            "min_width": null,
            "object_fit": null,
            "object_position": null,
            "order": null,
            "overflow": null,
            "overflow_x": null,
            "overflow_y": null,
            "padding": null,
            "right": null,
            "top": null,
            "visibility": null,
            "width": null
          }
        },
        "15b1d16d332e4a43bba253344c52a99b": {
          "model_module": "@jupyter-widgets/controls",
          "model_name": "DescriptionStyleModel",
          "model_module_version": "1.5.0",
          "state": {
            "_model_module": "@jupyter-widgets/controls",
            "_model_module_version": "1.5.0",
            "_model_name": "DescriptionStyleModel",
            "_view_count": null,
            "_view_module": "@jupyter-widgets/base",
            "_view_module_version": "1.2.0",
            "_view_name": "StyleView",
            "description_width": ""
          }
        },
        "0387f1a5d130463cb5280085fae0075a": {
          "model_module": "@jupyter-widgets/controls",
          "model_name": "HBoxModel",
          "model_module_version": "1.5.0",
          "state": {
            "_dom_classes": [],
            "_model_module": "@jupyter-widgets/controls",
            "_model_module_version": "1.5.0",
            "_model_name": "HBoxModel",
            "_view_count": null,
            "_view_module": "@jupyter-widgets/controls",
            "_view_module_version": "1.5.0",
            "_view_name": "HBoxView",
            "box_style": "",
            "children": [
              "IPY_MODEL_2a4cce1bb1fe444482e1109b18576f0f",
              "IPY_MODEL_ddff8450fc92414b899b923adb3d1ee4",
              "IPY_MODEL_a41ee3e8109b45a3900b87dea37c6026"
            ],
            "layout": "IPY_MODEL_a9a3e243f5ca46a6bfdd6c753bf729b1"
          }
        },
        "2a4cce1bb1fe444482e1109b18576f0f": {
          "model_module": "@jupyter-widgets/controls",
          "model_name": "HTMLModel",
          "model_module_version": "1.5.0",
          "state": {
            "_dom_classes": [],
            "_model_module": "@jupyter-widgets/controls",
            "_model_module_version": "1.5.0",
            "_model_name": "HTMLModel",
            "_view_count": null,
            "_view_module": "@jupyter-widgets/controls",
            "_view_module_version": "1.5.0",
            "_view_name": "HTMLView",
            "description": "",
            "description_tooltip": null,
            "layout": "IPY_MODEL_1f0d8f621fcc4e8692d2cc61b6b56387",
            "placeholder": "​",
            "style": "IPY_MODEL_2bc38b66bb6c4c9796ea5dc300b1058f",
            "value": "tokenizer_config.json: 100%"
          }
        },
        "ddff8450fc92414b899b923adb3d1ee4": {
          "model_module": "@jupyter-widgets/controls",
          "model_name": "FloatProgressModel",
          "model_module_version": "1.5.0",
          "state": {
            "_dom_classes": [],
            "_model_module": "@jupyter-widgets/controls",
            "_model_module_version": "1.5.0",
            "_model_name": "FloatProgressModel",
            "_view_count": null,
            "_view_module": "@jupyter-widgets/controls",
            "_view_module_version": "1.5.0",
            "_view_name": "ProgressView",
            "bar_style": "success",
            "description": "",
            "description_tooltip": null,
            "layout": "IPY_MODEL_d9817dcc6f4046f9aeeb7e8a069a26ad",
            "max": 82,
            "min": 0,
            "orientation": "horizontal",
            "style": "IPY_MODEL_3d8f64bfc4db4d769fbc44c44884ebbd",
            "value": 82
          }
        },
        "a41ee3e8109b45a3900b87dea37c6026": {
          "model_module": "@jupyter-widgets/controls",
          "model_name": "HTMLModel",
          "model_module_version": "1.5.0",
          "state": {
            "_dom_classes": [],
            "_model_module": "@jupyter-widgets/controls",
            "_model_module_version": "1.5.0",
            "_model_name": "HTMLModel",
            "_view_count": null,
            "_view_module": "@jupyter-widgets/controls",
            "_view_module_version": "1.5.0",
            "_view_name": "HTMLView",
            "description": "",
            "description_tooltip": null,
            "layout": "IPY_MODEL_08b86956bb8b4a2cb4c973bdd5bd0ba8",
            "placeholder": "​",
            "style": "IPY_MODEL_b92175823fc040f4905e1da124e1b304",
            "value": " 82.0/82.0 [00:00&lt;00:00, 6.22kB/s]"
          }
        },
        "a9a3e243f5ca46a6bfdd6c753bf729b1": {
          "model_module": "@jupyter-widgets/base",
          "model_name": "LayoutModel",
          "model_module_version": "1.2.0",
          "state": {
            "_model_module": "@jupyter-widgets/base",
            "_model_module_version": "1.2.0",
            "_model_name": "LayoutModel",
            "_view_count": null,
            "_view_module": "@jupyter-widgets/base",
            "_view_module_version": "1.2.0",
            "_view_name": "LayoutView",
            "align_content": null,
            "align_items": null,
            "align_self": null,
            "border": null,
            "bottom": null,
            "display": null,
            "flex": null,
            "flex_flow": null,
            "grid_area": null,
            "grid_auto_columns": null,
            "grid_auto_flow": null,
            "grid_auto_rows": null,
            "grid_column": null,
            "grid_gap": null,
            "grid_row": null,
            "grid_template_areas": null,
            "grid_template_columns": null,
            "grid_template_rows": null,
            "height": null,
            "justify_content": null,
            "justify_items": null,
            "left": null,
            "margin": null,
            "max_height": null,
            "max_width": null,
            "min_height": null,
            "min_width": null,
            "object_fit": null,
            "object_position": null,
            "order": null,
            "overflow": null,
            "overflow_x": null,
            "overflow_y": null,
            "padding": null,
            "right": null,
            "top": null,
            "visibility": null,
            "width": null
          }
        },
        "1f0d8f621fcc4e8692d2cc61b6b56387": {
          "model_module": "@jupyter-widgets/base",
          "model_name": "LayoutModel",
          "model_module_version": "1.2.0",
          "state": {
            "_model_module": "@jupyter-widgets/base",
            "_model_module_version": "1.2.0",
            "_model_name": "LayoutModel",
            "_view_count": null,
            "_view_module": "@jupyter-widgets/base",
            "_view_module_version": "1.2.0",
            "_view_name": "LayoutView",
            "align_content": null,
            "align_items": null,
            "align_self": null,
            "border": null,
            "bottom": null,
            "display": null,
            "flex": null,
            "flex_flow": null,
            "grid_area": null,
            "grid_auto_columns": null,
            "grid_auto_flow": null,
            "grid_auto_rows": null,
            "grid_column": null,
            "grid_gap": null,
            "grid_row": null,
            "grid_template_areas": null,
            "grid_template_columns": null,
            "grid_template_rows": null,
            "height": null,
            "justify_content": null,
            "justify_items": null,
            "left": null,
            "margin": null,
            "max_height": null,
            "max_width": null,
            "min_height": null,
            "min_width": null,
            "object_fit": null,
            "object_position": null,
            "order": null,
            "overflow": null,
            "overflow_x": null,
            "overflow_y": null,
            "padding": null,
            "right": null,
            "top": null,
            "visibility": null,
            "width": null
          }
        },
        "2bc38b66bb6c4c9796ea5dc300b1058f": {
          "model_module": "@jupyter-widgets/controls",
          "model_name": "DescriptionStyleModel",
          "model_module_version": "1.5.0",
          "state": {
            "_model_module": "@jupyter-widgets/controls",
            "_model_module_version": "1.5.0",
            "_model_name": "DescriptionStyleModel",
            "_view_count": null,
            "_view_module": "@jupyter-widgets/base",
            "_view_module_version": "1.2.0",
            "_view_name": "StyleView",
            "description_width": ""
          }
        },
        "d9817dcc6f4046f9aeeb7e8a069a26ad": {
          "model_module": "@jupyter-widgets/base",
          "model_name": "LayoutModel",
          "model_module_version": "1.2.0",
          "state": {
            "_model_module": "@jupyter-widgets/base",
            "_model_module_version": "1.2.0",
            "_model_name": "LayoutModel",
            "_view_count": null,
            "_view_module": "@jupyter-widgets/base",
            "_view_module_version": "1.2.0",
            "_view_name": "LayoutView",
            "align_content": null,
            "align_items": null,
            "align_self": null,
            "border": null,
            "bottom": null,
            "display": null,
            "flex": null,
            "flex_flow": null,
            "grid_area": null,
            "grid_auto_columns": null,
            "grid_auto_flow": null,
            "grid_auto_rows": null,
            "grid_column": null,
            "grid_gap": null,
            "grid_row": null,
            "grid_template_areas": null,
            "grid_template_columns": null,
            "grid_template_rows": null,
            "height": null,
            "justify_content": null,
            "justify_items": null,
            "left": null,
            "margin": null,
            "max_height": null,
            "max_width": null,
            "min_height": null,
            "min_width": null,
            "object_fit": null,
            "object_position": null,
            "order": null,
            "overflow": null,
            "overflow_x": null,
            "overflow_y": null,
            "padding": null,
            "right": null,
            "top": null,
            "visibility": null,
            "width": null
          }
        },
        "3d8f64bfc4db4d769fbc44c44884ebbd": {
          "model_module": "@jupyter-widgets/controls",
          "model_name": "ProgressStyleModel",
          "model_module_version": "1.5.0",
          "state": {
            "_model_module": "@jupyter-widgets/controls",
            "_model_module_version": "1.5.0",
            "_model_name": "ProgressStyleModel",
            "_view_count": null,
            "_view_module": "@jupyter-widgets/base",
            "_view_module_version": "1.2.0",
            "_view_name": "StyleView",
            "bar_color": null,
            "description_width": ""
          }
        },
        "08b86956bb8b4a2cb4c973bdd5bd0ba8": {
          "model_module": "@jupyter-widgets/base",
          "model_name": "LayoutModel",
          "model_module_version": "1.2.0",
          "state": {
            "_model_module": "@jupyter-widgets/base",
            "_model_module_version": "1.2.0",
            "_model_name": "LayoutModel",
            "_view_count": null,
            "_view_module": "@jupyter-widgets/base",
            "_view_module_version": "1.2.0",
            "_view_name": "LayoutView",
            "align_content": null,
            "align_items": null,
            "align_self": null,
            "border": null,
            "bottom": null,
            "display": null,
            "flex": null,
            "flex_flow": null,
            "grid_area": null,
            "grid_auto_columns": null,
            "grid_auto_flow": null,
            "grid_auto_rows": null,
            "grid_column": null,
            "grid_gap": null,
            "grid_row": null,
            "grid_template_areas": null,
            "grid_template_columns": null,
            "grid_template_rows": null,
            "height": null,
            "justify_content": null,
            "justify_items": null,
            "left": null,
            "margin": null,
            "max_height": null,
            "max_width": null,
            "min_height": null,
            "min_width": null,
            "object_fit": null,
            "object_position": null,
            "order": null,
            "overflow": null,
            "overflow_x": null,
            "overflow_y": null,
            "padding": null,
            "right": null,
            "top": null,
            "visibility": null,
            "width": null
          }
        },
        "b92175823fc040f4905e1da124e1b304": {
          "model_module": "@jupyter-widgets/controls",
          "model_name": "DescriptionStyleModel",
          "model_module_version": "1.5.0",
          "state": {
            "_model_module": "@jupyter-widgets/controls",
            "_model_module_version": "1.5.0",
            "_model_name": "DescriptionStyleModel",
            "_view_count": null,
            "_view_module": "@jupyter-widgets/base",
            "_view_module_version": "1.2.0",
            "_view_name": "StyleView",
            "description_width": ""
          }
        },
        "9126fd8b9c19436ab862ae2f2c8a97ec": {
          "model_module": "@jupyter-widgets/controls",
          "model_name": "HBoxModel",
          "model_module_version": "1.5.0",
          "state": {
            "_dom_classes": [],
            "_model_module": "@jupyter-widgets/controls",
            "_model_module_version": "1.5.0",
            "_model_name": "HBoxModel",
            "_view_count": null,
            "_view_module": "@jupyter-widgets/controls",
            "_view_module_version": "1.5.0",
            "_view_name": "HBoxView",
            "box_style": "",
            "children": [
              "IPY_MODEL_18ca04b4fe9747f0b6c92293eb66ed75",
              "IPY_MODEL_214ffd450fc942c3add7152f4f8d9fa8",
              "IPY_MODEL_473eee66156c4004b944ff840e581fd6"
            ],
            "layout": "IPY_MODEL_a3c7d065dc104ca494640287d1a928e8"
          }
        },
        "18ca04b4fe9747f0b6c92293eb66ed75": {
          "model_module": "@jupyter-widgets/controls",
          "model_name": "HTMLModel",
          "model_module_version": "1.5.0",
          "state": {
            "_dom_classes": [],
            "_model_module": "@jupyter-widgets/controls",
            "_model_module_version": "1.5.0",
            "_model_name": "HTMLModel",
            "_view_count": null,
            "_view_module": "@jupyter-widgets/controls",
            "_view_module_version": "1.5.0",
            "_view_name": "HTMLView",
            "description": "",
            "description_tooltip": null,
            "layout": "IPY_MODEL_2bc82502239c4478890a44ce72a8186c",
            "placeholder": "​",
            "style": "IPY_MODEL_ed0ea3242d2945b5afd96dd0f68c5d1d",
            "value": "config.json: 100%"
          }
        },
        "214ffd450fc942c3add7152f4f8d9fa8": {
          "model_module": "@jupyter-widgets/controls",
          "model_name": "FloatProgressModel",
          "model_module_version": "1.5.0",
          "state": {
            "_dom_classes": [],
            "_model_module": "@jupyter-widgets/controls",
            "_model_module_version": "1.5.0",
            "_model_name": "FloatProgressModel",
            "_view_count": null,
            "_view_module": "@jupyter-widgets/controls",
            "_view_module_version": "1.5.0",
            "_view_name": "ProgressView",
            "bar_style": "success",
            "description": "",
            "description_tooltip": null,
            "layout": "IPY_MODEL_eeab173a11424363b1814ffef799e9dc",
            "max": 553,
            "min": 0,
            "orientation": "horizontal",
            "style": "IPY_MODEL_01e0fc827ab44d3f8ac5f426f842f6ad",
            "value": 553
          }
        },
        "473eee66156c4004b944ff840e581fd6": {
          "model_module": "@jupyter-widgets/controls",
          "model_name": "HTMLModel",
          "model_module_version": "1.5.0",
          "state": {
            "_dom_classes": [],
            "_model_module": "@jupyter-widgets/controls",
            "_model_module_version": "1.5.0",
            "_model_name": "HTMLModel",
            "_view_count": null,
            "_view_module": "@jupyter-widgets/controls",
            "_view_module_version": "1.5.0",
            "_view_name": "HTMLView",
            "description": "",
            "description_tooltip": null,
            "layout": "IPY_MODEL_039aa918eca4490f943059b33ce04951",
            "placeholder": "​",
            "style": "IPY_MODEL_32ec05cbd7134d93a54a5a76dd07cb8b",
            "value": " 553/553 [00:00&lt;00:00, 32.4kB/s]"
          }
        },
        "a3c7d065dc104ca494640287d1a928e8": {
          "model_module": "@jupyter-widgets/base",
          "model_name": "LayoutModel",
          "model_module_version": "1.2.0",
          "state": {
            "_model_module": "@jupyter-widgets/base",
            "_model_module_version": "1.2.0",
            "_model_name": "LayoutModel",
            "_view_count": null,
            "_view_module": "@jupyter-widgets/base",
            "_view_module_version": "1.2.0",
            "_view_name": "LayoutView",
            "align_content": null,
            "align_items": null,
            "align_self": null,
            "border": null,
            "bottom": null,
            "display": null,
            "flex": null,
            "flex_flow": null,
            "grid_area": null,
            "grid_auto_columns": null,
            "grid_auto_flow": null,
            "grid_auto_rows": null,
            "grid_column": null,
            "grid_gap": null,
            "grid_row": null,
            "grid_template_areas": null,
            "grid_template_columns": null,
            "grid_template_rows": null,
            "height": null,
            "justify_content": null,
            "justify_items": null,
            "left": null,
            "margin": null,
            "max_height": null,
            "max_width": null,
            "min_height": null,
            "min_width": null,
            "object_fit": null,
            "object_position": null,
            "order": null,
            "overflow": null,
            "overflow_x": null,
            "overflow_y": null,
            "padding": null,
            "right": null,
            "top": null,
            "visibility": null,
            "width": null
          }
        },
        "2bc82502239c4478890a44ce72a8186c": {
          "model_module": "@jupyter-widgets/base",
          "model_name": "LayoutModel",
          "model_module_version": "1.2.0",
          "state": {
            "_model_module": "@jupyter-widgets/base",
            "_model_module_version": "1.2.0",
            "_model_name": "LayoutModel",
            "_view_count": null,
            "_view_module": "@jupyter-widgets/base",
            "_view_module_version": "1.2.0",
            "_view_name": "LayoutView",
            "align_content": null,
            "align_items": null,
            "align_self": null,
            "border": null,
            "bottom": null,
            "display": null,
            "flex": null,
            "flex_flow": null,
            "grid_area": null,
            "grid_auto_columns": null,
            "grid_auto_flow": null,
            "grid_auto_rows": null,
            "grid_column": null,
            "grid_gap": null,
            "grid_row": null,
            "grid_template_areas": null,
            "grid_template_columns": null,
            "grid_template_rows": null,
            "height": null,
            "justify_content": null,
            "justify_items": null,
            "left": null,
            "margin": null,
            "max_height": null,
            "max_width": null,
            "min_height": null,
            "min_width": null,
            "object_fit": null,
            "object_position": null,
            "order": null,
            "overflow": null,
            "overflow_x": null,
            "overflow_y": null,
            "padding": null,
            "right": null,
            "top": null,
            "visibility": null,
            "width": null
          }
        },
        "ed0ea3242d2945b5afd96dd0f68c5d1d": {
          "model_module": "@jupyter-widgets/controls",
          "model_name": "DescriptionStyleModel",
          "model_module_version": "1.5.0",
          "state": {
            "_model_module": "@jupyter-widgets/controls",
            "_model_module_version": "1.5.0",
            "_model_name": "DescriptionStyleModel",
            "_view_count": null,
            "_view_module": "@jupyter-widgets/base",
            "_view_module_version": "1.2.0",
            "_view_name": "StyleView",
            "description_width": ""
          }
        },
        "eeab173a11424363b1814ffef799e9dc": {
          "model_module": "@jupyter-widgets/base",
          "model_name": "LayoutModel",
          "model_module_version": "1.2.0",
          "state": {
            "_model_module": "@jupyter-widgets/base",
            "_model_module_version": "1.2.0",
            "_model_name": "LayoutModel",
            "_view_count": null,
            "_view_module": "@jupyter-widgets/base",
            "_view_module_version": "1.2.0",
            "_view_name": "LayoutView",
            "align_content": null,
            "align_items": null,
            "align_self": null,
            "border": null,
            "bottom": null,
            "display": null,
            "flex": null,
            "flex_flow": null,
            "grid_area": null,
            "grid_auto_columns": null,
            "grid_auto_flow": null,
            "grid_auto_rows": null,
            "grid_column": null,
            "grid_gap": null,
            "grid_row": null,
            "grid_template_areas": null,
            "grid_template_columns": null,
            "grid_template_rows": null,
            "height": null,
            "justify_content": null,
            "justify_items": null,
            "left": null,
            "margin": null,
            "max_height": null,
            "max_width": null,
            "min_height": null,
            "min_width": null,
            "object_fit": null,
            "object_position": null,
            "order": null,
            "overflow": null,
            "overflow_x": null,
            "overflow_y": null,
            "padding": null,
            "right": null,
            "top": null,
            "visibility": null,
            "width": null
          }
        },
        "01e0fc827ab44d3f8ac5f426f842f6ad": {
          "model_module": "@jupyter-widgets/controls",
          "model_name": "ProgressStyleModel",
          "model_module_version": "1.5.0",
          "state": {
            "_model_module": "@jupyter-widgets/controls",
            "_model_module_version": "1.5.0",
            "_model_name": "ProgressStyleModel",
            "_view_count": null,
            "_view_module": "@jupyter-widgets/base",
            "_view_module_version": "1.2.0",
            "_view_name": "StyleView",
            "bar_color": null,
            "description_width": ""
          }
        },
        "039aa918eca4490f943059b33ce04951": {
          "model_module": "@jupyter-widgets/base",
          "model_name": "LayoutModel",
          "model_module_version": "1.2.0",
          "state": {
            "_model_module": "@jupyter-widgets/base",
            "_model_module_version": "1.2.0",
            "_model_name": "LayoutModel",
            "_view_count": null,
            "_view_module": "@jupyter-widgets/base",
            "_view_module_version": "1.2.0",
            "_view_name": "LayoutView",
            "align_content": null,
            "align_items": null,
            "align_self": null,
            "border": null,
            "bottom": null,
            "display": null,
            "flex": null,
            "flex_flow": null,
            "grid_area": null,
            "grid_auto_columns": null,
            "grid_auto_flow": null,
            "grid_auto_rows": null,
            "grid_column": null,
            "grid_gap": null,
            "grid_row": null,
            "grid_template_areas": null,
            "grid_template_columns": null,
            "grid_template_rows": null,
            "height": null,
            "justify_content": null,
            "justify_items": null,
            "left": null,
            "margin": null,
            "max_height": null,
            "max_width": null,
            "min_height": null,
            "min_width": null,
            "object_fit": null,
            "object_position": null,
            "order": null,
            "overflow": null,
            "overflow_x": null,
            "overflow_y": null,
            "padding": null,
            "right": null,
            "top": null,
            "visibility": null,
            "width": null
          }
        },
        "32ec05cbd7134d93a54a5a76dd07cb8b": {
          "model_module": "@jupyter-widgets/controls",
          "model_name": "DescriptionStyleModel",
          "model_module_version": "1.5.0",
          "state": {
            "_model_module": "@jupyter-widgets/controls",
            "_model_module_version": "1.5.0",
            "_model_name": "DescriptionStyleModel",
            "_view_count": null,
            "_view_module": "@jupyter-widgets/base",
            "_view_module_version": "1.2.0",
            "_view_name": "StyleView",
            "description_width": ""
          }
        },
        "8fe3c41390a74762abb37d644913fd1f": {
          "model_module": "@jupyter-widgets/controls",
          "model_name": "HBoxModel",
          "model_module_version": "1.5.0",
          "state": {
            "_dom_classes": [],
            "_model_module": "@jupyter-widgets/controls",
            "_model_module_version": "1.5.0",
            "_model_name": "HBoxModel",
            "_view_count": null,
            "_view_module": "@jupyter-widgets/controls",
            "_view_module_version": "1.5.0",
            "_view_name": "HBoxView",
            "box_style": "",
            "children": [
              "IPY_MODEL_bdd082fdbdca4e2480ccf53c654558db",
              "IPY_MODEL_f42b8e8dfebd427caed1655ba0175978",
              "IPY_MODEL_8ee125a0de014aa2aae204cd32f1317f"
            ],
            "layout": "IPY_MODEL_90c9b09120994ae2b7022b7278db55b8"
          }
        },
        "bdd082fdbdca4e2480ccf53c654558db": {
          "model_module": "@jupyter-widgets/controls",
          "model_name": "HTMLModel",
          "model_module_version": "1.5.0",
          "state": {
            "_dom_classes": [],
            "_model_module": "@jupyter-widgets/controls",
            "_model_module_version": "1.5.0",
            "_model_name": "HTMLModel",
            "_view_count": null,
            "_view_module": "@jupyter-widgets/controls",
            "_view_module_version": "1.5.0",
            "_view_name": "HTMLView",
            "description": "",
            "description_tooltip": null,
            "layout": "IPY_MODEL_2f24eb5bbb0d4741a16b4ece4a951685",
            "placeholder": "​",
            "style": "IPY_MODEL_a7e26f1106aa4402b50e62340679730a",
            "value": "spiece.model: 100%"
          }
        },
        "f42b8e8dfebd427caed1655ba0175978": {
          "model_module": "@jupyter-widgets/controls",
          "model_name": "FloatProgressModel",
          "model_module_version": "1.5.0",
          "state": {
            "_dom_classes": [],
            "_model_module": "@jupyter-widgets/controls",
            "_model_module_version": "1.5.0",
            "_model_name": "FloatProgressModel",
            "_view_count": null,
            "_view_module": "@jupyter-widgets/controls",
            "_view_module_version": "1.5.0",
            "_view_name": "ProgressView",
            "bar_style": "success",
            "description": "",
            "description_tooltip": null,
            "layout": "IPY_MODEL_cf61ec7e87a94216ae5b25a032021c8e",
            "max": 4309802,
            "min": 0,
            "orientation": "horizontal",
            "style": "IPY_MODEL_e046fbc9e23348bb80834b9a383340cb",
            "value": 4309802
          }
        },
        "8ee125a0de014aa2aae204cd32f1317f": {
          "model_module": "@jupyter-widgets/controls",
          "model_name": "HTMLModel",
          "model_module_version": "1.5.0",
          "state": {
            "_dom_classes": [],
            "_model_module": "@jupyter-widgets/controls",
            "_model_module_version": "1.5.0",
            "_model_name": "HTMLModel",
            "_view_count": null,
            "_view_module": "@jupyter-widgets/controls",
            "_view_module_version": "1.5.0",
            "_view_name": "HTMLView",
            "description": "",
            "description_tooltip": null,
            "layout": "IPY_MODEL_25ad6ad3493d4b35b0a0cde7793225a1",
            "placeholder": "​",
            "style": "IPY_MODEL_a416386c8ded441790aa29e716fb2254",
            "value": " 4.31M/4.31M [00:01&lt;00:00, 3.75MB/s]"
          }
        },
        "90c9b09120994ae2b7022b7278db55b8": {
          "model_module": "@jupyter-widgets/base",
          "model_name": "LayoutModel",
          "model_module_version": "1.2.0",
          "state": {
            "_model_module": "@jupyter-widgets/base",
            "_model_module_version": "1.2.0",
            "_model_name": "LayoutModel",
            "_view_count": null,
            "_view_module": "@jupyter-widgets/base",
            "_view_module_version": "1.2.0",
            "_view_name": "LayoutView",
            "align_content": null,
            "align_items": null,
            "align_self": null,
            "border": null,
            "bottom": null,
            "display": null,
            "flex": null,
            "flex_flow": null,
            "grid_area": null,
            "grid_auto_columns": null,
            "grid_auto_flow": null,
            "grid_auto_rows": null,
            "grid_column": null,
            "grid_gap": null,
            "grid_row": null,
            "grid_template_areas": null,
            "grid_template_columns": null,
            "grid_template_rows": null,
            "height": null,
            "justify_content": null,
            "justify_items": null,
            "left": null,
            "margin": null,
            "max_height": null,
            "max_width": null,
            "min_height": null,
            "min_width": null,
            "object_fit": null,
            "object_position": null,
            "order": null,
            "overflow": null,
            "overflow_x": null,
            "overflow_y": null,
            "padding": null,
            "right": null,
            "top": null,
            "visibility": null,
            "width": null
          }
        },
        "2f24eb5bbb0d4741a16b4ece4a951685": {
          "model_module": "@jupyter-widgets/base",
          "model_name": "LayoutModel",
          "model_module_version": "1.2.0",
          "state": {
            "_model_module": "@jupyter-widgets/base",
            "_model_module_version": "1.2.0",
            "_model_name": "LayoutModel",
            "_view_count": null,
            "_view_module": "@jupyter-widgets/base",
            "_view_module_version": "1.2.0",
            "_view_name": "LayoutView",
            "align_content": null,
            "align_items": null,
            "align_self": null,
            "border": null,
            "bottom": null,
            "display": null,
            "flex": null,
            "flex_flow": null,
            "grid_area": null,
            "grid_auto_columns": null,
            "grid_auto_flow": null,
            "grid_auto_rows": null,
            "grid_column": null,
            "grid_gap": null,
            "grid_row": null,
            "grid_template_areas": null,
            "grid_template_columns": null,
            "grid_template_rows": null,
            "height": null,
            "justify_content": null,
            "justify_items": null,
            "left": null,
            "margin": null,
            "max_height": null,
            "max_width": null,
            "min_height": null,
            "min_width": null,
            "object_fit": null,
            "object_position": null,
            "order": null,
            "overflow": null,
            "overflow_x": null,
            "overflow_y": null,
            "padding": null,
            "right": null,
            "top": null,
            "visibility": null,
            "width": null
          }
        },
        "a7e26f1106aa4402b50e62340679730a": {
          "model_module": "@jupyter-widgets/controls",
          "model_name": "DescriptionStyleModel",
          "model_module_version": "1.5.0",
          "state": {
            "_model_module": "@jupyter-widgets/controls",
            "_model_module_version": "1.5.0",
            "_model_name": "DescriptionStyleModel",
            "_view_count": null,
            "_view_module": "@jupyter-widgets/base",
            "_view_module_version": "1.2.0",
            "_view_name": "StyleView",
            "description_width": ""
          }
        },
        "cf61ec7e87a94216ae5b25a032021c8e": {
          "model_module": "@jupyter-widgets/base",
          "model_name": "LayoutModel",
          "model_module_version": "1.2.0",
          "state": {
            "_model_module": "@jupyter-widgets/base",
            "_model_module_version": "1.2.0",
            "_model_name": "LayoutModel",
            "_view_count": null,
            "_view_module": "@jupyter-widgets/base",
            "_view_module_version": "1.2.0",
            "_view_name": "LayoutView",
            "align_content": null,
            "align_items": null,
            "align_self": null,
            "border": null,
            "bottom": null,
            "display": null,
            "flex": null,
            "flex_flow": null,
            "grid_area": null,
            "grid_auto_columns": null,
            "grid_auto_flow": null,
            "grid_auto_rows": null,
            "grid_column": null,
            "grid_gap": null,
            "grid_row": null,
            "grid_template_areas": null,
            "grid_template_columns": null,
            "grid_template_rows": null,
            "height": null,
            "justify_content": null,
            "justify_items": null,
            "left": null,
            "margin": null,
            "max_height": null,
            "max_width": null,
            "min_height": null,
            "min_width": null,
            "object_fit": null,
            "object_position": null,
            "order": null,
            "overflow": null,
            "overflow_x": null,
            "overflow_y": null,
            "padding": null,
            "right": null,
            "top": null,
            "visibility": null,
            "width": null
          }
        },
        "e046fbc9e23348bb80834b9a383340cb": {
          "model_module": "@jupyter-widgets/controls",
          "model_name": "ProgressStyleModel",
          "model_module_version": "1.5.0",
          "state": {
            "_model_module": "@jupyter-widgets/controls",
            "_model_module_version": "1.5.0",
            "_model_name": "ProgressStyleModel",
            "_view_count": null,
            "_view_module": "@jupyter-widgets/base",
            "_view_module_version": "1.2.0",
            "_view_name": "StyleView",
            "bar_color": null,
            "description_width": ""
          }
        },
        "25ad6ad3493d4b35b0a0cde7793225a1": {
          "model_module": "@jupyter-widgets/base",
          "model_name": "LayoutModel",
          "model_module_version": "1.2.0",
          "state": {
            "_model_module": "@jupyter-widgets/base",
            "_model_module_version": "1.2.0",
            "_model_name": "LayoutModel",
            "_view_count": null,
            "_view_module": "@jupyter-widgets/base",
            "_view_module_version": "1.2.0",
            "_view_name": "LayoutView",
            "align_content": null,
            "align_items": null,
            "align_self": null,
            "border": null,
            "bottom": null,
            "display": null,
            "flex": null,
            "flex_flow": null,
            "grid_area": null,
            "grid_auto_columns": null,
            "grid_auto_flow": null,
            "grid_auto_rows": null,
            "grid_column": null,
            "grid_gap": null,
            "grid_row": null,
            "grid_template_areas": null,
            "grid_template_columns": null,
            "grid_template_rows": null,
            "height": null,
            "justify_content": null,
            "justify_items": null,
            "left": null,
            "margin": null,
            "max_height": null,
            "max_width": null,
            "min_height": null,
            "min_width": null,
            "object_fit": null,
            "object_position": null,
            "order": null,
            "overflow": null,
            "overflow_x": null,
            "overflow_y": null,
            "padding": null,
            "right": null,
            "top": null,
            "visibility": null,
            "width": null
          }
        },
        "a416386c8ded441790aa29e716fb2254": {
          "model_module": "@jupyter-widgets/controls",
          "model_name": "DescriptionStyleModel",
          "model_module_version": "1.5.0",
          "state": {
            "_model_module": "@jupyter-widgets/controls",
            "_model_module_version": "1.5.0",
            "_model_name": "DescriptionStyleModel",
            "_view_count": null,
            "_view_module": "@jupyter-widgets/base",
            "_view_module_version": "1.2.0",
            "_view_name": "StyleView",
            "description_width": ""
          }
        },
        "16bd09f302684828bdd6aa448718f821": {
          "model_module": "@jupyter-widgets/controls",
          "model_name": "HBoxModel",
          "model_module_version": "1.5.0",
          "state": {
            "_dom_classes": [],
            "_model_module": "@jupyter-widgets/controls",
            "_model_module_version": "1.5.0",
            "_model_name": "HBoxModel",
            "_view_count": null,
            "_view_module": "@jupyter-widgets/controls",
            "_view_module_version": "1.5.0",
            "_view_name": "HBoxView",
            "box_style": "",
            "children": [
              "IPY_MODEL_1f630359bfbe494c86ab8433bcb1c986",
              "IPY_MODEL_12cc6a4562b54c9abde4f277f84c5743",
              "IPY_MODEL_66dc0823a7e24a94bada96e2d6edc657"
            ],
            "layout": "IPY_MODEL_f57eb755d2d44e6c88abfc38bda18bd5"
          }
        },
        "1f630359bfbe494c86ab8433bcb1c986": {
          "model_module": "@jupyter-widgets/controls",
          "model_name": "HTMLModel",
          "model_module_version": "1.5.0",
          "state": {
            "_dom_classes": [],
            "_model_module": "@jupyter-widgets/controls",
            "_model_module_version": "1.5.0",
            "_model_name": "HTMLModel",
            "_view_count": null,
            "_view_module": "@jupyter-widgets/controls",
            "_view_module_version": "1.5.0",
            "_view_name": "HTMLView",
            "description": "",
            "description_tooltip": null,
            "layout": "IPY_MODEL_2178a52d542c4726b0bbcc7776a4d5b1",
            "placeholder": "​",
            "style": "IPY_MODEL_fda4ff6f52834f2686bc9eb33fd6b2c5",
            "value": "special_tokens_map.json: 100%"
          }
        },
        "12cc6a4562b54c9abde4f277f84c5743": {
          "model_module": "@jupyter-widgets/controls",
          "model_name": "FloatProgressModel",
          "model_module_version": "1.5.0",
          "state": {
            "_dom_classes": [],
            "_model_module": "@jupyter-widgets/controls",
            "_model_module_version": "1.5.0",
            "_model_name": "FloatProgressModel",
            "_view_count": null,
            "_view_module": "@jupyter-widgets/controls",
            "_view_module_version": "1.5.0",
            "_view_name": "ProgressView",
            "bar_style": "success",
            "description": "",
            "description_tooltip": null,
            "layout": "IPY_MODEL_7244ebaf49e24ee191e1f4be2dde1712",
            "max": 99,
            "min": 0,
            "orientation": "horizontal",
            "style": "IPY_MODEL_d46c80673a3c4b0a85767e37833f8dfa",
            "value": 99
          }
        },
        "66dc0823a7e24a94bada96e2d6edc657": {
          "model_module": "@jupyter-widgets/controls",
          "model_name": "HTMLModel",
          "model_module_version": "1.5.0",
          "state": {
            "_dom_classes": [],
            "_model_module": "@jupyter-widgets/controls",
            "_model_module_version": "1.5.0",
            "_model_name": "HTMLModel",
            "_view_count": null,
            "_view_module": "@jupyter-widgets/controls",
            "_view_module_version": "1.5.0",
            "_view_name": "HTMLView",
            "description": "",
            "description_tooltip": null,
            "layout": "IPY_MODEL_dced8437889f4b31b15b7f2bd855033b",
            "placeholder": "​",
            "style": "IPY_MODEL_2babe1a0f2ee491485f58e4b96ff2ae3",
            "value": " 99.0/99.0 [00:00&lt;00:00, 5.03kB/s]"
          }
        },
        "f57eb755d2d44e6c88abfc38bda18bd5": {
          "model_module": "@jupyter-widgets/base",
          "model_name": "LayoutModel",
          "model_module_version": "1.2.0",
          "state": {
            "_model_module": "@jupyter-widgets/base",
            "_model_module_version": "1.2.0",
            "_model_name": "LayoutModel",
            "_view_count": null,
            "_view_module": "@jupyter-widgets/base",
            "_view_module_version": "1.2.0",
            "_view_name": "LayoutView",
            "align_content": null,
            "align_items": null,
            "align_self": null,
            "border": null,
            "bottom": null,
            "display": null,
            "flex": null,
            "flex_flow": null,
            "grid_area": null,
            "grid_auto_columns": null,
            "grid_auto_flow": null,
            "grid_auto_rows": null,
            "grid_column": null,
            "grid_gap": null,
            "grid_row": null,
            "grid_template_areas": null,
            "grid_template_columns": null,
            "grid_template_rows": null,
            "height": null,
            "justify_content": null,
            "justify_items": null,
            "left": null,
            "margin": null,
            "max_height": null,
            "max_width": null,
            "min_height": null,
            "min_width": null,
            "object_fit": null,
            "object_position": null,
            "order": null,
            "overflow": null,
            "overflow_x": null,
            "overflow_y": null,
            "padding": null,
            "right": null,
            "top": null,
            "visibility": null,
            "width": null
          }
        },
        "2178a52d542c4726b0bbcc7776a4d5b1": {
          "model_module": "@jupyter-widgets/base",
          "model_name": "LayoutModel",
          "model_module_version": "1.2.0",
          "state": {
            "_model_module": "@jupyter-widgets/base",
            "_model_module_version": "1.2.0",
            "_model_name": "LayoutModel",
            "_view_count": null,
            "_view_module": "@jupyter-widgets/base",
            "_view_module_version": "1.2.0",
            "_view_name": "LayoutView",
            "align_content": null,
            "align_items": null,
            "align_self": null,
            "border": null,
            "bottom": null,
            "display": null,
            "flex": null,
            "flex_flow": null,
            "grid_area": null,
            "grid_auto_columns": null,
            "grid_auto_flow": null,
            "grid_auto_rows": null,
            "grid_column": null,
            "grid_gap": null,
            "grid_row": null,
            "grid_template_areas": null,
            "grid_template_columns": null,
            "grid_template_rows": null,
            "height": null,
            "justify_content": null,
            "justify_items": null,
            "left": null,
            "margin": null,
            "max_height": null,
            "max_width": null,
            "min_height": null,
            "min_width": null,
            "object_fit": null,
            "object_position": null,
            "order": null,
            "overflow": null,
            "overflow_x": null,
            "overflow_y": null,
            "padding": null,
            "right": null,
            "top": null,
            "visibility": null,
            "width": null
          }
        },
        "fda4ff6f52834f2686bc9eb33fd6b2c5": {
          "model_module": "@jupyter-widgets/controls",
          "model_name": "DescriptionStyleModel",
          "model_module_version": "1.5.0",
          "state": {
            "_model_module": "@jupyter-widgets/controls",
            "_model_module_version": "1.5.0",
            "_model_name": "DescriptionStyleModel",
            "_view_count": null,
            "_view_module": "@jupyter-widgets/base",
            "_view_module_version": "1.2.0",
            "_view_name": "StyleView",
            "description_width": ""
          }
        },
        "7244ebaf49e24ee191e1f4be2dde1712": {
          "model_module": "@jupyter-widgets/base",
          "model_name": "LayoutModel",
          "model_module_version": "1.2.0",
          "state": {
            "_model_module": "@jupyter-widgets/base",
            "_model_module_version": "1.2.0",
            "_model_name": "LayoutModel",
            "_view_count": null,
            "_view_module": "@jupyter-widgets/base",
            "_view_module_version": "1.2.0",
            "_view_name": "LayoutView",
            "align_content": null,
            "align_items": null,
            "align_self": null,
            "border": null,
            "bottom": null,
            "display": null,
            "flex": null,
            "flex_flow": null,
            "grid_area": null,
            "grid_auto_columns": null,
            "grid_auto_flow": null,
            "grid_auto_rows": null,
            "grid_column": null,
            "grid_gap": null,
            "grid_row": null,
            "grid_template_areas": null,
            "grid_template_columns": null,
            "grid_template_rows": null,
            "height": null,
            "justify_content": null,
            "justify_items": null,
            "left": null,
            "margin": null,
            "max_height": null,
            "max_width": null,
            "min_height": null,
            "min_width": null,
            "object_fit": null,
            "object_position": null,
            "order": null,
            "overflow": null,
            "overflow_x": null,
            "overflow_y": null,
            "padding": null,
            "right": null,
            "top": null,
            "visibility": null,
            "width": null
          }
        },
        "d46c80673a3c4b0a85767e37833f8dfa": {
          "model_module": "@jupyter-widgets/controls",
          "model_name": "ProgressStyleModel",
          "model_module_version": "1.5.0",
          "state": {
            "_model_module": "@jupyter-widgets/controls",
            "_model_module_version": "1.5.0",
            "_model_name": "ProgressStyleModel",
            "_view_count": null,
            "_view_module": "@jupyter-widgets/base",
            "_view_module_version": "1.2.0",
            "_view_name": "StyleView",
            "bar_color": null,
            "description_width": ""
          }
        },
        "dced8437889f4b31b15b7f2bd855033b": {
          "model_module": "@jupyter-widgets/base",
          "model_name": "LayoutModel",
          "model_module_version": "1.2.0",
          "state": {
            "_model_module": "@jupyter-widgets/base",
            "_model_module_version": "1.2.0",
            "_model_name": "LayoutModel",
            "_view_count": null,
            "_view_module": "@jupyter-widgets/base",
            "_view_module_version": "1.2.0",
            "_view_name": "LayoutView",
            "align_content": null,
            "align_items": null,
            "align_self": null,
            "border": null,
            "bottom": null,
            "display": null,
            "flex": null,
            "flex_flow": null,
            "grid_area": null,
            "grid_auto_columns": null,
            "grid_auto_flow": null,
            "grid_auto_rows": null,
            "grid_column": null,
            "grid_gap": null,
            "grid_row": null,
            "grid_template_areas": null,
            "grid_template_columns": null,
            "grid_template_rows": null,
            "height": null,
            "justify_content": null,
            "justify_items": null,
            "left": null,
            "margin": null,
            "max_height": null,
            "max_width": null,
            "min_height": null,
            "min_width": null,
            "object_fit": null,
            "object_position": null,
            "order": null,
            "overflow": null,
            "overflow_x": null,
            "overflow_y": null,
            "padding": null,
            "right": null,
            "top": null,
            "visibility": null,
            "width": null
          }
        },
        "2babe1a0f2ee491485f58e4b96ff2ae3": {
          "model_module": "@jupyter-widgets/controls",
          "model_name": "DescriptionStyleModel",
          "model_module_version": "1.5.0",
          "state": {
            "_model_module": "@jupyter-widgets/controls",
            "_model_module_version": "1.5.0",
            "_model_name": "DescriptionStyleModel",
            "_view_count": null,
            "_view_module": "@jupyter-widgets/base",
            "_view_module_version": "1.2.0",
            "_view_name": "StyleView",
            "description_width": ""
          }
        },
        "5d85e51926844ef0b64d528e07cbcb31": {
          "model_module": "@jupyter-widgets/controls",
          "model_name": "HBoxModel",
          "model_module_version": "1.5.0",
          "state": {
            "_dom_classes": [],
            "_model_module": "@jupyter-widgets/controls",
            "_model_module_version": "1.5.0",
            "_model_name": "HBoxModel",
            "_view_count": null,
            "_view_module": "@jupyter-widgets/controls",
            "_view_module_version": "1.5.0",
            "_view_name": "HBoxView",
            "box_style": "",
            "children": [
              "IPY_MODEL_f0aeb42f4067409ba5eeb4393e25d39b",
              "IPY_MODEL_1804fa2adb244c2aaaa069a4fd164be4",
              "IPY_MODEL_cc6eaebcdd464eebaeee17d038412340"
            ],
            "layout": "IPY_MODEL_24729a337ba84b0bac43bd169ea183d6"
          }
        },
        "f0aeb42f4067409ba5eeb4393e25d39b": {
          "model_module": "@jupyter-widgets/controls",
          "model_name": "HTMLModel",
          "model_module_version": "1.5.0",
          "state": {
            "_dom_classes": [],
            "_model_module": "@jupyter-widgets/controls",
            "_model_module_version": "1.5.0",
            "_model_name": "HTMLModel",
            "_view_count": null,
            "_view_module": "@jupyter-widgets/controls",
            "_view_module_version": "1.5.0",
            "_view_name": "HTMLView",
            "description": "",
            "description_tooltip": null,
            "layout": "IPY_MODEL_11f73fb63d1d46cd859024d9eeea1acc",
            "placeholder": "​",
            "style": "IPY_MODEL_e3b4184f79f84444b10671a879fecd68",
            "value": "Map: 100%"
          }
        },
        "1804fa2adb244c2aaaa069a4fd164be4": {
          "model_module": "@jupyter-widgets/controls",
          "model_name": "FloatProgressModel",
          "model_module_version": "1.5.0",
          "state": {
            "_dom_classes": [],
            "_model_module": "@jupyter-widgets/controls",
            "_model_module_version": "1.5.0",
            "_model_name": "FloatProgressModel",
            "_view_count": null,
            "_view_module": "@jupyter-widgets/controls",
            "_view_module_version": "1.5.0",
            "_view_name": "ProgressView",
            "bar_style": "success",
            "description": "",
            "description_tooltip": null,
            "layout": "IPY_MODEL_c597cc70cc2140edac491a820f52a0f2",
            "max": 24995,
            "min": 0,
            "orientation": "horizontal",
            "style": "IPY_MODEL_cf38758d387b49b988d1e4696600dec0",
            "value": 24995
          }
        },
        "cc6eaebcdd464eebaeee17d038412340": {
          "model_module": "@jupyter-widgets/controls",
          "model_name": "HTMLModel",
          "model_module_version": "1.5.0",
          "state": {
            "_dom_classes": [],
            "_model_module": "@jupyter-widgets/controls",
            "_model_module_version": "1.5.0",
            "_model_name": "HTMLModel",
            "_view_count": null,
            "_view_module": "@jupyter-widgets/controls",
            "_view_module_version": "1.5.0",
            "_view_name": "HTMLView",
            "description": "",
            "description_tooltip": null,
            "layout": "IPY_MODEL_36f5205f470545119cde5f6c5e3755fa",
            "placeholder": "​",
            "style": "IPY_MODEL_ad21de0e96ce437c84e8aaaacdb472a4",
            "value": " 24995/24995 [02:54&lt;00:00, 161.57 examples/s]"
          }
        },
        "24729a337ba84b0bac43bd169ea183d6": {
          "model_module": "@jupyter-widgets/base",
          "model_name": "LayoutModel",
          "model_module_version": "1.2.0",
          "state": {
            "_model_module": "@jupyter-widgets/base",
            "_model_module_version": "1.2.0",
            "_model_name": "LayoutModel",
            "_view_count": null,
            "_view_module": "@jupyter-widgets/base",
            "_view_module_version": "1.2.0",
            "_view_name": "LayoutView",
            "align_content": null,
            "align_items": null,
            "align_self": null,
            "border": null,
            "bottom": null,
            "display": null,
            "flex": null,
            "flex_flow": null,
            "grid_area": null,
            "grid_auto_columns": null,
            "grid_auto_flow": null,
            "grid_auto_rows": null,
            "grid_column": null,
            "grid_gap": null,
            "grid_row": null,
            "grid_template_areas": null,
            "grid_template_columns": null,
            "grid_template_rows": null,
            "height": null,
            "justify_content": null,
            "justify_items": null,
            "left": null,
            "margin": null,
            "max_height": null,
            "max_width": null,
            "min_height": null,
            "min_width": null,
            "object_fit": null,
            "object_position": null,
            "order": null,
            "overflow": null,
            "overflow_x": null,
            "overflow_y": null,
            "padding": null,
            "right": null,
            "top": null,
            "visibility": null,
            "width": null
          }
        },
        "11f73fb63d1d46cd859024d9eeea1acc": {
          "model_module": "@jupyter-widgets/base",
          "model_name": "LayoutModel",
          "model_module_version": "1.2.0",
          "state": {
            "_model_module": "@jupyter-widgets/base",
            "_model_module_version": "1.2.0",
            "_model_name": "LayoutModel",
            "_view_count": null,
            "_view_module": "@jupyter-widgets/base",
            "_view_module_version": "1.2.0",
            "_view_name": "LayoutView",
            "align_content": null,
            "align_items": null,
            "align_self": null,
            "border": null,
            "bottom": null,
            "display": null,
            "flex": null,
            "flex_flow": null,
            "grid_area": null,
            "grid_auto_columns": null,
            "grid_auto_flow": null,
            "grid_auto_rows": null,
            "grid_column": null,
            "grid_gap": null,
            "grid_row": null,
            "grid_template_areas": null,
            "grid_template_columns": null,
            "grid_template_rows": null,
            "height": null,
            "justify_content": null,
            "justify_items": null,
            "left": null,
            "margin": null,
            "max_height": null,
            "max_width": null,
            "min_height": null,
            "min_width": null,
            "object_fit": null,
            "object_position": null,
            "order": null,
            "overflow": null,
            "overflow_x": null,
            "overflow_y": null,
            "padding": null,
            "right": null,
            "top": null,
            "visibility": null,
            "width": null
          }
        },
        "e3b4184f79f84444b10671a879fecd68": {
          "model_module": "@jupyter-widgets/controls",
          "model_name": "DescriptionStyleModel",
          "model_module_version": "1.5.0",
          "state": {
            "_model_module": "@jupyter-widgets/controls",
            "_model_module_version": "1.5.0",
            "_model_name": "DescriptionStyleModel",
            "_view_count": null,
            "_view_module": "@jupyter-widgets/base",
            "_view_module_version": "1.2.0",
            "_view_name": "StyleView",
            "description_width": ""
          }
        },
        "c597cc70cc2140edac491a820f52a0f2": {
          "model_module": "@jupyter-widgets/base",
          "model_name": "LayoutModel",
          "model_module_version": "1.2.0",
          "state": {
            "_model_module": "@jupyter-widgets/base",
            "_model_module_version": "1.2.0",
            "_model_name": "LayoutModel",
            "_view_count": null,
            "_view_module": "@jupyter-widgets/base",
            "_view_module_version": "1.2.0",
            "_view_name": "LayoutView",
            "align_content": null,
            "align_items": null,
            "align_self": null,
            "border": null,
            "bottom": null,
            "display": null,
            "flex": null,
            "flex_flow": null,
            "grid_area": null,
            "grid_auto_columns": null,
            "grid_auto_flow": null,
            "grid_auto_rows": null,
            "grid_column": null,
            "grid_gap": null,
            "grid_row": null,
            "grid_template_areas": null,
            "grid_template_columns": null,
            "grid_template_rows": null,
            "height": null,
            "justify_content": null,
            "justify_items": null,
            "left": null,
            "margin": null,
            "max_height": null,
            "max_width": null,
            "min_height": null,
            "min_width": null,
            "object_fit": null,
            "object_position": null,
            "order": null,
            "overflow": null,
            "overflow_x": null,
            "overflow_y": null,
            "padding": null,
            "right": null,
            "top": null,
            "visibility": null,
            "width": null
          }
        },
        "cf38758d387b49b988d1e4696600dec0": {
          "model_module": "@jupyter-widgets/controls",
          "model_name": "ProgressStyleModel",
          "model_module_version": "1.5.0",
          "state": {
            "_model_module": "@jupyter-widgets/controls",
            "_model_module_version": "1.5.0",
            "_model_name": "ProgressStyleModel",
            "_view_count": null,
            "_view_module": "@jupyter-widgets/base",
            "_view_module_version": "1.2.0",
            "_view_name": "StyleView",
            "bar_color": null,
            "description_width": ""
          }
        },
        "36f5205f470545119cde5f6c5e3755fa": {
          "model_module": "@jupyter-widgets/base",
          "model_name": "LayoutModel",
          "model_module_version": "1.2.0",
          "state": {
            "_model_module": "@jupyter-widgets/base",
            "_model_module_version": "1.2.0",
            "_model_name": "LayoutModel",
            "_view_count": null,
            "_view_module": "@jupyter-widgets/base",
            "_view_module_version": "1.2.0",
            "_view_name": "LayoutView",
            "align_content": null,
            "align_items": null,
            "align_self": null,
            "border": null,
            "bottom": null,
            "display": null,
            "flex": null,
            "flex_flow": null,
            "grid_area": null,
            "grid_auto_columns": null,
            "grid_auto_flow": null,
            "grid_auto_rows": null,
            "grid_column": null,
            "grid_gap": null,
            "grid_row": null,
            "grid_template_areas": null,
            "grid_template_columns": null,
            "grid_template_rows": null,
            "height": null,
            "justify_content": null,
            "justify_items": null,
            "left": null,
            "margin": null,
            "max_height": null,
            "max_width": null,
            "min_height": null,
            "min_width": null,
            "object_fit": null,
            "object_position": null,
            "order": null,
            "overflow": null,
            "overflow_x": null,
            "overflow_y": null,
            "padding": null,
            "right": null,
            "top": null,
            "visibility": null,
            "width": null
          }
        },
        "ad21de0e96ce437c84e8aaaacdb472a4": {
          "model_module": "@jupyter-widgets/controls",
          "model_name": "DescriptionStyleModel",
          "model_module_version": "1.5.0",
          "state": {
            "_model_module": "@jupyter-widgets/controls",
            "_model_module_version": "1.5.0",
            "_model_name": "DescriptionStyleModel",
            "_view_count": null,
            "_view_module": "@jupyter-widgets/base",
            "_view_module_version": "1.2.0",
            "_view_name": "StyleView",
            "description_width": ""
          }
        },
        "be7712c657124e77a1bd4b49cf68c45a": {
          "model_module": "@jupyter-widgets/controls",
          "model_name": "HBoxModel",
          "model_module_version": "1.5.0",
          "state": {
            "_dom_classes": [],
            "_model_module": "@jupyter-widgets/controls",
            "_model_module_version": "1.5.0",
            "_model_name": "HBoxModel",
            "_view_count": null,
            "_view_module": "@jupyter-widgets/controls",
            "_view_module_version": "1.5.0",
            "_view_name": "HBoxView",
            "box_style": "",
            "children": [
              "IPY_MODEL_7801140a9f004f67917205e8125fdd61",
              "IPY_MODEL_8f629d232fdf4f3bb32d6f852f7becf2",
              "IPY_MODEL_7ddaa180235e4c43be6b08fd63c41afb"
            ],
            "layout": "IPY_MODEL_20732d0b60ac4aa09a7e5f74e3afbf97"
          }
        },
        "7801140a9f004f67917205e8125fdd61": {
          "model_module": "@jupyter-widgets/controls",
          "model_name": "HTMLModel",
          "model_module_version": "1.5.0",
          "state": {
            "_dom_classes": [],
            "_model_module": "@jupyter-widgets/controls",
            "_model_module_version": "1.5.0",
            "_model_name": "HTMLModel",
            "_view_count": null,
            "_view_module": "@jupyter-widgets/controls",
            "_view_module_version": "1.5.0",
            "_view_name": "HTMLView",
            "description": "",
            "description_tooltip": null,
            "layout": "IPY_MODEL_65a2f265ac6a4eb88d7e4a9e2c5ec149",
            "placeholder": "​",
            "style": "IPY_MODEL_3538eaa1317b4e53b09f98804d827d45",
            "value": "Map: 100%"
          }
        },
        "8f629d232fdf4f3bb32d6f852f7becf2": {
          "model_module": "@jupyter-widgets/controls",
          "model_name": "FloatProgressModel",
          "model_module_version": "1.5.0",
          "state": {
            "_dom_classes": [],
            "_model_module": "@jupyter-widgets/controls",
            "_model_module_version": "1.5.0",
            "_model_name": "FloatProgressModel",
            "_view_count": null,
            "_view_module": "@jupyter-widgets/controls",
            "_view_module_version": "1.5.0",
            "_view_name": "ProgressView",
            "bar_style": "success",
            "description": "",
            "description_tooltip": null,
            "layout": "IPY_MODEL_6a004fd280a444d3b803e8e080bb43ef",
            "max": 1316,
            "min": 0,
            "orientation": "horizontal",
            "style": "IPY_MODEL_c736461d8f404cf0b82ce4bdbda8e216",
            "value": 1316
          }
        },
        "7ddaa180235e4c43be6b08fd63c41afb": {
          "model_module": "@jupyter-widgets/controls",
          "model_name": "HTMLModel",
          "model_module_version": "1.5.0",
          "state": {
            "_dom_classes": [],
            "_model_module": "@jupyter-widgets/controls",
            "_model_module_version": "1.5.0",
            "_model_name": "HTMLModel",
            "_view_count": null,
            "_view_module": "@jupyter-widgets/controls",
            "_view_module_version": "1.5.0",
            "_view_name": "HTMLView",
            "description": "",
            "description_tooltip": null,
            "layout": "IPY_MODEL_df175529b63e4ec58ade92cf678a649b",
            "placeholder": "​",
            "style": "IPY_MODEL_601a0925c0ed4033a4f1c9fc3f0e88aa",
            "value": " 1316/1316 [00:06&lt;00:00, 194.96 examples/s]"
          }
        },
        "20732d0b60ac4aa09a7e5f74e3afbf97": {
          "model_module": "@jupyter-widgets/base",
          "model_name": "LayoutModel",
          "model_module_version": "1.2.0",
          "state": {
            "_model_module": "@jupyter-widgets/base",
            "_model_module_version": "1.2.0",
            "_model_name": "LayoutModel",
            "_view_count": null,
            "_view_module": "@jupyter-widgets/base",
            "_view_module_version": "1.2.0",
            "_view_name": "LayoutView",
            "align_content": null,
            "align_items": null,
            "align_self": null,
            "border": null,
            "bottom": null,
            "display": null,
            "flex": null,
            "flex_flow": null,
            "grid_area": null,
            "grid_auto_columns": null,
            "grid_auto_flow": null,
            "grid_auto_rows": null,
            "grid_column": null,
            "grid_gap": null,
            "grid_row": null,
            "grid_template_areas": null,
            "grid_template_columns": null,
            "grid_template_rows": null,
            "height": null,
            "justify_content": null,
            "justify_items": null,
            "left": null,
            "margin": null,
            "max_height": null,
            "max_width": null,
            "min_height": null,
            "min_width": null,
            "object_fit": null,
            "object_position": null,
            "order": null,
            "overflow": null,
            "overflow_x": null,
            "overflow_y": null,
            "padding": null,
            "right": null,
            "top": null,
            "visibility": null,
            "width": null
          }
        },
        "65a2f265ac6a4eb88d7e4a9e2c5ec149": {
          "model_module": "@jupyter-widgets/base",
          "model_name": "LayoutModel",
          "model_module_version": "1.2.0",
          "state": {
            "_model_module": "@jupyter-widgets/base",
            "_model_module_version": "1.2.0",
            "_model_name": "LayoutModel",
            "_view_count": null,
            "_view_module": "@jupyter-widgets/base",
            "_view_module_version": "1.2.0",
            "_view_name": "LayoutView",
            "align_content": null,
            "align_items": null,
            "align_self": null,
            "border": null,
            "bottom": null,
            "display": null,
            "flex": null,
            "flex_flow": null,
            "grid_area": null,
            "grid_auto_columns": null,
            "grid_auto_flow": null,
            "grid_auto_rows": null,
            "grid_column": null,
            "grid_gap": null,
            "grid_row": null,
            "grid_template_areas": null,
            "grid_template_columns": null,
            "grid_template_rows": null,
            "height": null,
            "justify_content": null,
            "justify_items": null,
            "left": null,
            "margin": null,
            "max_height": null,
            "max_width": null,
            "min_height": null,
            "min_width": null,
            "object_fit": null,
            "object_position": null,
            "order": null,
            "overflow": null,
            "overflow_x": null,
            "overflow_y": null,
            "padding": null,
            "right": null,
            "top": null,
            "visibility": null,
            "width": null
          }
        },
        "3538eaa1317b4e53b09f98804d827d45": {
          "model_module": "@jupyter-widgets/controls",
          "model_name": "DescriptionStyleModel",
          "model_module_version": "1.5.0",
          "state": {
            "_model_module": "@jupyter-widgets/controls",
            "_model_module_version": "1.5.0",
            "_model_name": "DescriptionStyleModel",
            "_view_count": null,
            "_view_module": "@jupyter-widgets/base",
            "_view_module_version": "1.2.0",
            "_view_name": "StyleView",
            "description_width": ""
          }
        },
        "6a004fd280a444d3b803e8e080bb43ef": {
          "model_module": "@jupyter-widgets/base",
          "model_name": "LayoutModel",
          "model_module_version": "1.2.0",
          "state": {
            "_model_module": "@jupyter-widgets/base",
            "_model_module_version": "1.2.0",
            "_model_name": "LayoutModel",
            "_view_count": null,
            "_view_module": "@jupyter-widgets/base",
            "_view_module_version": "1.2.0",
            "_view_name": "LayoutView",
            "align_content": null,
            "align_items": null,
            "align_self": null,
            "border": null,
            "bottom": null,
            "display": null,
            "flex": null,
            "flex_flow": null,
            "grid_area": null,
            "grid_auto_columns": null,
            "grid_auto_flow": null,
            "grid_auto_rows": null,
            "grid_column": null,
            "grid_gap": null,
            "grid_row": null,
            "grid_template_areas": null,
            "grid_template_columns": null,
            "grid_template_rows": null,
            "height": null,
            "justify_content": null,
            "justify_items": null,
            "left": null,
            "margin": null,
            "max_height": null,
            "max_width": null,
            "min_height": null,
            "min_width": null,
            "object_fit": null,
            "object_position": null,
            "order": null,
            "overflow": null,
            "overflow_x": null,
            "overflow_y": null,
            "padding": null,
            "right": null,
            "top": null,
            "visibility": null,
            "width": null
          }
        },
        "c736461d8f404cf0b82ce4bdbda8e216": {
          "model_module": "@jupyter-widgets/controls",
          "model_name": "ProgressStyleModel",
          "model_module_version": "1.5.0",
          "state": {
            "_model_module": "@jupyter-widgets/controls",
            "_model_module_version": "1.5.0",
            "_model_name": "ProgressStyleModel",
            "_view_count": null,
            "_view_module": "@jupyter-widgets/base",
            "_view_module_version": "1.2.0",
            "_view_name": "StyleView",
            "bar_color": null,
            "description_width": ""
          }
        },
        "df175529b63e4ec58ade92cf678a649b": {
          "model_module": "@jupyter-widgets/base",
          "model_name": "LayoutModel",
          "model_module_version": "1.2.0",
          "state": {
            "_model_module": "@jupyter-widgets/base",
            "_model_module_version": "1.2.0",
            "_model_name": "LayoutModel",
            "_view_count": null,
            "_view_module": "@jupyter-widgets/base",
            "_view_module_version": "1.2.0",
            "_view_name": "LayoutView",
            "align_content": null,
            "align_items": null,
            "align_self": null,
            "border": null,
            "bottom": null,
            "display": null,
            "flex": null,
            "flex_flow": null,
            "grid_area": null,
            "grid_auto_columns": null,
            "grid_auto_flow": null,
            "grid_auto_rows": null,
            "grid_column": null,
            "grid_gap": null,
            "grid_row": null,
            "grid_template_areas": null,
            "grid_template_columns": null,
            "grid_template_rows": null,
            "height": null,
            "justify_content": null,
            "justify_items": null,
            "left": null,
            "margin": null,
            "max_height": null,
            "max_width": null,
            "min_height": null,
            "min_width": null,
            "object_fit": null,
            "object_position": null,
            "order": null,
            "overflow": null,
            "overflow_x": null,
            "overflow_y": null,
            "padding": null,
            "right": null,
            "top": null,
            "visibility": null,
            "width": null
          }
        },
        "601a0925c0ed4033a4f1c9fc3f0e88aa": {
          "model_module": "@jupyter-widgets/controls",
          "model_name": "DescriptionStyleModel",
          "model_module_version": "1.5.0",
          "state": {
            "_model_module": "@jupyter-widgets/controls",
            "_model_module_version": "1.5.0",
            "_model_name": "DescriptionStyleModel",
            "_view_count": null,
            "_view_module": "@jupyter-widgets/base",
            "_view_module_version": "1.2.0",
            "_view_name": "StyleView",
            "description_width": ""
          }
        },
        "4ed2d883c91746e9ade74733bb853fb7": {
          "model_module": "@jupyter-widgets/controls",
          "model_name": "HBoxModel",
          "model_module_version": "1.5.0",
          "state": {
            "_dom_classes": [],
            "_model_module": "@jupyter-widgets/controls",
            "_model_module_version": "1.5.0",
            "_model_name": "HBoxModel",
            "_view_count": null,
            "_view_module": "@jupyter-widgets/controls",
            "_view_module_version": "1.5.0",
            "_view_name": "HBoxView",
            "box_style": "",
            "children": [
              "IPY_MODEL_382c3079bcdb448c9b1df3658065e0e7",
              "IPY_MODEL_b536e5d4c8054671951085cae68ed088",
              "IPY_MODEL_611d757f406c4971aaca5f0b8baca428"
            ],
            "layout": "IPY_MODEL_1995e95d8a4944148be067566189b123"
          }
        },
        "382c3079bcdb448c9b1df3658065e0e7": {
          "model_module": "@jupyter-widgets/controls",
          "model_name": "HTMLModel",
          "model_module_version": "1.5.0",
          "state": {
            "_dom_classes": [],
            "_model_module": "@jupyter-widgets/controls",
            "_model_module_version": "1.5.0",
            "_model_name": "HTMLModel",
            "_view_count": null,
            "_view_module": "@jupyter-widgets/controls",
            "_view_module_version": "1.5.0",
            "_view_name": "HTMLView",
            "description": "",
            "description_tooltip": null,
            "layout": "IPY_MODEL_1e98efe4f0cd4de0935826ea1e563c21",
            "placeholder": "​",
            "style": "IPY_MODEL_e965d86e07b14687825ac5131df69f61",
            "value": "pytorch_model.bin: 100%"
          }
        },
        "b536e5d4c8054671951085cae68ed088": {
          "model_module": "@jupyter-widgets/controls",
          "model_name": "FloatProgressModel",
          "model_module_version": "1.5.0",
          "state": {
            "_dom_classes": [],
            "_model_module": "@jupyter-widgets/controls",
            "_model_module_version": "1.5.0",
            "_model_name": "FloatProgressModel",
            "_view_count": null,
            "_view_module": "@jupyter-widgets/controls",
            "_view_module_version": "1.5.0",
            "_view_name": "ProgressView",
            "bar_style": "success",
            "description": "",
            "description_tooltip": null,
            "layout": "IPY_MODEL_52dfd51a7ec94917b96835ef86c89e4f",
            "max": 1200794589,
            "min": 0,
            "orientation": "horizontal",
            "style": "IPY_MODEL_9dc40585518c49f684a203ca618e5dc7",
            "value": 1200794589
          }
        },
        "611d757f406c4971aaca5f0b8baca428": {
          "model_module": "@jupyter-widgets/controls",
          "model_name": "HTMLModel",
          "model_module_version": "1.5.0",
          "state": {
            "_dom_classes": [],
            "_model_module": "@jupyter-widgets/controls",
            "_model_module_version": "1.5.0",
            "_model_name": "HTMLModel",
            "_view_count": null,
            "_view_module": "@jupyter-widgets/controls",
            "_view_module_version": "1.5.0",
            "_view_name": "HTMLView",
            "description": "",
            "description_tooltip": null,
            "layout": "IPY_MODEL_474368fd3d4347ca8a1ee1a96e4893ba",
            "placeholder": "​",
            "style": "IPY_MODEL_e39bff7cb12240e784b2d278cc728e34",
            "value": " 1.20G/1.20G [00:11&lt;00:00, 210MB/s]"
          }
        },
        "1995e95d8a4944148be067566189b123": {
          "model_module": "@jupyter-widgets/base",
          "model_name": "LayoutModel",
          "model_module_version": "1.2.0",
          "state": {
            "_model_module": "@jupyter-widgets/base",
            "_model_module_version": "1.2.0",
            "_model_name": "LayoutModel",
            "_view_count": null,
            "_view_module": "@jupyter-widgets/base",
            "_view_module_version": "1.2.0",
            "_view_name": "LayoutView",
            "align_content": null,
            "align_items": null,
            "align_self": null,
            "border": null,
            "bottom": null,
            "display": null,
            "flex": null,
            "flex_flow": null,
            "grid_area": null,
            "grid_auto_columns": null,
            "grid_auto_flow": null,
            "grid_auto_rows": null,
            "grid_column": null,
            "grid_gap": null,
            "grid_row": null,
            "grid_template_areas": null,
            "grid_template_columns": null,
            "grid_template_rows": null,
            "height": null,
            "justify_content": null,
            "justify_items": null,
            "left": null,
            "margin": null,
            "max_height": null,
            "max_width": null,
            "min_height": null,
            "min_width": null,
            "object_fit": null,
            "object_position": null,
            "order": null,
            "overflow": null,
            "overflow_x": null,
            "overflow_y": null,
            "padding": null,
            "right": null,
            "top": null,
            "visibility": null,
            "width": null
          }
        },
        "1e98efe4f0cd4de0935826ea1e563c21": {
          "model_module": "@jupyter-widgets/base",
          "model_name": "LayoutModel",
          "model_module_version": "1.2.0",
          "state": {
            "_model_module": "@jupyter-widgets/base",
            "_model_module_version": "1.2.0",
            "_model_name": "LayoutModel",
            "_view_count": null,
            "_view_module": "@jupyter-widgets/base",
            "_view_module_version": "1.2.0",
            "_view_name": "LayoutView",
            "align_content": null,
            "align_items": null,
            "align_self": null,
            "border": null,
            "bottom": null,
            "display": null,
            "flex": null,
            "flex_flow": null,
            "grid_area": null,
            "grid_auto_columns": null,
            "grid_auto_flow": null,
            "grid_auto_rows": null,
            "grid_column": null,
            "grid_gap": null,
            "grid_row": null,
            "grid_template_areas": null,
            "grid_template_columns": null,
            "grid_template_rows": null,
            "height": null,
            "justify_content": null,
            "justify_items": null,
            "left": null,
            "margin": null,
            "max_height": null,
            "max_width": null,
            "min_height": null,
            "min_width": null,
            "object_fit": null,
            "object_position": null,
            "order": null,
            "overflow": null,
            "overflow_x": null,
            "overflow_y": null,
            "padding": null,
            "right": null,
            "top": null,
            "visibility": null,
            "width": null
          }
        },
        "e965d86e07b14687825ac5131df69f61": {
          "model_module": "@jupyter-widgets/controls",
          "model_name": "DescriptionStyleModel",
          "model_module_version": "1.5.0",
          "state": {
            "_model_module": "@jupyter-widgets/controls",
            "_model_module_version": "1.5.0",
            "_model_name": "DescriptionStyleModel",
            "_view_count": null,
            "_view_module": "@jupyter-widgets/base",
            "_view_module_version": "1.2.0",
            "_view_name": "StyleView",
            "description_width": ""
          }
        },
        "52dfd51a7ec94917b96835ef86c89e4f": {
          "model_module": "@jupyter-widgets/base",
          "model_name": "LayoutModel",
          "model_module_version": "1.2.0",
          "state": {
            "_model_module": "@jupyter-widgets/base",
            "_model_module_version": "1.2.0",
            "_model_name": "LayoutModel",
            "_view_count": null,
            "_view_module": "@jupyter-widgets/base",
            "_view_module_version": "1.2.0",
            "_view_name": "LayoutView",
            "align_content": null,
            "align_items": null,
            "align_self": null,
            "border": null,
            "bottom": null,
            "display": null,
            "flex": null,
            "flex_flow": null,
            "grid_area": null,
            "grid_auto_columns": null,
            "grid_auto_flow": null,
            "grid_auto_rows": null,
            "grid_column": null,
            "grid_gap": null,
            "grid_row": null,
            "grid_template_areas": null,
            "grid_template_columns": null,
            "grid_template_rows": null,
            "height": null,
            "justify_content": null,
            "justify_items": null,
            "left": null,
            "margin": null,
            "max_height": null,
            "max_width": null,
            "min_height": null,
            "min_width": null,
            "object_fit": null,
            "object_position": null,
            "order": null,
            "overflow": null,
            "overflow_x": null,
            "overflow_y": null,
            "padding": null,
            "right": null,
            "top": null,
            "visibility": null,
            "width": null
          }
        },
        "9dc40585518c49f684a203ca618e5dc7": {
          "model_module": "@jupyter-widgets/controls",
          "model_name": "ProgressStyleModel",
          "model_module_version": "1.5.0",
          "state": {
            "_model_module": "@jupyter-widgets/controls",
            "_model_module_version": "1.5.0",
            "_model_name": "ProgressStyleModel",
            "_view_count": null,
            "_view_module": "@jupyter-widgets/base",
            "_view_module_version": "1.2.0",
            "_view_name": "StyleView",
            "bar_color": null,
            "description_width": ""
          }
        },
        "474368fd3d4347ca8a1ee1a96e4893ba": {
          "model_module": "@jupyter-widgets/base",
          "model_name": "LayoutModel",
          "model_module_version": "1.2.0",
          "state": {
            "_model_module": "@jupyter-widgets/base",
            "_model_module_version": "1.2.0",
            "_model_name": "LayoutModel",
            "_view_count": null,
            "_view_module": "@jupyter-widgets/base",
            "_view_module_version": "1.2.0",
            "_view_name": "LayoutView",
            "align_content": null,
            "align_items": null,
            "align_self": null,
            "border": null,
            "bottom": null,
            "display": null,
            "flex": null,
            "flex_flow": null,
            "grid_area": null,
            "grid_auto_columns": null,
            "grid_auto_flow": null,
            "grid_auto_rows": null,
            "grid_column": null,
            "grid_gap": null,
            "grid_row": null,
            "grid_template_areas": null,
            "grid_template_columns": null,
            "grid_template_rows": null,
            "height": null,
            "justify_content": null,
            "justify_items": null,
            "left": null,
            "margin": null,
            "max_height": null,
            "max_width": null,
            "min_height": null,
            "min_width": null,
            "object_fit": null,
            "object_position": null,
            "order": null,
            "overflow": null,
            "overflow_x": null,
            "overflow_y": null,
            "padding": null,
            "right": null,
            "top": null,
            "visibility": null,
            "width": null
          }
        },
        "e39bff7cb12240e784b2d278cc728e34": {
          "model_module": "@jupyter-widgets/controls",
          "model_name": "DescriptionStyleModel",
          "model_module_version": "1.5.0",
          "state": {
            "_model_module": "@jupyter-widgets/controls",
            "_model_module_version": "1.5.0",
            "_model_name": "DescriptionStyleModel",
            "_view_count": null,
            "_view_module": "@jupyter-widgets/base",
            "_view_module_version": "1.2.0",
            "_view_name": "StyleView",
            "description_width": ""
          }
        },
        "909908df257b431d80df9aecb86e3420": {
          "model_module": "@jupyter-widgets/controls",
          "model_name": "HBoxModel",
          "model_module_version": "1.5.0",
          "state": {
            "_dom_classes": [],
            "_model_module": "@jupyter-widgets/controls",
            "_model_module_version": "1.5.0",
            "_model_name": "HBoxModel",
            "_view_count": null,
            "_view_module": "@jupyter-widgets/controls",
            "_view_module_version": "1.5.0",
            "_view_name": "HBoxView",
            "box_style": "",
            "children": [
              "IPY_MODEL_b476035f0bc44d21a48a16f51d8d51e0",
              "IPY_MODEL_adc1fe9e140244d6b72455d44bcf05b0",
              "IPY_MODEL_b0b1cfa987bc436dbe2e3b3a7a9ebd60"
            ],
            "layout": "IPY_MODEL_3f37e0316b7b4279a4b2bb7c1131aeeb"
          }
        },
        "b476035f0bc44d21a48a16f51d8d51e0": {
          "model_module": "@jupyter-widgets/controls",
          "model_name": "HTMLModel",
          "model_module_version": "1.5.0",
          "state": {
            "_dom_classes": [],
            "_model_module": "@jupyter-widgets/controls",
            "_model_module_version": "1.5.0",
            "_model_name": "HTMLModel",
            "_view_count": null,
            "_view_module": "@jupyter-widgets/controls",
            "_view_module_version": "1.5.0",
            "_view_name": "HTMLView",
            "description": "",
            "description_tooltip": null,
            "layout": "IPY_MODEL_9e91b7c4ecce4eba8210036234a6f71a",
            "placeholder": "​",
            "style": "IPY_MODEL_cbf9559b5ee3451785357ec7a7f4eaba",
            "value": "generation_config.json: 100%"
          }
        },
        "adc1fe9e140244d6b72455d44bcf05b0": {
          "model_module": "@jupyter-widgets/controls",
          "model_name": "FloatProgressModel",
          "model_module_version": "1.5.0",
          "state": {
            "_dom_classes": [],
            "_model_module": "@jupyter-widgets/controls",
            "_model_module_version": "1.5.0",
            "_model_name": "FloatProgressModel",
            "_view_count": null,
            "_view_module": "@jupyter-widgets/controls",
            "_view_module_version": "1.5.0",
            "_view_name": "ProgressView",
            "bar_style": "success",
            "description": "",
            "description_tooltip": null,
            "layout": "IPY_MODEL_00ff5a90ce4a49478ac77df21ed40cf0",
            "max": 147,
            "min": 0,
            "orientation": "horizontal",
            "style": "IPY_MODEL_e7b6fda5859443c9a7dfe4d0d511b82a",
            "value": 147
          }
        },
        "b0b1cfa987bc436dbe2e3b3a7a9ebd60": {
          "model_module": "@jupyter-widgets/controls",
          "model_name": "HTMLModel",
          "model_module_version": "1.5.0",
          "state": {
            "_dom_classes": [],
            "_model_module": "@jupyter-widgets/controls",
            "_model_module_version": "1.5.0",
            "_model_name": "HTMLModel",
            "_view_count": null,
            "_view_module": "@jupyter-widgets/controls",
            "_view_module_version": "1.5.0",
            "_view_name": "HTMLView",
            "description": "",
            "description_tooltip": null,
            "layout": "IPY_MODEL_f6c68351aedf46a6a400899053ecfba1",
            "placeholder": "​",
            "style": "IPY_MODEL_6fb70cf0556f44b386a97f121ea1fc4b",
            "value": " 147/147 [00:00&lt;00:00, 10.1kB/s]"
          }
        },
        "3f37e0316b7b4279a4b2bb7c1131aeeb": {
          "model_module": "@jupyter-widgets/base",
          "model_name": "LayoutModel",
          "model_module_version": "1.2.0",
          "state": {
            "_model_module": "@jupyter-widgets/base",
            "_model_module_version": "1.2.0",
            "_model_name": "LayoutModel",
            "_view_count": null,
            "_view_module": "@jupyter-widgets/base",
            "_view_module_version": "1.2.0",
            "_view_name": "LayoutView",
            "align_content": null,
            "align_items": null,
            "align_self": null,
            "border": null,
            "bottom": null,
            "display": null,
            "flex": null,
            "flex_flow": null,
            "grid_area": null,
            "grid_auto_columns": null,
            "grid_auto_flow": null,
            "grid_auto_rows": null,
            "grid_column": null,
            "grid_gap": null,
            "grid_row": null,
            "grid_template_areas": null,
            "grid_template_columns": null,
            "grid_template_rows": null,
            "height": null,
            "justify_content": null,
            "justify_items": null,
            "left": null,
            "margin": null,
            "max_height": null,
            "max_width": null,
            "min_height": null,
            "min_width": null,
            "object_fit": null,
            "object_position": null,
            "order": null,
            "overflow": null,
            "overflow_x": null,
            "overflow_y": null,
            "padding": null,
            "right": null,
            "top": null,
            "visibility": null,
            "width": null
          }
        },
        "9e91b7c4ecce4eba8210036234a6f71a": {
          "model_module": "@jupyter-widgets/base",
          "model_name": "LayoutModel",
          "model_module_version": "1.2.0",
          "state": {
            "_model_module": "@jupyter-widgets/base",
            "_model_module_version": "1.2.0",
            "_model_name": "LayoutModel",
            "_view_count": null,
            "_view_module": "@jupyter-widgets/base",
            "_view_module_version": "1.2.0",
            "_view_name": "LayoutView",
            "align_content": null,
            "align_items": null,
            "align_self": null,
            "border": null,
            "bottom": null,
            "display": null,
            "flex": null,
            "flex_flow": null,
            "grid_area": null,
            "grid_auto_columns": null,
            "grid_auto_flow": null,
            "grid_auto_rows": null,
            "grid_column": null,
            "grid_gap": null,
            "grid_row": null,
            "grid_template_areas": null,
            "grid_template_columns": null,
            "grid_template_rows": null,
            "height": null,
            "justify_content": null,
            "justify_items": null,
            "left": null,
            "margin": null,
            "max_height": null,
            "max_width": null,
            "min_height": null,
            "min_width": null,
            "object_fit": null,
            "object_position": null,
            "order": null,
            "overflow": null,
            "overflow_x": null,
            "overflow_y": null,
            "padding": null,
            "right": null,
            "top": null,
            "visibility": null,
            "width": null
          }
        },
        "cbf9559b5ee3451785357ec7a7f4eaba": {
          "model_module": "@jupyter-widgets/controls",
          "model_name": "DescriptionStyleModel",
          "model_module_version": "1.5.0",
          "state": {
            "_model_module": "@jupyter-widgets/controls",
            "_model_module_version": "1.5.0",
            "_model_name": "DescriptionStyleModel",
            "_view_count": null,
            "_view_module": "@jupyter-widgets/base",
            "_view_module_version": "1.2.0",
            "_view_name": "StyleView",
            "description_width": ""
          }
        },
        "00ff5a90ce4a49478ac77df21ed40cf0": {
          "model_module": "@jupyter-widgets/base",
          "model_name": "LayoutModel",
          "model_module_version": "1.2.0",
          "state": {
            "_model_module": "@jupyter-widgets/base",
            "_model_module_version": "1.2.0",
            "_model_name": "LayoutModel",
            "_view_count": null,
            "_view_module": "@jupyter-widgets/base",
            "_view_module_version": "1.2.0",
            "_view_name": "LayoutView",
            "align_content": null,
            "align_items": null,
            "align_self": null,
            "border": null,
            "bottom": null,
            "display": null,
            "flex": null,
            "flex_flow": null,
            "grid_area": null,
            "grid_auto_columns": null,
            "grid_auto_flow": null,
            "grid_auto_rows": null,
            "grid_column": null,
            "grid_gap": null,
            "grid_row": null,
            "grid_template_areas": null,
            "grid_template_columns": null,
            "grid_template_rows": null,
            "height": null,
            "justify_content": null,
            "justify_items": null,
            "left": null,
            "margin": null,
            "max_height": null,
            "max_width": null,
            "min_height": null,
            "min_width": null,
            "object_fit": null,
            "object_position": null,
            "order": null,
            "overflow": null,
            "overflow_x": null,
            "overflow_y": null,
            "padding": null,
            "right": null,
            "top": null,
            "visibility": null,
            "width": null
          }
        },
        "e7b6fda5859443c9a7dfe4d0d511b82a": {
          "model_module": "@jupyter-widgets/controls",
          "model_name": "ProgressStyleModel",
          "model_module_version": "1.5.0",
          "state": {
            "_model_module": "@jupyter-widgets/controls",
            "_model_module_version": "1.5.0",
            "_model_name": "ProgressStyleModel",
            "_view_count": null,
            "_view_module": "@jupyter-widgets/base",
            "_view_module_version": "1.2.0",
            "_view_name": "StyleView",
            "bar_color": null,
            "description_width": ""
          }
        },
        "f6c68351aedf46a6a400899053ecfba1": {
          "model_module": "@jupyter-widgets/base",
          "model_name": "LayoutModel",
          "model_module_version": "1.2.0",
          "state": {
            "_model_module": "@jupyter-widgets/base",
            "_model_module_version": "1.2.0",
            "_model_name": "LayoutModel",
            "_view_count": null,
            "_view_module": "@jupyter-widgets/base",
            "_view_module_version": "1.2.0",
            "_view_name": "LayoutView",
            "align_content": null,
            "align_items": null,
            "align_self": null,
            "border": null,
            "bottom": null,
            "display": null,
            "flex": null,
            "flex_flow": null,
            "grid_area": null,
            "grid_auto_columns": null,
            "grid_auto_flow": null,
            "grid_auto_rows": null,
            "grid_column": null,
            "grid_gap": null,
            "grid_row": null,
            "grid_template_areas": null,
            "grid_template_columns": null,
            "grid_template_rows": null,
            "height": null,
            "justify_content": null,
            "justify_items": null,
            "left": null,
            "margin": null,
            "max_height": null,
            "max_width": null,
            "min_height": null,
            "min_width": null,
            "object_fit": null,
            "object_position": null,
            "order": null,
            "overflow": null,
            "overflow_x": null,
            "overflow_y": null,
            "padding": null,
            "right": null,
            "top": null,
            "visibility": null,
            "width": null
          }
        },
        "6fb70cf0556f44b386a97f121ea1fc4b": {
          "model_module": "@jupyter-widgets/controls",
          "model_name": "DescriptionStyleModel",
          "model_module_version": "1.5.0",
          "state": {
            "_model_module": "@jupyter-widgets/controls",
            "_model_module_version": "1.5.0",
            "_model_name": "DescriptionStyleModel",
            "_view_count": null,
            "_view_module": "@jupyter-widgets/base",
            "_view_module_version": "1.2.0",
            "_view_name": "StyleView",
            "description_width": ""
          }
        }
      }
    },
    "accelerator": "GPU"
  },
  "cells": [
    {
      "cell_type": "markdown",
      "metadata": {
        "id": "view-in-github",
        "colab_type": "text"
      },
      "source": [
        "<a href=\"https://colab.research.google.com/github/luckyme410/summary_champ/blob/main/summarize_ru.ipynb\" target=\"_parent\"><img src=\"https://colab.research.google.com/assets/colab-badge.svg\" alt=\"Open In Colab\"/></a>"
      ]
    },
    {
      "cell_type": "markdown",
      "source": [
        "## В приведенном ноутбуке мы генерим саммари спортивные статьи с Чемпионат.com (https://www.championat.com/). Статьи выбраны по 7 видам спорта (футбол, баскетбол, хоккей, ...). Для саммаризации текстов использовались: mT5-small и mBart-ru"
      ],
      "metadata": {
        "id": "aQuIfiP1-tIq"
      }
    },
    {
      "cell_type": "code",
      "execution_count": null,
      "metadata": {
        "id": "tbnUgEfzagmM",
        "collapsed": true,
        "colab": {
          "base_uri": "https://localhost:8080/"
        },
        "outputId": "424d2b92-5383-40e8-bd9c-f50126a116fe"
      },
      "outputs": [
        {
          "output_type": "stream",
          "name": "stdout",
          "text": [
            "Collecting datasets\n",
            "  Downloading datasets-3.1.0-py3-none-any.whl.metadata (20 kB)\n",
            "Requirement already satisfied: transformers in /usr/local/lib/python3.10/dist-packages (4.46.2)\n",
            "Collecting rouge-score\n",
            "  Downloading rouge_score-0.1.2.tar.gz (17 kB)\n",
            "  Preparing metadata (setup.py) ... \u001b[?25l\u001b[?25hdone\n",
            "Collecting evaluate\n",
            "  Downloading evaluate-0.4.3-py3-none-any.whl.metadata (9.2 kB)\n",
            "Requirement already satisfied: filelock in /usr/local/lib/python3.10/dist-packages (from datasets) (3.16.1)\n",
            "Requirement already satisfied: numpy>=1.17 in /usr/local/lib/python3.10/dist-packages (from datasets) (1.26.4)\n",
            "Requirement already satisfied: pyarrow>=15.0.0 in /usr/local/lib/python3.10/dist-packages (from datasets) (17.0.0)\n",
            "Collecting dill<0.3.9,>=0.3.0 (from datasets)\n",
            "  Downloading dill-0.3.8-py3-none-any.whl.metadata (10 kB)\n",
            "Requirement already satisfied: pandas in /usr/local/lib/python3.10/dist-packages (from datasets) (2.2.2)\n",
            "Requirement already satisfied: requests>=2.32.2 in /usr/local/lib/python3.10/dist-packages (from datasets) (2.32.3)\n",
            "Requirement already satisfied: tqdm>=4.66.3 in /usr/local/lib/python3.10/dist-packages (from datasets) (4.66.6)\n",
            "Collecting xxhash (from datasets)\n",
            "  Downloading xxhash-3.5.0-cp310-cp310-manylinux_2_17_x86_64.manylinux2014_x86_64.whl.metadata (12 kB)\n",
            "Collecting multiprocess<0.70.17 (from datasets)\n",
            "  Downloading multiprocess-0.70.16-py310-none-any.whl.metadata (7.2 kB)\n",
            "Collecting fsspec<=2024.9.0,>=2023.1.0 (from fsspec[http]<=2024.9.0,>=2023.1.0->datasets)\n",
            "  Downloading fsspec-2024.9.0-py3-none-any.whl.metadata (11 kB)\n",
            "Requirement already satisfied: aiohttp in /usr/local/lib/python3.10/dist-packages (from datasets) (3.11.2)\n",
            "Requirement already satisfied: huggingface-hub>=0.23.0 in /usr/local/lib/python3.10/dist-packages (from datasets) (0.26.2)\n",
            "Requirement already satisfied: packaging in /usr/local/lib/python3.10/dist-packages (from datasets) (24.2)\n",
            "Requirement already satisfied: pyyaml>=5.1 in /usr/local/lib/python3.10/dist-packages (from datasets) (6.0.2)\n",
            "Requirement already satisfied: regex!=2019.12.17 in /usr/local/lib/python3.10/dist-packages (from transformers) (2024.9.11)\n",
            "Requirement already satisfied: safetensors>=0.4.1 in /usr/local/lib/python3.10/dist-packages (from transformers) (0.4.5)\n",
            "Requirement already satisfied: tokenizers<0.21,>=0.20 in /usr/local/lib/python3.10/dist-packages (from transformers) (0.20.3)\n",
            "Requirement already satisfied: absl-py in /usr/local/lib/python3.10/dist-packages (from rouge-score) (1.4.0)\n",
            "Requirement already satisfied: nltk in /usr/local/lib/python3.10/dist-packages (from rouge-score) (3.9.1)\n",
            "Requirement already satisfied: six>=1.14.0 in /usr/local/lib/python3.10/dist-packages (from rouge-score) (1.16.0)\n",
            "Requirement already satisfied: aiohappyeyeballs>=2.3.0 in /usr/local/lib/python3.10/dist-packages (from aiohttp->datasets) (2.4.3)\n",
            "Requirement already satisfied: aiosignal>=1.1.2 in /usr/local/lib/python3.10/dist-packages (from aiohttp->datasets) (1.3.1)\n",
            "Requirement already satisfied: attrs>=17.3.0 in /usr/local/lib/python3.10/dist-packages (from aiohttp->datasets) (24.2.0)\n",
            "Requirement already satisfied: frozenlist>=1.1.1 in /usr/local/lib/python3.10/dist-packages (from aiohttp->datasets) (1.5.0)\n",
            "Requirement already satisfied: multidict<7.0,>=4.5 in /usr/local/lib/python3.10/dist-packages (from aiohttp->datasets) (6.1.0)\n",
            "Requirement already satisfied: propcache>=0.2.0 in /usr/local/lib/python3.10/dist-packages (from aiohttp->datasets) (0.2.0)\n",
            "Requirement already satisfied: yarl<2.0,>=1.17.0 in /usr/local/lib/python3.10/dist-packages (from aiohttp->datasets) (1.17.2)\n",
            "Requirement already satisfied: async-timeout<6.0,>=4.0 in /usr/local/lib/python3.10/dist-packages (from aiohttp->datasets) (4.0.3)\n",
            "Requirement already satisfied: typing-extensions>=3.7.4.3 in /usr/local/lib/python3.10/dist-packages (from huggingface-hub>=0.23.0->datasets) (4.12.2)\n",
            "Requirement already satisfied: charset-normalizer<4,>=2 in /usr/local/lib/python3.10/dist-packages (from requests>=2.32.2->datasets) (3.4.0)\n",
            "Requirement already satisfied: idna<4,>=2.5 in /usr/local/lib/python3.10/dist-packages (from requests>=2.32.2->datasets) (3.10)\n",
            "Requirement already satisfied: urllib3<3,>=1.21.1 in /usr/local/lib/python3.10/dist-packages (from requests>=2.32.2->datasets) (2.2.3)\n",
            "Requirement already satisfied: certifi>=2017.4.17 in /usr/local/lib/python3.10/dist-packages (from requests>=2.32.2->datasets) (2024.8.30)\n",
            "Requirement already satisfied: click in /usr/local/lib/python3.10/dist-packages (from nltk->rouge-score) (8.1.7)\n",
            "Requirement already satisfied: joblib in /usr/local/lib/python3.10/dist-packages (from nltk->rouge-score) (1.4.2)\n",
            "Requirement already satisfied: python-dateutil>=2.8.2 in /usr/local/lib/python3.10/dist-packages (from pandas->datasets) (2.8.2)\n",
            "Requirement already satisfied: pytz>=2020.1 in /usr/local/lib/python3.10/dist-packages (from pandas->datasets) (2024.2)\n",
            "Requirement already satisfied: tzdata>=2022.7 in /usr/local/lib/python3.10/dist-packages (from pandas->datasets) (2024.2)\n",
            "Downloading datasets-3.1.0-py3-none-any.whl (480 kB)\n",
            "\u001b[2K   \u001b[90m━━━━━━━━━━━━━━━━━━━━━━━━━━━━━━━━━━━━━━━━\u001b[0m \u001b[32m480.6/480.6 kB\u001b[0m \u001b[31m31.2 MB/s\u001b[0m eta \u001b[36m0:00:00\u001b[0m\n",
            "\u001b[?25hDownloading evaluate-0.4.3-py3-none-any.whl (84 kB)\n",
            "\u001b[2K   \u001b[90m━━━━━━━━━━━━━━━━━━━━━━━━━━━━━━━━━━━━━━━━\u001b[0m \u001b[32m84.0/84.0 kB\u001b[0m \u001b[31m8.3 MB/s\u001b[0m eta \u001b[36m0:00:00\u001b[0m\n",
            "\u001b[?25hDownloading dill-0.3.8-py3-none-any.whl (116 kB)\n",
            "\u001b[2K   \u001b[90m━━━━━━━━━━━━━━━━━━━━━━━━━━━━━━━━━━━━━━━━\u001b[0m \u001b[32m116.3/116.3 kB\u001b[0m \u001b[31m10.4 MB/s\u001b[0m eta \u001b[36m0:00:00\u001b[0m\n",
            "\u001b[?25hDownloading fsspec-2024.9.0-py3-none-any.whl (179 kB)\n",
            "\u001b[2K   \u001b[90m━━━━━━━━━━━━━━━━━━━━━━━━━━━━━━━━━━━━━━━━\u001b[0m \u001b[32m179.3/179.3 kB\u001b[0m \u001b[31m15.5 MB/s\u001b[0m eta \u001b[36m0:00:00\u001b[0m\n",
            "\u001b[?25hDownloading multiprocess-0.70.16-py310-none-any.whl (134 kB)\n",
            "\u001b[2K   \u001b[90m━━━━━━━━━━━━━━━━━━━━━━━━━━━━━━━━━━━━━━━━\u001b[0m \u001b[32m134.8/134.8 kB\u001b[0m \u001b[31m13.3 MB/s\u001b[0m eta \u001b[36m0:00:00\u001b[0m\n",
            "\u001b[?25hDownloading xxhash-3.5.0-cp310-cp310-manylinux_2_17_x86_64.manylinux2014_x86_64.whl (194 kB)\n",
            "\u001b[2K   \u001b[90m━━━━━━━━━━━━━━━━━━━━━━━━━━━━━━━━━━━━━━━━\u001b[0m \u001b[32m194.1/194.1 kB\u001b[0m \u001b[31m19.3 MB/s\u001b[0m eta \u001b[36m0:00:00\u001b[0m\n",
            "\u001b[?25hBuilding wheels for collected packages: rouge-score\n",
            "  Building wheel for rouge-score (setup.py) ... \u001b[?25l\u001b[?25hdone\n",
            "  Created wheel for rouge-score: filename=rouge_score-0.1.2-py3-none-any.whl size=24935 sha256=8b9426565eceadad99182f9b025bc8ed974d5350810b3e3681a7d771e1df524f\n",
            "  Stored in directory: /root/.cache/pip/wheels/5f/dd/89/461065a73be61a532ff8599a28e9beef17985c9e9c31e541b4\n",
            "Successfully built rouge-score\n",
            "Installing collected packages: xxhash, fsspec, dill, rouge-score, multiprocess, datasets, evaluate\n",
            "  Attempting uninstall: fsspec\n",
            "    Found existing installation: fsspec 2024.10.0\n",
            "    Uninstalling fsspec-2024.10.0:\n",
            "      Successfully uninstalled fsspec-2024.10.0\n",
            "\u001b[31mERROR: pip's dependency resolver does not currently take into account all the packages that are installed. This behaviour is the source of the following dependency conflicts.\n",
            "gcsfs 2024.10.0 requires fsspec==2024.10.0, but you have fsspec 2024.9.0 which is incompatible.\u001b[0m\u001b[31m\n",
            "\u001b[0mSuccessfully installed datasets-3.1.0 dill-0.3.8 evaluate-0.4.3 fsspec-2024.9.0 multiprocess-0.70.16 rouge-score-0.1.2 xxhash-3.5.0\n"
          ]
        }
      ],
      "source": [
        "! pip install datasets transformers rouge-score evaluate"
      ]
    },
    {
      "cell_type": "code",
      "source": [
        "!pip install -U nltk"
      ],
      "metadata": {
        "collapsed": true,
        "id": "OxJXrc1eaoJc",
        "colab": {
          "base_uri": "https://localhost:8080/"
        },
        "outputId": "f8c39183-1979-4737-cfd8-13edff697b28"
      },
      "execution_count": null,
      "outputs": [
        {
          "output_type": "stream",
          "name": "stdout",
          "text": [
            "Requirement already satisfied: nltk in /usr/local/lib/python3.10/dist-packages (3.9.1)\n",
            "Requirement already satisfied: click in /usr/local/lib/python3.10/dist-packages (from nltk) (8.1.7)\n",
            "Requirement already satisfied: joblib in /usr/local/lib/python3.10/dist-packages (from nltk) (1.4.2)\n",
            "Requirement already satisfied: regex>=2021.8.3 in /usr/local/lib/python3.10/dist-packages (from nltk) (2024.9.11)\n",
            "Requirement already satisfied: tqdm in /usr/local/lib/python3.10/dist-packages (from nltk) (4.66.6)\n"
          ]
        }
      ]
    },
    {
      "cell_type": "code",
      "source": [
        "import evaluate\n",
        "rouge_metric = evaluate.load(\"rouge\")\n",
        "meteor_metric = evaluate.load(\"meteor\")"
      ],
      "metadata": {
        "id": "HzlTGYjYaoMU",
        "colab": {
          "base_uri": "https://localhost:8080/",
          "height": 275,
          "referenced_widgets": [
            "2b7ff32b6dd34626a1545ce394f8e0e6",
            "de76439a9ad541408a5f0bf73547062c",
            "acd8d817a79e422daa2e14e5e182ba16",
            "ffe57a8a7bc94937bbd19fd4633add68",
            "60d108ebfbf54a86b1c531051109eb7c",
            "7ee56f73f8154ecbb745ffa77198e438",
            "0000dd894eed405f9676749b5c4e8b76",
            "e326a4b6512d4f45b805a85366f72ae8",
            "e7b051c036fc4dd2a9702cbdd9bec29a",
            "ed0d9700a61343989be9fa2966de348b",
            "d2f8380b5bd84c14aa8ce2decf897f5a",
            "881514e2168b4218ac729701d8db215f",
            "59ec6cfc25dc4222b624023a67497059",
            "4df9001e4bbb454dbd0c6c5d08ed8ca2",
            "34f9e83b68274c5daca83e941337dbcc",
            "28a83cc7ab2d416f95e224656f6d942d",
            "b202b784311b435e9b0141c005bbbc8c",
            "b52aaef020fe48c79f95ce092cf92989",
            "4807ba6d9a244584919541134befa5d4",
            "ae331f4551994fe8874825eb4abf26fb",
            "1d50dc6870ac449894a1971863c0db69",
            "15b1d16d332e4a43bba253344c52a99b"
          ]
        },
        "outputId": "8265469d-500b-41cc-9c5b-2fe2bd69c1ea"
      },
      "execution_count": null,
      "outputs": [
        {
          "output_type": "stream",
          "name": "stderr",
          "text": [
            "/usr/local/lib/python3.10/dist-packages/huggingface_hub/utils/_auth.py:94: UserWarning: \n",
            "The secret `HF_TOKEN` does not exist in your Colab secrets.\n",
            "To authenticate with the Hugging Face Hub, create a token in your settings tab (https://huggingface.co/settings/tokens), set it as secret in your Google Colab and restart your session.\n",
            "You will be able to reuse this secret in all of your notebooks.\n",
            "Please note that authentication is recommended but still optional to access public models or datasets.\n",
            "  warnings.warn(\n"
          ]
        },
        {
          "output_type": "display_data",
          "data": {
            "text/plain": [
              "Downloading builder script:   0%|          | 0.00/6.27k [00:00<?, ?B/s]"
            ],
            "application/vnd.jupyter.widget-view+json": {
              "version_major": 2,
              "version_minor": 0,
              "model_id": "2b7ff32b6dd34626a1545ce394f8e0e6"
            }
          },
          "metadata": {}
        },
        {
          "output_type": "display_data",
          "data": {
            "text/plain": [
              "Downloading builder script:   0%|          | 0.00/7.02k [00:00<?, ?B/s]"
            ],
            "application/vnd.jupyter.widget-view+json": {
              "version_major": 2,
              "version_minor": 0,
              "model_id": "881514e2168b4218ac729701d8db215f"
            }
          },
          "metadata": {}
        },
        {
          "output_type": "stream",
          "name": "stderr",
          "text": [
            "[nltk_data] Downloading package wordnet to /root/nltk_data...\n",
            "[nltk_data] Downloading package punkt_tab to /root/nltk_data...\n",
            "[nltk_data]   Unzipping tokenizers/punkt_tab.zip.\n",
            "[nltk_data] Downloading package omw-1.4 to /root/nltk_data...\n"
          ]
        }
      ]
    },
    {
      "cell_type": "code",
      "source": [
        "import numpy as np\n",
        "import pandas as pd\n",
        "import matplotlib.pyplot as plt\n",
        "import seaborn as sns\n",
        "\n",
        "sns.set_style('darkgrid')"
      ],
      "metadata": {
        "id": "EZ5h7ui7ci7l"
      },
      "execution_count": null,
      "outputs": []
    },
    {
      "cell_type": "code",
      "source": [
        "#from google.colab import drive\n",
        "#drive.mount('/content/drive')"
      ],
      "metadata": {
        "colab": {
          "base_uri": "https://localhost:8080/"
        },
        "id": "FJvdcRR5uy9S",
        "outputId": "94813687-a4a1-4bc7-bf95-22e25dce4643"
      },
      "execution_count": null,
      "outputs": [
        {
          "output_type": "stream",
          "name": "stdout",
          "text": [
            "Mounted at /content/drive\n"
          ]
        }
      ]
    },
    {
      "cell_type": "markdown",
      "source": [
        "### Загрузим данные:"
      ],
      "metadata": {
        "id": "CT2_XNM9bBr4"
      }
    },
    {
      "cell_type": "code",
      "source": [
        "!unzip /content/articles_championat2.zip"
      ],
      "metadata": {
        "colab": {
          "base_uri": "https://localhost:8080/"
        },
        "id": "b9mfSIhoO1Yy",
        "outputId": "714fd558-373f-4c9c-bd82-950670082452"
      },
      "execution_count": null,
      "outputs": [
        {
          "output_type": "stream",
          "name": "stdout",
          "text": [
            "Archive:  /content/articles_championat2.zip\n",
            "  inflating: articles_championat2.csv  \n"
          ]
        }
      ]
    },
    {
      "cell_type": "code",
      "source": [
        "# Данные парсились с сайта Чемпионат.com\n",
        "data = pd.read_csv(\"/content/articles_championat2.csv\") # /content/drive/MyDrive/articles_championat.csv\n",
        "print('Кол-во статей:', data.shape[0])\n",
        "print()\n",
        "data.head()"
      ],
      "metadata": {
        "colab": {
          "base_uri": "https://localhost:8080/",
          "height": 327
        },
        "id": "UTPhfTWsbE6I",
        "outputId": "3e8d6149-29df-4d1f-d9b7-62ec63b45fe6"
      },
      "execution_count": null,
      "outputs": [
        {
          "output_type": "stream",
          "name": "stdout",
          "text": [
            "Кол-во статей: 26311\n",
            "\n"
          ]
        },
        {
          "output_type": "execute_result",
          "data": {
            "text/plain": [
              "                                               title  \\\n",
              "0  Какая команда станет чемпионом, когда коронуют...   \n",
              "1  Бибер испортил Ferrari, Том Круз «опозорил» Bu...   \n",
              "2  Из Формулы-1 уходят 5 пилотов. Что их ждёт в б...   \n",
              "3  Швейцарцы спасли гоночную карьеру чемпиона мир...   \n",
              "4  Одного из главных людей в Ф-1 уволили перед ра...   \n",
              "\n",
              "                                            subtitle  \\\n",
              "0           Концовка сезона интереснее, чем кажется.   \n",
              "1  Даже если вы мировая знаменитость с кучей дене...   \n",
              "2  Некоторые могут остаться в Ф-1, но в другом ка...   \n",
              "3  Чехи теперь совсем не против видеть Кирилла Ку...   \n",
              "4     Организаторам чемпионата придётся объясниться.   \n",
              "\n",
              "                                                text        date sport  \n",
              "0  Последний перед паузой в календаре Ф-1 Гран-пр...  2024-11-20  auto  \n",
              "1  Производители люксовых автомобилей тщательно с...  2024-11-18  auto  \n",
              "2  В конце сезона-2024 чемпионат Формулы-1 покину...  2024-11-16  auto  \n",
              "3  Буквально в апреле 2024 года карьера российско...  2024-11-14  auto  \n",
              "4  Во вторник, 12 ноября, Формула-1 сделала громк...  2024-11-13  auto  "
            ],
            "text/html": [
              "\n",
              "  <div id=\"df-5d1770b3-5f89-4740-9d28-78fa19f72651\" class=\"colab-df-container\">\n",
              "    <div>\n",
              "<style scoped>\n",
              "    .dataframe tbody tr th:only-of-type {\n",
              "        vertical-align: middle;\n",
              "    }\n",
              "\n",
              "    .dataframe tbody tr th {\n",
              "        vertical-align: top;\n",
              "    }\n",
              "\n",
              "    .dataframe thead th {\n",
              "        text-align: right;\n",
              "    }\n",
              "</style>\n",
              "<table border=\"1\" class=\"dataframe\">\n",
              "  <thead>\n",
              "    <tr style=\"text-align: right;\">\n",
              "      <th></th>\n",
              "      <th>title</th>\n",
              "      <th>subtitle</th>\n",
              "      <th>text</th>\n",
              "      <th>date</th>\n",
              "      <th>sport</th>\n",
              "    </tr>\n",
              "  </thead>\n",
              "  <tbody>\n",
              "    <tr>\n",
              "      <th>0</th>\n",
              "      <td>Какая команда станет чемпионом, когда коронуют...</td>\n",
              "      <td>Концовка сезона интереснее, чем кажется.</td>\n",
              "      <td>Последний перед паузой в календаре Ф-1 Гран-пр...</td>\n",
              "      <td>2024-11-20</td>\n",
              "      <td>auto</td>\n",
              "    </tr>\n",
              "    <tr>\n",
              "      <th>1</th>\n",
              "      <td>Бибер испортил Ferrari, Том Круз «опозорил» Bu...</td>\n",
              "      <td>Даже если вы мировая знаменитость с кучей дене...</td>\n",
              "      <td>Производители люксовых автомобилей тщательно с...</td>\n",
              "      <td>2024-11-18</td>\n",
              "      <td>auto</td>\n",
              "    </tr>\n",
              "    <tr>\n",
              "      <th>2</th>\n",
              "      <td>Из Формулы-1 уходят 5 пилотов. Что их ждёт в б...</td>\n",
              "      <td>Некоторые могут остаться в Ф-1, но в другом ка...</td>\n",
              "      <td>В конце сезона-2024 чемпионат Формулы-1 покину...</td>\n",
              "      <td>2024-11-16</td>\n",
              "      <td>auto</td>\n",
              "    </tr>\n",
              "    <tr>\n",
              "      <th>3</th>\n",
              "      <td>Швейцарцы спасли гоночную карьеру чемпиона мир...</td>\n",
              "      <td>Чехи теперь совсем не против видеть Кирилла Ку...</td>\n",
              "      <td>Буквально в апреле 2024 года карьера российско...</td>\n",
              "      <td>2024-11-14</td>\n",
              "      <td>auto</td>\n",
              "    </tr>\n",
              "    <tr>\n",
              "      <th>4</th>\n",
              "      <td>Одного из главных людей в Ф-1 уволили перед ра...</td>\n",
              "      <td>Организаторам чемпионата придётся объясниться.</td>\n",
              "      <td>Во вторник, 12 ноября, Формула-1 сделала громк...</td>\n",
              "      <td>2024-11-13</td>\n",
              "      <td>auto</td>\n",
              "    </tr>\n",
              "  </tbody>\n",
              "</table>\n",
              "</div>\n",
              "    <div class=\"colab-df-buttons\">\n",
              "\n",
              "  <div class=\"colab-df-container\">\n",
              "    <button class=\"colab-df-convert\" onclick=\"convertToInteractive('df-5d1770b3-5f89-4740-9d28-78fa19f72651')\"\n",
              "            title=\"Convert this dataframe to an interactive table.\"\n",
              "            style=\"display:none;\">\n",
              "\n",
              "  <svg xmlns=\"http://www.w3.org/2000/svg\" height=\"24px\" viewBox=\"0 -960 960 960\">\n",
              "    <path d=\"M120-120v-720h720v720H120Zm60-500h600v-160H180v160Zm220 220h160v-160H400v160Zm0 220h160v-160H400v160ZM180-400h160v-160H180v160Zm440 0h160v-160H620v160ZM180-180h160v-160H180v160Zm440 0h160v-160H620v160Z\"/>\n",
              "  </svg>\n",
              "    </button>\n",
              "\n",
              "  <style>\n",
              "    .colab-df-container {\n",
              "      display:flex;\n",
              "      gap: 12px;\n",
              "    }\n",
              "\n",
              "    .colab-df-convert {\n",
              "      background-color: #E8F0FE;\n",
              "      border: none;\n",
              "      border-radius: 50%;\n",
              "      cursor: pointer;\n",
              "      display: none;\n",
              "      fill: #1967D2;\n",
              "      height: 32px;\n",
              "      padding: 0 0 0 0;\n",
              "      width: 32px;\n",
              "    }\n",
              "\n",
              "    .colab-df-convert:hover {\n",
              "      background-color: #E2EBFA;\n",
              "      box-shadow: 0px 1px 2px rgba(60, 64, 67, 0.3), 0px 1px 3px 1px rgba(60, 64, 67, 0.15);\n",
              "      fill: #174EA6;\n",
              "    }\n",
              "\n",
              "    .colab-df-buttons div {\n",
              "      margin-bottom: 4px;\n",
              "    }\n",
              "\n",
              "    [theme=dark] .colab-df-convert {\n",
              "      background-color: #3B4455;\n",
              "      fill: #D2E3FC;\n",
              "    }\n",
              "\n",
              "    [theme=dark] .colab-df-convert:hover {\n",
              "      background-color: #434B5C;\n",
              "      box-shadow: 0px 1px 3px 1px rgba(0, 0, 0, 0.15);\n",
              "      filter: drop-shadow(0px 1px 2px rgba(0, 0, 0, 0.3));\n",
              "      fill: #FFFFFF;\n",
              "    }\n",
              "  </style>\n",
              "\n",
              "    <script>\n",
              "      const buttonEl =\n",
              "        document.querySelector('#df-5d1770b3-5f89-4740-9d28-78fa19f72651 button.colab-df-convert');\n",
              "      buttonEl.style.display =\n",
              "        google.colab.kernel.accessAllowed ? 'block' : 'none';\n",
              "\n",
              "      async function convertToInteractive(key) {\n",
              "        const element = document.querySelector('#df-5d1770b3-5f89-4740-9d28-78fa19f72651');\n",
              "        const dataTable =\n",
              "          await google.colab.kernel.invokeFunction('convertToInteractive',\n",
              "                                                    [key], {});\n",
              "        if (!dataTable) return;\n",
              "\n",
              "        const docLinkHtml = 'Like what you see? Visit the ' +\n",
              "          '<a target=\"_blank\" href=https://colab.research.google.com/notebooks/data_table.ipynb>data table notebook</a>'\n",
              "          + ' to learn more about interactive tables.';\n",
              "        element.innerHTML = '';\n",
              "        dataTable['output_type'] = 'display_data';\n",
              "        await google.colab.output.renderOutput(dataTable, element);\n",
              "        const docLink = document.createElement('div');\n",
              "        docLink.innerHTML = docLinkHtml;\n",
              "        element.appendChild(docLink);\n",
              "      }\n",
              "    </script>\n",
              "  </div>\n",
              "\n",
              "\n",
              "<div id=\"df-d57a5979-7cef-48a3-b5ce-4ca90d46f37b\">\n",
              "  <button class=\"colab-df-quickchart\" onclick=\"quickchart('df-d57a5979-7cef-48a3-b5ce-4ca90d46f37b')\"\n",
              "            title=\"Suggest charts\"\n",
              "            style=\"display:none;\">\n",
              "\n",
              "<svg xmlns=\"http://www.w3.org/2000/svg\" height=\"24px\"viewBox=\"0 0 24 24\"\n",
              "     width=\"24px\">\n",
              "    <g>\n",
              "        <path d=\"M19 3H5c-1.1 0-2 .9-2 2v14c0 1.1.9 2 2 2h14c1.1 0 2-.9 2-2V5c0-1.1-.9-2-2-2zM9 17H7v-7h2v7zm4 0h-2V7h2v10zm4 0h-2v-4h2v4z\"/>\n",
              "    </g>\n",
              "</svg>\n",
              "  </button>\n",
              "\n",
              "<style>\n",
              "  .colab-df-quickchart {\n",
              "      --bg-color: #E8F0FE;\n",
              "      --fill-color: #1967D2;\n",
              "      --hover-bg-color: #E2EBFA;\n",
              "      --hover-fill-color: #174EA6;\n",
              "      --disabled-fill-color: #AAA;\n",
              "      --disabled-bg-color: #DDD;\n",
              "  }\n",
              "\n",
              "  [theme=dark] .colab-df-quickchart {\n",
              "      --bg-color: #3B4455;\n",
              "      --fill-color: #D2E3FC;\n",
              "      --hover-bg-color: #434B5C;\n",
              "      --hover-fill-color: #FFFFFF;\n",
              "      --disabled-bg-color: #3B4455;\n",
              "      --disabled-fill-color: #666;\n",
              "  }\n",
              "\n",
              "  .colab-df-quickchart {\n",
              "    background-color: var(--bg-color);\n",
              "    border: none;\n",
              "    border-radius: 50%;\n",
              "    cursor: pointer;\n",
              "    display: none;\n",
              "    fill: var(--fill-color);\n",
              "    height: 32px;\n",
              "    padding: 0;\n",
              "    width: 32px;\n",
              "  }\n",
              "\n",
              "  .colab-df-quickchart:hover {\n",
              "    background-color: var(--hover-bg-color);\n",
              "    box-shadow: 0 1px 2px rgba(60, 64, 67, 0.3), 0 1px 3px 1px rgba(60, 64, 67, 0.15);\n",
              "    fill: var(--button-hover-fill-color);\n",
              "  }\n",
              "\n",
              "  .colab-df-quickchart-complete:disabled,\n",
              "  .colab-df-quickchart-complete:disabled:hover {\n",
              "    background-color: var(--disabled-bg-color);\n",
              "    fill: var(--disabled-fill-color);\n",
              "    box-shadow: none;\n",
              "  }\n",
              "\n",
              "  .colab-df-spinner {\n",
              "    border: 2px solid var(--fill-color);\n",
              "    border-color: transparent;\n",
              "    border-bottom-color: var(--fill-color);\n",
              "    animation:\n",
              "      spin 1s steps(1) infinite;\n",
              "  }\n",
              "\n",
              "  @keyframes spin {\n",
              "    0% {\n",
              "      border-color: transparent;\n",
              "      border-bottom-color: var(--fill-color);\n",
              "      border-left-color: var(--fill-color);\n",
              "    }\n",
              "    20% {\n",
              "      border-color: transparent;\n",
              "      border-left-color: var(--fill-color);\n",
              "      border-top-color: var(--fill-color);\n",
              "    }\n",
              "    30% {\n",
              "      border-color: transparent;\n",
              "      border-left-color: var(--fill-color);\n",
              "      border-top-color: var(--fill-color);\n",
              "      border-right-color: var(--fill-color);\n",
              "    }\n",
              "    40% {\n",
              "      border-color: transparent;\n",
              "      border-right-color: var(--fill-color);\n",
              "      border-top-color: var(--fill-color);\n",
              "    }\n",
              "    60% {\n",
              "      border-color: transparent;\n",
              "      border-right-color: var(--fill-color);\n",
              "    }\n",
              "    80% {\n",
              "      border-color: transparent;\n",
              "      border-right-color: var(--fill-color);\n",
              "      border-bottom-color: var(--fill-color);\n",
              "    }\n",
              "    90% {\n",
              "      border-color: transparent;\n",
              "      border-bottom-color: var(--fill-color);\n",
              "    }\n",
              "  }\n",
              "</style>\n",
              "\n",
              "  <script>\n",
              "    async function quickchart(key) {\n",
              "      const quickchartButtonEl =\n",
              "        document.querySelector('#' + key + ' button');\n",
              "      quickchartButtonEl.disabled = true;  // To prevent multiple clicks.\n",
              "      quickchartButtonEl.classList.add('colab-df-spinner');\n",
              "      try {\n",
              "        const charts = await google.colab.kernel.invokeFunction(\n",
              "            'suggestCharts', [key], {});\n",
              "      } catch (error) {\n",
              "        console.error('Error during call to suggestCharts:', error);\n",
              "      }\n",
              "      quickchartButtonEl.classList.remove('colab-df-spinner');\n",
              "      quickchartButtonEl.classList.add('colab-df-quickchart-complete');\n",
              "    }\n",
              "    (() => {\n",
              "      let quickchartButtonEl =\n",
              "        document.querySelector('#df-d57a5979-7cef-48a3-b5ce-4ca90d46f37b button');\n",
              "      quickchartButtonEl.style.display =\n",
              "        google.colab.kernel.accessAllowed ? 'block' : 'none';\n",
              "    })();\n",
              "  </script>\n",
              "</div>\n",
              "    </div>\n",
              "  </div>\n"
            ],
            "application/vnd.google.colaboratory.intrinsic+json": {
              "type": "dataframe",
              "variable_name": "data",
              "summary": "{\n  \"name\": \"data\",\n  \"rows\": 26311,\n  \"fields\": [\n    {\n      \"column\": \"title\",\n      \"properties\": {\n        \"dtype\": \"string\",\n        \"num_unique_values\": 26027,\n        \"samples\": [\n          \"\\u0420\\u0443\\u0441\\u0441\\u043a\\u0430\\u044f \\u0433\\u043e\\u043b\\u0435\\u0432\\u0430\\u044f \\u043c\\u0430\\u0448\\u0438\\u043d\\u0430! \\u0421\\u0432\\u0435\\u0447\\u043d\\u0438\\u043a\\u043e\\u0432 \\u043f\\u043e\\u043b\\u043e\\u0436\\u0438\\u043b \\u0445\\u0435\\u0442-\\u0442\\u0440\\u0438\\u043a \\u0438 \\u0432\\u043e\\u0437\\u0433\\u043b\\u0430\\u0432\\u0438\\u043b \\u0433\\u043e\\u043d\\u043a\\u0443 \\u0441\\u043d\\u0430\\u0439\\u043f\\u0435\\u0440\\u043e\\u0432 \\u041d\\u0425\\u041b\",\n          \"\\u0412 \\u043f\\u043e\\u0441\\u043b\\u0435\\u0434\\u043d\\u0438\\u0445 \\u0433\\u043e\\u043d\\u043a\\u0430\\u0445 \\u041a\\u0432\\u044f\\u0442\\u0430 \\u0437\\u0430\\u0442\\u043c\\u0438\\u043b \\u043d\\u0430\\u043f\\u0430\\u0440\\u043d\\u0438\\u043a. \\u0422\\u0430\\u043a \\u043b\\u0438 \\u0432\\u0441\\u0451 \\u043f\\u043b\\u043e\\u0445\\u043e \\u0443 \\u0440\\u043e\\u0441\\u0441\\u0438\\u044f\\u043d\\u0438\\u043d\\u0430?\",\n          \"\\u041a\\u0440\\u0438\\u0432\\u0435\\u0446: \\u043f\\u0440\\u043e\\u0433\\u0440\\u0435\\u0441\\u0441 \\u0435\\u0441\\u0442\\u044c, \\u043d\\u043e \\u043d\\u0430\\u0434\\u043e \\u0434\\u0432\\u0438\\u0433\\u0430\\u0442\\u044c\\u0441\\u044f \\u0434\\u0430\\u043b\\u044c\\u0448\\u0435\"\n        ],\n        \"semantic_type\": \"\",\n        \"description\": \"\"\n      }\n    },\n    {\n      \"column\": \"subtitle\",\n      \"properties\": {\n        \"dtype\": \"string\",\n        \"num_unique_values\": 25975,\n        \"samples\": [\n          \"\\u041a\\u0440\\u0438\\u0442\\u0438\\u043a\\u0430 \\u0438 \\u0441\\u043b\\u043e\\u0432\\u0430 \\u043f\\u043e\\u0434\\u0434\\u0435\\u0440\\u0436\\u043a\\u0438 \\u043d\\u0430 \\u043c\\u0435\\u0441\\u0442\\u0435.\",\n          \"\\u0410 \\u0432 1/8 \\u0444\\u0438\\u043d\\u0430\\u043b\\u0430 \\u042d\\u043b\\u0438\\u043d\\u0430 \\u0441\\u044b\\u0433\\u0440\\u0430\\u0435\\u0442 \\u0441 \\u0434\\u0440\\u0443\\u0433\\u043e\\u0439 \\u0442\\u0435\\u043d\\u043d\\u0438\\u0441\\u0438\\u0441\\u0442\\u043a\\u043e\\u0439 \\u0438\\u0437 \\u0420\\u043e\\u0441\\u0441\\u0438\\u0438 \\u2014 \\u0414\\u0430\\u0440\\u044c\\u0435\\u0439 \\u041a\\u0430\\u0441\\u0430\\u0442\\u043a\\u0438\\u043d\\u043e\\u0439.\",\n          \"\\u041b\\u0435\\u043d\\u0430\\u0440\\u0434 \\u043f\\u0440\\u043e\\u0432\\u0451\\u043b \\u0438\\u0441\\u0442\\u043e\\u0440\\u0438\\u0447\\u0435\\u0441\\u043a\\u0443\\u044e \\u0441\\u0435\\u0440\\u0438\\u044e, \\u0421\\u0438\\u043c\\u043c\\u043e\\u043d\\u0441 \\u043f\\u0440\\u043e\\u043f\\u0430\\u043b, \\u0430 \\u042d\\u043c\\u0431\\u0438\\u0438\\u0434 \\u0431\\u044b\\u043b \\u0436\\u0443\\u0442\\u043a\\u043e \\u043f\\u043e\\u043b\\u0435\\u0437\\u0435\\u043d.\"\n        ],\n        \"semantic_type\": \"\",\n        \"description\": \"\"\n      }\n    },\n    {\n      \"column\": \"text\",\n      \"properties\": {\n        \"dtype\": \"string\",\n        \"num_unique_values\": 26050,\n        \"samples\": [\n          \"\\u0421\\u043f\\u043e\\u0440 \\u043e \\u0442\\u043e\\u043c, \\u043a\\u0442\\u043e \\u043b\\u0443\\u0447\\u0448\\u0435, \\u2014 \\u043a\\u043b\\u0430\\u0441\\u0441\\u0438\\u0447\\u0435\\u0441\\u043a\\u0430\\u044f \\u0442\\u0435\\u043c\\u0430 \\u0434\\u043b\\u044f \\u0441\\u043f\\u043e\\u0440\\u0442\\u0430. \\u0420\\u0435\\u0439\\u0442\\u0438\\u043d\\u0433\\u0438, \\u0442\\u043e\\u043f\\u044b, \\u043e\\u0431\\u0441\\u0443\\u0436\\u0434\\u0435\\u043d\\u0438\\u044f \\u2014 \\u0431\\u0435\\u0437 \\u0432\\u0441\\u0435\\u0433\\u043e \\u044d\\u0442\\u043e\\u0433\\u043e \\u0442\\u044f\\u0436\\u0435\\u043b\\u043e \\u043f\\u0440\\u0435\\u0434\\u0441\\u0442\\u0430\\u0432\\u0438\\u0442\\u044c \\u0441\\u043e\\u0432\\u0440\\u0435\\u043c\\u0435\\u043d\\u043d\\u0443\\u044e \\u0436\\u0443\\u0440\\u043d\\u0430\\u043b\\u0438\\u0441\\u0442\\u0438\\u043a\\u0443 \\u0438 \\u0445\\u043e\\u043a\\u043a\\u0435\\u0439. \\u0421\\u0435\\u0432\\u0435\\u0440\\u043e\\u0430\\u043c\\u0435\\u0440\\u0438\\u043a\\u0430\\u043d\\u0441\\u043a\\u0438\\u0435 \\u043a\\u043e\\u043b\\u043b\\u0435\\u0433\\u0438 \\u0440\\u0435\\u0433\\u0443\\u043b\\u044f\\u0440\\u043d\\u043e \\u0440\\u0430\\u0434\\u0443\\u044e\\u0442 \\u0431\\u043e\\u043b\\u0435\\u043b\\u044c\\u0449\\u0438\\u043a\\u043e\\u0432, \\u0441\\u043e\\u0437\\u0434\\u0430\\u0432\\u0430\\u044f \\u0441\\u043f\\u0438\\u0441\\u043a\\u0438 \\u043d\\u0430 \\u0440\\u0430\\u0437\\u043d\\u044b\\u0435 \\u0442\\u0435\\u043c\\u044b \\u0438 \\u0440\\u0430\\u0437\\u043d\\u043e\\u0439 \\u0441\\u0442\\u0435\\u043f\\u0435\\u043d\\u0438 \\u00ab\\u0432\\u0435\\u0447\\u043d\\u043e\\u0441\\u0442\\u0438\\u00bb.\\n\\u041c\\u044b \\u043f\\u043e\\u0434\\u0443\\u043c\\u0430\\u043b\\u0438 \\u0438 \\u0440\\u0435\\u0448\\u0438\\u043b\\u0438 \\u2014 \\u0430 \\u043f\\u043e\\u0447\\u0435\\u043c\\u0443 \\u0431\\u044b \\u043d\\u0435 \\u0441\\u043e\\u0437\\u0434\\u0430\\u0442\\u044c \\u0441\\u043e\\u0431\\u0441\\u0442\\u0432\\u0435\\u043d\\u043d\\u044b\\u0439 \\u0440\\u0435\\u0439\\u0442\\u0438\\u043d\\u0433? \\u0421\\u043f\\u0438\\u0441\\u043a\\u0438 \\u043d\\u0430\\u0448\\u0438\\u0445 \\u043a\\u043e\\u043b\\u043b\\u0435\\u0433 \\u0432\\u0441\\u0435\\u0433\\u0434\\u0430 \\u0438\\u043d\\u0442\\u0435\\u0440\\u0435\\u0441\\u043d\\u044b, \\u043e\\u0434\\u043d\\u0430\\u043a\\u043e \\u043d\\u0435 \\u043c\\u0435\\u043d\\u0435\\u0435 \\u0443\\u0432\\u043b\\u0435\\u043a\\u0430\\u0442\\u0435\\u043b\\u044c\\u043d\\u043e \\u0438\\u0437\\u0443\\u0447\\u0438\\u0442\\u044c, \\u043a\\u0430\\u043a \\u043e\\u0442\\u043d\\u043e\\u0441\\u044f\\u0442\\u0441\\u044f \\u043a \\u0442\\u0435\\u043c \\u0438\\u043b\\u0438 \\u0438\\u043d\\u044b\\u043c \\u0438\\u0433\\u0440\\u043e\\u043a\\u0430\\u043c \\u043f\\u043e \\u0434\\u0440\\u0443\\u0433\\u0443\\u044e \\u0441\\u0442\\u043e\\u0440\\u043e\\u043d\\u0443 \\u043e\\u043a\\u0435\\u0430\\u043d\\u0430.\\n\\u0422\\u0430\\u043a \\u0447\\u0442\\u043e \\u0445\\u043e\\u0442\\u0438\\u043c \\u043f\\u0440\\u0435\\u0434\\u0441\\u0442\\u0430\\u0432\\u0438\\u0442\\u044c \\u0432\\u0430\\u043c \\u0430\\u0432\\u0442\\u043e\\u0440\\u0441\\u043a\\u0438\\u0439 \\u0442\\u043e\\u043f-50 \\u043b\\u0443\\u0447\\u0448\\u0438\\u0445 \\u0440\\u043e\\u0441\\u0441\\u0438\\u0439\\u0441\\u043a\\u0438\\u0445 \\u0445\\u043e\\u043a\\u043a\\u0435\\u0438\\u0441\\u0442\\u043e\\u0432 \\u0432 \\u0438\\u0441\\u0442\\u043e\\u0440\\u0438\\u0438 \\u041d\\u0425\\u041b. \\u041e\\u043d, \\u0441\\u043a\\u043e\\u0440\\u0435\\u0435 \\u0432\\u0441\\u0435\\u0433\\u043e, \\u043e\\u043a\\u0430\\u0436\\u0435\\u0442\\u0441\\u044f \\u043d\\u0435 \\u043c\\u0435\\u043d\\u0435\\u0435 \\u0441\\u043f\\u043e\\u0440\\u043d\\u044b\\u043c, \\u0447\\u0435\\u043c \\u0441\\u0435\\u0432\\u0435\\u0440\\u043e\\u0430\\u043c\\u0435\\u0440\\u0438\\u043a\\u0430\\u043d\\u0441\\u043a\\u0438\\u0439. \\u041d\\u043e \\u0432 \\u044d\\u0442\\u043e\\u043c \\u0436\\u0435 \\u0438 \\u043f\\u043b\\u044e\\u0441 \\u0440\\u0435\\u0439\\u0442\\u0438\\u043d\\u0433\\u043e\\u0432, \\u0432\\u0435\\u0440\\u043d\\u043e? \\u041f\\u043e-\\u0441\\u0432\\u043e\\u0435\\u043c\\u0443 \\u043e\\u0446\\u0435\\u043d\\u0438\\u0442\\u044c \\u0432\\u043b\\u0438\\u044f\\u043d\\u0438\\u0435 \\u043b\\u0438\\u0447\\u043d\\u043e\\u0441\\u0442\\u0435\\u0439 \\u043d\\u0430\\u0448\\u0435\\u0439 \\u043b\\u044e\\u0431\\u0438\\u043c\\u043e\\u0439 \\u0441\\u0444\\u0435\\u0440\\u044b. \\u0422\\u0435\\u043c \\u0431\\u043e\\u043b\\u0435\\u0435 \\u0430\\u0432\\u0442\\u043e\\u0440 \\u043f\\u043b\\u0430\\u043d\\u0438\\u0440\\u0443\\u0435\\u0442 \\u0447\\u0438\\u0442\\u0430\\u0442\\u044c \\u0432\\u0441\\u0435 \\u0432\\u0430\\u0448\\u0438 \\u043a\\u043e\\u043c\\u043c\\u0435\\u043d\\u0442\\u0430\\u0440\\u0438\\u0438 \\u0438, \\u0432\\u0435\\u0440\\u043e\\u044f\\u0442\\u043d\\u043e, \\u043e\\u0442\\u0432\\u0435\\u0442\\u0438\\u0442\\u044c \\u043d\\u0430 \\u0432\\u043e\\u043f\\u0440\\u043e\\u0441\\u044b \\u043e\\u0442\\u0434\\u0435\\u043b\\u044c\\u043d\\u043e \\u2014 \\u0443\\u0436\\u0435 \\u043f\\u043e \\u0438\\u0442\\u043e\\u0433\\u0430\\u043c \\u0432\\u044b\\u0445\\u043e\\u0434\\u0430 \\u0432\\u0441\\u0435\\u0433\\u043e \\u0440\\u0435\\u0439\\u0442\\u0438\\u043d\\u0433\\u0430.\\n\\u0422\\u043e\\u043f \\u043e\\u043a\\u0430\\u0436\\u0435\\u0442\\u0441\\u044f \\u043a\\u0440\\u0443\\u043f\\u043d\\u044b\\u043c, \\u043f\\u043e\\u044d\\u0442\\u043e\\u043c\\u0443 \\u0431\\u0443\\u0434\\u0435\\u0442 \\u0440\\u0430\\u0437\\u0434\\u0435\\u043b\\u0451\\u043d \\u043d\\u0430 \\u043f\\u044f\\u0442\\u044c \\u043c\\u0430\\u0442\\u0435\\u0440\\u0438\\u0430\\u043b\\u043e\\u0432 \\u2014 \\u043f\\u043e \\u0434\\u0435\\u0441\\u044f\\u0442\\u043a\\u0435 \\u043b\\u0443\\u0447\\u0448\\u0438\\u0445. \\u0421\\u0435\\u0433\\u043e\\u0434\\u043d\\u044f \\u043c\\u044b \\u0445\\u043e\\u0442\\u0438\\u043c \\u043f\\u0440\\u0435\\u0434\\u0441\\u0442\\u0430\\u0432\\u0438\\u0442\\u044c \\u0432\\u0430\\u043c \\u043c\\u0435\\u0441\\u0442\\u0430 \\u0441 30-\\u0433\\u043e \\u043f\\u043e 21-\\u0435.\\n\\u041a\\u043b\\u0443\\u0431\\u044b: \\u00ab\\u0421\\u0435\\u043d\\u0442-\\u041b\\u0443\\u0438\\u0441 \\u0411\\u043b\\u044e\\u0437\\u00bb, \\u00ab\\u041d\\u044c\\u044e-\\u0419\\u043e\\u0440\\u043a \\u0420\\u0435\\u0439\\u043d\\u0434\\u0436\\u0435\\u0440\\u0441\\u00bb, \\u00ab\\u041e\\u0442\\u0442\\u0430\\u0432\\u0430 \\u0421\\u0435\\u043d\\u0430\\u0442\\u043e\\u0440\\u0437\\u00bb (\\u0441 2013-\\u0433\\u043e) \\u2014 12-\\u0439 \\u0441\\u0435\\u0437\\u043e\\u043d \\u0432 \\u041d\\u0425\\u041b\\n712 \\u043c\\u0430\\u0442\\u0447\\u0435\\u0439, 602 (280+322) \\u043e\\u0447\\u043a\\u0430, \\u00ab+70\\u00bb \\u2014 \\u0432 \\u0440\\u0435\\u0433\\u0443\\u043b\\u044f\\u0440\\u043d\\u044b\\u0445 \\u0447\\u0435\\u043c\\u043f\\u0438\\u043e\\u043d\\u0430\\u0442\\u0430\\u0445 97 \\u043c\\u0430\\u0442\\u0447\\u0435\\u0439, 64 (44+20) \\u043e\\u0447\\u043a\\u0430, \\u00ab-23\\u00bb \\u2014 \\u0432 \\u043f\\u043b\\u0435\\u0439-\\u043e\\u0444\\u0444\\n\\u041d\\u0430\\u043f\\u0430\\u0434\\u0430\\u044e\\u0449\\u0438\\u0439 \\u0431\\u044b\\u043b \\u0437\\u0430\\u0434\\u0440\\u0430\\u0444\\u0442\\u043e\\u0432\\u0430\\u043d \\u0432 2010-\\u043c \\u0432 \\u043f\\u0435\\u0440\\u0432\\u043e\\u043c \\u0440\\u0430\\u0443\\u043d\\u0434\\u0435 \\u043f\\u043e\\u0434 \\u043e\\u0431\\u0449\\u0438\\u043c 16-\\u043c \\u043d\\u043e\\u043c\\u0435\\u0440\\u043e\\u043c \\u00ab\\u0421\\u0435\\u043d\\u0442-\\u041b\\u0443\\u0438\\u0441\\u043e\\u043c\\u00bb. \\u0422\\u0440\\u0435\\u043c\\u044f \\u0433\\u043e\\u0434\\u0430\\u043c\\u0438 \\u043f\\u043e\\u0437\\u0436\\u0435 21-\\u043b\\u0435\\u0442\\u043d\\u0438\\u0439 \\u0422\\u0430\\u0440\\u0430\\u0441\\u0435\\u043d\\u043a\\u043e \\u043f\\u0440\\u0438\\u0441\\u043e\\u0435\\u0434\\u0438\\u043d\\u0438\\u043b\\u0441\\u044f \\u043a \\u00ab\\u0431\\u043b\\u044e\\u0437\\u043c\\u0435\\u043d\\u0430\\u043c\\u00bb.\\n\\u0414\\u0435\\u0431\\u044e\\u0442 \\u0443 \\u0412\\u043b\\u0430\\u0434\\u0438\\u043c\\u0438\\u0440\\u0430 \\u0443\\u0434\\u0430\\u043b\\u0441\\u044f. \\u041e\\u043d \\u043e\\u0444\\u043e\\u0440\\u043c\\u0438\\u043b \\u0434\\u0443\\u0431\\u043b\\u044c \\u0432 \\u0432\\u043e\\u0440\\u043e\\u0442\\u0430 \\u00ab\\u0414\\u0435\\u0442\\u0440\\u043e\\u0439\\u0442\\u0430\\u00bb \\u0432 \\u043f\\u0435\\u0440\\u0432\\u043e\\u043c \\u0436\\u0435 \\u043c\\u0430\\u0442\\u0447\\u0435 \\u0432 \\u041d\\u0425\\u041b. \\u0414\\u0435\\u0431\\u044e\\u0442\\u043d\\u044b\\u0439 \\u0433\\u043e\\u0434 \\u0443\\u0448\\u0451\\u043b \\u0443 \\u0440\\u043e\\u0441\\u0441\\u0438\\u044f\\u043d\\u0438\\u043d\\u0430 \\u043d\\u0430 \\u0440\\u0430\\u0441\\u043a\\u0430\\u0447\\u043a\\u0443, \\u043d\\u043e \\u0443\\u0436\\u0435 \\u0441\\u043e \\u0441\\u043b\\u0435\\u0434\\u0443\\u044e\\u0449\\u0435\\u0433\\u043e \\u0441\\u0435\\u0437\\u043e\\u043d\\u0430 \\u0444\\u043e\\u0440\\u0432\\u0430\\u0440\\u0434 \\u0441\\u0442\\u0430\\u043b \\u043e\\u0434\\u043d\\u0438\\u043c \\u0438\\u0437 \\u043b\\u0438\\u0434\\u0435\\u0440\\u043e\\u0432 \\u00ab\\u0411\\u043b\\u044e\\u0437\\u00bb, \\u043a\\u043e\\u0438\\u043c \\u043e\\u0441\\u0442\\u0430\\u0432\\u0430\\u043b\\u0441\\u044f \\u0432 \\u0442\\u0435\\u0447\\u0435\\u043d\\u0438\\u0435 \\u043f\\u043e\\u0447\\u0442\\u0438 10 \\u043b\\u0435\\u0442. \\u0412 2016-\\u043c \\u0435\\u043c\\u0443 \\u0438 \\u0432\\u043e\\u0432\\u0441\\u0435 \\u0432\\u0440\\u0443\\u0447\\u0438\\u043b\\u0438 \\u043d\\u0430\\u0448\\u0438\\u0432\\u043a\\u0443 \\u0430\\u043b\\u044c\\u0442\\u0435\\u0440\\u043d\\u0430\\u0442\\u0438\\u0432\\u043d\\u043e\\u0433\\u043e \\u043a\\u0430\\u043f\\u0438\\u0442\\u0430\\u043d\\u0430! \\u041e\\u0434\\u043d\\u0430\\u043a\\u043e \\u0441\\u0432\\u043e\\u0439 \\u043b\\u0443\\u0447\\u0448\\u0438\\u0439 \\u0441\\u0435\\u0437\\u043e\\u043d \\u0422\\u0430\\u0440\\u0430\\u0441\\u0435\\u043d\\u043a\\u043e \\u043f\\u0440\\u043e\\u0432\\u0451\\u043b \\u0443\\u0436\\u0435 \\u0432 \\u0447\\u0435\\u043c\\u043f\\u0438\\u043e\\u043d\\u0430\\u0442\\u0435-2021/2022, \\u043a\\u043e\\u0433\\u0434\\u0430 \\u043d\\u0430\\u0431\\u0440\\u0430\\u043b \\u0440\\u0435\\u043a\\u043e\\u0440\\u0434\\u043d\\u044b\\u0435 \\u0434\\u043b\\u044f \\u0441\\u0435\\u0431\\u044f 82 (34+48) \\u043e\\u0447\\u043a\\u0430 \\u0432 75 \\u043c\\u0430\\u0442\\u0447\\u0430\\u0445.\\n\\u041e\\u0441\\u043e\\u0431\\u043d\\u044f\\u043a\\u043e\\u043c \\u0434\\u043b\\u044f \\u0412\\u043b\\u0430\\u0434\\u0438\\u043c\\u0438\\u0440\\u0430, \\u043a\\u0430\\u043a \\u0438 \\u0434\\u043b\\u044f \\u0432\\u0441\\u0435\\u0433\\u043e \\u00ab\\u0421\\u0435\\u043d\\u0442-\\u041b\\u0443\\u0438\\u0441\\u0430\\u00bb, \\u0441\\u0442\\u043e\\u0438\\u0442 \\u043a\\u0430\\u043c\\u043f\\u0430\\u043d\\u0438\\u044f-2018/2019. \\u00ab\\u0411\\u043b\\u044e\\u0437\\u043c\\u0435\\u043d\\u044b\\u00bb \\u0441 \\u043f\\u043e\\u0441\\u043b\\u0435\\u0434\\u043d\\u0435\\u0433\\u043e \\u043c\\u0435\\u0441\\u0442\\u0430 \\u0432 \\u0442\\u0430\\u0431\\u043b\\u0438\\u0446\\u0435 \\u0437\\u0430 \\u043d\\u0435\\u0441\\u043a\\u043e\\u043b\\u044c\\u043a\\u043e \\u043c\\u0435\\u0441\\u044f\\u0446\\u0435\\u0432 \\u0432\\u044b\\u0431\\u0440\\u0430\\u043b\\u0438\\u0441\\u044c \\u0432 \\u0437\\u043e\\u043d\\u0443 \\u0432 \\u043f\\u043b\\u0435\\u0439-\\u043e\\u0444\\u0444! \\u0412 \\u0442\\u043e\\u043c \\u0440\\u0435\\u0433\\u0443\\u043b\\u044f\\u0440\\u043d\\u043e\\u043c \\u0447\\u0435\\u043c\\u043f\\u0438\\u043e\\u043d\\u0430\\u0442\\u0435 \\u0422\\u0430\\u0440\\u0430\\u0441\\u0435\\u043d\\u043a\\u043e \\u0441\\u0442\\u0430\\u043b \\u043b\\u0443\\u0447\\u0448\\u0438\\u043c \\u0441\\u043d\\u0430\\u0439\\u043f\\u0435\\u0440\\u043e\\u043c \\u043a\\u043e\\u043c\\u0430\\u043d\\u0434\\u044b (33 \\u0433\\u043e\\u043b\\u0430), \\u0430 \\u0442\\u0430\\u043a\\u0436\\u0435 \\u0432\\u0442\\u043e\\u0440\\u044b\\u043c \\u0431\\u043e\\u043c\\u0431\\u0430\\u0440\\u0434\\u0438\\u0440\\u043e\\u043c (68) \\u0438 \\u0442\\u0440\\u0435\\u0442\\u044c\\u0438\\u043c \\u0430\\u0441\\u0441\\u0438\\u0441\\u0442\\u0435\\u043d\\u0442\\u043e\\u043c (35).\\n\\u0412 \\u0440\\u043e\\u0437\\u044b\\u0433\\u0440\\u044b\\u0448\\u0435 \\u041a\\u0443\\u0431\\u043a\\u0430 \\u0421\\u0442\\u044d\\u043d\\u043b\\u0438 \\u2014 2019 \\u0440\\u043e\\u0441\\u0441\\u0438\\u044f\\u043d\\u0438\\u043d \\u0437\\u0430\\u0431\\u0440\\u043e\\u0441\\u0438\\u043b 11 \\u0448\\u0430\\u0439\\u0431. \\u041e\\u043d \\u0441\\u0432\\u043e\\u0438\\u043c \\u0434\\u0443\\u0431\\u043b\\u0435\\u043c \\u043f\\u0440\\u0438\\u043d\\u0451\\u0441 \\u043f\\u043e\\u0431\\u0435\\u0434\\u0443 \\u00ab\\u0421\\u0435\\u043d\\u0442-\\u041b\\u0443\\u0438\\u0441\\u0443\\u00bb \\u0432 \\u043f\\u0435\\u0440\\u0432\\u043e\\u043c \\u043c\\u0430\\u0442\\u0447\\u0435 \\u0432\\u0442\\u043e\\u0440\\u043e\\u0433\\u043e \\u0440\\u0430\\u0443\\u043d\\u0434\\u0430 \\u0441 \\u00ab\\u0414\\u0430\\u043b\\u043b\\u0430\\u0441\\u043e\\u043c\\u00bb, \\u0442\\u0440\\u0438\\u0436\\u0434\\u044b \\u0437\\u0430\\u0431\\u0438\\u043b \\u0432 \\u0444\\u0438\\u043d\\u0430\\u043b\\u0435 \\u0417\\u0430\\u043f\\u0430\\u0434\\u043d\\u043e\\u0439 \\u043a\\u043e\\u043d\\u0444\\u0435\\u0440\\u0435\\u043d\\u0446\\u0438\\u0438 \\u0441 \\u00ab\\u0421\\u0430\\u043d-\\u0425\\u043e\\u0441\\u0435\\u00bb, \\u0432\\u043a\\u043b\\u044e\\u0447\\u0430\\u044f \\u043f\\u043e\\u0431\\u0435\\u0434\\u043d\\u044b\\u0439 \\u0433\\u043e\\u043b \\u0432 \\u0440\\u0435\\u0448\\u0430\\u044e\\u0449\\u0435\\u043c, \\u0448\\u0435\\u0441\\u0442\\u043e\\u043c \\u043c\\u0430\\u0442\\u0447\\u0435 \\u0441\\u0435\\u0440\\u0438\\u0438. \\u0415\\u0449\\u0451 \\u0442\\u0440\\u0438 \\u0435\\u0433\\u043e \\u0448\\u0430\\u0439\\u0431\\u044b \\u043f\\u0440\\u0438\\u0448\\u043b\\u0438\\u0441\\u044c \\u043d\\u0430 \\u0444\\u0438\\u043d\\u0430\\u043b \\u043f\\u043b\\u0435\\u0439-\\u043e\\u0444\\u0444 \\u0441 \\u00ab\\u0411\\u043e\\u0441\\u0442\\u043e\\u043d\\u043e\\u043c\\u00bb. \\u0422\\u0430\\u043a \\u0422\\u0430\\u0440\\u0430\\u0441\\u0435\\u043d\\u043a\\u043e \\u043f\\u043e\\u043c\\u043e\\u0433 \\u0431\\u0435\\u0437\\u043e\\u0433\\u043e\\u0432\\u043e\\u0440\\u043e\\u0447\\u043d\\u044b\\u043c \\u0430\\u0443\\u0442\\u0441\\u0430\\u0439\\u0434\\u0435\\u0440\\u0430\\u043c \\u00ab\\u0411\\u043b\\u044e\\u0437\\u00bb \\u0441\\u043d\\u0430\\u0447\\u0430\\u043b\\u0430 \\u0432\\u044b\\u0439\\u0442\\u0438 \\u0432 \\u043f\\u043b\\u0435\\u0439-\\u043e\\u0444\\u0444, \\u0430 \\u043f\\u043e\\u0441\\u043b\\u0435 \\u0438 \\u0437\\u0430\\u0432\\u043e\\u0435\\u0432\\u0430\\u0442\\u044c \\u043f\\u0435\\u0440\\u0432\\u044b\\u0439 \\u041a\\u0443\\u0431\\u043e\\u043a \\u0421\\u0442\\u044d\\u043d\\u043b\\u0438 \\u0432 \\u0438\\u0441\\u0442\\u043e\\u0440\\u0438\\u0438. \\u0412\\u043b\\u0430\\u0434\\u0438\\u043c\\u0438\\u0440 \\u0441\\u0442\\u0430\\u043b \\u0432\\u0442\\u043e\\u0440\\u044b\\u043c \\u0441\\u043d\\u0430\\u0439\\u043f\\u0435\\u0440\\u043e\\u043c \\u0438 \\u0447\\u0435\\u0442\\u0432\\u0451\\u0440\\u0442\\u044b\\u043c \\u0431\\u043e\\u043c\\u0431\\u0430\\u0440\\u0434\\u0438\\u0440\\u043e\\u043c \\u00ab\\u0421\\u0435\\u043d\\u0442-\\u041b\\u0443\\u0438\\u0441\\u0430\\u00bb \\u0432 \\u0442\\u043e\\u043c \\u0440\\u043e\\u0437\\u044b\\u0433\\u0440\\u044b\\u0448\\u0435.\\n\\u041d\\u0430\\u043f\\u0430\\u0434\\u0430\\u044e\\u0449\\u0438\\u0439 \\u0432\\u043f\\u0438\\u0441\\u0430\\u043b \\u0441\\u0435\\u0431\\u044f \\u0432 \\u0438\\u0441\\u0442\\u043e\\u0440\\u0438\\u044e \\u00ab\\u0431\\u043b\\u044e\\u0437\\u043c\\u0435\\u043d\\u043e\\u0432\\u00bb \\u043d\\u0435 \\u0442\\u043e\\u043b\\u044c\\u043a\\u043e \\u0431\\u043b\\u0430\\u0433\\u043e\\u0434\\u0430\\u0440\\u044f \\u0442\\u0440\\u043e\\u0444\\u0435\\u044e. \\u0422\\u0430\\u0440\\u0430\\u0441\\u0435\\u043d\\u043a\\u043e \\u0441\\u0442\\u0430\\u043b \\u0436\\u0438\\u0432\\u043e\\u0439 \\u043b\\u0435\\u0433\\u0435\\u043d\\u0434\\u043e\\u0439 \\u043a\\u043b\\u0443\\u0431\\u0430, \\u043f\\u0440\\u043e\\u0432\\u0435\\u0434\\u044f \\u0432 \\u00ab\\u0421\\u0435\\u043d\\u0442-\\u041b\\u0443\\u0438\\u0441\\u0435\\u00bb 10 \\u043b\\u0435\\u0442. \\u0420\\u043e\\u0441\\u0441\\u0438\\u044f\\u043d\\u0438\\u043d \\u2014 11-\\u0439 \\u0432 \\u0438\\u0441\\u0442\\u043e\\u0440\\u0438\\u0438 \\u00ab\\u0411\\u043b\\u044e\\u0437\\u00bb \\u043f\\u043e \\u043a\\u043e\\u043b\\u0438\\u0447\\u0435\\u0441\\u0442\\u0432\\u0443 \\u043c\\u0430\\u0442\\u0447\\u0435\\u0439. \\u041a\\u0440\\u043e\\u043c\\u0435 \\u0442\\u043e\\u0433\\u043e, \\u043e\\u043d \\u043f\\u044f\\u0442\\u044b\\u0439 \\u0441\\u043d\\u0430\\u0439\\u043f\\u0435\\u0440 \\u0438 \\u0431\\u043e\\u043c\\u0431\\u0430\\u0440\\u0434\\u0438\\u0440 \\u0437\\u0430 \\u0432\\u0441\\u0451 \\u0432\\u0440\\u0435\\u043c\\u044f \\u0441\\u0443\\u0449\\u0435\\u0441\\u0442\\u0432\\u043e\\u0432\\u0430\\u043d\\u0438\\u044f \\u043a\\u043b\\u0443\\u0431\\u0430 \\u2014 \\u0438 \\u043b\\u0443\\u0447\\u0448\\u0438\\u0439 \\u043f\\u043e \\u0433\\u043e\\u043b\\u0430\\u043c \\u0438 \\u043e\\u0447\\u043a\\u0430\\u043c \\u0441\\u0440\\u0435\\u0434\\u0438 \\u0435\\u0432\\u0440\\u043e\\u043f\\u0435\\u0439\\u0446\\u0435\\u0432. \\u0412\\u043b\\u0430\\u0434\\u0438\\u043c\\u0438\\u0440 \\u0442\\u0430\\u043a\\u0436\\u0435 \\u0441\\u0435\\u0434\\u044c\\u043c\\u043e\\u0439 \\u0430\\u0441\\u0441\\u0438\\u0441\\u0442\\u0435\\u043d\\u0442 \\u00ab\\u0421\\u0435\\u043d\\u0442-\\u041b\\u0443\\u0438\\u0441\\u0430\\u00bb (\\u0432\\u0442\\u043e\\u0440\\u043e\\u0439 \\u0441\\u0440\\u0435\\u0434\\u0438 \\u0435\\u0432\\u0440\\u043e\\u043f\\u0435\\u0439\\u0446\\u0435\\u0432).\\n\\u0422\\u0430\\u0440\\u0430\\u0441\\u0435\\u043d\\u043a\\u043e \\u2014 \\u043e\\u0434\\u0438\\u043d \\u0438\\u0437 17 \\u0440\\u043e\\u0441\\u0441\\u0438\\u044f\\u043d, \\u0434\\u043e\\u0431\\u0440\\u0430\\u0432\\u0448\\u0438\\u0445\\u0441\\u044f \\u0434\\u043e \\u043e\\u0442\\u043c\\u0435\\u0442\\u043a\\u0438 \\u0432 600+ \\u043e\\u0447\\u043a\\u043e\\u0432. \\u041d\\u0430\\u043f\\u0430\\u0434\\u0430\\u044e\\u0449\\u0438\\u0439 \\u0437\\u0430\\u043d\\u0438\\u043c\\u0430\\u0435\\u0442 17-\\u0435 \\u043c\\u0435\\u0441\\u0442\\u043e \\u0432 \\u0441\\u043f\\u0438\\u0441\\u043a\\u0435 \\u043b\\u0443\\u0447\\u0448\\u0438\\u0445 \\u0431\\u043e\\u043c\\u0431\\u0430\\u0440\\u0434\\u0438\\u0440\\u043e\\u0432 \\u0441\\u0440\\u0435\\u0434\\u0438 \\u0440\\u043e\\u0441\\u0441\\u0438\\u0439\\u0441\\u043a\\u0438\\u0445 \\u0445\\u043e\\u043a\\u043a\\u0435\\u0438\\u0441\\u0442\\u043e\\u0432 \\u0432 \\u0438\\u0441\\u0442\\u043e\\u0440\\u0438\\u0438 \\u041d\\u0425\\u041b, \\u043e\\u043d \\u043f\\u044f\\u0442\\u044b\\u0439 \\u0441\\u0440\\u0435\\u0434\\u0438 \\u0434\\u0435\\u0439\\u0441\\u0442\\u0432\\u0443\\u044e\\u0449\\u0438\\u0445 \\u0438\\u0433\\u0440\\u043e\\u043a\\u043e\\u0432. \\u041f\\u043e \\u043a\\u043e\\u043b\\u0438\\u0447\\u0435\\u0441\\u0442\\u0432\\u0443 \\u043c\\u0430\\u0442\\u0447\\u0435\\u0439 \\u0444\\u043e\\u0440\\u0432\\u0430\\u0440\\u0434 32-\\u0439 (\\u0448\\u0435\\u0441\\u0442\\u043e\\u0439 \\u0441\\u0440\\u0435\\u0434\\u0438 \\u0430\\u043a\\u0442\\u0438\\u0432\\u043d\\u044b\\u0445 \\u0438\\u0433\\u0440\\u043e\\u043a\\u043e\\u0432 \\u0438\\u0437 \\u0420\\u043e\\u0441\\u0441\\u0438\\u0438), \\u043f\\u043e \\u0433\\u043e\\u043b\\u0430\\u043c \\u2014 12-\\u0439 (\\u0447\\u0435\\u0442\\u0432\\u0451\\u0440\\u0442\\u044b\\u0439 \\u0441\\u0440\\u0435\\u0434\\u0438 \\u0434\\u0435\\u0439\\u0441\\u0442\\u0432\\u0443\\u044e\\u0449\\u0438\\u0445), \\u043f\\u043e \\u043f\\u0435\\u0440\\u0435\\u0434\\u0430\\u0447\\u0430\\u043c \\u2014 22-\\u0439 (\\u0448\\u0435\\u0441\\u0442\\u043e\\u0439 \\u0441\\u0440\\u0435\\u0434\\u0438 \\u0434\\u0435\\u0439\\u0441\\u0442\\u0432\\u0443\\u044e\\u0449\\u0438\\u0445).\\n\\u041a\\u043b\\u0443\\u0431\\u044b: \\u00ab\\u0421\\u0430\\u043d-\\u0425\\u043e\\u0441\\u0435 \\u0428\\u0430\\u0440\\u043a\\u0441\\u00bb, \\u00ab\\u041d\\u044c\\u044e-\\u0419\\u043e\\u0440\\u043a \\u0410\\u0439\\u043b\\u0435\\u043d\\u0434\\u0435\\u0440\\u0441\\u00bb, \\u00ab\\u0422\\u0430\\u043c\\u043f\\u0430-\\u0411\\u044d\\u0439 \\u041b\\u0430\\u0439\\u0442\\u043d\\u0438\\u043d\\u0433\\u00bb (1999\\u20142009, 2011\\u20142015, \\u0437\\u0430 \\u0438\\u0441\\u043a\\u043b\\u044e\\u0447\\u0435\\u043d\\u0438\\u0435\\u043c \\u043b\\u043e\\u043a\\u0430\\u0443\\u0442\\u043d\\u043e\\u0433\\u043e \\u0441\\u0435\\u0437\\u043e\\u043d\\u0430-2004/2005) \\u2014 14 \\u0441\\u0435\\u0437\\u043e\\u043d\\u043e\\u0432 \\u0432 \\u041d\\u0425\\u041b\\n697 \\u043c\\u0430\\u0442\\u0447\\u0435\\u0439, 353 \\u043f\\u043e\\u0431\\u0435\\u0434\\u044b, \\u041a\\u041d 2,44; 91,1% \\u041e\\u0411, 59 \\u0448\\u0430\\u0442-\\u0430\\u0443\\u0442\\u043e\\u0432 \\u2014 \\u0432 \\u0440\\u0435\\u0433\\u0443\\u043b\\u044f\\u0440\\u043d\\u044b\\u0445 \\u0447\\u0435\\u043c\\u043f\\u0438\\u043e\\u043d\\u0430\\u0442\\u0430\\u0445 86 \\u043c\\u0430\\u0442\\u0447\\u0435\\u0439, 42 \\u043f\\u043e\\u0431\\u0435\\u0434\\u044b, \\u041a\\u041d 2,43; 90,8% \\u041e\\u0411, \\u0441\\u0435\\u043c\\u044c \\u0448\\u0430\\u0442-\\u0430\\u0443\\u0442\\u043e\\u0432 \\u2014 \\u0432 \\u043f\\u043b\\u0435\\u0439-\\u043e\\u0444\\u0444\\n\\u0413\\u043e\\u043b\\u043a\\u0438\\u043f\\u0435\\u0440 \\u0431\\u044b\\u043b \\u0437\\u0430\\u0434\\u0440\\u0430\\u0444\\u0442\\u043e\\u0432\\u0430\\u043d \\u00ab\\u0421\\u0430\\u043d-\\u0425\\u043e\\u0441\\u0435\\u00bb \\u0432 \\u0434\\u0435\\u0432\\u044f\\u0442\\u043e\\u043c \\u0440\\u0430\\u0443\\u043d\\u0434\\u0435 \\u0434\\u0440\\u0430\\u0444\\u0442\\u0430-1994 \\u043f\\u043e\\u0434 \\u043e\\u0431\\u0449\\u0438\\u043c 219-\\u043c \\u043d\\u043e\\u043c\\u0435\\u0440\\u043e\\u043c. \\u0422\\u043e\\u043b\\u044c\\u043a\\u043e \\u0447\\u0435\\u0440\\u0435\\u0437 \\u0442\\u0440\\u0438 \\u0441\\u0435\\u0437\\u043e\\u043d\\u0430, \\u0432 22-\\u043b\\u0435\\u0442\\u043d\\u0435\\u043c \\u0432\\u043e\\u0437\\u0440\\u0430\\u0441\\u0442\\u0435, \\u041d\\u0430\\u0431\\u043e\\u043a\\u043e\\u0432 \\u043f\\u0435\\u0440\\u0435\\u0435\\u0445\\u0430\\u043b \\u0432 \\u0421\\u0435\\u0432\\u0435\\u0440\\u043d\\u0443\\u044e \\u0410\\u043c\\u0435\\u0440\\u0438\\u043a\\u0443.\\n\\u041e\\u0434\\u043d\\u0430\\u043a\\u043e \\u0434\\u0435\\u0431\\u044e\\u0442\\u0438\\u0440\\u043e\\u0432\\u0430\\u043b \\u0432 \\u041d\\u0425\\u041b \\u0415\\u0432\\u0433\\u0435\\u043d\\u0438\\u0439 \\u043b\\u0438\\u0448\\u044c \\u0447\\u0435\\u0440\\u0435\\u0437 \\u0448\\u0435\\u0441\\u0442\\u044c \\u043b\\u0435\\u0442 \\u043f\\u043e\\u0441\\u043b\\u0435 \\u0434\\u0440\\u0430\\u0444\\u0442\\u0430. 1 \\u044f\\u043d\\u0432\\u0430\\u0440\\u044f 2000 \\u0433\\u043e\\u0434\\u0430 \\u0432\\u0440\\u0430\\u0442\\u0430\\u0440\\u044c \\u0432\\u044b\\u0448\\u0435\\u043b \\u043d\\u0430 \\u043b\\u0451\\u0434 \\u0432 \\u0445\\u043e\\u0434\\u0435 \\u0432\\u0441\\u0442\\u0440\\u0435\\u0447\\u0438 \\u0441 \\u00ab\\u041d\\u044d\\u0448\\u0432\\u0438\\u043b\\u043b\\u043e\\u043c\\u00bb, \\u0437\\u0430\\u043c\\u0435\\u043d\\u0438\\u0432 \\u0421\\u0442\\u0438\\u0432\\u0435\\u043d\\u0430 \\u0428\\u0438\\u043b\\u0434\\u0441\\u0430, \\u0438 \\u043e\\u0442\\u0440\\u0430\\u0437\\u0438\\u043b \\u0432\\u0441\\u0435 \\u0447\\u0435\\u0442\\u044b\\u0440\\u0435 \\u0431\\u0440\\u043e\\u0441\\u043a\\u0430. \\u0421\\u043f\\u0443\\u0441\\u0442\\u044f \\u043f\\u043e\\u0447\\u0442\\u0438 \\u0442\\u0440\\u0438 \\u043d\\u0435\\u0434\\u0435\\u043b\\u0438, 19 \\u044f\\u043d\\u0432\\u0430\\u0440\\u044f, \\u041d\\u0430\\u0431\\u043e\\u043a\\u043e\\u0432 \\u043f\\u0440\\u043e\\u0432\\u0451\\u043b \\u043f\\u0435\\u0440\\u0432\\u044b\\u0439 \\u043c\\u0430\\u0442\\u0447 \\u0432 \\u0441\\u0442\\u0430\\u0440\\u0442\\u0435 \\u2014 \\u0441 \\u00ab\\u041a\\u043e\\u043b\\u043e\\u0440\\u0430\\u0434\\u043e\\u00bb. \\u041f\\u0440\\u0438\\u043c\\u0435\\u0447\\u0430\\u0442\\u0435\\u043b\\u044c\\u043d\\u043e, \\u0447\\u0442\\u043e \\u043f\\u0440\\u043e\\u0442\\u0438\\u0432\\u043d\\u0438\\u043a\\u043e\\u043c \\u0433\\u043e\\u043b\\u043a\\u0438\\u043f\\u0435\\u0440\\u0430 \\u0431\\u044b\\u043b \\u041f\\u0430\\u0442\\u0440\\u0438\\u043a \\u0420\\u0443\\u0430. \\u041d\\u0430 \\u0442\\u0430\\u0431\\u043b\\u043e \\u0434\\u0430\\u0436\\u0435 \\u0432\\u044b\\u0441\\u0432\\u0435\\u0442\\u0438\\u043b\\u0430\\u0441\\u044c \\u0441\\u0442\\u0430\\u0442\\u0438\\u0441\\u0442\\u0438\\u043a\\u0430 \\u2014 \\u043a\\u043e\\u043b\\u0438\\u0447\\u0435\\u0441\\u0442\\u0432\\u043e \\u043f\\u043e\\u0431\\u0435\\u0434 \\u043e\\u0431\\u043e\\u0438\\u0445 \\u0432\\u0440\\u0430\\u0442\\u0430\\u0440\\u0435\\u0439: 0 \\u043f\\u0440\\u043e\\u0442\\u0438\\u0432 427. \\u041d\\u043e \\u0432 \\u0442\\u043e\\u0439 \\u0432\\u0441\\u0442\\u0440\\u0435\\u0447\\u0435 \\u0415\\u0432\\u0433\\u0435\\u043d\\u0438\\u0439 \\u043e\\u0442\\u0440\\u0430\\u0437\\u0438\\u043b \\u0432\\u0441\\u0435 39 \\u0431\\u0440\\u043e\\u0441\\u043a\\u043e\\u0432, \\u043e\\u0444\\u043e\\u0440\\u043c\\u0438\\u043b \\u043f\\u0435\\u0440\\u0432\\u044b\\u0439 \\u0448\\u0430\\u0442-\\u0430\\u0443\\u0442 \\u0438 \\u043f\\u043e\\u043c\\u043e\\u0433 \\u0441\\u043e\\u0445\\u0440\\u0430\\u043d\\u0438\\u0442\\u044c \\u043d\\u0438\\u0447\\u0435\\u0439\\u043d\\u044b\\u0439 \\u0438\\u0442\\u043e\\u0433 \\u2014 0:0.\\n\\u0421\\u043e \\u0441\\u043b\\u0435\\u0434\\u0443\\u044e\\u0449\\u0435\\u0433\\u043e \\u0441\\u0435\\u0437\\u043e\\u043d\\u0430-2000/2001 \\u041d\\u0430\\u0431\\u043e\\u043a\\u043e\\u0432 \\u0441\\u0442\\u0430\\u043b \\u043e\\u0441\\u043d\\u043e\\u0432\\u043d\\u044b\\u043c \\u0432\\u0440\\u0430\\u0442\\u0430\\u0440\\u0451\\u043c \\u00ab\\u0421\\u0430\\u043d-\\u0425\\u043e\\u0441\\u0435\\u00bb. \\u0412 \\u043d\\u043e\\u044f\\u0431\\u0440\\u0435 \\u0438 \\u0434\\u0435\\u043a\\u0430\\u0431\\u0440\\u0435 \\u0440\\u043e\\u0441\\u0441\\u0438\\u044f\\u043d\\u0438\\u043d\\u0430 \\u043f\\u0440\\u0438\\u0437\\u043d\\u0430\\u0432\\u0430\\u043b\\u0438 \\u043b\\u0443\\u0447\\u0448\\u0438\\u043c \\u043d\\u043e\\u0432\\u0438\\u0447\\u043a\\u043e\\u043c \\u0432 \\u041d\\u0425\\u041b. \\u0410 \\u043f\\u043e \\u0438\\u0442\\u043e\\u0433\\u0430\\u043c \\u0442\\u043e\\u0439 \\u043a\\u0430\\u043c\\u043f\\u0430\\u043d\\u0438\\u0438 \\u0432\\u0440\\u0430\\u0442\\u0430\\u0440\\u044c \\u00ab\\u0428\\u0430\\u0440\\u043a\\u0441\\u00bb, \\u043e\\u0434\\u0435\\u0440\\u0436\\u0430\\u0432\\u0448\\u0438\\u0439 32 \\u043f\\u043e\\u0431\\u0435\\u0434\\u044b \\u0432 66 \\u043c\\u0430\\u0442\\u0447\\u0430\\u0445 \\u043f\\u0440\\u0438 \\u041a\\u041d 2,19 \\u0438 91,5% \\u041e\\u0411, \\u0437\\u0430\\u0432\\u043e\\u0435\\u0432\\u0430\\u043b \\u00ab\\u041a\\u043e\\u043b\\u0434\\u0435\\u0440 \\u0422\\u0440\\u043e\\u0444\\u0438\\u00bb \\u2014 \\u043f\\u0440\\u0438\\u0437 \\u043b\\u0443\\u0447\\u0448\\u0435\\u043c\\u0443 \\u043d\\u043e\\u0432\\u0438\\u0447\\u043a\\u0443 \\u0441\\u0435\\u0437\\u043e\\u043d\\u0430. \\u0422\\u043e\\u0433\\u0434\\u0430 \\u0436\\u0435 \\u0431\\u044b\\u043b \\u043f\\u0440\\u0438\\u0433\\u043b\\u0430\\u0448\\u0451\\u043d \\u043d\\u0430 \\u041c\\u0430\\u0442\\u0447 \\u0437\\u0432\\u0451\\u0437\\u0434.\\n\\u0421\\u0443\\u043c\\u043c\\u0430\\u0440\\u043d\\u043e \\u0415\\u0432\\u0433\\u0435\\u043d\\u0438\\u0439 \\u043f\\u0440\\u043e\\u0432\\u0451\\u043b \\u0432 \\u00ab\\u0421\\u0430\\u043d-\\u0425\\u043e\\u0441\\u0435\\u00bb 10 \\u043b\\u0435\\u0442, \\u0432 \\u0434\\u0435\\u0432\\u044f\\u0442\\u0438 \\u0441\\u043b\\u0443\\u0447\\u0430\\u044f\\u0445 \\u043a\\u043e\\u043c\\u0430\\u043d\\u0434\\u0430 \\u0432\\u044b\\u0445\\u043e\\u0434\\u0438\\u043b\\u0430 \\u0432 \\u043f\\u043b\\u0435\\u0439-\\u043e\\u0444\\u0444 \\u0438 \\u0432 \\u0432\\u043e\\u0441\\u044c\\u043c\\u0438 \\u043f\\u0440\\u0435\\u043e\\u0434\\u043e\\u043b\\u0435\\u0432\\u0430\\u043b\\u0430 \\u043f\\u0435\\u0440\\u0432\\u044b\\u0439 \\u0440\\u0430\\u0443\\u043d\\u0434. \\u0420\\u043e\\u0441\\u0441\\u0438\\u044f\\u043d\\u0438\\u043d \\u0443\\u0441\\u0442\\u0430\\u043d\\u043e\\u0432\\u0438\\u043b \\u0441 \\u043d\\u0435\\u0441\\u043a\\u043e\\u043b\\u044c\\u043a\\u043e \\u0434\\u0435\\u0441\\u044f\\u0442\\u043a\\u043e\\u0432 \\u043a\\u043b\\u0443\\u0431\\u043d\\u044b\\u0445 \\u0440\\u0435\\u043a\\u043e\\u0440\\u0434\\u043e\\u0432: \\u043f\\u043e \\u043a\\u043e\\u043b\\u0438\\u0447\\u0435\\u0441\\u0442\\u0432\\u0443 \\u043c\\u0430\\u0442\\u0447\\u0435\\u0439 \\u0437\\u0430 \\u0441\\u0435\\u0437\\u043e\\u043d (77), \\u0432 \\u0440\\u0435\\u0433\\u0443\\u043b\\u044f\\u0440\\u043d\\u044b\\u0445 \\u0447\\u0435\\u043c\\u043f\\u0438\\u043e\\u043d\\u0430\\u0442\\u0430\\u0445 (563) \\u0438 \\u0432 \\u041a\\u0443\\u0431\\u043a\\u0435 \\u0421\\u0442\\u044d\\u043d\\u043b\\u0438 \\u0437\\u0430 \\u0441\\u0435\\u0437\\u043e\\u043d (80); \\u043f\\u043e \\u043a\\u043e\\u043b\\u0438\\u0447\\u0435\\u0441\\u0442\\u0432\\u0443 \\u043f\\u043e\\u0431\\u0435\\u0434 \\u0437\\u0430 \\u0441\\u0435\\u0437\\u043e\\u043d (46), \\u0432 \\u0440\\u0435\\u0433\\u0443\\u043b\\u044f\\u0440\\u043d\\u044b\\u0445 \\u0447\\u0435\\u043c\\u043f\\u0438\\u043e\\u043d\\u0430\\u0442\\u0430\\u0445 (293), \\u0432 \\u041a\\u0443\\u0431\\u043a\\u0435 \\u0421\\u0442\\u044d\\u043d\\u043b\\u0438 \\u0437\\u0430 \\u0441\\u0435\\u0437\\u043e\\u043d (10) \\u0438 \\u0432 \\u0446\\u0435\\u043b\\u043e\\u043c \\u0432 \\u043f\\u043b\\u0435\\u0439-\\u043e\\u0444\\u0444 (40); \\u043f\\u043e \\u043a\\u043e\\u043b\\u0438\\u0447\\u0435\\u0441\\u0442\\u0432\\u0443 \\u00ab\\u0441\\u0443\\u0445\\u0430\\u0440\\u0435\\u0439\\u00bb \\u0437\\u0430 \\u0441\\u0435\\u0437\\u043e\\u043d (9), \\u0432 \\u0440\\u0435\\u0433\\u0443\\u043b\\u044f\\u0440\\u043d\\u044b\\u0445 \\u0447\\u0435\\u043c\\u043f\\u0438\\u043e\\u043d\\u0430\\u0442\\u0430\\u0445 (50), \\u0432 \\u041a\\u0443\\u0431\\u043a\\u0435 \\u0421\\u0442\\u044d\\u043d\\u043b\\u0438 \\u0437\\u0430 \\u0441\\u0435\\u0437\\u043e\\u043d (3) \\u0438 \\u0432 \\u0446\\u0435\\u043b\\u043e\\u043c \\u0432 \\u043f\\u043b\\u0435\\u0439-\\u043e\\u0444\\u0444 (7). \\u041a\\u0440\\u043e\\u043c\\u0435 \\u0442\\u043e\\u0433\\u043e, \\u041d\\u0430\\u0431\\u043e\\u043a\\u043e\\u0432 \\u2014 \\u043b\\u0443\\u0447\\u0448\\u0438\\u0439 \\u0432 \\u0438\\u0441\\u0442\\u043e\\u0440\\u0438\\u0438 \\u00ab\\u0430\\u043a\\u0443\\u043b\\u00bb \\u0441\\u0440\\u0435\\u0434\\u0438 \\u0432\\u0440\\u0430\\u0442\\u0430\\u0440\\u0435\\u0439, \\u0441\\u044b\\u0433\\u0440\\u0430\\u0432\\u0448\\u0438\\u0445 \\u043d\\u0435 \\u043c\\u0435\\u043d\\u0435\\u0435 130 \\u043c\\u0430\\u0442\\u0447\\u0435\\u0439, \\u043f\\u043e \\u043a\\u043e\\u044d\\u0444\\u0444\\u0438\\u0446\\u0438\\u0435\\u043d\\u0442\\u0443 \\u043d\\u0430\\u0434\\u0451\\u0436\\u043d\\u043e\\u0441\\u0442\\u0438 (2,39), \\u0438 \\u0432\\u0442\\u043e\\u0440\\u043e\\u0439 \\u043f\\u043e \\u043f\\u0440\\u043e\\u0446\\u0435\\u043d\\u0442\\u0443 \\u043e\\u0442\\u0440\\u0430\\u0436\\u0451\\u043d\\u043d\\u044b\\u0445 \\u0431\\u0440\\u043e\\u0441\\u043a\\u043e\\u0432 (91,2%).\\n\\u041d\\u044d\\u0431\\u0431\\u0438 \\u0442\\u0430\\u043a\\u0436\\u0435 \\u043e\\u0434\\u0438\\u043d \\u0438\\u0437 14 \\u0432\\u0440\\u0430\\u0442\\u0430\\u0440\\u0435\\u0439 \\u0432 \\u0438\\u0441\\u0442\\u043e\\u0440\\u0438\\u0438 \\u041d\\u0425\\u041b, \\u0437\\u0430\\u0431\\u0438\\u0432\\u0430\\u0432\\u0448\\u0438\\u0445 \\u0433\\u043e\\u043b\\u044b, \\u0438 \\u0435\\u0434\\u0438\\u043d\\u0441\\u0442\\u0432\\u0435\\u043d\\u043d\\u044b\\u0439, \\u0441\\u0434\\u0435\\u043b\\u0430\\u0432\\u0448\\u0438\\u0439 \\u044d\\u0442\\u043e \\u0432 \\u0431\\u043e\\u043b\\u044c\\u0448\\u0438\\u043d\\u0441\\u0442\\u0432\\u0435. \\u0421\\u0440\\u0435\\u0434\\u0438 \\u0432\\u0441\\u0435\\u0445 \\u0440\\u043e\\u0441\\u0441\\u0438\\u0439\\u0441\\u043a\\u0438\\u0445 \\u0433\\u043e\\u043b\\u043a\\u0438\\u043f\\u0435\\u0440\\u043e\\u0432 \\u0442\\u043e\\u043b\\u044c\\u043a\\u043e \\u0415\\u0432\\u0433\\u0435\\u043d\\u0438\\u0439 \\u0441\\u043c\\u043e\\u0433 \\u0437\\u0430\\u0431\\u0440\\u043e\\u0441\\u0438\\u0442\\u044c \\u0448\\u0430\\u0439\\u0431\\u0443.\\n\\u041d\\u0430\\u0431\\u043e\\u043a\\u043e\\u0432 \\u2014 \\u043b\\u0443\\u0447\\u0448\\u0438\\u0439 \\u043e\\u0442\\u0435\\u0447\\u0435\\u0441\\u0442\\u0432\\u0435\\u043d\\u043d\\u044b\\u0439 \\u0432\\u0440\\u0430\\u0442\\u0430\\u0440\\u044c \\u043f\\u043e \\u041a\\u041d (24-\\u0439 \\u0441\\u0440\\u0435\\u0434\\u0438 \\u0432\\u0441\\u0435\\u0445 \\u0432\\u0440\\u0430\\u0442\\u0430\\u0440\\u0435\\u0439)* \\u0438 \\u043f\\u043e \\u043a\\u043e\\u043b\\u0438\\u0447\\u0435\\u0441\\u0442\\u0432\\u0443 \\u0448\\u0430\\u0442-\\u0430\\u0443\\u0442\\u043e\\u0432 (21-\\u0439); \\u0432\\u0442\\u043e\\u0440\\u043e\\u0439 \\u043f\\u043e \\u043a\\u043e\\u043b\\u0438\\u0447\\u0435\\u0441\\u0442\\u0432\\u0443 \\u043c\\u0430\\u0442\\u0447\\u0435\\u0439 (32-\\u0439 \\u0441\\u0440\\u0435\\u0434\\u0438 \\u0432\\u0441\\u0435\\u0445). \\u041e\\u043d \\u0434\\u043e\\u043b\\u0433\\u043e\\u0435 \\u0432\\u0440\\u0435\\u043c\\u044f \\u0443\\u0434\\u0435\\u0440\\u0436\\u0438\\u0432\\u0430\\u043b \\u0440\\u0435\\u043a\\u043e\\u0440\\u0434 \\u043f\\u043e \\u043f\\u043e\\u0431\\u0435\\u0434\\u0430\\u043c, \\u043f\\u043e\\u043a\\u0430 \\u0432 2023 \\u0433\\u043e\\u0434\\u0443 \\u0421\\u0435\\u0440\\u0433\\u0435\\u0439 \\u0411\\u043e\\u0431\\u0440\\u043e\\u0432\\u0441\\u043a\\u0438\\u0439 \\u043d\\u0435 \\u043f\\u043e\\u0431\\u0438\\u043b \\u043e\\u043d\\u044b\\u0439 (24-\\u0439). \\u0415\\u0432\\u0433\\u0435\\u043d\\u0438\\u0439 \\u0442\\u0430\\u043a\\u0436\\u0435 \\u0442\\u0440\\u0435\\u0442\\u0438\\u0439 \\u0432 \\u0441\\u043f\\u0438\\u0441\\u043a\\u0435 \\u043b\\u0443\\u0447\\u0448\\u0438\\u0445 \\u0440\\u043e\\u0441\\u0441\\u0438\\u0439\\u0441\\u043a\\u0438\\u0445 \\u0432\\u0440\\u0430\\u0442\\u0430\\u0440\\u0435\\u0439-\\u0431\\u043e\\u043c\\u0431\\u0430\\u0440\\u0434\\u0438\\u0440\\u043e\\u0432 (1+15).\\n\\u041d\\u044d\\u0431\\u0431\\u0438 \\u0437\\u0430\\u043d\\u0438\\u043c\\u0430\\u0435\\u0442 \\u043f\\u0435\\u0440\\u0432\\u043e\\u0435 \\u043c\\u0435\\u0441\\u0442\\u043e \\u043f\\u043e \\u043a\\u043e\\u043b\\u0438\\u0447\\u0435\\u0441\\u0442\\u0432\\u0443 \\u00ab\\u0441\\u0443\\u0445\\u0430\\u0440\\u0435\\u0439\\u00bb (\\u0434\\u0435\\u043b\\u0438\\u0442 \\u0441 \\u0410\\u043d\\u0434\\u0440\\u0435\\u0435\\u043c \\u0412\\u0430\\u0441\\u0438\\u043b\\u0435\\u0432\\u0441\\u043a\\u0438\\u043c), \\u0447\\u0435\\u0442\\u0432\\u0451\\u0440\\u0442\\u043e\\u0435 \\u043f\\u043e \\u041a\\u041d \\u0432 \\u043f\\u043b\\u0435\\u0439-\\u043e\\u0444\\u0444 \\u0441\\u0440\\u0435\\u0434\\u0438 \\u0440\\u043e\\u0441\\u0441\\u0438\\u044f\\u043d, \\u043f\\u0440\\u043e\\u0432\\u0435\\u0434\\u0448\\u0438\\u0445 \\u0431\\u043e\\u043b\\u044c\\u0448\\u0435 30 \\u0432\\u0441\\u0442\\u0440\\u0435\\u0447, \\u0432\\u0442\\u043e\\u0440\\u043e\\u0435 \\u043f\\u043e \\u043c\\u0430\\u0442\\u0447\\u0430\\u043c \\u0438 \\u043a\\u043e\\u043b\\u0438\\u0447\\u0435\\u0441\\u0442\\u0432\\u0443 \\u0441\\u044b\\u0433\\u0440\\u0430\\u043d\\u043d\\u044b\\u0445 \\u043c\\u0438\\u043d\\u0443\\u0442, \\u0447\\u0435\\u0442\\u0432\\u0451\\u0440\\u0442\\u043e\\u0435 \\u043f\\u043e \\u041e\\u0411 \\u0438 \\u0432\\u0442\\u043e\\u0440\\u043e\\u0435 \\u043f\\u043e \\u043e\\u0447\\u043a\\u0430\\u043c (0+2). \\u041b\\u0435\\u0433\\u0435\\u043d\\u0434\\u0430\\u0440\\u043d\\u044b\\u0439 \\u0432\\u0440\\u0430\\u0442\\u0430\\u0440\\u044c!\\n*\\u0441\\u0440\\u0435\\u0434\\u0438 \\u0432\\u0441\\u0435\\u0445, \\u043a\\u0442\\u043e \\u043f\\u0440\\u043e\\u0432\\u0451\\u043b \\u0431\\u043e\\u043b\\u0435\\u0435 \\u043e\\u0434\\u043d\\u043e\\u0433\\u043e \\u043c\\u0430\\u0442\\u0447\\u0430\\n\\u041a\\u043b\\u0443\\u0431\\u044b: \\u00ab\\u0412\\u0438\\u043d\\u043d\\u0438\\u043f\\u0435\\u0433 \\u0414\\u0436\\u0435\\u0442\\u0441\\u00bb, \\u00ab\\u0427\\u0438\\u043a\\u0430\\u0433\\u043e \\u0411\\u043b\\u044d\\u043a\\u0445\\u043e\\u0443\\u043a\\u0441\\u00bb, \\u00ab\\u0424\\u0438\\u043b\\u0430\\u0434\\u0435\\u043b\\u044c\\u0444\\u0438\\u044f \\u0424\\u043b\\u0430\\u0439\\u0435\\u0440\\u0437\\u00bb, \\u00ab\\u0411\\u043e\\u0441\\u0442\\u043e\\u043d \\u0411\\u0440\\u044e\\u0438\\u043d\\u0437\\u00bb (1992\\u20142006, \\u0437\\u0430 \\u0438\\u0441\\u043a\\u043b\\u044e\\u0447\\u0435\\u043d\\u0438\\u0435\\u043c \\u043b\\u043e\\u043a\\u0430\\u0443\\u0442\\u043d\\u043e\\u0433\\u043e \\u0441\\u0435\\u0437\\u043e\\u043d\\u0430-2004/2005) \\u2014 13 \\u0441\\u0435\\u0437\\u043e\\u043d\\u043e\\u0432 \\u0432 \\u041d\\u0425\\u041b\\n807 \\u043c\\u0430\\u0442\\u0447\\u0435\\u0439, 719 (249+470) \\u043e\\u0447\\u043a\\u043e\\u0432, \\u00ab+10\\u00bb \\u2014 \\u0432 \\u0440\\u0435\\u0433\\u0443\\u043b\\u044f\\u0440\\u043d\\u044b\\u0445 \\u0447\\u0435\\u043c\\u043f\\u0438\\u043e\\u043d\\u0430\\u0442\\u0430\\u0445 35 \\u043c\\u0430\\u0442\\u0447\\u0435\\u0439, 19 (6+13) \\u043e\\u0447\\u043a\\u043e\\u0432, \\u00ab-6\\u00bb \\u2014 \\u0432 \\u043f\\u043b\\u0435\\u0439-\\u043e\\u0444\\u0444\\n\\u0426\\u0435\\u043d\\u0442\\u0440\\u0430\\u043b\\u044c\\u043d\\u044b\\u0439 \\u043d\\u0430\\u043f\\u0430\\u0434\\u0430\\u044e\\u0449\\u0438\\u0439 \\u0431\\u044b\\u043b \\u0432\\u044b\\u0431\\u0440\\u0430\\u043d \\u00ab\\u0412\\u0438\\u043d\\u043d\\u0438\\u043f\\u0435\\u0433\\u043e\\u043c\\u00bb \\u0432 1990-\\u043c \\u043f\\u043e\\u0434 \\u043e\\u0431\\u0449\\u0438\\u043c 77-\\u043c \\u043d\\u043e\\u043c\\u0435\\u0440\\u043e\\u043c. \\u041a \\u00ab\\u0414\\u0436\\u0435\\u0442\\u0441\\u00bb \\u0416\\u0430\\u043c\\u043d\\u043e\\u0432 \\u043f\\u0440\\u0438\\u0441\\u043e\\u0435\\u0434\\u0438\\u043d\\u0438\\u043b\\u0441\\u044f \\u0434\\u0432\\u0443\\u043c\\u044f \\u0433\\u043e\\u0434\\u0430\\u043c\\u0438 \\u043f\\u043e\\u0437\\u0436\\u0435, \\u0432 1992-\\u043c. \\u041d\\u0430 \\u0442\\u043e\\u0442 \\u043c\\u043e\\u043c\\u0435\\u043d\\u0442 \\u0435\\u043c\\u0443 \\u0431\\u044b\\u043b 21 \\u0433\\u043e\\u0434.\\n\\u0410\\u043b\\u0435\\u043a\\u0441\\u0435\\u0439 \\u0441 \\u043f\\u0435\\u0440\\u0432\\u043e\\u0433\\u043e \\u0441\\u0435\\u0437\\u043e\\u043d\\u0430 \\u043d\\u0430\\u0447\\u0430\\u043b \\u043f\\u043e\\u043a\\u0430\\u0437\\u044b\\u0432\\u0430\\u0442\\u044c \\u043c\\u043e\\u0449\\u043d\\u0443\\u044e \\u0438\\u0433\\u0440\\u0443 \\u0438 \\u0434\\u0430\\u0436\\u0435 \\u0432\\u044b\\u0441\\u0442\\u0443\\u043f\\u0430\\u043b \\u0432 \\u0442\\u0440\\u043e\\u0439\\u043a\\u0435 \\u0441 \\u043b\\u0435\\u0433\\u0435\\u043d\\u0434\\u0430\\u0440\\u043d\\u044b\\u043c\\u0438 \\u0422\\u0435\\u044d\\u043c\\u0443 \\u0421\\u0435\\u043b\\u044f\\u043d\\u043d\\u0435 \\u0438 \\u041a\\u0438\\u0442\\u043e\\u043c \\u0422\\u043a\\u0430\\u0447\\u0443\\u043a\\u043e\\u043c. \\u0414\\u0435\\u0431\\u044e\\u0442\\u043d\\u044b\\u0439 \\u0447\\u0435\\u043c\\u043f\\u0438\\u043e\\u043d\\u0430\\u0442 \\u0438 \\u0441\\u0442\\u0430\\u043b \\u0434\\u043b\\u044f \\u0416\\u0430\\u043c\\u043d\\u043e\\u0432\\u0430 \\u043b\\u0443\\u0447\\u0448\\u0438\\u043c \\u0432 \\u043a\\u0430\\u0440\\u044c\\u0435\\u0440\\u0435. \\u041d\\u0430\\u043f\\u0430\\u0434\\u0430\\u044e\\u0449\\u0438\\u0439 \\u043d\\u0430\\u0431\\u0440\\u0430\\u043b 72 (25+47) \\u043e\\u0447\\u043a\\u0430 \\u0432 68 \\u043c\\u0430\\u0442\\u0447\\u0430\\u0445, \\u0441\\u0442\\u0430\\u0432 \\u0442\\u0440\\u0435\\u0442\\u044c\\u0438\\u043c \\u0431\\u043e\\u043c\\u0431\\u0430\\u0440\\u0434\\u0438\\u0440\\u043e\\u043c, \\u0430 \\u0442\\u0430\\u043a\\u0436\\u0435 \\u0447\\u0435\\u0442\\u0432\\u0451\\u0440\\u0442\\u044b\\u043c \\u0433\\u043e\\u043b\\u0435\\u0430\\u0434\\u043e\\u0440\\u043e\\u043c \\u0438 \\u0430\\u0441\\u0441\\u0438\\u0441\\u0442\\u0435\\u043d\\u0442\\u043e\\u043c \\u00ab\\u0412\\u0438\\u043d\\u043d\\u0438\\u043f\\u0435\\u0433\\u0430\\u00bb. \\u0412 \\u0441\\u043e\\u043a\\u0440\\u0430\\u0449\\u0451\\u043d\\u043d\\u043e\\u043c \\u0447\\u0435\\u043c\\u043f\\u0438\\u043e\\u043d\\u0430\\u0442\\u0435-1994/1995 \\u0444\\u043e\\u0440\\u0432\\u0430\\u0440\\u0434 \\u0443\\u0441\\u0442\\u0430\\u043d\\u043e\\u0432\\u0438\\u043b \\u043b\\u0438\\u0447\\u043d\\u044b\\u0439 \\u0441\\u043d\\u0430\\u0439\\u043f\\u0435\\u0440\\u0441\\u043a\\u0438\\u0439 \\u0440\\u0435\\u043a\\u043e\\u0440\\u0434, \\u0437\\u0430\\u0431\\u0440\\u043e\\u0441\\u0438\\u0432 30 \\u0448\\u0430\\u0439\\u0431 \\u0432 48 \\u0432\\u0441\\u0442\\u0440\\u0435\\u0447\\u0430\\u0445. \\u042d\\u0442\\u043e\\u0442 \\u0440\\u0435\\u0437\\u0443\\u043b\\u044c\\u0442\\u0430\\u0442 \\u0441\\u0442\\u0430\\u043b \\u0432\\u0442\\u043e\\u0440\\u044b\\u043c \\u0432 \\u0447\\u0435\\u043c\\u043f\\u0438\\u043e\\u043d\\u0430\\u0442\\u0435 \\u2014 \\u0431\\u043e\\u043b\\u044c\\u0448\\u0435 \\u0431\\u044b\\u043b\\u043e \\u0442\\u043e\\u043b\\u044c\\u043a\\u043e \\u0443 \\u042f\\u0440\\u043e\\u043c\\u0438\\u0440\\u0430 \\u042f\\u0433\\u0440\\u0430. \\u0412\\u0441\\u0435\\u0433\\u043e \\u0436\\u0435 \\u0410\\u043b\\u0435\\u043a\\u0441\\u0435\\u0439 \\u0442\\u043e\\u0433\\u0434\\u0430 \\u043d\\u0430\\u0431\\u0440\\u0430\\u043b 65 \\u043e\\u0447\\u043a\\u043e\\u0432 \\u0438 \\u0432 \\u0433\\u043e\\u043d\\u043a\\u0435 \\u0431\\u043e\\u043c\\u0431\\u0430\\u0440\\u0434\\u0438\\u0440\\u043e\\u0432 \\u041d\\u0425\\u041b \\u0437\\u0430\\u043d\\u044f\\u043b \\u0442\\u0440\\u0435\\u0442\\u044c\\u044e \\u0441\\u0442\\u0440\\u043e\\u0447\\u043a\\u0443 \\u2014 \\u043f\\u043e\\u0441\\u043b\\u0435 \\u0442\\u043e\\u0433\\u043e \\u0436\\u0435 \\u042f\\u0433\\u0440\\u0430 \\u0438 \\u042d\\u0440\\u0438\\u043a\\u0430 \\u041b\\u0438\\u043d\\u0434\\u0440\\u043e\\u0441\\u0430.\\n\\u041b\\u0443\\u0447\\u0448\\u0438\\u0439 \\u043f\\u0435\\u0440\\u0438\\u043e\\u0434 \\u043a\\u0430\\u0440\\u044c\\u0435\\u0440\\u044b \\u0416\\u0430\\u043c\\u043d\\u043e\\u0432\\u0430 \\u0441\\u0432\\u044f\\u0437\\u0430\\u043d \\u0441 \\u00ab\\u0414\\u0436\\u0435\\u0442\\u0441\\u00bb. \\u0420\\u043e\\u0441\\u0441\\u0438\\u044f\\u043d\\u0438\\u043d \\u0432 \\u043a\\u0430\\u0436\\u0434\\u043e\\u043c \\u0438\\u0437 \\u0447\\u0435\\u0442\\u044b\\u0440\\u0451\\u0445 \\u0441\\u0435\\u0437\\u043e\\u043d\\u043e\\u0432 \\u043d\\u0430\\u0431\\u0438\\u0440\\u0430\\u043b \\u0432 \\u0441\\u0440\\u0435\\u0434\\u043d\\u0435\\u043c \\u0431\\u043e\\u043b\\u044c\\u0448\\u0435 \\u043e\\u0447\\u043a\\u0430 \\u0437\\u0430 \\u043c\\u0430\\u0442\\u0447. 1 \\u0430\\u043f\\u0440\\u0435\\u043b\\u044f 1995-\\u0433\\u043e \\u043e\\u043d \\u0438 \\u0432\\u043e\\u0432\\u0441\\u0435 \\u0443\\u0441\\u0442\\u0430\\u043d\\u043e\\u0432\\u0438\\u043b \\u0443\\u043d\\u0438\\u043a\\u0430\\u043b\\u044c\\u043d\\u043e\\u0435 \\u0434\\u043e\\u0441\\u0442\\u0438\\u0436\\u0435\\u043d\\u0438\\u0435, \\u043a\\u043e\\u0442\\u043e\\u0440\\u043e\\u0435 \\u043f\\u043e\\u0437\\u0436\\u0435 \\u043f\\u043e\\u043a\\u043e\\u0440\\u0438\\u043b\\u043e\\u0441\\u044c \\u0442\\u043e\\u043b\\u044c\\u043a\\u043e \\u0421\\u0435\\u0440\\u0433\\u0435\\u044e \\u0424\\u0451\\u0434\\u043e\\u0440\\u043e\\u0432\\u0443, \\u0441\\u0442\\u0430\\u0432 \\u043f\\u0435\\u0440\\u0432\\u044b\\u043c \\u0440\\u043e\\u0441\\u0441\\u0438\\u044f\\u043d\\u0438\\u043d\\u043e\\u043c \\u0432 \\u0438\\u0441\\u0442\\u043e\\u0440\\u0438\\u0438 \\u041d\\u0425\\u041b, \\u0437\\u0430\\u0431\\u0438\\u0432\\u0448\\u0438\\u043c \\u043f\\u044f\\u0442\\u044c \\u0433\\u043e\\u043b\\u043e\\u0432 \\u0432 \\u043e\\u0434\\u043d\\u043e\\u043c \\u043c\\u0430\\u0442\\u0447\\u0435. \\u0424\\u043e\\u0440\\u0432\\u0430\\u0440\\u0434 \\u00ab\\u0412\\u0438\\u043d\\u043d\\u0438\\u043f\\u0435\\u0433\\u0430\\u00bb \\u0441\\u0434\\u0435\\u043b\\u0430\\u043b \\u044d\\u0442\\u043e \\u0432\\u043e \\u0432\\u0441\\u0442\\u0440\\u0435\\u0447\\u0435 \\u0441 \\u00ab\\u041b\\u043e\\u0441-\\u0410\\u043d\\u0434\\u0436\\u0435\\u043b\\u0435\\u0441\\u043e\\u043c\\u00bb (7:7).\\n\\u041d\\u043e \\u0441\\u0432\\u043e\\u0451 \\u043f\\u0440\\u0438\\u0437\\u043d\\u0430\\u043d\\u0438\\u0435 \\u0416\\u0430\\u043c\\u043d\\u043e\\u0432 \\u043f\\u043e\\u043b\\u0443\\u0447\\u0438\\u043b \\u0443\\u0436\\u0435 \\u0432 \\u0441\\u043b\\u0435\\u0434\\u0443\\u044e\\u0449\\u0435\\u043c \\u043a\\u043b\\u0443\\u0431\\u0435 \\u2014 \\u0432 \\u00ab\\u0427\\u0438\\u043a\\u0430\\u0433\\u043e\\u00bb. \\u0412 \\u0441\\u043e\\u0441\\u0442\\u0430\\u0432\\u0435 \\u00ab\\u0411\\u043b\\u044d\\u043a\\u0445\\u043e\\u0443\\u043a\\u0441\\u00bb \\u0410\\u043b\\u0435\\u043a\\u0441\\u0435\\u0439 \\u043f\\u0440\\u043e\\u0432\\u0451\\u043b \\u0432\\u043e\\u0441\\u0435\\u043c\\u044c \\u0441\\u0435\\u0437\\u043e\\u043d\\u043e\\u0432, \\u043f\\u043e\\u043a\\u0430\\u0437\\u044b\\u0432\\u0430\\u044f \\u0441\\u0442\\u0430\\u0431\\u0438\\u043b\\u044c\\u043d\\u043e \\u0445\\u043e\\u0440\\u043e\\u0448\\u0443\\u044e \\u0441\\u0442\\u0430\\u0442\\u0438\\u0441\\u0442\\u0438\\u043a\\u0443. \\u0418 \\u0434\\u0430\\u0436\\u0435 \\u0434\\u043e\\u0440\\u043e\\u0441 \\u0434\\u043e \\u043a\\u0430\\u043f\\u0438\\u0442\\u0430\\u043d\\u0441\\u043a\\u043e\\u0439 \\u043d\\u0430\\u0448\\u0438\\u0432\\u043a\\u0438, \\u0441\\u0442\\u0430\\u0432 \\u043f\\u0435\\u0440\\u0432\\u044b\\u043c \\u043a\\u0430\\u043f\\u0438\\u0442\\u0430\\u043d\\u043e\\u043c-\\u0435\\u0432\\u0440\\u043e\\u043f\\u0435\\u0439\\u0446\\u0435\\u043c \\u0432 \\u0434\\u043b\\u0438\\u043d\\u043d\\u043e\\u0439 \\u0438\\u0441\\u0442\\u043e\\u0440\\u0438\\u0438 \\u00ab\\u0427\\u0438\\u043a\\u0430\\u0433\\u043e\\u00bb!\\n\\u041d\\u0435\\u0441\\u043c\\u043e\\u0442\\u0440\\u044f \\u043d\\u0430 \\u043c\\u043d\\u043e\\u0433\\u0438\\u0435 \\u043b\\u0438\\u0447\\u043d\\u044b\\u0435 \\u0443\\u0441\\u043f\\u0435\\u0445\\u0438, \\u043a\\u0430\\u0440\\u044c\\u0435\\u0440\\u0443 \\u043d\\u0430\\u043f\\u0430\\u0434\\u0430\\u044e\\u0449\\u0435\\u043c\\u0443 \\u043f\\u043e\\u0434\\u043f\\u043e\\u0440\\u0442\\u0438\\u043b\\u0438 \\u0442\\u0440\\u0430\\u0432\\u043c\\u044b. \\u0418\\u0437-\\u0437\\u0430 \\u043e\\u0434\\u043d\\u043e\\u0439 \\u0438\\u0437 \\u043d\\u0438\\u0445 \\u2014 \\u0434\\u0432\\u043e\\u0439\\u043d\\u043e\\u0433\\u043e \\u043f\\u0435\\u0440\\u0435\\u043b\\u043e\\u043c\\u0430 \\u043b\\u043e\\u0434\\u044b\\u0436\\u043a\\u0438 \\u2014 \\u0416\\u0430\\u043c\\u043d\\u043e\\u0432\\u0443 \\u043f\\u0440\\u0438\\u0448\\u043b\\u043e\\u0441\\u044c \\u043f\\u043e\\u0432\\u0435\\u0441\\u0438\\u0442\\u044c \\u043a\\u043e\\u043d\\u044c\\u043a\\u0438 \\u043d\\u0430 \\u0433\\u0432\\u043e\\u0437\\u0434\\u044c. \\u0422\\u0435\\u043c \\u043d\\u0435 \\u043c\\u0435\\u043d\\u0435\\u0435 \\u0437\\u0430 \\u0432\\u0440\\u0435\\u043c\\u044f \\u0432 \\u041d\\u0425\\u041b \\u0440\\u044b\\u0436\\u0435\\u0432\\u043e\\u043b\\u043e\\u0441\\u044b\\u0439 \\u0442\\u0430\\u043b\\u0430\\u043d\\u0442 \\u0441\\u0443\\u043c\\u0435\\u043b \\u043d\\u0430\\u0431\\u0440\\u0430\\u0442\\u044c 700+ \\u043e\\u0447\\u043a\\u043e\\u0432 \\u2014 \\u043e\\u043d \\u043e\\u0434\\u0438\\u043d \\u0438\\u0437 15 \\u0440\\u043e\\u0441\\u0441\\u0438\\u044f\\u043d, \\u0434\\u043e\\u0431\\u0440\\u0430\\u0432\\u0448\\u0438\\u0445\\u0441\\u044f \\u0434\\u043e \\u044d\\u0442\\u043e\\u0439 \\u043e\\u0442\\u043c\\u0435\\u0442\\u043a\\u0438. \\u0410\\u043b\\u0435\\u043a\\u0441\\u0435\\u0439 \\u0437\\u0430\\u043d\\u0438\\u043c\\u0430\\u0435\\u0442 15-\\u0435 \\u043c\\u0435\\u0441\\u0442\\u043e \\u0432 \\u0441\\u043f\\u0438\\u0441\\u043a\\u0435 \\u043b\\u0443\\u0447\\u0448\\u0438\\u0445 \\u0440\\u043e\\u0441\\u0441\\u0438\\u0439\\u0441\\u043a\\u0438\\u0445 \\u0431\\u043e\\u043c\\u0431\\u0430\\u0440\\u0434\\u0438\\u0440\\u043e\\u0432 \\u0432 \\u0438\\u0441\\u0442\\u043e\\u0440\\u0438\\u0438 \\u043b\\u0438\\u0433\\u0438, 20-\\u0435 \\u2014 \\u043f\\u043e \\u043a\\u043e\\u043b\\u0438\\u0447\\u0435\\u0441\\u0442\\u0432\\u0443 \\u043c\\u0430\\u0442\\u0447\\u0435\\u0439, 13-\\u0435 \\u2014 \\u043f\\u043e \\u0433\\u043e\\u043b\\u0430\\u043c \\u0438 \\u043f\\u0435\\u0440\\u0435\\u0434\\u0430\\u0447\\u0430\\u043c.\\n\\u041a\\u043b\\u0443\\u0431\\u044b: \\u00ab\\u041d\\u044c\\u044e-\\u0419\\u043e\\u0440\\u043a \\u0420\\u0435\\u0439\\u043d\\u0434\\u0436\\u0435\\u0440\\u0441\\u00bb (\\u0441 2019-\\u0433\\u043e) \\u2014 5-\\u0439 \\u0441\\u0435\\u0437\\u043e\\u043d \\u0432 \\u041d\\u0425\\u041b\\n184 \\u043c\\u0430\\u0442\\u0447\\u0430, 117 \\u043f\\u043e\\u0431\\u0435\\u0434, \\u041a\\u041d 2,44; 92,1% \\u041e\\u0411, 11 \\u0448\\u0430\\u0442-\\u0430\\u0443\\u0442\\u043e\\u0432 \\u2014 \\u0432 \\u0440\\u0435\\u0433\\u0443\\u043b\\u044f\\u0440\\u043d\\u044b\\u0445 \\u0447\\u0435\\u043c\\u043f\\u0438\\u043e\\u043d\\u0430\\u0442\\u0430\\u0445 27 \\u043c\\u0430\\u0442\\u0447\\u0435\\u0439, 13 \\u043f\\u043e\\u0431\\u0435\\u0434, \\u041a\\u041d 2,45; 92,9% \\u041e\\u0411, \\u0431\\u0435\\u0437 \\u0448\\u0430\\u0442-\\u0430\\u0443\\u0442\\u043e\\u0432 \\u2014 \\u0432 \\u043f\\u043b\\u0435\\u0439-\\u043e\\u0444\\u0444\\n\\u00ab\\u0420\\u0435\\u0439\\u043d\\u0434\\u0436\\u0435\\u0440\\u0441\\u00bb \\u0437\\u0430\\u0431\\u0440\\u0430\\u043b\\u0438 \\u0432\\u0440\\u0430\\u0442\\u0430\\u0440\\u044f \\u0432 \\u0447\\u0435\\u0442\\u0432\\u0451\\u0440\\u0442\\u043e\\u043c \\u0440\\u0430\\u0443\\u043d\\u0434\\u0435 \\u043f\\u043e\\u0434 \\u043e\\u0431\\u0449\\u0438\\u043c 118-\\u043c \\u043d\\u043e\\u043c\\u0435\\u0440\\u043e\\u043c \\u0432 2014 \\u0433\\u043e\\u0434\\u0443. \\u0428\\u0435\\u0441\\u0442\\u0451\\u0440\\u043a\\u0438\\u043d \\u043f\\u0435\\u0440\\u0435\\u0431\\u0440\\u0430\\u043b\\u0441\\u044f \\u0432 \\u0421\\u0435\\u0432\\u0435\\u0440\\u043d\\u0443\\u044e \\u0410\\u043c\\u0435\\u0440\\u0438\\u043a\\u0443 \\u0442\\u043e\\u043b\\u044c\\u043a\\u043e \\u043f\\u044f\\u0442\\u044c\\u044e \\u0433\\u043e\\u0434\\u0430\\u043c\\u0438 \\u043f\\u043e\\u0437\\u0436\\u0435. \\u041d\\u0430 \\u0442\\u043e\\u0442 \\u043c\\u043e\\u043c\\u0435\\u043d\\u0442 \\u0435\\u043c\\u0443 \\u0431\\u044b\\u043b\\u043e 23.\\n\\u0414\\u0435\\u0431\\u044e\\u0442 \\u0428\\u0435\\u0441\\u0442\\u0438 \\u0441\\u043e\\u0441\\u0442\\u043e\\u044f\\u043b\\u0441\\u044f \\u0443\\u0436\\u0435 \\u0432 2020-\\u043c, \\u043a\\u043e\\u0433\\u0434\\u0430 \\u0435\\u043c\\u0443 \\u0441\\u0442\\u0443\\u043a\\u043d\\u0443\\u043b\\u043e 24 \\u0433\\u043e\\u0434\\u0430. \\u0412 \\u043f\\u0435\\u0440\\u0432\\u043e\\u043c \\u043c\\u0430\\u0442\\u0447\\u0435 \\u0432 \\u041d\\u0425\\u041b \\u2014 \\u0441 \\u00ab\\u041a\\u043e\\u043b\\u043e\\u0440\\u0430\\u0434\\u043e\\u00bb \\u2014 \\u0418\\u0433\\u043e\\u0440\\u044c \\u043e\\u0442\\u0440\\u0430\\u0437\\u0438\\u043b 29 \\u0431\\u0440\\u043e\\u0441\\u043a\\u043e\\u0432 \\u0438 \\u043e\\u0434\\u0435\\u0440\\u0436\\u0430\\u043b \\u0434\\u0435\\u0431\\u044e\\u0442\\u043d\\u0443\\u044e \\u043f\\u043e\\u0431\\u0435\\u0434\\u0443 \\u0432 \\u043b\\u0438\\u0433\\u0435 (5:3). \\u0414\\u0432\\u0443\\u043c\\u044f \\u0434\\u043d\\u044f\\u043c\\u0438 \\u043f\\u043e\\u0437\\u0436\\u0435 \\u0428\\u0435\\u0441\\u0442\\u0451\\u0440\\u043a\\u0438\\u043d \\u0432\\u044b\\u0438\\u0433\\u0440\\u0430\\u043b \\u0432\\u043e \\u0432\\u0442\\u043e\\u0440\\u043e\\u0439 \\u0432\\u0441\\u0442\\u0440\\u0435\\u0447\\u0435. \\u041e\\u043d \\u0441\\u0442\\u0430\\u043b \\u0448\\u0435\\u0441\\u0442\\u044b\\u043c \\u0432\\u0440\\u0430\\u0442\\u0430\\u0440\\u0451\\u043c \\u0432 \\u0438\\u0441\\u0442\\u043e\\u0440\\u0438\\u0438 \\u00ab\\u0420\\u0435\\u0439\\u043d\\u0434\\u0436\\u0435\\u0440\\u0441\\u00bb, \\u0441\\u0443\\u043c\\u0435\\u0432\\u0448\\u0438\\u043c \\u043f\\u043e\\u0431\\u0435\\u0434\\u0438\\u0442\\u044c \\u0432 \\u0434\\u0432\\u0443\\u0445 \\u043c\\u0430\\u0442\\u0447\\u0430\\u0445 \\u043f\\u043e\\u0434\\u0440\\u044f\\u0434. \\u0412 \\u0430\\u043f\\u0440\\u0435\\u043b\\u0435 2021-\\u0433\\u043e \\u0428\\u0435\\u0441\\u0442\\u0438 \\u043e\\u0444\\u043e\\u0440\\u043c\\u0438\\u043b \\u0434\\u0435\\u0431\\u044e\\u0442\\u043d\\u044b\\u0439 \\u0448\\u0430\\u0442-\\u0430\\u0443\\u0442 \\u0432 \\u041d\\u0425\\u041b \\u0432 \\u043c\\u0430\\u0442\\u0447\\u0435 \\u0441 \\u00ab\\u041d\\u044c\\u044e-\\u0414\\u0436\\u0435\\u0440\\u0441\\u0438\\u00bb.\\n\\u041f\\u0440\\u043e\\u0440\\u044b\\u0432\\u043d\\u044b\\u043c \\u0434\\u043b\\u044f \\u0418\\u0433\\u043e\\u0440\\u044f \\u0441\\u0442\\u0430\\u043b \\u0441\\u0435\\u0437\\u043e\\u043d-2021/2022. \\u0412 \\u0442\\u043e\\u0439 \\u043a\\u0430\\u043c\\u043f\\u0430\\u043d\\u0438\\u0438 \\u0428\\u0435\\u0441\\u0442\\u0451\\u0440\\u043a\\u0438\\u043d \\u043f\\u043e\\u043a\\u0430\\u0437\\u0430\\u043b \\u0431\\u0435\\u0437\\u0443\\u043c\\u043d\\u044b\\u0435 \\u0447\\u0438\\u0441\\u043b\\u0430 (36 \\u043f\\u043e\\u0431\\u0435\\u0434 \\u0432 53 \\u043c\\u0430\\u0442\\u0447\\u0430\\u0445: \\u041a\\u041d 2,07; 93,5%, \\u0448\\u0435\\u0441\\u0442\\u044c \\u00ab\\u0441\\u0443\\u0445\\u0430\\u0440\\u0435\\u0439\\u00bb). \\u0420\\u0435\\u0437\\u0443\\u043b\\u044c\\u0442\\u0430\\u0442 \\u0433\\u043e\\u043b\\u043a\\u0438\\u043f\\u0435\\u0440\\u0430 \\u043f\\u043e \\u043f\\u0440\\u043e\\u0446\\u0435\\u043d\\u0442\\u0443 \\u043e\\u0442\\u0440\\u0430\\u0436\\u0451\\u043d\\u043d\\u044b\\u0445 \\u0431\\u0440\\u043e\\u0441\\u043a\\u043e\\u0432 \\u0441\\u0442\\u0430\\u043b \\u0434\\u0435\\u0432\\u044f\\u0442\\u044b\\u043c \\u0432 \\u0438\\u0441\\u0442\\u043e\\u0440\\u0438\\u0438 (!) \\u0437\\u0430 \\u0441\\u0435\\u0437\\u043e\\u043d \\u2014 \\u0438 \\u0431\\u0435\\u0437\\u0443\\u0441\\u043b\\u043e\\u0432\\u043d\\u043e \\u043b\\u0443\\u0447\\u0448\\u0438\\u043c \\u0441\\u0440\\u0435\\u0434\\u0438 \\u0440\\u043e\\u0441\\u0441\\u0438\\u044f\\u043d. \\u0412\\u0440\\u0430\\u0442\\u0430\\u0440\\u044c \\u0442\\u043e\\u0433\\u0434\\u0430 \\u0431\\u044b\\u043b \\u0435\\u0434\\u0432\\u0430 \\u043b\\u0438 \\u043d\\u0435 \\u0435\\u0434\\u0438\\u043d\\u0441\\u0442\\u0432\\u0435\\u043d\\u043d\\u044b\\u043c \\u0441\\u0432\\u0435\\u0442\\u043b\\u044b\\u043c \\u043f\\u044f\\u0442\\u043d\\u043e\\u043c \\u0432 \\u00ab\\u0420\\u0435\\u0439\\u043d\\u0434\\u0436\\u0435\\u0440\\u0441\\u00bb \\u0438 \\u0447\\u0443\\u0442\\u044c \\u043b\\u0438 \\u043d\\u0435 \\u0432 \\u043e\\u0434\\u0438\\u043d\\u043e\\u0447\\u043a\\u0443 \\u0442\\u0430\\u0449\\u0438\\u043b \\u043a\\u043e\\u043c\\u0430\\u043d\\u0434\\u0443.\\n\\u0412 \\u0442\\u043e\\u043c \\u0436\\u0435 \\u0441\\u0435\\u0437\\u043e\\u043d\\u0435 \\u0418\\u0433\\u043e\\u0440\\u044c \\u0432\\u044b\\u0438\\u0433\\u0440\\u0430\\u043b \\u00ab\\u0412\\u0435\\u0437\\u0438\\u043d\\u0443\\u00bb \\u2014 \\u043f\\u0440\\u0438\\u0437 \\u043b\\u0443\\u0447\\u0448\\u0435\\u043c\\u0443 \\u0433\\u043e\\u043b\\u043a\\u0438\\u043f\\u0435\\u0440\\u0443 \\u0441\\u0435\\u0437\\u043e\\u043d\\u0430. \\u0428\\u0435\\u0441\\u0442\\u0451\\u0440\\u043a\\u0438\\u043d \\u2014 \\u0442\\u0440\\u0435\\u0442\\u0438\\u0439 \\u0440\\u043e\\u0441\\u0441\\u0438\\u0439\\u0441\\u043a\\u0438\\u0439 \\u0441\\u0442\\u0440\\u0430\\u0436 \\u0432\\u043e\\u0440\\u043e\\u0442, \\u0437\\u0430\\u0432\\u043e\\u0435\\u0432\\u0430\\u0432\\u0448\\u0438\\u0439 \\u044d\\u0442\\u043e\\u0442 \\u0442\\u0440\\u043e\\u0444\\u0435\\u0439 (\\u043f\\u043e\\u0441\\u043b\\u0435 \\u0421\\u0435\\u0440\\u0433\\u0435\\u044f \\u0411\\u043e\\u0431\\u0440\\u043e\\u0432\\u0441\\u043a\\u043e\\u0433\\u043e \\u0438 \\u0410\\u043d\\u0434\\u0440\\u0435\\u044f \\u0412\\u0430\\u0441\\u0438\\u043b\\u0435\\u0432\\u0441\\u043a\\u043e\\u0433\\u043e). \\u0415\\u0433\\u043e \\u0434\\u0430\\u0436\\u0435 \\u043d\\u043e\\u043c\\u0438\\u043d\\u0438\\u0440\\u043e\\u0432\\u0430\\u043b\\u0438 \\u043d\\u0430 \\u00ab\\u0425\\u0430\\u0440\\u0442 \\u0422\\u0440\\u043e\\u0444\\u0438\\u00bb \\u2014 \\u043d\\u0430\\u0433\\u0440\\u0430\\u0434\\u0443, \\u0432\\u0440\\u0443\\u0447\\u0430\\u0435\\u043c\\u0443\\u044e \\u0438\\u0433\\u0440\\u043e\\u043a\\u0443, \\u0432\\u043d\\u0451\\u0441\\u0448\\u0435\\u043c\\u0443 \\u043d\\u0430\\u0438\\u0431\\u043e\\u043b\\u044c\\u0448\\u0438\\u0439 \\u0432\\u043a\\u043b\\u0430\\u0434 \\u0432 \\u0443\\u0441\\u043f\\u0435\\u0445\\u0438 \\u0441\\u0432\\u043e\\u0435\\u0439 \\u043a\\u043e\\u043c\\u0430\\u043d\\u0434\\u044b \\u0432 \\u0440\\u0435\\u0433\\u0443\\u043b\\u044f\\u0440\\u043a\\u0435 \\u041d\\u0425\\u041b.\\n\\u0412 \\u043e\\u043a\\u0442\\u044f\\u0431\\u0440\\u0435 2023-\\u0433\\u043e \\u0428\\u0435\\u0441\\u0442\\u0438 \\u0443\\u0441\\u0442\\u0430\\u043d\\u043e\\u0432\\u0438\\u043b \\u0440\\u0435\\u043a\\u043e\\u0440\\u0434 XXI \\u0432\\u0435\\u043a\\u0430 \\u043f\\u043e \\u0441\\u043a\\u043e\\u0440\\u043e\\u0441\\u0442\\u0438 \\u0434\\u043e\\u0441\\u0442\\u0438\\u0436\\u0435\\u043d\\u0438\\u044f 100 \\u043f\\u043e\\u0431\\u0435\\u0434. \\u0415\\u043c\\u0443 \\u043f\\u043e\\u043d\\u0430\\u0434\\u043e\\u0431\\u0438\\u043b\\u043e\\u0441\\u044c \\u043d\\u0430 \\u044d\\u0442\\u043e \\u0432\\u0441\\u0435\\u0433\\u043e 159 \\u043c\\u0430\\u0442\\u0447\\u0435\\u0439. \\u041b\\u0438\\u0448\\u044c \\u0441\\u0435\\u043c\\u044c \\u0433\\u043e\\u043b\\u043a\\u0438\\u043f\\u0435\\u0440\\u043e\\u0432 \\u0437\\u0430 \\u0432\\u0441\\u044e \\u0438\\u0441\\u0442\\u043e\\u0440\\u0438\\u044e \\u041d\\u0425\\u041b \\u0441\\u0443\\u043c\\u0435\\u043b\\u0438 \\u0441\\u0434\\u0435\\u043b\\u0430\\u0442\\u044c \\u044d\\u0442\\u043e \\u0431\\u044b\\u0441\\u0442\\u0440\\u0435\\u0435. \\u0418\\u0433\\u043e\\u0440\\u044c \\u0442\\u0430\\u043a\\u0436\\u0435 \\u043e\\u0434\\u0438\\u043d \\u0438\\u0437 \\u0448\\u0435\\u0441\\u0442\\u0438 \\u0440\\u043e\\u0441\\u0441\\u0438\\u0439\\u0441\\u043a\\u0438\\u0445 \\u0432\\u0440\\u0430\\u0442\\u0430\\u0440\\u0435\\u0439, \\u043e\\u0434\\u0435\\u0440\\u0436\\u0430\\u0432\\u0448\\u0438\\u0445 100+ \\u043f\\u043e\\u0431\\u0435\\u0434.\\n\\u0423\\u0436\\u0435 \\u0441\\u0435\\u0439\\u0447\\u0430\\u0441 \\u0428\\u0435\\u0441\\u0442\\u0451\\u0440\\u043a\\u0438\\u043d \\u2014 \\u043e\\u0434\\u0438\\u043d \\u0438\\u0437 \\u043b\\u0443\\u0447\\u0448\\u0438\\u0445 \\u0432\\u0440\\u0430\\u0442\\u0430\\u0440\\u0435\\u0439 \\u0441\\u043e\\u0432\\u0440\\u0435\\u043c\\u0435\\u043d\\u043d\\u043e\\u0441\\u0442\\u0438. \\u041e\\u043d \\u043d\\u0430\\u0432\\u0435\\u0440\\u043d\\u044f\\u043a\\u0430 \\u043f\\u0440\\u043e\\u0434\\u043e\\u043b\\u0436\\u0438\\u0442 \\u0441\\u0432\\u043e\\u0439 \\u043f\\u0440\\u043e\\u0433\\u0440\\u0435\\u0441\\u0441 \\u0438 \\u0432\\u043a\\u043b\\u0438\\u043d\\u0438\\u0442\\u0441\\u044f \\u0432 \\u0441\\u043f\\u043e\\u0440 \\u043e \\u0432\\u0435\\u043b\\u0438\\u0447\\u0430\\u0439\\u0448\\u0435\\u043c \\u0433\\u043e\\u043b\\u043a\\u0438\\u043f\\u0435\\u0440\\u0435 \\u0432 \\u0438\\u0441\\u0442\\u043e\\u0440\\u0438\\u0438 \\u0445\\u043e\\u043a\\u043a\\u0435\\u044f. \\u0418, \\u043d\\u0430\\u0434\\u043e \\u043e\\u0442\\u043c\\u0435\\u0442\\u0438\\u0442\\u044c, \\u0443 \\u043d\\u0435\\u0433\\u043e \\u043e\\u0442\\u043b\\u0438\\u0447\\u043d\\u044b\\u0435 \\u0448\\u0430\\u043d\\u0441\\u044b \\u0437\\u0430\\u0431\\u0440\\u0430\\u0442\\u044c\\u0441\\u044f \\u043d\\u0430 \\u0432\\u0435\\u0440\\u0448\\u0438\\u043d\\u0443.\\n\\u0428\\u0435\\u0441\\u0442\\u0438 \\u0437\\u0430\\u043d\\u0438\\u043c\\u0430\\u0435\\u0442 10-\\u0435 \\u043c\\u0435\\u0441\\u0442\\u043e \\u0441\\u0440\\u0435\\u0434\\u0438 \\u0440\\u043e\\u0441\\u0441\\u0438\\u0439\\u0441\\u043a\\u0438\\u0445 \\u0441\\u0442\\u0440\\u0430\\u0436\\u0435\\u0439 \\u0432\\u043e\\u0440\\u043e\\u0442 \\u043f\\u043e \\u043a\\u043e\\u043b\\u0438\\u0447\\u0435\\u0441\\u0442\\u0432\\u0443 \\u043c\\u0430\\u0442\\u0447\\u0435\\u0439 \\u0438 \\u0432\\u043e\\u0441\\u044c\\u043c\\u043e\\u0435 \\u043f\\u043e \\u043f\\u043e\\u0431\\u0435\\u0434\\u0430\\u043c (\\u043f\\u044f\\u0442\\u043e\\u0435 \\u0441\\u0440\\u0435\\u0434\\u0438 \\u0434\\u0435\\u0439\\u0441\\u0442\\u0432\\u0443\\u044e\\u0449\\u0438\\u0445 \\u0440\\u043e\\u0441\\u0441\\u0438\\u044f\\u043d \\u2014 \\u043f\\u043e \\u043e\\u0431\\u043e\\u0438\\u043c \\u043f\\u043e\\u043a\\u0430\\u0437\\u0430\\u0442\\u0435\\u043b\\u044f\\u043c). \\u0418\\u0433\\u043e\\u0440\\u044c \\u0434\\u0435\\u043b\\u0438\\u0442 \\u043f\\u0435\\u0440\\u0432\\u0443\\u044e \\u0441\\u0442\\u0440\\u043e\\u0447\\u043a\\u0443 \\u0441 \\u0415\\u0432\\u0433\\u0435\\u043d\\u0438\\u0435\\u043c \\u041d\\u0430\\u0431\\u043e\\u043a\\u043e\\u0432\\u044b\\u043c \\u043f\\u043e \\u041a\\u041d* \\u2014 \\u043e\\u043d \\u0442\\u0430\\u043a\\u0436\\u0435 \\u043b\\u0443\\u0447\\u0448\\u0438\\u0439 \\u0441\\u0440\\u0435\\u0434\\u0438 \\u0434\\u0435\\u0439\\u0441\\u0442\\u0432\\u0443\\u044e\\u0449\\u0438\\u0445 \\u0432\\u0440\\u0430\\u0442\\u0430\\u0440\\u0435\\u0439 \\u0438\\u0437 \\u0420\\u043e\\u0441\\u0441\\u0438\\u0438. \\u0425\\u043e\\u043a\\u043a\\u0435\\u0438\\u0441\\u0442 \\u00ab\\u0420\\u0435\\u0439\\u043d\\u0434\\u0436\\u0435\\u0440\\u0441\\u00bb \\u0434\\u0435\\u043b\\u0438\\u0442 \\u043f\\u0435\\u0440\\u0432\\u043e\\u0435 \\u043c\\u0435\\u0441\\u0442\\u043e \\u043f\\u043e \\u043f\\u0440\\u043e\\u0446\\u0435\\u043d\\u0442\\u0443 \\u041e\\u0411 \\u0441 \\u0418\\u043b\\u044c\\u0451\\u0439 \\u0421\\u043e\\u0440\\u043e\\u043a\\u0438\\u043d\\u044b\\u043c*. \\u041f\\u043e \\u043a\\u043e\\u043b\\u0438\\u0447\\u0435\\u0441\\u0442\\u0432\\u0443 \\u0448\\u0430\\u0442-\\u0430\\u0443\\u0442\\u043e\\u0432 \\u043e\\u043d 10-\\u0439 (\\u0448\\u0435\\u0441\\u0442\\u043e\\u0439 \\u0441\\u0440\\u0435\\u0434\\u0438 \\u0434\\u0435\\u0439\\u0441\\u0442\\u0432\\u0443\\u044e\\u0449\\u0438\\u0445), 11-\\u0439 \\u043f\\u043e \\u043e\\u0447\\u043a\\u0430\\u043c (0+2).\\n\\u041d\\u0435\\u0441\\u043c\\u043e\\u0442\\u0440\\u044f \\u043d\\u0430 \\u043e\\u0431\\u0449\\u0438\\u0435 \\u043d\\u0435\\u0443\\u0434\\u0430\\u0447\\u0438 \\u00ab\\u0420\\u0435\\u0439\\u043d\\u0434\\u0436\\u0435\\u0440\\u0441\\u00bb \\u0432 \\u0440\\u043e\\u0437\\u044b\\u0433\\u0440\\u044b\\u0448\\u0430\\u0445 \\u041a\\u0443\\u0431\\u043a\\u0430 \\u0421\\u0442\\u044d\\u043d\\u043b\\u0438, \\u0428\\u0435\\u0441\\u0442\\u0438 \\u0434\\u0435\\u043b\\u0430\\u043b \\u0432\\u0441\\u0451, \\u0447\\u0442\\u043e \\u0431\\u044b\\u043b\\u043e \\u0432 \\u0435\\u0433\\u043e \\u0441\\u0438\\u043b\\u0430\\u0445, \\u0447\\u0442\\u043e\\u0431\\u044b \\u0437\\u0430\\u0442\\u0430\\u0449\\u0438\\u0442\\u044c \\u043d\\u0435 \\u0441\\u0430\\u043c\\u0443\\u044e \\u0441\\u0438\\u043b\\u044c\\u043d\\u0443\\u044e \\u043a\\u043e\\u043c\\u0430\\u043d\\u0434\\u0443 \\u043a\\u0430\\u043a \\u043c\\u043e\\u0436\\u043d\\u043e \\u0434\\u0430\\u043b\\u044c\\u0448\\u0435 (\\u0447\\u0442\\u043e \\u0434\\u0435\\u043b\\u0430\\u0435\\u0442 \\u0432 \\u043f\\u0440\\u0438\\u043d\\u0446\\u0438\\u043f\\u0435 \\u0432 \\u0445\\u043e\\u0434\\u0435 \\u0432\\u0441\\u0435\\u0439 \\u043a\\u0430\\u0440\\u044c\\u0435\\u0440\\u044b \\u0432 \\u041d\\u0425\\u041b). \\u041f\\u043e \\u043c\\u0430\\u0442\\u0447\\u0430\\u043c \\u0432 \\u043f\\u043b\\u0435\\u0439-\\u043e\\u0444\\u0444 \\u043e\\u043d \\u0441\\u0435\\u0434\\u044c\\u043c\\u043e\\u0439 \\u0441\\u0440\\u0435\\u0434\\u0438 \\u0440\\u043e\\u0441\\u0441\\u0438\\u0439\\u0441\\u043a\\u0438\\u0445 \\u0432\\u0440\\u0430\\u0442\\u0430\\u0440\\u0435\\u0439, \\u043f\\u043e \\u043f\\u043e\\u0431\\u0435\\u0434\\u0430\\u043c \\u2014 \\u0432\\u043e\\u0441\\u044c\\u043c\\u043e\\u0439 (\\u0447\\u0435\\u0442\\u0432\\u0451\\u0440\\u0442\\u044b\\u0439 \\u0441\\u0440\\u0435\\u0434\\u0438 \\u0434\\u0435\\u0439\\u0441\\u0442\\u0432\\u0443\\u044e\\u0449\\u0438\\u0445 \\u043f\\u043e \\u043e\\u0431\\u043e\\u0438\\u043c \\u043f\\u043e\\u043a\\u0430\\u0437\\u0430\\u0442\\u0435\\u043b\\u044f\\u043c). \\u041f\\u043e \\u041a\\u041d \\u0433\\u043e\\u043b\\u043a\\u0438\\u043f\\u0435\\u0440 \\u043f\\u044f\\u0442\\u044b\\u0439 \\u0441\\u0440\\u0435\\u0434\\u0438 \\u0432\\u0441\\u0435\\u0445 \\u0440\\u043e\\u0441\\u0441\\u0438\\u044f\\u043d* \\u0438 \\u0442\\u0440\\u0435\\u0442\\u0438\\u0439 \\u0441\\u0440\\u0435\\u0434\\u0438 \\u0430\\u043a\\u0442\\u0438\\u0432\\u043d\\u044b\\u0445 \\u0440\\u043e\\u0441\\u0441\\u0438\\u0439\\u0441\\u043a\\u0438\\u0445 \\u0432\\u0440\\u0430\\u0442\\u0430\\u0440\\u0435\\u0439; \\u043f\\u043e \\u041e\\u0411 \\u0418\\u0433\\u043e\\u0440\\u044c \\u0443\\u0434\\u0435\\u0440\\u0436\\u0438\\u0432\\u0430\\u0435\\u0442 \\u0440\\u0435\\u043a\\u043e\\u0440\\u0434**. \\u041e\\u043d \\u0442\\u0430\\u043a\\u0436\\u0435 \\u043b\\u0443\\u0447\\u0448\\u0438\\u0439 \\u0440\\u043e\\u0441\\u0441\\u0438\\u0439\\u0441\\u043a\\u0438\\u0439 \\u0433\\u043e\\u043b\\u043a\\u0438\\u043f\\u0435\\u0440-\\u0431\\u043e\\u043c\\u0431\\u0430\\u0440\\u0434\\u0438\\u0440 \\u0432 \\u043f\\u043b\\u0435\\u0439-\\u043e\\u0444\\u0444 \\u0441 \\u0442\\u0440\\u0435\\u043c\\u044f \\u043e\\u0447\\u043a\\u0430\\u043c\\u0438.\\n\\u0421\\u0440\\u0435\\u0434\\u0438 \\u0432\\u0441\\u0435\\u0445 \\u0432\\u0440\\u0430\\u0442\\u0430\\u0440\\u0435\\u0439 \\u0432 \\u0438\\u0441\\u0442\\u043e\\u0440\\u0438\\u0438 \\u041d\\u0425\\u041b \\u0428\\u0435\\u0441\\u0442\\u0451\\u0440\\u043a\\u0438\\u043d \\u0437\\u0430\\u043d\\u0438\\u043c\\u0430\\u0435\\u0442 \\u0447\\u0435\\u0442\\u0432\\u0451\\u0440\\u0442\\u043e\\u0435 \\u043c\\u0435\\u0441\\u0442\\u043e \\u043f\\u043e \\u041e\\u0411 (\\u043b\\u0443\\u0447\\u0448\\u0438\\u0439 \\u0441\\u0440\\u0435\\u0434\\u0438 \\u0430\\u043a\\u0442\\u0438\\u0432\\u043d\\u044b\\u0445 \\u0433\\u043e\\u043b\\u043a\\u0438\\u043f\\u0435\\u0440\\u043e\\u0432), 29-\\u0435 \\u043f\\u043e \\u041a\\u041d (\\u0432\\u0442\\u043e\\u0440\\u043e\\u0435 \\u0441\\u0440\\u0435\\u0434\\u0438 \\u0430\\u043a\\u0442\\u0438\\u0432\\u043d\\u044b\\u0445). \\u0412 \\u044d\\u0442\\u043e\\u0439 \\u0441\\u0442\\u0430\\u0442\\u0438\\u0441\\u0442\\u0438\\u043a\\u0435 \\u0443\\u0447\\u0438\\u0442\\u044b\\u0432\\u0430\\u043b\\u0438\\u0441\\u044c \\u0432\\u0441\\u0435, \\u043a\\u0442\\u043e \\u0441\\u044b\\u0433\\u0440\\u0430\\u043b \\u0445\\u043e\\u0442\\u044f \\u0431\\u044b 100 \\u043c\\u0430\\u0442\\u0447\\u0435\\u0439 \\u0432 \\u0440\\u0435\\u0433\\u0443\\u043b\\u044f\\u0440\\u043a\\u0430\\u0445.\\n\\u0412 \\u043f\\u043b\\u0435\\u0439-\\u043e\\u0444\\u0444 \\u0443 \\u0428\\u0435\\u0441\\u0442\\u0451\\u0440\\u043a\\u0438\\u043d\\u0430 \\u043f\\u044f\\u0442\\u044b\\u0439 \\u0440\\u0435\\u0437\\u0443\\u043b\\u044c\\u0442\\u0430\\u0442 \\u0441\\u0440\\u0435\\u0434\\u0438 \\u0432\\u0441\\u0435\\u0445 \\u0432\\u0440\\u0430\\u0442\\u0430\\u0440\\u0435\\u0439 \\u0437\\u0430 \\u0432\\u0441\\u044e \\u0438\\u0441\\u0442\\u043e\\u0440\\u0438\\u044e \\u043f\\u043e \\u041e\\u0411 (\\u0432\\u0442\\u043e\\u0440\\u043e\\u0439 \\u0441\\u0440\\u0435\\u0434\\u0438 \\u0430\\u043a\\u0442\\u0438\\u0432\\u043d\\u044b\\u0445) \\u0438 13-\\u0439 \\u0441\\u0440\\u0435\\u0434\\u0438 \\u0434\\u0435\\u0439\\u0441\\u0442\\u0432\\u0443\\u044e\\u0449\\u0438\\u0445 \\u0433\\u043e\\u043b\\u043a\\u0438\\u043f\\u0435\\u0440\\u043e\\u0432 \\u043f\\u043e \\u041a\\u041d. \\u0412 \\u0441\\u0442\\u0430\\u0442\\u0438\\u0441\\u0442\\u0438\\u043a\\u0435 \\u0443\\u0447\\u0438\\u0442\\u044b\\u0432\\u0430\\u043b\\u0438\\u0441\\u044c \\u0432\\u0441\\u0435, \\u043a\\u0442\\u043e \\u0441\\u044b\\u0433\\u0440\\u0430\\u043b \\u0445\\u043e\\u0442\\u044f \\u0431\\u044b 15 \\u043c\\u0430\\u0442\\u0447\\u0435\\u0439 \\u0432 \\u0440\\u043e\\u0437\\u044b\\u0433\\u0440\\u044b\\u0448\\u0430\\u0445 \\u041a\\u0443\\u0431\\u043a\\u0430 \\u0421\\u0442\\u044d\\u043d\\u043b\\u0438.\\n*\\u0441\\u0440\\u0435\\u0434\\u0438 \\u0432\\u0440\\u0430\\u0442\\u0430\\u0440\\u0435\\u0439, \\u043f\\u0440\\u043e\\u0432\\u0435\\u0434\\u0448\\u0438\\u0445 \\u0431\\u043e\\u043b\\u0435\\u0435 \\u043e\\u0434\\u043d\\u043e\\u0433\\u043e \\u043c\\u0430\\u0442\\u0447\\u0430 **\\u0434\\u043b\\u044f \\u0432\\u0441\\u0435\\u0445, \\u043a\\u0442\\u043e \\u0441\\u044b\\u0433\\u0440\\u0430\\u043b \\u0445\\u043e\\u0442\\u044f \\u0431\\u044b \\u043f\\u044f\\u0442\\u044c \\u0432\\u0441\\u0442\\u0440\\u0435\\u0447\\n\\u041a\\u043b\\u0443\\u0431\\u044b: \\u00ab\\u0411\\u043e\\u0441\\u0442\\u043e\\u043d \\u0411\\u0440\\u044e\\u0438\\u043d\\u0437\\u00bb, \\u00ab\\u042d\\u0434\\u043c\\u043e\\u043d\\u0442\\u043e\\u043d \\u041e\\u0439\\u043b\\u0435\\u0440\\u0437\\u00bb, \\u00ab\\u041c\\u043e\\u043d\\u0440\\u0435\\u0430\\u043b\\u044c \\u041a\\u0430\\u043d\\u0430\\u0434\\u0438\\u0435\\u043d\\u0441\\u00bb, \\u00ab\\u0427\\u0438\\u043a\\u0430\\u0433\\u043e \\u0411\\u043b\\u044d\\u043a\\u0445\\u043e\\u0443\\u043a\\u0441\\u00bb, \\u00ab\\u041a\\u0430\\u0440\\u043e\\u043b\\u0438\\u043d\\u0430 \\u0425\\u0430\\u0440\\u0440\\u0438\\u043a\\u0435\\u0439\\u043d\\u0437\\u00bb, \\u00ab\\u0424\\u043b\\u043e\\u0440\\u0438\\u0434\\u0430 \\u041f\\u0430\\u043d\\u0442\\u0435\\u0440\\u0437\\u00bb (1997\\u20142011, \\u0437\\u0430 \\u0438\\u0441\\u043a\\u043b\\u044e\\u0447\\u0435\\u043d\\u0438\\u0435\\u043c \\u043b\\u043e\\u043a\\u0430\\u0443\\u0442\\u043d\\u043e\\u0433\\u043e \\u0441\\u0435\\u0437\\u043e\\u043d\\u0430-2004/2005) \\u2014 14 \\u0441\\u0435\\u0437\\u043e\\u043d\\u043e\\u0432 \\u0432 \\u041d\\u0425\\u041b\\n888 \\u043c\\u0430\\u0442\\u0447\\u0435\\u0439, 571 (235+336) \\u043e\\u0447\\u043a\\u043e, \\u00ab+11\\u00bb \\u2014 \\u0432 \\u0440\\u0435\\u0433\\u0443\\u043b\\u044f\\u0440\\u043d\\u044b\\u0445 \\u0447\\u0435\\u043c\\u043f\\u0438\\u043e\\u043d\\u0430\\u0442\\u0430\\u0445 76 \\u043c\\u0430\\u0442\\u0447\\u0435\\u0439, 47 (18+29) \\u043e\\u0447\\u043a\\u043e\\u0432, \\u00ab+20\\u00bb \\u2014 \\u0432 \\u043f\\u043b\\u0435\\u0439-\\u043e\\u0444\\u0444\\n\\u041a\\u0440\\u0430\\u0439\\u043d\\u0438\\u0439 \\u043d\\u0430\\u043f\\u0430\\u0434\\u0430\\u044e\\u0449\\u0438\\u0439 \\u0431\\u044b\\u043b \\u0437\\u0430\\u0434\\u0440\\u0430\\u0444\\u0442\\u043e\\u0432\\u0430\\u043d \\u00ab\\u0411\\u043e\\u0441\\u0442\\u043e\\u043d\\u043e\\u043c\\u00bb \\u0432 1997 \\u0433\\u043e\\u0434\\u0443 \\u0432 \\u043f\\u0435\\u0440\\u0432\\u043e\\u043c \\u0440\\u0430\\u0443\\u043d\\u0434\\u0435 \\u043f\\u043e\\u0434 \\u043e\\u0431\\u0449\\u0438\\u043c \\u0432\\u043e\\u0441\\u044c\\u043c\\u044b\\u043c \\u043d\\u043e\\u043c\\u0435\\u0440\\u043e\\u043c. \\u0421\\u0430\\u043c\\u0441\\u043e\\u043d\\u043e\\u0432 \\u0441\\u0440\\u0430\\u0437\\u0443 \\u043f\\u0435\\u0440\\u0435\\u0431\\u0440\\u0430\\u043b\\u0441\\u044f \\u0432 \\u0421\\u0435\\u0432\\u0435\\u0440\\u043d\\u0443\\u044e \\u0410\\u043c\\u0435\\u0440\\u0438\\u043a\\u0443 \\u0432 18-\\u043b\\u0435\\u0442\\u043d\\u0435\\u043c \\u0432\\u043e\\u0437\\u0440\\u0430\\u0441\\u0442\\u0435.\\n\\u0421\\u0435\\u0440\\u0433\\u0435\\u0439 \\u0437\\u0430\\u0431\\u0440\\u043e\\u0441\\u0438\\u043b \\u043f\\u0435\\u0440\\u0432\\u0443\\u044e \\u0448\\u0430\\u0439\\u0431\\u0443 \\u0432 \\u041d\\u0425\\u041b 25 \\u043e\\u043a\\u0442\\u044f\\u0431\\u0440\\u044f 1997-\\u0433\\u043e \\u2014 \\u0437\\u0430 \\u0434\\u0432\\u0430 \\u0434\\u043d\\u044f \\u0434\\u043e \\u0441\\u0432\\u043e\\u0435\\u0433\\u043e 19-\\u043b\\u0435\\u0442\\u0438\\u044f \\u2014 \\u0432 \\u043c\\u0430\\u0442\\u0447\\u0435 \\u0441 \\u00ab\\u0424\\u043b\\u043e\\u0440\\u0438\\u0434\\u043e\\u0439\\u00bb. \\u0412 \\u0446\\u0435\\u043b\\u043e\\u043c \\u0437\\u0430 \\u0434\\u0435\\u0431\\u044e\\u0442\\u043d\\u044b\\u0439 \\u0441\\u0435\\u0437\\u043e\\u043d \\u0444\\u043e\\u0440\\u0432\\u0430\\u0440\\u0434 \\u043d\\u0430\\u0431\\u0440\\u0430\\u043b 47 (22+25) \\u043e\\u0447\\u043a\\u043e\\u0432 \\u0432 81 \\u043c\\u0430\\u0442\\u0447\\u0435 \\u0438 \\u043f\\u043e \\u0438\\u0442\\u043e\\u0433\\u0430\\u043c \\u043e\\u043d\\u043e\\u0433\\u043e \\u0432\\u044b\\u0438\\u0433\\u0440\\u0430\\u043b \\u00ab\\u041a\\u043e\\u043b\\u0434\\u0435\\u0440 \\u0422\\u0440\\u043e\\u0444\\u0438\\u00bb.\\n\\u041f\\u0440\\u0438 \\u044d\\u0442\\u043e\\u043c \\u0421\\u0430\\u043c\\u0441\\u043e\\u043d\\u043e\\u0432 \\u0441\\u0442\\u0430\\u043b \\u043e\\u0431\\u043b\\u0430\\u0434\\u0430\\u0442\\u0435\\u043b\\u0435\\u043c \\u0443\\u043d\\u0438\\u043a\\u0430\\u043b\\u044c\\u043d\\u043e\\u0433\\u043e \\u0434\\u043e\\u0441\\u0442\\u0438\\u0436\\u0435\\u043d\\u0438\\u044f, \\u043a\\u043e\\u0442\\u043e\\u0440\\u043e\\u0435 \\u043d\\u0438 \\u0434\\u043e, \\u043d\\u0438 \\u043f\\u043e\\u0441\\u043b\\u0435 \\u043d\\u0435\\u0433\\u043e \\u043d\\u0438\\u043a\\u043e\\u043c\\u0443 \\u043d\\u0435 \\u043f\\u043e\\u043a\\u043e\\u0440\\u044f\\u043b\\u043e\\u0441\\u044c \\u2014 \\u0438 \\u0443\\u0436\\u0435 \\u043d\\u0435 \\u0441\\u043c\\u043e\\u0436\\u0435\\u0442 \\u043f\\u043e\\u043a\\u043e\\u0440\\u0438\\u0442\\u044c\\u0441\\u044f. \\u0417\\u0430 \\u0433\\u043e\\u0434 \\u0434\\u043e \\u0434\\u0435\\u0431\\u044e\\u0442\\u0430 \\u0432 \\u041d\\u0425\\u041b \\u0421\\u0435\\u0440\\u0433\\u0435\\u0439 \\u043f\\u043e\\u0434\\u043f\\u0438\\u0441\\u0430\\u043b \\u043a\\u043e\\u043d\\u0442\\u0440\\u0430\\u043a\\u0442 \\u0441 \\u043a\\u043b\\u0443\\u0431\\u043e\\u043c \\u00ab\\u0414\\u0435\\u0442\\u0440\\u043e\\u0439\\u0442 \\u0412\\u0430\\u0439\\u043f\\u0435\\u0440\\u0437\\u00bb, \\u0432\\u044b\\u0441\\u0442\\u0443\\u043f\\u0430\\u0432\\u0448\\u0438\\u043c \\u0432 IHL \\u2014 \\u041c\\u0435\\u0436\\u0434\\u0443\\u043d\\u0430\\u0440\\u043e\\u0434\\u043d\\u043e\\u0439 \\u0445\\u043e\\u043a\\u043a\\u0435\\u0439\\u043d\\u043e\\u0439 \\u043b\\u0438\\u0433\\u0435, \\u043a\\u043e\\u0442\\u043e\\u0440\\u0430\\u044f \\u0441\\u0443\\u0449\\u0435\\u0441\\u0442\\u0432\\u043e\\u0432\\u0430\\u043b\\u0430 \\u0441 1945-\\u0433\\u043e \\u043f\\u043e 2001-\\u0439 \\u0438 \\u0441\\u0442\\u0430\\u043b\\u0430 \\u043f\\u0440\\u0430\\u0440\\u043e\\u0434\\u0438\\u0442\\u0435\\u043b\\u0435\\u043c \\u0410\\u0425\\u041b. \\u0422\\u043e\\u0433\\u0434\\u0430 \\u0440\\u043e\\u0441\\u0441\\u0438\\u044f\\u043d\\u0438\\u043d \\u0432\\u044b\\u0438\\u0433\\u0440\\u0430\\u043b \\u041a\\u0443\\u0431\\u043e\\u043a \\u0422\\u0451\\u0440\\u043d\\u0435\\u0440\\u0430 (\\u0433\\u043b\\u0430\\u0432\\u043d\\u044b\\u0439 \\u0442\\u0440\\u043e\\u0444\\u0435\\u0439 \\u043b\\u0438\\u0433\\u0438) \\u0438 \\u043f\\u043e\\u043b\\u0443\\u0447\\u0438\\u043b \\u00ab\\u0413\\u0430\\u0440\\u0440\\u0438 \\u0424. \\u041b\\u043e\\u043d\\u0433\\u043c\\u0430\\u043d \\u041c\\u0435\\u043c\\u043e\\u0440\\u0438\\u0430\\u043b \\u0422\\u0440\\u043e\\u0444\\u0438\\u00bb \\u2014 \\u043f\\u0440\\u0438\\u0437 \\u043b\\u0443\\u0447\\u0448\\u0435\\u043c\\u0443 \\u043d\\u043e\\u0432\\u0438\\u0447\\u043a\\u0443 \\u043b\\u0438\\u0433\\u0438. \\u0412 \\u0438\\u0442\\u043e\\u0433\\u0435 \\u0421\\u0430\\u043c\\u0441\\u043e\\u043d\\u043e\\u0432 \\u0441\\u0442\\u0430\\u043b \\u043f\\u0435\\u0440\\u0432\\u044b\\u043c \\u0438 \\u0435\\u0434\\u0438\\u043d\\u0441\\u0442\\u0432\\u0435\\u043d\\u043d\\u044b\\u043c \\u0438\\u0433\\u0440\\u043e\\u043a\\u043e\\u043c \\u0432 \\u043c\\u0438\\u0440\\u043e\\u0432\\u043e\\u0439 \\u0438\\u0441\\u0442\\u043e\\u0440\\u0438\\u0438, \\u0441\\u0443\\u043c\\u0435\\u0432\\u0448\\u0438\\u043c \\u0432\\u0437\\u044f\\u0442\\u044c \\u043d\\u0430\\u0433\\u0440\\u0430\\u0434\\u044b \\u043b\\u0443\\u0447\\u0448\\u0435\\u043c\\u0443 \\u043d\\u043e\\u0432\\u0438\\u0447\\u043a\\u0443 IHL \\u0438 \\u041d\\u0425\\u041b \\u043f\\u043e\\u0434\\u0440\\u044f\\u0434.\\n\\u041d\\u0430\\u0438\\u0431\\u043e\\u043b\\u0435\\u0435 \\u0443\\u0441\\u043f\\u0435\\u0448\\u043d\\u044b\\u043c \\u0434\\u043b\\u044f \\u043d\\u0430\\u043f\\u0430\\u0434\\u0430\\u044e\\u0449\\u0435\\u0433\\u043e \\u0441\\u0442\\u0430\\u043b \\u0441\\u0435\\u0437\\u043e\\u043d-2000/2001. \\u0422\\u043e\\u0433\\u0434\\u0430 \\u0444\\u043e\\u0440\\u0432\\u0430\\u0440\\u0434 \\u00ab\\u0411\\u043e\\u0441\\u0442\\u043e\\u043d\\u0430\\u00bb \\u043d\\u0430\\u0431\\u0440\\u0430\\u043b 75 (29+46) \\u043e\\u0447\\u043a\\u043e\\u0432 \\u0432 82 \\u043c\\u0430\\u0442\\u0447\\u0430\\u0445 \\u0440\\u0435\\u0433\\u0443\\u043b\\u044f\\u0440\\u043a\\u0438. \\u041e\\u0434\\u043d\\u0430\\u043a\\u043e \\u0433\\u043b\\u0430\\u0432\\u043d\\u043e\\u0433\\u043e \\u0434\\u043e\\u0441\\u0442\\u0438\\u0436\\u0435\\u043d\\u0438\\u044f \\u0421\\u0430\\u043c\\u0441\\u043e\\u043d\\u043e\\u0432 \\u0434\\u043e\\u0431\\u0438\\u043b\\u0441\\u044f \\u0443\\u0436\\u0435 \\u043d\\u0435 \\u0432 \\u0444\\u043e\\u0440\\u043c\\u0435 \\u00ab\\u0411\\u0440\\u044e\\u0438\\u043d\\u0437\\u00bb. \\u0412 2006-\\u043c \\u0421\\u0435\\u0440\\u0433\\u0435\\u044f \\u043e\\u0431\\u043c\\u0435\\u043d\\u044f\\u043b\\u0438 \\u0432 \\u00ab\\u042d\\u0434\\u043c\\u043e\\u043d\\u0442\\u043e\\u043d\\u00bb, \\u0441 \\u043a\\u043e\\u0442\\u043e\\u0440\\u044b\\u043c \\u0444\\u043e\\u0440\\u0432\\u0430\\u0440\\u0434 \\u0434\\u043e\\u0431\\u0440\\u0430\\u043b\\u0441\\u044f \\u0434\\u043e \\u0444\\u0438\\u043d\\u0430\\u043b\\u0430 \\u041a\\u0443\\u0431\\u043a\\u0430 \\u0421\\u0442\\u044d\\u043d\\u043b\\u0438.\\n\\u00ab\\u041e\\u0439\\u043b\\u0435\\u0440\\u0437\\u00bb \\u0435\\u0434\\u0432\\u0430 \\u0437\\u0430\\u0431\\u0440\\u0430\\u043b\\u0438\\u0441\\u044c \\u0432 \\u043f\\u043b\\u0435\\u0439-\\u043e\\u0444\\u0444, \\u043f\\u043e\\u044d\\u0442\\u043e\\u043c\\u0443 \\u043d\\u0438\\u043a\\u0442\\u043e \\u043d\\u0430 \\u043d\\u0438\\u0445 \\u043d\\u0435 \\u0441\\u0442\\u0430\\u0432\\u0438\\u043b. \\u041d\\u043e \\u0432 \\u0442\\u043e\\u043c \\u0447\\u0438\\u0441\\u043b\\u0435 \\u0431\\u043b\\u0430\\u0433\\u043e\\u0434\\u0430\\u0440\\u044f \\u043f\\u043e\\u043c\\u043e\\u0449\\u0438 \\u0440\\u043e\\u0441\\u0441\\u0438\\u044f\\u043d\\u0438\\u043d\\u0430 \\u00ab\\u043d\\u0435\\u0444\\u0442\\u044f\\u043d\\u0438\\u043a\\u0438\\u00bb \\u0441\\u043c\\u043e\\u0433\\u043b\\u0438 \\u0432\\u044b\\u0438\\u0433\\u0440\\u0430\\u0442\\u044c \\u0441\\u0435\\u0440\\u0438\\u0438 \\u0441 \\u00ab\\u0414\\u0435\\u0442\\u0440\\u043e\\u0439\\u0442\\u043e\\u043c\\u00bb (4-2, \\u043e\\u0434\\u0438\\u043d \\u0433\\u043e\\u043b), \\u00ab\\u0421\\u0430\\u043d-\\u0425\\u043e\\u0441\\u0435\\u00bb (4-2, \\u0434\\u0432\\u0430 \\u0433\\u043e\\u043b\\u0430, \\u0432\\u043a\\u043b\\u044e\\u0447\\u0430\\u044f \\u0448\\u0430\\u0439\\u0431\\u0443 \\u0432 \\u0447\\u0435\\u0442\\u0432\\u0451\\u0440\\u0442\\u043e\\u0439 \\u0432\\u0441\\u0442\\u0440\\u0435\\u0447\\u0435 \\u2014 \\u043f\\u0440\\u0438 1-2 \\u0432 \\u0441\\u0435\\u0440\\u0438\\u0438 \\u0438 2:3 \\u0432 \\u043c\\u0430\\u0442\\u0447\\u0435 \\u0421\\u0430\\u043c\\u0441\\u043e\\u043d\\u043e\\u0432 \\u043f\\u043e\\u043c\\u043e\\u0433 \\u0441\\u0440\\u0430\\u0432\\u043d\\u044f\\u0442\\u044c \\u0441\\u0447\\u0451\\u0442. \\u0412 \\u0438\\u0442\\u043e\\u0433\\u0435 \\u00ab\\u041e\\u0439\\u043b\\u0435\\u0440\\u0437\\u00bb \\u043f\\u043e\\u0431\\u0435\\u0434\\u0438\\u043b\\u0438 \\u2014 6:3) \\u0438 \\u00ab\\u041c\\u0430\\u0439\\u0442\\u0438 \\u0414\\u0430\\u043a\\u0441 \\u043e\\u0444 \\u0410\\u043d\\u0430\\u0445\\u0430\\u0439\\u043c\\u00bb (4-1). \\u0412 \\u0444\\u0438\\u043d\\u0430\\u043b\\u044c\\u043d\\u043e\\u0439 \\u0441\\u0435\\u0440\\u0438\\u0438 \\u0432 \\u0443\\u043f\\u043e\\u0440\\u043d\\u043e\\u0439 \\u0431\\u043e\\u0440\\u044c\\u0431\\u0435 \\u00ab\\u042d\\u0434\\u043c\\u043e\\u043d\\u0442\\u043e\\u043d\\u00bb \\u043f\\u0440\\u043e\\u0438\\u0433\\u0440\\u0430\\u043b \\u2014 3-4 \\u00ab\\u041a\\u0430\\u0440\\u043e\\u043b\\u0438\\u043d\\u0435\\u00bb, \\u043d\\u043e \\u0421\\u0435\\u0440\\u0433\\u0435\\u0439 \\u0441\\u043c\\u043e\\u0433 \\u043e\\u0434\\u043d\\u0430\\u0436\\u0434\\u044b \\u043e\\u0442\\u043b\\u0438\\u0447\\u0438\\u0442\\u044c\\u0441\\u044f (\\u043e\\u0442\\u043a\\u0440\\u044b\\u043b \\u0441\\u0447\\u0451\\u0442 \\u0432 \\u043f\\u0440\\u043e\\u0438\\u0433\\u0440\\u0430\\u043d\\u043d\\u043e\\u043c \\u0447\\u0435\\u0442\\u0432\\u0451\\u0440\\u0442\\u043e\\u043c \\u043c\\u0430\\u0442\\u0447\\u0435 \\u2014 1:2).\\n\\u0412 \\u0442\\u043e\\u043c \\u0440\\u043e\\u0437\\u044b\\u0433\\u0440\\u044b\\u0448\\u0435 \\u043d\\u0430\\u043f\\u0430\\u0434\\u0430\\u044e\\u0449\\u0438\\u0439 \\u0441 15 (4+11) \\u043e\\u0447\\u043a\\u0430\\u043c\\u0438 \\u0432 24 \\u0432\\u0441\\u0442\\u0440\\u0435\\u0447\\u0430\\u0445 \\u0441\\u0442\\u0430\\u043b \\u0448\\u0435\\u0441\\u0442\\u044b\\u043c \\u0431\\u043e\\u043c\\u0431\\u0430\\u0440\\u0434\\u0438\\u0440\\u043e\\u043c \\u043a\\u043e\\u043c\\u0430\\u043d\\u0434\\u044b, \\u0447\\u0435\\u0442\\u0432\\u0451\\u0440\\u0442\\u044b\\u043c \\u0430\\u0441\\u0441\\u0438\\u0441\\u0442\\u0435\\u043d\\u0442\\u043e\\u043c \\u0438 \\u0441\\u0435\\u0434\\u044c\\u043c\\u044b\\u043c \\u0441\\u043d\\u0430\\u0439\\u043f\\u0435\\u0440\\u043e\\u043c.\\n\\u0421\\u0435\\u0440\\u0433\\u0435\\u0439 \\u0437\\u0430 \\u0434\\u0435\\u0432\\u044f\\u0442\\u044c \\u043b\\u0435\\u0442 \\u0432 \\u00ab\\u0411\\u043e\\u0441\\u0442\\u043e\\u043d\\u0435\\u00bb \\u0441\\u0442\\u0430\\u043b \\u043d\\u0430\\u0441\\u0442\\u043e\\u044f\\u0449\\u0435\\u0439 \\u043b\\u0435\\u0433\\u0435\\u043d\\u0434\\u043e\\u0439 \\u043a\\u043b\\u0443\\u0431\\u0430. \\u0420\\u043e\\u0441\\u0441\\u0438\\u044f\\u043d\\u0438\\u043d \\u2014 \\u0447\\u0435\\u0442\\u0432\\u0451\\u0440\\u0442\\u044b\\u0439 \\u0441\\u043d\\u0430\\u0439\\u043f\\u0435\\u0440 (26-\\u0439 \\u0441\\u0440\\u0435\\u0434\\u0438 \\u0432\\u0441\\u0435\\u0445 \\u0438\\u0433\\u0440\\u043e\\u043a\\u043e\\u0432), \\u0430\\u0441\\u0441\\u0438\\u0441\\u0442\\u0435\\u043d\\u0442 (42-\\u0439) \\u0438 \\u0431\\u043e\\u043c\\u0431\\u0430\\u0440\\u0434\\u0438\\u0440 (31-\\u0439) \\u00ab\\u043c\\u0438\\u0448\\u0435\\u043a\\u00bb \\u0441\\u0440\\u0435\\u0434\\u0438 \\u0435\\u0432\\u0440\\u043e\\u043f\\u0435\\u0439\\u0446\\u0435\\u0432, \\u0430 \\u0442\\u0430\\u043a\\u0436\\u0435 \\u0441\\u0435\\u0434\\u044c\\u043c\\u043e\\u0439 \\u043f\\u043e \\u043c\\u0430\\u0442\\u0447\\u0430\\u043c (50-\\u0439). \\u0412 2023-\\u043c \\u0437\\u0430\\u0441\\u043b\\u0443\\u0433\\u0438 \\u0440\\u043e\\u0441\\u0441\\u0438\\u044f\\u043d\\u0438\\u043d\\u0430 \\u043e\\u0446\\u0435\\u043d\\u0438\\u043b\\u0438 \\u043f\\u043e \\u0434\\u043e\\u0441\\u0442\\u043e\\u0438\\u043d\\u0441\\u0442\\u0432\\u0443. \\u00ab\\u0411\\u043e\\u0441\\u0442\\u043e\\u043d\\u00bb \\u0432\\u043a\\u043b\\u044e\\u0447\\u0438\\u043b \\u043d\\u0430\\u043f\\u0430\\u0434\\u0430\\u044e\\u0449\\u0435\\u0433\\u043e \\u0432 \\u00ab\\u0418\\u0441\\u0442\\u043e\\u0440\\u0438\\u0447\\u0435\\u0441\\u043a\\u0443\\u044e 100\\u00bb \\u2014 \\u0441\\u043f\\u0438\\u0441\\u043e\\u043a 100 \\u0441\\u0430\\u043c\\u044b\\u0445 \\u043b\\u0435\\u0433\\u0435\\u043d\\u0434\\u0430\\u0440\\u043d\\u044b\\u0445 \\u0438\\u0433\\u0440\\u043e\\u043a\\u043e\\u0432 \\u0432 \\u0438\\u0441\\u0442\\u043e\\u0440\\u0438\\u0438 \\u00ab\\u0411\\u0440\\u044e\\u0438\\u043d\\u0437\\u00bb.\\n\\u0421\\u0430\\u043c\\u0441\\u043e\\u043d\\u043e\\u0432 \\u0437\\u0430\\u043d\\u0438\\u043c\\u0430\\u0435\\u0442 16-\\u0435 \\u043c\\u0435\\u0441\\u0442\\u043e \\u0432 \\u0441\\u043f\\u0438\\u0441\\u043a\\u0435 \\u043b\\u0443\\u0447\\u0448\\u0438\\u0445 \\u0440\\u043e\\u0441\\u0441\\u0438\\u0439\\u0441\\u043a\\u0438\\u0445 \\u0441\\u043d\\u0430\\u0439\\u043f\\u0435\\u0440\\u043e\\u0432, 19-\\u0435 \\u2014 \\u0432 \\u0441\\u043f\\u0438\\u0441\\u043a\\u0435 \\u043b\\u0443\\u0447\\u0448\\u0438\\u0445 \\u0440\\u043e\\u0441\\u0441\\u0438\\u0439\\u0441\\u043a\\u0438\\u0445 \\u0431\\u043e\\u043c\\u0431\\u0430\\u0440\\u0434\\u0438\\u0440\\u043e\\u0432, 21-\\u0435 \\u2014 \\u0432 \\u0441\\u043f\\u0438\\u0441\\u043a\\u0435 \\u043b\\u0443\\u0447\\u0448\\u0438\\u0445 \\u0440\\u043e\\u0441\\u0441\\u0438\\u0439\\u0441\\u043a\\u0438\\u0445 \\u0430\\u0441\\u0441\\u0438\\u0441\\u0442\\u0435\\u043d\\u0442\\u043e\\u0432. \\u041a\\u0440\\u043e\\u043c\\u0435 \\u0442\\u043e\\u0433\\u043e, \\u0421\\u044d\\u043c\\u043c\\u0438 \\u2014 16-\\u0439 \\u043f\\u043e \\u043a\\u043e\\u043b\\u0438\\u0447\\u0435\\u0441\\u0442\\u0432\\u0443 \\u043c\\u0430\\u0442\\u0447\\u0435\\u0439. \\u041d\\u0430\\u043f\\u0430\\u0434\\u0430\\u044e\\u0449\\u0438\\u0439 \\u0442\\u0430\\u043a\\u0436\\u0435 \\u0440\\u0430\\u0441\\u043f\\u043e\\u043b\\u0430\\u0433\\u0430\\u0435\\u0442\\u0441\\u044f \\u043d\\u0430 17-\\u0439 \\u0441\\u0442\\u0440\\u043e\\u0447\\u043a\\u0435 \\u043f\\u043e \\u043a\\u043e\\u043b\\u0438\\u0447\\u0435\\u0441\\u0442\\u0432\\u0443 \\u0433\\u043e\\u043b\\u043e\\u0432, \\u043f\\u0435\\u0440\\u0435\\u0434\\u0430\\u0447 \\u0438 \\u043e\\u0447\\u043a\\u043e\\u0432 \\u0432 \\u043f\\u043b\\u0435\\u0439-\\u043e\\u0444\\u0444 \\u0434\\u043b\\u044f \\u0440\\u043e\\u0441\\u0441\\u0438\\u0439\\u0441\\u043a\\u0438\\u0445 \\u0445\\u043e\\u043a\\u043a\\u0435\\u0438\\u0441\\u0442\\u043e\\u0432, \\u0430 \\u0442\\u0430\\u043a\\u0436\\u0435 \\u043d\\u0430 28-\\u0439 \\u2014 \\u043f\\u043e \\u0432\\u0441\\u0442\\u0440\\u0435\\u0447\\u0430\\u043c.\\n\\u041a\\u043b\\u0443\\u0431\\u044b: \\u00ab\\u0410\\u043d\\u0430\\u0445\\u0430\\u0439\\u043c \\u0414\\u0430\\u043a\\u0441\\u00bb, \\u00ab\\u0412\\u0438\\u043d\\u043d\\u0438\\u043f\\u0435\\u0433 \\u0414\\u0436\\u0435\\u0442\\u0441\\u00bb, \\u00ab\\u0424\\u0438\\u043d\\u0438\\u043a\\u0441 \\u041a\\u043e\\u0439\\u043e\\u0442\\u0441\\u00bb, \\u00ab\\u041d\\u044c\\u044e-\\u0414\\u0436\\u0435\\u0440\\u0441\\u0438 \\u0414\\u044d\\u0432\\u0438\\u043b\\u0437\\u00bb, \\u00ab\\u041a\\u0430\\u0440\\u043e\\u043b\\u0438\\u043d\\u0430 \\u0425\\u0430\\u0440\\u0440\\u0438\\u043a\\u0435\\u0439\\u043d\\u0437\\u00bb, \\u00ab\\u041b\\u043e\\u0441-\\u0410\\u043d\\u0434\\u0436\\u0435\\u043b\\u0435\\u0441 \\u041a\\u0438\\u043d\\u0433\\u0437\\u00bb (1994\\u20142007, \\u0437\\u0430 \\u0438\\u0441\\u043a\\u043b\\u044e\\u0447\\u0435\\u043d\\u0438\\u0435\\u043c \\u043e\\u0442\\u0440\\u0435\\u0437\\u043a\\u0430 \\u0441 2003 \\u043f\\u043e 2005 \\u0433\\u043e\\u0434) \\u2014 11 \\u0441\\u0435\\u0437\\u043e\\u043d\\u043e\\u0432 \\u0432 \\u041d\\u0425\\u041b\\n713 \\u043c\\u0430\\u0442\\u0447\\u0435\\u0439, 317 (77+240) \\u043e\\u0447\\u043a\\u043e\\u0432, \\u00ab-21\\u00bb \\u2014 \\u0432 \\u0440\\u0435\\u0433\\u0443\\u043b\\u044f\\u0440\\u043d\\u044b\\u0445 \\u0447\\u0435\\u043c\\u043f\\u0438\\u043e\\u043d\\u0430\\u0442\\u0430\\u0445 45 \\u043c\\u0430\\u0442\\u0447\\u0435\\u0439, 14 (0+14) \\u043e\\u0447\\u043a\\u043e\\u0432, \\u00ab-6\\u00bb \\u2014 \\u0432 \\u043f\\u043b\\u0435\\u0439-\\u043e\\u0444\\u0444\\n\\u0417\\u0430\\u0449\\u0438\\u0442\\u043d\\u0438\\u043a \\u0431\\u044b\\u043b \\u0437\\u0430\\u0434\\u0440\\u0430\\u0444\\u0442\\u043e\\u0432\\u0430\\u043d \\u00ab\\u0410\\u043d\\u0430\\u0445\\u0430\\u0439\\u043c\\u043e\\u043c\\u00bb \\u0432 1994-\\u043c \\u0432 \\u043f\\u0435\\u0440\\u0432\\u043e\\u043c \\u0440\\u0430\\u0443\\u043d\\u0434\\u0435 \\u043f\\u043e\\u0434 \\u043e\\u0431\\u0449\\u0438\\u043c \\u0432\\u0442\\u043e\\u0440\\u044b\\u043c \\u043d\\u043e\\u043c\\u0435\\u0440\\u043e\\u043c. \\u0422\\u0432\\u0435\\u0440\\u0434\\u043e\\u0432\\u0441\\u043a\\u0438\\u0439 \\u0443\\u0441\\u0442\\u0430\\u043d\\u043e\\u0432\\u0438\\u043b \\u0440\\u0435\\u043a\\u043e\\u0440\\u0434 \\u0441\\u0440\\u0435\\u0434\\u0438 \\u0440\\u043e\\u0441\\u0441\\u0438\\u0439\\u0441\\u043a\\u0438\\u0445 \\u0445\\u043e\\u043a\\u043a\\u0435\\u0438\\u0441\\u0442\\u043e\\u0432 \\u043d\\u0430 \\u0434\\u0440\\u0430\\u0444\\u0442\\u0435 \\u2014 \\u043d\\u0438\\u043a\\u043e\\u0433\\u0434\\u0430 \\u0440\\u0430\\u043d\\u0435\\u0435 \\u0440\\u043e\\u0441\\u0441\\u0438\\u044f\\u043d \\u043d\\u0435 \\u0432\\u044b\\u0431\\u0438\\u0440\\u0430\\u043b\\u0438 \\u0442\\u0430\\u043a \\u0432\\u044b\\u0441\\u043e\\u043a\\u043e. \\u041a\\u0440\\u043e\\u043c\\u0435 \\u0442\\u043e\\u0433\\u043e, \\u041e\\u043b\\u0435\\u0433 \\u0434\\u043e \\u0441\\u0438\\u0445 \\u043f\\u043e\\u0440 \\u0443\\u0434\\u0435\\u0440\\u0436\\u0438\\u0432\\u0430\\u0435\\u0442 \\u043b\\u0443\\u0447\\u0448\\u0438\\u0439 \\u0440\\u0435\\u0437\\u0443\\u043b\\u044c\\u0442\\u0430\\u0442 \\u0434\\u043b\\u044f \\u0437\\u0430\\u0449\\u0438\\u0442\\u043d\\u0438\\u043a\\u043e\\u0432 \\u0438\\u0437 \\u0420\\u043e\\u0441\\u0441\\u0438\\u0438 (\\u043d\\u0430\\u0440\\u0430\\u0432\\u043d\\u0435 \\u0441 \\u0410\\u043d\\u0434\\u0440\\u0435\\u0435\\u043c \\u0417\\u044e\\u0437\\u0438\\u043d\\u044b\\u043c).\\n\\u0422\\u0432\\u0435\\u0440\\u0434\\u043e\\u0432\\u0441\\u043a\\u0438\\u0439 \\u043f\\u0435\\u0440\\u0435\\u0435\\u0445\\u0430\\u043b \\u0432 \\u0421\\u0435\\u0432\\u0435\\u0440\\u043d\\u0443\\u044e \\u0410\\u043c\\u0435\\u0440\\u0438\\u043a\\u0443 \\u0432 \\u0442\\u043e\\u043c \\u0436\\u0435 1994 \\u0433\\u043e\\u0434\\u0443, \\u043a\\u043e\\u0433\\u0434\\u0430 \\u0435\\u043c\\u0443 \\u0431\\u044b\\u043b\\u043e 18 \\u043b\\u0435\\u0442. \\u0414\\u0435\\u0431\\u044e\\u0442 \\u0442\\u0430\\u043a\\u0436\\u0435 \\u043e\\u043a\\u0430\\u0437\\u0430\\u043b\\u0441\\u044f \\u0437\\u043d\\u0430\\u043c\\u0435\\u043d\\u0430\\u0442\\u0435\\u043b\\u044c\\u043d\\u044b\\u043c. \\u0421\\u044b\\u0433\\u0440\\u0430\\u0432 \\u043f\\u0435\\u0440\\u0432\\u044b\\u0439 \\u043c\\u0430\\u0442\\u0447 \\u0437\\u0430 \\u00ab\\u0410\\u043d\\u0430\\u0445\\u0430\\u0439\\u043c\\u00bb \\u0432 \\u0432\\u043e\\u0437\\u0440\\u0430\\u0441\\u0442\\u0435 18 \\u043b\\u0435\\u0442 \\u0432\\u043e\\u0441\\u044c\\u043c\\u0438 \\u043c\\u0435\\u0441\\u044f\\u0446\\u0435\\u0432 \\u0438 13 \\u0434\\u043d\\u0435\\u0439, \\u041e\\u043b\\u0435\\u0433 \\u0441\\u0442\\u0430\\u043b \\u0441\\u0430\\u043c\\u044b\\u043c \\u043c\\u043e\\u043b\\u043e\\u0434\\u044b\\u043c \\u0438\\u0433\\u0440\\u043e\\u043a\\u043e\\u043c \\u0432 \\u0438\\u0441\\u0442\\u043e\\u0440\\u0438\\u0438 \\u00ab\\u0414\\u0430\\u043a\\u0441\\u00bb, \\u043a\\u043e\\u0442\\u043e\\u0440\\u043e\\u0433\\u043e \\u0432\\u044b\\u0437\\u0432\\u0430\\u043b\\u0438 \\u043d\\u0430 \\u0432\\u0441\\u0442\\u0440\\u0435\\u0447\\u0443 \\u041d\\u0425\\u041b. \\u0418, \\u0445\\u043e\\u0442\\u044c \\u0437\\u0430\\u0449\\u0438\\u0442\\u043d\\u0438\\u043a\\u0430 \\u0441\\u0447\\u0438\\u0442\\u0430\\u043b\\u0438 \\u043e\\u0434\\u043d\\u0438\\u043c \\u0438\\u0437 \\u0432\\u0430\\u0436\\u043d\\u0435\\u0439\\u0448\\u0438\\u0445 \\u044d\\u043b\\u0435\\u043c\\u0435\\u043d\\u0442\\u043e\\u0432 \\u044e\\u043d\\u043e\\u0439 \\u043a\\u043e\\u043c\\u0430\\u043d\\u0434\\u044b, \\u0441\\u043f\\u0443\\u0441\\u0442\\u044f \\u0434\\u0432\\u0430 \\u0433\\u043e\\u0434\\u0430 \\u043e\\u0431\\u043c\\u0435\\u043d\\u044f\\u043b\\u0438 \\u0432 \\u00ab\\u0412\\u0438\\u043d\\u043d\\u0438\\u043f\\u0435\\u0433\\u00bb. \\u042d\\u0442\\u0430 \\u0441\\u0434\\u0435\\u043b\\u043a\\u0430 \\u0442\\u0430\\u043a\\u0436\\u0435 \\u0432\\u043e\\u0448\\u043b\\u0430 \\u0432 \\u0438\\u0441\\u0442\\u043e\\u0440\\u0438\\u044e, \\u043f\\u043e\\u0441\\u043a\\u043e\\u043b\\u044c\\u043a\\u0443 \\u0437\\u0430 \\u043c\\u043e\\u043b\\u043e\\u0434\\u043e\\u0433\\u043e \\u0440\\u043e\\u0441\\u0441\\u0438\\u044f\\u043d\\u0438\\u043d\\u0430 \\u043e\\u0442\\u0434\\u0430\\u043b\\u0438 \\u0431\\u0443\\u0434\\u0443\\u0449\\u0443\\u044e \\u043b\\u0435\\u0433\\u0435\\u043d\\u0434\\u0443 \\u0422\\u0435\\u044d\\u043c\\u0443 \\u0421\\u0435\\u043b\\u044f\\u043d\\u043d\\u0435!\\n\\u0421\\u0432\\u043e\\u0439 \\u043b\\u0443\\u0447\\u0448\\u0438\\u0439 \\u0441\\u0435\\u0437\\u043e\\u043d \\u0422\\u0432\\u0435\\u0440\\u0434\\u043e\\u0432\\u0441\\u043a\\u0438\\u0439 \\u043f\\u0440\\u043e\\u0432\\u0451\\u043b \\u0443\\u0436\\u0435 \\u0432 \\u00ab\\u0424\\u0438\\u043d\\u0438\\u043a\\u0441\\u0435\\u00bb. \\u0412 \\u043a\\u0430\\u043c\\u043f\\u0430\\u043d\\u0438\\u0438-1996/1997 \\u0438\\u0433\\u0440\\u043e\\u043a \\u043d\\u0430\\u0431\\u0440\\u0430\\u043b 55 (10+45) \\u043e\\u0447\\u043a\\u043e\\u0432 \\u0432 82 \\u043c\\u0430\\u0442\\u0447\\u0430\\u0445. \\u041d\\u0430\\u0441\\u0442\\u043e\\u044f\\u0449\\u0438\\u0439 \\u0436\\u0435 \\u0443\\u0441\\u043f\\u0435\\u0445 \\u043f\\u0440\\u0438\\u0448\\u0451\\u043b \\u0443\\u0436\\u0435 \\u0432 2000-\\u0445. \\u041f\\u043e\\u0441\\u043b\\u0435 \\u0432\\u043e\\u0437\\u0432\\u0440\\u0430\\u0449\\u0435\\u043d\\u0438\\u044f \\u0432 \\u00ab\\u0410\\u043d\\u0430\\u0445\\u0430\\u0439\\u043c\\u00bb \\u0438 \\u0432\\u0440\\u0443\\u0447\\u0435\\u043d\\u0438\\u044f \\u043d\\u0430\\u0448\\u0438\\u0432\\u043a\\u0438 \\u0430\\u043b\\u044c\\u0442\\u0435\\u0440\\u043d\\u0430\\u0442\\u0438\\u0432\\u043d\\u043e\\u0433\\u043e \\u043a\\u0430\\u043f\\u0438\\u0442\\u0430\\u043d\\u0430 \\u0432 \\u0441\\u0435\\u0437\\u043e\\u043d\\u0435-2001/2002 \\u0437\\u0430\\u0449\\u0438\\u0442\\u043d\\u0438\\u043a \\u043d\\u0430\\u0447\\u0430\\u043b \\u0441\\u043b\\u0435\\u0434\\u0443\\u044e\\u0449\\u0438\\u0439 \\u0447\\u0435\\u043c\\u043f\\u0438\\u043e\\u043d\\u0430\\u0442 \\u0432 \\u00ab\\u041d\\u044c\\u044e-\\u0414\\u0436\\u0435\\u0440\\u0441\\u0438\\u00bb. \\u041e\\u043b\\u0435\\u0433 \\u0441\\u044b\\u0433\\u0440\\u0430\\u043b 50 \\u043c\\u0430\\u0442\\u0447\\u0435\\u0439 \\u0432 \\u0440\\u0435\\u0433\\u0443\\u043b\\u044f\\u0440\\u043a\\u0435, \\u043d\\u0430\\u0431\\u0440\\u0430\\u0432 13 (5+8) \\u043e\\u0447\\u043a\\u043e\\u0432 \\u0438 \\u0441\\u0442\\u0430\\u0432 \\u043f\\u044f\\u0442\\u044b\\u043c \\u043e\\u0431\\u043e\\u0440\\u043e\\u043d\\u0446\\u0435\\u043c-\\u0431\\u043e\\u043c\\u0431\\u0430\\u0440\\u0434\\u0438\\u0440\\u043e\\u043c \\u00ab\\u0434\\u044c\\u044f\\u0432\\u043e\\u043b\\u043e\\u0432\\u00bb. \\u0412 \\u043f\\u043b\\u0435\\u0439-\\u043e\\u0444\\u0444 \\u0436\\u0435 \\u0422\\u0432\\u0435\\u0440\\u0434\\u043e\\u0432\\u0441\\u043a\\u0438\\u0439 \\u043f\\u043e\\u043c\\u043e\\u0433 \\u00ab\\u0414\\u044d\\u0432\\u0438\\u043b\\u0437\\u00bb \\u0432\\u0437\\u044f\\u0442\\u044c \\u041a\\u0443\\u0431\\u043e\\u043a \\u0421\\u0442\\u044d\\u043d\\u043b\\u0438! \\u0418 \\u0445\\u043e\\u0442\\u044c \\u0432 \\u043f\\u043e\\u0431\\u0435\\u0434\\u043d\\u043e\\u043c \\u0440\\u043e\\u0437\\u044b\\u0433\\u0440\\u044b\\u0448\\u0435 \\u0443 \\u043d\\u0435\\u0433\\u043e \\u0431\\u044b\\u043b\\u043e \\u0432\\u0441\\u0435\\u0433\\u043e 15 \\u043c\\u0430\\u0442\\u0447\\u0435\\u0439 \\u0438 3 (0+3) \\u043e\\u0447\\u043a\\u0430, \\u043e\\u043d \\u043f\\u0440\\u043e\\u0432\\u0451\\u043b \\u0448\\u0435\\u0441\\u0442\\u044c \\u0438\\u0437 \\u0441\\u0435\\u043c\\u0438 \\u0444\\u0438\\u043d\\u0430\\u043b\\u044c\\u043d\\u044b\\u0445 \\u0432\\u0441\\u0442\\u0440\\u0435\\u0447. \\u0421 \\u043a\\u0435\\u043c? \\u0421 \\u00ab\\u0410\\u043d\\u0430\\u0445\\u0430\\u0439\\u043c\\u043e\\u043c\\u00bb! \\u0412\\u043e\\u0442 \\u0442\\u0430\\u043a \\u043d\\u0430\\u0441\\u043e\\u043b\\u0438\\u043b \\u0431\\u044b\\u0432\\u0448\\u0435\\u043c\\u0443 \\u043a\\u043b\\u0443\\u0431\\u0443.\\n\\u041f\\u043e\\u0438\\u0433\\u0440\\u0430\\u0432 \\u0437\\u0430\\u0442\\u0435\\u043c \\u0434\\u0432\\u0430 \\u0433\\u043e\\u0434\\u0430 \\u0432 \\u0420\\u043e\\u0441\\u0441\\u0438\\u0438, \\u0422\\u0432\\u0435\\u0440\\u0434\\u043e\\u0432\\u0441\\u043a\\u0438\\u0439 \\u0432\\u0435\\u0440\\u043d\\u0443\\u043b\\u0441\\u044f \\u0432 \\u041d\\u0425\\u041b, \\u043f\\u043e\\u0434\\u043f\\u0438\\u0441\\u0430\\u0432 \\u043a\\u043e\\u043d\\u0442\\u0440\\u0430\\u043a\\u0442 \\u0441 \\u00ab\\u041a\\u0430\\u0440\\u043e\\u043b\\u0438\\u043d\\u043e\\u0439\\u00bb. \\u0418 \\u0442\\u0443\\u0442 \\u043e\\u043d \\u0442\\u0430\\u043a\\u0436\\u0435 \\u043f\\u0440\\u0435\\u0443\\u0441\\u043f\\u0435\\u043b! \\u0412 \\u0441\\u043e\\u0441\\u0442\\u0430\\u0432\\u0435 \\u043c\\u043e\\u0449\\u043d\\u044b\\u0445 \\u00ab\\u0443\\u0440\\u0430\\u0433\\u0430\\u043d\\u043e\\u0432\\u00bb \\u0437\\u0430\\u0449\\u0438\\u0442\\u043d\\u0438\\u043a \\u043f\\u0440\\u043e\\u0432\\u0451\\u043b 72 \\u043c\\u0430\\u0442\\u0447\\u0430 \\u0432 \\u0440\\u0435\\u0433\\u0443\\u043b\\u044f\\u0440\\u043a\\u0435, \\u0437\\u0430\\u043f\\u0438\\u0441\\u0430\\u0432 \\u043d\\u0430 \\u0441\\u0432\\u043e\\u0439 \\u0441\\u0447\\u0451\\u0442 23 (3+20) \\u0431\\u0430\\u043b\\u043b\\u0430 \\u0438 \\u0441\\u0442\\u0430\\u0432 \\u0447\\u0435\\u0442\\u0432\\u0451\\u0440\\u0442\\u044b\\u043c \\u043f\\u043e \\u043e\\u0447\\u043a\\u0430\\u043c \\u0441\\u0440\\u0435\\u0434\\u0438 \\u0437\\u0430\\u0449\\u0438\\u0442\\u043d\\u0438\\u043a\\u043e\\u0432 \\u00ab\\u0425\\u0430\\u0440\\u0440\\u0438\\u043a\\u0435\\u0439\\u043d\\u0437\\u00bb. \\u041d\\u0435\\u0441\\u043c\\u043e\\u0442\\u0440\\u044f \\u043d\\u0430 \\u0442\\u043e \\u0447\\u0442\\u043e \\u0432 \\u043f\\u043b\\u0435\\u0439-\\u043e\\u0444\\u0444 \\u043e\\u043d \\u043f\\u043e\\u044f\\u0432\\u0438\\u043b\\u0441\\u044f \\u043d\\u0430 \\u043f\\u043b\\u043e\\u0449\\u0430\\u0434\\u043a\\u0435 \\u0432\\u0441\\u0435\\u0433\\u043e \\u0432 \\u043f\\u044f\\u0442\\u0438 \\u0432\\u0441\\u0442\\u0440\\u0435\\u0447\\u0430\\u0445, \\u041e\\u043b\\u0435\\u0433 \\u0432\\u043d\\u0451\\u0441 \\u0432\\u043a\\u043b\\u0430\\u0434 \\u0432 \\u0437\\u0430\\u0432\\u043e\\u0435\\u0432\\u0430\\u043d\\u0438\\u0435 \\u041a\\u0443\\u0431\\u043a\\u0430 \\u0421\\u0442\\u044d\\u043d\\u043b\\u0438 \\u2014 \\u0432\\u0442\\u043e\\u0440\\u043e\\u0433\\u043e \\u043a\\u0430\\u043a \\u0434\\u043b\\u044f \\u0444\\u0440\\u0430\\u043d\\u0448\\u0438\\u0437\\u044b, \\u0442\\u0430\\u043a \\u0438 \\u0434\\u043b\\u044f \\u0438\\u0433\\u0440\\u043e\\u043a\\u0430.\\n\\u0422\\u0432\\u0435\\u0440\\u0434\\u043e\\u0432\\u0441\\u043a\\u0438\\u0439 \\u0441\\u0442\\u0430\\u043b \\u043e\\u0434\\u043d\\u043e\\u0439 \\u0438\\u0437 \\u043b\\u0435\\u0433\\u0435\\u043d\\u0434 \\u00ab\\u0410\\u043d\\u0430\\u0445\\u0430\\u0439\\u043c\\u0430\\u00bb. \\u0421\\u0440\\u0435\\u0434\\u0438 \\u0437\\u0430\\u0449\\u0438\\u0442\\u043d\\u0438\\u043a\\u043e\\u0432 \\u043e\\u043d \\u0437\\u0430\\u043d\\u0438\\u043c\\u0430\\u0435\\u0442 \\u043f\\u044f\\u0442\\u043e\\u0435 \\u043c\\u0435\\u0441\\u0442\\u043e \\u043f\\u043e \\u0433\\u043e\\u043b\\u0430\\u043c (32-\\u0439 \\u0441\\u0440\\u0435\\u0434\\u0438 \\u0432\\u0441\\u0435\\u0445 \\u0445\\u043e\\u043a\\u043a\\u0435\\u0438\\u0441\\u0442\\u043e\\u0432), \\u043f\\u0435\\u0440\\u0435\\u0434\\u0430\\u0447\\u0430\\u043c (17-\\u0439) \\u0438 \\u043e\\u0447\\u043a\\u0430\\u043c (21-\\u0439). \\u0420\\u043e\\u0441\\u0441\\u0438\\u044f\\u043d\\u0438\\u043d \\u2014 \\u0432\\u0442\\u043e\\u0440\\u043e\\u0439 \\u0441\\u0440\\u0435\\u0434\\u0438 \\u0435\\u0432\\u0440\\u043e\\u043f\\u0435\\u0439\\u0441\\u043a\\u0438\\u0445 \\u0438\\u0433\\u0440\\u043e\\u043a\\u043e\\u0432 \\u043e\\u0431\\u043e\\u0440\\u043e\\u043d\\u044b \\u043f\\u043e \\u043a\\u0430\\u0436\\u0434\\u043e\\u043c\\u0443 \\u0438\\u0437 \\u043f\\u043e\\u043a\\u0430\\u0437\\u0430\\u0442\\u0435\\u043b\\u0435\\u0439. \\u041e\\u043b\\u0435\\u0433 \\u0442\\u0430\\u043a\\u0436\\u0435 \\u0434\\u0435\\u0432\\u044f\\u0442\\u044b\\u0439 \\u043f\\u043e \\u043c\\u0430\\u0442\\u0447\\u0430\\u043c \\u0441\\u0440\\u0435\\u0434\\u0438 \\u0437\\u0430\\u0449\\u0438\\u0442\\u043d\\u0438\\u043a\\u043e\\u0432 \\u00ab\\u0414\\u0430\\u043a\\u0441\\u00bb (\\u0447\\u0435\\u0442\\u0432\\u0451\\u0440\\u0442\\u044b\\u0439 \\u0441\\u0440\\u0435\\u0434\\u0438 \\u0435\\u0432\\u0440\\u043e\\u043f\\u0435\\u0439\\u0441\\u043a\\u0438\\u0445 \\u043e\\u0431\\u043e\\u0440\\u043e\\u043d\\u0446\\u0435\\u0432, 33-\\u0439 \\u0441\\u0440\\u0435\\u0434\\u0438 \\u0432\\u0441\\u0435\\u0445 \\u0438\\u0433\\u0440\\u043e\\u043a\\u043e\\u0432).\\n\\u0421\\u0440\\u0435\\u0434\\u0438 \\u0440\\u043e\\u0441\\u0441\\u0438\\u0439\\u0441\\u043a\\u0438\\u0445 \\u0437\\u0430\\u0449\\u0438\\u0442\\u043d\\u0438\\u043a\\u043e\\u0432 \\u0422\\u0432\\u0435\\u0440\\u0434\\u043e\\u0432\\u0441\\u043a\\u0438\\u0439 \\u0437\\u0430\\u043d\\u0438\\u043c\\u0430\\u0435\\u0442 \\u0448\\u0435\\u0441\\u0442\\u043e\\u0435 \\u043c\\u0435\\u0441\\u0442\\u043e \\u043f\\u043e \\u0433\\u043e\\u043b\\u0430\\u043c (55-\\u0435 \\u0441\\u0440\\u0435\\u0434\\u0438 \\u0432\\u0441\\u0435\\u0445 \\u0440\\u043e\\u0441\\u0441\\u0438\\u044f\\u043d), \\u0430\\u0441\\u0441\\u0438\\u0441\\u0442\\u0430\\u043c (27-\\u0435) \\u0438 \\u043e\\u0447\\u043a\\u0430\\u043c (38-\\u0435), \\u0430 \\u0442\\u0430\\u043a\\u0436\\u0435 12-\\u0435 \\u043f\\u043e \\u0432\\u0441\\u0442\\u0440\\u0435\\u0447\\u0430\\u043c (32-\\u0435).\\n\\u041a\\u043b\\u0443\\u0431\\u044b: \\u00ab\\u041d\\u044c\\u044e-\\u0414\\u0436\\u0435\\u0440\\u0441\\u0438 \\u0414\\u044d\\u0432\\u0438\\u043b\\u0437\\u00bb (1994\\u20142008) \\u2014 13 \\u0441\\u0435\\u0437\\u043e\\u043d\\u043e\\u0432 \\u0432 \\u041d\\u0425\\u041b\\n765 \\u043c\\u0430\\u0442\\u0447\\u0435\\u0439, 308 (129+179) \\u043e\\u0447\\u043a\\u043e\\u0432, \\u00ab+49\\u00bb \\u2014 \\u0432 \\u0440\\u0435\\u0433\\u0443\\u043b\\u044f\\u0440\\u043d\\u044b\\u0445 \\u0447\\u0435\\u043c\\u043f\\u0438\\u043e\\u043d\\u0430\\u0442\\u0430\\u0445 109 \\u043c\\u0430\\u0442\\u0447\\u0435\\u0439, 34 (15+19) \\u043e\\u0447\\u043a\\u0430, \\u00ab+2\\u00bb \\u2014 \\u0432 \\u043f\\u043b\\u0435\\u0439-\\u043e\\u0444\\u0444\\n\\u0426\\u0435\\u043d\\u0442\\u0440\\u0430\\u043b\\u044c\\u043d\\u043e\\u0433\\u043e \\u043d\\u0430\\u043f\\u0430\\u0434\\u0430\\u044e\\u0449\\u0435\\u0433\\u043e \\u0432\\u044b\\u0431\\u0440\\u0430\\u043b \\u00ab\\u041d\\u044c\\u044e-\\u0414\\u0436\\u0435\\u0440\\u0441\\u0438\\u00bb \\u0432 1992-\\u043c \\u0432\\u043e \\u0432\\u0442\\u043e\\u0440\\u043e\\u043c \\u0440\\u0430\\u0443\\u043d\\u0434\\u0435 \\u043f\\u043e\\u0434 \\u043e\\u0431\\u0449\\u0438\\u043c 42-\\u043c \\u043d\\u043e\\u043c\\u0435\\u0440\\u043e\\u043c. \\u0421\\u043f\\u0443\\u0441\\u0442\\u044f \\u0434\\u0432\\u0430 \\u0433\\u043e\\u0434\\u0430 20-\\u043b\\u0435\\u0442\\u043d\\u0438\\u0439 \\u0411\\u0440\\u044b\\u043b\\u0438\\u043d \\u043f\\u0440\\u0438\\u0441\\u043e\\u0435\\u0434\\u0438\\u043d\\u0438\\u043b\\u0441\\u044f \\u043a \\u00ab\\u0434\\u044c\\u044f\\u0432\\u043e\\u043b\\u0430\\u043c\\u00bb.\\n\\u041f\\u0435\\u0440\\u0432\\u044b\\u0439 \\u0441\\u0435\\u0437\\u043e\\u043d \\u0421\\u0435\\u0440\\u0433\\u0435\\u0439 \\u043f\\u0440\\u043e\\u0432\\u0451\\u043b \\u0432 \\u043e\\u0441\\u043d\\u043e\\u0432\\u043d\\u043e\\u043c \\u0432 \\u0410\\u0425\\u041b, \\u0432 \\u0440\\u0435\\u0433\\u0443\\u043b\\u044f\\u0440\\u043a\\u0435 \\u043e\\u0442\\u044b\\u0433\\u0440\\u0430\\u0432 \\u043b\\u0438\\u0448\\u044c 26 \\u043c\\u0430\\u0442\\u0447\\u0435\\u0439 \\u0438 \\u043d\\u0430\\u0431\\u0440\\u0430\\u0432 14 (6+8) \\u043e\\u0447\\u043a\\u043e\\u0432. \\u041e\\u0434\\u043d\\u0430\\u043a\\u043e \\u044d\\u0442\\u043e \\u043d\\u0435 \\u043f\\u043e\\u043c\\u0435\\u0448\\u0430\\u043b\\u043e \\u0442\\u0440\\u0435\\u043d\\u0435\\u0440\\u0441\\u043a\\u043e\\u043c\\u0443 \\u0448\\u0442\\u0430\\u0431\\u0443 \\u00ab\\u0414\\u044d\\u0432\\u0438\\u043b\\u0437\\u00bb \\u0432\\u044b\\u0437\\u044b\\u0432\\u0430\\u0442\\u044c \\u0435\\u0433\\u043e \\u043d\\u0430 \\u0432\\u0441\\u0442\\u0440\\u0435\\u0447\\u0438 \\u043f\\u043b\\u0435\\u0439-\\u043e\\u0444\\u0444. \\u0411\\u0440\\u044b\\u043b\\u0438\\u043d \\u0432 \\u0442\\u043e\\u043c \\u0440\\u043e\\u0437\\u044b\\u0433\\u0440\\u044b\\u0448\\u0435 \\u0441\\u044b\\u0433\\u0440\\u0430\\u043b 12 \\u043c\\u0430\\u0442\\u0447\\u0435\\u0439 \\u0438 \\u0437\\u0430\\u043f\\u0438\\u0441\\u0430\\u043b \\u043d\\u0430 \\u0441\\u0432\\u043e\\u0439 \\u0441\\u0447\\u0451\\u0442 3 (1+2) \\u0431\\u0430\\u043b\\u043b\\u0430. \\u041f\\u0440\\u0438\\u043c\\u0435\\u0447\\u0430\\u0442\\u0435\\u043b\\u044c\\u043d\\u043e, \\u0447\\u0442\\u043e \\u0441\\u0432\\u043e\\u0439 \\u0435\\u0434\\u0438\\u043d\\u0441\\u0442\\u0432\\u0435\\u043d\\u043d\\u044b\\u0439 \\u0433\\u043e\\u043b \\u0440\\u043e\\u0441\\u0441\\u0438\\u044f\\u043d\\u0438\\u043d \\u0437\\u0430\\u0431\\u0438\\u043b \\u0432 \\u0447\\u0435\\u0442\\u0432\\u0451\\u0440\\u0442\\u043e\\u0439, \\u0440\\u0435\\u0448\\u0430\\u044e\\u0449\\u0435\\u0439 \\u0432\\u0441\\u0442\\u0440\\u0435\\u0447\\u0435 \\u0444\\u0438\\u043d\\u0430\\u043b\\u044c\\u043d\\u043e\\u0439 \\u0441\\u0435\\u0440\\u0438\\u0438 \\u0441 \\u00ab\\u0414\\u0435\\u0442\\u0440\\u043e\\u0439\\u0442\\u043e\\u043c\\u00bb. \\u0422\\u0430\\u043a \\u0421\\u0435\\u0440\\u0433\\u0435\\u0439 \\u0432\\u044b\\u0438\\u0433\\u0440\\u0430\\u043b \\u0441\\u0432\\u043e\\u0439 \\u043f\\u0435\\u0440\\u0432\\u044b\\u0439 \\u041a\\u0443\\u0431\\u043e\\u043a \\u0421\\u0442\\u044d\\u043d\\u043b\\u0438.\\n\\u0412 \\u0441\\u0435\\u0437\\u043e\\u043d\\u0435-1999/2000 \\u0411\\u0440\\u044b\\u043b\\u0438\\u043d \\u0437\\u0430\\u0432\\u043e\\u0435\\u0432\\u0430\\u043b \\u0441\\u0432\\u043e\\u0439 \\u0432\\u0442\\u043e\\u0440\\u043e\\u0439 \\u0442\\u0440\\u043e\\u0444\\u0435\\u0439. \\u0412 \\u043f\\u043b\\u0435\\u0439-\\u043e\\u0444\\u0444 \\u043d\\u0430\\u043f\\u0430\\u0434\\u0430\\u044e\\u0449\\u0438\\u0439 \\u043d\\u0430\\u0431\\u0440\\u0430\\u043b \\u0443\\u0436\\u0435 8 (3+5) \\u043e\\u0447\\u043a\\u043e\\u0432 \\u0432 17 \\u043c\\u0430\\u0442\\u0447\\u0430\\u0445. \\u041e\\u0434\\u0438\\u043d \\u0433\\u043e\\u043b \\u0440\\u043e\\u0441\\u0441\\u0438\\u044f\\u043d\\u0438\\u043d \\u0437\\u0430\\u0431\\u0438\\u043b \\u0432 \\u043f\\u0435\\u0440\\u0432\\u043e\\u043c \\u0440\\u0430\\u0443\\u043d\\u0434\\u0435 \\u0441 \\u00ab\\u0424\\u043b\\u043e\\u0440\\u0438\\u0434\\u043e\\u0439\\u00bb, \\u0430 \\u043e\\u0441\\u0442\\u0430\\u043b\\u044c\\u043d\\u044b\\u0435 \\u0434\\u0432\\u0435 \\u0448\\u0430\\u0439\\u0431\\u044b \\u043f\\u0440\\u0438\\u0431\\u0435\\u0440\\u0451\\u0433 \\u043d\\u0430 \\u0444\\u0438\\u043d\\u0430\\u043b \\u0441 \\u00ab\\u0414\\u0430\\u043b\\u043b\\u0430\\u0441\\u043e\\u043c\\u00bb. \\u0424\\u043e\\u0440\\u0432\\u0430\\u0440\\u0434 \\u043e\\u0442\\u043b\\u0438\\u0447\\u0438\\u043b\\u0441\\u044f \\u0432 \\u043f\\u0435\\u0440\\u0432\\u043e\\u043c \\u0438 \\u0447\\u0435\\u0442\\u0432\\u0451\\u0440\\u0442\\u043e\\u043c \\u043c\\u0430\\u0442\\u0447\\u0430\\u0445, \\u043f\\u0440\\u0438\\u0447\\u0451\\u043c \\u0432 \\u0447\\u0435\\u0442\\u0432\\u0451\\u0440\\u0442\\u043e\\u0439 \\u0432\\u0441\\u0442\\u0440\\u0435\\u0447\\u0435 \\u0441\\u0440\\u0430\\u0432\\u043d\\u044f\\u043b \\u0441\\u0447\\u0451\\u0442 \\u0432 \\u0442\\u0440\\u0435\\u0442\\u044c\\u0435\\u043c \\u043f\\u0435\\u0440\\u0438\\u043e\\u0434\\u0435. \\u0422\\u0430\\u043a \\u0421\\u0435\\u0440\\u0433\\u0435\\u0439 \\u0432\\u044b\\u0438\\u0433\\u0440\\u0430\\u043b \\u0441\\u0432\\u043e\\u0439 \\u0432\\u0442\\u043e\\u0440\\u043e\\u0439 \\u041a\\u0443\\u0431\\u043e\\u043a \\u0421\\u0442\\u044d\\u043d\\u043b\\u0438.\\n\\u0421\\u0435\\u0437\\u043e\\u043d-2000/2001 \\u0441\\u0442\\u0430\\u043b \\u043f\\u0440\\u043e\\u0440\\u044b\\u0432\\u043d\\u044b\\u043c \\u0434\\u043b\\u044f \\u0411\\u0440\\u044b\\u043b\\u0438\\u043d\\u0430 \\u2014 \\u043d\\u0430\\u043f\\u0430\\u0434\\u0430\\u044e\\u0449\\u0438\\u0439 \\u0432 \\u043f\\u0435\\u0440\\u0432\\u044b\\u0439 \\u0438 \\u043f\\u043e\\u0441\\u043b\\u0435\\u0434\\u043d\\u0438\\u0439 \\u0440\\u0430\\u0437 \\u0432 \\u043a\\u0430\\u0440\\u044c\\u0435\\u0440\\u0435 \\u043f\\u0440\\u043e\\u0431\\u0438\\u043b \\u043e\\u0442\\u043c\\u0435\\u0442\\u043a\\u0443 \\u0432 50 \\u0440\\u0435\\u0437\\u0443\\u043b\\u044c\\u0442\\u0430\\u0442\\u0438\\u0432\\u043d\\u044b\\u0445 \\u0431\\u0430\\u043b\\u043b\\u043e\\u0432. \\u0421\\u0435\\u0440\\u0433\\u0435\\u0439 \\u043d\\u0430\\u0431\\u0440\\u0430\\u043b 52 (23+29) \\u043e\\u0447\\u043a\\u0430 \\u0432 75 \\u043c\\u0430\\u0442\\u0447\\u0430\\u0445, \\u0442\\u0430\\u043a\\u0436\\u0435 \\u0443\\u0441\\u0442\\u0430\\u043d\\u043e\\u0432\\u0438\\u0432 \\u043b\\u0438\\u0447\\u043d\\u044b\\u0435 \\u0441\\u043d\\u0430\\u0439\\u043f\\u0435\\u0440\\u0441\\u043a\\u0438\\u0439 \\u0438 \\u0430\\u0441\\u0441\\u0438\\u0441\\u0442\\u0435\\u043d\\u0442\\u0441\\u043a\\u0438\\u0439 \\u0440\\u0435\\u043a\\u043e\\u0440\\u0434\\u044b. \\u0412 \\u043f\\u043b\\u0435\\u0439-\\u043e\\u0444\\u0444 \\u0440\\u043e\\u0441\\u0441\\u0438\\u044f\\u043d\\u0438\\u043d \\u043e\\u0442\\u044b\\u0433\\u0440\\u0430\\u043b 20 \\u0432\\u0441\\u0442\\u0440\\u0435\\u0447, \\u0437\\u0430\\u043f\\u0438\\u0441\\u0430\\u0432 \\u043d\\u0430 \\u0441\\u0432\\u043e\\u0439 \\u0441\\u0447\\u0451\\u0442 7 (3+4) \\u0431\\u0430\\u043b\\u043b\\u043e\\u0432. \\u00ab\\u041d\\u044c\\u044e-\\u0414\\u0436\\u0435\\u0440\\u0441\\u0438\\u00bb \\u0432\\u043d\\u043e\\u0432\\u044c \\u0434\\u043e\\u0448\\u0451\\u043b \\u0434\\u043e \\u0444\\u0438\\u043d\\u0430\\u043b\\u0430, \\u043d\\u043e \\u0432 \\u044d\\u0442\\u043e\\u0442 \\u0440\\u0430\\u0437 \\u0443\\u0441\\u0442\\u0443\\u043f\\u0438\\u043b \\u0432 \\u0441\\u0435\\u043c\\u0438 \\u043c\\u0430\\u0442\\u0447\\u0430\\u0445 \\u00ab\\u041a\\u043e\\u043b\\u043e\\u0440\\u0430\\u0434\\u043e\\u00bb \\u2014 \\u043d\\u0435 \\u043f\\u043e\\u043c\\u043e\\u0433 \\u0434\\u0430\\u0436\\u0435 \\u0433\\u043e\\u043b \\u0411\\u0440\\u044b\\u043b\\u0438\\u043d\\u0430 \\u0432 \\u043f\\u044f\\u0442\\u043e\\u0439 \\u0438\\u0433\\u0440\\u0435.\\n\\u0412\\u043f\\u0440\\u043e\\u0447\\u0435\\u043c, \\u0441\\u043f\\u0443\\u0441\\u0442\\u044f \\u0432\\u0441\\u0435\\u0433\\u043e \\u0434\\u0432\\u0430 \\u0433\\u043e\\u0434\\u0430 \\u00ab\\u0414\\u044d\\u0432\\u0438\\u043b\\u0437\\u00bb \\u0441 \\u0421\\u0435\\u0440\\u0433\\u0435\\u0435\\u043c \\u0432 \\u0441\\u043e\\u0441\\u0442\\u0430\\u0432\\u0435 \\u0432\\u0437\\u044f\\u043b\\u0438 \\u0442\\u0440\\u0435\\u0442\\u0438\\u0439 \\u041a\\u0443\\u0431\\u043e\\u043a \\u0421\\u0442\\u044d\\u043d\\u043b\\u0438 \\u0437\\u0430 \\u0432\\u043e\\u0441\\u0435\\u043c\\u044c \\u043b\\u0435\\u0442. \\u0412 \\u0440\\u0435\\u0433\\u0443\\u043b\\u044f\\u0440\\u043a\\u0435 \\u043d\\u0430\\u043f\\u0430\\u0434\\u0430\\u044e\\u0449\\u0438\\u0439 \\u043f\\u0440\\u043e\\u0432\\u0451\\u043b 52 \\u0432\\u0441\\u0442\\u0440\\u0435\\u0447\\u0438, \\u043d\\u0430\\u0431\\u0440\\u0430\\u0432 19 (11+8) \\u0431\\u0430\\u043b\\u043b\\u043e\\u0432, \\u0430 \\u0432 \\u043f\\u043b\\u0435\\u0439-\\u043e\\u0444\\u0444 \\u043e\\u0442\\u043c\\u0435\\u0442\\u0438\\u043b\\u0441\\u044f 4 (1+3) \\u043e\\u0447\\u043a\\u0430\\u043c\\u0438 \\u0432 19 \\u043c\\u0430\\u0442\\u0447\\u0430\\u0445.\\n\\u041d\\u0435\\u0441\\u043c\\u043e\\u0442\\u0440\\u044f \\u043d\\u0430 \\u043d\\u0435 \\u0441\\u0430\\u043c\\u0443\\u044e \\u0432\\u044b\\u0434\\u0430\\u044e\\u0449\\u0443\\u044e\\u0441\\u044f \\u0441\\u0442\\u0430\\u0442\\u0438\\u0441\\u0442\\u0438\\u043a\\u0443, \\u0411\\u0440\\u044b\\u043b\\u0438\\u043d \\u044f\\u0432\\u043b\\u044f\\u0435\\u0442\\u0441\\u044f, \\u0432\\u043e\\u0437\\u043c\\u043e\\u0436\\u043d\\u043e, \\u0441\\u0430\\u043c\\u044b\\u043c \\u043d\\u0435\\u0434\\u043e\\u043e\\u0446\\u0435\\u043d\\u0451\\u043d\\u043d\\u044b\\u043c \\u0440\\u043e\\u0441\\u0441\\u0438\\u0439\\u0441\\u043a\\u0438\\u043c \\u0445\\u043e\\u043a\\u043a\\u0435\\u0438\\u0441\\u0442\\u043e\\u043c \\u0432 \\u0438\\u0441\\u0442\\u043e\\u0440\\u0438\\u0438 \\u041d\\u0425\\u041b. \\u041c\\u043d\\u043e\\u0433\\u0438\\u0435, \\u0432\\u043a\\u043b\\u044e\\u0447\\u0430\\u044f \\u043c\\u043d\\u043e\\u0433\\u043e\\u043b\\u0435\\u0442\\u043d\\u0435\\u0433\\u043e \\u0433\\u0435\\u043d\\u0435\\u0440\\u0430\\u043b\\u044c\\u043d\\u043e\\u0433\\u043e \\u043c\\u0435\\u043d\\u0435\\u0434\\u0436\\u0435\\u0440\\u0430 \\u00ab\\u041d\\u044c\\u044e-\\u0414\\u0436\\u0435\\u0440\\u0441\\u0438\\u00bb \\u041b\\u0443 \\u041b\\u0430\\u043c\\u043e\\u0440\\u0435\\u043b\\u043b\\u043e, \\u0446\\u0435\\u043d\\u0438\\u043b\\u0438 \\u0440\\u0430\\u0431\\u043e\\u0442\\u043e\\u0441\\u043f\\u043e\\u0441\\u043e\\u0431\\u043d\\u043e\\u0441\\u0442\\u044c \\u0438 \\u043e\\u0431\\u043e\\u0440\\u043e\\u043d\\u0438\\u0442\\u0435\\u043b\\u044c\\u043d\\u044b\\u0435 \\u043a\\u0430\\u0447\\u0435\\u0441\\u0442\\u0432\\u0430 \\u043d\\u0430\\u043f\\u0430\\u0434\\u0430\\u044e\\u0449\\u0435\\u0433\\u043e. \\u041e\\u043d \\u0442\\u0430\\u043a\\u0436\\u0435 \\u0441\\u0442\\u0430\\u043b \\u043b\\u0435\\u0433\\u0435\\u043d\\u0434\\u043e\\u0439 \\u00ab\\u0434\\u044c\\u044f\\u0432\\u043e\\u043b\\u043e\\u0432\\u00bb. \\u0421\\u0435\\u0440\\u0433\\u0435\\u0439 \\u0437\\u0430\\u043d\\u0438\\u043c\\u0430\\u0435\\u0442 11-\\u0435 \\u043c\\u0435\\u0441\\u0442\\u043e \\u0432 \\u0441\\u043f\\u0438\\u0441\\u043a\\u0435 \\u043b\\u0443\\u0447\\u0448\\u0438\\u0445 \\u0438\\u0433\\u0440\\u043e\\u043a\\u043e\\u0432 \\u043a\\u043b\\u0443\\u0431\\u0430 \\u043f\\u043e \\u043a\\u043e\\u043b\\u0438\\u0447\\u0435\\u0441\\u0442\\u0432\\u0443 \\u043c\\u0430\\u0442\\u0447\\u0435\\u0439 \\u043a\\u0430\\u043a \\u0432 \\u0440\\u0435\\u0433\\u0443\\u043b\\u044f\\u0440\\u043a\\u0430\\u0445, \\u0442\\u0430\\u043a \\u0438 \\u0432 \\u043f\\u043b\\u0435\\u0439-\\u043e\\u0444\\u0444, 18-\\u0435 \\u2014 \\u043f\\u043e \\u0433\\u043e\\u043b\\u0430\\u043c (17-\\u0435 \\u0432 \\u043f\\u043b\\u0435\\u0439-\\u043e\\u0444\\u0444), 19-\\u0435 \\u2014 \\u043f\\u043e \\u043f\\u0435\\u0440\\u0435\\u0434\\u0430\\u0447\\u0430\\u043c (\\u0438 \\u0432 \\u0440\\u0435\\u0433\\u0443\\u043b\\u044f\\u0440\\u043a\\u0430\\u0445, \\u0438 \\u0432 \\u043f\\u043b\\u0435\\u0439-\\u043e\\u0444\\u0444) \\u0438 20-\\u0435 \\u043f\\u043e \\u043e\\u0447\\u043a\\u0430\\u043c (18-\\u0435 \\u0432 \\u043f\\u043b\\u0435\\u0439-\\u043e\\u0444\\u0444). \\u0418 \\u044d\\u0442\\u043e \\u2014 \\u043e\\u0431\\u043e\\u0440\\u043e\\u043d\\u0438\\u0442\\u0435\\u043b\\u044c\\u043d\\u044b\\u0439 \\u0444\\u043e\\u0440\\u0432\\u0430\\u0440\\u0434!\\n\\u0421\\u0440\\u0435\\u0434\\u0438 \\u0440\\u043e\\u0441\\u0441\\u0438\\u0439\\u0441\\u043a\\u0438\\u0445 \\u0445\\u043e\\u043a\\u043a\\u0435\\u0438\\u0441\\u0442\\u043e\\u0432 \\u0411\\u0440\\u044b\\u043b\\u0438\\u043d \\u2014 25-\\u0439 \\u043f\\u043e \\u043a\\u043e\\u043b\\u0438\\u0447\\u0435\\u0441\\u0442\\u0432\\u0443 \\u043c\\u0430\\u0442\\u0447\\u0435\\u0439, 35-\\u0439 \\u2014 \\u043f\\u043e \\u0433\\u043e\\u043b\\u0430\\u043c, 39-\\u0439 \\u043f\\u043e \\u043e\\u0447\\u043a\\u0430\\u043c \\u0438 48-\\u0439 \\u2014 \\u043f\\u043e \\u043f\\u0435\\u0440\\u0435\\u0434\\u0430\\u0447\\u0430\\u043c. \\u0412 \\u043f\\u043b\\u0435\\u0439-\\u043e\\u0444\\u0444 \\u0441\\u0442\\u0430\\u0442\\u0438\\u0441\\u0442\\u0438\\u043a\\u0430 \\u0435\\u0449\\u0451 \\u043b\\u0443\\u0447\\u0448\\u0435. \\u0421\\u0435\\u0440\\u0433\\u0435\\u0439 \\u2014 14-\\u0439 \\u043f\\u043e \\u0432\\u0441\\u0442\\u0440\\u0435\\u0447\\u0430\\u043c, 20-\\u0439 \\u043f\\u043e \\u0448\\u0430\\u0439\\u0431\\u0430\\u043c, 22-\\u0439 \\u043f\\u043e \\u0431\\u0430\\u043b\\u043b\\u0430\\u043c \\u0438 29-\\u0439 \\u043f\\u043e \\u0430\\u0441\\u0441\\u0438\\u0441\\u0442\\u0430\\u043c.\\n\\u041d\\u0443 \\u0438 \\u043d\\u0435 \\u0431\\u0443\\u0434\\u0435\\u043c \\u0437\\u0430\\u0431\\u044b\\u0432\\u0430\\u0442\\u044c, \\u0447\\u0442\\u043e \\u0435\\u043c\\u0443 \\u0442\\u0430\\u043a\\u0436\\u0435 \\u043f\\u0440\\u0438\\u043d\\u0430\\u0434\\u043b\\u0435\\u0436\\u0430\\u0442 \\u0442\\u0440\\u0438 \\u041a\\u0443\\u0431\\u043a\\u0430 \\u0421\\u0442\\u044d\\u043d\\u043b\\u0438 \\u0438 \\u0437\\u0432\\u0430\\u043d\\u0438\\u0435 \\u043e\\u0434\\u043d\\u043e\\u0433\\u043e \\u0438\\u0437 \\u043b\\u0443\\u0447\\u0448\\u0438\\u0445 \\u043e\\u0431\\u043e\\u0440\\u043e\\u043d\\u0438\\u0442\\u0435\\u043b\\u044c\\u043d\\u044b\\u0445 \\u043d\\u0430\\u043f\\u0430\\u0434\\u0430\\u044e\\u0449\\u0438\\u0445 \\u0432 \\u0438\\u0441\\u0442\\u043e\\u0440\\u0438\\u0438 \\u0420\\u043e\\u0441\\u0441\\u0438\\u0438.\\n\\u041a\\u043b\\u0443\\u0431\\u044b: \\u00ab\\u0427\\u0438\\u043a\\u0430\\u0433\\u043e \\u0411\\u043b\\u044d\\u043a\\u0445\\u043e\\u0443\\u043a\\u0441\\u00bb, \\u00ab\\u041a\\u043e\\u043b\\u0430\\u043c\\u0431\\u0443\\u0441 \\u0411\\u043b\\u044e \\u0414\\u0436\\u0435\\u043a\\u0435\\u0442\\u0441\\u00bb, \\u00ab\\u041d\\u044c\\u044e-\\u0419\\u043e\\u0440\\u043a \\u0420\\u0435\\u0439\\u043d\\u0434\\u0436\\u0435\\u0440\\u0441\\u00bb (\\u0441 2015) \\u2014 9-\\u0439 \\u0441\\u0435\\u0437\\u043e\\u043d \\u0432 \\u041d\\u0425\\u041b\\n629 \\u043c\\u0430\\u0442\\u0447\\u0435\\u0439, 718 (242+476) \\u043e\\u0447\\u043a\\u043e\\u0432, \\u00ab+138\\u00bb \\u2014 \\u0432 \\u0440\\u0435\\u0433\\u0443\\u043b\\u044f\\u0440\\u043d\\u044b\\u0445 \\u0447\\u0435\\u043c\\u043f\\u0438\\u043e\\u043d\\u0430\\u0442\\u0430\\u0445 57 \\u043c\\u0430\\u0442\\u0447\\u0435\\u0439, 46 (16+30) \\u043e\\u0447\\u043a\\u043e\\u0432, \\u00ab-16\\u00bb \\u2014 \\u0432 \\u043f\\u043b\\u0435\\u0439-\\u043e\\u0444\\u0444\\n\\u041d\\u0430\\u043f\\u0430\\u0434\\u0430\\u044e\\u0449\\u0438\\u0439 \\u043d\\u0435 \\u0431\\u044b\\u043b \\u0437\\u0430\\u0434\\u0440\\u0430\\u0444\\u0442\\u043e\\u0432\\u0430\\u043d \\u2014 \\u043f\\u0440\\u043e\\u0431\\u0438\\u043b\\u0441\\u044f \\u0432 \\u041d\\u0425\\u041b \\u0441\\u0432\\u043e\\u0438\\u043c\\u0438 \\u0441\\u0438\\u043b\\u0430\\u043c\\u0438. \\u041f\\u043e\\u0441\\u043b\\u0435 \\u044f\\u0440\\u043a\\u043e\\u0439 \\u0438\\u0433\\u0440\\u044b \\u0432 \\u041a\\u0425\\u041b 23-\\u043b\\u0435\\u0442\\u043d\\u0438\\u0439 \\u041f\\u0430\\u043d\\u0430\\u0440\\u0438\\u043d \\u043f\\u043e\\u0434\\u043f\\u0438\\u0441\\u0430\\u043b \\u043a\\u043e\\u043d\\u0442\\u0440\\u0430\\u043a\\u0442 \\u0441 \\u00ab\\u0427\\u0438\\u043a\\u0430\\u0433\\u043e\\u00bb \\u043d\\u0430 \\u0434\\u0432\\u0430 \\u0433\\u043e\\u0434\\u0430. \\u042d\\u0442\\u043e \\u043f\\u0440\\u043e\\u0438\\u0437\\u043e\\u0448\\u043b\\u043e \\u0432 2015-\\u043c.\\n\\u0410\\u0440\\u0442\\u0435\\u043c\\u0438\\u0439 \\u0441\\u0440\\u0430\\u0437\\u0443 \\u043f\\u043e\\u043b\\u0443\\u0447\\u0438\\u043b \\u0432\\u0441\\u0435 \\u0443\\u0441\\u043b\\u043e\\u0432\\u0438\\u044f \\u0434\\u043b\\u044f \\u043f\\u0440\\u043e\\u0433\\u0440\\u0435\\u0441\\u0441\\u0430 \\u2014 \\u0435\\u0433\\u043e \\u043e\\u0442\\u0440\\u044f\\u0434\\u0438\\u043b\\u0438 \\u0432 \\u0437\\u0432\\u0435\\u043d\\u043e \\u043a \\u0441\\u0430\\u043c\\u043e\\u043c\\u0443 \\u041f\\u0430\\u0442\\u0440\\u0438\\u043a\\u0443 \\u041a\\u0435\\u0439\\u043d\\u0443 \\u0438 \\u0410\\u0440\\u0442\\u0451\\u043c\\u0443 \\u0410\\u043d\\u0438\\u0441\\u0438\\u043c\\u043e\\u0432\\u0443. \\u0425\\u043b\\u0435\\u0431\\u0443\\u0448\\u0435\\u043a \\u0437\\u0430\\u0431\\u0440\\u043e\\u0441\\u0438\\u043b \\u0448\\u0430\\u0439\\u0431\\u0443 \\u0432 \\u0434\\u0435\\u0431\\u044e\\u0442\\u043d\\u043e\\u043c \\u043c\\u0430\\u0442\\u0447\\u0435 \\u2014 \\u0432\\u043e \\u0432\\u0441\\u0442\\u0440\\u0435\\u0447\\u0435 \\u0441 \\u00ab\\u0420\\u0435\\u0439\\u043d\\u0434\\u0436\\u0435\\u0440\\u0441\\u00bb. \\u0412 \\u0438\\u0445 \\u0436\\u0435 \\u0432\\u043e\\u0440\\u043e\\u0442\\u0430 \\u043d\\u0430\\u043f\\u0430\\u0434\\u0430\\u044e\\u0449\\u0438\\u0439 \\u043e\\u0444\\u043e\\u0440\\u043c\\u0438\\u043b \\u0441\\u0432\\u043e\\u0439 \\u043f\\u0435\\u0440\\u0432\\u044b\\u0439 \\u0445\\u0435\\u0442-\\u0442\\u0440\\u0438\\u043a \\u0432 \\u0444\\u0435\\u0432\\u0440\\u0430\\u043b\\u0435 2016-\\u0433\\u043e. \\u0412 \\u0434\\u0435\\u0431\\u044e\\u0442\\u043d\\u043e\\u043c \\u0441\\u0435\\u0437\\u043e\\u043d\\u0435 \\u041f\\u0430\\u043d\\u0430\\u0440\\u0438\\u043d \\u043d\\u0430\\u0431\\u0440\\u0430\\u043b 77 (30+47) \\u043e\\u0447\\u043a\\u043e\\u0432 \\u0432 80 \\u043c\\u0430\\u0442\\u0447\\u0430\\u0445 \\u0438 \\u0432\\u044b\\u0438\\u0433\\u0440\\u0430\\u043b \\u00ab\\u041a\\u043e\\u043b\\u0434\\u0435\\u0440 \\u0422\\u0440\\u043e\\u0444\\u0438\\u00bb.\\n\\u0412 \\u043a\\u0430\\u043c\\u043f\\u0430\\u043d\\u0438\\u0438-2017/2018 \\u0410\\u0440\\u0442\\u0435\\u043c\\u0438\\u0439, \\u0443\\u0436\\u0435 \\u0432\\u044b\\u0441\\u0442\\u0443\\u043f\\u0430\\u044f \\u0437\\u0430 \\u00ab\\u041a\\u043e\\u043b\\u0430\\u043c\\u0431\\u0443\\u0441\\u00bb, \\u043f\\u043e\\u0431\\u0438\\u043b \\u043a\\u043b\\u0443\\u0431\\u043d\\u044b\\u0439 \\u0440\\u0435\\u043a\\u043e\\u0440\\u0434 \\u043f\\u043e \\u043a\\u043e\\u043b\\u0438\\u0447\\u0435\\u0441\\u0442\\u0432\\u0443 \\u043e\\u0447\\u043a\\u043e\\u0432 \\u0437\\u0430 \\u0441\\u0435\\u0437\\u043e\\u043d \\u2014 82. \\u0412 \\u043f\\u0435\\u0440\\u0432\\u043e\\u043c \\u0436\\u0435 \\u0441\\u0435\\u0437\\u043e\\u043d\\u0435 \\u0437\\u0430 \\u00ab\\u0420\\u0435\\u0439\\u043d\\u0434\\u0436\\u0435\\u0440\\u0441\\u00bb \\u0425\\u043b\\u0435\\u0431\\u0443\\u0448\\u0435\\u043a \\u043f\\u043e\\u043b\\u0443\\u0447\\u0438\\u043b \\u043d\\u0430\\u0448\\u0438\\u0432\\u043a\\u0443 \\u0430\\u043b\\u044c\\u0442\\u0435\\u0440\\u043d\\u0430\\u0442\\u0438\\u0432\\u043d\\u043e\\u0433\\u043e \\u043a\\u0430\\u043f\\u0438\\u0442\\u0430\\u043d\\u0430. \\u0427\\u0435\\u043c\\u043f\\u0438\\u043e\\u043d\\u0430\\u0442-2021/2022 \\u043f\\u043e\\u043a\\u0430 \\u0447\\u0442\\u043e \\u044f\\u0432\\u043b\\u044f\\u0435\\u0442\\u0441\\u044f \\u0434\\u043b\\u044f \\u0440\\u043e\\u0441\\u0441\\u0438\\u044f\\u043d\\u0438\\u043d\\u0430 \\u043b\\u0443\\u0447\\u0448\\u0438\\u043c \\u0432 \\u043a\\u0430\\u0440\\u044c\\u0435\\u0440\\u0435 \\u2014 96 (22+74) \\u043e\\u0447\\u043a\\u043e\\u0432 \\u0432 75 \\u043c\\u0430\\u0442\\u0447\\u0430\\u0445. \\u0425\\u043e\\u0442\\u044f \\u0432 \\u0441\\u0435\\u0437\\u043e\\u043d\\u0435-2023/2024 \\u043e\\u043d \\u0432\\u043f\\u043e\\u043b\\u043d\\u0435 \\u043c\\u043e\\u0436\\u0435\\u0442 \\u043f\\u043e\\u0431\\u0438\\u0442\\u044c \\u044d\\u0442\\u043e\\u0442 \\u043b\\u0438\\u0447\\u043d\\u044b\\u0439 \\u0440\\u0435\\u043a\\u043e\\u0440\\u0434.\\n\\u0425\\u043e\\u0442\\u044c \\u041f\\u0430\\u043d\\u0430\\u0440\\u0438\\u043d\\u0430 \\u0438 \\u043a\\u0440\\u0438\\u0442\\u0438\\u043a\\u0443\\u044e\\u0442 \\u0437\\u0430 \\u043d\\u0435\\u0432\\u0437\\u0440\\u0430\\u0447\\u043d\\u0443\\u044e \\u0438\\u0433\\u0440\\u0443 \\u0432 \\u043f\\u043b\\u0435\\u0439-\\u043e\\u0444\\u0444, \\u043d\\u0430\\u043f\\u0430\\u0434\\u0430\\u044e\\u0449\\u0438\\u0439 \\u0438\\u0437\\u0432\\u0435\\u0441\\u0442\\u0435\\u043d \\u0441\\u0432\\u043e\\u0438\\u043c\\u0438 \\u044f\\u0440\\u043a\\u0438\\u043c\\u0438 \\u043f\\u0435\\u0440\\u0444\\u043e\\u0440\\u043c\\u0430\\u043d\\u0441\\u0430\\u043c\\u0438, \\u0448\\u0438\\u043a\\u0430\\u0440\\u043d\\u044b\\u043c\\u0438 \\u043f\\u0435\\u0440\\u0435\\u0434\\u0430\\u0447\\u0430\\u043c\\u0438 \\u0438 \\u043b\\u0438\\u0434\\u0435\\u0440\\u0441\\u043a\\u0438\\u043c\\u0438 \\u043a\\u0430\\u0447\\u0435\\u0441\\u0442\\u0432\\u0430\\u043c\\u0438. \\u041d\\u0443 \\u0438, \\u043a\\u043e\\u043d\\u0435\\u0447\\u043d\\u043e \\u0436\\u0435, \\u0434\\u043e\\u0431\\u0440\\u044b\\u043c \\u0441\\u0435\\u0440\\u0434\\u0446\\u0435\\u043c \\u0438 \\u043b\\u044e\\u0431\\u043e\\u0432\\u044c\\u044e \\u043a \\u0448\\u0443\\u0442\\u043a\\u0430\\u043c. \\u041a\\u0440\\u043e\\u043c\\u0435 \\u0442\\u043e\\u0433\\u043e, \\u0444\\u043e\\u0440\\u0432\\u0430\\u0440\\u0434 \\u2014 \\u043e\\u0434\\u0438\\u043d \\u0438\\u0437 \\u0441\\u0430\\u043c\\u044b\\u0445 \\u0442\\u0435\\u0445\\u043d\\u0438\\u0447\\u043d\\u044b\\u0445, \\u043d\\u0435\\u0441\\u0442\\u0430\\u043d\\u0434\\u0430\\u0440\\u0442\\u043d\\u044b\\u0445 \\u0438 \\u043a\\u0440\\u0435\\u0430\\u0442\\u0438\\u0432\\u043d\\u044b\\u0445 \\u0445\\u043e\\u043a\\u043a\\u0435\\u0438\\u0441\\u0442\\u043e\\u0432 \\u0432 \\u0438\\u0441\\u0442\\u043e\\u0440\\u0438\\u0438 \\u0440\\u043e\\u0441\\u0441\\u0438\\u0439\\u0441\\u043a\\u043e\\u0433\\u043e \\u0445\\u043e\\u043a\\u043a\\u0435\\u044f. \\u0412\\u043e\\u0437\\u043c\\u043e\\u0436\\u043d\\u043e, \\u043e\\u043d \\u0434\\u0430\\u0436\\u0435 \\u0432\\u0445\\u043e\\u0434\\u0438\\u0442 \\u0432 \\u0442\\u043e\\u043f-3 \\u2014 \\u0441\\u0440\\u0430\\u0437\\u0443 \\u043f\\u043e\\u0441\\u043b\\u0435 \\u0415\\u0432\\u0433\\u0435\\u043d\\u0438\\u044f \\u041a\\u0443\\u0437\\u043d\\u0435\\u0446\\u043e\\u0432\\u0430 \\u0438 \\u041f\\u0430\\u0432\\u043b\\u0430 \\u0414\\u0430\\u0446\\u044e\\u043a\\u0430.\\n\\u0410\\u0440\\u0442\\u0435\\u043c\\u0438\\u0439 \\u0443\\u0436\\u0435 \\u0437\\u0430\\u043d\\u0438\\u043c\\u0430\\u0435\\u0442 11-\\u0435 \\u043c\\u0435\\u0441\\u0442\\u043e \\u0441\\u0440\\u0435\\u0434\\u0438 \\u0432\\u0441\\u0435\\u0445 \\u0440\\u043e\\u0441\\u0441\\u0438\\u0439\\u0441\\u043a\\u0438\\u0445 \\u0445\\u043e\\u043a\\u043a\\u0435\\u0438\\u0441\\u0442\\u043e\\u0432 \\u043f\\u043e \\u043a\\u043e\\u043b\\u0438\\u0447\\u0435\\u0441\\u0442\\u0432\\u0443 \\u0430\\u0441\\u0441\\u0438\\u0441\\u0442\\u043e\\u0432, 14-\\u0435 \\u2014 \\u043f\\u043e \\u0433\\u043e\\u043b\\u0430\\u043c, 15-\\u0435 \\u2014 \\u043f\\u043e \\u043e\\u0447\\u043a\\u0430\\u043c \\u0438 45-\\u0435 \\u2014 \\u043f\\u043e \\u043c\\u0430\\u0442\\u0447\\u0430\\u043c. \\u0421\\u0440\\u0435\\u0434\\u0438 \\u0434\\u0435\\u0439\\u0441\\u0442\\u0432\\u0443\\u044e\\u0449\\u0438\\u0445 \\u0440\\u043e\\u0441\\u0441\\u0438\\u044f\\u043d \\u043e\\u043d \\u0447\\u0435\\u0442\\u0432\\u0451\\u0440\\u0442\\u044b\\u0439 \\u043f\\u043e \\u0431\\u0430\\u043b\\u043b\\u0430\\u043c \\u0438 \\u043f\\u0435\\u0440\\u0435\\u0434\\u0430\\u0447\\u0430\\u043c, \\u0430 \\u0442\\u0430\\u043a\\u0436\\u0435 \\u043f\\u044f\\u0442\\u044b\\u0439 \\u043f\\u043e \\u0448\\u0430\\u0439\\u0431\\u0430\\u043c. \\u0418, \\u043a\\u0430\\u0436\\u0435\\u0442\\u0441\\u044f, \\u044d\\u0442\\u043e \\u0434\\u0430\\u043b\\u0435\\u043a\\u043e \\u043d\\u0435 \\u0432\\u0441\\u0451, \\u0447\\u0442\\u043e \\u0425\\u043b\\u0435\\u0431\\u0443\\u0448\\u0435\\u043a \\u043f\\u043e\\u043a\\u0430\\u0437\\u0430\\u043b \\u0432 \\u041d\\u0425\\u041b.\\n\\u041a\\u043b\\u0443\\u0431\\u044b: \\u00ab\\u041d\\u044c\\u044e-\\u0419\\u043e\\u0440\\u043a \\u0420\\u0435\\u0439\\u043d\\u0434\\u0436\\u0435\\u0440\\u0441\\u00bb, \\u00ab\\u041f\\u0438\\u0442\\u0442\\u0441\\u0431\\u0443\\u0440\\u0433 \\u041f\\u0438\\u043d\\u0433\\u0432\\u0438\\u043d\\u0437\\u00bb, \\u00ab\\u041c\\u043e\\u043d\\u0440\\u0435\\u0430\\u043b\\u044c \\u041a\\u0430\\u043d\\u0430\\u0434\\u0438\\u0435\\u043d\\u0441\\u00bb, \\u00ab\\u041e\\u0442\\u0442\\u0430\\u0432\\u0430 \\u0421\\u0435\\u043d\\u0430\\u0442\\u043e\\u0440\\u0437\\u00bb, \\u00ab\\u0424\\u043b\\u043e\\u0440\\u0438\\u0434\\u0430 \\u041f\\u0430\\u043d\\u0442\\u0435\\u0440\\u0437\\u00bb (1992\\u20142013, \\u0437\\u0430 \\u0438\\u0441\\u043a\\u043b\\u044e\\u0447\\u0435\\u043d\\u0438\\u0435\\u043c \\u0441\\u0435\\u0437\\u043e\\u043d\\u043e\\u0432-1994/1995, 2004/2005 \\u0438 2011/2012) \\u2014 19 \\u0441\\u0435\\u0437\\u043e\\u043d\\u043e\\u0432 \\u0432 \\u041d\\u0425\\u041b\\n1316 \\u043c\\u0430\\u0442\\u0447\\u0435\\u0439, 1029 (430+599) \\u043e\\u0447\\u043a\\u043e\\u0432, \\u00ab-31\\u00bb \\u2014 \\u0432 \\u0440\\u0435\\u0433\\u0443\\u043b\\u044f\\u0440\\u043d\\u044b\\u0445 \\u0447\\u0435\\u043c\\u043f\\u0438\\u043e\\u043d\\u0430\\u0442\\u0430\\u0445 123 \\u043c\\u0430\\u0442\\u0447\\u0430, 100 (45+55) \\u043e\\u0447\\u043a\\u043e\\u0432, \\u00ab+2\\u00bb \\u2014 \\u0432 \\u043f\\u043b\\u0435\\u0439-\\u043e\\u0444\\u0444\\n\\u0412 1991-\\u043c \\u043d\\u0430\\u043f\\u0430\\u0434\\u0430\\u044e\\u0449\\u0435\\u0433\\u043e \\u0437\\u0430\\u0434\\u0440\\u0430\\u0444\\u0442\\u043e\\u0432\\u0430\\u043b\\u0438 \\u00ab\\u0420\\u0435\\u0439\\u043d\\u0434\\u0436\\u0435\\u0440\\u0441\\u00bb \\u0432 \\u043f\\u0435\\u0440\\u0432\\u043e\\u043c \\u0440\\u0430\\u0443\\u043d\\u0434\\u0435 \\u043f\\u043e\\u0434 \\u043e\\u0431\\u0449\\u0438\\u043c 15-\\u043c \\u043d\\u043e\\u043c\\u0435\\u0440\\u043e\\u043c. \\u0427\\u0435\\u0440\\u0435\\u0437 \\u0433\\u043e\\u0434 19-\\u043b\\u0435\\u0442\\u043d\\u0438\\u0439 \\u041a\\u043e\\u0432\\u0430\\u043b\\u0451\\u0432 \\u043f\\u0440\\u0438\\u0441\\u043e\\u0435\\u0434\\u0438\\u043d\\u0438\\u043b\\u0441\\u044f \\u043a \\u00ab\\u041d\\u044c\\u044e-\\u0419\\u043e\\u0440\\u043a\\u0443\\u00bb.\\n\\u0424\\u043e\\u0440\\u0432\\u0430\\u0440\\u0434 \\u043f\\u0440\\u043e\\u0432\\u0451\\u043b \\u043e\\u0434\\u0438\\u043d \\u0438\\u0437 \\u043b\\u0443\\u0447\\u0448\\u0438\\u0445 \\u0438 \\u0441\\u0430\\u043c\\u044b\\u0439 \\u0443\\u0441\\u043f\\u0435\\u0448\\u043d\\u044b\\u0439 \\u0441\\u0435\\u0437\\u043e\\u043d \\u0432 \\u043a\\u0430\\u0440\\u044c\\u0435\\u0440\\u0435 \\u0432\\u0441\\u0435\\u0433\\u043e \\u0441\\u043f\\u0443\\u0441\\u0442\\u044f \\u0432\\u0441\\u0435\\u0433\\u043e \\u0434\\u0432\\u0430 \\u0433\\u043e\\u0434\\u0430 \\u043f\\u043e\\u0441\\u043b\\u0435 \\u0434\\u0435\\u0431\\u044e\\u0442\\u0430. \\u0412 \\u0440\\u0435\\u0433\\u0443\\u043b\\u044f\\u0440\\u043d\\u043e\\u043c \\u0447\\u0435\\u043c\\u043f\\u0438\\u043e\\u043d\\u0430\\u0442\\u0435 \\u041a\\u043e\\u0432\\u0430\\u043b\\u0451\\u0432 \\u043d\\u0430\\u0431\\u0440\\u0430\\u043b 56 (23+33) \\u043e\\u0447\\u043a\\u043e\\u0432 \\u0432 76 \\u043c\\u0430\\u0442\\u0447\\u0430\\u0445, \\u0441\\u0442\\u0430\\u0432 \\u043f\\u044f\\u0442\\u044b\\u043c \\u0441\\u043d\\u0430\\u0439\\u043f\\u0435\\u0440\\u043e\\u043c \\u0438 \\u0430\\u0441\\u0441\\u0438\\u0441\\u0442\\u0435\\u043d\\u0442\\u043e\\u043c, \\u0430 \\u0442\\u0430\\u043a\\u0436\\u0435 \\u0448\\u0435\\u0441\\u0442\\u044b\\u043c \\u0431\\u043e\\u043c\\u0431\\u0430\\u0440\\u0434\\u0438\\u0440\\u043e\\u043c \\u00ab\\u0420\\u0435\\u0439\\u043d\\u0434\\u0436\\u0435\\u0440\\u0441\\u00bb. \\u041d\\u043e \\u0433\\u043b\\u0430\\u0432\\u043d\\u043e\\u0435 \\u0441\\u043b\\u0443\\u0447\\u0438\\u043b\\u043e\\u0441\\u044c \\u0432 \\u043f\\u043b\\u0435\\u0439-\\u043e\\u0444\\u0444. \\u0410\\u043b\\u0435\\u043a\\u0441\\u0435\\u0439 \\u043f\\u043e\\u043c\\u043e\\u0433 \\u00ab\\u041d\\u044c\\u044e-\\u0419\\u043e\\u0440\\u043a\\u0443\\u00bb \\u0432\\u0437\\u044f\\u0442\\u044c \\u041a\\u0443\\u0431\\u043e\\u043a \\u0421\\u0442\\u044d\\u043d\\u043b\\u0438! \\u0420\\u043e\\u0441\\u0441\\u0438\\u044f\\u043d\\u0438\\u043d \\u0441 21 (9+12) \\u0431\\u0430\\u043b\\u043b\\u043e\\u043c \\u0432 23 \\u0432\\u0441\\u0442\\u0440\\u0435\\u0447\\u0430\\u0445 \\u0441\\u0442\\u0430\\u043b \\u0442\\u0440\\u0435\\u0442\\u044c\\u0438\\u043c \\u0431\\u043e\\u043c\\u0431\\u0430\\u0440\\u0434\\u0438\\u0440\\u043e\\u043c, \\u0430 \\u0442\\u0430\\u043a\\u0436\\u0435 \\u0447\\u0435\\u0442\\u0432\\u0451\\u0440\\u0442\\u044b\\u043c \\u0441\\u043d\\u0430\\u0439\\u043f\\u0435\\u0440\\u043e\\u043c \\u0438 \\u0430\\u0441\\u0441\\u0438\\u0441\\u0442\\u0435\\u043d\\u0442\\u043e\\u043c \\u00ab\\u0440\\u0435\\u0439\\u043d\\u0434\\u0436\\u0435\\u0440\\u043e\\u0432\\u00bb \\u0432 \\u0440\\u043e\\u0437\\u044b\\u0433\\u0440\\u044b\\u0448\\u0435.\\n\\u041f\\u0440\\u0438\\u0447\\u0451\\u043c \\u041a\\u043e\\u0432\\u0430\\u043b\\u0451\\u0432 \\u0432\\u043d\\u0451\\u0441 \\u0432\\u0430\\u0436\\u043d\\u044b\\u0439 \\u0432\\u043a\\u043b\\u0430\\u0434 \\u0432 \\u043f\\u043e\\u0431\\u0435\\u0434\\u0443 \\u043a\\u043e\\u043c\\u0430\\u043d\\u0434\\u044b. \\u0412 \\u043f\\u0435\\u0440\\u0432\\u043e\\u043c \\u0440\\u0430\\u0443\\u043d\\u0434\\u0435 \\u0441 \\u00ab\\u0410\\u0439\\u043b\\u0435\\u043d\\u0434\\u0435\\u0440\\u0441\\u00bb \\u043d\\u0430\\u043f\\u0430\\u0434\\u0430\\u044e\\u0449\\u0438\\u0439 \\u0437\\u0430\\u0431\\u0438\\u0432\\u0430\\u043b \\u0432 \\u043a\\u0430\\u0436\\u0434\\u043e\\u043c \\u0438\\u0437 \\u0447\\u0435\\u0442\\u044b\\u0440\\u0451\\u0445 \\u043c\\u0430\\u0442\\u0447\\u0435\\u0439, \\u0432\\u043a\\u043b\\u044e\\u0447\\u0430\\u044f \\u043e\\u0434\\u0438\\u043d \\u043f\\u043e\\u0431\\u0435\\u0434\\u043d\\u044b\\u0439 \\u0433\\u043e\\u043b. \\u0418 \\u0445\\u043e\\u0442\\u044c \\u0432 \\u0441\\u043b\\u0435\\u0434\\u0443\\u044e\\u0449\\u0438\\u0445 \\u0434\\u0432\\u0443\\u0445 \\u0441\\u0435\\u0440\\u0438\\u044f\\u0445 \\u2014 \\u0441 \\u00ab\\u0412\\u0430\\u0448\\u0438\\u043d\\u0433\\u0442\\u043e\\u043d\\u043e\\u043c\\u00bb \\u0438 \\u00ab\\u041d\\u044c\\u044e-\\u0414\\u0436\\u0435\\u0440\\u0441\\u0438\\u00bb \\u2014 \\u0440\\u043e\\u0441\\u0441\\u0438\\u044f\\u043d\\u0438\\u043d \\u0437\\u0430\\u043f\\u0438\\u0441\\u0430\\u043b \\u043d\\u0430 \\u0441\\u0432\\u043e\\u0439 \\u0441\\u0447\\u0451\\u0442 \\u043b\\u0438\\u0448\\u044c \\u043e\\u0434\\u043d\\u0443 \\u0448\\u0430\\u0439\\u0431\\u0443, \\u0432 \\u0444\\u0438\\u043d\\u0430\\u043b\\u0435 \\u0441 \\u00ab\\u0412\\u0430\\u043d\\u043a\\u0443\\u0432\\u0435\\u0440\\u043e\\u043c\\u00bb \\u0444\\u043e\\u0440\\u0432\\u0430\\u0440\\u0434 \\u0437\\u0430\\u0431\\u0438\\u043b \\u0447\\u0435\\u0442\\u044b\\u0440\\u0435\\u0436\\u0434\\u044b. \\u0412 \\u0442\\u043e\\u043c \\u0447\\u0438\\u0441\\u043b\\u0435 \\u0438 \\u043f\\u043e\\u0431\\u0435\\u0434\\u043d\\u044b\\u0439 \\u0433\\u043e\\u043b \\u0432 \\u0442\\u0440\\u0435\\u0442\\u044c\\u0435\\u0439 \\u0432\\u0441\\u0442\\u0440\\u0435\\u0447\\u0435! \\u0412 \\u0438\\u0442\\u043e\\u0433\\u0435 \\u0410\\u043b\\u0435\\u043a\\u0441\\u0435\\u0439 \\u0441\\u0442\\u0430\\u043b \\u043f\\u0435\\u0440\\u0432\\u044b\\u043c \\u043e\\u0431\\u043b\\u0430\\u0434\\u0430\\u0442\\u0435\\u043b\\u0435\\u043c \\u041a\\u0443\\u0431\\u043a\\u0430 \\u0421\\u0442\\u044d\\u043d\\u043b\\u0438 \\u0438\\u0437 \\u0420\\u043e\\u0441\\u0441\\u0438\\u0438 (\\u043d\\u0430\\u0440\\u044f\\u0434\\u0443 \\u0441 \\u043e\\u0434\\u043d\\u043e\\u043a\\u043b\\u0443\\u0431\\u043d\\u0438\\u043a\\u0430\\u043c\\u0438 \\u0410\\u043b\\u0435\\u043a\\u0441\\u0430\\u043d\\u0434\\u0440\\u043e\\u043c \\u041a\\u0430\\u0440\\u043f\\u043e\\u0432\\u0446\\u0435\\u0432\\u044b\\u043c, \\u0421\\u0435\\u0440\\u0433\\u0435\\u0435\\u043c \\u0417\\u0443\\u0431\\u043e\\u0432\\u044b\\u043c \\u0438 \\u0421\\u0435\\u0440\\u0433\\u0435\\u0435\\u043c \\u041d\\u0435\\u043c\\u0447\\u0438\\u043d\\u043e\\u0432\\u044b\\u043c).\\n\\u041d\\u0430 \\u0441\\u0435\\u0434\\u044c\\u043c\\u043e\\u0439 \\u0433\\u043e\\u0434 \\u0432 \\u041d\\u0425\\u041b \\u041a\\u043e\\u0432\\u0430\\u043b\\u0451\\u0432 \\u043f\\u0435\\u0440\\u0435\\u0431\\u0440\\u0430\\u043b\\u0441\\u044f \\u0432 \\u00ab\\u041f\\u0438\\u0442\\u0442\\u0441\\u0431\\u0443\\u0440\\u0433\\u00bb, \\u0432 \\u043a\\u043e\\u0442\\u043e\\u0440\\u043e\\u043c \\u0434\\u043e\\u0440\\u043e\\u0441 \\u0434\\u043e \\u043d\\u0430\\u0448\\u0438\\u0432\\u043a\\u0438 \\u0430\\u043b\\u044c\\u0442\\u0435\\u0440\\u043d\\u0430\\u0442\\u0438\\u0432\\u043d\\u043e\\u0433\\u043e \\u043a\\u0430\\u043f\\u0438\\u0442\\u0430\\u043d\\u0430. \\u0410\\u043b\\u0435\\u043a\\u0441\\u0435\\u0439 \\u043f\\u043e\\u0438\\u0433\\u0440\\u0430\\u043b \\u0437\\u0430 \\u043b\\u0435\\u0433\\u0435\\u043d\\u0434\\u0430\\u0440\\u043d\\u044b\\u0445 \\u00ab\\u043f\\u0438\\u043d\\u0433\\u0432\\u0438\\u043d\\u043e\\u0432\\u00bb \\u2014 \\u0441 \\u041c\\u0430\\u0440\\u0438\\u043e \\u041b\\u0435\\u043c\\u044c\\u0435 \\u0438 \\u042f\\u0440\\u043e\\u043c\\u0438\\u0440\\u043e\\u043c \\u042f\\u0433\\u0440\\u043e\\u043c. \\u0418 \\u0434\\u0430\\u0436\\u0435 \\u0432 \\u0442\\u0430\\u043a\\u043e\\u0439 \\u043a\\u043e\\u043c\\u043f\\u0430\\u043d\\u0438\\u0438 \\u043d\\u0435 \\u0437\\u0430\\u0442\\u0435\\u0440\\u044f\\u043b\\u0441\\u044f. \\u0412 \\u0441\\u0435\\u0437\\u043e\\u043d\\u0435-2000/2001 \\u043d\\u0430\\u043f\\u0430\\u0434\\u0430\\u044e\\u0449\\u0438\\u0439 \\u0441\\u0442\\u0430\\u043b \\u0447\\u0435\\u0442\\u0432\\u0451\\u0440\\u0442\\u044b\\u043c \\u0431\\u043e\\u043c\\u0431\\u0430\\u0440\\u0434\\u0438\\u0440\\u043e\\u043c \\u0447\\u0435\\u043c\\u043f\\u0438\\u043e\\u043d\\u0430\\u0442\\u0430 \\u0438 \\u0432\\u0442\\u043e\\u0440\\u044b\\u043c \\u0432 \\u043a\\u043e\\u043c\\u0430\\u043d\\u0434\\u0435. \\u041a\\u043e\\u0432\\u0430\\u043b\\u0451\\u0432 \\u043d\\u0430\\u0431\\u0440\\u0430\\u043b \\u043a\\u043e\\u0441\\u043c\\u0438\\u0447\\u0435\\u0441\\u043a\\u0438\\u0435 95 (44+51) \\u043e\\u0447\\u043a\\u043e\\u0432 \\u0432 79 \\u043c\\u0430\\u0442\\u0447\\u0430\\u0445, \\u0443\\u0441\\u0442\\u0443\\u043f\\u0438\\u0432 \\u0442\\u043e\\u043b\\u044c\\u043a\\u043e \\u041f\\u0430\\u0442\\u0440\\u0438\\u043a\\u0443 \\u042d\\u043b\\u0438\\u0430\\u0448\\u0443 (96), \\u0414\\u0436\\u043e \\u0421\\u0430\\u043a\\u0438\\u043a\\u0443 (118) \\u0438 \\u042f\\u0433\\u0440\\u0443 (121).\\n\\u0410\\u043b\\u0435\\u043a\\u0441\\u0435\\u0439 \\u0437\\u0430\\u043f\\u043e\\u043c\\u043d\\u0438\\u043b\\u0441\\u044f \\u043a\\u0430\\u043a \\u043e\\u0434\\u0438\\u043d \\u0438\\u0437 \\u0441\\u0430\\u043c\\u044b\\u0445 \\u043e\\u0434\\u0430\\u0440\\u0451\\u043d\\u043d\\u044b\\u0445 \\u0445\\u043e\\u043a\\u043a\\u0435\\u0438\\u0441\\u0442\\u043e\\u0432 \\u0432 \\u0438\\u0441\\u0442\\u043e\\u0440\\u0438\\u0438 \\u043b\\u0438\\u0433\\u0438. \\u0418\\u043c\\u0435\\u043d\\u043d\\u043e \\u0431\\u043b\\u0430\\u0433\\u043e\\u0434\\u0430\\u0440\\u044f \\u044d\\u0442\\u043e\\u043c\\u0443 \\u0440\\u043e\\u0441\\u0441\\u0438\\u044f\\u043d\\u0438\\u043d \\u0432\\u0445\\u043e\\u0434\\u0438\\u0442 \\u0432 \\u0447\\u0438\\u0441\\u043b\\u043e 107 \\u0438\\u0433\\u0440\\u043e\\u043a\\u043e\\u0432, \\u043f\\u0440\\u043e\\u0432\\u0435\\u0434\\u0448\\u0438\\u0445 \\u043d\\u0435 \\u043c\\u0435\\u043d\\u0435\\u0435 19 \\u0441\\u0435\\u0437\\u043e\\u043d\\u043e\\u0432 \\u0432 \\u041d\\u0425\\u041b. \\u041d\\u0430\\u043f\\u0430\\u0434\\u0430\\u044e\\u0449\\u0438\\u0439 \\u0434\\u043e\\u043b\\u0433\\u043e\\u0435 \\u0432\\u0440\\u0435\\u043c\\u044f \\u0431\\u044b\\u043b \\u0440\\u0435\\u043a\\u043e\\u0440\\u0434\\u0441\\u043c\\u0435\\u043d\\u043e\\u043c \\u043b\\u0438\\u0433\\u0438 \\u043f\\u043e \\u043a\\u043e\\u043b\\u0438\\u0447\\u0435\\u0441\\u0442\\u0432\\u0443 \\u043c\\u0430\\u0442\\u0447\\u0435\\u0439 \\u0441\\u0440\\u0435\\u0434\\u0438 \\u0440\\u043e\\u0441\\u0441\\u0438\\u044f\\u043d \\u2014 \\u043f\\u043e\\u043a\\u0430 \\u0432 2023-\\u043c \\u0410\\u043b\\u0435\\u043a\\u0441\\u0430\\u043d\\u0434\\u0440 \\u041e\\u0432\\u0435\\u0447\\u043a\\u0438\\u043d \\u043d\\u0435 \\u043e\\u0431\\u043e\\u0448\\u0451\\u043b \\u0441\\u043e\\u043e\\u0442\\u0435\\u0447\\u0435\\u0441\\u0442\\u0432\\u0435\\u043d\\u043d\\u0438\\u043a\\u0430. \\u041a\\u043e\\u0432\\u0430\\u043b\\u0451\\u0432 \\u2014 \\u0441\\u0435\\u0434\\u044c\\u043c\\u043e\\u0439 \\u0441\\u0440\\u0435\\u0434\\u0438 \\u0440\\u043e\\u0441\\u0441\\u0438\\u044f\\u043d \\u0437\\u0430 \\u0432\\u0441\\u044e \\u0438\\u0441\\u0442\\u043e\\u0440\\u0438\\u044e \\u043f\\u043e \\u043a\\u043e\\u043b\\u0438\\u0447\\u0435\\u0441\\u0442\\u0432\\u0443 \\u0433\\u043e\\u043b\\u043e\\u0432, \\u0448\\u0435\\u0441\\u0442\\u043e\\u0439 \\u2014 \\u043f\\u043e \\u0430\\u0441\\u0441\\u0438\\u0441\\u0442\\u0430\\u043c \\u0438 \\u043f\\u044f\\u0442\\u044b\\u0439 \\u2014 \\u043f\\u043e \\u043e\\u0447\\u043a\\u0430\\u043c. \\u041a\\u0440\\u043e\\u043c\\u0435 \\u0442\\u043e\\u0433\\u043e, \\u043e\\u043d \\u043e\\u0434\\u0438\\u043d \\u0438\\u0437 \\u043f\\u044f\\u0442\\u0438 \\u0440\\u043e\\u0441\\u0441\\u0438\\u044f\\u043d, \\u0441\\u0443\\u043c\\u0435\\u0432\\u0448\\u0438\\u0445 \\u043f\\u0440\\u043e\\u0431\\u0438\\u0442\\u044c \\u043f\\u043b\\u0430\\u043d\\u043a\\u0443 \\u0432 1000 \\u0440\\u0435\\u0437\\u0443\\u043b\\u044c\\u0442\\u0430\\u0442\\u0438\\u0432\\u043d\\u044b\\u0445 \\u0431\\u0430\\u043b\\u043b\\u043e\\u0432.\\n\\u0424\\u043e\\u0440\\u0432\\u0430\\u0440\\u0434 \\u0442\\u0430\\u043a\\u0436\\u0435 \\u0437\\u0430\\u043d\\u0438\\u043c\\u0430\\u0435\\u0442 \\u043f\\u044f\\u0442\\u043e\\u0435 \\u043c\\u0435\\u0441\\u0442\\u043e \\u043f\\u043e \\u0448\\u0430\\u0439\\u0431\\u0430\\u043c \\u0432 \\u043f\\u043b\\u0435\\u0439-\\u043e\\u0444\\u0444 \\u0441\\u0440\\u0435\\u0434\\u0438 \\u0440\\u043e\\u0441\\u0441\\u0438\\u0439\\u0441\\u043a\\u0438\\u0445 \\u0445\\u043e\\u043a\\u043a\\u0435\\u0438\\u0441\\u0442\\u043e\\u0432, \\u0441\\u0435\\u0434\\u044c\\u043c\\u043e\\u0435 \\u2014 \\u043f\\u043e \\u043e\\u0447\\u043a\\u0430\\u043c, \\u0434\\u0435\\u0432\\u044f\\u0442\\u043e\\u0435 \\u2014 \\u043f\\u043e \\u0430\\u0441\\u0441\\u0438\\u0441\\u0442\\u0430\\u043c \\u0438 10-\\u0435 \\u2014 \\u043f\\u043e \\u0432\\u0441\\u0442\\u0440\\u0435\\u0447\\u0430\\u043c.\\n\\u041e\\u0433\\u0440\\u043e\\u043c\\u0435\\u043d \\u0432\\u043a\\u043b\\u0430\\u0434 \\u0410\\u043b\\u0435\\u043a\\u0441\\u0435\\u044f \\u0438 \\u0432 \\u0446\\u0435\\u043b\\u043e\\u043c \\u0432 \\u0438\\u0441\\u0442\\u043e\\u0440\\u0438\\u044e \\u041d\\u0425\\u041b. \\u041a\\u043e\\u0432\\u0430\\u043b\\u0451\\u0432 \\u0432\\u0445\\u043e\\u0434\\u0438\\u0442 \\u0432 \\u0442\\u043e\\u043f-100 \\u043b\\u0438\\u0433\\u0438 \\u043f\\u043e \\u043a\\u043e\\u043b\\u0438\\u0447\\u0435\\u0441\\u0442\\u0432\\u0443 \\u043c\\u0430\\u0442\\u0447\\u0435\\u0439 (63-\\u0439), \\u0433\\u043e\\u043b\\u043e\\u0432 (80-\\u0439), \\u043e\\u0447\\u043a\\u043e\\u0432 (87-\\u0439) \\u0438 \\u043f\\u0435\\u0440\\u0435\\u0434\\u0430\\u0447 (100-\\u0439). \\u041f\\u043e \\u043a\\u0430\\u0436\\u0434\\u043e\\u043c\\u0443 \\u0438\\u0437 \\u0433\\u043b\\u0430\\u0432\\u043d\\u044b\\u0445 \\u043f\\u043e\\u043a\\u0430\\u0437\\u0430\\u0442\\u0435\\u043b\\u0435\\u0439 \\u043d\\u0430\\u043f\\u0430\\u0434\\u0430\\u044e\\u0449\\u0438\\u0439 \\u043d\\u0430\\u0445\\u043e\\u0434\\u0438\\u0442\\u0441\\u044f \\u043c\\u0438\\u043d\\u0438\\u043c\\u0443\\u043c \\u0432 \\u0442\\u043e\\u043f-50 \\u0438 \\u00ab\\u0420\\u0435\\u0439\\u043d\\u0434\\u0436\\u0435\\u0440\\u0441\\u00bb, \\u0438 \\u00ab\\u041f\\u0438\\u0442\\u0442\\u0441\\u0431\\u0443\\u0440\\u0433\\u0430\\u00bb. \\u041c\\u0438\\u043d\\u0438\\u043c\\u0443\\u043c! \\u0422\\u0430\\u043a \\u0447\\u0442\\u043e \\u0444\\u043e\\u0440\\u0432\\u0430\\u0440\\u0434\\u0443 \\u0443\\u0434\\u0430\\u043b\\u043e\\u0441\\u044c \\u0441\\u0442\\u0430\\u0442\\u044c \\u043b\\u0435\\u0433\\u0435\\u043d\\u0434\\u043e\\u0439 \\u043d\\u0435 \\u0442\\u043e\\u043b\\u044c\\u043a\\u043e \\u0432 \\u0440\\u043e\\u0441\\u0441\\u0438\\u0439\\u0441\\u043a\\u043e\\u043c \\u0445\\u043e\\u043a\\u043a\\u0435\\u0435, \\u043d\\u043e \\u0438 \\u0432 \\u0438\\u0441\\u0442\\u043e\\u0440\\u0438\\u0438 \\u0441\\u0440\\u0430\\u0437\\u0443 \\u0434\\u0432\\u0443\\u0445 \\u043a\\u043b\\u0443\\u0431\\u043e\\u0432 \\u041d\\u0425\\u041b. \\u0412\\u0435\\u043b\\u0438\\u043a\\u0438\\u0439!\\n\\u041a\\u043b\\u0443\\u0431\\u044b: \\u00ab\\u0412\\u0438\\u043d\\u043d\\u0438\\u043f\\u0435\\u0433 \\u0414\\u0436\\u0435\\u0442\\u0441\\u00bb, \\u00ab\\u0424\\u0438\\u043d\\u0438\\u043a\\u0441 \\u041a\\u043e\\u0439\\u043e\\u0442\\u0441\\u00bb, \\u00ab\\u0422\\u0430\\u043c\\u043f\\u0430-\\u0411\\u044d\\u0439 \\u041b\\u0430\\u0439\\u0442\\u043d\\u0438\\u043d\\u0433\\u00bb, \\u00ab\\u0427\\u0438\\u043a\\u0430\\u0433\\u043e \\u0411\\u043b\\u044d\\u043a\\u0445\\u043e\\u0443\\u043a\\u0441\\u00bb, \\u00ab\\u042d\\u0434\\u043c\\u043e\\u043d\\u0442\\u043e\\u043d \\u041e\\u0439\\u043b\\u0435\\u0440\\u0437\\u00bb (1994\\u20142014, \\u0437\\u0430 \\u0438\\u0441\\u043a\\u043b\\u044e\\u0447\\u0435\\u043d\\u0438\\u0435\\u043c \\u043b\\u043e\\u043a\\u0430\\u0443\\u0442\\u043d\\u043e\\u0433\\u043e \\u0441\\u0435\\u0437\\u043e\\u043d\\u0430-2004/2005) \\u2014 4-\\u0439 \\u0441\\u0435\\u0437\\u043e\\u043d \\u0432 \\u041d\\u0425\\u041b\\n799 \\u043c\\u0430\\u0442\\u0447\\u0435\\u0439, 333 \\u043f\\u043e\\u0431\\u0435\\u0434\\u044b, \\u041a\\u041d 2,72; 90,7% \\u041e\\u0411, 46 \\u0448\\u0430\\u0442-\\u0430\\u0443\\u0442\\u043e\\u0432 \\u2014 \\u0432 \\u0440\\u0435\\u0433\\u0443\\u043b\\u044f\\u0440\\u043d\\u044b\\u0445 \\u0447\\u0435\\u043c\\u043f\\u0438\\u043e\\u043d\\u0430\\u0442\\u0430\\u0445 72 \\u043c\\u0430\\u0442\\u0447\\u0430, 39 \\u043f\\u043e\\u0431\\u0435\\u0434, \\u041a\\u041d 2,40; 91,7% \\u041e\\u0411, \\u0448\\u0435\\u0441\\u0442\\u044c \\u0448\\u0430\\u0442-\\u0430\\u0443\\u0442\\u043e\\u0432 \\u2014 \\u0432 \\u043f\\u043b\\u0435\\u0439-\\u043e\\u0444\\u0444\\n\\u0413\\u043e\\u043b\\u043a\\u0438\\u043f\\u0435\\u0440 \\u0431\\u044b\\u043b \\u0432\\u044b\\u0431\\u0440\\u0430\\u043d \\u00ab\\u0412\\u0438\\u043d\\u043d\\u0438\\u043f\\u0435\\u0433\\u043e\\u043c\\u00bb \\u0432 1992-\\u043c \\u0432 \\u0434\\u0435\\u0432\\u044f\\u0442\\u043e\\u043c \\u0440\\u0430\\u0443\\u043d\\u0434\\u0435 \\u043f\\u043e\\u0434 \\u043e\\u0431\\u0449\\u0438\\u043c 204-\\u043c \\u043d\\u043e\\u043c\\u0435\\u0440\\u043e\\u043c. \\u0427\\u0435\\u0440\\u0435\\u0437 \\u0434\\u0432\\u0430 \\u0433\\u043e\\u0434\\u0430 21-\\u043b\\u0435\\u0442\\u043d\\u0438\\u0439 \\u0425\\u0430\\u0431\\u0438\\u0431\\u0443\\u043b\\u0438\\u043d \\u043f\\u0435\\u0440\\u0435\\u0435\\u0445\\u0430\\u043b \\u0432 \\u041d\\u0425\\u041b.\\n\\u041d\\u0438\\u043a\\u043e\\u043b\\u0430\\u0439 \\u0432 \\u0434\\u0435\\u0431\\u044e\\u0442\\u043d\\u043e\\u043c \\u0441\\u0435\\u0437\\u043e\\u043d\\u0435 \\u043f\\u0440\\u043e\\u0432\\u0451\\u043b \\u0437\\u0430 \\u00ab\\u0412\\u0438\\u043d\\u043d\\u0438\\u043f\\u0435\\u0433\\u00bb 26 \\u043c\\u0430\\u0442\\u0447\\u0435\\u0439, \\u043e\\u0434\\u0435\\u0440\\u0436\\u0430\\u0432 \\u0432\\u043e\\u0441\\u0435\\u043c\\u044c \\u043f\\u043e\\u0431\\u0435\\u0434 \\u043f\\u0440\\u0438 \\u041a\\u041d 3,41 \\u0438 89,5% \\u041e\\u0411. \\u041d\\u043e \\u0433\\u043b\\u0430\\u0432\\u043d\\u044b\\u043c \\u0433\\u043e\\u0434\\u043e\\u043c \\u0434\\u043b\\u044f \\u0432\\u0440\\u0430\\u0442\\u0430\\u0440\\u044f \\u0441\\u0442\\u0430\\u043b 2004-\\u0439. \\u0425\\u0430\\u0431\\u0438\\u0431\\u0443\\u043b\\u0438\\u043d, \\u0432\\u044b\\u0441\\u0442\\u0443\\u043f\\u0430\\u044f \\u0437\\u0430 \\u00ab\\u0422\\u0430\\u043c\\u043f\\u0443\\u00bb, \\u043f\\u0440\\u043e\\u0432\\u0451\\u043b \\u043b\\u0443\\u0447\\u0448\\u0438\\u0439 \\u0441\\u0435\\u0437\\u043e\\u043d \\u0432 \\u043a\\u0430\\u0440\\u044c\\u0435\\u0440\\u0435. \\u0412 \\u0440\\u0435\\u0433\\u0443\\u043b\\u044f\\u0440\\u043d\\u043e\\u043c \\u0447\\u0435\\u043c\\u043f\\u0438\\u043e\\u043d\\u0430\\u0442\\u0435 \\u0440\\u043e\\u0441\\u0441\\u0438\\u044f\\u043d\\u0438\\u043d \\u043e\\u0434\\u0435\\u0440\\u0436\\u0430\\u043b 28 \\u043f\\u043e\\u0431\\u0435\\u0434 \\u0432 55 \\u043c\\u0430\\u0442\\u0447\\u0430\\u0445, \\u043f\\u043e\\u043a\\u0430\\u0437\\u0430\\u0432 \\u041a\\u041d 2,33 \\u0438 \\u043e\\u0442\\u0440\\u0430\\u0437\\u0438\\u0432 91% \\u0431\\u0440\\u043e\\u0441\\u043a\\u043e\\u0432 \\u043f\\u0440\\u0438 \\u0442\\u0440\\u0451\\u0445 \\u0448\\u0430\\u0442-\\u0430\\u0443\\u0442\\u0430\\u0445. \\u041e\\u0434\\u043d\\u0430\\u043a\\u043e \\u044d\\u0442\\u043e \\u0431\\u044b\\u043b\\u043e \\u043b\\u0438\\u0448\\u044c \\u043d\\u0430\\u0447\\u0430\\u043b\\u043e\\u043c \\u2014 \\u043e\\u0441\\u043d\\u043e\\u0432\\u043d\\u043e\\u0435 \\u043f\\u0440\\u043e\\u0438\\u0437\\u043e\\u0448\\u043b\\u043e \\u0432 \\u043f\\u043b\\u0435\\u0439-\\u043e\\u0444\\u0444! \\u041d\\u0438\\u043a\\u043e\\u043b\\u0430\\u0439 \\u043e\\u0442\\u044b\\u0433\\u0440\\u0430\\u043b \\u0432\\u0435\\u0441\\u044c \\u0440\\u043e\\u0437\\u044b\\u0433\\u0440\\u044b\\u0448 \\u043e\\u0442 \\u0437\\u0432\\u043e\\u043d\\u043a\\u0430 \\u0434\\u043e \\u0437\\u0432\\u043e\\u043d\\u043a\\u0430, \\u043e\\u0434\\u0435\\u0440\\u0436\\u0430\\u0432 16 \\u043f\\u043e\\u0431\\u0435\\u0434 \\u0432 23 \\u043c\\u0430\\u0442\\u0447\\u0430\\u0445 \\u043f\\u0440\\u0438 \\u041a\\u041d 1,71, 93,3% \\u041e\\u0411 \\u0438 \\u043f\\u044f\\u0442\\u0438 \\u00ab\\u0441\\u0443\\u0445\\u0430\\u0440\\u044f\\u0445\\u00bb. \\u0425\\u0430\\u0431\\u0438\\u0431\\u0443\\u043b\\u0438\\u043d \\u043f\\u043e\\u043c\\u043e\\u0433 \\u00ab\\u0422\\u0430\\u043c\\u043f\\u0435\\u00bb \\u0437\\u0430\\u0432\\u043e\\u0435\\u0432\\u0430\\u0442\\u044c \\u043f\\u0435\\u0440\\u0432\\u044b\\u0439 \\u041a\\u0443\\u0431\\u043e\\u043a \\u0421\\u0442\\u044d\\u043d\\u043b\\u0438 \\u0432 \\u0438\\u0441\\u0442\\u043e\\u0440\\u0438\\u0438. \\u041a\\u0440\\u043e\\u043c\\u0435 \\u0442\\u043e\\u0433\\u043e, \\u043e\\u043d \\u0441\\u0442\\u0430\\u043b \\u043f\\u0435\\u0440\\u0432\\u044b\\u043c \\u0440\\u043e\\u0441\\u0441\\u0438\\u0439\\u0441\\u043a\\u0438\\u043c \\u0433\\u043e\\u043b\\u043a\\u0438\\u043f\\u0435\\u0440\\u043e\\u043c, \\u0432\\u0437\\u044f\\u0432\\u0448\\u0438\\u043c \\u0442\\u0440\\u043e\\u0444\\u0435\\u0439.\\n\\u041d\\u0438\\u043a\\u043e\\u043b\\u0430\\u0439 \\u2014 \\u0440\\u0435\\u043a\\u043e\\u0440\\u0434\\u0441\\u043c\\u0435\\u043d \\u043f\\u043e \\u043a\\u043e\\u043b\\u0438\\u0447\\u0435\\u0441\\u0442\\u0432\\u0443 \\u043c\\u0430\\u0442\\u0447\\u0435\\u0439 \\u0441\\u0440\\u0435\\u0434\\u0438 \\u0440\\u043e\\u0441\\u0441\\u0438\\u0439\\u0441\\u043a\\u0438\\u0445 \\u0432\\u0440\\u0430\\u0442\\u0430\\u0440\\u0435\\u0439 (21-\\u0439 \\u0441\\u0440\\u0435\\u0434\\u0438 \\u0432\\u0441\\u0435\\u0445 \\u0440\\u043e\\u0441\\u0441\\u0438\\u044f\\u043d; 17-\\u0439 \\u0441\\u0440\\u0435\\u0434\\u0438 \\u0432\\u0441\\u0435\\u0445 \\u0432\\u0440\\u0430\\u0442\\u0430\\u0440\\u0435\\u0439 \\u0432 \\u0438\\u0441\\u0442\\u043e\\u0440\\u0438\\u0438 \\u041d\\u0425\\u041b). \\u00ab\\u0411\\u0443\\u043b\\u0438\\u043d\\u0441\\u043a\\u0430\\u044f \\u0441\\u0442\\u0435\\u043d\\u0430\\u00bb \\u0437\\u0430\\u043d\\u0438\\u043c\\u0430\\u0435\\u0442 \\u0432\\u0442\\u043e\\u0440\\u043e\\u0435 \\u043c\\u0435\\u0441\\u0442\\u043e \\u043f\\u043e \\u0448\\u0430\\u0442-\\u0430\\u0443\\u0442\\u0430\\u043c \\u0441\\u0440\\u0435\\u0434\\u0438 \\u0440\\u043e\\u0441\\u0441\\u0438\\u044f\\u043d (35-\\u0439 \\u0441\\u0440\\u0435\\u0434\\u0438 \\u0432\\u0441\\u0435\\u0445 \\u0432\\u0440\\u0430\\u0442\\u0430\\u0440\\u0435\\u0439), \\u0442\\u0440\\u0435\\u0442\\u044c\\u0435 \\u043f\\u043e \\u043f\\u043e\\u0431\\u0435\\u0434\\u0430\\u043c (27-\\u0439), \\u0434\\u0435\\u0432\\u044f\\u0442\\u043e\\u0435 \\u043f\\u043e \\u041a\\u041d \\u0438 10-\\u0435 \\u043f\\u043e \\u043e\\u0442\\u0440\\u0430\\u0436\\u0451\\u043d\\u043d\\u044b\\u043c \\u0431\\u0440\\u043e\\u0441\\u043a\\u0430\\u043c (\\u0441\\u0440\\u0435\\u0434\\u0438 \\u0432\\u0441\\u0435\\u0445, \\u043a\\u0442\\u043e \\u043f\\u0440\\u043e\\u0432\\u0451\\u043b \\u043d\\u0435 \\u043c\\u0435\\u043d\\u0435\\u0435 50 \\u043c\\u0430\\u0442\\u0447\\u0435\\u0439). \\u0414\\u043b\\u0438\\u0442\\u0435\\u043b\\u044c\\u043d\\u043e\\u0435 \\u0432\\u0440\\u0435\\u043c\\u044f \\u0425\\u0430\\u0431\\u0438\\u0431\\u0443\\u043b\\u0438\\u043d \\u0443\\u0434\\u0435\\u0440\\u0436\\u0438\\u0432\\u0430\\u043b \\u0440\\u0435\\u043a\\u043e\\u0440\\u0434 \\u0420\\u0424 \\u043f\\u043e \\u043e\\u0447\\u043a\\u0430\\u043c \\u0434\\u043b\\u044f \\u0433\\u043e\\u043b\\u043a\\u0438\\u043f\\u0435\\u0440\\u043e\\u0432, \\u043f\\u043e\\u043a\\u0430 \\u0412\\u0430\\u0441\\u0438\\u043b\\u0435\\u0432\\u0441\\u043a\\u0438\\u0439 12 \\u044f\\u043d\\u0432\\u0430\\u0440\\u044f 2024 \\u0433\\u043e\\u0434\\u0430 \\u043d\\u0435 \\u043e\\u0431\\u043d\\u043e\\u0432\\u0438\\u043b \\u0434\\u043e\\u0441\\u0442\\u0438\\u0436\\u0435\\u043d\\u0438\\u0435 (\\u0443 \\u041d\\u0438\\u043a\\u043e\\u043b\\u0430\\u044f 18 \\u043e\\u0447\\u043a\\u043e\\u0432 \\u2014 \\u0432\\u0441\\u0435 \\u0437\\u0430 \\u0430\\u0441\\u0441\\u0438\\u0441\\u0442\\u044b; 33-\\u0435 \\u043c\\u0435\\u0441\\u0442\\u043e \\u0441\\u0440\\u0435\\u0434\\u0438 \\u0432\\u0441\\u0435\\u0445 \\u0432\\u0440\\u0430\\u0442\\u0430\\u0440\\u0435\\u0439 \\u0432 \\u0438\\u0441\\u0442\\u043e\\u0440\\u0438\\u0438).\\n\\u041e\\u043f\\u044b\\u0442\\u043d\\u044b\\u0439 \\u0445\\u043e\\u043a\\u043a\\u0435\\u0438\\u0441\\u0442 \\u0437\\u0430\\u043d\\u0438\\u043c\\u0430\\u0435\\u0442 \\u0442\\u0440\\u0435\\u0442\\u044c\\u0435 \\u043c\\u0435\\u0441\\u0442\\u043e \\u043f\\u043e \\u043a\\u043e\\u043b\\u0438\\u0447\\u0435\\u0441\\u0442\\u0432\\u0443 \\u043c\\u0430\\u0442\\u0447\\u0435\\u0439, \\u043f\\u043e\\u0431\\u0435\\u0434 \\u0438 \\u0448\\u0430\\u0442-\\u0430\\u0443\\u0442\\u043e\\u0432 \\u0441\\u0440\\u0435\\u0434\\u0438 \\u0440\\u043e\\u0441\\u0441\\u0438\\u044f\\u043d \\u0432 \\u043f\\u043b\\u0435\\u0439-\\u043e\\u0444\\u0444. \\u041f\\u043e \\u041a\\u041d (\\u0441\\u0440\\u0435\\u0434\\u0438 \\u0442\\u0435\\u0445, \\u043a\\u0442\\u043e \\u0441\\u044b\\u0433\\u0440\\u0430\\u043b \\u0445\\u043e\\u0442\\u044f \\u0431\\u044b 30 \\u0432\\u0441\\u0442\\u0440\\u0435\\u0447) \\u0425\\u0430\\u0431\\u0438\\u0431\\u0443\\u043b\\u0438\\u043d \\u0432\\u0442\\u043e\\u0440\\u043e\\u0439, \\u043f\\u043e \\u041e\\u0411 \\u2014 \\u0442\\u0440\\u0435\\u0442\\u0438\\u0439.\\n\\u0422\\u0430\\u043a \\u0447\\u0442\\u043e \\u0441\\u0442\\u0430\\u0442\\u0438\\u0441\\u0442\\u0438\\u043a\\u0430 \\u0438 \\u0434\\u043e\\u0441\\u0442\\u0438\\u0436\\u0435\\u043d\\u0438\\u044f \\u0433\\u043e\\u0432\\u043e\\u0440\\u044f\\u0442 \\u0437\\u0430 \\u0425\\u0430\\u0431\\u0438\\u0431\\u0443\\u043b\\u0438\\u043d\\u0430 \\u0441\\u0430\\u043c\\u0438.\\n\\u041f\\u0435\\u0440\\u0432\\u044b\\u0439 \\u0440\\u0443\\u0441\\u0441\\u043a\\u0438\\u0439 \\u0432 \\u041d\\u0425\\u041b, \\u041a\\u0430\\u043f\\u0440\\u0438\\u0437\\u043e\\u0432, \\u0421\\u0435\\u0440\\u0433\\u0430\\u0447\\u0451\\u0432. \\u041b\\u0443\\u0447\\u0448\\u0438\\u0435 \\u043d\\u0430\\u0448\\u0438 \\u0432 \\u0438\\u0441\\u0442\\u043e\\u0440\\u0438\\u0438 \\u043b\\u0438\\u0433\\u0438: 50-41\\n\\u041a\\u0440\\u0443\\u0448\\u0438\\u0442\\u0435\\u043b\\u044c-\\u0431\\u0443\\u043d\\u0442\\u0430\\u0440\\u044c, \\u043f\\u043e\\u043c\\u043e\\u0449\\u043d\\u0438\\u043a \\u041e\\u0432\\u0435\\u0447\\u043a\\u0438\\u043d\\u0430, \\u043d\\u0430\\u0434\\u0435\\u0436\\u0434\\u0430 \\u041d\\u044c\\u044e-\\u0419\\u043e\\u0440\\u043a\\u0430. \\u041b\\u0443\\u0447\\u0448\\u0438\\u0435 \\u043d\\u0430\\u0448\\u0438 \\u0432 \\u0438\\u0441\\u0442\\u043e\\u0440\\u0438\\u0438 \\u041d\\u0425\\u041b: 40-31\\n\\u0417\\u0430\\u0449\\u0438\\u0442\\u043d\\u0438\\u043a \\u0441 \\u0442\\u0440\\u0430\\u0433\\u0438\\u0447\\u0435\\u0441\\u043a\\u043e\\u0439 \\u0441\\u0443\\u0434\\u044c\\u0431\\u043e\\u0439, \\u041a\\u0443\\u0437\\u043d\\u0435\\u0446\\u043e\\u0432, \\u041a\\u043e\\u0432\\u0430\\u043b\\u044c\\u0447\\u0443\\u043a. \\u041b\\u0443\\u0447\\u0448\\u0438\\u0435 \\u0440\\u043e\\u0441\\u0441\\u0438\\u044f\\u043d\\u0435 \\u0432 \\u0438\\u0441\\u0442\\u043e\\u0440\\u0438\\u0438 \\u041d\\u0425\\u041b: 20-11\\n\\u041e\\u0432\\u0435\\u0447\\u043a\\u0438\\u043d \\u2014 \\u043d\\u0435 \\u043f\\u0435\\u0440\\u0432\\u044b\\u0439, \\u041a\\u0443\\u0447\\u0435\\u0440\\u043e\\u0432 \\u0438 \\u0414\\u0430\\u0446\\u044e\\u043a \\u2014 \\u0432 \\u0442\\u043e\\u043f-5. \\u041b\\u0443\\u0447\\u0448\\u0438\\u0435 \\u0440\\u043e\\u0441\\u0441\\u0438\\u044f\\u043d\\u0435 \\u0432 \\u0438\\u0441\\u0442\\u043e\\u0440\\u0438\\u0438 \\u041d\\u0425\\u041b: 10-1\\n\",\n          \"\\u042f\\u0440\\u043e\\u0441\\u043b\\u0430\\u0432\\u0441\\u043a\\u0438\\u0439 \\u00ab\\u0428\\u0438\\u043d\\u043d\\u0438\\u043a\\u00bb \\u043f\\u043e\\u043f\\u0430\\u043b \\u0432 \\u043d\\u0435\\u043f\\u0440\\u0438\\u044f\\u0442\\u043d\\u0443\\u044e \\u0441\\u0438\\u0442\\u0443\\u0430\\u0446\\u0438\\u044e \\u043d\\u0430 \\u0441\\u0431\\u043e\\u0440\\u0430\\u0445 \\u043a\\u043e\\u043c\\u0430\\u043d\\u0434\\u044b \\u0432 \\u0422\\u0443\\u0440\\u0446\\u0438\\u0438. \\u041a\\u043b\\u0443\\u0431 \\u043e\\u043a\\u0430\\u0437\\u0430\\u043b\\u0441\\u044f \\u0432 \\u043e\\u0434\\u043d\\u043e\\u043c \\u043e\\u0442\\u0435\\u043b\\u0435 \\u0441 \\u0444\\u0443\\u0442\\u0431\\u043e\\u043b\\u0438\\u0441\\u0442\\u0430\\u043c\\u0438 \\u0443\\u043a\\u0440\\u0430\\u0438\\u043d\\u0441\\u043a\\u043e\\u0433\\u043e \\u00ab\\u041c\\u0438\\u043d\\u0430\\u044f\\u00bb, \\u0438\\u0437-\\u0437\\u0430 \\u0447\\u0435\\u0433\\u043e \\u0432\\u043e\\u0437\\u043d\\u0438\\u043a \\u043a\\u043e\\u043d\\u0444\\u043b\\u0438\\u043a\\u0442 \\u2013 \\u043c\\u0435\\u0436\\u0434\\u0443 \\u0438\\u0433\\u0440\\u043e\\u043a\\u0430\\u043c\\u0438 \\u043f\\u0440\\u043e\\u0438\\u0437\\u043e\\u0448\\u043b\\u0430 \\u0441\\u0442\\u044b\\u0447\\u043a\\u0430.\\n\\u0421\\u043e\\u0433\\u043b\\u0430\\u0441\\u043d\\u043e \\u0441\\u0432\\u0435\\u0434\\u0435\\u043d\\u0438\\u044f\\u043c \\u0442\\u0435\\u043b\\u0435\\u0433\\u0440\\u0430\\u043c-\\u043a\\u0430\\u043d\\u0430\\u043b\\u0430 Baza, \\u0432\\u0435\\u0447\\u0435\\u0440\\u043e\\u043c 13 \\u0444\\u0435\\u0432\\u0440\\u0430\\u043b\\u044f \\u0432 \\u043e\\u0442\\u0435\\u043b\\u0435 Royal Seginus \\u043d\\u0435\\u0441\\u043a\\u043e\\u043b\\u044c\\u043a\\u043e \\u043f\\u0440\\u0435\\u0434\\u0441\\u0442\\u0430\\u0432\\u0438\\u0442\\u0435\\u043b\\u0435\\u0439 \\u0443\\u043a\\u0440\\u0430\\u0438\\u043d\\u0441\\u043a\\u043e\\u0433\\u043e \\u043a\\u043b\\u0443\\u0431\\u0430 \\u00ab\\u041c\\u0438\\u043d\\u0430\\u0439\\u00bb \\u043f\\u043e\\u0434\\u043e\\u0448\\u043b\\u0438 \\u043a \\u0438\\u0433\\u0440\\u043e\\u043a\\u0430\\u043c \\u00ab\\u0428\\u0438\\u043d\\u043d\\u0438\\u043a\\u0430\\u00bb \\u0441 \\u043f\\u0440\\u0435\\u0442\\u0435\\u043d\\u0437\\u0438\\u044f\\u043c\\u0438: \\u043f\\u043e\\u0447\\u0435\\u043c\\u0443 \\u0442\\u0435 \\u043d\\u0435 \\u043f\\u0440\\u043e\\u0442\\u0435\\u0441\\u0442\\u0443\\u044e\\u0442 \\u043f\\u0440\\u043e\\u0442\\u0438\\u0432 \\u0440\\u043e\\u0441\\u0441\\u0438\\u0439\\u0441\\u043a\\u043e\\u0433\\u043e \\u043f\\u0440\\u0430\\u0432\\u0438\\u0442\\u0435\\u043b\\u044c\\u0441\\u0442\\u0432\\u0430 \\u0438 \\u043d\\u0435 \\u0443\\u0441\\u0442\\u0440\\u0430\\u0438\\u0432\\u0430\\u044e\\u0442 \\u043d\\u0435\\u0441\\u0430\\u043d\\u043a\\u0446\\u0438\\u043e\\u043d\\u0438\\u0440\\u043e\\u0432\\u0430\\u043d\\u043d\\u044b\\u0435 \\u0430\\u043a\\u0446\\u0438\\u0438 \\u043d\\u0430 \\u043f\\u043b\\u043e\\u0449\\u0430\\u0434\\u044f\\u0445. \\u0414\\u0438\\u0430\\u043b\\u043e\\u0433 \\u043d\\u0435 \\u0441\\u043e\\u0441\\u0442\\u043e\\u044f\\u043b\\u0441\\u044f, \\u0442\\u0430\\u043a \\u043a\\u0430\\u043a, \\u043f\\u043e \\u0441\\u043e\\u043e\\u0431\\u0449\\u0435\\u043d\\u0438\\u044e \\u0438\\u0441\\u0442\\u043e\\u0447\\u043d\\u0438\\u043a\\u0430, \\u0438\\u0433\\u0440\\u043e\\u043a\\u0438 \\u00ab\\u0428\\u0438\\u043d\\u043d\\u0438\\u043a\\u0430\\u00bb \\u043d\\u0435 \\u043e\\u0442\\u0440\\u0435\\u0430\\u0433\\u0438\\u0440\\u043e\\u0432\\u0430\\u043b\\u0438 \\u043d\\u0430 \\u043f\\u0440\\u043e\\u0432\\u043e\\u043a\\u0430\\u0446\\u0438\\u044e. \\u041f\\u043e\\u0437\\u0436\\u0435 \\u043d\\u0435\\u0441\\u043a\\u043e\\u043b\\u044c\\u043a\\u043e \\u0444\\u0443\\u0442\\u0431\\u043e\\u043b\\u0438\\u0441\\u0442\\u043e\\u0432 \\u00ab\\u041c\\u0438\\u043d\\u0430\\u044f\\u00bb \\u0441\\u0442\\u043e\\u043b\\u043a\\u043d\\u0443\\u043b\\u0438\\u0441\\u044c \\u0432 \\u043b\\u0438\\u0444\\u0442\\u0435 \\u0441 \\u0438\\u0433\\u0440\\u043e\\u043a\\u043e\\u043c \\u00ab\\u0428\\u0438\\u043d\\u043d\\u0438\\u043a\\u0430\\u00bb \\u0438 \\u043f\\u043e\\u0431\\u0438\\u043b\\u0438 \\u0440\\u043e\\u0441\\u0441\\u0438\\u044f\\u043d\\u0438\\u043d\\u0430. \\u0410 \\u043d\\u0430 \\u044d\\u0442\\u0430\\u0436\\u0435, \\u043a\\u0443\\u0434\\u0430 \\u043f\\u0440\\u0438\\u0435\\u0445\\u0430\\u043b \\u043b\\u0438\\u0444\\u0442, \\u0441\\u0442\\u043e\\u044f\\u043b\\u0430 \\u0433\\u0440\\u0443\\u043f\\u043f\\u0430 \\u0444\\u0443\\u0442\\u0431\\u043e\\u043b\\u0438\\u0441\\u0442\\u043e\\u0432 \\u044f\\u0440\\u043e\\u0441\\u043b\\u0430\\u0432\\u0441\\u043a\\u043e\\u0439 \\u043a\\u043e\\u043c\\u0430\\u043d\\u0434\\u044b. \\u0423\\u0432\\u0438\\u0434\\u0435\\u0432 \\u0438\\u0437\\u0431\\u0438\\u0442\\u043e\\u0433\\u043e \\u043e\\u0434\\u043d\\u043e\\u043a\\u043b\\u0443\\u0431\\u043d\\u0438\\u043a\\u0430, \\u043e\\u043d\\u0438 \\u0442\\u0430\\u043a\\u0436\\u0435 \\u0432\\u0441\\u0442\\u0443\\u043f\\u0438\\u043b\\u0438 \\u0432 \\u043a\\u043e\\u043d\\u0444\\u043b\\u0438\\u043a\\u0442 \\u2014 \\u0437\\u0430\\u0432\\u044f\\u0437\\u0430\\u043b\\u0430\\u0441\\u044c \\u043c\\u0430\\u0441\\u0441\\u043e\\u0432\\u0430\\u044f \\u0434\\u0440\\u0430\\u043a\\u0430. \\u0412 \\u043e\\u0442\\u0435\\u043b\\u044c \\u0434\\u0430\\u0436\\u0435 \\u043f\\u0440\\u0438\\u0448\\u043b\\u043e\\u0441\\u044c \\u0432\\u044b\\u0437\\u044b\\u0432\\u0430\\u0442\\u044c \\u043f\\u043e\\u043b\\u0438\\u0446\\u0438\\u044e \\u0438 \\u0441\\u043a\\u043e\\u0440\\u0443\\u044e \\u043f\\u043e\\u043c\\u043e\\u0449\\u044c. \\u041f\\u043e\\u0441\\u043b\\u0435 \\u044d\\u0442\\u043e\\u0439 \\u0434\\u0440\\u0430\\u043a\\u0438 \\u0432 \\u0433\\u043e\\u0441\\u0442\\u0438\\u043d\\u0438\\u0446\\u0435 \\u043d\\u0430 \\u043f\\u043e\\u0441\\u0442\\u043e\\u044f\\u043d\\u043d\\u043e\\u0439 \\u043e\\u0441\\u043d\\u043e\\u0432\\u0435 \\u0434\\u0435\\u0436\\u0443\\u0440\\u044f\\u0442 \\u0434\\u043e\\u043f\\u043e\\u043b\\u043d\\u0438\\u0442\\u0435\\u043b\\u044c\\u043d\\u044b\\u0435 \\u043d\\u0430\\u0440\\u044f\\u0434\\u044b \\u043e\\u0445\\u0440\\u0430\\u043d\\u044b \\u0438 \\u043d\\u0435\\u0441\\u043a\\u043e\\u043b\\u044c\\u043a\\u043e \\u0441\\u043e\\u0442\\u0440\\u0443\\u0434\\u043d\\u0438\\u043a\\u043e\\u0432 \\u043f\\u043e\\u043b\\u0438\\u0446\\u0438\\u0438.\\n\\u0418\\u0433\\u0440\\u043e\\u043a\\u0438 \\u00ab\\u0428\\u0438\\u043d\\u043d\\u0438\\u043a\\u0430\\u00bb \\u043d\\u0430 \\u0441\\u0431\\u043e\\u0440\\u0430\\u0445\\n\\u0424\\u0443\\u0442\\u0431\\u043e\\u043b\\u0438\\u0441\\u0442\\u044b \\u00ab\\u0428\\u0438\\u043d\\u043d\\u0438\\u043a\\u0430\\u00bb \\u0443\\u0432\\u0435\\u0440\\u0435\\u043d\\u044b \\u0432 \\u0443\\u043c\\u044b\\u0448\\u043b\\u0435\\u043d\\u043d\\u044b\\u0445 \\u043f\\u0440\\u043e\\u0432\\u043e\\u043a\\u0430\\u0446\\u0438\\u044f\\u0445 \\u0441\\u043e \\u0441\\u0442\\u043e\\u0440\\u043e\\u043d\\u044b \\u0438\\u0433\\u0440\\u043e\\u043a\\u043e\\u0432 \\u00ab\\u041c\\u0438\\u043d\\u0430\\u044f\\u00bb, \\u043f\\u0440\\u043e\\u0432\\u043e\\u0446\\u0438\\u0440\\u043e\\u0432\\u0430\\u0432\\u0448\\u0438\\u0445 \\u0440\\u043e\\u0441\\u0441\\u0438\\u044f\\u043d \\u043f\\u0440\\u043e\\u0443\\u043a\\u0440\\u0430\\u0438\\u043d\\u0441\\u043a\\u0438\\u043c\\u0438 \\u043b\\u043e\\u0437\\u0443\\u043d\\u0433\\u0430\\u043c\\u0438. \\u041f\\u043e \\u0441\\u043b\\u043e\\u0432\\u0430\\u043c \\u043e\\u0434\\u043d\\u043e\\u0433\\u043e \\u0438\\u0437 \\u043f\\u0440\\u0435\\u0434\\u0441\\u0442\\u0430\\u0432\\u0438\\u0442\\u0435\\u043b\\u0435\\u0439 \\u0440\\u043e\\u0441\\u0441\\u0438\\u0439\\u0441\\u043a\\u043e\\u0433\\u043e \\u043a\\u043b\\u0443\\u0431\\u0430 (\\u0442\\u0430\\u043a\\u0436\\u0435 \\u0438\\u043d\\u0444\\u043e\\u0440\\u043c\\u0430\\u0446\\u0438\\u044f \\u00abBaza\\u00bb), \\u0441\\u043e\\u0442\\u0440\\u0443\\u0434\\u043d\\u0438\\u043a \\u0443\\u043a\\u0440\\u0430\\u0438\\u043d\\u0441\\u043a\\u043e\\u0439 \\u043a\\u043e\\u043c\\u0430\\u043d\\u0434\\u044b \\u044f\\u043a\\u043e\\u0431\\u044b \\u043f\\u0440\\u0435\\u0434\\u0443\\u043f\\u0440\\u0435\\u0434\\u0438\\u043b \\u0440\\u043e\\u0441\\u0441\\u0438\\u044f\\u043d, \\u0447\\u0442\\u043e \\u0438\\u043c \\u043b\\u0443\\u0447\\u0448\\u0435 \\u0443\\u0435\\u0445\\u0430\\u0442\\u044c \\u0438\\u0437 \\u043e\\u0442\\u0435\\u043b\\u044f, \\u043f\\u043e\\u0442\\u043e\\u043c\\u0443 \\u0447\\u0442\\u043e \\u043e\\u043d\\u0438 \\u043d\\u0430\\u043c\\u0435\\u0440\\u0435\\u043d\\u044b \\u0438 \\u0434\\u0430\\u043b\\u044c\\u0448\\u0435 \\u043f\\u0440\\u043e\\u0434\\u043e\\u043b\\u0436\\u0430\\u0442\\u044c \\u0432\\u044b\\u044f\\u0441\\u043d\\u044f\\u0442\\u044c \\u043e\\u0442\\u043d\\u043e\\u0448\\u0435\\u043d\\u0438\\u044f \\u0432 \\u0436\\u0451\\u0441\\u0442\\u043a\\u043e\\u0439 \\u0444\\u043e\\u0440\\u043c\\u0435.\\n\\u0424\\u041a \\u00ab\\u041c\\u0438\\u043d\\u0430\\u0439\\u00bb \\u043d\\u0430 \\u0441\\u0431\\u043e\\u0440\\u0430\\u0445\\n\\u0413\\u0435\\u043d\\u0435\\u0440\\u0430\\u043b\\u044c\\u043d\\u044b\\u0439 \\u0434\\u0438\\u0440\\u0435\\u043a\\u0442\\u043e\\u0440 \\u00ab\\u0428\\u0438\\u043d\\u043d\\u0438\\u043a\\u0430\\u00bb \\u0421\\u0435\\u0440\\u0433\\u0435\\u0439 \\u041a\\u0443\\u043b\\u0430\\u043a\\u043e\\u0432 \\u043f\\u043e\\u0434\\u0442\\u0432\\u0435\\u0440\\u0434\\u0438\\u043b \\u00ab\\u0427\\u0435\\u043c\\u043f\\u0438\\u043e\\u043d\\u0430\\u0442\\u0443\\u00bb, \\u0447\\u0442\\u043e \\u0432 \\u043e\\u0442\\u0435\\u043b\\u0435 \\u043f\\u0440\\u043e\\u0438\\u0437\\u043e\\u0448\\u0451\\u043b \\u043a\\u043e\\u043d\\u0444\\u043b\\u0438\\u043a\\u0442: \\u00ab\\u041d\\u0435 \\u043c\\u043e\\u0433\\u0443 \\u0432\\u0430\\u043c \\u0440\\u0430\\u0441\\u0441\\u043a\\u0430\\u0437\\u0430\\u0442\\u044c \\u043f\\u043e\\u0434\\u0440\\u043e\\u0431\\u043d\\u043e\\u0441\\u0442\\u0438 \\u043f\\u0440\\u043e\\u0438\\u0437\\u043e\\u0448\\u0435\\u0434\\u0448\\u0435\\u0433\\u043e, \\u0442\\u0430\\u043a \\u043a\\u0430\\u043a \\u044f \\u043d\\u0430\\u0445\\u043e\\u0436\\u0443\\u0441\\u044c \\u0432 \\u042f\\u0440\\u043e\\u0441\\u043b\\u0430\\u0432\\u043b\\u0435, \\u0430 \\u043a\\u043e\\u043c\\u0430\\u043d\\u0434\\u0430 \\u2014 \\u0432 \\u0422\\u0443\\u0440\\u0446\\u0438\\u0438. \\u0421\\u0435\\u0439\\u0447\\u0430\\u0441 \\u043c\\u044b \\u043e\\u043f\\u0440\\u0435\\u0434\\u0435\\u043b\\u044f\\u0435\\u043c \\u043e\\u0431\\u0441\\u0442\\u043e\\u044f\\u0442\\u0435\\u043b\\u044c\\u0441\\u0442\\u0432\\u0430, \\u043f\\u043e\\u0441\\u043b\\u0435 \\u0447\\u0435\\u0433\\u043e \\u0432\\u044b\\u0441\\u0442\\u0443\\u043f\\u0438\\u043c \\u0441 \\u043e\\u0444\\u0438\\u0446\\u0438\\u0430\\u043b\\u044c\\u043d\\u043e\\u0439 \\u043f\\u043e\\u0437\\u0438\\u0446\\u0438\\u0435\\u0439. \\u0427\\u0442\\u043e \\u043a\\u0430\\u0441\\u0430\\u0435\\u0442\\u0441\\u044f \\u0441\\u0435\\u0440\\u044c\\u0451\\u0437\\u043d\\u043e\\u0441\\u0442\\u0438 \\u0442\\u0440\\u0430\\u0432\\u043c, \\u0443 \\u043c\\u0435\\u043d\\u044f \\u043d\\u0435\\u0442 \\u043d\\u0438\\u043a\\u0430\\u043a\\u043e\\u0439 \\u0438\\u043d\\u0444\\u043e\\u0440\\u043c\\u0430\\u0446\\u0438\\u0438. \\u0415\\u0441\\u0442\\u0435\\u0441\\u0442\\u0432\\u0435\\u043d\\u043d\\u043e, \\u0447\\u0442\\u043e \\u0432\\u043e \\u0432\\u0440\\u0435\\u043c\\u044f \\u0434\\u0440\\u0430\\u043a\\u0438 \\u043c\\u043e\\u0433\\u0443\\u0442 \\u0431\\u044b\\u0442\\u044c \\u0441\\u0441\\u0430\\u0434\\u0438\\u043d\\u044b. \\u041c\\u043e\\u0433\\u0443 \\u0441\\u043a\\u0430\\u0437\\u0430\\u0442\\u044c, \\u0447\\u0442\\u043e \\u043c\\u0435\\u0436\\u0434\\u0443 \\u0440\\u043e\\u0441\\u0441\\u0438\\u044f\\u043d\\u0430\\u043c\\u0438 \\u0438 \\u0443\\u043a\\u0440\\u0430\\u0438\\u043d\\u0446\\u0430\\u043c\\u0438 \\u0431\\u044b\\u043b\\u0430 \\u0441\\u0442\\u044b\\u0447\\u043a\\u0430. \\u041a\\u0442\\u043e \\u0432 \\u043d\\u0435\\u0439 \\u0443\\u0447\\u0430\\u0441\\u0442\\u0432\\u043e\\u0432\\u0430\\u043b \\u2014 \\u043c\\u044b \\u0441\\u0435\\u0439\\u0447\\u0430\\u0441 \\u0432\\u044b\\u044f\\u0441\\u043d\\u044f\\u0435\\u043c\\u00bb. \\u0420\\u0430\\u043d\\u0435\\u0435 \\u0433\\u0435\\u043d\\u0434\\u0438\\u0440\\u0435\\u043a\\u0442\\u043e\\u0440 \\u044f\\u0440\\u043e\\u0441\\u043b\\u0430\\u0432\\u0446\\u0435\\u0432 \\u043e\\u0442\\u043c\\u0435\\u0447\\u0430\\u043b, \\u0447\\u0442\\u043e \\u043e\\u0434\\u043d\\u0438\\u043c \\u0438\\u0437 \\u0443\\u0441\\u043b\\u043e\\u0432\\u0438\\u0439 \\u0437\\u0430\\u0441\\u0435\\u043b\\u0435\\u043d\\u0438\\u044f \\u043a\\u043e\\u043c\\u0430\\u043d\\u0434\\u044b \\u0432 \\u043e\\u0442\\u0435\\u043b\\u044c \\u0431\\u044b\\u043b\\u043e \\u043e\\u0442\\u0441\\u0443\\u0442\\u0441\\u0442\\u0432\\u0438\\u0435 \\u0432 \\u043d\\u0451\\u043c \\u0443\\u043a\\u0440\\u0430\\u0438\\u043d\\u0441\\u043a\\u0438\\u0445 \\u043a\\u043b\\u0443\\u0431\\u043e\\u0432.\\n\\u0421\\u043e\\u0433\\u043b\\u0430\\u0441\\u043d\\u043e \\u0441\\u0432\\u0435\\u0434\\u0435\\u043d\\u0438\\u044f\\u043c \\u0442\\u0435\\u043b\\u0435\\u0433\\u0440\\u0430\\u043c-\\u043a\\u0430\\u043d\\u0430\\u043b\\u0430 \\u00ab\\u041c\\u0443\\u0442\\u043a\\u043e \\u043f\\u0440\\u043e\\u0442\\u0438\\u0432\\u00bb, \\u0443 \\u043d\\u0430\\u043f\\u0430\\u0434\\u0430\\u044e\\u0449\\u0435\\u0433\\u043e \\u00ab\\u0428\\u0438\\u043d\\u043d\\u0438\\u043a\\u0430\\u00bb \\u0418\\u043b\\u044c\\u0438 \\u0413\\u0440\\u0443\\u0437\\u043d\\u043e\\u0432\\u0430 \\u043f\\u043e\\u0434\\u043e\\u0437\\u0440\\u0435\\u043d\\u0438\\u044f \\u043d\\u0430 \\u043f\\u0435\\u0440\\u0435\\u043b\\u043e\\u043c \\u0440\\u0451\\u0431\\u0435\\u0440. \\u041a\\u0440\\u043e\\u043c\\u0435 \\u0442\\u043e\\u0433\\u043e, \\u0443 \\u043f\\u043e\\u043b\\u0443\\u0437\\u0430\\u0449\\u0438\\u0442\\u043d\\u0438\\u043a\\u0430 \\u0414\\u043c\\u0438\\u0442\\u0440\\u0438\\u044f \\u0421\\u0430\\u043c\\u043e\\u0439\\u043b\\u043e\\u0432\\u0430 \\u043f\\u043e\\u0434\\u043e\\u0437\\u0440\\u0435\\u043d\\u0438\\u044f \\u043d\\u0430 \\u043f\\u0435\\u0440\\u0435\\u043b\\u043e\\u043c \\u043f\\u0430\\u043b\\u044c\\u0446\\u0430. \\u0421\\u0435\\u0433\\u043e\\u0434\\u043d\\u044f \\u0438\\u0433\\u0440\\u043e\\u043a\\u0438 \\u043f\\u0440\\u043e\\u0439\\u0434\\u0443\\u0442 \\u043c\\u0435\\u0434\\u043e\\u0431\\u0441\\u043b\\u0435\\u0434\\u043e\\u0432\\u0430\\u043d\\u0438\\u0435. \\u0418\\u043d\\u0444\\u043e\\u0440\\u043c\\u0430\\u0446\\u0438\\u044e \\u043e \\u043a\\u043e\\u043d\\u0444\\u043b\\u0438\\u043a\\u0442\\u0435 \\u0438 \\u0441\\u043e\\u0441\\u0442\\u043e\\u044f\\u043d\\u0438\\u0438 \\u0444\\u0443\\u0442\\u0431\\u043e\\u043b\\u0438\\u0441\\u0442\\u043e\\u0432 \\u0441\\u043e\\u043e\\u0431\\u0449\\u0438\\u043b \\u043d\\u0430\\u0445\\u043e\\u0434\\u044f\\u0449\\u0438\\u0439\\u0441\\u044f \\u0432\\u043c\\u0435\\u0441\\u0442\\u0435 \\u0441 \\u043a\\u043e\\u043c\\u0430\\u043d\\u0434\\u043e\\u0439 \\u043f\\u0440\\u0435\\u0441\\u0441-\\u0430\\u0442\\u0442\\u0430\\u0448\\u0435 \\u00ab\\u0428\\u0438\\u043d\\u043d\\u0438\\u043a\\u0430\\u00bb \\u0418\\u0433\\u043e\\u0440\\u044c \\u041c\\u0435\\u0440\\u0435\\u0436\\u0438\\u043d, \\u043a\\u043e\\u0442\\u043e\\u0440\\u044b\\u0439, \\u043a\\u0441\\u0442\\u0430\\u0442\\u0438, \\u043e\\u043f\\u0440\\u043e\\u0432\\u0435\\u0440\\u0433 \\u0438\\u043d\\u0444\\u043e\\u0440\\u043c\\u0430\\u0446\\u0438\\u044e \\u043e \\u043f\\u0435\\u0440\\u0435\\u043b\\u043e\\u043c\\u0430\\u0445: \\u2013 \\u0422\\u0430\\u043a\\u043e\\u0439 \\u0444\\u0430\\u043a\\u0442 \\u0431\\u044b\\u043b, \\u2013 \\u0437\\u0430\\u044f\\u0432\\u0438\\u043b \\u043f\\u0440\\u0435\\u0434\\u0441\\u0442\\u0430\\u0432\\u0438\\u0442\\u0435\\u043b\\u044c \\u043a\\u043b\\u0443\\u0431\\u0430, \\u2013 \\u043f\\u043e\\u0441\\u0442\\u0440\\u0430\\u0434\\u0430\\u0432\\u0448\\u0438\\u0445 \\u043d\\u0435\\u0441\\u043a\\u043e\\u043b\\u044c\\u043a\\u043e \\u0447\\u0435\\u043b\\u043e\\u0432\\u0435\\u043a, \\u043d\\u043e \\u043d\\u0438\\u0447\\u0435\\u0433\\u043e \\u0441\\u0435\\u0440\\u044c\\u0451\\u0437\\u043d\\u043e\\u0433\\u043e, \\u043d\\u0438\\u043a\\u0430\\u043a\\u0438\\u0445 \\u043f\\u0435\\u0440\\u0435\\u043b\\u043e\\u043c\\u043e\\u0432 \\u043d\\u0435\\u0442. \\u0424\\u0430\\u043a\\u0442 \\u0434\\u0440\\u0430\\u043a\\u0438 \\u043c\\u0435\\u0436\\u0434\\u0443 \\u0438\\u0433\\u0440\\u043e\\u043a\\u0430\\u043c\\u0438 \\u043f\\u043e\\u0434\\u0442\\u0432\\u0435\\u0440\\u0434\\u0438\\u043b\\u0438 \\u0438 \\u043f\\u0440\\u0435\\u0434\\u0441\\u0442\\u0430\\u0432\\u0438\\u0442\\u0435\\u043b\\u0438 \\u0442\\u0443\\u0440\\u0435\\u0446\\u043a\\u043e\\u0433\\u043e \\u043e\\u0442\\u0435\\u043b\\u044f. \\u0413\\u0435\\u043d\\u0434\\u0438\\u0440\\u0435\\u043a\\u0442\\u043e\\u0440 \\u00ab\\u0428\\u043d\\u043d\\u043d\\u0438\\u043a\\u0430\\u00bb \\u041a\\u0443\\u043b\\u0430\\u043a\\u043e\\u0432 \\u043e\\u0442\\u043c\\u0435\\u0442\\u0438\\u043b, \\u0447\\u0442\\u043e \\u043a\\u043e\\u043c\\u0430\\u043d\\u0434\\u0430 \\u043f\\u0435\\u0440\\u0435\\u0431\\u0435\\u0440\\u0451\\u0442\\u0441\\u044f \\u0432 \\u0434\\u0440\\u0443\\u0433\\u043e\\u0439 \\u043e\\u0442\\u0435\\u043b\\u044c \\u0432\\u043e \\u0438\\u0437\\u0431\\u0435\\u0436\\u0430\\u043d\\u0438\\u0435 \\u0434\\u0430\\u043b\\u044c\\u043d\\u0435\\u0439\\u0448\\u0438\\u0445 \\u043a\\u043e\\u043d\\u0444\\u043b\\u0438\\u043a\\u0442\\u043e\\u0432.\\n\\u00ab\\u0428\\u0438\\u043d\\u043d\\u0438\\u043a\\u00bb \\u043f\\u0435\\u0440\\u0435\\u0435\\u0434\\u0435\\u0442 \\u0432 \\u0434\\u0440\\u0443\\u0433\\u043e\\u0439 \\u043e\\u0442\\u0435\\u043b\\u044c. \\u041d\\u0443 \\u0430 \\u0447\\u0442\\u043e \\u043d\\u0430\\u043c \\u043e\\u0441\\u0442\\u0430\\u0451\\u0442\\u0441\\u044f \\u0434\\u0435\\u043b\\u0430\\u0442\\u044c? \\u041e\\u0441\\u0442\\u0430\\u0432\\u0430\\u0442\\u044c\\u0441\\u044f \\u0432 \\u0437\\u043e\\u043d\\u0435 \\u043a\\u043e\\u043d\\u0444\\u043b\\u0438\\u043a\\u0442\\u0430? \\u041c\\u043e\\u0451 \\u043c\\u043d\\u0435\\u043d\\u0438\\u0435 \\u2014 \\u0441\\u0442\\u043e\\u0438\\u0442 \\u0438\\u0437\\u0431\\u0435\\u0436\\u0430\\u0442\\u044c \\u043a\\u043e\\u043d\\u0444\\u043b\\u0438\\u043a\\u0442\\u0430. \\u041d\\u0430\\u0434\\u0435\\u044e\\u0441\\u044c, \\u0447\\u0442\\u043e \\u043f\\u0440\\u0438\\u043d\\u044f\\u0442\\u043e \\u043f\\u0440\\u0430\\u0432\\u0438\\u043b\\u044c\\u043d\\u043e\\u0435 \\u0440\\u0435\\u0448\\u0435\\u043d\\u0438\\u0435. \\u0421 \\u0438\\u0433\\u0440\\u043e\\u043a\\u0430\\u043c\\u0438 \\u0432\\u0441\\u0451 \\u043d\\u043e\\u0440\\u043c\\u0430\\u043b\\u044c\\u043d\\u043e. \\u0412\\u0441\\u0451 \\u043d\\u0430\\u0445\\u043e\\u0434\\u0438\\u0442\\u0441\\u044f \\u043f\\u043e\\u0434 \\u043a\\u043e\\u043d\\u0442\\u0440\\u043e\\u043b\\u0435\\u043c\\u00bb.\",\n          \"\\u041f\\u0435\\u0440\\u0432\\u044b\\u0439 \\u043d\\u043e\\u043c\\u0435\\u0440 \\u0434\\u0440\\u0430\\u0444\\u0442\\u0430 2023 \\u0433\\u043e\\u0434\\u0430 \\u0412\\u0438\\u043a\\u0442\\u043e\\u0440 \\u0412\\u0435\\u043c\\u0431\\u0430\\u043d\\u044c\\u044f\\u043c\\u0430 \\u043f\\u0440\\u043e\\u0432\\u043e\\u0434\\u0438\\u0442 \\u0441\\u0432\\u043e\\u0439 \\u0434\\u0435\\u0431\\u044e\\u0442\\u043d\\u044b\\u0439 \\u0441\\u0435\\u0437\\u043e\\u043d \\u0432 \\u041d\\u0430\\u0446\\u0438\\u043e\\u043d\\u0430\\u043b\\u044c\\u043d\\u043e\\u0439 \\u0431\\u0430\\u0441\\u043a\\u0435\\u0442\\u0431\\u043e\\u043b\\u044c\\u043d\\u043e\\u0439 \\u0430\\u0441\\u0441\\u043e\\u0446\\u0438\\u0430\\u0446\\u0438\\u0438. \\u00ab\\u0421\\u0430\\u043d-\\u0410\\u043d\\u0442\\u043e\\u043d\\u0438\\u043e \\u0421\\u043f\\u0451\\u0440\\u0441\\u00bb \\u0441 \\u0444\\u0440\\u0430\\u043d\\u0446\\u0443\\u0437\\u043e\\u043c \\u0432\\u043e \\u0433\\u043b\\u0430\\u0432\\u0435 \\u0437\\u0430\\u043d\\u0438\\u043c\\u0430\\u0435\\u0442 \\u043f\\u043e\\u0441\\u043b\\u0435\\u0434\\u043d\\u0435\\u0435, 15-\\u0435 \\u043c\\u0435\\u0441\\u0442\\u043e \\u0432 \\u0442\\u0443\\u0440\\u043d\\u0438\\u0440\\u043d\\u043e\\u0439 \\u0442\\u0430\\u0431\\u043b\\u0438\\u0446\\u0435 \\u0417\\u0430\\u043f\\u0430\\u0434\\u043d\\u043e\\u0439 \\u043a\\u043e\\u043d\\u0444\\u0435\\u0440\\u0435\\u043d\\u0446\\u0438\\u0438 \\u0438 \\u0443\\u0436\\u0435 \\u0434\\u0430\\u0432\\u043d\\u043e \\u043f\\u043e\\u0442\\u0435\\u0440\\u044f\\u043b \\u0448\\u0430\\u043d\\u0441\\u044b \\u043d\\u0430 \\u0432\\u044b\\u0445\\u043e\\u0434 \\u0432 \\u043f\\u043b\\u0435\\u0439-\\u043e\\u0444\\u0444. \\u041e\\u0434\\u043d\\u0430\\u043a\\u043e \\u044d\\u0442\\u043e \\u043d\\u0435 \\u043c\\u0435\\u0448\\u0430\\u0435\\u0442 \\u0446\\u0435\\u043d\\u0442\\u0440\\u043e\\u0432\\u043e\\u043c\\u0443 \\u043f\\u0440\\u043e\\u0434\\u043e\\u043b\\u0436\\u0430\\u0442\\u044c \\u0440\\u0430\\u0437\\u0432\\u0438\\u0432\\u0430\\u0442\\u044c\\u0441\\u044f \\u0438 \\u0441\\u0442\\u0430\\u043d\\u043e\\u0432\\u0438\\u0442\\u044c\\u0441\\u044f \\u0441\\u0438\\u043b\\u044c\\u043d\\u0435\\u0435 \\u0441 \\u043a\\u0430\\u0436\\u0434\\u044b\\u043c \\u043c\\u0430\\u0442\\u0447\\u0435\\u043c. \\u041a\\u0430\\u043a \\u0412\\u0435\\u043c\\u0431\\u0430\\u043d\\u044c\\u044f\\u043c\\u0430 \\u043e\\u0442\\u043d\\u043e\\u0441\\u0438\\u0442\\u0441\\u044f \\u043a \\u0431\\u0430\\u0441\\u043a\\u0435\\u0442\\u0431\\u043e\\u043b\\u0443 \\u0432 \\u0446\\u0435\\u043b\\u043e\\u043c \\u0438 \\u0437\\u0430\\u0434\\u0435\\u0432\\u0430\\u044e\\u0442 \\u043b\\u0438 \\u0435\\u0433\\u043e, \\u043d\\u0430\\u043f\\u0440\\u0438\\u043c\\u0435\\u0440, \\u0441\\u043b\\u044d\\u043c-\\u0434\\u0430\\u043d\\u043a\\u0438 \\u0447\\u0435\\u0440\\u0435\\u0437 \\u043d\\u0435\\u0433\\u043e? \\u0420\\u0430\\u0437\\u0431\\u0438\\u0440\\u0430\\u0435\\u043c\\u0441\\u044f \\u0432\\u043c\\u0435\\u0441\\u0442\\u0435 \\u0441 \\u043d\\u0430\\u043c\\u0438.\\n\\u0412\\u043e-\\u043f\\u0435\\u0440\\u0432\\u044b\\u0445, \\u0434\\u043e \\u043f\\u0435\\u0440\\u0435\\u0435\\u0437\\u0434\\u0430 \\u0432 \\u041d\\u0411\\u0410 \\u0438\\u0437 \\u0424\\u0440\\u0430\\u043d\\u0446\\u0438\\u0438 \\u0412\\u0435\\u043c\\u0431\\u0438 \\u043f\\u0440\\u043e\\u0432\\u0451\\u043b \\u0447\\u0435\\u0442\\u044b\\u0440\\u0435 \\u043f\\u043e\\u043b\\u043d\\u043e\\u0446\\u0435\\u043d\\u043d\\u044b\\u0445 \\u0441\\u0435\\u0437\\u043e\\u043d\\u0430 \\u0432\\u043e \\u0432\\u0437\\u0440\\u043e\\u0441\\u043b\\u043e\\u043c \\u0431\\u0430\\u0441\\u043a\\u0435\\u0442\\u0431\\u043e\\u043b\\u0435. \\u041f\\u0440\\u0438 \\u044d\\u0442\\u043e\\u043c \\u0412\\u0438\\u043a\\u0442\\u043e\\u0440 \\u0432\\u044b\\u0440\\u043e\\u0441 \\u0432 \\u0441\\u0435\\u043c\\u044c\\u0435 \\u043f\\u0440\\u043e\\u0444\\u0435\\u0441\\u0441\\u0438\\u043e\\u043d\\u0430\\u043b\\u044c\\u043d\\u044b\\u0445 \\u0441\\u043f\\u043e\\u0440\\u0442\\u0441\\u043c\\u0435\\u043d\\u043e\\u0432. \\u041e\\u0442\\u0435\\u0446 \\u0437\\u0430\\u043d\\u0438\\u043c\\u0430\\u043b\\u0441\\u044f \\u043b\\u0451\\u0433\\u043a\\u043e\\u0439 \\u0430\\u0442\\u043b\\u0435\\u0442\\u0438\\u043a\\u043e\\u0439, \\u0430 \\u043c\\u0430\\u0442\\u044c, \\u0441\\u0435\\u0441\\u0442\\u0440\\u0430, \\u0434\\u0435\\u0434\\u0443\\u0448\\u043a\\u0430 \\u0438 \\u0431\\u0430\\u0431\\u0443\\u0448\\u043a\\u0430 \\u2014 \\u0431\\u0430\\u0441\\u043a\\u0435\\u0442\\u0431\\u043e\\u043b\\u0438\\u0441\\u0442\\u044b. \\u0422\\u043e \\u0435\\u0441\\u0442\\u044c \\u0441 \\u0441\\u0430\\u043c\\u044b\\u0445 \\u044e\\u043d\\u044b\\u0445 \\u043b\\u0435\\u0442 \\u043f\\u0430\\u0440\\u0435\\u043d\\u044c \\u0440\\u043e\\u0441 \\u043d\\u0430 \\u0446\\u0435\\u043d\\u043d\\u043e\\u0441\\u0442\\u044f\\u0445, \\u043a\\u043e\\u0442\\u043e\\u0440\\u044b\\u0435 \\u043f\\u0440\\u0438\\u0432\\u0438\\u0432\\u0430\\u0435\\u0442 \\u0441\\u043f\\u043e\\u0440\\u0442: \\u0442\\u0440\\u0443\\u0434\\u043e\\u043b\\u044e\\u0431\\u0438\\u0438, \\u0440\\u0430\\u0437\\u0432\\u0438\\u0442\\u0438\\u0438, \\u0434\\u043e\\u0441\\u0442\\u0438\\u0436\\u0435\\u043d\\u0438\\u0438 \\u0446\\u0435\\u043b\\u0435\\u0439 \\u0438 \\u0442\\u0430\\u043a \\u0434\\u0430\\u043b\\u0435\\u0435.\\n\\u041d\\u043e \\u0434\\u0430\\u0436\\u0435 \\u0442\\u0430\\u043a \\u043d\\u0435 \\u0443 \\u0432\\u0441\\u0435\\u0445 \\u043f\\u043e\\u043b\\u0443\\u0447\\u0430\\u0435\\u0442\\u0441\\u044f \\u0441\\u043e\\u0445\\u0440\\u0430\\u043d\\u0438\\u0442\\u044c \\u0441\\u0435\\u0431\\u044f \\u0438 \\u0442\\u043e, \\u0447\\u0442\\u043e \\u0432 \\u0442\\u0435\\u0431\\u044f \\u0432\\u043b\\u043e\\u0436\\u0438\\u043b\\u0438 \\u0440\\u043e\\u0434\\u0438\\u0442\\u0435\\u043b\\u0438, \\u043a\\u043e\\u0433\\u0434\\u0430 \\u043d\\u0430 \\u0442\\u0435\\u0431\\u044f \\u0441\\u0432\\u0430\\u043b\\u0438\\u0432\\u0430\\u044e\\u0442\\u0441\\u044f \\u043e\\u0433\\u0440\\u043e\\u043c\\u043d\\u0430\\u044f \\u0441\\u043b\\u0430\\u0432\\u0430 \\u0438 \\u0443\\u0441\\u043f\\u0435\\u0445 \\u0432 \\u041d\\u0411\\u0410. \\u0423 \\u0412\\u0435\\u043c\\u0431\\u0430\\u043d\\u044c\\u044f\\u043c\\u044b \\u0441 \\u044d\\u0442\\u0438\\u043c \\u043f\\u043e\\u043a\\u0430 \\u0432\\u043e\\u043e\\u0431\\u0449\\u0435 \\u043d\\u0435\\u0442 \\u043f\\u0440\\u043e\\u0431\\u043b\\u0435\\u043c. \\u0412 \\u043f\\u043e\\u0441\\u043b\\u0435\\u0434\\u043d\\u0435\\u043c \\u043c\\u0430\\u0442\\u0447\\u0435 \\u0440\\u0435\\u0433\\u0443\\u043b\\u044f\\u0440\\u043d\\u043e\\u0433\\u043e \\u0447\\u0435\\u043c\\u043f\\u0438\\u043e\\u043d\\u0430\\u0442\\u0430 \\u0441 \\u00ab\\u0413\\u043e\\u043b\\u0434\\u0435\\u043d \\u0421\\u0442\\u044d\\u0439\\u0442 \\u0423\\u043e\\u0440\\u0440\\u0438\\u043e\\u0440\\u0437\\u00bb \\u0447\\u0435\\u0440\\u0435\\u0437 \\u043d\\u0435\\u0433\\u043e \\u0438\\u0441\\u043f\\u043e\\u043b\\u043d\\u0438\\u043b \\u0441\\u043b\\u044d\\u043c-\\u0434\\u0430\\u043d\\u043a \\u0422\\u0440\\u044d\\u0439\\u0441 \\u0414\\u0436\\u0435\\u043a\\u0441\\u043e\\u043d-\\u0414\\u044d\\u0432\\u0438\\u0441, \\u0438 \\u0434\\u043b\\u044f \\u043d\\u0435\\u043a\\u043e\\u0442\\u043e\\u0440\\u044b\\u0445 \\u044d\\u0442\\u043e \\u043c\\u043e\\u0436\\u0435\\u0442 \\u043f\\u043e\\u0441\\u043b\\u0443\\u0436\\u0438\\u0442\\u044c \\u0441\\u0432\\u043e\\u0435\\u0433\\u043e \\u0440\\u043e\\u0434\\u0430 \\u0443\\u043d\\u0438\\u0436\\u0435\\u043d\\u0438\\u0435\\u043c.\\n\\u0412\\u0438\\u0434\\u0435\\u043e \\u043c\\u043e\\u0436\\u043d\\u043e \\u043f\\u043e\\u0441\\u043c\\u043e\\u0442\\u0440\\u0435\\u0442\\u044c \\u043d\\u0430 \\u043a\\u0430\\u043d\\u0430\\u043b\\u0435 Chaz NBA \\u0432 YouTube. \\u041f\\u0440\\u0430\\u0432\\u0430 \\u043d\\u0430 \\u0432\\u0438\\u0434\\u0435\\u043e \\u043f\\u0440\\u0438\\u043d\\u0430\\u0434\\u043b\\u0435\\u0436\\u0430\\u0442 NBA MEDIA VENTURES, LLC.\\n\\u0422\\u043e\\u043b\\u044c\\u043a\\u043e \\u043d\\u0435 \\u0434\\u043b\\u044f \\u0412\\u0438\\u043a\\u0442\\u043e\\u0440\\u0430, \\u043a\\u043e\\u0442\\u043e\\u0440\\u044b\\u0439 \\u0443\\u0436\\u0435 \\u043f\\u043e\\u0441\\u043b\\u0435 \\u043c\\u0430\\u0442\\u0447\\u0430 \\u0441\\u043e\\u043e\\u0431\\u0449\\u0438\\u043b: \\u00ab\\u041f\\u043e\\u043b\\u0443\\u0447\\u0438\\u0442\\u044c \\u0441\\u043b\\u044d\\u043c-\\u0434\\u0430\\u043d\\u043a \\u0447\\u0435\\u0440\\u0435\\u0437 \\u0441\\u0435\\u0431\\u044f \\u2014 \\u044d\\u0442\\u043e \\u043d\\u0438\\u0447\\u0435\\u0433\\u043e. \\u042d\\u0442\\u043e \\u0447\\u0430\\u0441\\u0442\\u044c \\u0438\\u0433\\u0440\\u044b. \\u042f \\u043f\\u043e\\u0441\\u0442\\u0430\\u0432\\u0438\\u043b \\u0447\\u0435\\u0440\\u0435\\u0437 \\u043c\\u043d\\u043e\\u0433\\u0438\\u0445 \\u043b\\u044e\\u0434\\u0435\\u0439 \\u0438 \\u0442\\u0430\\u043a\\u0436\\u0435 \\u043f\\u043e\\u043b\\u0443\\u0447\\u0438\\u043b \\u043e\\u0442 \\u043c\\u043d\\u043e\\u0433\\u0438\\u0445. \\u041d\\u043e \\u0434\\u0443\\u043c\\u0430\\u044e, \\u0447\\u0442\\u043e \\u0443 \\u043c\\u0435\\u043d\\u044f \\u0447\\u0430\\u0449\\u0435 \\u043f\\u043e\\u043b\\u0443\\u0447\\u0430\\u0435\\u0442\\u0441\\u044f \\u0431\\u043b\\u043e\\u043a\\u0438\\u0440\\u043e\\u0432\\u0430\\u0442\\u044c, \\u0447\\u0435\\u043c \\u043f\\u043e\\u043b\\u0443\\u0447\\u0430\\u0442\\u044c \\u0441\\u043b\\u044d\\u043c-\\u0434\\u0430\\u043d\\u043a\\u0438, \\u0442\\u0430\\u043a \\u0447\\u0442\\u043e \\u0432\\u0441\\u0451 \\u043d\\u043e\\u0440\\u043c\\u0430\\u043b\\u044c\\u043d\\u043e\\u00bb. \\u0412\\u0435\\u043c\\u0431\\u0430\\u043d\\u044c\\u044f\\u043c\\u0443 \\u0432\\u043e\\u043e\\u0431\\u0449\\u0435 \\u0437\\u0430\\u0431\\u043e\\u0442\\u0438\\u0442 \\u043d\\u0435 \\u0432\\u0441\\u0451 \\u0432\\u043e\\u043a\\u0440\\u0443\\u0433, \\u0430 \\u043b\\u0438\\u0448\\u044c \\u0440\\u0430\\u0437\\u0432\\u0438\\u0442\\u0438\\u0435 \\u0438 \\u0440\\u0435\\u0437\\u0443\\u043b\\u044c\\u0442\\u0430\\u0442. \\u041e\\u0431 \\u044d\\u0442\\u043e\\u043c \\u0440\\u0430\\u043d\\u0435\\u0435 \\u0433\\u043e\\u0432\\u043e\\u0440\\u0438\\u043b \\u0432\\u0435\\u043b\\u0438\\u043a\\u0438\\u0439 \\u0442\\u0440\\u0435\\u043d\\u0435\\u0440 \\u00ab\\u0421\\u0430\\u043d-\\u0410\\u043d\\u0442\\u043e\\u043d\\u0438\\u043e\\u00bb \\u0413\\u0440\\u0435\\u0433 \\u041f\\u043e\\u043f\\u043e\\u0432\\u0438\\u0447, \\u0441\\u0440\\u0430\\u0432\\u043d\\u0438\\u0432 \\u0444\\u0440\\u0430\\u043d\\u0446\\u0443\\u0437\\u0430 \\u0441 \\u043b\\u0435\\u0433\\u0435\\u043d\\u0434\\u0430\\u0440\\u043d\\u044b\\u043c\\u0438 \\u0431\\u0430\\u0441\\u043a\\u0435\\u0442\\u0431\\u043e\\u043b\\u0438\\u0441\\u0442\\u0430\\u043c\\u0438 \\u00ab\\u0421\\u043f\\u0451\\u0440\\u0441\\u00bb.\\n\\u00ab\\u0412\\u0435\\u043c\\u0431\\u0430\\u043d\\u044c\\u044f\\u043c\\u0430 \\u043f\\u043e\\u0445\\u043e\\u0436 \\u043d\\u0430 \\u0422\\u0438\\u043c\\u0430 (\\u0414\\u0430\\u043d\\u043a\\u0430\\u043d\\u0430) \\u0438 \\u0414\\u044d\\u0432\\u0438\\u0434\\u0430 (\\u0420\\u043e\\u0431\\u0438\\u043d\\u0441\\u043e\\u043d\\u0430), \\u043f\\u043e\\u0442\\u043e\\u043c\\u0443 \\u0447\\u0442\\u043e \\u0438\\u0445 \\u0431\\u043e\\u043b\\u044c\\u0448\\u0435 \\u0432\\u043e\\u043b\\u043d\\u0443\\u0435\\u0442 \\u043f\\u0440\\u043e\\u0446\\u0435\\u0441\\u0441 \\u0438 \\u0442\\u043e, \\u043a\\u0430\\u043a \\u0432\\u0441\\u0451 \\u0434\\u0435\\u043b\\u0430\\u0435\\u0442\\u0441\\u044f, \\u0438\\u043d\\u0430\\u0447\\u0435 \\u0432\\u044b \\u043d\\u0435 \\u0441\\u043c\\u043e\\u0436\\u0435\\u0442\\u0435 \\u0434\\u043e\\u0441\\u0442\\u0438\\u0447\\u044c \\u0441\\u0432\\u043e\\u0438\\u0445 \\u043a\\u043e\\u043d\\u0435\\u0447\\u043d\\u044b\\u0445 \\u0446\\u0435\\u043b\\u0435\\u0439. \\u0412\\u044b \\u043d\\u0435 \\u043c\\u043e\\u0436\\u0435\\u0442\\u0435 \\u043f\\u0440\\u043e\\u043f\\u0443\\u0441\\u0442\\u0438\\u0442\\u044c \\u043d\\u0438 \\u043e\\u0434\\u0438\\u043d \\u0438\\u0437 \\u044d\\u0442\\u0438\\u0445 \\u0448\\u0430\\u0433\\u043e\\u0432. \\u0412\\u0438\\u043a\\u0442\\u043e\\u0440 \\u0443\\u0441\\u0435\\u0440\\u0434\\u043d\\u043e \\u0440\\u0430\\u0431\\u043e\\u0442\\u0430\\u0435\\u0442 \\u043d\\u0430\\u0434 \\u0431\\u0430\\u0437\\u043e\\u0432\\u044b\\u043c\\u0438 \\u043f\\u0440\\u0438\\u043d\\u0446\\u0438\\u043f\\u0430\\u043c\\u0438\\u00bb.\\n\\u0415\\u0441\\u043b\\u0438 \\u043d\\u0430\\u0441\\u0442\\u043e\\u043b\\u044c\\u043a\\u043e \\u0432\\u0435\\u043b\\u0438\\u043a\\u0438\\u0439 \\u0447\\u0435\\u043b\\u043e\\u0432\\u0435\\u043a, \\u043a\\u0430\\u043a \\u041f\\u043e\\u043f, \\u0433\\u043e\\u0432\\u043e\\u0440\\u0438\\u0442, \\u0447\\u0442\\u043e \\u0412\\u0435\\u043c\\u0431\\u0430\\u043d\\u044c\\u044f\\u043c\\u0430 \\u0443\\u0441\\u0435\\u0440\\u0434\\u043d\\u043e \\u0440\\u0430\\u0431\\u043e\\u0442\\u0430\\u0435\\u0442 \\u0438 \\u043f\\u043e\\u0445\\u043e\\u0436 \\u043d\\u0430 \\u043e\\u0434\\u043d\\u0438\\u0445 \\u0438\\u0437 \\u043b\\u0443\\u0447\\u0448\\u0438\\u0445 \\u0438\\u0433\\u0440\\u043e\\u043a\\u043e\\u0432 \\u0432 \\u0438\\u0441\\u0442\\u043e\\u0440\\u0438\\u0438 \\u041d\\u0411\\u0410, \\u0442\\u043e \\u0442\\u043e\\u0433\\u0434\\u0430 \\u0444\\u0440\\u0430\\u043d\\u0446\\u0443\\u0437\\u0430 \\u0442\\u043e\\u0447\\u043d\\u043e \\u0436\\u0434\\u0451\\u0442 \\u0441\\u0432\\u0435\\u0442\\u043b\\u043e\\u0435 \\u0431\\u0443\\u0434\\u0443\\u0449\\u0435\\u0435 \\u0432 \\u043b\\u0438\\u0433\\u0435. \\u041f\\u0435\\u0440\\u0432\\u044b\\u0439 \\u0433\\u043e\\u0434 \\u0432 \\u043d\\u043e\\u0432\\u043e\\u0439 \\u043b\\u0438\\u0433\\u0435 \\u0432\\u0441\\u0435\\u0433\\u0434\\u0430 \\u0441\\u043b\\u043e\\u0436\\u0435\\u043d. \\u0422\\u0435\\u043c \\u0431\\u043e\\u043b\\u0435\\u0435 \\u0435\\u0441\\u043b\\u0438 \\u0442\\u0435\\u0431\\u0435 \\u043f\\u0440\\u0438\\u0448\\u043b\\u043e\\u0441\\u044c \\u043f\\u0435\\u0440\\u0435\\u0435\\u0445\\u0430\\u0442\\u044c \\u0438\\u0437 \\u0440\\u043e\\u0434\\u043d\\u043e\\u0439 \\u0424\\u0440\\u0430\\u043d\\u0446\\u0438\\u0438 \\u0432 \\u043d\\u0435\\u0438\\u0437\\u0432\\u0435\\u0441\\u0442\\u043d\\u0443\\u044e \\u0434\\u043e \\u044d\\u0442\\u043e\\u0433\\u043e \\u0441\\u0442\\u0440\\u0430\\u043d\\u0443. \\u0412\\u0438\\u043a\\u0442\\u043e\\u0440 \\u043f\\u0440\\u043e\\u0434\\u043e\\u043b\\u0436\\u0430\\u0435\\u0442 \\u0440\\u0430\\u0437\\u0432\\u0438\\u0432\\u0430\\u0442\\u044c\\u0441\\u044f \\u0438 \\u043d\\u0435 \\u043e\\u0441\\u0442\\u0430\\u043d\\u0430\\u0432\\u043b\\u0438\\u0432\\u0430\\u0442\\u044c\\u0441\\u044f \\u043d\\u0430 \\u0434\\u043e\\u0441\\u0442\\u0438\\u0433\\u043d\\u0443\\u0442\\u043e\\u043c, \\u0434\\u0430\\u0436\\u0435 \\u043d\\u0435\\u0441\\u043c\\u043e\\u0442\\u0440\\u044f \\u043d\\u0430 \\u043f\\u043b\\u043e\\u0445\\u0438\\u0435 \\u0440\\u0435\\u0437\\u0443\\u043b\\u044c\\u0442\\u0430\\u0442\\u044b \\u00ab\\u0421\\u0430\\u043d-\\u0410\\u043d\\u0442\\u043e\\u043d\\u0438\\u043e\\u00bb \\u0432 \\u0441\\u0435\\u0437\\u043e\\u043d\\u0435.\\n\\u0412 \\u043d\\u044b\\u043d\\u0435\\u0448\\u043d\\u0435\\u043c \\u0440\\u0435\\u0433\\u0443\\u043b\\u044f\\u0440\\u043d\\u043e\\u043c \\u0447\\u0435\\u043c\\u043f\\u0438\\u043e\\u043d\\u0430\\u0442\\u0435 \\u0412\\u0435\\u043c\\u0431\\u0430\\u043d\\u044c\\u044f\\u043c\\u0430 \\u043f\\u0440\\u043e\\u0432\\u0451\\u043b 57 \\u043c\\u0430\\u0442\\u0447\\u0435\\u0439 \\u0438 \\u0432 \\u0441\\u0440\\u0435\\u0434\\u043d\\u0435\\u043c \\u0437\\u0430 \\u0438\\u0433\\u0440\\u0443 \\u043d\\u0430\\u0431\\u0438\\u0440\\u0430\\u0435\\u0442 20,8 \\u043e\\u0447\\u043a\\u0430, 10,3 \\u043f\\u043e\\u0434\\u0431\\u043e\\u0440\\u0430, 3,4 \\u0440\\u0435\\u0437\\u0443\\u043b\\u044c\\u0442\\u0430\\u0442\\u0438\\u0432\\u043d\\u043e\\u0439 \\u043f\\u0435\\u0440\\u0435\\u0434\\u0430\\u0447\\u0438 \\u0438 3,4 \\u0431\\u043b\\u043e\\u043a-\\u0448\\u043e\\u0442\\u0430. \\u041f\\u0440\\u043e\\u0441\\u0442\\u043e \\u0444\\u0435\\u043d\\u043e\\u043c\\u0435\\u043d\\u0430\\u043b\\u044c\\u043d\\u044b\\u0435 \\u0446\\u0438\\u0444\\u0440\\u044b \\u0434\\u043b\\u044f \\u043f\\u0430\\u0440\\u043d\\u044f \\u0432 \\u043f\\u0435\\u0440\\u0432\\u044b\\u0439 \\u0433\\u043e\\u0434. \\u0412\\u0435\\u043c\\u0431\\u0438 \\u0437\\u0430\\u0441\\u043b\\u0443\\u0436\\u0435\\u043d\\u043d\\u043e \\u043b\\u0438\\u0434\\u0438\\u0440\\u0443\\u0435\\u0442 \\u0432 \\u0441\\u043f\\u0438\\u0441\\u043a\\u0435 \\u043d\\u0430 \\u00ab\\u041b\\u0443\\u0447\\u0448\\u0435\\u0433\\u043e \\u043d\\u043e\\u0432\\u0438\\u0447\\u043a\\u0430 \\u0441\\u0435\\u0437\\u043e\\u043d\\u0430\\u00bb. \\u041f\\u0440\\u0438 \\u044d\\u0442\\u043e\\u043c \\u0442\\u0440\\u0443\\u0434\\u043e\\u0432\\u0443\\u044e \\u044d\\u0442\\u0438\\u043a\\u0443 20-\\u043b\\u0435\\u0442\\u043d\\u0435\\u0433\\u043e \\u0444\\u0440\\u0430\\u043d\\u0446\\u0443\\u0437\\u0430 \\u043e\\u0442\\u043c\\u0435\\u0447\\u0430\\u044e\\u0442 \\u0438 \\u043f\\u0430\\u0440\\u0442\\u043d\\u0451\\u0440\\u044b \\u043f\\u043e \\u043a\\u043e\\u043c\\u0430\\u043d\\u0434\\u0435. \\u0414\\u0443\\u0433 \\u041c\\u0430\\u043a\\u0434\\u0435\\u0440\\u043c\\u043e\\u0442\\u0442 \\u0437\\u0430\\u044f\\u0432\\u0438\\u043b \\u0441\\u043b\\u0435\\u0434\\u0443\\u044e\\u0449\\u0435\\u0435: \\u00ab\\u0415\\u0433\\u043e \\u043f\\u043e\\u0442\\u0435\\u043d\\u0446\\u0438\\u0430\\u043b \\u0431\\u0435\\u0437\\u0433\\u0440\\u0430\\u043d\\u0438\\u0447\\u0435\\u043d. \\u041e\\u0447\\u0435\\u043d\\u044c \\u0446\\u0435\\u043b\\u0435\\u0443\\u0441\\u0442\\u0440\\u0435\\u043c\\u043b\\u0451\\u043d\\u043d\\u044b\\u0439, \\u043e\\u043d \\u0440\\u0430\\u0431\\u043e\\u0442\\u0430\\u0435\\u0442 \\u043d\\u0435 \\u043f\\u043e\\u043a\\u043b\\u0430\\u0434\\u0430\\u044f \\u0440\\u0443\\u043a, \\u0438 \\u0438\\u043c\\u0435\\u043d\\u043d\\u043e \\u0442\\u0430\\u043a\\u043e\\u0439 \\u0443 \\u043d\\u0435\\u0433\\u043e \\u0441\\u043a\\u043b\\u0430\\u0434 \\u0443\\u043c\\u0430. \\u041d\\u0438\\u043a\\u043e\\u0433\\u0434\\u0430 \\u043d\\u0435 \\u0432\\u0438\\u0434\\u0435\\u043b, \\u0447\\u0442\\u043e\\u0431\\u044b \\u043a\\u0442\\u043e-\\u0442\\u043e \\u0438\\u0437 \\u043d\\u043e\\u0432\\u0438\\u0447\\u043a\\u043e\\u0432 \\u0431\\u044b\\u043b \\u043d\\u0430\\u0441\\u0442\\u043e\\u043b\\u044c\\u043a\\u043e \\u0443\\u0432\\u0435\\u0440\\u0435\\u043d \\u0432 \\u0441\\u0435\\u0431\\u0435 \\u0438 \\u0441\\u0432\\u043e\\u0435\\u0439 \\u0442\\u0440\\u0443\\u0434\\u043e\\u0432\\u043e\\u0439 \\u044d\\u0442\\u0438\\u043a\\u0435. \\u041f\\u0440\\u043e\\u0441\\u0442\\u043e \\u0437\\u0430\\u043c\\u0435\\u0447\\u0430\\u0442\\u0435\\u043b\\u044c\\u043d\\u043e, \\u0447\\u0442\\u043e \\u043e\\u043d \\u0443 \\u043d\\u0430\\u0441 \\u0432 \\u043a\\u043e\\u043c\\u0430\\u043d\\u0434\\u0435, \\u043f\\u043e\\u0442\\u043e\\u043c\\u0443 \\u0447\\u0442\\u043e \\u044d\\u0442\\u043e \\u0438\\u0434\\u0435\\u0430\\u043b\\u044c\\u043d\\u043e\\u0435 \\u043c\\u0435\\u0441\\u0442\\u043e \\u0434\\u043b\\u044f \\u0442\\u043e\\u0433\\u043e, \\u0447\\u0442\\u043e\\u0431\\u044b \\u043e\\u043d \\u043c\\u043e\\u0433 \\u043f\\u0440\\u043e\\u044f\\u0432\\u0438\\u0442\\u044c \\u0441\\u0435\\u0431\\u044f\\u00bb.\\n\\u0412 \\u043e\\u0431\\u0449\\u0435\\u043c, \\u043f\\u043e\\u043a\\u0430 \\u043d\\u0438 \\u0443 \\u043d\\u0430\\u0441, \\u043d\\u0438 \\u0443 \\u043a\\u043e\\u0433\\u043e-\\u0442\\u043e \\u0438\\u0437 \\u043c\\u0438\\u0440\\u0430 \\u0431\\u0430\\u0441\\u043a\\u0435\\u0442\\u0431\\u043e\\u043b\\u0430 \\u043d\\u0435 \\u043f\\u043e\\u043b\\u0443\\u0447\\u0430\\u0435\\u0442\\u0441\\u044f \\u0443\\u043f\\u0440\\u0435\\u043a\\u043d\\u0443\\u0442\\u044c \\u0412\\u0435\\u043c\\u0431\\u0430\\u043d\\u044c\\u044f\\u043c\\u0443 \\u0445\\u043e\\u0442\\u044c \\u0432 \\u0447\\u0451\\u043c-\\u0442\\u043e. \\u041f\\u0430\\u0440\\u0435\\u043d\\u044c \\u0432 \\u0441\\u0432\\u043e\\u0439 \\u043f\\u0435\\u0440\\u0432\\u044b\\u0439 \\u0441\\u0435\\u0437\\u043e\\u043d \\u0432 \\u043b\\u0438\\u0433\\u0435 \\u0443\\u0434\\u0438\\u0432\\u043b\\u044f\\u0435\\u0442 \\u0443\\u043c\\u043e\\u043f\\u043e\\u043c\\u0440\\u0430\\u0447\\u0438\\u0442\\u0435\\u043b\\u044c\\u043d\\u044b\\u043c\\u0438 \\u0431\\u043b\\u043e\\u043a-\\u0448\\u043e\\u0442\\u0430\\u043c\\u0438 \\u0438 \\u043f\\u0440\\u043e\\u0441\\u0442\\u043e \\u0432\\u044b\\u0433\\u043b\\u044f\\u0434\\u0438\\u0442 \\u043a\\u0430\\u043a \\u0438\\u0433\\u0440\\u043e\\u043a, \\u0443 \\u043a\\u043e\\u0442\\u043e\\u0440\\u043e\\u0433\\u043e \\u0435\\u0441\\u0442\\u044c \\u043f\\u043e\\u0442\\u0435\\u043d\\u0446\\u0438\\u0430\\u043b \\u0441\\u0442\\u0430\\u0442\\u044c \\u043e\\u0434\\u043d\\u0438\\u043c \\u0438\\u0437 \\u0432\\u0435\\u043b\\u0438\\u0447\\u0430\\u0439\\u0448\\u0438\\u0445. \\u041f\\u0440\\u0438 \\u044d\\u0442\\u043e\\u043c \\u0446\\u0435\\u043d\\u0442\\u0440\\u043e\\u0432\\u043e\\u0439 \\u043d\\u0430\\u0445\\u043e\\u0434\\u0438\\u0442\\u0441\\u044f \\u0432 \\u043c\\u0430\\u043a\\u0441\\u0438\\u043c\\u0430\\u043b\\u044c\\u043d\\u043e \\u043f\\u0440\\u0430\\u0432\\u0438\\u043b\\u044c\\u043d\\u043e\\u0439 \\u043a\\u043e\\u043c\\u0430\\u043d\\u0434\\u0435, \\u0433\\u0434\\u0435 \\u0435\\u043c\\u0443 \\u043c\\u043e\\u0433\\u0443\\u0442 \\u043f\\u043e\\u0434\\u0441\\u043a\\u0430\\u0437\\u0430\\u0442\\u044c \\u0438 \\u043f\\u043e\\u043c\\u043e\\u0447\\u044c. \\u041f\\u043e\\u043f\\u043e\\u0432\\u0438\\u0447 \\u0432\\u0441\\u0435\\u0433\\u0434\\u0430 \\u0443\\u043c\\u0435\\u043b \\u0440\\u0430\\u0437\\u0432\\u0438\\u0432\\u0430\\u0442\\u044c \\u0442\\u0430\\u043b\\u0430\\u043d\\u0442\\u044b, \\u0430 \\u0414\\u0430\\u043d\\u043a\\u0430\\u043d \\u0441 \\u0420\\u043e\\u0431\\u0438\\u043d\\u0441\\u043e\\u043d\\u043e\\u043c \\u0445\\u043e\\u0442\\u044c \\u0438 \\u043d\\u0435 \\u0431\\u044b\\u043b\\u0438 \\u043c\\u043d\\u043e\\u0433\\u043e\\u0441\\u043b\\u043e\\u0432\\u043d\\u044b\\u043c\\u0438 \\u043f\\u043e \\u0445\\u043e\\u0434\\u0443 \\u0441\\u0432\\u043e\\u0438\\u0445 \\u043a\\u0430\\u0440\\u044c\\u0435\\u0440, \\u043d\\u043e \\u0442\\u043e\\u0447\\u043d\\u043e \\u0441\\u043f\\u043e\\u0441\\u043e\\u0431\\u043d\\u044b \\u043f\\u043e\\u043c\\u043e\\u0447\\u044c \\u043c\\u043e\\u043b\\u043e\\u0434\\u043e\\u043c\\u0443 \\u043f\\u0430\\u0440\\u0435\\u043d\\u044c\\u043a\\u0443 \\u0432\\u0441\\u0435\\u043c, \\u0447\\u0435\\u043c \\u043c\\u043e\\u0433\\u0443\\u0442. \\u041f\\u0440\\u043e\\u0434\\u043e\\u043b\\u0436\\u0430\\u0435\\u043c \\u0441\\u043b\\u0435\\u0434\\u0438\\u0442\\u044c \\u0437\\u0430 \\u041d\\u0411\\u0410 \\u0438 \\u0432\\u0435\\u043b\\u0438\\u043a\\u043e\\u043b\\u0435\\u043f\\u043d\\u044b\\u043c\\u0438 \\u0442\\u0430\\u043b\\u0430\\u043d\\u0442\\u0430\\u043c\\u0438 \\u0432 \\u043b\\u0438\\u0433\\u0435.\\n\"\n        ],\n        \"semantic_type\": \"\",\n        \"description\": \"\"\n      }\n    },\n    {\n      \"column\": \"date\",\n      \"properties\": {\n        \"dtype\": \"string\",\n        \"num_unique_values\": 16234,\n        \"samples\": [\n          \"9 \\u0430\\u0432\\u0433\\u0443\\u0441\\u0442\\u0430 2013, 11:03 \\u041c\\u0421\\u041a\",\n          \"12 \\u0438\\u044e\\u043b\\u044f 2022, 15:30 \\u041c\\u0421\\u041a\",\n          \"10 \\u0444\\u0435\\u0432\\u0440\\u0430\\u043b\\u044f 2023, 14:00 \\u041c\\u0421\\u041a\"\n        ],\n        \"semantic_type\": \"\",\n        \"description\": \"\"\n      }\n    },\n    {\n      \"column\": \"sport\",\n      \"properties\": {\n        \"dtype\": \"category\",\n        \"num_unique_values\": 7,\n        \"samples\": [\n          \"auto\",\n          \"basketball\",\n          \"tennis\"\n        ],\n        \"semantic_type\": \"\",\n        \"description\": \"\"\n      }\n    }\n  ]\n}"
            }
          },
          "metadata": {},
          "execution_count": 6
        }
      ]
    },
    {
      "cell_type": "code",
      "source": [
        "# описание столбцов:\n",
        "\n",
        "# text - статья\n",
        "# title - ее заголовок\n",
        "# subtitle - подзаголовок статьи\n",
        "# date - дата публикации (str)\n",
        "# sport - вид спорта"
      ],
      "metadata": {
        "id": "5UZXKcOZbE86"
      },
      "execution_count": null,
      "outputs": []
    },
    {
      "cell_type": "code",
      "source": [],
      "metadata": {
        "id": "XvQsWxpTbE_Q"
      },
      "execution_count": null,
      "outputs": []
    },
    {
      "cell_type": "markdown",
      "source": [
        "Нас интересуют 3 столбца: text (статья), title и subtitle. Title + subtitle и будут кратким содержанием статьи (gold standard).\n",
        "Конечно заголовок и подзаголовок статьи тянут на саммари лишь с натяжкой, но тем не менее."
      ],
      "metadata": {
        "id": "AdD8OqgBdFgj"
      }
    },
    {
      "cell_type": "code",
      "source": [
        "# соединим title & subtitle:\n",
        "data['title'] = data['title'].apply(lambda txt: txt + ' ' if txt[-1] in '.?!;' else txt + '. ')                               # ?????\n",
        "data['summary'] = data['title'] + data['subtitle']"
      ],
      "metadata": {
        "id": "q7G7jxpreFUT"
      },
      "execution_count": null,
      "outputs": []
    },
    {
      "cell_type": "code",
      "source": [
        "# вот что получилось:\n",
        "data['summary'].values[:10].tolist()"
      ],
      "metadata": {
        "colab": {
          "base_uri": "https://localhost:8080/"
        },
        "id": "IxfF_inb9yEc",
        "outputId": "96c27883-0533-4262-bf0f-552699a41068"
      },
      "execution_count": null,
      "outputs": [
        {
          "output_type": "execute_result",
          "data": {
            "text/plain": [
              "['Какая команда станет чемпионом, когда коронуют Макса и ещё 5 интриг финала сезона Ф-1. Концовка сезона интереснее, чем кажется.',\n",
              " 'Бибер испортил Ferrari, Том Круз «опозорил» Bugatti. Как звёзды попадают в чёрные списки. Даже если вы мировая знаменитость с кучей денег, не факт, что вам продадут желаемую машину.',\n",
              " 'Из Формулы-1 уходят 5 пилотов. Что их ждёт в будущем и есть ли шансы на возвращение? Некоторые могут остаться в Ф-1, но в другом качестве.',\n",
              " 'Швейцарцы спасли гоночную карьеру чемпиона мира из России. Он ответил серией побед. Чехи теперь совсем не против видеть Кирилла Куцкова у себя в гостях. А вот сербские власти ведут себя ну очень странно.',\n",
              " 'Одного из главных людей в Ф-1 уволили перед развязкой сезона. Ещё и публично соврали. Организаторам чемпионата придётся объясниться.',\n",
              " '«У каждого есть срок годности». «Мерседес» сам избавился от Хэмилтона? Тото Вольф рад, что ему не пришлось говорить Хэмилтону, что его срок вышел.',\n",
              " '4 редких случая, когда сын-гонщик превзошёл отца: от Росбергов до Ферстаппенов. Возможно, именно неудача Йоса Ферстаппена подарила нам Супер-Макса.',\n",
              " '«Автомобильных энтузиастов в стране вагон, а гоночных — совсем мало. Непонятная история». Гендиректор «Игора Драйв» Алексей Титов рассказал, как пытается поднять популярность гонок в России и что с деньгами за Гран-при Ф-1.',\n",
              " 'В NASCAR массовое жульничество? Сразу трёх пилотов наказали за помощь товарищам. Командную тактику в американских гонках сочли манипуляцией результатами.',\n",
              " '«Ред Булл» готов заплатить десятки миллионов ради новичка Ф-1. Почему это плохая идея? Колапинто может повторить печальную судьбу своего напарника.']"
            ]
          },
          "metadata": {},
          "execution_count": 8
        }
      ]
    },
    {
      "cell_type": "code",
      "source": [],
      "metadata": {
        "id": "E792MBhlmYDt"
      },
      "execution_count": null,
      "outputs": []
    },
    {
      "cell_type": "markdown",
      "source": [
        "### Анализ текстов:"
      ],
      "metadata": {
        "id": "fdsbN_sKpa_3"
      }
    },
    {
      "cell_type": "code",
      "source": [
        "import nltk\n",
        "nltk.download('punkt')"
      ],
      "metadata": {
        "colab": {
          "base_uri": "https://localhost:8080/"
        },
        "id": "SdScYgX8fDl8",
        "outputId": "3d43d1e1-3bfe-4aec-ffc7-9afc25e5fab7"
      },
      "execution_count": null,
      "outputs": [
        {
          "output_type": "stream",
          "name": "stderr",
          "text": [
            "[nltk_data] Downloading package punkt to /root/nltk_data...\n",
            "[nltk_data]   Unzipping tokenizers/punkt.zip.\n"
          ]
        },
        {
          "output_type": "execute_result",
          "data": {
            "text/plain": [
              "True"
            ]
          },
          "metadata": {},
          "execution_count": 8
        }
      ]
    },
    {
      "cell_type": "code",
      "source": [
        "%%time\n",
        "# кол-во слов (токенов) в статьях:\n",
        "data['text_num_tok'] = data['text'].apply(lambda txt: len(nltk.word_tokenize(txt)))\n",
        "\n",
        "# кол-во слов (токенов) в саммари:\n",
        "data['summary_num_tok'] = data['summary'].apply(lambda txt: len(nltk.word_tokenize(txt)))"
      ],
      "metadata": {
        "colab": {
          "base_uri": "https://localhost:8080/"
        },
        "id": "ZDPj9lsodAX7",
        "outputId": "497e4e6e-0ba5-4c69-a3f3-529384ef4382"
      },
      "execution_count": null,
      "outputs": [
        {
          "output_type": "stream",
          "name": "stdout",
          "text": [
            "CPU times: user 3min 50s, sys: 543 ms, total: 3min 50s\n",
            "Wall time: 3min 55s\n"
          ]
        }
      ]
    },
    {
      "cell_type": "code",
      "source": [
        "plt.figure(figsize=(10, 4))\n",
        "\n",
        "plt.subplot(121)\n",
        "plt.title('Гистограмма кол-ва токенов в статьях')\n",
        "plt.hist(data['text_num_tok'], bins=100)\n",
        "plt.xlabel('# токенов')\n",
        "plt.ylabel('частота')\n",
        "\n",
        "plt.subplot(122)\n",
        "plt.title('Гистограмма кол-ва токенов в саммари')\n",
        "plt.hist(data['summary_num_tok'], bins=15)\n",
        "plt.xlabel('# токенов')\n",
        "plt.ylabel('частота');"
      ],
      "metadata": {
        "colab": {
          "base_uri": "https://localhost:8080/",
          "height": 410
        },
        "id": "XX9FtkM4hhR7",
        "outputId": "867cca74-3b8a-405a-93c2-1c5f40c55698"
      },
      "execution_count": null,
      "outputs": [
        {
          "output_type": "display_data",
          "data": {
            "text/plain": [
              "<Figure size 1000x400 with 2 Axes>"
            ],
            "image/png": "[encoded data removed]"
          },
          "metadata": {}
        }
      ]
    },
    {
      "cell_type": "markdown",
      "source": [
        "Ого, похоже у них работают фанаты Льва Николаевича... Исключим лонгриды"
      ],
      "metadata": {
        "id": "cXw9ZkN3mkZm"
      }
    },
    {
      "cell_type": "code",
      "source": [
        "# квантиль 0.995:\n",
        "q995 = round(data['text_num_tok'].quantile(0.995))\n",
        "print('квантиль 0.995:', q995)\n",
        "\n",
        "# исключим лонгриды:\n",
        "mask = data['text_num_tok'] <= q995\n",
        "\n",
        "plt.figure(figsize=(6, 4))\n",
        "plt.title('Гистограмма кол-ва токенов в статьях*')\n",
        "plt.hist(data.loc[mask, 'text_num_tok'], bins=100)\n",
        "plt.xlabel('# токенов')\n",
        "plt.ylabel('частота');"
      ],
      "metadata": {
        "colab": {
          "base_uri": "https://localhost:8080/",
          "height": 427
        },
        "id": "Rn5Tkk4WiHGq",
        "outputId": "d5ff349c-a66d-481d-9ae6-6246d7f252e5"
      },
      "execution_count": null,
      "outputs": [
        {
          "output_type": "stream",
          "name": "stdout",
          "text": [
            "квантиль 0.995: 4655\n"
          ]
        },
        {
          "output_type": "display_data",
          "data": {
            "text/plain": [
              "<Figure size 600x400 with 1 Axes>"
            ],
            "image/png": "[encoded data removed]"
          },
          "metadata": {}
        }
      ]
    },
    {
      "cell_type": "markdown",
      "source": [
        "Длинные статьи будут обрезаться при токенизации, поэтому не переживаем за них. Посмотрим на самые короткие:"
      ],
      "metadata": {
        "id": "lwqnmQuLmwzM"
      }
    },
    {
      "cell_type": "code",
      "source": [
        "# квантиль 1%:\n",
        "q01 = round(data['text_num_tok'].quantile(0.01))\n",
        "print('квантиль 0.01:', q01)\n",
        "print()\n",
        "\n",
        "mask = data['text_num_tok'] <= q01\n",
        "short_texts = data.loc[mask, ['text']].values.tolist()\n",
        "\n",
        "# выберем 15 рандомных 'коротышей':\n",
        "random_idx = np.random.choice(np.arange(len(short_texts)), size=15 ,replace=False)\n",
        "for i in random_idx:\n",
        "  print(short_texts[i][0])\n",
        "  print()"
      ],
      "metadata": {
        "colab": {
          "base_uri": "https://localhost:8080/"
        },
        "id": "jVqAZwW2i1oC",
        "outputId": "c1dab647-39cd-402e-9f69-9b9513225fc9"
      },
      "execution_count": null,
      "outputs": [
        {
          "output_type": "stream",
          "name": "stdout",
          "text": [
            "квантиль 0.01: 224\n",
            "\n",
            "12 октября в Эр-Рияде (Саудовская Аравия) пройдёт большой вечер профессионального бокса, главным событием которого станет долгожданный поединок за звание абсолютного чемпиона мира в полутяжёлом весе между непобеждёнными россиянами Артуром Бетербиевым и Дмитрием Биволом.\n",
            "Бетербиев все 20 профессиональных поединков завершил досрочными победами, он владеет поясами чемпиона WBC, WBO и IBF. Бивол также непобеждённый боксёр и выиграл 23 боя, в его активе титулы WBA Super и IBO.\n",
            "Помимо противостояния россиян за звание абсолютного чемпиона мира, на турнире запланировано ещё несколько ярких поединков. В частности, Джей Опетайя будет защищать пояс IBF в тяжёлом весе в бою с Джеком Мейсси.\n",
            "Накануне прошла пресс-конференция в преддверии турнира. А сегодня состоялась церемония взвешивания и финальные битвы взглядов.\n",
            "«Чемпионат» провёл онлайн-трансляцию взвешивания и событий вокруг него.\n",
            "Вы можете настроить удобный параметр автообновления, изменив его с помощью кнопки под стрелкой.\n",
            "\n",
            "\n",
            "Впереди вторая половина сезона Формулы-1, стартующая в России этапом на «Сочи Автодроме» с 25 по 27 сентября. А вы помните, что было в Сочи год назад, а также историю других Гран-при из концовки чемпионата?\n",
            "Календарь Формулы-1 в этом году получился максимально необычным, в него вернулись гонки в Имоле, Стамбуле и на «Нюрбургринге», впервые пройдут Гран-при в Портимане и на «овальной» версии трассы в Сахире. Поэтому помимо вопросов про российский этап мы решили проверить, хорошо ли вы знаете другие трассы и Гран-при, которые в сезоне-2020 напрямую связаны с Формулой-1. Иногда будет легче, иногда — сложнее. Погнали!\n",
            "Если у вас не грузится тест, вы можете пройти его по ссылке: Хорошо ли вы помните Гран-при России — 2019 и историю других гонок Ф-1?\n",
            "\n",
            "Судьба Василия Кандинского (1866–1944) замысловата. Достаточно уже того, что путь живописца он выбрал в 30 лет – поздно по тем временам. С детства он, конечно, занимался рисованием, проводил смелые эксперименты с формой и цветом, однако не получал признания. Зато выучился на юриста и стал директором типографии «Товарищества И. Н. Кушнерёва и К°» в Москве. Одним из переломных моментов была выставка работ французских художников в 1896 году. Там Кандинского впечатлил «Стог сена» Клода Моне: «Смутно чувствовалось мне, что в этой картине нет предмета. С удивлением и смущением замечал я, однако, что картина эта волнует и покоряет, неизгладимо врезывается в память и вдруг неожиданно так и встанет перед глазами до мельчайших подробностей». В общем, Кандинский решился возобновить обучение – сначала в Москве, затем в Мюнхене. Много путешествовал по Европе, был в Северной Африке и неминуемо шёл к своему стилю – Кандинский будет среди основоположников абстракционизма.\n",
            "Все «картины» подписаны, кроме того, вы можете поставить лайк или дизлайк. Чтобы начать просмотр галереи, нажмите на любую иллюстрацию.\n",
            "\n",
            "На Евро-2024 осталось всего четыре команды. «Чемпионат» изучает продвинутую статистику, чтобы выделить уникальность каждой из этих сборных.\n",
            "Среди оставшихся футболистов на турнире лишь двое получили по три предупреждения. И оба – испанцы\n",
            "Лучший процент точных передач на Евро-2024 остаётся за французами\n",
            "На Евро-2024 больше всего фолов в свою пользу заработали англичане\n",
            "\n",
            "\n",
            "Самый популярный трансферный сайт Transfermarkt опубликовал изменённую стоимость клубов Российской Премьер-Лиги за год. За основу взяты данные о цене футболистов в период с 15 июня 2022 года по 14 июня 2023 года. Отметим, что в списке указаны вылетевшие в Первую лигу «Торпедо» и «Химки», а «Балтика» и «Рубин», поднявшиеся в РПЛ, отсутствуют.\n",
            "Малком\n",
            "Отметим, что в топ-5 самых дорогостоящих игроков РПЛ входят пять представителей «Зенита». Первое место занимает Малком (€ 30 млн, + € 3 млн с прошлого года), в тройке также Вендел (€ 24 млн, + € 2 млн) и Клаудиньо (€ 20 млн, + € 2 млн), а в пятёрке – Дуглас Сантос (€ 18 млн, + € 2 млн) и Вильмар Барриос (€ 18 млн, — € 2 млн). Самым подорожавшим футболистом чемпионата России стал защитник ЦСКА Виллиан Роша (+ € 3,5 млн, стоимость – € 7 млн), самые подешевевшие: Вильмар Барриос, а также Шамар Николсон (€ 4,5 млн) и Фёдор Смолов (€ 3 млн). Все трое подешевели на € 2 млн.\n",
            "\n",
            "Сезон Формулы-1 продолжает уходить в прошлое. Финальный Гран-при состоялся неделю с лишним назад – самое время подводить итоги соревновательного года. На сей раз мы выясним, насколько вы, наши читатели, внимательно смотрели «Королевские гонки» в 2023 году. Расслабили ли вас бесконечные успехи Макса Ферстаппена или вы всё равно следили за каждым Гран-при сезона и всеми основными событиями чемпионата мира?\n",
            "Мы предлагаем вам ответить на 16 вопросов о главных событиях и явлениях минувшего сезона Формулы-1. Сможете справиться и показать себя гоночным экспертом? Или честно скажете: вот будет интрига, тогда и посмотрю? Поехали!\n",
            "Если у вас не грузится квиз, вы можете пройти его по ссылке:Насколько внимательно вы смотрели Формулу-1 в 2023 году?\n",
            "\n",
            "\n",
            "Решение Себастьяна Феттеля завершить карьеру и сенсационный переход Фернандо Алонсо в «Астон Мартин» перезапустили «глупый сезон» переходов в Формуле-1. А буквально сегодня Комиссия ФИА по контрактам подтвердила, что Оскар Пиастри имеет право выступать за «Макларен». Какие интриги у нас теперь сохраняются?\n",
            "Составы команд Формулы-1 на сезон-2023. Версия от 2 сентября 2022 года.\n",
            "Свежие изменения в таблице выделены курсивом.\n",
            "\n",
            "Многим могло показаться, что в минувшем сезоне Макс Ферстаппен переписал чуть ли не всю книгу рекордов Формулы-1 — при таком-то доминировании болида «Ред Булл» и самого гонщика. Однако на самом деле осталось ещё много достижений, которые пока что не покорились трёхкратному чемпиону мира.\n",
            "Мы составили список из 15 рекордов Формулы-1, ну а вам, дорогие читатели, в свою очередь, предстоит угадать, принадлежит ли конкретное достижение Максу Ферстаппену или всё-таки нет. Готовы проверить, насколько хорошо вы запомнили рекорды Ферстаппена и других гонщиков? Тогда поехали, запускайте тест!\n",
            "Если у вас не грузится тест, вы можете пройти его по ссылке:Проверьте себя: правда ли Ферстаппен установил все эти рекорды?\n",
            "\n",
            "\n",
            "В «Мегаспорте» встречались два лучших клуба Евролиги. В гости к московским «армейцам» приехал «Эфес», прочно обосновавшийся на верхней строчке турнирной таблицы.\n",
            "Турецкая дружина в последний раз выигрывала в Москве в марте 1999 года. Плюс, на лидера турнира давила серия из 10 поражений подряд. Лучшего игрока дружины из Стамбула — Шейна Ларкина — усилиями Сент-Роса и Беккера удалось сдерживать на протяжении большей части матча. но в концовке, он и Родриг Бьёбуа, который не просто спас для команды атаку, но и отправил в кольцо мяч не просто со сверхдальней дистанции, но ещё и за одну десятую до сирены выпустив мяч из рук. Тогда оставалось играть 75 секунд, а ЦСКА имел отставание в 75 секунд.\n",
            "На протяжении всей встречи у подопечных Итудиса не шли трёхочковые броски. Всего парни реализовали 10 из 37 попыток. Не получилось и в последней атаке. До победы, по сути, не хватило всего одного попадания. Но болельщики, которые собрались на трибунах «Мегаспорта», а также те, кто наблюдал за ходом матча по телевидению, получили истинное удовольствие от увиденного.\n",
            "Предлагаем вам фоторепортаж Александра Сафонова с этого потрясающего матча.\n",
            "\n",
            "Итоговый турнир в самом разгаре, в Турине идёт 2-й тур группового этапа. Каждый матч собирает аншлаги, любителей тенниса в Италии оказалось очень много. И реагируют они на всё очень бурно. Например, во вторник Стефанос Циципас был яростно освистан после того, как снялся с матча с Хольгером Руне всего после трёх геймов. Более громкой итальянская публика за три дня пока не была.\n",
            "Разговоры у итальянцев перед ареной только о теннисе. Многие обсуждают шансы Синнера на титул, а одна из компаний пересматривала милые видео с дочкой Даниила Медведева ― Алисой. Всех их наш специальный корреспондент на Итоговом чемпионате ATP Андрей Панков и попросил назвать величайшего теннисиста в истории этой игры. Это оказалось сложно, кандидатов было несколько. Помимо очевидных, некоторые даже назвали Синнера и Руне. А кто победил ― смотрите в нашем видео.\n",
            "\n",
            "\n",
            "Иржи Ярошик в каком-то смысле особенный легионер для РПЛ. Про многих иностранцев говорят, что они приобщились к России, но чеха это касается больше других. Многие легионеры видели в нашем чемпионате трамплин для попадания в европейские топ-клубы. Ярошик тоже ушёл из московского ЦСКА в лондонский «Челси», однако через пару лет вернулся в чемпионат России.\n",
            "Иржи породнился с нашей страной не только в плане карьеры, но и нашёл здесь жену Злату (сестра футболиста Антона Швеца). Хотя по окончании выступлений они решили жить вместе с детьми в Чехии. И вот теперь Ярошик снова возвращается. «Чемпионат» вспоминает наиболее яркие истории из жизни чеха в России.\n",
            "ЦСКА купил у «Спарты» Ярошика в 2003 году\n",
            "Иржи Ярошик и тигр. По бокам на переднем плане — братья Запашные\n",
            "По завершении карьеры Ярошик в 2017 году начал тренировать юношескую команду «Спарты» U21. Затем был помощником главного тренера в «Словане» и «Ружомбероке». После чего самостоятельно возглавлял «Усти-над-Лабем», «Целе», «Простеёв» и «Теплице».\n",
            "\n",
            "Состоялась жеребьёвка группового этапа Лиги Европы. Осенью нас ждут очень интересные матчи, особенно для тех, кто поддерживает российских футболистов.\n",
            "«Реал Сосьедад» Арсена Захаряна, а также ПАОК Магомеда Оздоева и Фёдора Чалова сыграют друг с другом на групповом этапе ЛЕ. А вообще соперники у клубов непростые:\n",
            "Кроме того, не забываем, что из россиян в Лиге Европы также сыграет вратарь Никита Хайкин, его «Будё-Глимт» встретится на групповой стадии с «Порту», «МЮ», «Маккаби», «Брагой», «Карабахом», «Юнионом», «Бешикташем» и «Ниццей».\n",
            "Таким образом, сразу два клуба с россиянами в составе приедут на «Олд Траффорд»! Ну не круто ли? Вот, кстати, все соперники команды Эрика тен Хага еврокубковой осенью.\n",
            "Надо признать, что некоторые из вывесок раньше могли состояться в плей-офф. Теперь, по ощущениям, больших матчей должно стать больше.\n",
            "\n",
            "\n",
            "Казимир Малевич, возможно, вообще самый известный художник в России. Естественно, благодаря «Чёрному квадрату». Однако как «Чёрный квадрат» – больше, чем просто чёрный квадрат, так и Малевич – серьёзный и сложный автор. Именно он в 1910 году создал новую теорию абстрактного искусства – супрематизм.\n",
            "Среди полотен Малевича есть «Спортсмены». Картина создана в период с 1928 по 1932 год, однако дату художник прописал «1915». Это было связано с переосмыслением всего творчества (и заслуживает отдельного материала).\n",
            "Как описывает картину Русский музей (её можно посмотреть на сайте в мельчайших деталях): «Фигуры в картине «Спортсмены» всецело подчинены задаче цветовой и ритмической организации композиции, отчуждëнной от реального смысла бытия и направленной на концентрацию собственных динамики и энергии, преодолевающих категории времени и пространства. Цветовое и композиционное построение холста подчинено принципам симметрии, безликость персонажей призвана подчеркнуть глобальное космическое восприятие мира, представление автора о сверхличностной сущности искусства, никак не зависящей от индивидуальности ни художника, ни зрителя».\n",
            "Все «картины» подписаны, кроме того, вы можете поставить лайк или дизлайк. Чтобы начать просмотр галереи, нажмите на любую иллюстрацию.\n",
            "\n",
            "Прошла лишь половина межсезонья, а «Мерседес» и Льюис Хэмилтон всё-таки согласовали однолетний контракт на сезон-2021 Формулы-1. Таким образом, менее чем за два месяца до первого Гран-при в пелотоне закрылись все 20 вакансий. Теперь ждём первых слухов о контрактах на 2022 год.\n",
            "Версия от 8 февраля 2021 года:\n",
            "Свежие изменения в таблице выделены курсивом.\n",
            "\n",
            "16 июня на Евро-2024 свои матчи провели команды из группы С. Кто приблизился к плей-офф, а у кого возникли проблемы? Смотрим.\n",
            "После 1-го тура единоличным лидером группы С стала сборная Англии. Команда Гарета Саутгейта обыграла Сербию (1:0). Единственный мяч у англичан забил Джуд Беллингем, отлично подключившийся в штрафную на 13-й минуте. А сборные Словении и Дании сыграли вничью (1:1). В первом тайме счёт открыл полузащитник датчан Кристиан Эриксен, а на 77-й минуте защитник Эрик Янжа с помощью рикошета забил ответный мяч. У датчан и словенцев теперь по одному очку. И это мощно закручивает интригу.\n",
            "С Англией всё понятно: ей нужно побеждать датчан во 2-м туре. Тогда команда Саутгейта гарантирует себе место в плей-офф. Дании желательно набирать очки, чтобы к решающей игре подходить с преимуществом над конкурентами. Но даже поражение от Англии не станет критичным.\n",
            "А вот Сербии нужно побеждать Словению. Если команда Драгана Стойковича проиграет, то сильно просядет в шансах на плей-офф. Ничья оставит надежды как сербам, так и словенцам. Победа Словении же приблизит её к 1/8 финала: с четырьмя очками из группы выходят в 99 случаях из 100.\n",
            "\n",
            "\n"
          ]
        }
      ]
    },
    {
      "cell_type": "markdown",
      "source": [
        "Короткие статьи выглядят нормально. Теперь посмотрим на корреляцию между длиной статьи и саммари:"
      ],
      "metadata": {
        "id": "o0P2ScrGnTAe"
      }
    },
    {
      "cell_type": "code",
      "source": [
        "# исключим лонгриды:\n",
        "mask = data['text_num_tok'] <= q995\n",
        "\n",
        "plt.figure(figsize=(14, 5))\n",
        "ax1 = plt.subplot(121)\n",
        "sns.regplot(data=data[mask],\n",
        "            x='text_num_tok',\n",
        "            y='summary_num_tok',\n",
        "            ax=ax1)\n",
        "plt.title('Корреляция между длиной статьи и саммари')\n",
        "\n",
        "# длина статьи в разрезе по видам спорта:\n",
        "ax2 = plt.subplot(122)\n",
        "sns.boxplot(data=data[mask],\n",
        "            x='sport',\n",
        "            y='text_num_tok',\n",
        "            ax=ax2);"
      ],
      "metadata": {
        "colab": {
          "base_uri": "https://localhost:8080/",
          "height": 469
        },
        "id": "SjlLtyfOeVR0",
        "outputId": "475ec40d-de1a-4602-9a0e-28f081af6014"
      },
      "execution_count": null,
      "outputs": [
        {
          "output_type": "display_data",
          "data": {
            "text/plain": [
              "<Figure size 1400x500 with 2 Axes>"
            ],
            "image/png": "[encoded data removed]"
          },
          "metadata": {}
        }
      ]
    },
    {
      "cell_type": "markdown",
      "source": [
        "Корреляция присутствует, но не очень сильная. По каждому виду спорта встречаются весьма длинные тексты. В целом про бокс статьи существенно короче."
      ],
      "metadata": {
        "id": "BuF2thMin6h9"
      }
    },
    {
      "cell_type": "markdown",
      "source": [
        "Теперь соберем все символы встречающиеся в текстах:"
      ],
      "metadata": {
        "id": "Pyrv2gsNoHTz"
      }
    },
    {
      "cell_type": "code",
      "source": [
        "all_chars = set()  # все символы\n",
        "\n",
        "for txt in data['text'].values:\n",
        "  chars = set(txt)\n",
        "  all_chars.update(chars)\n",
        "\n",
        "for txt in data['summary'].values:\n",
        "  chars = set(txt)\n",
        "  all_chars.update(chars)"
      ],
      "metadata": {
        "id": "drAYj3fmdAaj"
      },
      "execution_count": null,
      "outputs": []
    },
    {
      "cell_type": "code",
      "source": [
        "print('всего символов:', len(all_chars))"
      ],
      "metadata": {
        "colab": {
          "base_uri": "https://localhost:8080/"
        },
        "id": "qN-0z6fNd8cM",
        "outputId": "b1584711-b9c9-4660-fe56-7e28c4d643f0"
      },
      "execution_count": null,
      "outputs": [
        {
          "output_type": "stream",
          "name": "stdout",
          "text": [
            "всего символов: 675\n"
          ]
        }
      ]
    },
    {
      "cell_type": "code",
      "source": [
        "# красота, давайте посмотрим на них:\n",
        "all_chars"
      ],
      "metadata": {
        "colab": {
          "base_uri": "https://localhost:8080/"
        },
        "id": "wK3rOIFHrpJ2",
        "outputId": "da9eba2f-28b2-4178-e3c8-c7ef7042d894"
      },
      "execution_count": null,
      "outputs": [
        {
          "output_type": "execute_result",
          "data": {
            "text/plain": [
              "{'\\n',\n",
              " '\\r',\n",
              " ' ',\n",
              " '!',\n",
              " '\"',\n",
              " '#',\n",
              " '$',\n",
              " '%',\n",
              " '&',\n",
              " \"'\",\n",
              " '(',\n",
              " ')',\n",
              " '*',\n",
              " '+',\n",
              " ',',\n",
              " '-',\n",
              " '.',\n",
              " '/',\n",
              " '0',\n",
              " '1',\n",
              " '2',\n",
              " '3',\n",
              " '4',\n",
              " '5',\n",
              " '6',\n",
              " '7',\n",
              " '8',\n",
              " '9',\n",
              " ':',\n",
              " ';',\n",
              " '<',\n",
              " '=',\n",
              " '>',\n",
              " '?',\n",
              " '@',\n",
              " 'A',\n",
              " 'B',\n",
              " 'C',\n",
              " 'D',\n",
              " 'E',\n",
              " 'F',\n",
              " 'G',\n",
              " 'H',\n",
              " 'I',\n",
              " 'J',\n",
              " 'K',\n",
              " 'L',\n",
              " 'M',\n",
              " 'N',\n",
              " 'O',\n",
              " 'P',\n",
              " 'Q',\n",
              " 'R',\n",
              " 'S',\n",
              " 'T',\n",
              " 'U',\n",
              " 'V',\n",
              " 'W',\n",
              " 'X',\n",
              " 'Y',\n",
              " 'Z',\n",
              " '[',\n",
              " '\\\\',\n",
              " ']',\n",
              " '^',\n",
              " '_',\n",
              " '`',\n",
              " 'a',\n",
              " 'b',\n",
              " 'c',\n",
              " 'd',\n",
              " 'e',\n",
              " 'f',\n",
              " 'g',\n",
              " 'h',\n",
              " 'i',\n",
              " 'j',\n",
              " 'k',\n",
              " 'l',\n",
              " 'm',\n",
              " 'n',\n",
              " 'o',\n",
              " 'p',\n",
              " 'q',\n",
              " 'r',\n",
              " 's',\n",
              " 't',\n",
              " 'u',\n",
              " 'v',\n",
              " 'w',\n",
              " 'x',\n",
              " 'y',\n",
              " 'z',\n",
              " '|',\n",
              " '~',\n",
              " '\\xa0',\n",
              " '¡',\n",
              " '£',\n",
              " '©',\n",
              " '«',\n",
              " '¬',\n",
              " '\\xad',\n",
              " '¯',\n",
              " '°',\n",
              " '²',\n",
              " '·',\n",
              " 'º',\n",
              " '»',\n",
              " '¼',\n",
              " '½',\n",
              " '¾',\n",
              " 'É',\n",
              " 'Ë',\n",
              " '×',\n",
              " 'Ü',\n",
              " 'ß',\n",
              " 'à',\n",
              " 'á',\n",
              " 'ã',\n",
              " 'ä',\n",
              " 'ç',\n",
              " 'è',\n",
              " 'é',\n",
              " 'ë',\n",
              " 'í',\n",
              " 'ñ',\n",
              " 'ó',\n",
              " 'ô',\n",
              " 'õ',\n",
              " 'ö',\n",
              " '÷',\n",
              " 'ú',\n",
              " 'ü',\n",
              " 'ė',\n",
              " 'ĸ',\n",
              " 'Ł',\n",
              " 'ł',\n",
              " 'Š',\n",
              " 'ū',\n",
              " 'ų',\n",
              " 'ž',\n",
              " '́',\n",
              " '̆',\n",
              " '̶',\n",
              " 'ε',\n",
              " 'ι',\n",
              " 'κ',\n",
              " 'ο',\n",
              " 'ρ',\n",
              " 'ς',\n",
              " 'Ё',\n",
              " 'Ѕ',\n",
              " 'Ї',\n",
              " 'Ј',\n",
              " 'Џ',\n",
              " 'А',\n",
              " 'Б',\n",
              " 'В',\n",
              " 'Г',\n",
              " 'Д',\n",
              " 'Е',\n",
              " 'Ж',\n",
              " 'З',\n",
              " 'И',\n",
              " 'Й',\n",
              " 'К',\n",
              " 'Л',\n",
              " 'М',\n",
              " 'Н',\n",
              " 'О',\n",
              " 'П',\n",
              " 'Р',\n",
              " 'С',\n",
              " 'Т',\n",
              " 'У',\n",
              " 'Ф',\n",
              " 'Х',\n",
              " 'Ц',\n",
              " 'Ч',\n",
              " 'Ш',\n",
              " 'Щ',\n",
              " 'Ъ',\n",
              " 'Ы',\n",
              " 'Ь',\n",
              " 'Э',\n",
              " 'Ю',\n",
              " 'Я',\n",
              " 'а',\n",
              " 'б',\n",
              " 'в',\n",
              " 'г',\n",
              " 'д',\n",
              " 'е',\n",
              " 'ж',\n",
              " 'з',\n",
              " 'и',\n",
              " 'й',\n",
              " 'к',\n",
              " 'л',\n",
              " 'м',\n",
              " 'н',\n",
              " 'о',\n",
              " 'п',\n",
              " 'р',\n",
              " 'с',\n",
              " 'т',\n",
              " 'у',\n",
              " 'ф',\n",
              " 'х',\n",
              " 'ц',\n",
              " 'ч',\n",
              " 'ш',\n",
              " 'щ',\n",
              " 'ъ',\n",
              " 'ы',\n",
              " 'ь',\n",
              " 'э',\n",
              " 'ю',\n",
              " 'я',\n",
              " 'ё',\n",
              " 'і',\n",
              " 'Қ',\n",
              " 'қ',\n",
              " 'Ҥ',\n",
              " 'Ҫ',\n",
              " 'Ԡ',\n",
              " 'ύ',\n",
              " '\\u200b',\n",
              " '\\u200d',\n",
              " '\\u200e',\n",
              " '‐',\n",
              " '‑',\n",
              " '‒',\n",
              " '–',\n",
              " '—',\n",
              " '―',\n",
              " '‘',\n",
              " '’',\n",
              " '‚',\n",
              " '“',\n",
              " '”',\n",
              " '„',\n",
              " '•',\n",
              " '…',\n",
              " '\\u2028',\n",
              " '′',\n",
              " '⁉',\n",
              " '€',\n",
              " '⃣',\n",
              " '№',\n",
              " 'ℹ',\n",
              " '↑',\n",
              " '→',\n",
              " '↓',\n",
              " '↔',\n",
              " '↕',\n",
              " '↗',\n",
              " '↩',\n",
              " '↪',\n",
              " '−',\n",
              " '∙',\n",
              " '⏰',\n",
              " '⏳',\n",
              " '⏸',\n",
              " '⏹',\n",
              " '▲',\n",
              " '▶',\n",
              " '▼',\n",
              " '●',\n",
              " '☄',\n",
              " '★',\n",
              " '☆',\n",
              " '☑',\n",
              " '☕',\n",
              " '☝',\n",
              " '☹',\n",
              " '☺',\n",
              " '♀',\n",
              " '♂',\n",
              " '⚔',\n",
              " '⚖',\n",
              " '⚠',\n",
              " '⚡',\n",
              " '⚪',\n",
              " '⚫',\n",
              " '⚽',\n",
              " '⛔',\n",
              " '⛸',\n",
              " '✅',\n",
              " '✈',\n",
              " '✊',\n",
              " '✋',\n",
              " '✌',\n",
              " '✍',\n",
              " '✏',\n",
              " '✒',\n",
              " '✔',\n",
              " '✖',\n",
              " '✨',\n",
              " '❄',\n",
              " '❌',\n",
              " '❓',\n",
              " '❗',\n",
              " '❤',\n",
              " '➕',\n",
              " '➡',\n",
              " '⠀',\n",
              " '⤵',\n",
              " '⬆',\n",
              " '⬇',\n",
              " '⭐',\n",
              " 'ツ',\n",
              " '️',\n",
              " '🆓',\n",
              " '🆕',\n",
              " '🇦',\n",
              " '🇧',\n",
              " '🇨',\n",
              " '🇩',\n",
              " '🇪',\n",
              " '🇫',\n",
              " '🇬',\n",
              " '🇭',\n",
              " '🇮',\n",
              " '🇯',\n",
              " '🇰',\n",
              " '🇱',\n",
              " '🇲',\n",
              " '🇳',\n",
              " '🇵',\n",
              " '🇷',\n",
              " '🇸',\n",
              " '🇹',\n",
              " '🇺',\n",
              " '🇻',\n",
              " '🇽',\n",
              " '🇾',\n",
              " '🌊',\n",
              " '🌍',\n",
              " '🌧',\n",
              " '🍀',\n",
              " '🍉',\n",
              " '🍕',\n",
              " '🍞',\n",
              " '🍺',\n",
              " '🍽',\n",
              " '🍾',\n",
              " '🍿',\n",
              " '🎂',\n",
              " '🎆',\n",
              " '🎉',\n",
              " '🎊',\n",
              " '🎓',\n",
              " '🎙',\n",
              " '🎞',\n",
              " '🎤',\n",
              " '🎥',\n",
              " '🎫',\n",
              " '🎬',\n",
              " '🎶',\n",
              " '🏀',\n",
              " '🏁',\n",
              " '🏅',\n",
              " '🏆',\n",
              " '🏎',\n",
              " '🏟',\n",
              " '🏴',\n",
              " '🏻',\n",
              " '🏼',\n",
              " '🐂',\n",
              " '🐈',\n",
              " '🐎',\n",
              " '🐝',\n",
              " '🐯',\n",
              " '👀',\n",
              " '👆',\n",
              " '👇',\n",
              " '👈',\n",
              " '👉',\n",
              " '👊',\n",
              " '👋',\n",
              " '👌',\n",
              " '👍',\n",
              " '👎',\n",
              " '👏',\n",
              " '👑',\n",
              " '👔',\n",
              " '👕',\n",
              " '👟',\n",
              " '👥',\n",
              " '👨',\n",
              " '👩',\n",
              " '👮',\n",
              " '👶',\n",
              " '👽',\n",
              " '💃',\n",
              " '💔',\n",
              " '💙',\n",
              " '💡',\n",
              " '💣',\n",
              " '💤',\n",
              " '💥',\n",
              " '💧',\n",
              " '💨',\n",
              " '💪',\n",
              " '💫',\n",
              " '💬',\n",
              " '💭',\n",
              " '💰',\n",
              " '💲',\n",
              " '💶',\n",
              " '💸',\n",
              " '💻',\n",
              " '💼',\n",
              " '📄',\n",
              " '📅',\n",
              " '📆',\n",
              " '📈',\n",
              " '📊',\n",
              " '📋',\n",
              " '📌',\n",
              " '📍',\n",
              " '📑',\n",
              " '📛',\n",
              " '📜',\n",
              " '📝',\n",
              " '📢',\n",
              " '📯',\n",
              " '📰',\n",
              " '📱',\n",
              " '📷',\n",
              " '📸',\n",
              " '📹',\n",
              " '📺',\n",
              " '🔁',\n",
              " '🔃',\n",
              " '🔄',\n",
              " '🔊',\n",
              " '🔔',\n",
              " '🔙',\n",
              " '🔚',\n",
              " '🔛',\n",
              " '🔜',\n",
              " '🔝',\n",
              " '🔟',\n",
              " '🔥',\n",
              " '🔴',\n",
              " '🔵',\n",
              " '🕋',\n",
              " '🕑',\n",
              " '🕓',\n",
              " '🕔',\n",
              " '🕕',\n",
              " '🕖',\n",
              " '🕗',\n",
              " '🕘',\n",
              " '🕙',\n",
              " '🕚',\n",
              " '🕛',\n",
              " '🕝',\n",
              " '🕟',\n",
              " '🕡',\n",
              " '🕢',\n",
              " '🕣',\n",
              " '🕤',\n",
              " '🕦',\n",
              " '🕯',\n",
              " '🕺',\n",
              " '🖊',\n",
              " '🖥',\n",
              " '🖼',\n",
              " '🗓',\n",
              " '🗞',\n",
              " '🗣',\n",
              " '😀',\n",
              " '😁',\n",
              " '😂',\n",
              " '😃',\n",
              " '😄',\n",
              " '😅',\n",
              " '😉',\n",
              " '😊',\n",
              " '😋',\n",
              " '😍',\n",
              " '😎',\n",
              " '😏',\n",
              " '😐',\n",
              " '😒',\n",
              " '😔',\n",
              " '😕',\n",
              " '😖',\n",
              " '😞',\n",
              " '😟',\n",
              " '😡',\n",
              " '😢',\n",
              " '😥',\n",
              " '😦',\n",
              " '😧',\n",
              " '😨',\n",
              " '😩',\n",
              " '😪',\n",
              " '😫',\n",
              " '😬',\n",
              " '😭',\n",
              " '😮',\n",
              " '😯',\n",
              " '😰',\n",
              " '😱',\n",
              " '😲',\n",
              " '😳',\n",
              " '😴',\n",
              " '😵',\n",
              " '😶',\n",
              " '🙁',\n",
              " '🙃',\n",
              " '🙄',\n",
              " '🙅',\n",
              " '🙆',\n",
              " '🙈',\n",
              " '🙊',\n",
              " '🙌',\n",
              " '🙏',\n",
              " '🚀',\n",
              " '🚂',\n",
              " '🚄',\n",
              " '🚅',\n",
              " '🚌',\n",
              " '🚑',\n",
              " '🚘',\n",
              " '🚧',\n",
              " '🚨',\n",
              " '🚫',\n",
              " '🛎',\n",
              " '🛡',\n",
              " '🛩',\n",
              " '🛫',\n",
              " '🛬',\n",
              " '🛰',\n",
              " '🟡',\n",
              " '🟦',\n",
              " '🟨',\n",
              " '🤌',\n",
              " '🤐',\n",
              " '🤑',\n",
              " '🤓',\n",
              " '🤔',\n",
              " '🤕',\n",
              " '🤖',\n",
              " '🤗',\n",
              " '🤘',\n",
              " '🤚',\n",
              " '🤛',\n",
              " '🤜',\n",
              " '🤝',\n",
              " '🤞',\n",
              " '🤟',\n",
              " '🤦',\n",
              " '🤨',\n",
              " '🤩',\n",
              " '🤪',\n",
              " '🤫',\n",
              " '🤬',\n",
              " '🤭',\n",
              " '🤯',\n",
              " '🤲',\n",
              " '🥇',\n",
              " '🥈',\n",
              " '🥉',\n",
              " '🥰',\n",
              " '🥱',\n",
              " '🥲',\n",
              " '🥳',\n",
              " '🥵',\n",
              " '🥶',\n",
              " '🥺',\n",
              " '🦈',\n",
              " '🦊',\n",
              " '🦳',\n",
              " '🦶',\n",
              " '🧐',\n",
              " '🧠',\n",
              " '🧤',\n",
              " '🧭',\n",
              " '\\U000e0062',\n",
              " '\\U000e0065',\n",
              " '\\U000e0067',\n",
              " '\\U000e006e',\n",
              " '\\U000e007f'}"
            ]
          },
          "metadata": {},
          "execution_count": 42
        }
      ]
    },
    {
      "cell_type": "markdown",
      "source": [
        "Ого, сколько смайликов. Увидим как LLM'ки вывезут все это дело."
      ],
      "metadata": {
        "id": "ym4sAK6yoM6G"
      }
    },
    {
      "cell_type": "code",
      "source": [],
      "metadata": {
        "id": "1btlrL3OrpMm"
      },
      "execution_count": null,
      "outputs": []
    },
    {
      "cell_type": "markdown",
      "source": [
        "### Datasets:"
      ],
      "metadata": {
        "id": "g2MqwyLNQ581"
      }
    },
    {
      "cell_type": "code",
      "source": [
        "import datasets"
      ],
      "metadata": {
        "id": "tt44UEUZQ7ta"
      },
      "execution_count": null,
      "outputs": []
    },
    {
      "cell_type": "code",
      "source": [
        "# данные будут в формате Dataset:\n",
        "dataset = datasets.Dataset.from_pandas(data.loc[:, ['text', 'summary']])\n",
        "dataset = dataset.shuffle(seed=9)"
      ],
      "metadata": {
        "id": "C07QVzifQ71J"
      },
      "execution_count": null,
      "outputs": []
    },
    {
      "cell_type": "code",
      "source": [
        "# разделим на train/eval части:\n",
        "dataset = dataset.train_test_split(test_size=0.05, shuffle=True, seed=11)"
      ],
      "metadata": {
        "id": "q0wrpCqsQ74S"
      },
      "execution_count": null,
      "outputs": []
    },
    {
      "cell_type": "code",
      "source": [
        "dataset"
      ],
      "metadata": {
        "id": "5zffa2Z0RH9i",
        "colab": {
          "base_uri": "https://localhost:8080/"
        },
        "outputId": "da6e4f22-898a-4367-8d4d-2bdf3809c7c6"
      },
      "execution_count": null,
      "outputs": [
        {
          "output_type": "execute_result",
          "data": {
            "text/plain": [
              "DatasetDict({\n",
              "    train: Dataset({\n",
              "        features: ['text', 'summary'],\n",
              "        num_rows: 24995\n",
              "    })\n",
              "    test: Dataset({\n",
              "        features: ['text', 'summary'],\n",
              "        num_rows: 1316\n",
              "    })\n",
              "})"
            ]
          },
          "metadata": {},
          "execution_count": 12
        }
      ]
    },
    {
      "cell_type": "markdown",
      "source": [
        "### Качество baseline'a\n",
        "В роли baseline предсказаний выберем первые 3 предложения из статьи (prediction) и сравним с саммари (gold standard)"
      ],
      "metadata": {
        "id": "LiAacaaHNHxV"
      }
    },
    {
      "cell_type": "code",
      "source": [
        "def get_baseline_preds(examples):\n",
        "  # первые 3 предложения + разделитель '\\n' между ними (метрики требуют)\n",
        "  base_preds = ['\\n'.join(nltk.sent_tokenize(doc)[:3]) for doc in examples['text']]\n",
        "  # разделитель '\\n' между предложениями в саммари (метрики требуют)\n",
        "  base_true = ['\\n'.join(nltk.sent_tokenize(doc)) for doc in examples['summary']]\n",
        "\n",
        "  return {'base_preds': base_preds, 'base_true': base_true}\n",
        "\n",
        "base_results =  dataset['test'].map(get_baseline_preds, batched=True)"
      ],
      "metadata": {
        "colab": {
          "base_uri": "https://localhost:8080/",
          "height": 49,
          "referenced_widgets": [
            "ff5148e519f1415894fae25cb975ccf2",
            "a3b97b722d2f4bc98c80a7268e7193d9",
            "f7cd3f60604a42598479d2812e23f5ae",
            "32803801f3d64dcd90ec037bf0969b52",
            "da114e37921c4ed38ba7a2964843f811",
            "0e38ef14a81b47949cf7ae928864e9d8",
            "419d81cb089145d8b1de27c8fc2a370b",
            "cefae76be1704d3fb8e6cefb3edaa540",
            "6f34a685c3f3400ab0aeac958c503b12",
            "5aeb95d207aa4c1db7b253b062b71568",
            "4849bc0242bb4ffda92c9664f953bcfe"
          ]
        },
        "id": "MNhtDguZNXzt",
        "outputId": "42e3c5b9-8dfd-452a-e2fe-35c43bcd5fda"
      },
      "execution_count": null,
      "outputs": [
        {
          "output_type": "display_data",
          "data": {
            "text/plain": [
              "Map:   0%|          | 0/1842 [00:00<?, ? examples/s]"
            ],
            "application/vnd.jupyter.widget-view+json": {
              "version_major": 2,
              "version_minor": 0,
              "model_id": "ff5148e519f1415894fae25cb975ccf2"
            }
          },
          "metadata": {}
        }
      ]
    },
    {
      "cell_type": "code",
      "source": [
        "# вот что получилось:\n",
        "base_results['base_preds'][:4]"
      ],
      "metadata": {
        "colab": {
          "base_uri": "https://localhost:8080/"
        },
        "id": "IYY5EPMWQRDM",
        "outputId": "53e4144c-0f1c-4ff2-ee17-29bf4da59205"
      },
      "execution_count": null,
      "outputs": [
        {
          "output_type": "execute_result",
          "data": {
            "text/plain": [
              "['Мы все знали, что Кирилл Капризов — отличный хоккеист.\\nНастоящая звезда.\\nИ, вероятно, лучший игрок в истории «Миннесоты».',\n",
              " 'Жизнь на рынке в НБА даже после закрытия окна переходов продолжает бить ключом.\\nДа, переходы между командами в нынешнем сезоне уже невозможны, но зато остались ещё лакомые кусочки в лицах тех баскетболистов, контракты которых были выкуплены.\\nБольшое внимание было привлечено к двум персонажам — Андре Драммонду и Ламаркусу Олдриджу.',\n",
              " 'Карантин из-за эпидемии коронавируса выбил множество людей из их привычного ритма жизни.\\nНо далеко не все готовы расстаться со своими привычками — причём пример знаменитого испанского мотогонщика Тони Боу показывает, что ради любимых занятий далеко не всегда нужно нарушать режим самоизоляции.\\nБоу «карантинит» в городке Ла-Масана в Андорре.',\n",
              " 'Неожиданный субботний прорыв «Мерседеса» обеспечил максимальную интригу перед стартом Гран-при Мексики Формулы-1: кто из лидеров окажется быстрее в гоночном режиме, без шин «софт», и как себя проявят вторые номера команд?\\nСчастье Валттери Боттаса, блестяще проведшего квалификацию, длилось недолго.\\nФинн неплохо рванул с места, однако на длинном разгоне к первому повороту не смог ничего поделать под огнём атак Льюиса Хэмилтона и Макса Ферстаппена.']"
            ]
          },
          "metadata": {},
          "execution_count": 25
        }
      ]
    },
    {
      "cell_type": "code",
      "source": [
        "# метрики качества: rouge и meteor\n",
        "# качество для baseline:\n",
        "result = rouge_metric.compute(predictions=base_results['base_preds'], references=base_results['base_true'], use_stemmer=True)\n",
        "result.update(meteor_metric.compute(predictions=base_results['base_preds'], references=base_results['base_true']))\n",
        "\n",
        "{k: round(100*v, 4) for k, v in result.items()}"
      ],
      "metadata": {
        "colab": {
          "base_uri": "https://localhost:8080/"
        },
        "id": "P2kQp3DOP9pu",
        "outputId": "a88275c8-4503-4c9d-a30b-3572956697b4"
      },
      "execution_count": null,
      "outputs": [
        {
          "output_type": "execute_result",
          "data": {
            "text/plain": [
              "{'rouge1': 12.1767,\n",
              " 'rouge2': 2.1169,\n",
              " 'rougeL': 12.0133,\n",
              " 'rougeLsum': 12.0952,\n",
              " 'meteor': 17.544}"
            ]
          },
          "metadata": {},
          "execution_count": 26
        }
      ]
    },
    {
      "cell_type": "markdown",
      "source": [
        "Будем сравнивать результаты mT5/ruBart с этими показателями"
      ],
      "metadata": {
        "id": "jW0dcrB3ow_E"
      }
    },
    {
      "cell_type": "code",
      "source": [],
      "metadata": {
        "id": "DDgEbGmMBNHY"
      },
      "execution_count": null,
      "outputs": []
    },
    {
      "cell_type": "markdown",
      "source": [
        "### Выбор модели:"
      ],
      "metadata": {
        "id": "tkYpeI3kt2pG"
      }
    },
    {
      "cell_type": "code",
      "source": [
        "# models:\n",
        "model_checkpoint = \"google/mt5-small\"\n",
        "#model_checkpoint = \"IlyaGusev/mbart_ru_sum_gazeta\""
      ],
      "metadata": {
        "id": "r3dQyXj-aoGd"
      },
      "execution_count": null,
      "outputs": []
    },
    {
      "cell_type": "code",
      "source": [],
      "metadata": {
        "id": "ITA-vnoibFCA"
      },
      "execution_count": null,
      "outputs": []
    },
    {
      "cell_type": "markdown",
      "source": [
        "### Токенизация данных:"
      ],
      "metadata": {
        "id": "6GESgw2auUPd"
      }
    },
    {
      "cell_type": "code",
      "source": [
        "from transformers import AutoTokenizer\n",
        "\n",
        "# грузим токенизатор под выбранную модель:\n",
        "tokenizer = AutoTokenizer.from_pretrained(model_checkpoint)\n",
        "\n",
        "# is fast:\n",
        "tokenizer.is_fast"
      ],
      "metadata": {
        "colab": {
          "base_uri": "https://localhost:8080/",
          "height": 234,
          "referenced_widgets": [
            "0387f1a5d130463cb5280085fae0075a",
            "2a4cce1bb1fe444482e1109b18576f0f",
            "ddff8450fc92414b899b923adb3d1ee4",
            "a41ee3e8109b45a3900b87dea37c6026",
            "a9a3e243f5ca46a6bfdd6c753bf729b1",
            "1f0d8f621fcc4e8692d2cc61b6b56387",
            "2bc38b66bb6c4c9796ea5dc300b1058f",
            "d9817dcc6f4046f9aeeb7e8a069a26ad",
            "3d8f64bfc4db4d769fbc44c44884ebbd",
            "08b86956bb8b4a2cb4c973bdd5bd0ba8",
            "b92175823fc040f4905e1da124e1b304",
            "9126fd8b9c19436ab862ae2f2c8a97ec",
            "18ca04b4fe9747f0b6c92293eb66ed75",
            "214ffd450fc942c3add7152f4f8d9fa8",
            "473eee66156c4004b944ff840e581fd6",
            "a3c7d065dc104ca494640287d1a928e8",
            "2bc82502239c4478890a44ce72a8186c",
            "ed0ea3242d2945b5afd96dd0f68c5d1d",
            "eeab173a11424363b1814ffef799e9dc",
            "01e0fc827ab44d3f8ac5f426f842f6ad",
            "039aa918eca4490f943059b33ce04951",
            "32ec05cbd7134d93a54a5a76dd07cb8b",
            "8fe3c41390a74762abb37d644913fd1f",
            "bdd082fdbdca4e2480ccf53c654558db",
            "f42b8e8dfebd427caed1655ba0175978",
            "8ee125a0de014aa2aae204cd32f1317f",
            "90c9b09120994ae2b7022b7278db55b8",
            "2f24eb5bbb0d4741a16b4ece4a951685",
            "a7e26f1106aa4402b50e62340679730a",
            "cf61ec7e87a94216ae5b25a032021c8e",
            "e046fbc9e23348bb80834b9a383340cb",
            "25ad6ad3493d4b35b0a0cde7793225a1",
            "a416386c8ded441790aa29e716fb2254",
            "16bd09f302684828bdd6aa448718f821",
            "1f630359bfbe494c86ab8433bcb1c986",
            "12cc6a4562b54c9abde4f277f84c5743",
            "66dc0823a7e24a94bada96e2d6edc657",
            "f57eb755d2d44e6c88abfc38bda18bd5",
            "2178a52d542c4726b0bbcc7776a4d5b1",
            "fda4ff6f52834f2686bc9eb33fd6b2c5",
            "7244ebaf49e24ee191e1f4be2dde1712",
            "d46c80673a3c4b0a85767e37833f8dfa",
            "dced8437889f4b31b15b7f2bd855033b",
            "2babe1a0f2ee491485f58e4b96ff2ae3"
          ]
        },
        "id": "yrIRVeXCaoUl",
        "outputId": "4a448985-9edf-4af5-e94c-cff9640c6b7d"
      },
      "execution_count": null,
      "outputs": [
        {
          "output_type": "display_data",
          "data": {
            "text/plain": [
              "tokenizer_config.json:   0%|          | 0.00/82.0 [00:00<?, ?B/s]"
            ],
            "application/vnd.jupyter.widget-view+json": {
              "version_major": 2,
              "version_minor": 0,
              "model_id": "0387f1a5d130463cb5280085fae0075a"
            }
          },
          "metadata": {}
        },
        {
          "output_type": "display_data",
          "data": {
            "text/plain": [
              "config.json:   0%|          | 0.00/553 [00:00<?, ?B/s]"
            ],
            "application/vnd.jupyter.widget-view+json": {
              "version_major": 2,
              "version_minor": 0,
              "model_id": "9126fd8b9c19436ab862ae2f2c8a97ec"
            }
          },
          "metadata": {}
        },
        {
          "output_type": "display_data",
          "data": {
            "text/plain": [
              "spiece.model:   0%|          | 0.00/4.31M [00:00<?, ?B/s]"
            ],
            "application/vnd.jupyter.widget-view+json": {
              "version_major": 2,
              "version_minor": 0,
              "model_id": "8fe3c41390a74762abb37d644913fd1f"
            }
          },
          "metadata": {}
        },
        {
          "output_type": "display_data",
          "data": {
            "text/plain": [
              "special_tokens_map.json:   0%|          | 0.00/99.0 [00:00<?, ?B/s]"
            ],
            "application/vnd.jupyter.widget-view+json": {
              "version_major": 2,
              "version_minor": 0,
              "model_id": "16bd09f302684828bdd6aa448718f821"
            }
          },
          "metadata": {}
        },
        {
          "output_type": "stream",
          "name": "stderr",
          "text": [
            "You are using the default legacy behaviour of the <class 'transformers.models.t5.tokenization_t5.T5Tokenizer'>. This is expected, and simply means that the `legacy` (previous) behavior will be used so nothing changes for you. If you want to use the new behaviour, set `legacy=False`. This should only be set if you understand what it means, and thoroughly read the reason why this was added as explained in https://github.com/huggingface/transformers/pull/24565\n",
            "/usr/local/lib/python3.10/dist-packages/transformers/convert_slow_tokenizer.py:561: UserWarning: The sentencepiece tokenizer that you are converting to a fast tokenizer uses the byte fallback option which is not implemented in the fast tokenizers. In practice this means that the fast version of the tokenizer can produce unknown tokens whereas the sentencepiece version would have converted these unknown tokens into a sequence of byte tokens matching the original piece of text.\n",
            "  warnings.warn(\n"
          ]
        },
        {
          "output_type": "execute_result",
          "data": {
            "text/plain": [
              "True"
            ]
          },
          "metadata": {},
          "execution_count": 14
        }
      ]
    },
    {
      "cell_type": "markdown",
      "source": [
        "Сколько символов из all_chars будут непонятны для выбранного токенизатора:"
      ],
      "metadata": {
        "id": "539IVs8qpNMn"
      }
    },
    {
      "cell_type": "code",
      "source": [
        "unk_chars = [char for char in all_chars if '<unk>' in tokenizer.convert_ids_to_tokens(tokenizer(char)[\"input_ids\"])]\n",
        "print('неизвестных символов:', len(unk_chars))\n",
        "unk_chars[:10]"
      ],
      "metadata": {
        "id": "qwIND52h4kwz",
        "colab": {
          "base_uri": "https://localhost:8080/"
        },
        "outputId": "76a98748-3b92-4d20-f3d1-3021a9aa8982"
      },
      "execution_count": null,
      "outputs": [
        {
          "output_type": "stream",
          "name": "stdout",
          "text": [
            "неизвестных символов: 56\n"
          ]
        },
        {
          "output_type": "execute_result",
          "data": {
            "text/plain": [
              "['🧨', '🕢', '🚓', '🕡', '🛬', '🕗', '🫂', '🚅', '⏲', '🧤']"
            ]
          },
          "metadata": {},
          "execution_count": 29
        }
      ]
    },
    {
      "cell_type": "code",
      "source": [
        "#  для mT5 надо указать префикс, чтобы модель понимала какую задачу ей надо решать\n",
        "if model_checkpoint in [\"google/mt5-small\", \"google/mt5-base\"]:\n",
        "    prefix = \"summarize: \"  # 'суммировать: '  \"summarize: \"\n",
        "else:\n",
        "    prefix = \"\"\n",
        "\n",
        "prefix"
      ],
      "metadata": {
        "colab": {
          "base_uri": "https://localhost:8080/",
          "height": 35
        },
        "id": "2ys8mKBgaoXU",
        "outputId": "970ebf40-731a-44b4-f04a-aad6562e7848"
      },
      "execution_count": null,
      "outputs": [
        {
          "output_type": "execute_result",
          "data": {
            "text/plain": [
              "'summarize: '"
            ],
            "application/vnd.google.colaboratory.intrinsic+json": {
              "type": "string"
            }
          },
          "metadata": {},
          "execution_count": 15
        }
      ]
    },
    {
      "cell_type": "code",
      "source": [
        "# токенизируем статьи и саммари:\n",
        "\n",
        "# максимальное число токенов для статьи/саммари\n",
        "max_input_length = 768 # 512 768 1024\n",
        "max_target_length = 128\n",
        "\n",
        "def preprocess_function(examples):\n",
        "    # добавим prefix\n",
        "    examples['text'] = [prefix + doc for doc in examples[\"text\"]]\n",
        "    # input_ids + attention_mask:\n",
        "    model_inputs = tokenizer(examples['text'], max_length=max_input_length, truncation=True)\n",
        "\n",
        "    # labels:\n",
        "    labels = tokenizer(text_target=examples[\"summary\"], max_length=max_target_length, truncation=True)\n",
        "\n",
        "    model_inputs[\"labels\"] = labels[\"input_ids\"]\n",
        "    return model_inputs"
      ],
      "metadata": {
        "id": "nTTlCbUSaoaE"
      },
      "execution_count": null,
      "outputs": []
    },
    {
      "cell_type": "code",
      "source": [
        "# обработаем данные батчами:\n",
        "tokenized_datasets = dataset.map(preprocess_function, batched=True)"
      ],
      "metadata": {
        "colab": {
          "base_uri": "https://localhost:8080/",
          "height": 81,
          "referenced_widgets": [
            "5d85e51926844ef0b64d528e07cbcb31",
            "f0aeb42f4067409ba5eeb4393e25d39b",
            "1804fa2adb244c2aaaa069a4fd164be4",
            "cc6eaebcdd464eebaeee17d038412340",
            "24729a337ba84b0bac43bd169ea183d6",
            "11f73fb63d1d46cd859024d9eeea1acc",
            "e3b4184f79f84444b10671a879fecd68",
            "c597cc70cc2140edac491a820f52a0f2",
            "cf38758d387b49b988d1e4696600dec0",
            "36f5205f470545119cde5f6c5e3755fa",
            "ad21de0e96ce437c84e8aaaacdb472a4",
            "be7712c657124e77a1bd4b49cf68c45a",
            "7801140a9f004f67917205e8125fdd61",
            "8f629d232fdf4f3bb32d6f852f7becf2",
            "7ddaa180235e4c43be6b08fd63c41afb",
            "20732d0b60ac4aa09a7e5f74e3afbf97",
            "65a2f265ac6a4eb88d7e4a9e2c5ec149",
            "3538eaa1317b4e53b09f98804d827d45",
            "6a004fd280a444d3b803e8e080bb43ef",
            "c736461d8f404cf0b82ce4bdbda8e216",
            "df175529b63e4ec58ade92cf678a649b",
            "601a0925c0ed4033a4f1c9fc3f0e88aa"
          ]
        },
        "id": "jlAjLenJaocs",
        "outputId": "1a1f1cb8-ec99-4cf1-8864-461b610c9751"
      },
      "execution_count": null,
      "outputs": [
        {
          "output_type": "display_data",
          "data": {
            "text/plain": [
              "Map:   0%|          | 0/24995 [00:00<?, ? examples/s]"
            ],
            "application/vnd.jupyter.widget-view+json": {
              "version_major": 2,
              "version_minor": 0,
              "model_id": "5d85e51926844ef0b64d528e07cbcb31"
            }
          },
          "metadata": {}
        },
        {
          "output_type": "display_data",
          "data": {
            "text/plain": [
              "Map:   0%|          | 0/1316 [00:00<?, ? examples/s]"
            ],
            "application/vnd.jupyter.widget-view+json": {
              "version_major": 2,
              "version_minor": 0,
              "model_id": "be7712c657124e77a1bd4b49cf68c45a"
            }
          },
          "metadata": {}
        }
      ]
    },
    {
      "cell_type": "code",
      "source": [
        "# prefix + text:\n",
        "for i in range(3):\n",
        "  print(tokenized_datasets['train']['text'][i][:128])"
      ],
      "metadata": {
        "colab": {
          "base_uri": "https://localhost:8080/"
        },
        "id": "OhwwsS3wJHXF",
        "outputId": "9117cbbe-11fe-4a49-a0c8-a8f962d3e0c1"
      },
      "execution_count": null,
      "outputs": [
        {
          "output_type": "stream",
          "name": "stdout",
          "text": [
            "summarize: 10-й тур РПЛ уже остался в прошлом. Самое время определить лучшего футболиста, а кандидатов хватает.\n",
            "Участвуйте в гол\n",
            "summarize: Международная автомобильная федерация ФИА начала расследование возможной утечки конфиденциальной информации — и его ф\n",
            "summarize: Главный матч седьмого тура женской волейбольной Суперлиги проходил в Краснодаре. Лидер чемпионата – местное «Динамо» \n"
          ]
        }
      ]
    },
    {
      "cell_type": "code",
      "source": [
        "# удалим текстовые данные + __index_level_0__\n",
        "drop_columns = ['text', 'summary']\n",
        "if '__index_level_0__' in tokenized_datasets['test'].features.keys():\n",
        "  drop_columns.append('__index_level_0__')\n",
        "\n",
        "tokenized_datasets = tokenized_datasets.remove_columns(drop_columns)"
      ],
      "metadata": {
        "id": "nYw6jY-kxA_J"
      },
      "execution_count": null,
      "outputs": []
    },
    {
      "cell_type": "code",
      "source": [],
      "metadata": {
        "id": "Xn-OdG3Ivmfv"
      },
      "execution_count": null,
      "outputs": []
    },
    {
      "cell_type": "code",
      "source": [
        "tokenized_datasets"
      ],
      "metadata": {
        "id": "rhWmG8wRaofk",
        "colab": {
          "base_uri": "https://localhost:8080/"
        },
        "outputId": "639e0782-5197-45d4-f1be-842d3d333e63"
      },
      "execution_count": null,
      "outputs": [
        {
          "output_type": "execute_result",
          "data": {
            "text/plain": [
              "DatasetDict({\n",
              "    train: Dataset({\n",
              "        features: ['input_ids', 'attention_mask', 'labels'],\n",
              "        num_rows: 24469\n",
              "    })\n",
              "    test: Dataset({\n",
              "        features: ['input_ids', 'attention_mask', 'labels'],\n",
              "        num_rows: 1842\n",
              "    })\n",
              "})"
            ]
          },
          "metadata": {},
          "execution_count": 21
        }
      ]
    },
    {
      "cell_type": "code",
      "source": [
        "# заценим распределение числа токенов в labels\n",
        "# прикинем сколько токенов надо генерить для предсказаний (max_new_tokens и min_new_tokens):\n",
        "labels_num_tok = list(map(len, tokenized_datasets['train']['labels']))\n",
        "\n",
        "plt.hist(labels_num_tok, bins=30)\n",
        "plt.title('Распределение числа токенов для labels');"
      ],
      "metadata": {
        "colab": {
          "base_uri": "https://localhost:8080/",
          "height": 452
        },
        "id": "0FyMh65Maohs",
        "outputId": "9a071807-616e-44a9-f2b9-d58a93df2884"
      },
      "execution_count": null,
      "outputs": [
        {
          "output_type": "display_data",
          "data": {
            "text/plain": [
              "<Figure size 640x480 with 1 Axes>"
            ],
            "image/png": "[encoded data removed]"
          },
          "metadata": {}
        }
      ]
    },
    {
      "cell_type": "markdown",
      "source": [
        "35-80 токенов должно хватить, т.е. max_new_tokens=80, min_new_tokens=35"
      ],
      "metadata": {
        "id": "WgZcIkUhpHFO"
      }
    },
    {
      "cell_type": "code",
      "source": [],
      "metadata": {
        "id": "J0eYcdQyaon8"
      },
      "execution_count": null,
      "outputs": []
    },
    {
      "cell_type": "markdown",
      "source": [
        "### Импорт модели + data_collator"
      ],
      "metadata": {
        "id": "vfHbi6qizpl7"
      }
    },
    {
      "cell_type": "code",
      "source": [
        "from transformers import AutoModelForSeq2SeqLM, DataCollatorForSeq2Seq, MT5ForConditionalGeneration #, Seq2SeqTrainingArguments, Seq2SeqTrainer\n",
        "\n",
        "# импорт модели:\n",
        "model = AutoModelForSeq2SeqLM.from_pretrained(model_checkpoint)\n",
        "#model = MT5ForConditionalGeneration.from_pretrained(model_checkpoint)"
      ],
      "metadata": {
        "colab": {
          "base_uri": "https://localhost:8080/",
          "height": 81,
          "referenced_widgets": [
            "4ed2d883c91746e9ade74733bb853fb7",
            "382c3079bcdb448c9b1df3658065e0e7",
            "b536e5d4c8054671951085cae68ed088",
            "611d757f406c4971aaca5f0b8baca428",
            "1995e95d8a4944148be067566189b123",
            "1e98efe4f0cd4de0935826ea1e563c21",
            "e965d86e07b14687825ac5131df69f61",
            "52dfd51a7ec94917b96835ef86c89e4f",
            "9dc40585518c49f684a203ca618e5dc7",
            "474368fd3d4347ca8a1ee1a96e4893ba",
            "e39bff7cb12240e784b2d278cc728e34",
            "909908df257b431d80df9aecb86e3420",
            "b476035f0bc44d21a48a16f51d8d51e0",
            "adc1fe9e140244d6b72455d44bcf05b0",
            "b0b1cfa987bc436dbe2e3b3a7a9ebd60",
            "3f37e0316b7b4279a4b2bb7c1131aeeb",
            "9e91b7c4ecce4eba8210036234a6f71a",
            "cbf9559b5ee3451785357ec7a7f4eaba",
            "00ff5a90ce4a49478ac77df21ed40cf0",
            "e7b6fda5859443c9a7dfe4d0d511b82a",
            "f6c68351aedf46a6a400899053ecfba1",
            "6fb70cf0556f44b386a97f121ea1fc4b"
          ]
        },
        "id": "Rv-qYq-T0mxp",
        "outputId": "240ca4d6-e054-4ddd-de80-c7aa1c7d1de3"
      },
      "execution_count": null,
      "outputs": [
        {
          "output_type": "display_data",
          "data": {
            "text/plain": [
              "pytorch_model.bin:   0%|          | 0.00/1.20G [00:00<?, ?B/s]"
            ],
            "application/vnd.jupyter.widget-view+json": {
              "version_major": 2,
              "version_minor": 0,
              "model_id": "4ed2d883c91746e9ade74733bb853fb7"
            }
          },
          "metadata": {}
        },
        {
          "output_type": "display_data",
          "data": {
            "text/plain": [
              "generation_config.json:   0%|          | 0.00/147 [00:00<?, ?B/s]"
            ],
            "application/vnd.jupyter.widget-view+json": {
              "version_major": 2,
              "version_minor": 0,
              "model_id": "909908df257b431d80df9aecb86e3420"
            }
          },
          "metadata": {}
        }
      ]
    },
    {
      "cell_type": "markdown",
      "source": [
        "Т.к. данные подаются в модель параллельно, они должны быть одной длины.\n",
        "Добить input_ids/labels pad_token'ми до одной длины нам поможет data_collator, кроме того, он заменит pad_token'ы на -100 в labels чтобы loss их игнорил."
      ],
      "metadata": {
        "id": "PHAEqAcopc2-"
      }
    },
    {
      "cell_type": "code",
      "source": [
        "data_collator = DataCollatorForSeq2Seq(tokenizer, model=model)"
      ],
      "metadata": {
        "id": "HgBJjtMJ0sYk"
      },
      "execution_count": null,
      "outputs": []
    },
    {
      "cell_type": "code",
      "source": [],
      "metadata": {
        "id": "D4Nd84ScB-vX"
      },
      "execution_count": null,
      "outputs": []
    },
    {
      "cell_type": "markdown",
      "source": [
        "### Dataloaders:"
      ],
      "metadata": {
        "id": "l6WO5T-a08M7"
      }
    },
    {
      "cell_type": "code",
      "source": [
        "from torch.utils.data import DataLoader"
      ],
      "metadata": {
        "id": "pEAEvbKm0xDX"
      },
      "execution_count": null,
      "outputs": []
    },
    {
      "cell_type": "code",
      "source": [
        "BATCH_SIZE=8"
      ],
      "metadata": {
        "id": "oMcV_bda1Oeq"
      },
      "execution_count": null,
      "outputs": []
    },
    {
      "cell_type": "code",
      "source": [
        "train_loader = DataLoader(tokenized_datasets['train'],\n",
        "                          batch_size=BATCH_SIZE,\n",
        "                          shuffle=True,\n",
        "                          collate_fn=data_collator)\n",
        "\n",
        "\n",
        "test_loader = DataLoader(tokenized_datasets['test'],\n",
        "                          batch_size=3*BATCH_SIZE,\n",
        "                          shuffle=False,\n",
        "                          collate_fn=data_collator)"
      ],
      "metadata": {
        "id": "J8n7INar1LJZ"
      },
      "execution_count": null,
      "outputs": []
    },
    {
      "cell_type": "code",
      "source": [
        "# работает ли?\n",
        "for x_batch in test_loader:\n",
        "  break\n",
        "{k: v.shape for k,v in x_batch.items()}"
      ],
      "metadata": {
        "colab": {
          "base_uri": "https://localhost:8080/"
        },
        "id": "csDoeLtQ1ZGy",
        "outputId": "01698fb1-be3f-4f1e-a1e7-d366d4e81bba"
      },
      "execution_count": null,
      "outputs": [
        {
          "output_type": "execute_result",
          "data": {
            "text/plain": [
              "{'input_ids': torch.Size([24, 1024]),\n",
              " 'attention_mask': torch.Size([24, 1024]),\n",
              " 'labels': torch.Size([24, 70]),\n",
              " 'decoder_input_ids': torch.Size([24, 70])}"
            ]
          },
          "metadata": {},
          "execution_count": 29
        }
      ]
    },
    {
      "cell_type": "code",
      "source": [
        "# -100 в labels:\n",
        "x_batch['labels'][:2]"
      ],
      "metadata": {
        "colab": {
          "base_uri": "https://localhost:8080/"
        },
        "id": "ZwsOXZxp1hQ6",
        "outputId": "257a31ec-f21f-40d9-80d6-e4beb9ab5e80"
      },
      "execution_count": null,
      "outputs": [
        {
          "output_type": "execute_result",
          "data": {
            "text/plain": [
              "tensor([[   404,   6170,  12059, 117420,   3053,  44616,    324,   1836,   6439,\n",
              "         106816,    685,  31605,    587,   2385,   2536,  18600,   2536,    259,\n",
              "          72808,    354,    315,  12295,    279,    259, 106314,   6125,    291,\n",
              "            259,  93745,    920,    259,   4466,  55293, 175745,  34915,    388,\n",
              "            259,  14259,   1104, 100113,   1625, 143757,  33982,    259,    279,\n",
              "         172620,  28190,   4614,    259,  55173,   1011,  30425,  17951,    637,\n",
              "            260,      1,   -100,   -100,   -100,   -100,   -100,   -100,   -100,\n",
              "           -100,   -100,   -100,   -100,   -100],\n",
              "        [   404,   2080,   7912,    259,    735,  23885,    433,   4306,   3248,\n",
              "            264,  83555,    507,  14719, 147203,    637,   1836,    867,    404,\n",
              "         186655,    946,    436,   5420,   6277,   1592,    315,  38606,   4262,\n",
              "          24533,  59779,    902,    310,   1285,    605,  40066,   3888,    260,\n",
              "           1454, 238634,  15826,  12719, 232215,  17850,  68127,  32644,  12977,\n",
              "           1348,    404,  90601,    354, 167789,    436,    401,  45003,  31911,\n",
              "         199455,  39911, 200306,    817,    260,   3835,  41964,   4766,    310,\n",
              "            259,  63522,    324,    260,      1]])"
            ]
          },
          "metadata": {},
          "execution_count": 43
        }
      ]
    },
    {
      "cell_type": "code",
      "source": [],
      "metadata": {
        "id": "5eDFw_We1zyS"
      },
      "execution_count": null,
      "outputs": []
    },
    {
      "cell_type": "markdown",
      "source": [
        "### Метрики качества:\n",
        "Оценивать качество сгенерированного текста будем по двум метрикам: rouge и meteor."
      ],
      "metadata": {
        "id": "ozmiojc_15X6"
      }
    },
    {
      "cell_type": "code",
      "source": [
        "def compute_metrics(eval_pred):\n",
        "    predictions, labels = eval_pred\n",
        "\n",
        "    # Replace -100 in the predictions as we can't decode them.\n",
        "    #predictions = [np.where(l != -100, l, tokenizer.pad_token_id) for l in predictions]\n",
        "    decoded_preds = tokenizer.batch_decode(predictions, skip_special_tokens=True)\n",
        "\n",
        "    # Replace -100 in the labels as we can't decode them.\n",
        "    labels = [np.where(l != -100, l, tokenizer.pad_token_id) for l in labels]\n",
        "    decoded_labels = tokenizer.batch_decode(labels, skip_special_tokens=True)\n",
        "\n",
        "    # Rouge expects a newline after each sentence\n",
        "    decoded_preds = [\"\\n\".join(nltk.sent_tokenize(pred.strip())) for pred in decoded_preds]\n",
        "    decoded_labels = [\"\\n\".join(nltk.sent_tokenize(label.strip())) for label in decoded_labels]\n",
        "\n",
        "    result = rouge_metric.compute(predictions=decoded_preds, references=decoded_labels, use_stemmer=True)\n",
        "\n",
        "    # Add mean generated length\n",
        "    #prediction_lens = [np.count_nonzero(pred != tokenizer.pad_token_id) for pred in predictions]\n",
        "    #result[\"gen_len\"] = np.mean(prediction_lens)\n",
        "\n",
        "    result.update(meteor_metric.compute(predictions=decoded_preds, references=decoded_labels))\n",
        "    return {k: round(100*v, 4) for k, v in result.items()}"
      ],
      "metadata": {
        "id": "1SMNDYwB1_Fp"
      },
      "execution_count": null,
      "outputs": []
    },
    {
      "cell_type": "code",
      "source": [],
      "metadata": {
        "id": "dRcKUabV1_mE"
      },
      "execution_count": null,
      "outputs": []
    },
    {
      "cell_type": "markdown",
      "source": [
        "### Model to GPU/CPU:"
      ],
      "metadata": {
        "id": "YHHs_7bs4Nfi"
      }
    },
    {
      "cell_type": "code",
      "source": [
        "import torch\n",
        "from torch.optim import AdamW\n",
        "from transformers import get_linear_schedule_with_warmup\n",
        "from tqdm import tqdm"
      ],
      "metadata": {
        "id": "ypnCO-zP1_pD"
      },
      "execution_count": null,
      "outputs": []
    },
    {
      "cell_type": "code",
      "source": [
        "# device:\n",
        "device = torch.device(\"cuda\" if torch.cuda.is_available() else \"cpu\")\n",
        "device"
      ],
      "metadata": {
        "colab": {
          "base_uri": "https://localhost:8080/"
        },
        "id": "GO03rSip4J9i",
        "outputId": "24e8c9df-36be-498a-f2b3-65574e7b2180"
      },
      "execution_count": null,
      "outputs": [
        {
          "output_type": "execute_result",
          "data": {
            "text/plain": [
              "device(type='cuda')"
            ]
          },
          "metadata": {},
          "execution_count": 26
        }
      ]
    },
    {
      "cell_type": "code",
      "source": [
        "model.to(device)"
      ],
      "metadata": {
        "collapsed": true,
        "id": "r_IXLv4W4L-i",
        "colab": {
          "base_uri": "https://localhost:8080/"
        },
        "outputId": "c95b4bb8-2fb3-46b0-9452-21f98d7ac968"
      },
      "execution_count": null,
      "outputs": [
        {
          "output_type": "execute_result",
          "data": {
            "text/plain": [
              "MT5ForConditionalGeneration(\n",
              "  (shared): Embedding(250112, 512)\n",
              "  (encoder): MT5Stack(\n",
              "    (embed_tokens): Embedding(250112, 512)\n",
              "    (block): ModuleList(\n",
              "      (0): MT5Block(\n",
              "        (layer): ModuleList(\n",
              "          (0): MT5LayerSelfAttention(\n",
              "            (SelfAttention): MT5Attention(\n",
              "              (q): Linear(in_features=512, out_features=384, bias=False)\n",
              "              (k): Linear(in_features=512, out_features=384, bias=False)\n",
              "              (v): Linear(in_features=512, out_features=384, bias=False)\n",
              "              (o): Linear(in_features=384, out_features=512, bias=False)\n",
              "              (relative_attention_bias): Embedding(32, 6)\n",
              "            )\n",
              "            (layer_norm): MT5LayerNorm()\n",
              "            (dropout): Dropout(p=0.1, inplace=False)\n",
              "          )\n",
              "          (1): MT5LayerFF(\n",
              "            (DenseReluDense): MT5DenseGatedActDense(\n",
              "              (wi_0): Linear(in_features=512, out_features=1024, bias=False)\n",
              "              (wi_1): Linear(in_features=512, out_features=1024, bias=False)\n",
              "              (wo): Linear(in_features=1024, out_features=512, bias=False)\n",
              "              (dropout): Dropout(p=0.1, inplace=False)\n",
              "              (act): NewGELUActivation()\n",
              "            )\n",
              "            (layer_norm): MT5LayerNorm()\n",
              "            (dropout): Dropout(p=0.1, inplace=False)\n",
              "          )\n",
              "        )\n",
              "      )\n",
              "      (1-7): 7 x MT5Block(\n",
              "        (layer): ModuleList(\n",
              "          (0): MT5LayerSelfAttention(\n",
              "            (SelfAttention): MT5Attention(\n",
              "              (q): Linear(in_features=512, out_features=384, bias=False)\n",
              "              (k): Linear(in_features=512, out_features=384, bias=False)\n",
              "              (v): Linear(in_features=512, out_features=384, bias=False)\n",
              "              (o): Linear(in_features=384, out_features=512, bias=False)\n",
              "            )\n",
              "            (layer_norm): MT5LayerNorm()\n",
              "            (dropout): Dropout(p=0.1, inplace=False)\n",
              "          )\n",
              "          (1): MT5LayerFF(\n",
              "            (DenseReluDense): MT5DenseGatedActDense(\n",
              "              (wi_0): Linear(in_features=512, out_features=1024, bias=False)\n",
              "              (wi_1): Linear(in_features=512, out_features=1024, bias=False)\n",
              "              (wo): Linear(in_features=1024, out_features=512, bias=False)\n",
              "              (dropout): Dropout(p=0.1, inplace=False)\n",
              "              (act): NewGELUActivation()\n",
              "            )\n",
              "            (layer_norm): MT5LayerNorm()\n",
              "            (dropout): Dropout(p=0.1, inplace=False)\n",
              "          )\n",
              "        )\n",
              "      )\n",
              "    )\n",
              "    (final_layer_norm): MT5LayerNorm()\n",
              "    (dropout): Dropout(p=0.1, inplace=False)\n",
              "  )\n",
              "  (decoder): MT5Stack(\n",
              "    (embed_tokens): Embedding(250112, 512)\n",
              "    (block): ModuleList(\n",
              "      (0): MT5Block(\n",
              "        (layer): ModuleList(\n",
              "          (0): MT5LayerSelfAttention(\n",
              "            (SelfAttention): MT5Attention(\n",
              "              (q): Linear(in_features=512, out_features=384, bias=False)\n",
              "              (k): Linear(in_features=512, out_features=384, bias=False)\n",
              "              (v): Linear(in_features=512, out_features=384, bias=False)\n",
              "              (o): Linear(in_features=384, out_features=512, bias=False)\n",
              "              (relative_attention_bias): Embedding(32, 6)\n",
              "            )\n",
              "            (layer_norm): MT5LayerNorm()\n",
              "            (dropout): Dropout(p=0.1, inplace=False)\n",
              "          )\n",
              "          (1): MT5LayerCrossAttention(\n",
              "            (EncDecAttention): MT5Attention(\n",
              "              (q): Linear(in_features=512, out_features=384, bias=False)\n",
              "              (k): Linear(in_features=512, out_features=384, bias=False)\n",
              "              (v): Linear(in_features=512, out_features=384, bias=False)\n",
              "              (o): Linear(in_features=384, out_features=512, bias=False)\n",
              "            )\n",
              "            (layer_norm): MT5LayerNorm()\n",
              "            (dropout): Dropout(p=0.1, inplace=False)\n",
              "          )\n",
              "          (2): MT5LayerFF(\n",
              "            (DenseReluDense): MT5DenseGatedActDense(\n",
              "              (wi_0): Linear(in_features=512, out_features=1024, bias=False)\n",
              "              (wi_1): Linear(in_features=512, out_features=1024, bias=False)\n",
              "              (wo): Linear(in_features=1024, out_features=512, bias=False)\n",
              "              (dropout): Dropout(p=0.1, inplace=False)\n",
              "              (act): NewGELUActivation()\n",
              "            )\n",
              "            (layer_norm): MT5LayerNorm()\n",
              "            (dropout): Dropout(p=0.1, inplace=False)\n",
              "          )\n",
              "        )\n",
              "      )\n",
              "      (1-7): 7 x MT5Block(\n",
              "        (layer): ModuleList(\n",
              "          (0): MT5LayerSelfAttention(\n",
              "            (SelfAttention): MT5Attention(\n",
              "              (q): Linear(in_features=512, out_features=384, bias=False)\n",
              "              (k): Linear(in_features=512, out_features=384, bias=False)\n",
              "              (v): Linear(in_features=512, out_features=384, bias=False)\n",
              "              (o): Linear(in_features=384, out_features=512, bias=False)\n",
              "            )\n",
              "            (layer_norm): MT5LayerNorm()\n",
              "            (dropout): Dropout(p=0.1, inplace=False)\n",
              "          )\n",
              "          (1): MT5LayerCrossAttention(\n",
              "            (EncDecAttention): MT5Attention(\n",
              "              (q): Linear(in_features=512, out_features=384, bias=False)\n",
              "              (k): Linear(in_features=512, out_features=384, bias=False)\n",
              "              (v): Linear(in_features=512, out_features=384, bias=False)\n",
              "              (o): Linear(in_features=384, out_features=512, bias=False)\n",
              "            )\n",
              "            (layer_norm): MT5LayerNorm()\n",
              "            (dropout): Dropout(p=0.1, inplace=False)\n",
              "          )\n",
              "          (2): MT5LayerFF(\n",
              "            (DenseReluDense): MT5DenseGatedActDense(\n",
              "              (wi_0): Linear(in_features=512, out_features=1024, bias=False)\n",
              "              (wi_1): Linear(in_features=512, out_features=1024, bias=False)\n",
              "              (wo): Linear(in_features=1024, out_features=512, bias=False)\n",
              "              (dropout): Dropout(p=0.1, inplace=False)\n",
              "              (act): NewGELUActivation()\n",
              "            )\n",
              "            (layer_norm): MT5LayerNorm()\n",
              "            (dropout): Dropout(p=0.1, inplace=False)\n",
              "          )\n",
              "        )\n",
              "      )\n",
              "    )\n",
              "    (final_layer_norm): MT5LayerNorm()\n",
              "    (dropout): Dropout(p=0.1, inplace=False)\n",
              "  )\n",
              "  (lm_head): Linear(in_features=512, out_features=250112, bias=False)\n",
              ")"
            ]
          },
          "metadata": {},
          "execution_count": 27
        }
      ]
    },
    {
      "cell_type": "code",
      "source": [],
      "metadata": {
        "id": "CdpcvfksCLOI"
      },
      "execution_count": null,
      "outputs": []
    },
    {
      "cell_type": "markdown",
      "source": [
        "### Оценим кач-во модели без fine-tuning'а"
      ],
      "metadata": {
        "id": "fFmxXt1p1_0M"
      }
    },
    {
      "cell_type": "code",
      "source": [
        "# eval:\n",
        "datasets = {'test': test_loader}\n",
        "#_ = 0\n",
        "\n",
        "model.eval()\n",
        "for name, dataset in datasets.items():\n",
        "  eval_pred = []\n",
        "  eval_true = []\n",
        "  for x_batch in tqdm(dataset):\n",
        "    #_ += 1\n",
        "    x_batch = {k: v.to(device) for k,v in x_batch.items()}\n",
        "    with torch.no_grad():\n",
        "      output = model.generate(**{k: v for k,v in x_batch.items() if k in ('input_ids', 'attention_mask')},\n",
        "                             max_new_tokens=80,\n",
        "                             min_new_tokens=35,\n",
        "                             no_repeat_ngram_size=2,\n",
        "                             num_beams=7,\n",
        "                             early_stopping=True\n",
        "      )\n",
        "\n",
        "    y_pred = output.cpu().numpy()\n",
        "    y_true = x_batch['labels'].cpu().numpy()\n",
        "    eval_pred.extend(y_pred)\n",
        "    eval_true.extend(y_true)\n",
        "\n",
        "    #if _ == 50:\n",
        "    #  break\n",
        "\n",
        "  # evaluate metrics:\n",
        "  scores = compute_metrics((eval_pred, eval_true))\n",
        "  print(model_checkpoint)\n",
        "  print(scores)"
      ],
      "metadata": {
        "colab": {
          "base_uri": "https://localhost:8080/"
        },
        "id": "ry7gTuD62IQX",
        "outputId": "064a977b-0362-40bb-f628-c271bc4e1d0d"
      },
      "execution_count": null,
      "outputs": [
        {
          "output_type": "stream",
          "name": "stderr",
          "text": [
            "100%|██████████| 165/165 [13:55<00:00,  5.07s/it]\n"
          ]
        },
        {
          "output_type": "stream",
          "name": "stdout",
          "text": [
            "google/mt5-small\n",
            "{'rouge1': 3.3631, 'rouge2': 0.5423, 'rougeL': 3.3597, 'rougeLsum': 3.3765, 'meteor': 9.0854}\n"
          ]
        }
      ]
    },
    {
      "cell_type": "code",
      "source": [
        "#                                    google/mt5-small:\n",
        "# {'rouge1': 2.3104, 'rouge2': 0.3825, 'rougeL': 2.2953, 'rougeLsum': 2.2987, 'meteor': 7.2858}\n"
      ],
      "metadata": {
        "id": "XJuls2QG2JNz"
      },
      "execution_count": null,
      "outputs": []
    },
    {
      "cell_type": "code",
      "source": [
        "# примеры генерации текста на последнем батче:\n",
        "text_gen = tokenizer.batch_decode(y_pred, skip_special_tokens=True)"
      ],
      "metadata": {
        "id": "ehfdF_L02JGb"
      },
      "execution_count": null,
      "outputs": []
    },
    {
      "cell_type": "code",
      "source": [
        "text_gen"
      ],
      "metadata": {
        "colab": {
          "base_uri": "https://localhost:8080/"
        },
        "id": "-2coyK6p6lAu",
        "outputId": "32942dc2-9388-429d-ad5c-326eb9483431"
      },
      "execution_count": null,
      "outputs": [
        {
          "output_type": "execute_result",
          "data": {
            "text/plain": [
              "['<extra_id_0> на ЧМ-2022 звучали из всех европейских стран – Швейцарии, Латвии, Финляндии и т.д..',\n",
              " '<extra_id_0> сказал: «Я не обращался, потому что он получил травму». Квинси Промес и обвинил его в покушении',\n",
              " '<extra_id_0> о российском теннисе и также обозначено три важнейшие темы: выступление спортсменов на личных турнирах.',\n",
              " '<extra_id_0> и т.д. будет очень интересно показать себя перед скаутами клубов из топ-чемпионатов мира по футболу.',\n",
              " '<extra_id_0> очень событийный аргентинец оказался в финале чемпионата Европы в Неаполе и сыграли в первом же туре.',\n",
              " '<extra_id_0> на первых минутах матча с словенцами. Словакия проиграла Англии 0:1. В этом случае не было никаких изменений.',\n",
              " '<extra_id_0> оказался провалом Петра Яна в бою с Мерабом Двалишвили. Это было бы очень интересно. В итоге... <extra_id_10>',\n",
              " '<extra_id_0> Медведев описал свои ощущения от нахождения на турнире категории ATP-500 в Дубае . <extra_id_10>.com.ua/',\n",
              " '<extra_id_0> не будет. Это всё! 😂 - именно так оказались три матча Кубка России. В Пути РПЛ.',\n",
              " '<extra_id_0> уже давно стало известно Forbes.com.ua именно такими людьми. <extra_id_51> Мартин: Да не может забросить через Брона.',\n",
              " '<extra_id_0> точно так же менялось расположение тройки в таблице: 🥇 «Зенит» – 30 туров на первом месте. 🥈 «Спартак»']"
            ]
          },
          "metadata": {},
          "execution_count": 53
        }
      ]
    },
    {
      "cell_type": "markdown",
      "source": [
        "Результаты ниже плинтуса, попробуем их улучшить."
      ],
      "metadata": {
        "id": "Ps2cU18PqFMn"
      }
    },
    {
      "cell_type": "code",
      "source": [],
      "metadata": {
        "id": "6ikv63KM6rcm"
      },
      "execution_count": null,
      "outputs": []
    },
    {
      "cell_type": "markdown",
      "source": [
        "### Fine-tuning модели:\n",
        "Используем обучающую выборку для настройки моделей на генерацию заголовков в стиле Чемпионат.com"
      ],
      "metadata": {
        "id": "2WbYCnH42JVT"
      }
    },
    {
      "cell_type": "code",
      "source": [
        "# optimizer:\n",
        "optim = AdamW(params=model.parameters(), lr=3e-4, weight_decay=0.01)"
      ],
      "metadata": {
        "id": "NPBZ7Nqf2NaT"
      },
      "execution_count": null,
      "outputs": []
    },
    {
      "cell_type": "code",
      "source": [
        "# scheduler:\n",
        "# линейно уменьшаем темп обучения (lr)\n",
        "N_epochs = 1\n",
        "n_train_steps = len(train_loader) * (N_epochs + 2)\n",
        "\n",
        "lr_scheduler = get_linear_schedule_with_warmup(\n",
        "    optimizer=optim,\n",
        "    num_warmup_steps=0,\n",
        "    num_training_steps=n_train_steps)"
      ],
      "metadata": {
        "id": "P633W9Mg85ho"
      },
      "execution_count": null,
      "outputs": []
    },
    {
      "cell_type": "code",
      "source": [
        "# train/eval loops:\n",
        "loss_hist = [] # train loss history\n",
        "#eval_loss_hist = [] # train loss history\n",
        "N_samples_eval = len(test_loader)\n",
        "N_samples_train = len(train_loader)\n",
        "\n",
        "for epoch in range(1, N_epochs+1):\n",
        "  train_loss = 0\n",
        "  model.train()\n",
        "  for x_batch in tqdm(train_loader):\n",
        "    # to device:\n",
        "    x_batch = {k: v.to(device) for k,v in x_batch.items()}\n",
        "\n",
        "    optim.zero_grad()\n",
        "    output = model(**x_batch)\n",
        "    output['loss'].backward()\n",
        "    # clip grads:\n",
        "    #torch.nn.utils.clip_grad_norm_(model.parameters(), 1.0)\n",
        "\n",
        "    optim.step()\n",
        "\n",
        "    # get and save loss:\n",
        "    loss = output['loss'].detach().cpu().item()\n",
        "    loss_hist.append(loss)\n",
        "    train_loss += loss\n",
        "\n",
        "    # scheduler step:\n",
        "    lr_scheduler.step()\n",
        "\n",
        "  #_ = 0\n",
        "\n",
        "  # eval:\n",
        "  eval_pred = []\n",
        "  eval_true = []\n",
        "  model.eval()\n",
        "  for x_batch in tqdm(test_loader):\n",
        "    #_ += 1\n",
        "    x_batch = {k: v.to(device) for k,v in x_batch.items()}\n",
        "    with torch.no_grad():\n",
        "      output = model.generate(**{k: v for k,v in x_batch.items() if k in ('input_ids', 'attention_mask')},\n",
        "                              max_new_tokens=80,\n",
        "                              no_repeat_ngram_size=2,\n",
        "                              min_new_tokens=35,              #  no_repeat_ngram_size=2\n",
        "                              num_beams=10,                    # или добавить рандомности: top_p=0.9, top_k=20, do_sample=True\n",
        "                              early_stopping=True\n",
        "      )\n",
        "    y_pred = output.cpu().numpy()\n",
        "    y_true = x_batch['labels'].cpu().numpy()\n",
        "    eval_pred.extend(y_pred)\n",
        "    eval_true.extend(y_true)\n",
        "\n",
        "    #if _ == 50:\n",
        "    #  break\n",
        "  # evaluate metrics:\n",
        "  scores = compute_metrics((eval_pred, eval_true))\n",
        "\n",
        "  print(f'\\nepoch: {epoch}')\n",
        "  print(f'train loss: {round(train_loss/N_samples_train, 5)}')\n",
        "  print(scores)\n",
        "  print()"
      ],
      "metadata": {
        "id": "HPG-Thqe881Y",
        "colab": {
          "base_uri": "https://localhost:8080/"
        },
        "outputId": "4649c59a-399b-4612-d564-52140e4a88fc"
      },
      "execution_count": null,
      "outputs": [
        {
          "output_type": "stream",
          "name": "stderr",
          "text": [
            "  0%|          | 0/3125 [00:00<?, ?it/s]Passing a tuple of `past_key_values` is deprecated and will be removed in Transformers v4.48.0. You should pass an instance of `EncoderDecoderCache` instead, e.g. `past_key_values=EncoderDecoderCache.from_legacy_cache(past_key_values)`.\n",
            "100%|██████████| 3125/3125 [39:15<00:00,  1.33it/s]\n",
            "100%|██████████| 55/55 [11:57<00:00, 13.04s/it]\n"
          ]
        },
        {
          "output_type": "stream",
          "name": "stdout",
          "text": [
            "\n",
            "epoch: 1\n",
            "train loss: 4.09639\n",
            "{'rouge1': 9.6377, 'rouge2': 1.639, 'rougeL': 9.4917, 'rougeLsum': 9.5841, 'meteor': 15.483}\n",
            "\n"
          ]
        }
      ]
    },
    {
      "cell_type": "markdown",
      "source": [
        "качество саммаризации не очень, но прогресс, в сравнении с тем что было до fine-tuning'а очевиден."
      ],
      "metadata": {
        "id": "4sNUNbQ3qvp_"
      }
    },
    {
      "cell_type": "code",
      "source": [
        "#                                          google/mt5-small:\n",
        "# epoch: 1\n",
        "#train loss: 4.3258\n",
        "#{'rouge1': 10.4084, 'rouge2': 2.1722, 'rougeL': 10.3017, 'rougeLsum': 10.4099, 'meteor': 15.3521}\n"
      ],
      "metadata": {
        "id": "Bb7x3GvIAdQd"
      },
      "execution_count": null,
      "outputs": []
    },
    {
      "cell_type": "code",
      "source": [
        "plt.plot(loss_hist)\n",
        "plt.title('Train loss history')\n",
        "plt.xlabel('# iter')\n",
        "plt.ylabel('loss');"
      ],
      "metadata": {
        "id": "3Wyzi_3l9OG1",
        "colab": {
          "base_uri": "https://localhost:8080/",
          "height": 472
        },
        "outputId": "139cc4ab-73cf-4cfd-eb56-b142133e0fba"
      },
      "execution_count": null,
      "outputs": [
        {
          "output_type": "display_data",
          "data": {
            "text/plain": [
              "<Figure size 640x480 with 1 Axes>"
            ],
            "image/png": "[encoded data removed]"
          },
          "metadata": {}
        }
      ]
    },
    {
      "cell_type": "markdown",
      "source": [
        "Примеры генерации заголовков"
      ],
      "metadata": {
        "id": "eGknRHyHq3VW"
      }
    },
    {
      "cell_type": "code",
      "source": [
        "# примеры генерации заголовков из последнего батча:\n",
        "text_gen = tokenizer.batch_decode(y_pred, skip_special_tokens=True)"
      ],
      "metadata": {
        "id": "bck_ukjf9F3I"
      },
      "execution_count": null,
      "outputs": []
    },
    {
      "cell_type": "code",
      "source": [
        "# google/mt5-small:\n",
        "text_gen"
      ],
      "metadata": {
        "id": "5O8rnURYHEJ_",
        "colab": {
          "base_uri": "https://localhost:8080/"
        },
        "outputId": "279dc674-4427-44cd-e76e-a8a34ad6650e"
      },
      "execution_count": null,
      "outputs": [
        {
          "output_type": "execute_result",
          "data": {
            "text/plain": [
              "['«Реал» выиграл в Лиге чемпионов. Навас впервые забил «Клермону» и вышел на рынок свободных агентов, а всё ещё ждёт возвращение в Париж.',\n",
              " 'Уильямс на «Ролан Гаррос» — 2018 вышла из декрета. Мария Шарапова и Серена уехали из-за травмы руки.',\n",
              " '«Чемпионат» выиграл лучший нокаут в истории бокса. Поединок за титул Уртадо в полусреднем весе.',\n",
              " '«Ролан Гаррос» и «Лилль» в Пекине. Лучшие события 1 октября в Матч-центре «Чемпионата». Россиянка Кудерметова одержала второй титул в карьере.',\n",
              " 'В матче «Динамо» и «Локомотив» в Баку. Что происходит в сезоне, а теперь ещё не будет.',\n",
              " '«Сент-Луис» выиграл Кубок Стэнли. Российский вратарь одержал первый трофей в истории НХЛ.',\n",
              " '«Ливерпуль» сыграет в финал Лиги чемпионов. Леброн Джеймс — лучший клуб мира. Что происходит в прошлом сезоне.',\n",
              " '«Астон Мартин» покинул «Феррари» в Формуле-1. Фернандо Алонсо и его родная команда уже не стали лучшими.',\n",
              " 'Вадим Немков вернулся в тяжёлый вес, а ещё один из главных вопросов карьеры легендарного Фёдора Емельяненко.',\n",
              " 'Медведев в полуфинале Итогового чемпионата ATP — 2020 в Лондоне. Даниил проиграл на матче с Надалем. В трансляции субботы понедельника в воскресенье.',\n",
              " '«Авангард» вышел в плей-офф КХЛ. Итоги дня в регулярном чемпионате лиги. «Автомобилист» и «Ак Барс» проиграли в первом матче.',\n",
              " '«Химки» вышли в плей-офф Единой лиги ВТБ. Итоги дня матча с «Локомотивом» и «Скайлайнерс» в финале Еврокубка.',\n",
              " 'В Нижнем Новгороде не было ничего удивительного. «Зенит» и «Белогорье» всё-таки попал в финал плей-офф чемпионата России.',\n",
              " 'Стефанос Циципас ответил на очень интересный вопрос после поражения от болгарина Григора Димитрова в полуфинале «Мастерса» в Париже.',\n",
              " '«Торпедо» и «Ак Барс» — главные тренеры первого месяца регулярки КХЛ. Игорь Ларионов в Нижнем Новгороде пытается создать уникальную систему.',\n",
              " 'Уоткинс и Саутгейт. Развязка второго полуфинала Евро-2024 войдёт в историю. Что происходит на Евро.',\n",
              " '«Вашингтон» не может принимать участия в Олимпиадах настоящего. Вспоминаем, о причинах провала в НХЛ.',\n",
              " '«Мастерс» в Париже провёл четвертьфинальные матчи. Карен Хачанов впервые вышел на «тысячнике», а в третьем круге одержал волевую победу над Димитровом.',\n",
              " '«Милан» вышел в полуфинал Лиги чемпионов. «Интер» снова проиграл в финале. Команда Симоне Индзаги вышла в плей-офф.',\n",
              " 'В Лас-Вегасе завершился грандиозный турнир по профессиональному боксу. Спенс и Кроуфорд вышли на главный поединок в карьере за звание абсолютного чемпиона мира.']"
            ]
          },
          "metadata": {},
          "execution_count": 33
        }
      ]
    },
    {
      "cell_type": "code",
      "source": [],
      "metadata": {
        "id": "7JEvdLZF_SR-"
      },
      "execution_count": null,
      "outputs": []
    },
    {
      "cell_type": "markdown",
      "source": [
        "Качество модели получилось низким, это связано с тем, что решаемая задача больше относится к генерации заголовков, а не к саммари статей.\n",
        "Заголовки с большой натяжкой можно отождествить саммари, тем не менее, в качестве упражнения - ок. Для улучшения предсказаний нужно собрать значительно больше данных."
      ],
      "metadata": {
        "id": "AVl1xDAnkvUu"
      }
    },
    {
      "cell_type": "code",
      "source": [
        "# Самое главное - увеличить объем данных.\n",
        "# Добавить обрезанные части статей как новые с теми же заголовками (увеличим датасет ~ 2 раза) ?\n",
        "# Кроме того, попробовать сделать больше эпох, обрезать градиенты, подобрать гиперпараметры оптимизатора и scheduler'a ...\n",
        "# To be continued..."
      ],
      "metadata": {
        "id": "rfeZ28ybHEwO"
      },
      "execution_count": null,
      "outputs": []
    },
    {
      "cell_type": "code",
      "source": [],
      "metadata": {
        "id": "lDnaMKv1V7X4"
      },
      "execution_count": null,
      "outputs": []
    },
    {
      "cell_type": "code",
      "source": [],
      "metadata": {
        "id": "gKW8w5qllFWr"
      },
      "execution_count": null,
      "outputs": []
    }
  ]
}